{
 "cells": [
  {
   "cell_type": "markdown",
   "metadata": {},
   "source": [
    "Refer to https://d2l.ai to an (almost) complete review about Deep Learning.\n",
    "\n",
    "We use the [TensorFlow](https://www.tensorflow.org/) framework. In particular, the [Keras](https://keras.io/) dialect (sub-package of TensorFlow)."
   ]
  },
  {
   "cell_type": "markdown",
   "metadata": {},
   "source": [
    "# Brief recap of Dense NN\n",
    "\n",
    "A Dense Neural Network model is defined as a sequence of *dense layers*. \n",
    "\n",
    "Each dense layer is a fully-connected layer which consists in a vector $I \\in R^{1xn}$ of $n$ inputs (i.e. *input neurons*) and a vector $O \\in R^{1xm}$ of $m$ outputs (i.e. *output neurons*).\n",
    "\n",
    "Each output neuron takes input from all input neurons, with a weigth corresponding to each input neuron: vector $W \\in R^{1xn}$ of $n$ weigths. In addition, each output neuron has also a bias $b$ (scalar). The value of the output neuron is computed as $o = I*W+b$, where $I*W$ is the dot product.\n",
    "\n",
    "We have $m$ output neurons, with independent weigths. So, on the whole, we have a matrix $W \\in R^{nxm}$ of weigths. In addition, each output neuron has its own bias: vector $B$ of $m$ biases. Therefore, on the whole the dense layer computes the following operation: $O = I*W+B$, where $I*B$ is the rows-by-columns product.\n",
    "\n",
    "The matrix $W$ plus the vector $B$ are the parameters of the layer. They are the parameters that must be learnt. \n",
    "\n",
    "Finally, in addition to all that, an activation function $\\sigma$ can be applied: $O = \\sigma(I*W+B)$.\n",
    "\n",
    "Without the activation function, a dense layer simply computes a linear operation. The aim of the activation function is mainly to add non-linearity into out layer, in order to make it more powerful and expressive."
   ]
  },
  {
   "cell_type": "markdown",
   "metadata": {
    "id": "B8wSwJnsjx5P"
   },
   "source": [
    "# FirstDenseNN MNISTdataset\n",
    "\n",
    "A first example of a simple Dense Neural Network, applied to a well known dataset: the MNIST dataset.\n",
    "\n",
    "The classic MNIST dataset is a dataset about images representing handwritten digits. \n",
    "\n",
    "Basically, there are $N$ images. Each image represents a certain digit. Each digit represents a certain number among $0, 1, ..., 9$.\n",
    "\n",
    "Each image is labeled with the digit represented by that image. This is the class of the image. $10$ different classes: $0, 1, ..., 9$."
   ]
  },
  {
   "cell_type": "markdown",
   "metadata": {},
   "source": [
    "## IMPORTING LIBRARIES\n",
    "\n",
    "As always, the first thing we need to do is importing libraries."
   ]
  },
  {
   "cell_type": "code",
   "execution_count": 1,
   "metadata": {
    "id": "3wMZ2Ge6jw1E"
   },
   "outputs": [],
   "source": [
    "# Utilities\n",
    "import numpy as np\n",
    "import matplotlib.pyplot as plt\n",
    "\n",
    "# Deep Learning\n",
    "import tensorflow as tf\n",
    "from tensorflow import keras\n",
    "\n",
    "# Import keras dataset Mnist\n",
    "from tensorflow.keras.datasets import mnist"
   ]
  },
  {
   "cell_type": "markdown",
   "metadata": {},
   "source": [
    "## LOAD THE DATASET"
   ]
  },
  {
   "cell_type": "markdown",
   "metadata": {
    "id": "FDiNppLVkvqd"
   },
   "source": [
    "Let us load the mnist dataset. It is already splitted into train-test."
   ]
  },
  {
   "cell_type": "code",
   "execution_count": 2,
   "metadata": {
    "colab": {
     "base_uri": "https://localhost:8080/"
    },
    "id": "wL8GyC0Nk14o",
    "outputId": "2fb5509c-8d5f-4a87-e9b8-3cf691280518"
   },
   "outputs": [],
   "source": [
    "(x_train, y_train), (x_test, y_test) = mnist.load_data()"
   ]
  },
  {
   "cell_type": "markdown",
   "metadata": {},
   "source": [
    "Let's check the dimensions of the dataset."
   ]
  },
  {
   "cell_type": "code",
   "execution_count": 3,
   "metadata": {},
   "outputs": [
    {
     "name": "stdout",
     "output_type": "stream",
     "text": [
      "There are 60000 samples in the training set\n",
      "There are 10000 samples in the test set\n"
     ]
    }
   ],
   "source": [
    "print('There are {} samples in the training set'.format(x_train.shape[0]))\n",
    "print('There are {} samples in the test set'.format(x_test.shape[0]))"
   ]
  },
  {
   "cell_type": "markdown",
   "metadata": {},
   "source": [
    "### Input data `x`"
   ]
  },
  {
   "cell_type": "markdown",
   "metadata": {},
   "source": [
    "Let's better inspect the input data `x`. \n",
    "\n",
    "Each instance is an greyscale image, with $28*28$ pixels. \n",
    "\n",
    "For example, let's see the shape of the first instance."
   ]
  },
  {
   "cell_type": "code",
   "execution_count": 4,
   "metadata": {},
   "outputs": [
    {
     "data": {
      "text/plain": [
       "(28, 28)"
      ]
     },
     "execution_count": 4,
     "metadata": {},
     "output_type": "execute_result"
    }
   ],
   "source": [
    "x_train[0].shape"
   ]
  },
  {
   "cell_type": "markdown",
   "metadata": {},
   "source": [
    "Each pixel has a value in the range $[0,255]$."
   ]
  },
  {
   "cell_type": "code",
   "execution_count": 5,
   "metadata": {},
   "outputs": [
    {
     "name": "stdout",
     "output_type": "stream",
     "text": [
      "Range of the values in x_train: [0,255]\n",
      "Range of the values in x_test: [0,255]\n"
     ]
    }
   ],
   "source": [
    "print('Range of the values in x_train: [{},{}]'.format(x_train.min(),x_train.max()))\n",
    "print('Range of the values in x_test: [{},{}]'.format(x_test.min(),x_test.max()))"
   ]
  },
  {
   "cell_type": "markdown",
   "metadata": {},
   "source": [
    "Let's see the image representation of the first instance of the training set."
   ]
  },
  {
   "cell_type": "code",
   "execution_count": 6,
   "metadata": {},
   "outputs": [
    {
     "data": {
      "text/plain": [
       "<matplotlib.image.AxesImage at 0x1c81359fdc0>"
      ]
     },
     "execution_count": 6,
     "metadata": {},
     "output_type": "execute_result"
    },
    {
     "data": {
      "image/png": "[encoded data removed]",
      "text/plain": [
       "<Figure size 432x288 with 1 Axes>"
      ]
     },
     "metadata": {
      "needs_background": "light"
     },
     "output_type": "display_data"
    }
   ],
   "source": [
    "plt.imshow(x_train[0])"
   ]
  },
  {
   "cell_type": "markdown",
   "metadata": {},
   "source": [
    "So, each instance in `x` is a matrix. This means that the input data `x` (both the `x_train` and the `x_test`) is a tensor (i.e. it has 3 dimensions)."
   ]
  },
  {
   "cell_type": "code",
   "execution_count": 7,
   "metadata": {},
   "outputs": [
    {
     "name": "stdout",
     "output_type": "stream",
     "text": [
      "x_train dimensions: (60000, 28, 28)\n",
      "x_test dimensions: (10000, 28, 28)\n"
     ]
    }
   ],
   "source": [
    "print('x_train dimensions:', x_train.shape)\n",
    "print('x_test dimensions:', x_test.shape)"
   ]
  },
  {
   "cell_type": "markdown",
   "metadata": {},
   "source": [
    "### Target vector `y`"
   ]
  },
  {
   "cell_type": "markdown",
   "metadata": {},
   "source": [
    "The target vector `y` contains the label/class of each image. In other words, it contains the digit represented by each image.\n",
    "\n",
    "In total, there are $10$ different classes, represented as numbers: $0, 1, ..., 9$. They are the $10$ different digits."
   ]
  },
  {
   "cell_type": "code",
   "execution_count": 8,
   "metadata": {},
   "outputs": [
    {
     "data": {
      "text/plain": [
       "array([0, 1, 2, 3, 4, 5, 6, 7, 8, 9], dtype=uint8)"
      ]
     },
     "execution_count": 8,
     "metadata": {},
     "output_type": "execute_result"
    }
   ],
   "source": [
    "np.unique(y_train)"
   ]
  },
  {
   "cell_type": "markdown",
   "metadata": {},
   "source": [
    "Let's see the label of the first image in the training set."
   ]
  },
  {
   "cell_type": "code",
   "execution_count": 9,
   "metadata": {},
   "outputs": [
    {
     "data": {
      "text/plain": [
       "5"
      ]
     },
     "execution_count": 9,
     "metadata": {},
     "output_type": "execute_result"
    }
   ],
   "source": [
    "y_train[0]"
   ]
  },
  {
   "cell_type": "markdown",
   "metadata": {},
   "source": [
    "## PRE-PROCESSING"
   ]
  },
  {
   "cell_type": "markdown",
   "metadata": {},
   "source": [
    "Some pre-processing operations must be performed."
   ]
  },
  {
   "cell_type": "markdown",
   "metadata": {},
   "source": [
    "### 1) Normalization of the input data `x`"
   ]
  },
  {
   "cell_type": "markdown",
   "metadata": {},
   "source": [
    "The values in `x` (both `x_train` and `x_test`) are in the range $[0,255]$. We want to normalize these values into the range $[0,1]$. Remapping the values into the range $[0,1]$.\n",
    "\n",
    "Why do we do that? Because the computations becomes faster, easier, and it improves the results. "
   ]
  },
  {
   "cell_type": "markdown",
   "metadata": {},
   "source": [
    "For doing this transformation, we simply use the **MinMaxScaling technique**. Basically, we take each value `x_{ij}` of `x`, we subtract the min of `x` and we divide by the difference between the max value of `x` and the min value of `x`. In this way we get the new value $x'_{ij}$.\n",
    "\n",
    "$x'_{ij} = \\frac{x_{ij} - x_{min}}{x_{max}-x_{min}}$\n",
    "\n",
    "Doing this transformation, all the values in `x` are now in the range $[0,1]$."
   ]
  },
  {
   "cell_type": "markdown",
   "metadata": {},
   "source": [
    "We apply this transformation both in the training set `x_train` and in the test set `x_test`."
   ]
  },
  {
   "cell_type": "code",
   "execution_count": 10,
   "metadata": {},
   "outputs": [],
   "source": [
    "x_train = (x_train - x_train.min()) / ( x_train.max() - x_train.min())\n",
    "\n",
    "x_test = (x_test - x_test.min()) / ( x_test.max() - x_test.min())"
   ]
  },
  {
   "cell_type": "code",
   "execution_count": 11,
   "metadata": {},
   "outputs": [
    {
     "name": "stdout",
     "output_type": "stream",
     "text": [
      "Range of the values in x_train: [0.0,1.0]\n",
      "Range of the values in x_test: [0.0,1.0]\n"
     ]
    }
   ],
   "source": [
    "print('Range of the values in x_train: [{},{}]'.format(x_train.min(),x_train.max()))\n",
    "print('Range of the values in x_test: [{},{}]'.format(x_test.min(),x_test.max()))"
   ]
  },
  {
   "cell_type": "markdown",
   "metadata": {},
   "source": [
    "**N.B.**\n",
    "\n",
    "Since the min value of both `x_train` and `x_test` is $0$ (and the maximum is $255$), the MinMaxScaling operation could have been simply achieved in the following way."
   ]
  },
  {
   "cell_type": "code",
   "execution_count": 12,
   "metadata": {},
   "outputs": [],
   "source": [
    "x_train = x_train / 255.0\n",
    "x_test = x_test / 255.0"
   ]
  },
  {
   "cell_type": "markdown",
   "metadata": {},
   "source": [
    "### 2) Flattening of the input data `x`"
   ]
  },
  {
   "cell_type": "markdown",
   "metadata": {},
   "source": [
    "The instances in the input data `x` are bidimensional structures: they are images. They are $28*28$ matrices.\n",
    "\n",
    "Since we are using dense layers, we need to flat the images into one-dimensional vectors with $28*28=784$ elements. (Dense layers work with a flat input)."
   ]
  },
  {
   "cell_type": "markdown",
   "metadata": {},
   "source": [
    "We can do that in two ways.\n",
    "1. We modify the input data `x` (both training and test) in such a way that each instance now is the flat representation of an image. Each instance now is a vector with $28*28=784$ values. So, we modify our input data `x`.\n",
    "2. We don't modify our input data `x`, but we keep it as it is: the instances are images. However, we add in the beginning of the NN a special layer whose purpose is to flat the image received in input (FlatLayer). Layer which takes a $28*28$ image and flats it into a vector with length $784$.\n",
    "\n",
    "In this notebook we use the first way. In the next notebooks we will use the second way. *The second is in general better, because we don't need to pre-process our input data `x`: our input data `x` is kept as it is*."
   ]
  },
  {
   "cell_type": "markdown",
   "metadata": {},
   "source": [
    "For reshaping the input data `x` we use the NumPy `reshape` method."
   ]
  },
  {
   "cell_type": "code",
   "execution_count": 13,
   "metadata": {
    "id": "a8uA2Kp7mG9s"
   },
   "outputs": [],
   "source": [
    "# Flattening each image in the training set\n",
    "x_train = np.reshape(x_train, (60000,28*28)) \n",
    "\n",
    "# Flattening each image in the test set\n",
    "x_test = np.reshape(x_test, (10000,28*28))"
   ]
  },
  {
   "cell_type": "markdown",
   "metadata": {},
   "source": [
    "### 3) Transforming `y` into the categorical distribution"
   ]
  },
  {
   "cell_type": "markdown",
   "metadata": {
    "id": "Yjrzmhgh3TZv"
   },
   "source": [
    "The output of the network will be a probability distribution over the different labels. Basically, given an image, the output of the Neural Network is a vector $[p_0, p_1, ..., p_9]$, where $p_i$ is the probability that this image has label $i$. In other words, it is the probability that this image represents the digit $i$. The sum of all these probabilities is $1$. This vector is called **(predicted) categorical distribution** of that image. To sum up, the output of the NN, given an image, is the predicted categorical distribution of that image.\n",
    "\n",
    "\n",
    "For this reason, we have to change the dataset. We transform the target vector $y$ (both training and test). Each element now is not a single label, but it is a vector $[p_0, p_1, ..., p_9]$. If an image represents the digit $i$, then its corresponding vector in $y$ is $[0, 0, ..., 1, ..., 0]$: the only element different from $0$ is the element with index $i$. This vector is the true categorical distribution of that image: it has probaility $1$ for the label $i$, and $0$ for all the others.\n",
    "\n",
    "The training objective will consist in minimizing the distance between the true categorical distributions and the predicted ones. The distance between two categorical distribution is the **categorical crossentropy**."
   ]
  },
  {
   "cell_type": "markdown",
   "metadata": {},
   "source": [
    "For doing this transformation, we use the Keras utility function `to_categorical`."
   ]
  },
  {
   "cell_type": "code",
   "execution_count": 14,
   "metadata": {
    "colab": {
     "base_uri": "https://localhost:8080/"
    },
    "id": "bhzWUm0UnODb",
    "outputId": "e0cf94cf-aabf-4d35-f84e-b481d72c10ec"
   },
   "outputs": [
    {
     "name": "stdout",
     "output_type": "stream",
     "text": [
      "First image in the training set, value contained in 'y': 5\n",
      "First image in the training set, value contained in 'y': [0. 0. 0. 0. 0. 1. 0. 0. 0. 0.]\n"
     ]
    }
   ],
   "source": [
    "# Tranforming the vector y, both training and test.\n",
    "\n",
    "print('First image in the training set, value contained in \\'y\\':', y_train[0])\n",
    "\n",
    "# Transforming y_train into y_train_cat\n",
    "y_train_cat = keras.utils.to_categorical(y_train)\n",
    "print('First image in the training set, value contained in \\'y\\':', y_train_cat[0])\n",
    "\n",
    "# Transforming y_test into y_test_cat\n",
    "y_test_cat = keras.utils.to_categorical(y_test)"
   ]
  },
  {
   "cell_type": "markdown",
   "metadata": {},
   "source": [
    "## FIRST NEURAL NETWORK"
   ]
  },
  {
   "cell_type": "markdown",
   "metadata": {
    "id": "9Ya_bpK_ubIq"
   },
   "source": [
    "Let's build the first NN. For now, we use a dense NN. Dense layers."
   ]
  },
  {
   "cell_type": "markdown",
   "metadata": {},
   "source": [
    "### Introduction"
   ]
  },
  {
   "cell_type": "markdown",
   "metadata": {},
   "source": [
    "We use two kinds of keras layers: `Input`, for defining the input layer of the NN; `Dense`, for defining the dense layers of the NN.\n",
    "\n",
    "We also have to import `Model`, which is the keras class used for defining the NN. Basically, our NN will be an instance of this class."
   ]
  },
  {
   "cell_type": "code",
   "execution_count": 15,
   "metadata": {
    "id": "WZF2FlLI3lGT"
   },
   "outputs": [],
   "source": [
    "from tensorflow.keras.layers import Input, Dense  # Import Layers from Keras\n",
    "from tensorflow.keras.models import Model  # Class for defining the NN"
   ]
  },
  {
   "cell_type": "markdown",
   "metadata": {},
   "source": [
    "We define the model by concatenating the layers that we want."
   ]
  },
  {
   "cell_type": "markdown",
   "metadata": {},
   "source": [
    "### Define the NN"
   ]
  },
  {
   "cell_type": "markdown",
   "metadata": {
    "id": "sfeZF3bUrFZf"
   },
   "source": [
    "Our first Netwok just has the input layer and the output layer. The output layer is a dense layer.\n",
    "\n",
    "The input layer has $28*28=784$ nodes, representing the pixels of the given image (flat image, no bidimensional structure).\n",
    "\n",
    "The output layer has $10$ nodes, corresponding to the $10$ outputs of the neural network. Basicaly, each output is a real number in $[0,1]$, representing the probability that the given image has that label (categorical distribution).\n",
    "\n",
    "The activation function of the output layer is the softmax. The softmax activation function is important in the output layer, because it ensures us that: each output of the NN is between $0$ and $1$ (i.e. it is a probability); the sum of all the outputs of the NN is $1$. Basically, softmax ensures us that the output of the NN is a probability distribution, over the different classes (i.e. categorical distribution). The softmax is a generalization of the sigmoid, since the sigmoid is applied when the NN has a single output and it simply ensures that this output is between $0$ and $1$. Softmax: is used when the NN has a single output; sigmoid: is used when the NN has more outputs. (This at least for classification problems).\n",
    "\n",
    "So, both the number of neurons and the activation function of the output dense layer are mandatory. The user does not have much to choose.\n",
    "\n",
    "*Since there is only one output layer, which is a dense layer with softmax activation function, this basic neural network basically implements logistic regression.*"
   ]
  },
  {
   "cell_type": "code",
   "execution_count": 16,
   "metadata": {
    "id": "hBJtMj2pqJiR"
   },
   "outputs": [],
   "source": [
    "# Input layer. Each input instance x_i is a flat image: vector with 28*28=784 values.\n",
    "xin = Input(shape=(784))  \n",
    "\n",
    "# Output layer. It is a dense layer, with 10 neurons. The activation function is 'softmax'.\n",
    "res = Dense(units=10, activation='softmax')(xin)  \n",
    "\n",
    "# We define out model: instance of the class Model\n",
    "model = Model(inputs=xin, outputs=res)"
   ]
  },
  {
   "cell_type": "markdown",
   "metadata": {},
   "source": [
    "Let's see the summary of the NN.\n",
    "\n",
    "The summary shows the layers of the network. For each layer, it shows the kind of the layer, the shape of the output (i.e. number of nodes) and the number of parameters (i.e. number of weigths)."
   ]
  },
  {
   "cell_type": "code",
   "execution_count": 17,
   "metadata": {
    "colab": {
     "base_uri": "https://localhost:8080/"
    },
    "id": "hXD5JT2ZrTJc",
    "outputId": "36886e01-b9bb-4729-a1ad-257e43f09726"
   },
   "outputs": [
    {
     "name": "stdout",
     "output_type": "stream",
     "text": [
      "Model: \"model\"\n",
      "_________________________________________________________________\n",
      " Layer (type)                Output Shape              Param #   \n",
      "=================================================================\n",
      " input_1 (InputLayer)        [(None, 784)]             0         \n",
      "                                                                 \n",
      " dense (Dense)               (None, 10)                7850      \n",
      "                                                                 \n",
      "=================================================================\n",
      "Total params: 7,850\n",
      "Trainable params: 7,850\n",
      "Non-trainable params: 0\n",
      "_________________________________________________________________\n"
     ]
    }
   ],
   "source": [
    "model.summary()"
   ]
  },
  {
   "cell_type": "markdown",
   "metadata": {},
   "source": [
    "1. Input layer. Dimensions: ($784$). The number of parameters is $0$.\n",
    "\n",
    "2. Output layer. It is a dense layer. Dimensions of the output: ($10$) (i.e. $10$ neurons).. The number of parameters of the output layer is $7850$. This because each neuron is fully connected to all the $784$ nodes of the previous layer: so, each neuron has $784$ inputs. In addition, each node of the output layer has also the bias. So, each neuron of the output layer has $785$ parameters. Since there are $10$ neurons in the output layer, on the whole there are $10*785=7850$ parameters.\n",
    "\n",
    "On the whole, there are $7850$ parameters."
   ]
  },
  {
   "cell_type": "markdown",
   "metadata": {},
   "source": [
    "### Insights\n",
    "\n",
    "Let's see some insights."
   ]
  },
  {
   "cell_type": "markdown",
   "metadata": {},
   "source": [
    "**1. Python object returned by the application of a layer.**\n",
    "\n",
    "The object returned by the application of a layer represents not the layer, but the output of the layer."
   ]
  },
  {
   "cell_type": "code",
   "execution_count": null,
   "metadata": {},
   "outputs": [],
   "source": [
    "x_out = Dense(...)(x_in)"
   ]
  },
  {
   "cell_type": "markdown",
   "metadata": {},
   "source": [
    "`x_out` represents the output of the application of the defined Dense layer on the input `x_in`. So, both `x_in` and\n",
    "`x_out` are vectors (in general tensors).\n",
    "\n",
    "So, `x_out` does not represent the Dense layer. The object representing the Dense layer is `Dense(...)(x_in)`. Indeed, the name of the layer (i.e. `Dense`) is a class constructor.\n",
    "\n",
    "Typically, we keep only one variable `x`, and we overwrite it."
   ]
  },
  {
   "cell_type": "code",
   "execution_count": null,
   "metadata": {},
   "outputs": [],
   "source": [
    "x = Dense(...)(x)"
   ]
  },
  {
   "cell_type": "markdown",
   "metadata": {},
   "source": [
    "**2. Batch dimension**\n",
    "\n",
    "The NNs in keras work with an additional dimensions: the batch dimension.\n",
    "\n",
    "Even if our data don't have this dimension (as it is typical), the NNs implicitely add this dimension to the data we give to them. This dimension is added as first dimension: `(B, ...)`, where `B` is the batch dimension.\n",
    "\n",
    "The batch dimension represents the number of instances. Number of instances we are processing. Number of instances in a batch. It is the batch size.\n",
    "\n",
    "When we ask for the summary of our NN, for each layer we see the simensions of the output of that layer: the first shown dimension is the batch dimension: `(B, ...)`.\n",
    "\n",
    "Typically, when defining our NN, we don't define the batch dimension. We leave it unspecified as `None`. This means that the NN can work with any batch dimension."
   ]
  },
  {
   "cell_type": "code",
   "execution_count": 17,
   "metadata": {
    "colab": {
     "base_uri": "https://localhost:8080/"
    },
    "id": "hXD5JT2ZrTJc",
    "outputId": "36886e01-b9bb-4729-a1ad-257e43f09726"
   },
   "outputs": [
    {
     "name": "stdout",
     "output_type": "stream",
     "text": [
      "Model: \"model\"\n",
      "_________________________________________________________________\n",
      " Layer (type)                Output Shape              Param #   \n",
      "=================================================================\n",
      " input_1 (InputLayer)        [(None, 784)]             0         \n",
      "                                                                 \n",
      " dense (Dense)               (None, 10)                7850      \n",
      "                                                                 \n",
      "=================================================================\n",
      "Total params: 7,850\n",
      "Trainable params: 7,850\n",
      "Non-trainable params: 0\n",
      "_________________________________________________________________\n"
     ]
    }
   ],
   "source": [
    "model.summary()"
   ]
  },
  {
   "cell_type": "markdown",
   "metadata": {},
   "source": [
    "**3. Leaving unspecified a dimension**\n",
    "\n",
    "When defining a NN, we can leave unspecified any dimension: we simply put that dimensions as `None`. Undefined dimension.\n",
    "\n",
    "This means that the NN is able to work woth any possible value of that dimension. It can accept any possible value of that dimension."
   ]
  },
  {
   "cell_type": "markdown",
   "metadata": {},
   "source": [
    "**4. Specify the dimensions**\n",
    "\n",
    "The dimensions of the data in our NN are basically specified only in the Input layer. Then, in all the other layers, the dimensions are inferred from the input on which the layer has been applied.\n",
    "\n",
    "So, the Input layer is the place where the dimensions are specified. If we want, we can leave some dimensions unspecified (i.e. `None`): these dimensions will be unspecified in all the other layers (for a \"cascade\" effect)."
   ]
  },
  {
   "cell_type": "markdown",
   "metadata": {},
   "source": [
    "**5. Activation function**\n",
    "\n",
    "The activation function can be specified also outside the layer. So, we don't specify any activation function in the layer (no activation function), and we use an additional layer which simply applies the activation function.\n",
    "\n",
    "Example: layer `Softmax`, which simply applies the activation function."
   ]
  },
  {
   "cell_type": "code",
   "execution_count": null,
   "metadata": {},
   "outputs": [],
   "source": [
    "x = Dense(...)(x)  # No activation function\n",
    "x = Softmax()(x)  # Softmax activation function"
   ]
  },
  {
   "cell_type": "markdown",
   "metadata": {},
   "source": [
    "### Compile the NN"
   ]
  },
  {
   "cell_type": "markdown",
   "metadata": {},
   "source": [
    "Before training the NN, we need to compile it. Compiling a NN means defining the loss function and the optimizer. `compile` method."
   ]
  },
  {
   "cell_type": "markdown",
   "metadata": {},
   "source": [
    "**Loss function**\n",
    "\n",
    "The **loss function** is the function that we want to minimize with the training procedure. Basically, it is the function which computes the distance between true value and the corresponding predicted value, for each input instance. \n",
    "\n",
    "In our case, the true value is the actual categorical distribution, while the predicted value is the predicted categorical distribution.\n",
    "\n",
    "For this reason, as loss function, with use the **sparse categorical crossentropy**.\n",
    "\n",
    "*The loss function is an hyperparameter of the NN.*"
   ]
  },
  {
   "cell_type": "markdown",
   "metadata": {},
   "source": [
    "**Optimizer**\n",
    "\n",
    "The **optimizer** is the component which is in charge of governing the details of the training algorithm (i.e. backpropagation algorithm).\n",
    "\n",
    "The most used optimizer in the literature is **Adam**, which is a powerful variant to the classic Stochastic Gradient Descent. Adam implements an ADAptive learning rate with Momentum. \n",
    "\n",
    "Other optimizier can be choose, for example:\n",
    "* SGD -> Stochastic Gradient Descent\n",
    "* RMSprop\n",
    "* Adadelta\n",
    "* Adagrad\n",
    "\n",
    "For a deep explanation on optimizers, refer to https://arxiv.org/abs/1606.04838 .\n",
    "\n",
    "For an explanation of the different kind of optimizers, refer to the official documentation https://keras.io/api/optimizers/"
   ]
  },
  {
   "cell_type": "code",
   "execution_count": 18,
   "metadata": {},
   "outputs": [],
   "source": [
    "from tensorflow.keras.optimizers import Adam  # We import the optimizer"
   ]
  },
  {
   "cell_type": "markdown",
   "metadata": {},
   "source": [
    "When specifying the Adam optimizer, we can specify the learning rate. The default value is $0.001$.\n",
    "\n",
    "*The optimizer and the learning rate are hyperparameters of the NN.*"
   ]
  },
  {
   "cell_type": "markdown",
   "metadata": {},
   "source": [
    "**Metrics**\n",
    "\n",
    "Loss function and optimizer are the two mandatory arguments of the `compile` method.\n",
    "\n",
    "Optionally, we can specify additional metrics, mostly meant for monitoring the training process. Basically, these metrics are not used for the training process (only the loss function is used). But simply these are metrics that we want to keep track during the training process, simply for curiosity.\n",
    "\n",
    "*During training, these metrics are computed both on the training set and on the validation set, if one is specified.*\n",
    "\n",
    "Now we specify only one additional metric: the accuracy."
   ]
  },
  {
   "cell_type": "markdown",
   "metadata": {},
   "source": [
    "**Compiling the NN**"
   ]
  },
  {
   "cell_type": "code",
   "execution_count": 19,
   "metadata": {
    "colab": {
     "base_uri": "https://localhost:8080/"
    },
    "id": "bKrXXctDyHzV",
    "outputId": "c1c08b5a-3a57-48cc-a4b4-071c04a281ba"
   },
   "outputs": [],
   "source": [
    "model.compile(optimizer=Adam(learning_rate=1e-2), loss='categorical_crossentropy', metrics='accuracy')"
   ]
  },
  {
   "cell_type": "markdown",
   "metadata": {},
   "source": [
    "**Alternative way of specifying the optimizer**"
   ]
  },
  {
   "cell_type": "code",
   "execution_count": 20,
   "metadata": {},
   "outputs": [],
   "source": [
    "# NOT EXECUTED\n",
    "\n",
    "# model.compile(optimizer='adam', loss='categorical_crossentropy', metrics='accuracy')"
   ]
  },
  {
   "cell_type": "markdown",
   "metadata": {},
   "source": [
    "### Training the NN"
   ]
  },
  {
   "cell_type": "markdown",
   "metadata": {
    "id": "E58bT-Imvsw2"
   },
   "source": [
    "Finally, we fit the model over the training set. `fit` method.\n",
    "\n",
    "`fit` just requires two arguments: training input data, i.e. `x_train`; and target vector of the training data, i.e. `y_train` (the ground truth of the training data).\n",
    "\n",
    "N.B.: we have to remember to pass `y_train_cat` instead of `y_train`."
   ]
  },
  {
   "cell_type": "markdown",
   "metadata": {},
   "source": [
    "Additionally, we can specify:\n",
    "- the batch size, which is the number of instances in each mini-batch (default is $32$);\n",
    "- the number of epochs, which is the number of full passes over all the training set;\n",
    "- the validation set. \n",
    "\n",
    "*The batch size and the number of epochs are hyperparameters of the NN.*\n",
    "\n",
    "Passing a validation set allows the training procedure to measure loss, and optional additional metrics, both on the training set and on the validation set, at the end of each epoch.\n",
    "\n",
    "In our case, we pass our test set `x_test,y_test` as validation set. N.B.: we have to remember to pass `y_test_cat` instead of `y_test`."
   ]
  },
  {
   "cell_type": "code",
   "execution_count": 21,
   "metadata": {
    "colab": {
     "base_uri": "https://localhost:8080/"
    },
    "id": "l2woDXbbr6ak",
    "outputId": "493cdebc-26fc-454f-d664-f1f1a60c1043"
   },
   "outputs": [
    {
     "name": "stdout",
     "output_type": "stream",
     "text": [
      "Epoch 1/10\n",
      "1875/1875 [==============================] - 3s 1ms/step - loss: 1.5214 - accuracy: 0.7423 - val_loss: 1.0206 - val_accuracy: 0.8359\n",
      "Epoch 2/10\n",
      "1875/1875 [==============================] - 3s 2ms/step - loss: 0.8422 - accuracy: 0.8417 - val_loss: 0.6809 - val_accuracy: 0.8647\n",
      "Epoch 3/10\n",
      "1875/1875 [==============================] - 3s 2ms/step - loss: 0.6228 - accuracy: 0.8655 - val_loss: 0.5403 - val_accuracy: 0.8804\n",
      "Epoch 4/10\n",
      "1875/1875 [==============================] - 4s 2ms/step - loss: 0.5204 - accuracy: 0.8779 - val_loss: 0.4682 - val_accuracy: 0.8913\n",
      "Epoch 5/10\n",
      "1875/1875 [==============================] - 3s 1ms/step - loss: 0.4630 - accuracy: 0.8854 - val_loss: 0.4245 - val_accuracy: 0.8959\n",
      "Epoch 6/10\n",
      "1875/1875 [==============================] - 3s 2ms/step - loss: 0.4272 - accuracy: 0.8907 - val_loss: 0.3966 - val_accuracy: 0.9006\n",
      "Epoch 7/10\n",
      "1875/1875 [==============================] - 3s 2ms/step - loss: 0.4024 - accuracy: 0.8948 - val_loss: 0.3765 - val_accuracy: 0.9043\n",
      "Epoch 8/10\n",
      "1875/1875 [==============================] - 3s 2ms/step - loss: 0.3844 - accuracy: 0.8980 - val_loss: 0.3631 - val_accuracy: 0.9047\n",
      "Epoch 9/10\n",
      "1875/1875 [==============================] - 4s 2ms/step - loss: 0.3707 - accuracy: 0.8996 - val_loss: 0.3497 - val_accuracy: 0.9075\n",
      "Epoch 10/10\n",
      "1875/1875 [==============================] - 4s 2ms/step - loss: 0.3597 - accuracy: 0.9022 - val_loss: 0.3417 - val_accuracy: 0.9085\n"
     ]
    },
    {
     "data": {
      "text/plain": [
       "<keras.callbacks.History at 0x1c8104cad00>"
      ]
     },
     "execution_count": 21,
     "metadata": {},
     "output_type": "execute_result"
    }
   ],
   "source": [
    "model.fit(x_train, y_train_cat, batch_size=32, epochs=10, validation_data=(x_test,y_test_cat), shuffle=True)"
   ]
  },
  {
   "cell_type": "markdown",
   "metadata": {},
   "source": [
    "$10$ epochs. Since the batch_size is $32$, each epoch has $60000/32 = 1875$ steps. ($60000$ is the number of samples in the training set)."
   ]
  },
  {
   "cell_type": "markdown",
   "metadata": {},
   "source": [
    "At the end of each epoch, several information are shown:\n",
    "- the time; \n",
    "- `loss`, which is the loss on the training data;\n",
    "- `accuracy`, which is the accuracy on the training data;\n",
    "- `val_loss`, which is the loss on the validation data (i.e. test data in this case);\n",
    "- `val_accuracy`, which is the accuracy on the validation data (i.e. test data in this case)."
   ]
  },
  {
   "cell_type": "markdown",
   "metadata": {},
   "source": [
    "Final results.\n",
    "- Loss on the training set is $0.2511$, while the accuracy is $0.9308$.\n",
    "- Loss on the test set is $0.2686$, while the accuracy is $0.9251$."
   ]
  },
  {
   "cell_type": "markdown",
   "metadata": {},
   "source": [
    "### Insight about the `fit` method"
   ]
  },
  {
   "cell_type": "markdown",
   "metadata": {},
   "source": [
    "The `fit` method is incremental. This means that we can apply multiple times the `fit` method on the same model.\n",
    "\n",
    "Another application of the `fit` method on the same model simply updates the weigths, starting from the weigths which we got from the first `fit`. Incremental update of the weigths.\n",
    "\n",
    "This can be very useful. Also because to the second application of `fit` we can specify different arguments."
   ]
  },
  {
   "cell_type": "markdown",
   "metadata": {},
   "source": [
    "## ANOTHER NEURAL NETWORK"
   ]
  },
  {
   "cell_type": "markdown",
   "metadata": {},
   "source": [
    "Let's now try to use a more complex network.\n",
    "\n",
    "We use an additional hidden layer in between the input and output layers. As hidden layer, we use a dense layer with $128$ nodes. As activation function we use relu.\n",
    "\n",
    "*In the hidden layer it is not mandatory to use the softmax activation function, since we don't need to have a probability distribution as output.*\n",
    "\n",
    "The number of nodes and the activation function of the hidden layer are an hyperparameter of the network. As the number of hidden layers, and many other things."
   ]
  },
  {
   "cell_type": "code",
   "execution_count": 22,
   "metadata": {
    "id": "k0mBuorMulG5"
   },
   "outputs": [],
   "source": [
    "xin = Input(shape=(784))  # Input layer\n",
    "x = Dense(units=128, activation='relu')(xin)  # Hidden layer\n",
    "res = Dense(units=10, activation='softmax')(x)  # Output layer\n",
    "\n",
    "model = Model(inputs=xin, outputs=res)"
   ]
  },
  {
   "cell_type": "code",
   "execution_count": 23,
   "metadata": {
    "colab": {
     "base_uri": "https://localhost:8080/"
    },
    "id": "SpMyvw7buzhT",
    "outputId": "bb66d7c4-39fa-4a9b-891d-ea7f1662bd41"
   },
   "outputs": [
    {
     "name": "stdout",
     "output_type": "stream",
     "text": [
      "Model: \"model_1\"\n",
      "_________________________________________________________________\n",
      " Layer (type)                Output Shape              Param #   \n",
      "=================================================================\n",
      " input_2 (InputLayer)        [(None, 784)]             0         \n",
      "                                                                 \n",
      " dense_1 (Dense)             (None, 128)               100480    \n",
      "                                                                 \n",
      " dense_2 (Dense)             (None, 10)                1290      \n",
      "                                                                 \n",
      "=================================================================\n",
      "Total params: 101,770\n",
      "Trainable params: 101,770\n",
      "Non-trainable params: 0\n",
      "_________________________________________________________________\n"
     ]
    }
   ],
   "source": [
    "model.summary()"
   ]
  },
  {
   "cell_type": "markdown",
   "metadata": {},
   "source": [
    "In the summary we can see that we have three layers.\n",
    "1. Input layer. $784$ nodes. No parameters.\n",
    "2. Hidden layer. It is a dense layer. $128$ nodes. $785*128=100480$ parameters. (Each node has 784 inputs and 1 bias, and we have $128$ neurons).\n",
    "3. Output layer. It is a dense layer. $10$ nodes. $129*10$ parameters. (Each node has $128$ inputs and $1$ bias, and we have $10$ neurons).\n",
    "\n",
    "On the whole, $101770$ parameters."
   ]
  },
  {
   "cell_type": "markdown",
   "metadata": {},
   "source": [
    "**COMPILE THE NETWORK**"
   ]
  },
  {
   "cell_type": "code",
   "execution_count": 24,
   "metadata": {
    "id": "rYg0odW2u6cn"
   },
   "outputs": [],
   "source": [
    "model.compile(optimizer='adam', loss='categorical_crossentropy', metrics=['accuracy'])"
   ]
  },
  {
   "cell_type": "markdown",
   "metadata": {},
   "source": [
    "**TRAIN THE NETWORK**"
   ]
  },
  {
   "cell_type": "code",
   "execution_count": 25,
   "metadata": {
    "colab": {
     "base_uri": "https://localhost:8080/"
    },
    "id": "KDnzgIZVvGOm",
    "outputId": "cb25ba03-19bb-4197-de31-790e50c39cb5"
   },
   "outputs": [
    {
     "name": "stdout",
     "output_type": "stream",
     "text": [
      "Epoch 1/10\n",
      "1875/1875 [==============================] - 5s 2ms/step - loss: 1.1658 - accuracy: 0.7240 - val_loss: 0.5823 - val_accuracy: 0.8579\n",
      "Epoch 2/10\n",
      "1875/1875 [==============================] - 4s 2ms/step - loss: 0.4816 - accuracy: 0.8750 - val_loss: 0.3988 - val_accuracy: 0.8952\n",
      "Epoch 3/10\n",
      "1875/1875 [==============================] - 5s 2ms/step - loss: 0.3800 - accuracy: 0.8959 - val_loss: 0.3416 - val_accuracy: 0.9051\n",
      "Epoch 4/10\n",
      "1875/1875 [==============================] - 4s 2ms/step - loss: 0.3405 - accuracy: 0.9043 - val_loss: 0.3151 - val_accuracy: 0.9102\n",
      "Epoch 5/10\n",
      "1875/1875 [==============================] - 4s 2ms/step - loss: 0.3182 - accuracy: 0.9098 - val_loss: 0.3036 - val_accuracy: 0.9151\n",
      "Epoch 6/10\n",
      "1875/1875 [==============================] - 4s 2ms/step - loss: 0.3033 - accuracy: 0.9135 - val_loss: 0.2874 - val_accuracy: 0.9168\n",
      "Epoch 7/10\n",
      "1875/1875 [==============================] - 5s 2ms/step - loss: 0.2915 - accuracy: 0.9163 - val_loss: 0.2788 - val_accuracy: 0.9197\n",
      "Epoch 8/10\n",
      "1875/1875 [==============================] - 3s 2ms/step - loss: 0.2814 - accuracy: 0.9193 - val_loss: 0.2715 - val_accuracy: 0.9231\n",
      "Epoch 9/10\n",
      "1875/1875 [==============================] - 3s 2ms/step - loss: 0.2723 - accuracy: 0.9222 - val_loss: 0.2669 - val_accuracy: 0.9240\n",
      "Epoch 10/10\n",
      "1875/1875 [==============================] - 3s 2ms/step - loss: 0.2639 - accuracy: 0.9243 - val_loss: 0.2561 - val_accuracy: 0.9271\n"
     ]
    },
    {
     "data": {
      "text/plain": [
       "<keras.callbacks.History at 0x1c811a6ab50>"
      ]
     },
     "execution_count": 25,
     "metadata": {},
     "output_type": "execute_result"
    }
   ],
   "source": [
    "model.fit(x_train, y_train_cat, batch_size=32, epochs=10, validation_data=(x_test,y_test_cat), shuffle=True)"
   ]
  },
  {
   "cell_type": "markdown",
   "metadata": {
    "id": "UcUKxCzKwzG9"
   },
   "source": [
    "An amazing improvement. WOW!\n",
    "\n",
    "Indeed, now:\n",
    "- the loss on the training set is $0.0152$ (before was $0.2511$) and the accuracy is $0.9953$ (before was $0.9308$);\n",
    "- the loss on the test set is $0.0828$ (before was $0.2686$) and the accuracy is $0.9764$ (before was $0.9251$)."
   ]
  },
  {
   "cell_type": "markdown",
   "metadata": {},
   "source": [
    "## APPLYING THE NN AND EVALUATING IT"
   ]
  },
  {
   "cell_type": "markdown",
   "metadata": {},
   "source": [
    "### Applying the NN"
   ]
  },
  {
   "cell_type": "markdown",
   "metadata": {},
   "source": [
    "Once we have trained a NN, we can apply it to other instances, for predicting their class. This application is performed using the `predict` method."
   ]
  },
  {
   "cell_type": "markdown",
   "metadata": {},
   "source": [
    "**Application on a single instance**\n",
    "\n",
    "Let's see the application on a signle instance. As example, we take the first instance of the test set (we could have taken also the first instance of the training set, but the test set is of course mor interesting).\n",
    "\n",
    "So, we give in input to the NN the first instance in `x_test`. And the NN returns us the predicted categorical distribution for that instance (i.e. the probabilities of that instance of belonging to the different classes)."
   ]
  },
  {
   "cell_type": "code",
   "execution_count": 26,
   "metadata": {},
   "outputs": [
    {
     "data": {
      "text/plain": [
       "<matplotlib.image.AxesImage at 0x1c812ae5af0>"
      ]
     },
     "execution_count": 26,
     "metadata": {},
     "output_type": "execute_result"
    },
    {
     "data": {
      "image/png": "[encoded data removed]",
      "text/plain": [
       "<Figure size 432x288 with 1 Axes>"
      ]
     },
     "metadata": {
      "needs_background": "light"
     },
     "output_type": "display_data"
    }
   ],
   "source": [
    "instance = x_test[0]\n",
    "\n",
    "plt.imshow(np.reshape(instance, (28,28)) )"
   ]
  },
  {
   "cell_type": "markdown",
   "metadata": {},
   "source": [
    "*The true class of that image is clearly $7$.*"
   ]
  },
  {
   "cell_type": "code",
   "execution_count": 27,
   "metadata": {},
   "outputs": [
    {
     "data": {
      "text/plain": [
       "array([[9.8983837e-05, 7.4795485e-09, 1.1581890e-04, 3.9711050e-03,\n",
       "        5.2573228e-07, 7.0129638e-05, 3.9099519e-09, 9.9496245e-01,\n",
       "        1.1723895e-05, 7.6934497e-04]], dtype=float32)"
      ]
     },
     "execution_count": 27,
     "metadata": {},
     "output_type": "execute_result"
    }
   ],
   "source": [
    "predicted_cat_distr = model.predict(np.expand_dims(instance, 0))\n",
    "predicted_cat_distr"
   ]
  },
  {
   "cell_type": "markdown",
   "metadata": {},
   "source": [
    "Finally, the predicted class is the one corresponding to the highest probability in the categorical distribution."
   ]
  },
  {
   "cell_type": "code",
   "execution_count": 28,
   "metadata": {},
   "outputs": [
    {
     "data": {
      "text/plain": [
       "7"
      ]
     },
     "execution_count": 28,
     "metadata": {},
     "output_type": "execute_result"
    }
   ],
   "source": [
    "predicted_class = np.argmax(predicted_cat_distr)\n",
    "predicted_class"
   ]
  },
  {
   "cell_type": "markdown",
   "metadata": {},
   "source": [
    "Correct!!! The predicted class is correct."
   ]
  },
  {
   "cell_type": "markdown",
   "metadata": {},
   "source": [
    "**Application on more instances at the same time  TODO**\n",
    "\n",
    "The NN can also be applied to more instances at the same time.\n",
    "\n",
    "Let's take the first $20$ instances of the valdiation set."
   ]
  },
  {
   "cell_type": "code",
   "execution_count": 23,
   "metadata": {},
   "outputs": [],
   "source": [
    "instances = x_test[:20]"
   ]
  },
  {
   "cell_type": "code",
   "execution_count": 25,
   "metadata": {},
   "outputs": [],
   "source": [
    "# predicted_cat_distr = model.predict(np.expand_dims(instances, 0))\n",
    "# predicted_cat_distr"
   ]
  },
  {
   "cell_type": "markdown",
   "metadata": {},
   "source": [
    "### Evaluating the NN"
   ]
  },
  {
   "cell_type": "markdown",
   "metadata": {},
   "source": [
    "Once we have trained a NN, we can evaluate it to other instances, for getting an evaluation score. This is perfomed using the `evaluate` method."
   ]
  },
  {
   "cell_type": "markdown",
   "metadata": {},
   "source": [
    "The `evaluate` method takes in input a dataset `x',y'`: it is typically different from the training set and from the validation set (it is typically the test set). And it computes the value of the loss function and of the optional additional metrics (e.g. accuracy)."
   ]
  },
  {
   "cell_type": "markdown",
   "metadata": {},
   "source": [
    "For instance, let's apply it this method on the test set. (Even if we have already used this set as validation set). \n",
    "\n",
    "*We have always to remember to use `y_test_cat`*."
   ]
  },
  {
   "cell_type": "code",
   "execution_count": 29,
   "metadata": {},
   "outputs": [
    {
     "name": "stdout",
     "output_type": "stream",
     "text": [
      "313/313 [==============================] - 0s 1ms/step - loss: 0.2561 - accuracy: 0.9271\n"
     ]
    },
    {
     "data": {
      "text/plain": [
       "[0.2561188340187073, 0.9271000027656555]"
      ]
     },
     "execution_count": 29,
     "metadata": {},
     "output_type": "execute_result"
    }
   ],
   "source": [
    "model.evaluate(x_test, y_test_cat)"
   ]
  },
  {
   "cell_type": "markdown",
   "metadata": {},
   "source": [
    "## HISTORY OF THE TRAINING AND PLOTTING THE RESULTS"
   ]
  },
  {
   "cell_type": "markdown",
   "metadata": {},
   "source": [
    "### History of the training"
   ]
  },
  {
   "cell_type": "markdown",
   "metadata": {},
   "source": [
    "The `fit` method returns and object which contains the history of the training process. It contains the loss function and the additional optional metrics computed both on the training and on the validation set. They are computed with respect to each epoch (i.e. at the end of each epch).\n",
    "\n",
    "In our case, the history of the training contains:\n",
    "- `loss` (loss computed on the training set)\n",
    "- `accuracy` (accuracy computed on the training set)\n",
    "- `val_loss` (loss computed on the validation set)\n",
    "- `val_accuracy` (accuracy computed on the validation set)\n",
    "\n",
    "with respect to the each epoch (i.e. they are computed at the end of each epoch)."
   ]
  },
  {
   "cell_type": "code",
   "execution_count": 30,
   "metadata": {},
   "outputs": [],
   "source": [
    "xin = Input(shape=(784))  # Input layer\n",
    "x = Dense(units=128, activation='relu')(xin)  # Hidden layer\n",
    "res = Dense(units=10, activation='softmax')(x)  # Output layer\n",
    "\n",
    "model = Model(inputs=xin, outputs=res)"
   ]
  },
  {
   "cell_type": "code",
   "execution_count": 31,
   "metadata": {},
   "outputs": [],
   "source": [
    "model.compile(optimizer='adam', loss='categorical_crossentropy', metrics=['accuracy'])"
   ]
  },
  {
   "cell_type": "code",
   "execution_count": 32,
   "metadata": {},
   "outputs": [
    {
     "name": "stdout",
     "output_type": "stream",
     "text": [
      "Epoch 1/10\n",
      "1875/1875 [==============================] - 5s 2ms/step - loss: 1.1662 - accuracy: 0.7107 - val_loss: 0.5902 - val_accuracy: 0.8518\n",
      "Epoch 2/10\n",
      "1875/1875 [==============================] - 5s 2ms/step - loss: 0.4862 - accuracy: 0.8741 - val_loss: 0.4033 - val_accuracy: 0.8938\n",
      "Epoch 3/10\n",
      "1875/1875 [==============================] - 4s 2ms/step - loss: 0.3820 - accuracy: 0.8954 - val_loss: 0.3450 - val_accuracy: 0.9038\n",
      "Epoch 4/10\n",
      "1875/1875 [==============================] - 5s 2ms/step - loss: 0.3411 - accuracy: 0.9043 - val_loss: 0.3164 - val_accuracy: 0.9105\n",
      "Epoch 5/10\n",
      "1875/1875 [==============================] - 3s 2ms/step - loss: 0.3174 - accuracy: 0.9095 - val_loss: 0.2971 - val_accuracy: 0.9145\n",
      "Epoch 6/10\n",
      "1875/1875 [==============================] - 3s 2ms/step - loss: 0.2999 - accuracy: 0.9139 - val_loss: 0.2843 - val_accuracy: 0.9181\n",
      "Epoch 7/10\n",
      "1875/1875 [==============================] - 3s 2ms/step - loss: 0.2860 - accuracy: 0.9176 - val_loss: 0.2730 - val_accuracy: 0.9227\n",
      "Epoch 8/10\n",
      "1875/1875 [==============================] - 3s 2ms/step - loss: 0.2743 - accuracy: 0.9210 - val_loss: 0.2626 - val_accuracy: 0.9241\n",
      "Epoch 9/10\n",
      "1875/1875 [==============================] - 3s 2ms/step - loss: 0.2634 - accuracy: 0.9238 - val_loss: 0.2552 - val_accuracy: 0.9260\n",
      "Epoch 10/10\n",
      "1875/1875 [==============================] - 3s 2ms/step - loss: 0.2531 - accuracy: 0.9263 - val_loss: 0.2448 - val_accuracy: 0.9302\n"
     ]
    }
   ],
   "source": [
    "training_history = model.fit(x_train, y_train_cat, batch_size=32, epochs=10, validation_data=(x_test,y_test_cat), \n",
    "                              shuffle=True)"
   ]
  },
  {
   "cell_type": "markdown",
   "metadata": {},
   "source": [
    "The output of the fit method is an object of class `History`. It represents the history of the results obtained during training. These results are contained in the `history` attribute, which is a dictionary. "
   ]
  },
  {
   "cell_type": "code",
   "execution_count": 20,
   "metadata": {},
   "outputs": [
    {
     "data": {
      "text/plain": [
       "{'loss': [0.2586393654346466,\n",
       "  0.11360926926136017,\n",
       "  0.0769348219037056,\n",
       "  0.05652725696563721,\n",
       "  0.04306340217590332,\n",
       "  0.03412600979208946,\n",
       "  0.02629777044057846,\n",
       "  0.021958477795124054,\n",
       "  0.017009329050779343,\n",
       "  0.015356196090579033],\n",
       " 'accuracy': [0.9260166883468628,\n",
       "  0.9664833545684814,\n",
       "  0.9771000146865845,\n",
       "  0.9825999736785889,\n",
       "  0.9868000149726868,\n",
       "  0.9895166754722595,\n",
       "  0.9917500019073486,\n",
       "  0.9930833578109741,\n",
       "  0.994616687297821,\n",
       "  0.9950666427612305],\n",
       " 'val_loss': [0.1389441341161728,\n",
       "  0.09745443612337112,\n",
       "  0.08447018265724182,\n",
       "  0.07686164230108261,\n",
       "  0.0808294340968132,\n",
       "  0.07276461273431778,\n",
       "  0.07401105761528015,\n",
       "  0.0862865000963211,\n",
       "  0.08917666971683502,\n",
       "  0.07627350091934204],\n",
       " 'val_accuracy': [0.9591000080108643,\n",
       "  0.9713000059127808,\n",
       "  0.9732999801635742,\n",
       "  0.9764000177383423,\n",
       "  0.9764000177383423,\n",
       "  0.9785000085830688,\n",
       "  0.9785000085830688,\n",
       "  0.9746999740600586,\n",
       "  0.9753000140190125,\n",
       "  0.9803000092506409]}"
      ]
     },
     "execution_count": 20,
     "metadata": {},
     "output_type": "execute_result"
    }
   ],
   "source": [
    "training_history.history"
   ]
  },
  {
   "cell_type": "markdown",
   "metadata": {},
   "source": [
    "Values of `loss`, `accuracy`, `val_loss`, `val_accuracy` with respect to the each epoch."
   ]
  },
  {
   "cell_type": "markdown",
   "metadata": {},
   "source": [
    "### Plotting the results of the training"
   ]
  },
  {
   "cell_type": "markdown",
   "metadata": {},
   "source": [
    "The results contained into the history object can be easily plotted.\n",
    "\n",
    "We make one plot for the loss function, comparing `loss` and `val_loss` with respect to the number of epochs.\n",
    "\n",
    "We make also one plot for the accuracy, comparing `accuracy` and `val_accuracy` with respect to the number of epochs."
   ]
  },
  {
   "cell_type": "code",
   "execution_count": 24,
   "metadata": {},
   "outputs": [
    {
     "data": {
      "text/plain": [
       "Text(0.5, 1.0, 'Accuracy')"
      ]
     },
     "execution_count": 24,
     "metadata": {},
     "output_type": "execute_result"
    },
    {
     "data": {
      "image/png": "[encoded data removed]",
      "text/plain": [
       "<Figure size 432x288 with 1 Axes>"
      ]
     },
     "metadata": {
      "needs_background": "light"
     },
     "output_type": "display_data"
    },
    {
     "data": {
      "image/png": "[encoded data removed]",
      "text/plain": [
       "<Figure size 432x288 with 1 Axes>"
      ]
     },
     "metadata": {
      "needs_background": "light"
     },
     "output_type": "display_data"
    }
   ],
   "source": [
    "import matplotlib.pyplot as plt\n",
    "\n",
    "n_epochs = 10\n",
    "epochs = range(1,n_epochs+1)\n",
    "\n",
    "plt.plot(epochs, training_history.history['loss'], label='train_loss')\n",
    "plt.plot(epochs, training_history.history['val_loss'], label='val_loss')\n",
    "plt.legend()\n",
    "plt.grid()\n",
    "plt.xlabel('Number of epochs')\n",
    "plt.title('Loss')\n",
    "\n",
    "plt.figure()\n",
    "plt.plot(epochs, training_history.history['accuracy'], label='train_accuracy')\n",
    "plt.plot(epochs, training_history.history['val_accuracy'], label='val_accuracy')\n",
    "plt.legend()\n",
    "plt.grid()\n",
    "plt.xlabel('Number of epochs')\n",
    "plt.title('Accuracy')"
   ]
  },
  {
   "cell_type": "markdown",
   "metadata": {},
   "source": [
    "We define a function for doing so."
   ]
  },
  {
   "cell_type": "code",
   "execution_count": 33,
   "metadata": {},
   "outputs": [],
   "source": [
    "def plot_history(training_history, n_epochs):\n",
    "    epochs = range(1,n_epochs+1)\n",
    "\n",
    "    plt.plot(epochs, training_history.history['loss'], label='train_loss')\n",
    "    plt.plot(epochs, training_history.history['val_loss'], label='val_loss')\n",
    "    plt.legend()\n",
    "    plt.grid()\n",
    "    plt.xlabel('Number of epochs')\n",
    "    plt.title('Loss')\n",
    "\n",
    "    plt.figure()\n",
    "    plt.plot(epochs, training_history.history['accuracy'], label='train_accuracy')\n",
    "    plt.plot(epochs, training_history.history['val_accuracy'], label='val_accuracy')\n",
    "    plt.legend()\n",
    "    plt.grid()\n",
    "    plt.xlabel('Number of epochs')\n",
    "    plt.title('Accuracy')"
   ]
  },
  {
   "cell_type": "code",
   "execution_count": null,
   "metadata": {},
   "outputs": [],
   "source": [
    "plot_history(training_history, n_epochs=10)"
   ]
  },
  {
   "cell_type": "markdown",
   "metadata": {},
   "source": [
    "### Analyisis of the results"
   ]
  },
  {
   "cell_type": "markdown",
   "metadata": {},
   "source": [
    "We have made the plots of loss and accuracy with respect of the number of epochs. The number of epochs is very important, because it is a property which impacts to the complexity of the model. Basically, the bigger if the number of epochs, the bigger is the complexity of the model.\n",
    "\n",
    "This means that the plots of loss/accuracy (both for training and validation) with respect to the number of epochs, are very important for visualizing the situation of the model with respect to overfitting/underfitting. They are very usefult for visualizing if we are in a situation of underfitting/overfitting.\n",
    "\n",
    "Escpecially overfitting."
   ]
  },
  {
   "cell_type": "markdown",
   "metadata": {},
   "source": [
    "In our specific example, we can see that the validation score (either loss or accuracy) is worse in the rigth tail (biggest number of epochs, i.e. biggest complexity) with respect to using a smaller number of epochs. Basically, the goodness of the validation score is worse in the right tail. In addition, the validation score is also very oscillating. \n",
    "\n",
    "This means that there is a little bit of **overfitting**!!! The model is too complex."
   ]
  },
  {
   "cell_type": "markdown",
   "metadata": {},
   "source": [
    "## HYPERPARAMETERS"
   ]
  },
  {
   "cell_type": "markdown",
   "metadata": {},
   "source": [
    "In defining the NN, there a lot of hyperparameters that the user can play with. Let's recap some of them.\n",
    "- Number of hidden dense layers.\n",
    "- Number of neurons and activation function in each hidden dense layer.\n",
    "- Loss function\n",
    "- Optimizer and learning rate\n",
    "- Batch size and number of epochs"
   ]
  },
  {
   "cell_type": "markdown",
   "metadata": {},
   "source": [
    "It is important that the user play with these hyperparameters, trying to find the best combination, using a test-and-error approach. *This can important also for reducing overfitting.*"
   ]
  },
  {
   "cell_type": "markdown",
   "metadata": {},
   "source": [
    "In the following sections we try to play with some of these hyperparameters."
   ]
  },
  {
   "cell_type": "markdown",
   "metadata": {},
   "source": [
    "### Number of hidden dense layers"
   ]
  },
  {
   "cell_type": "markdown",
   "metadata": {},
   "source": [
    "We add three additional hidden dense layers. Four hidden dense layers in total."
   ]
  },
  {
   "cell_type": "code",
   "execution_count": 15,
   "metadata": {},
   "outputs": [],
   "source": [
    "xin = Input(shape=(784))  # Input layer\n",
    "x = Dense(128, activation='relu')(xin)  # First hidden layer. 128 nodes. Relu activation function.\n",
    "x = Dense(128, activation='relu')(x)  # Second hidden layer. 128 nodes.  Relu activation function.\n",
    "x = Dense(128, activation='relu')(x)  # Third hidden layer. 128 nodes.  Relu activation function.\n",
    "x = Dense(128, activation='relu')(x)  # Fourth hidden layer. 128 nodes.  Relu activation function.\n",
    "res = Dense(10, activation='softmax')(x)  # Output layer\n",
    "\n",
    "model = Model(inputs=xin, outputs=res)"
   ]
  },
  {
   "cell_type": "code",
   "execution_count": 16,
   "metadata": {},
   "outputs": [
    {
     "name": "stdout",
     "output_type": "stream",
     "text": [
      "Model: \"model_2\"\n",
      "_________________________________________________________________\n",
      " Layer (type)                Output Shape              Param #   \n",
      "=================================================================\n",
      " input_3 (InputLayer)        [(None, 784)]             0         \n",
      "                                                                 \n",
      " dense_3 (Dense)             (None, 128)               100480    \n",
      "                                                                 \n",
      " dense_4 (Dense)             (None, 128)               16512     \n",
      "                                                                 \n",
      " dense_5 (Dense)             (None, 128)               16512     \n",
      "                                                                 \n",
      " dense_6 (Dense)             (None, 128)               16512     \n",
      "                                                                 \n",
      " dense_7 (Dense)             (None, 10)                1290      \n",
      "                                                                 \n",
      "=================================================================\n",
      "Total params: 151,306\n",
      "Trainable params: 151,306\n",
      "Non-trainable params: 0\n",
      "_________________________________________________________________\n"
     ]
    }
   ],
   "source": [
    "model.summary()"
   ]
  },
  {
   "cell_type": "markdown",
   "metadata": {},
   "source": [
    "In the summary we can see that we have three layers.\n",
    "1. Input layer. $784$ nodes. No parameters.\n",
    "2. First Hidden layer. It is a dense layer. $128$ nodes. $785*128=100480$ parameters. (Each node has 784 inputs and 1 bias, and we have $128$ neurons).\n",
    "3. Second Hidden layer. It is a dense layer. $128$ nodes. $129*128=16512$ parameters. (Each node has 128 inputs and 1 bias, and we have $128$ neurons).\n",
    "4. Third Hidden layer. It is a dense layer. $128$ nodes. $129*128=16512$ parameters. (Each node has 128 inputs and 1 bias, and we have $128$ neurons).\n",
    "5. Fourth Hidden layer. It is a dense layer. $128$ nodes. $129*128=16512$ parameters. (Each node has 128 inputs and 1 bias, and we have $128$ neurons).\n",
    "3. Output layer. It is a dense layer. $10$ nodes. $129*10$ parameters. (Each node has $128$ inputs and $1$ bias, and we have $10$ neurons).\n",
    "\n",
    "On the whole, $151306$ parameters."
   ]
  },
  {
   "cell_type": "markdown",
   "metadata": {},
   "source": [
    "Same compiling and fitting as before."
   ]
  },
  {
   "cell_type": "code",
   "execution_count": 17,
   "metadata": {},
   "outputs": [],
   "source": [
    "model.compile(optimizer='adam',loss='categorical_crossentropy', metrics=['accuracy'])"
   ]
  },
  {
   "cell_type": "code",
   "execution_count": 18,
   "metadata": {},
   "outputs": [
    {
     "name": "stdout",
     "output_type": "stream",
     "text": [
      "Epoch 1/10\n",
      "1875/1875 [==============================] - 10s 4ms/step - loss: 0.2406 - accuracy: 0.9261 - val_loss: 0.1253 - val_accuracy: 0.9639\n",
      "Epoch 2/10\n",
      "1875/1875 [==============================] - 8s 4ms/step - loss: 0.1070 - accuracy: 0.9670 - val_loss: 0.0994 - val_accuracy: 0.9704\n",
      "Epoch 3/10\n",
      "1875/1875 [==============================] - 8s 4ms/step - loss: 0.0792 - accuracy: 0.9759 - val_loss: 0.1107 - val_accuracy: 0.9681\n",
      "Epoch 4/10\n",
      "1875/1875 [==============================] - 8s 4ms/step - loss: 0.0646 - accuracy: 0.9801 - val_loss: 0.0865 - val_accuracy: 0.9741\n",
      "Epoch 5/10\n",
      "1875/1875 [==============================] - 8s 4ms/step - loss: 0.0548 - accuracy: 0.9828 - val_loss: 0.0953 - val_accuracy: 0.9718\n",
      "Epoch 6/10\n",
      "1875/1875 [==============================] - 8s 4ms/step - loss: 0.0441 - accuracy: 0.9861 - val_loss: 0.0952 - val_accuracy: 0.9749\n",
      "Epoch 7/10\n",
      "1875/1875 [==============================] - 8s 4ms/step - loss: 0.0386 - accuracy: 0.9882 - val_loss: 0.0800 - val_accuracy: 0.9773\n",
      "Epoch 8/10\n",
      "1875/1875 [==============================] - 8s 4ms/step - loss: 0.0347 - accuracy: 0.9891 - val_loss: 0.0818 - val_accuracy: 0.9783\n",
      "Epoch 9/10\n",
      "1875/1875 [==============================] - 8s 4ms/step - loss: 0.0304 - accuracy: 0.9897 - val_loss: 0.0873 - val_accuracy: 0.9791\n",
      "Epoch 10/10\n",
      "1875/1875 [==============================] - 8s 4ms/step - loss: 0.0289 - accuracy: 0.9910 - val_loss: 0.0829 - val_accuracy: 0.9809\n"
     ]
    },
    {
     "data": {
      "text/plain": [
       "<keras.callbacks.History at 0x1c140d5f6a0>"
      ]
     },
     "execution_count": 18,
     "metadata": {},
     "output_type": "execute_result"
    }
   ],
   "source": [
    "model.fit(x_train, y_train_cat, batch_size=32, epochs=10, validation_data=(x_test,y_test_cat), shuffle=True)"
   ]
  },
  {
   "cell_type": "markdown",
   "metadata": {},
   "source": [
    "Loss in the training set: $0.0289$. Worse than before.\n",
    "\n",
    "Loss in the test set: $0.0829$. Worse than before."
   ]
  },
  {
   "cell_type": "markdown",
   "metadata": {},
   "source": [
    "### Activation functions of the hidden layers"
   ]
  },
  {
   "cell_type": "markdown",
   "metadata": {},
   "source": [
    "We consider the NN with only one hidden dense layer. We replace the `relu` activation function with another activation function."
   ]
  },
  {
   "cell_type": "markdown",
   "metadata": {},
   "source": [
    "**softmax**"
   ]
  },
  {
   "cell_type": "code",
   "execution_count": null,
   "metadata": {},
   "outputs": [],
   "source": [
    "xin = Input(shape=(784))  # Input layer\n",
    "x = Dense(128, activation='softmax')(xin)  # Hidden layer. SOFTMAX activation function.\n",
    "res = Dense(10, activation='softmax')(x)  # Output layer\n",
    "\n",
    "model = Model(inputs=xin, outputs=res)"
   ]
  },
  {
   "cell_type": "code",
   "execution_count": null,
   "metadata": {},
   "outputs": [],
   "source": [
    "model.compile(optimizer='adam', loss='categorical_crossentropy', metrics=['accuracy'])"
   ]
  },
  {
   "cell_type": "code",
   "execution_count": 19,
   "metadata": {},
   "outputs": [
    {
     "name": "stdout",
     "output_type": "stream",
     "text": [
      "Epoch 1/10\n",
      "1875/1875 [==============================] - 8s 4ms/step - loss: 1.2203 - accuracy: 0.8098 - val_loss: 0.6601 - val_accuracy: 0.8496\n",
      "Epoch 2/10\n",
      "1875/1875 [==============================] - 7s 4ms/step - loss: 0.5186 - accuracy: 0.8627 - val_loss: 0.4351 - val_accuracy: 0.8637\n",
      "Epoch 3/10\n",
      "1875/1875 [==============================] - 7s 4ms/step - loss: 0.3938 - accuracy: 0.8819 - val_loss: 0.3777 - val_accuracy: 0.8925\n",
      "Epoch 4/10\n",
      "1875/1875 [==============================] - 7s 4ms/step - loss: 0.3392 - accuracy: 0.9096 - val_loss: 0.3325 - val_accuracy: 0.9092\n",
      "Epoch 5/10\n",
      "1875/1875 [==============================] - 7s 4ms/step - loss: 0.2980 - accuracy: 0.9237 - val_loss: 0.3090 - val_accuracy: 0.9194\n",
      "Epoch 6/10\n",
      "1875/1875 [==============================] - 7s 4ms/step - loss: 0.2732 - accuracy: 0.9296 - val_loss: 0.2901 - val_accuracy: 0.9254\n",
      "Epoch 7/10\n",
      "1875/1875 [==============================] - 7s 4ms/step - loss: 0.2559 - accuracy: 0.9340 - val_loss: 0.2849 - val_accuracy: 0.9245\n",
      "Epoch 8/10\n",
      "1875/1875 [==============================] - 7s 4ms/step - loss: 0.2426 - accuracy: 0.9366 - val_loss: 0.2720 - val_accuracy: 0.9280\n",
      "Epoch 9/10\n",
      "1875/1875 [==============================] - 7s 3ms/step - loss: 0.2301 - accuracy: 0.9389 - val_loss: 0.2623 - val_accuracy: 0.9323\n",
      "Epoch 10/10\n",
      "1875/1875 [==============================] - 7s 4ms/step - loss: 0.2198 - accuracy: 0.9416 - val_loss: 0.2543 - val_accuracy: 0.9330\n"
     ]
    },
    {
     "data": {
      "text/plain": [
       "<keras.callbacks.History at 0x1c14335cdc0>"
      ]
     },
     "execution_count": 19,
     "metadata": {},
     "output_type": "execute_result"
    }
   ],
   "source": [
    "model.fit(x_train, y_train_cat, batch_size=32, epochs=10, validation_data=(x_test,y_test_cat), shuffle=True)"
   ]
  },
  {
   "cell_type": "markdown",
   "metadata": {},
   "source": [
    "Much worse than using 'relu'."
   ]
  },
  {
   "cell_type": "markdown",
   "metadata": {},
   "source": [
    "**selu**"
   ]
  },
  {
   "cell_type": "code",
   "execution_count": null,
   "metadata": {},
   "outputs": [],
   "source": [
    "xin = Input(shape=(784))  # Input layer\n",
    "x = Dense(128, activation='selu')(xin)  # Hidden layer. SELU activation function.\n",
    "res = Dense(10, activation='softmax')(x)  # Output layer\n",
    "\n",
    "model = Model(inputs=xin, outputs=res)"
   ]
  },
  {
   "cell_type": "code",
   "execution_count": null,
   "metadata": {},
   "outputs": [],
   "source": [
    "model.compile(optimizer='adam', loss='categorical_crossentropy', metrics=['accuracy'])"
   ]
  },
  {
   "cell_type": "code",
   "execution_count": 21,
   "metadata": {},
   "outputs": [
    {
     "name": "stdout",
     "output_type": "stream",
     "text": [
      "Epoch 1/10\n",
      "1875/1875 [==============================] - 8s 4ms/step - loss: 0.3108 - accuracy: 0.9097 - val_loss: 0.1938 - val_accuracy: 0.9421\n",
      "Epoch 2/10\n",
      "1875/1875 [==============================] - 7s 3ms/step - loss: 0.1652 - accuracy: 0.9518 - val_loss: 0.1447 - val_accuracy: 0.9556\n",
      "Epoch 3/10\n",
      "1875/1875 [==============================] - 7s 3ms/step - loss: 0.1121 - accuracy: 0.9663 - val_loss: 0.1074 - val_accuracy: 0.9671\n",
      "Epoch 4/10\n",
      "1875/1875 [==============================] - 7s 3ms/step - loss: 0.0832 - accuracy: 0.9749 - val_loss: 0.1004 - val_accuracy: 0.9710\n",
      "Epoch 5/10\n",
      "1875/1875 [==============================] - 7s 4ms/step - loss: 0.0659 - accuracy: 0.9796 - val_loss: 0.0915 - val_accuracy: 0.9729\n",
      "Epoch 6/10\n",
      "1875/1875 [==============================] - 7s 4ms/step - loss: 0.0520 - accuracy: 0.9835 - val_loss: 0.0818 - val_accuracy: 0.9742\n",
      "Epoch 7/10\n",
      "1875/1875 [==============================] - 7s 4ms/step - loss: 0.0430 - accuracy: 0.9857 - val_loss: 0.0840 - val_accuracy: 0.9751\n",
      "Epoch 8/10\n",
      "1875/1875 [==============================] - 7s 4ms/step - loss: 0.0336 - accuracy: 0.9893 - val_loss: 0.0894 - val_accuracy: 0.9748\n",
      "Epoch 9/10\n",
      "1875/1875 [==============================] - 7s 3ms/step - loss: 0.0288 - accuracy: 0.9906 - val_loss: 0.0851 - val_accuracy: 0.9771\n",
      "Epoch 10/10\n",
      "1875/1875 [==============================] - 7s 4ms/step - loss: 0.0227 - accuracy: 0.9929 - val_loss: 0.0837 - val_accuracy: 0.9751\n"
     ]
    },
    {
     "data": {
      "text/plain": [
       "<keras.callbacks.History at 0x1c1436b8040>"
      ]
     },
     "execution_count": 21,
     "metadata": {},
     "output_type": "execute_result"
    }
   ],
   "source": [
    "model.fit(x_train, y_train_cat, batch_size=32, epochs=10, validation_data=(x_test,y_test_cat), shuffle=True)"
   ]
  },
  {
   "cell_type": "markdown",
   "metadata": {},
   "source": [
    "A little bit worse than using 'relu'."
   ]
  },
  {
   "cell_type": "markdown",
   "metadata": {},
   "source": [
    "**elu**"
   ]
  },
  {
   "cell_type": "code",
   "execution_count": null,
   "metadata": {},
   "outputs": [],
   "source": [
    "xin = Input(shape=(784))  # Input layer\n",
    "x = Dense(128, activation='elu')(xin)  # Hidden layer. ELU activation function.\n",
    "res = Dense(10, activation='softmax')(x)  # Output layer\n",
    "\n",
    "model = Model(inputs=xin, outputs=res)"
   ]
  },
  {
   "cell_type": "code",
   "execution_count": null,
   "metadata": {},
   "outputs": [],
   "source": [
    "model.compile(optimizer='adam', loss='categorical_crossentropy', metrics=['accuracy'])"
   ]
  },
  {
   "cell_type": "code",
   "execution_count": 20,
   "metadata": {},
   "outputs": [
    {
     "name": "stdout",
     "output_type": "stream",
     "text": [
      "Epoch 1/10\n",
      "1875/1875 [==============================] - 8s 4ms/step - loss: 0.3003 - accuracy: 0.9132 - val_loss: 0.1703 - val_accuracy: 0.9526\n",
      "Epoch 2/10\n",
      "1875/1875 [==============================] - 7s 4ms/step - loss: 0.1422 - accuracy: 0.9582 - val_loss: 0.1159 - val_accuracy: 0.9649\n",
      "Epoch 3/10\n",
      "1875/1875 [==============================] - 7s 4ms/step - loss: 0.0952 - accuracy: 0.9717 - val_loss: 0.1039 - val_accuracy: 0.9702\n",
      "Epoch 4/10\n",
      "1875/1875 [==============================] - 7s 4ms/step - loss: 0.0686 - accuracy: 0.9789 - val_loss: 0.0785 - val_accuracy: 0.9747\n",
      "Epoch 5/10\n",
      "1875/1875 [==============================] - 7s 4ms/step - loss: 0.0533 - accuracy: 0.9834 - val_loss: 0.0818 - val_accuracy: 0.9740\n",
      "Epoch 6/10\n",
      "1875/1875 [==============================] - 7s 4ms/step - loss: 0.0408 - accuracy: 0.9866 - val_loss: 0.0792 - val_accuracy: 0.9749\n",
      "Epoch 7/10\n",
      "1875/1875 [==============================] - 7s 4ms/step - loss: 0.0333 - accuracy: 0.9893 - val_loss: 0.0781 - val_accuracy: 0.9765\n",
      "Epoch 8/10\n",
      "1875/1875 [==============================] - 7s 4ms/step - loss: 0.0253 - accuracy: 0.9920 - val_loss: 0.0730 - val_accuracy: 0.9787\n",
      "Epoch 9/10\n",
      "1875/1875 [==============================] - 7s 4ms/step - loss: 0.0212 - accuracy: 0.9933 - val_loss: 0.0797 - val_accuracy: 0.9764\n",
      "Epoch 10/10\n",
      "1875/1875 [==============================] - 6s 3ms/step - loss: 0.0172 - accuracy: 0.9948 - val_loss: 0.0810 - val_accuracy: 0.9771\n"
     ]
    },
    {
     "data": {
      "text/plain": [
       "<keras.callbacks.History at 0x1c14348ca90>"
      ]
     },
     "execution_count": 20,
     "metadata": {},
     "output_type": "execute_result"
    }
   ],
   "source": [
    "model.fit(x_train, y_train_cat, batch_size=32, epochs=10, validation_data=(x_test,y_test_cat), shuffle=True)"
   ]
  },
  {
   "cell_type": "markdown",
   "metadata": {},
   "source": [
    "The loss on the training set is worse than using 'relu', while the loss on the test set is better.\n",
    "\n",
    "The accuracies are better using 'relu'."
   ]
  },
  {
   "cell_type": "markdown",
   "metadata": {},
   "source": [
    "## SPARSE CATEGORICAL CROSSENTROPY"
   ]
  },
  {
   "cell_type": "markdown",
   "metadata": {},
   "source": [
    "### General description"
   ]
  },
  {
   "cell_type": "markdown",
   "metadata": {},
   "source": [
    "Sparse categorical crossentropy is another loss function, which is an alternative to the classic categorical crossentropy.\n",
    "\n",
    "They are applied in the same situation, which is the situation in which the output of the NN is a probability distribution over the different classes (i.e. categorical distribution over the different classes).\n",
    "\n",
    "They also give very similar results in terms of goodness of the results and of the training.\n",
    "\n",
    "The (main) only difference is that sparse categorical crossentropy saves the user from pre-processing the target vector `y`. Indeed, we know that with the classic categorical crossentropy, the user has to pre-process the target vector `y`, in such a way that it does not contain anymore simple labels, but it contains the true categorical distributions of the inctances. In sparse categorical crossentropy this is not needed anymore."
   ]
  },
  {
   "cell_type": "markdown",
   "metadata": {},
   "source": [
    "**More in depth explanation**\n",
    "\n",
    "Let $k$ be the number of different classes.\n",
    "\n",
    "Since now, we have seen the categorial_crossentropy. The output of the NN, given an instance, is a vector of probabilities $[p_1, ..., p_k]$ (i.e. categorical distribution), where $p_i$ is the probability that the instance has the class $i$. According to that, also the target vector must $y$ must be transformed. Each element is not a single integer representing the class, but it is a vector representing the categorical distribution: vector $[0, ..., 1, ..., 0]$, where the single element which is equal to $1$ is the element with index the class of that instance.\n",
    "\n",
    "With the sparse_categorical_crossentropy the output of the NN is still a vector with $k$ elements. So the output layer has still $k$ neurons. The difference is that we leave the target vector $y$ as it is: we don't need to transform it. Basically, each element of $y$ is a single integer, which is the class of the corresponding instance. In the target vector $y$ we don't use the categorical distribution, but the actual labels. "
   ]
  },
  {
   "cell_type": "markdown",
   "metadata": {},
   "source": [
    "### Using sparse categorical crossentropy"
   ]
  },
  {
   "cell_type": "markdown",
   "metadata": {},
   "source": [
    "We use the NN with a single NN and `relu` activation function."
   ]
  },
  {
   "cell_type": "code",
   "execution_count": null,
   "metadata": {},
   "outputs": [],
   "source": [
    "xin = Input(shape=(784))  # Input layer\n",
    "x = Dense(128, activation='relu')(xin)  # Hidden layer\n",
    "res = Dense(10, activation='softmax')(x)  # Output layer\n",
    "\n",
    "model = Model(inputs=xin, outputs=res)"
   ]
  },
  {
   "cell_type": "markdown",
   "metadata": {},
   "source": [
    "We specify `sparse_categorical_crossentropy` as loss function."
   ]
  },
  {
   "cell_type": "code",
   "execution_count": null,
   "metadata": {},
   "outputs": [],
   "source": [
    "model.compile(optimizer='adam', loss='sparse_categorical_crossentropy', metrics=['accuracy'])"
   ]
  },
  {
   "cell_type": "markdown",
   "metadata": {},
   "source": [
    "**We use `y_train` and `y_test` as they are. No categorical distributions, no `y_train_cat` and `y_test_cat`. But actual integer labels.**"
   ]
  },
  {
   "cell_type": "code",
   "execution_count": 26,
   "metadata": {},
   "outputs": [
    {
     "name": "stdout",
     "output_type": "stream",
     "text": [
      "Epoch 1/10\n",
      "1875/1875 [==============================] - 7s 3ms/step - loss: 0.2589 - accuracy: 0.9271 - val_loss: 0.1265 - val_accuracy: 0.9634\n",
      "Epoch 2/10\n",
      "1875/1875 [==============================] - 6s 3ms/step - loss: 0.1127 - accuracy: 0.9663 - val_loss: 0.1019 - val_accuracy: 0.9686\n",
      "Epoch 3/10\n",
      "1875/1875 [==============================] - 7s 3ms/step - loss: 0.0775 - accuracy: 0.9768 - val_loss: 0.0896 - val_accuracy: 0.9714\n",
      "Epoch 4/10\n",
      "1875/1875 [==============================] - 6s 3ms/step - loss: 0.0588 - accuracy: 0.9822 - val_loss: 0.0974 - val_accuracy: 0.9694\n",
      "Epoch 5/10\n",
      "1875/1875 [==============================] - 6s 3ms/step - loss: 0.0447 - accuracy: 0.9860 - val_loss: 0.0834 - val_accuracy: 0.9732\n",
      "Epoch 6/10\n",
      "1875/1875 [==============================] - 6s 3ms/step - loss: 0.0366 - accuracy: 0.9886 - val_loss: 0.0777 - val_accuracy: 0.9755\n",
      "Epoch 7/10\n",
      "1875/1875 [==============================] - 6s 3ms/step - loss: 0.0290 - accuracy: 0.9911 - val_loss: 0.0789 - val_accuracy: 0.9756\n",
      "Epoch 8/10\n",
      "1875/1875 [==============================] - 6s 3ms/step - loss: 0.0241 - accuracy: 0.9926 - val_loss: 0.0771 - val_accuracy: 0.9766\n",
      "Epoch 9/10\n",
      "1875/1875 [==============================] - 6s 3ms/step - loss: 0.0192 - accuracy: 0.9943 - val_loss: 0.0836 - val_accuracy: 0.9772\n",
      "Epoch 10/10\n",
      "1875/1875 [==============================] - 6s 3ms/step - loss: 0.0166 - accuracy: 0.9951 - val_loss: 0.0820 - val_accuracy: 0.9767\n"
     ]
    },
    {
     "data": {
      "text/plain": [
       "<keras.callbacks.History at 0x1c150f9e940>"
      ]
     },
     "execution_count": 26,
     "metadata": {},
     "output_type": "execute_result"
    }
   ],
   "source": [
    "model.fit(x_train, y_train, batch_size=32, epochs=10, validation_data=(x_test,y_test), shuffle=True)"
   ]
  },
  {
   "cell_type": "markdown",
   "metadata": {},
   "source": [
    "(Slightly) better results than using categorical_crossentropy.\n",
    "\n",
    "But the major advantage is that we didn't pre-process the target vector `y`!"
   ]
  },
  {
   "cell_type": "markdown",
   "metadata": {},
   "source": [
    "### Important insight"
   ]
  },
  {
   "cell_type": "markdown",
   "metadata": {},
   "source": [
    "This is an important insight, which involves the specific keras implementation."
   ]
  },
  {
   "cell_type": "markdown",
   "metadata": {},
   "source": [
    "The `SparseCategoricalCrossentropy` has an optional parameter, called `from_logits`. By default, it is `False`.\n",
    "\n",
    "In theory, the two following approaches are equivalent.\n",
    "1. Using an output layer with the softmax activation function and compiling the NN using the `SparseCategoricalCrossentropy` with `from_logits=False`.\n",
    "2. Using an output layer without the softmax activation function (no activation function) and compiling the NN using the `SparseCategoricalCrossentropy` with `from_logits=True`.\n",
    "\n",
    "The first approach seems the better one, because it makes more sense."
   ]
  },
  {
   "cell_type": "markdown",
   "metadata": {},
   "source": [
    "However, it is recommended to use the second approach. Because, in keras, the second approach brings more numerical stability in the computation of the gradients. [Here](https://stackoverflow.com/questions/61233425/what-should-i-use-as-target-vector-when-i-use-binarycrossentropyfrom-logits-tru/61237426#61237426) you can find some reasons why."
   ]
  },
  {
   "cell_type": "markdown",
   "metadata": {},
   "source": [
    "So, it woulde have been better to proceed in the following way."
   ]
  },
  {
   "cell_type": "code",
   "execution_count": null,
   "metadata": {},
   "outputs": [],
   "source": [
    "# Model\n",
    "xin = Input(shape=(784))  \n",
    "x = Dense(128, activation='relu')(xin)  \n",
    "res = Dense(10)(x)  # NO ACTIVATION FUNCTION  \n",
    "\n",
    "model = Model(inputs=xin, outputs=res)"
   ]
  },
  {
   "cell_type": "code",
   "execution_count": null,
   "metadata": {},
   "outputs": [],
   "source": [
    "model.compile(optimizer=Adam(learning_rate=1e-3), loss=tf.keras.losses.SparseCategoricalCrossentropy(from_logits=True), \n",
    "              metrics=['accuracy'])"
   ]
  }
 ],
 "metadata": {
  "accelerator": "GPU",
  "colab": {
   "name": "mnistDense.ipynb",
   "provenance": []
  },
  "kernelspec": {
   "display_name": "Python 3",
   "language": "python",
   "name": "python3"
  },
  "language_info": {
   "codemirror_mode": {
    "name": "ipython",
    "version": 3
   },
   "file_extension": ".py",
   "mimetype": "text/x-python",
   "name": "python",
   "nbconvert_exporter": "python",
   "pygments_lexer": "ipython3",
   "version": "3.8.8"
  }
 },
 "nbformat": 4,
 "nbformat_minor": 1
}
