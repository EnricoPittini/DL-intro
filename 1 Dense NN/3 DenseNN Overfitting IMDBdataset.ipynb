{
 "cells": [
  {
   "cell_type": "markdown",
   "metadata": {
    "id": "haUUbAip1yDE"
   },
   "source": [
    "# Overfitting of DenseNN on the IMDB movie reviews dataset"
   ]
  },
  {
   "cell_type": "markdown",
   "metadata": {
    "id": "Alo9UeDCuPPV"
   },
   "source": [
    "In this notebook we shall focus on overfitting of Dense NNs, showing it and studying techniques to reduce it.\n",
    "\n",
    "As specific example, we see the classification on the IMDB movie reviews dataset.\n",
    "\n",
    "The IMDB movie reviews dataset consists of 25,000 movies reviews: each review is a text (i.e. sequence of words). Each review is labeled by $0$/$1$, which means negative/prositive review. The aim is to learn a classifier NN: it is a binary classifier, the output is either $0$/$1$.\n",
    "\n",
    "This particular binary classification problem can be called as \"sentyment analysis\", since the aim is to classify the reviews according to their associated sentyment: either positive or negative."
   ]
  },
  {
   "cell_type": "code",
   "execution_count": 2,
   "metadata": {
    "id": "BSk2z9PFZ-9L"
   },
   "outputs": [],
   "source": [
    "from keras.layers import Input, Dense  # Import the layers for the network\n",
    "from keras.models import Model  # Import the class for creating the network\n",
    "from keras.datasets import imdb  # Import the dataset\n",
    "import matplotlib.pyplot as plt  # For plotting\n",
    "import numpy as np"
   ]
  },
  {
   "cell_type": "markdown",
   "metadata": {},
   "source": [
    "## LOAD THE DATASET"
   ]
  },
  {
   "cell_type": "markdown",
   "metadata": {
    "id": "ztsNnb6iwK9C"
   },
   "source": [
    "Let us load the dataset. In keras, the dataset is preprocessed, and each review is encoded as a sequence of word indexes (integers). For convenience, words are indexed by overall frequency in the dataset, so that for instance the integer \"3\" encodes the 3rd most frequent word in the data. "
   ]
  },
  {
   "cell_type": "markdown",
   "metadata": {},
   "source": [
    "So, let's load the IMDB dataset.\n",
    "\n",
    "Se dataset is represented in the following way. There are $50000$ movie reviews. Each movie review is a text, i.e. a sequence of words. So, each review is a list of words.\n",
    "\n",
    "The words are actually represented as numbers. Numbers in the range $[1, N]$, where $N$ is the number of different words in all the possible reviews. So, a review is a list of natural numbers in the range $[1,N]$.\n",
    "\n",
    "How this encoding words $\\mapsto$ numbers is built? Basically, the $N$ possible different words words are sorted by their frequency in the all the possible reviews. Then, the mapping to natural numbers is built: the first word corresponds to the number $1$; the second word corresponds to the number $2$; the third word corresponds to the number $3$; ... .\n",
    "\n",
    "Basically, the most frequent word is encoded as $1$; the second most frequent word is encoded as $2$; ... ."
   ]
  },
  {
   "cell_type": "markdown",
   "metadata": {},
   "source": [
    "In downloading the IMDB dataset, we can ask to keep only the $M$ most frequent words: all the other $N-M$ words are simply discarded. Basically, we keep only the integers which are $<=M$\n",
    "\n",
    "So, each review is a list of natural numbers in the range $[1,M]$.\n",
    "\n",
    "In our case, we ask to keep only the $M=500$ most frequent words."
   ]
  },
  {
   "cell_type": "code",
   "execution_count": 3,
   "metadata": {
    "colab": {
     "base_uri": "https://localhost:8080/"
    },
    "id": "FJPbQOuMarDA",
    "outputId": "2db27459-a088-4762-8420-3662d1929bf0"
   },
   "outputs": [
    {
     "name": "stdout",
     "output_type": "stream",
     "text": [
      "Downloading data from https://storage.googleapis.com/tensorflow/tf-keras-datasets/imdb.npz\n",
      "17465344/17464789 [==============================] - 3s 0us/step\n",
      "17473536/17464789 [==============================] - 3s 0us/step\n"
     ]
    }
   ],
   "source": [
    "M = 500\n",
    "(x_train, y_train), (x_test, y_test) = imdb.load_data(path=\"imdb.npz\",\n",
    "                                                      num_words=M)"
   ]
  },
  {
   "cell_type": "markdown",
   "metadata": {},
   "source": [
    "The downloaded is already splitted into train-test."
   ]
  },
  {
   "cell_type": "code",
   "execution_count": 4,
   "metadata": {
    "id": "JRXaS5dmMpCF"
   },
   "outputs": [
    {
     "name": "stdout",
     "output_type": "stream",
     "text": [
      "Training shape (25000,)\n",
      "Test shape (25000,)\n"
     ]
    }
   ],
   "source": [
    "print('Training shape', x_train.shape)\n",
    "print('Test shape', x_test.shape)"
   ]
  },
  {
   "cell_type": "markdown",
   "metadata": {},
   "source": [
    "Half of the instances are in the training set, half in the test set."
   ]
  },
  {
   "cell_type": "markdown",
   "metadata": {},
   "source": [
    "### Features data x"
   ]
  },
  {
   "cell_type": "markdown",
   "metadata": {},
   "source": [
    "Each review is a list of natural numbers in the range $[1,500]$. \n",
    "\n",
    "Let's see the first review."
   ]
  },
  {
   "cell_type": "code",
   "execution_count": 5,
   "metadata": {
    "colab": {
     "base_uri": "https://localhost:8080/"
    },
    "id": "xQjD51tfbAwr",
    "outputId": "f5d2be41-0c46-49dc-d639-787ddf66ba2c"
   },
   "outputs": [
    {
     "name": "stdout",
     "output_type": "stream",
     "text": [
      "[1, 14, 22, 16, 43, 2, 2, 2, 2, 65, 458, 2, 66, 2, 4, 173, 36, 256, 5, 25, 100, 43, 2, 112, 50, 2, 2, 9, 35, 480, 284, 5, 150, 4, 172, 112, 167, 2, 336, 385, 39, 4, 172, 2, 2, 17, 2, 38, 13, 447, 4, 192, 50, 16, 6, 147, 2, 19, 14, 22, 4, 2, 2, 469, 4, 22, 71, 87, 12, 16, 43, 2, 38, 76, 15, 13, 2, 4, 22, 17, 2, 17, 12, 16, 2, 18, 2, 5, 62, 386, 12, 8, 316, 8, 106, 5, 4, 2, 2, 16, 480, 66, 2, 33, 4, 130, 12, 16, 38, 2, 5, 25, 124, 51, 36, 135, 48, 25, 2, 33, 6, 22, 12, 215, 28, 77, 52, 5, 14, 407, 16, 82, 2, 8, 4, 107, 117, 2, 15, 256, 4, 2, 7, 2, 5, 2, 36, 71, 43, 2, 476, 26, 400, 317, 46, 7, 4, 2, 2, 13, 104, 88, 4, 381, 15, 297, 98, 32, 2, 56, 26, 141, 6, 194, 2, 18, 4, 226, 22, 21, 134, 476, 26, 480, 5, 144, 30, 2, 18, 51, 36, 28, 224, 92, 25, 104, 4, 226, 65, 16, 38, 2, 88, 12, 16, 283, 5, 16, 2, 113, 103, 32, 15, 16, 2, 19, 178, 32]\n"
     ]
    }
   ],
   "source": [
    "print(x_train[0])"
   ]
  },
  {
   "cell_type": "markdown",
   "metadata": {},
   "source": [
    "The lengths of different reviews can be different (different number of words)."
   ]
  },
  {
   "cell_type": "markdown",
   "metadata": {},
   "source": [
    "### Target vector y"
   ]
  },
  {
   "cell_type": "markdown",
   "metadata": {},
   "source": [
    "Each review is labeled as positive/negative ($1$/$0$): this is the sentyment of the review."
   ]
  },
  {
   "cell_type": "code",
   "execution_count": 6,
   "metadata": {},
   "outputs": [
    {
     "name": "stdout",
     "output_type": "stream",
     "text": [
      "1\n"
     ]
    }
   ],
   "source": [
    "print(y_train[0])"
   ]
  },
  {
   "cell_type": "markdown",
   "metadata": {},
   "source": [
    "The first review has a positive sentyment."
   ]
  },
  {
   "cell_type": "markdown",
   "metadata": {},
   "source": [
    "## PRE-PROCESSING"
   ]
  },
  {
   "cell_type": "markdown",
   "metadata": {},
   "source": [
    "Our dataset needs some pre-processing. In particular, the features data `x`.\n",
    "\n",
    "Indeed, the current representation of a review is as a list of numbers. We don't like this representation because it has a variable length: the different reviews can have different lengths, different number of elelements.\n",
    "\n",
    "We change the representation of the reviews: we change to the bag of words representation."
   ]
  },
  {
   "cell_type": "markdown",
   "metadata": {},
   "source": [
    "### Bag of words representation"
   ]
  },
  {
   "cell_type": "markdown",
   "metadata": {},
   "source": [
    "Let $M$ be the number of possible different words (in our case $M=500$), represented as the numbers $1, 2, ..., M$.\n",
    "\n",
    "Each review is represented as a list of $M$ values. Each value is either $0$ or $1$. If the $i$-th value of this review is $0$, this means that the word $i$ is not present in that review. Otherwise, if the $i$-th value of this review is $1$, this means that the word $i$ is present in that review.\n",
    "\n",
    "Basically, a review is a vector of $0$/$1$ which tell us which words are contained in the review and which words are not.\n",
    "\n",
    "Actually, since in Python the indeces of a list start from $0$, the indeces of a review are $0, 1, ..., M-1$: this means that the value at index $i$ refers to the word $i+1$."
   ]
  },
  {
   "cell_type": "markdown",
   "metadata": {},
   "source": [
    "All the reviews are represented in such way. So, all the reviews have now the same size: each review has $M$ values.\n",
    "\n",
    "On the whole, we have a matrix in which the rows are the different reviews and in which the columns are the different words $1, 2, ..., M$. (Actually, $0, 1, ..., M$).\n",
    "\n",
    "Value at indeces $i,j$: if $0$, the review $i$ does not contain the word $j+1$; if $1$, the review $i$ does contain the word $j+1$.\n",
    "\n",
    "**Bag of words representation: matrix with values $0$/$1$, which has as many rows as the different reviews and as many columns as the different possible worlds.**\n",
    "\n",
    "Both the reviews (i.e. the rows) and the words (i.e. columns) are indexed starting from $0$."
   ]
  },
  {
   "cell_type": "markdown",
   "metadata": {},
   "source": [
    "We tranform in this way both the training `x_train` and the test `x_test`."
   ]
  },
  {
   "cell_type": "markdown",
   "metadata": {},
   "source": [
    "### Function for the pre-processing"
   ]
  },
  {
   "cell_type": "markdown",
   "metadata": {
    "id": "M_52OeyDw7-2"
   },
   "source": [
    "We write a function for transforming the actual representation of the reviews into the bag of words representation."
   ]
  },
  {
   "cell_type": "code",
   "execution_count": 7,
   "metadata": {},
   "outputs": [],
   "source": [
    "def transform_into_bagOfWords(reviews, M):\n",
    "  \"\"\"\n",
    "  Transforms the current reviews representation into the bag of words representation\n",
    "  \n",
    "  Arguments\n",
    "  ---------\n",
    "      - reviews: list of lists\n",
    "        List containing all the reviews. Each review is a list of natural numbers, representing words.\n",
    "      - M: int\n",
    "        Number of possible different words\n",
    "        \n",
    "  Return\n",
    "  ---------\n",
    "  bag_of_words: np.array\n",
    "  Two-dimensional array (i.e. matrix). Bag of words matrix.\n",
    "  \"\"\"\n",
    "    \n",
    "  n_reviews = len(reviews)  # Number of reviews\n",
    "\n",
    "  # Bag of words matrix. Size n_reviews*M.\n",
    "  # Rows: 0, 1, ..., n_reviews\n",
    "  # Columns: 0, 1, ..., M\n",
    "  # This matrix is initialized to 0\n",
    "  bag_of_words = np.zeros((n_reviews, M))\n",
    "    \n",
    "  # We iterate over all the reviews: from review 0 to review n_reviews-1\n",
    "  for i in range(0, n_reviews):\n",
    "    # Current review: review 'i'.\n",
    "    # reviews[i] is the list of words contained in that review.\n",
    "    # We take the row 'i' of the bag of words and we have to put to 1 all the columns corresponding to the words in \n",
    "    # reviews[i]. \n",
    "    # We can access to the row 'i' and to all the columns with indeces in reviews[i] by simply writing\n",
    "    #                        bag_of_words[i, reviews[i]]  (we are accesssing with a list of integers the column dimension)\n",
    "    bag_of_words[i, reviews[i]] = 1\n",
    "    \n",
    "  return bag_of_words"
   ]
  },
  {
   "cell_type": "markdown",
   "metadata": {},
   "source": [
    "### Tranforming the dataset"
   ]
  },
  {
   "cell_type": "markdown",
   "metadata": {},
   "source": [
    "We tranform both the training `x_train` and the test `x_test`."
   ]
  },
  {
   "cell_type": "code",
   "execution_count": 8,
   "metadata": {
    "id": "alcGwlTXbK83"
   },
   "outputs": [],
   "source": [
    "x_train = transform_into_bagOfWords(x_train, M)\n",
    "x_test = transform_into_bagOfWords(x_test, M)"
   ]
  },
  {
   "cell_type": "markdown",
   "metadata": {
    "id": "j8FqTkPgxeS3"
   },
   "source": [
    "Let us have a look at the initial part (only first 30 words) of the encoding for the first review."
   ]
  },
  {
   "cell_type": "code",
   "execution_count": 9,
   "metadata": {
    "colab": {
     "base_uri": "https://localhost:8080/"
    },
    "id": "LEqk4W3nbaOi",
    "outputId": "0af00748-7c5a-4f53-aaf9-7e8ae1d7abeb"
   },
   "outputs": [
    {
     "name": "stdout",
     "output_type": "stream",
     "text": [
      "[0. 1. 1. 0. 1. 1. 1. 1. 1. 1. 0. 0. 1. 1. 1. 1. 1. 1. 1. 1. 0. 1. 1. 0.\n",
      " 0. 1. 1. 0. 1. 0.]\n"
     ]
    }
   ],
   "source": [
    "print(x_train[0,0:30])"
   ]
  },
  {
   "cell_type": "raw",
   "metadata": {},
   "source": []
  },
  {
   "cell_type": "markdown",
   "metadata": {},
   "source": [
    "## FIRST NEURAL NETWORK"
   ]
  },
  {
   "cell_type": "markdown",
   "metadata": {},
   "source": [
    "### Define the NN"
   ]
  },
  {
   "cell_type": "markdown",
   "metadata": {
    "id": "UaJM6ZdCxnu0"
   },
   "source": [
    "We now define our first model, which is a dense NN. It is just a concatenation of three dense layers.\n",
    "\n",
    "The input layer has $M=500$ nodes, since each review is a vector of $M$ values (flat vector). \n",
    "\n",
    "The first hidden dense layer has $64$ nodes (hyperparameter) with relu activation function (hyperparameter). The second hidden dense layer has $16$ nodes (hyperparameter) with relu activation function (hyperparameter).\n",
    "\n",
    "The output layer has only one node/output, which represents the probability that the review belongs to the class $1$, which is the class positive. Since there is only one output, the activation function is sigmoid (it ensures me that the output is between $0$ and $1$, i.e. a probability value). Binary classification problem."
   ]
  },
  {
   "cell_type": "code",
   "execution_count": 11,
   "metadata": {
    "id": "fIh5mHNDbncA"
   },
   "outputs": [],
   "source": [
    "xin = Input(shape=(M,))\n",
    "x = Dense(64, activation='relu')(xin)\n",
    "x = Dense(16, activation='relu')(x)\n",
    "x = Dense(1, activation='sigmoid')(x)\n",
    "\n",
    "model = Model(xin, x)"
   ]
  },
  {
   "cell_type": "code",
   "execution_count": 12,
   "metadata": {
    "id": "UDCNRoQLbszt"
   },
   "outputs": [
    {
     "name": "stdout",
     "output_type": "stream",
     "text": [
      "Model: \"model\"\n",
      "_________________________________________________________________\n",
      " Layer (type)                Output Shape              Param #   \n",
      "=================================================================\n",
      " input_2 (InputLayer)        [(None, 500)]             0         \n",
      "                                                                 \n",
      " dense_3 (Dense)             (None, 64)                32064     \n",
      "                                                                 \n",
      " dense_4 (Dense)             (None, 16)                1040      \n",
      "                                                                 \n",
      " dense_5 (Dense)             (None, 1)                 17        \n",
      "                                                                 \n",
      "=================================================================\n",
      "Total params: 33,121\n",
      "Trainable params: 33,121\n",
      "Non-trainable params: 0\n",
      "_________________________________________________________________\n"
     ]
    }
   ],
   "source": [
    "model.summary()"
   ]
  },
  {
   "cell_type": "markdown",
   "metadata": {},
   "source": [
    "In the summary we can see that we have four layers.\n",
    "1. Input layer. $500$ nodes. No parameters.\n",
    "2. Hidden layer. It is a dense layer. $64$ nodes. $501*64=32064$ parameters. (Each node has 500 inputs and 1 bias).\n",
    "2. Hidden layer. It is a dense layer. $16$ nodes. $65*16=1040$ parameters. (Each node has 64 inputs and 1 bias).\n",
    "3. Output layer. It is a dense layer. $1$ node. $17*1=17$ parameters. (Each node has 16 inputs and 1 bias).\n",
    "\n",
    "On the whole, $33121$ parameters."
   ]
  },
  {
   "cell_type": "markdown",
   "metadata": {},
   "source": [
    "### Compile the NN"
   ]
  },
  {
   "cell_type": "markdown",
   "metadata": {
    "id": "dg7OlD3px5b5"
   },
   "source": [
    "We use adam as optimizer.\n",
    "\n",
    "We use binary crossentropy as loss function: it measueres the distance between the true label of the review (i.e. either $0$/$1$) and the output of the NN, which is the probability of belonging to class $1$. Binary crossentropy this is the loss function which is typically used when the output of the NN is a single value that is a probability value. \n",
    "\n",
    "We also specify the 'accuracy' as additional measure for monitoring the training process."
   ]
  },
  {
   "cell_type": "code",
   "execution_count": 13,
   "metadata": {
    "id": "zN2Z1A6KcD5U"
   },
   "outputs": [],
   "source": [
    "model.compile(optimizer='adam', loss='binary_crossentropy', metrics=['accuracy'])"
   ]
  },
  {
   "cell_type": "markdown",
   "metadata": {},
   "source": [
    "### Training the NN"
   ]
  },
  {
   "cell_type": "markdown",
   "metadata": {},
   "source": [
    "Finally, we fit the model over the training set. \n",
    "\n",
    "Fitting just requires two arguments: training data and ground truth, that is x and y. Additionally we can specify the number of epochs, the size of the mini batch, and many additional arguments.\n",
    "\n",
    "In particular, passing validation data allow the training procedure to measure loss and metrics on the test set at the end of each epoch."
   ]
  },
  {
   "cell_type": "code",
   "execution_count": 14,
   "metadata": {
    "colab": {
     "base_uri": "https://localhost:8080/"
    },
    "id": "mVhduLsrcObg",
    "outputId": "78c3389e-6101-43d5-d3a2-a8ead6c4b105"
   },
   "outputs": [
    {
     "name": "stdout",
     "output_type": "stream",
     "text": [
      "Epoch 1/6\n",
      "49/49 [==============================] - 1s 5ms/step - loss: 0.5250 - accuracy: 0.7354 - val_loss: 0.4179 - val_accuracy: 0.8119\n",
      "Epoch 2/6\n",
      "49/49 [==============================] - 0s 2ms/step - loss: 0.3878 - accuracy: 0.8277 - val_loss: 0.3873 - val_accuracy: 0.8302\n",
      "Epoch 3/6\n",
      "49/49 [==============================] - 0s 3ms/step - loss: 0.3700 - accuracy: 0.8382 - val_loss: 0.3811 - val_accuracy: 0.8319\n",
      "Epoch 4/6\n",
      "49/49 [==============================] - 0s 3ms/step - loss: 0.3569 - accuracy: 0.8445 - val_loss: 0.3831 - val_accuracy: 0.8310\n",
      "Epoch 5/6\n",
      "49/49 [==============================] - 0s 3ms/step - loss: 0.3459 - accuracy: 0.8495 - val_loss: 0.3854 - val_accuracy: 0.8272\n",
      "Epoch 6/6\n",
      "49/49 [==============================] - 0s 3ms/step - loss: 0.3327 - accuracy: 0.8560 - val_loss: 0.3798 - val_accuracy: 0.8303\n"
     ]
    }
   ],
   "source": [
    "training_history = model.fit(x_train, y_train, epochs=6, batch_size = 512, validation_data = (x_test, y_test),\n",
    "                                  verbose=1)"
   ]
  },
  {
   "cell_type": "markdown",
   "metadata": {},
   "source": [
    "$6$ epochs. Since the batch_size is $512$, each epoch has $25000/512 = 49$ steps. ($25000$ is the number of samples in the training set).\n",
    "\n",
    "At the end of each epoch, several information are shown: the time; the loss (on the training data); the accuracy (on the training dat); the loss on the validation data (i.e. test data in this case); the accuracy on the validation data (i.e. test data in this case)."
   ]
  },
  {
   "cell_type": "markdown",
   "metadata": {},
   "source": [
    "### Analyzing the results"
   ]
  },
  {
   "cell_type": "markdown",
   "metadata": {},
   "source": [
    "The object returned by the fit method contains the history of the training process. Basically, it contains the `loss`, `accuracy`, `val_loss`, `val_accuracy` with respect to the each epoch."
   ]
  },
  {
   "cell_type": "code",
   "execution_count": 11,
   "metadata": {
    "colab": {
     "base_uri": "https://localhost:8080/"
    },
    "id": "-C0VudEIciL1",
    "outputId": "ed19a116-e04b-4192-8d10-13b237f48855"
   },
   "outputs": [
    {
     "name": "stdout",
     "output_type": "stream",
     "text": [
      "dict_keys(['loss', 'accuracy', 'val_loss', 'val_accuracy'])\n"
     ]
    }
   ],
   "source": [
    "print(base_history.history.keys())"
   ]
  },
  {
   "cell_type": "markdown",
   "metadata": {},
   "source": [
    "So, we can make the plot of these scores with respect to the number of epochs."
   ]
  },
  {
   "cell_type": "markdown",
   "metadata": {
    "id": "CsvLwbjLzFUf"
   },
   "source": [
    "The following function allows us to plot the results."
   ]
  },
  {
   "cell_type": "code",
   "execution_count": 18,
   "metadata": {
    "colab": {
     "base_uri": "https://localhost:8080/",
     "height": 541
    },
    "id": "7TdM-_YpcyiZ",
    "outputId": "81340c5e-686e-40d1-cfaf-c4ae1f6fcdcf"
   },
   "outputs": [],
   "source": [
    "def plot_history(training_history, n_epochs):\n",
    "    epochs = range(1,n_epochs+1)\n",
    "\n",
    "    plt.plot(epochs, training_history.history['loss'], label='train_loss')\n",
    "    plt.plot(epochs, training_history.history['val_loss'], label='val_loss')\n",
    "    plt.legend()\n",
    "    plt.grid()\n",
    "    plt.xlabel('Number of epochs')\n",
    "    plt.title('Loss')\n",
    "\n",
    "    plt.figure()\n",
    "    plt.plot(epochs, training_history.history['accuracy'], label='train_accuracy')\n",
    "    plt.plot(epochs, training_history.history['val_accuracy'], label='val_accuracy')\n",
    "    plt.legend()\n",
    "    plt.grid()\n",
    "    plt.xlabel('Number of epochs')\n",
    "    plt.title('Accuracy')"
   ]
  },
  {
   "cell_type": "code",
   "execution_count": 19,
   "metadata": {},
   "outputs": [
    {
     "data": {
      "image/png": "[encoded data removed]",
      "text/plain": [
       "<Figure size 432x288 with 1 Axes>"
      ]
     },
     "metadata": {
      "needs_background": "light"
     },
     "output_type": "display_data"
    },
    {
     "data": {
      "image/png": "[encoded data removed]",
      "text/plain": [
       "<Figure size 432x288 with 1 Axes>"
      ]
     },
     "metadata": {
      "needs_background": "light"
     },
     "output_type": "display_data"
    }
   ],
   "source": [
    "plot_history(training_history, n_epochs=6)"
   ]
  },
  {
   "cell_type": "markdown",
   "metadata": {},
   "source": [
    "We can see that in the rigth tail (biggest number of epochs, i.e. biggest complexity) the validation score (either loss or accuracy) is worse than using a smaller number of epochs. Basically, the validation score slightly decreases in the right tail. And it is also very oscillating. \n",
    "\n",
    "This means that there is a little bit of **overfitting**!!! The model is too complex."
   ]
  },
  {
   "cell_type": "markdown",
   "metadata": {},
   "source": [
    "## TECHNIQUES FOR REDUCING OVERFITTING"
   ]
  },
  {
   "cell_type": "markdown",
   "metadata": {},
   "source": [
    "We will now see some techniques for reducing overfitting.\n",
    "\n",
    "There are several possible techniques. \n",
    "\n",
    "For now, we see only three techniques:\n",
    "1. Regularization\n",
    "2. Drop Out\n",
    "3. Early Stopping"
   ]
  },
  {
   "cell_type": "markdown",
   "metadata": {},
   "source": [
    "We apply these techniques independently. However, usually (in real life problems) we apply them altogether. We apply more techniques at the same time.  "
   ]
  },
  {
   "cell_type": "markdown",
   "metadata": {
    "id": "IXZ69_z61pTC"
   },
   "source": [
    "## REGULARIZATION"
   ]
  },
  {
   "cell_type": "markdown",
   "metadata": {},
   "source": [
    "### General description"
   ]
  },
  {
   "cell_type": "markdown",
   "metadata": {},
   "source": [
    "Regularization is a family of techniques which are not used only in NNs, but they are used in general in mathematics and ML. \n",
    "\n",
    "The most important regularization technique is **weight decay**, or weigth regularization. It consists in keeping the weights of the NN as small as possible. For doing this, we add to the loss function a regularization component (or error), called weigth decay, which try to reduce the values of the weigths.\n",
    "\n",
    "There are two classes of weigth decay.\n",
    "1. L1 regularization. The weigth decay is proportional to $\\sum |w_i|$. (Linear, the exponent is $1$). The multiplicative factor is $\\lambda$.\n",
    "2. L2 regularization. The weigth decay component is proportional to $\\sum w_i^2$. (Quadratic, the exponent is $2$).  The multiplicative factor is $\\lambda$.\n",
    "\n",
    "So, the weigth decay component is added to the loss function: $Loss = Loss + WeigthDecay$. Since $WightDecay = \\sum |w_i|$ or $WightDecay = \\sum w_i^2$, and since we want to minimize $Loss$, the result of adding the $WeigthDecay$ is to reduce the magnitude of the weigths.\n",
    "\n",
    "The bigger $\\lambda$, and the bigger is the impact of the $WeigthDecay$ component (i.e. the more the weigths values are reduced)."
   ]
  },
  {
   "cell_type": "markdown",
   "metadata": {},
   "source": [
    "**Insight**: why are we interested in keeping the values of the weigths as small as possible?\n",
    "- Ill conditioning problem: the bigger the weigths, the bigger the ill-conditioning of the NN (basically, a small error in the input of the NN generates a big error in the output of the NN).\n",
    "-If the weigths are big, the gradient of the loss function becomes more and more near $0$: so, the training is much less effective. More useless training."
   ]
  },
  {
   "cell_type": "markdown",
   "metadata": {},
   "source": [
    "### Add regularization into our NN"
   ]
  },
  {
   "cell_type": "markdown",
   "metadata": {
    "id": "Vt3bBvXZzMU0"
   },
   "source": [
    "Now we modify our previous NN by adding regularization. \n",
    "\n",
    "In keras, we add regularization layer by layer. Basically, we inject regularization into a layer: the effect is that all the weigths in that layer are \"regularized\". The weight decay is applied to all the weigths in that layer.\n",
    "\n",
    "The entity that we inject into a layer for the regularization of the weigths is called **regularizer**."
   ]
  },
  {
   "cell_type": "code",
   "execution_count": 21,
   "metadata": {
    "id": "s22gY8U1dkYo"
   },
   "outputs": [],
   "source": [
    "from keras import regularizers  # Import the regularizers"
   ]
  },
  {
   "cell_type": "markdown",
   "metadata": {},
   "source": [
    "We add into the first hidden layer a L2 regularizer, with $\\lambda=0.005$.\n",
    "\n",
    "We do the same thing also to the second hidden layer."
   ]
  },
  {
   "cell_type": "code",
   "execution_count": 22,
   "metadata": {},
   "outputs": [],
   "source": [
    "xin = Input(shape=(M,))\n",
    "x = Dense(64, activation='relu', kernel_regularizer=regularizers.l2(0.005))(xin)\n",
    "x = Dense(16, activation='relu', kernel_regularizer=regularizers.l2(0.005))(x)\n",
    "x = Dense(1, activation='sigmoid')(x)\n",
    "\n",
    "model = Model(xin, x)"
   ]
  },
  {
   "cell_type": "markdown",
   "metadata": {},
   "source": [
    "### Compile and train the NN"
   ]
  },
  {
   "cell_type": "markdown",
   "metadata": {},
   "source": [
    "We compile the model as before."
   ]
  },
  {
   "cell_type": "code",
   "execution_count": 23,
   "metadata": {
    "id": "VDnk7L2Eeh7q"
   },
   "outputs": [],
   "source": [
    "model.compile(optimizer='adam', loss='binary_crossentropy', metrics=['accuracy'])"
   ]
  },
  {
   "cell_type": "markdown",
   "metadata": {},
   "source": [
    "We train the model as before."
   ]
  },
  {
   "cell_type": "code",
   "execution_count": 24,
   "metadata": {
    "colab": {
     "base_uri": "https://localhost:8080/"
    },
    "id": "4fuUgMPpewd_",
    "outputId": "7bb9aa15-250a-410d-896e-c7799ce0f9bb"
   },
   "outputs": [
    {
     "name": "stdout",
     "output_type": "stream",
     "text": [
      "Epoch 1/5\n",
      "49/49 - 1s - loss: 1.0533 - accuracy: 0.7116 - val_loss: 0.7706 - val_accuracy: 0.8089 - 1s/epoch - 21ms/step\n",
      "Epoch 2/5\n",
      "49/49 - 0s - loss: 0.6606 - accuracy: 0.8231 - val_loss: 0.5969 - val_accuracy: 0.8259 - 284ms/epoch - 6ms/step\n",
      "Epoch 3/5\n",
      "49/49 - 0s - loss: 0.5516 - accuracy: 0.8333 - val_loss: 0.5293 - val_accuracy: 0.8309 - 258ms/epoch - 5ms/step\n",
      "Epoch 4/5\n",
      "49/49 - 0s - loss: 0.5090 - accuracy: 0.8324 - val_loss: 0.4995 - val_accuracy: 0.8300 - 275ms/epoch - 6ms/step\n",
      "Epoch 5/5\n",
      "49/49 - 0s - loss: 0.4806 - accuracy: 0.8369 - val_loss: 0.4787 - val_accuracy: 0.8320 - 350ms/epoch - 7ms/step\n"
     ]
    }
   ],
   "source": [
    "training_history = model.fit(x_train, y_train, epochs=5, batch_size=512, validation_data=(x_test, y_test),\n",
    "                             verbose=1)"
   ]
  },
  {
   "cell_type": "markdown",
   "metadata": {},
   "source": [
    "### Analyzing the results"
   ]
  },
  {
   "cell_type": "markdown",
   "metadata": {},
   "source": [
    "Val loss: $0.4787$. Val accuracy: $0.8320$."
   ]
  },
  {
   "cell_type": "code",
   "execution_count": 26,
   "metadata": {
    "colab": {
     "base_uri": "https://localhost:8080/",
     "height": 541
    },
    "id": "t3TrT7ydfVgw",
    "outputId": "5bb08f55-ec52-4d41-b4e2-a1490e14493a"
   },
   "outputs": [
    {
     "data": {
      "image/png": "[encoded data removed]",
      "text/plain": [
       "<Figure size 432x288 with 1 Axes>"
      ]
     },
     "metadata": {
      "needs_background": "light"
     },
     "output_type": "display_data"
    },
    {
     "data": {
      "image/png": "[encoded data removed]",
      "text/plain": [
       "<Figure size 432x288 with 1 Axes>"
      ]
     },
     "metadata": {
      "needs_background": "light"
     },
     "output_type": "display_data"
    }
   ],
   "source": [
    "plot_history(training_history, n_epochs=5)"
   ]
  },
  {
   "cell_type": "markdown",
   "metadata": {},
   "source": [
    "The right tail of the validation score (either loss or accuracy) is much better now! It is closer to the training score and it is much less oscillating (i.e. much more stable).\n",
    "\n",
    "**We have reduced overfitting!!!**"
   ]
  },
  {
   "cell_type": "markdown",
   "metadata": {},
   "source": [
    "### Try L1 regularization"
   ]
  },
  {
   "cell_type": "markdown",
   "metadata": {},
   "source": [
    "We have used L2 regularization. Let's try L2 regularization."
   ]
  },
  {
   "cell_type": "code",
   "execution_count": 50,
   "metadata": {},
   "outputs": [],
   "source": [
    "xin = Input(shape=(M,))\n",
    "x = Dense(64, activation='relu', kernel_regularizer=regularizers.l1(0.005))(xin)\n",
    "x = Dense(16, activation='relu', kernel_regularizer=regularizers.l1(0.005))(x)\n",
    "x = Dense(1, activation='sigmoid')(x)\n",
    "\n",
    "model = Model(xin, x)"
   ]
  },
  {
   "cell_type": "code",
   "execution_count": 51,
   "metadata": {},
   "outputs": [],
   "source": [
    "model.compile(optimizer='adam', loss='binary_crossentropy', metrics=['accuracy'])"
   ]
  },
  {
   "cell_type": "code",
   "execution_count": 52,
   "metadata": {},
   "outputs": [
    {
     "name": "stdout",
     "output_type": "stream",
     "text": [
      "Epoch 1/5\n",
      "49/49 [==============================] - 1s 9ms/step - loss: 6.4133 - accuracy: 0.5701 - val_loss: 3.5891 - val_accuracy: 0.6435\n",
      "Epoch 2/5\n",
      "49/49 [==============================] - 0s 8ms/step - loss: 2.0755 - accuracy: 0.7243 - val_loss: 1.1231 - val_accuracy: 0.7492\n",
      "Epoch 3/5\n",
      "49/49 [==============================] - 0s 7ms/step - loss: 0.9705 - accuracy: 0.7593 - val_loss: 0.8587 - val_accuracy: 0.7599\n",
      "Epoch 4/5\n",
      "49/49 [==============================] - 0s 6ms/step - loss: 0.7843 - accuracy: 0.7765 - val_loss: 0.7197 - val_accuracy: 0.7817\n",
      "Epoch 5/5\n",
      "49/49 [==============================] - 0s 8ms/step - loss: 0.6701 - accuracy: 0.7976 - val_loss: 0.6314 - val_accuracy: 0.7989\n"
     ]
    }
   ],
   "source": [
    "training_history = model.fit(x_train, y_train, epochs=5, batch_size=512, validation_data=(x_test, y_test),\n",
    "                             verbose=1)"
   ]
  },
  {
   "cell_type": "code",
   "execution_count": 53,
   "metadata": {},
   "outputs": [
    {
     "data": {
      "image/png": "[encoded data removed]",
      "text/plain": [
       "<Figure size 432x288 with 1 Axes>"
      ]
     },
     "metadata": {
      "needs_background": "light"
     },
     "output_type": "display_data"
    },
    {
     "data": {
      "image/png": "[encoded data removed]",
      "text/plain": [
       "<Figure size 432x288 with 1 Axes>"
      ]
     },
     "metadata": {
      "needs_background": "light"
     },
     "output_type": "display_data"
    }
   ],
   "source": [
    "plot_history(training_history, n_epochs=5)"
   ]
  },
  {
   "cell_type": "markdown",
   "metadata": {},
   "source": [
    "Similar results."
   ]
  },
  {
   "cell_type": "markdown",
   "metadata": {
    "id": "fZs5oVRF0LAK"
   },
   "source": [
    "## DROPOUT"
   ]
  },
  {
   "cell_type": "markdown",
   "metadata": {},
   "source": [
    "### General description"
   ]
  },
  {
   "cell_type": "markdown",
   "metadata": {
    "id": "QtVCugQW09_1"
   },
   "source": [
    "Dropout is an alternative technique for reducing overfitting. It is specific for NNs.\n",
    "\n",
    "It consists in randomly, with a given certain probability $p$, disabling some neurons of the NN. Basically, each neuron of the NN has probability $p$ of being disabled. $p$ is an hyperparameter of the Drop Out technique.\n",
    "\n",
    "Let's explain that more precisely."
   ]
  },
  {
   "cell_type": "markdown",
   "metadata": {},
   "source": [
    "During training.\n",
    "\n",
    "In each training step, i.e. forward-backward step, some neurons are randomly disabled, with probability $p$. So, each neuron has probability $p$ of being disabled. \n",
    "\n",
    "If a neuron is disabled, this means that it does not impact at all that forward-backward step. It's like that all its outputs are $0$. It's like that it has been removed from the NN.\n",
    "\n",
    "In different training steps, different neurons are disabled (with same probability $p$).\n",
    "\n",
    "The weigths of the neurons are updated step by step (as usual). If a neuron is disabled, its weigths are kept as they are. They are not azzerated. So, in the next training step, the update of these weigths can go on."
   ]
  },
  {
   "cell_type": "markdown",
   "metadata": {},
   "source": [
    "During prediction time.\n",
    "\n",
    "All the neurons are kept. All the neurons work. But each neuron is weigthed with $p$."
   ]
  },
  {
   "cell_type": "markdown",
   "metadata": {},
   "source": [
    "### Add Drop Out into our NN"
   ]
  },
  {
   "cell_type": "markdown",
   "metadata": {
    "id": "Vt3bBvXZzMU0"
   },
   "source": [
    "Now we modify our previous base NN by adding Drop Out. \n",
    "\n",
    "In keras, the Drop Out technique is added layer by layer. Basically, I specify that I apply the Drop Out on the neurons of a certain layer.\n",
    "\n",
    "More precisely, in keras Drop Out is a layer. It can be inserted between dense layers. The meaning is that the Drop Out technique is applied on the previous dense layer with respect to the Dense Layer. It works on the previous layer.\n",
    "\n",
    "Many Drop Out layers can be inserted, which means that we apply the Drop Out technique on different dense layers."
   ]
  },
  {
   "cell_type": "code",
   "execution_count": 27,
   "metadata": {
    "id": "i_ZA6nn3hI8G"
   },
   "outputs": [],
   "source": [
    "from keras.layers import Dropout  # Import the DropOut layer"
   ]
  },
  {
   "cell_type": "markdown",
   "metadata": {
    "id": "lyCHPs5W1XNo"
   },
   "source": [
    "We add the Drop Out technique to the first hidden dense layer: so, we add the DropOut layer after this hidden layer. \n",
    "\n",
    "We do the same with the second hidden dense layer.\n",
    "\n",
    "In both cases, we use $p=0.5$."
   ]
  },
  {
   "cell_type": "code",
   "execution_count": 28,
   "metadata": {
    "id": "XNNVUxxThTtO"
   },
   "outputs": [],
   "source": [
    "xin = Input(shape=(M,))\n",
    "x = Dense(64, activation='relu')(xin)\n",
    "x = Dropout(0.5)(x)\n",
    "x = Dense(16, activation='relu')(x)\n",
    "x = Dropout(0.5)(x)\n",
    "x = Dense(1, activation='sigmoid')(x)\n",
    "\n",
    "model = Model(xin, x)"
   ]
  },
  {
   "cell_type": "code",
   "execution_count": 30,
   "metadata": {
    "colab": {
     "base_uri": "https://localhost:8080/"
    },
    "id": "E-BUqoVgq1NE",
    "outputId": "5e1a9e55-2ef2-4b93-f93e-9eaff204f51f"
   },
   "outputs": [
    {
     "name": "stdout",
     "output_type": "stream",
     "text": [
      "Model: \"model_2\"\n",
      "_________________________________________________________________\n",
      " Layer (type)                Output Shape              Param #   \n",
      "=================================================================\n",
      " input_4 (InputLayer)        [(None, 500)]             0         \n",
      "                                                                 \n",
      " dense_9 (Dense)             (None, 64)                32064     \n",
      "                                                                 \n",
      " dropout (Dropout)           (None, 64)                0         \n",
      "                                                                 \n",
      " dense_10 (Dense)            (None, 16)                1040      \n",
      "                                                                 \n",
      " dropout_1 (Dropout)         (None, 16)                0         \n",
      "                                                                 \n",
      " dense_11 (Dense)            (None, 1)                 17        \n",
      "                                                                 \n",
      "=================================================================\n",
      "Total params: 33,121\n",
      "Trainable params: 33,121\n",
      "Non-trainable params: 0\n",
      "_________________________________________________________________\n"
     ]
    }
   ],
   "source": [
    "model.summary()"
   ]
  },
  {
   "cell_type": "markdown",
   "metadata": {},
   "source": [
    "In the summary, we can see the two DropOut layers. They don't have any parameter."
   ]
  },
  {
   "cell_type": "markdown",
   "metadata": {},
   "source": [
    "### Compile and train the NN"
   ]
  },
  {
   "cell_type": "markdown",
   "metadata": {},
   "source": [
    "We compile and train the model as before."
   ]
  },
  {
   "cell_type": "code",
   "execution_count": 31,
   "metadata": {
    "id": "MtwSyEeYh5jS"
   },
   "outputs": [],
   "source": [
    "model.compile(optimizer='adam', loss='binary_crossentropy', metrics=['accuracy'])"
   ]
  },
  {
   "cell_type": "code",
   "execution_count": 32,
   "metadata": {
    "colab": {
     "base_uri": "https://localhost:8080/"
    },
    "id": "YdubTd_ViHz4",
    "outputId": "ba08257e-19a5-440a-c49e-c3fc708eab74",
    "scrolled": true
   },
   "outputs": [
    {
     "name": "stdout",
     "output_type": "stream",
     "text": [
      "Epoch 1/5\n",
      "49/49 [==============================] - 1s 10ms/step - loss: 0.6831 - accuracy: 0.5564 - val_loss: 0.6345 - val_accuracy: 0.7303\n",
      "Epoch 2/5\n",
      "49/49 [==============================] - 0s 6ms/step - loss: 0.5891 - accuracy: 0.6928 - val_loss: 0.4788 - val_accuracy: 0.8010\n",
      "Epoch 3/5\n",
      "49/49 [==============================] - 0s 10ms/step - loss: 0.4956 - accuracy: 0.7687 - val_loss: 0.4137 - val_accuracy: 0.8179\n",
      "Epoch 4/5\n",
      "49/49 [==============================] - 0s 7ms/step - loss: 0.4513 - accuracy: 0.7970 - val_loss: 0.3924 - val_accuracy: 0.8259\n",
      "Epoch 5/5\n",
      "49/49 [==============================] - 0s 9ms/step - loss: 0.4305 - accuracy: 0.8126 - val_loss: 0.3826 - val_accuracy: 0.8278\n"
     ]
    }
   ],
   "source": [
    "training_history = model.fit(x_train, y_train, epochs=5, batch_size=512, validation_data=(x_test, y_test), verbose=1)"
   ]
  },
  {
   "cell_type": "markdown",
   "metadata": {},
   "source": [
    "### Analyzing the results"
   ]
  },
  {
   "cell_type": "code",
   "execution_count": 33,
   "metadata": {
    "colab": {
     "base_uri": "https://localhost:8080/",
     "height": 541
    },
    "id": "t3TrT7ydfVgw",
    "outputId": "5bb08f55-ec52-4d41-b4e2-a1490e14493a"
   },
   "outputs": [
    {
     "data": {
      "image/png": "[encoded data removed]",
      "text/plain": [
       "<Figure size 432x288 with 1 Axes>"
      ]
     },
     "metadata": {
      "needs_background": "light"
     },
     "output_type": "display_data"
    },
    {
     "data": {
      "image/png": "[encoded data removed]",
      "text/plain": [
       "<Figure size 432x288 with 1 Axes>"
      ]
     },
     "metadata": {
      "needs_background": "light"
     },
     "output_type": "display_data"
    }
   ],
   "source": [
    "plot_history(training_history, n_epochs=5)"
   ]
  },
  {
   "cell_type": "markdown",
   "metadata": {},
   "source": [
    "The right tail of the validation score (either loss or accuracy) is much better now! It is better than the training score and it is much less oscillating (i.e. much more stable).\n",
    "\n",
    "**We have reduced overfitting!!!**"
   ]
  },
  {
   "cell_type": "markdown",
   "metadata": {
    "id": "xQPVeOrtM8Lf"
   },
   "source": [
    "## EARLY STOPPING"
   ]
  },
  {
   "cell_type": "markdown",
   "metadata": {},
   "source": [
    "### General description"
   ]
  },
  {
   "cell_type": "markdown",
   "metadata": {
    "id": "QtVCugQW09_1"
   },
   "source": [
    "Early stopping is an alternative technique for reducing overfitting. \n",
    "\n",
    "It consists in monitoring a certain score measure during training, epoch after epoch. This measure is typically a score measure on the validation set (e.g. 'val_loss', 'val_accuracy'). \n",
    "\n",
    "If, at a certain epoch during training, this measure does not improve anymore, then the training is prematurely stopped. The training stops prematurely at that epoch, and it does not continue doing all the number of epochs specified by the user.\n",
    "\n",
    "To sum up: the training is stopped prematurely if a certain measure (on the validation set) does not improve anymore. "
   ]
  },
  {
   "cell_type": "markdown",
   "metadata": {},
   "source": [
    "This technique clearly reduces overfitting, since we reduce the number of epochs. We stop the training as soon as a certain validation score does not improve anymore."
   ]
  },
  {
   "cell_type": "markdown",
   "metadata": {},
   "source": [
    "Since there is the early stopping technique, the user can be much more relaxed in defining the number of epochs of the training. It can define also a big number: if the training does not improve our monitored score, the training is prematurely stopped."
   ]
  },
  {
   "cell_type": "markdown",
   "metadata": {},
   "source": [
    "### Early Stopping in Keras"
   ]
  },
  {
   "cell_type": "markdown",
   "metadata": {},
   "source": [
    "In Keras, the early stopping technique is implemented as a **callback** (i.e. function) that can be passed to the `fit` method.\n",
    "\n",
    "Callback which is called at the end of each epoch, and if the monitored validation score has not improved, the training is stopped."
   ]
  },
  {
   "cell_type": "markdown",
   "metadata": {},
   "source": [
    "The user can define his own Early Stopping callback.\n",
    "\n",
    "But, typically, the Early Stopping callback is defined as an istance of the `EarlyStopping` keras class: this class simplify the creation of Early Stopping callbacks.\n",
    "\n",
    "Important arguments that must be specified for creating an early stopping callback.\n",
    "- `monitor`: score measure that must be monitored during training, epoch after epoch.\n",
    "- `min_delta`: minimum amount of change of the monitored score, with respect to the previous epoch, such that it is considered an improvement.\n",
    "- `patience`: number of maximum contiguous epochs with no improvement of the monitored score that we can wait before stopping the training."
   ]
  },
  {
   "cell_type": "markdown",
   "metadata": {},
   "source": [
    "Let's define our early stopping callback.\n",
    "- `monitor='val_loss`\n",
    "- `min_delta=0`\n",
    "- `patience=3`"
   ]
  },
  {
   "cell_type": "code",
   "execution_count": 34,
   "metadata": {
    "id": "x-ZKC8eqNAxd"
   },
   "outputs": [],
   "source": [
    "from keras.callbacks import EarlyStopping  # Import the EarlyStopping class\n",
    "\n",
    "early_stop_callback = EarlyStopping(monitor='val_loss', patience=3)  # Default min_delta=0"
   ]
  },
  {
   "cell_type": "markdown",
   "metadata": {},
   "source": [
    "### Add Early Stopping into our NN"
   ]
  },
  {
   "cell_type": "markdown",
   "metadata": {},
   "source": [
    "Actually, early stopping does not change the model. It is simply a callback which is passed to the `fit` method."
   ]
  },
  {
   "cell_type": "code",
   "execution_count": 40,
   "metadata": {},
   "outputs": [],
   "source": [
    "xin = Input(shape=(M,))\n",
    "x = Dense(64, activation='relu')(xin)\n",
    "x = Dense(16, activation='relu')(x)\n",
    "x = Dense(1, activation='sigmoid')(x)\n",
    "\n",
    "model = Model(xin, x)"
   ]
  },
  {
   "cell_type": "markdown",
   "metadata": {},
   "source": [
    "### Compile and fit the NN"
   ]
  },
  {
   "cell_type": "markdown",
   "metadata": {},
   "source": [
    "Compile as before."
   ]
  },
  {
   "cell_type": "code",
   "execution_count": 41,
   "metadata": {},
   "outputs": [],
   "source": [
    "model.compile(optimizer='adam', loss='binary_crossentropy', metrics=['accuracy'])"
   ]
  },
  {
   "cell_type": "markdown",
   "metadata": {},
   "source": [
    "We pass the early stopping callback to the `fit` method.\n",
    "\n",
    "Note that now we pass a much bigger number of epochs: `epochs=20`. Thanks to the early stopping, we can be more relaxed in the number of epochs."
   ]
  },
  {
   "cell_type": "code",
   "execution_count": 42,
   "metadata": {
    "colab": {
     "base_uri": "https://localhost:8080/"
    },
    "id": "qvoIFERUP7Wl",
    "outputId": "b44f6b69-032d-4370-fb5a-f580f76729ca"
   },
   "outputs": [
    {
     "name": "stdout",
     "output_type": "stream",
     "text": [
      "Epoch 1/20\n",
      "49/49 [==============================] - 1s 9ms/step - loss: 0.5535 - accuracy: 0.7215 - val_loss: 0.4327 - val_accuracy: 0.8048\n",
      "Epoch 2/20\n",
      "49/49 [==============================] - 0s 8ms/step - loss: 0.3974 - accuracy: 0.8247 - val_loss: 0.3937 - val_accuracy: 0.8272\n",
      "Epoch 3/20\n",
      "49/49 [==============================] - 0s 7ms/step - loss: 0.3721 - accuracy: 0.8360 - val_loss: 0.3835 - val_accuracy: 0.8325\n",
      "Epoch 4/20\n",
      "49/49 [==============================] - 0s 7ms/step - loss: 0.3622 - accuracy: 0.8407 - val_loss: 0.3823 - val_accuracy: 0.8318\n",
      "Epoch 5/20\n",
      "49/49 [==============================] - 0s 7ms/step - loss: 0.3569 - accuracy: 0.8430 - val_loss: 0.3902 - val_accuracy: 0.8276\n",
      "Epoch 6/20\n",
      "49/49 [==============================] - 0s 7ms/step - loss: 0.3469 - accuracy: 0.8465 - val_loss: 0.3794 - val_accuracy: 0.8326\n",
      "Epoch 7/20\n",
      "49/49 [==============================] - 0s 7ms/step - loss: 0.3366 - accuracy: 0.8535 - val_loss: 0.3799 - val_accuracy: 0.8322\n",
      "Epoch 8/20\n",
      "49/49 [==============================] - 0s 7ms/step - loss: 0.3231 - accuracy: 0.8610 - val_loss: 0.3823 - val_accuracy: 0.8319\n",
      "Epoch 9/20\n",
      "49/49 [==============================] - 0s 7ms/step - loss: 0.3086 - accuracy: 0.8682 - val_loss: 0.3926 - val_accuracy: 0.8262\n"
     ]
    }
   ],
   "source": [
    "training_history = model.fit(x_train, y_train, batch_size=512, epochs=20, verbose=1, validation_data=(x_test,y_test),\n",
    "          callbacks=[early_stop_callback], shuffle=True)"
   ]
  },
  {
   "cell_type": "markdown",
   "metadata": {},
   "source": [
    "So, the training has been stopped prematurely: epoch $9$ instead of $20$. This because in the last $3$ epochs (i.e. $7, 8, 9$) the `val_loss` has not improved. "
   ]
  },
  {
   "cell_type": "markdown",
   "metadata": {},
   "source": [
    "### Analyzing the results"
   ]
  },
  {
   "cell_type": "code",
   "execution_count": 44,
   "metadata": {
    "colab": {
     "base_uri": "https://localhost:8080/",
     "height": 541
    },
    "id": "t3TrT7ydfVgw",
    "outputId": "5bb08f55-ec52-4d41-b4e2-a1490e14493a"
   },
   "outputs": [
    {
     "data": {
      "image/png": "[encoded data removed]",
      "text/plain": [
       "<Figure size 432x288 with 1 Axes>"
      ]
     },
     "metadata": {
      "needs_background": "light"
     },
     "output_type": "display_data"
    },
    {
     "data": {
      "image/png": "[encoded data removed]",
      "text/plain": [
       "<Figure size 432x288 with 1 Axes>"
      ]
     },
     "metadata": {
      "needs_background": "light"
     },
     "output_type": "display_data"
    }
   ],
   "source": [
    "plot_history(training_history, n_epochs=9)"
   ]
  },
  {
   "cell_type": "markdown",
   "metadata": {},
   "source": [
    "**Some overfitting as been reduced, but not as much with the other two techniques.**"
   ]
  }
 ],
 "metadata": {
  "colab": {
   "collapsed_sections": [],
   "name": "imdb.ipynb",
   "provenance": []
  },
  "kernelspec": {
   "display_name": "Python 3",
   "language": "python",
   "name": "python3"
  },
  "language_info": {
   "codemirror_mode": {
    "name": "ipython",
    "version": 3
   },
   "file_extension": ".py",
   "mimetype": "text/x-python",
   "name": "python",
   "nbconvert_exporter": "python",
   "pygments_lexer": "ipython3",
   "version": "3.8.8"
  }
 },
 "nbformat": 4,
 "nbformat_minor": 1
}
