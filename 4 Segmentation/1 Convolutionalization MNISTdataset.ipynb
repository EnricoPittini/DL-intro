{
 "cells": [
  {
   "cell_type": "markdown",
   "id": "90ee2ac2",
   "metadata": {},
   "source": [
    "# Convolutionalization\n",
    "\n",
    "First technique we see for semantic segmentation. It was mosre used in the past."
   ]
  },
  {
   "cell_type": "raw",
   "id": "d3a71fe5",
   "metadata": {},
   "source": []
  },
  {
   "cell_type": "markdown",
   "id": "eea36853",
   "metadata": {},
   "source": [
    "## CONVOLUTIONALIZATION : IDEA"
   ]
  },
  {
   "cell_type": "markdown",
   "id": "3843f009",
   "metadata": {},
   "source": [
    "**Starting point: classifier NN**\n",
    "\n",
    "Let's suppose that we have an already trained classifier NN. It takes in input an image and it classifies it, by returning the predicted categorical distribution. The output is a categorical distribution over the classes.\n",
    "\n",
    "This classifies NN is a Conv NN. So, we know that the structure is the following:\n",
    "- Conv part: features extraction\n",
    "- Dense part: features exploitation\n",
    "\n",
    "Example of classifier NN on the MNIST dataset: NN which takes in input an image representing a digit, and it returns the probability distribution over the classes/digits."
   ]
  },
  {
   "cell_type": "markdown",
   "id": "225ce7a0",
   "metadata": {},
   "source": [
    "**Aim: segmenter NN**\n",
    "\n",
    "Our aim is to build a segmenter NN. It takes in input an image and it returns an image, where for each pixel we have a categorical distribution over the classes. The output image has $k$ channels, one for each possible class.\n",
    "\n",
    "Example of segmenter NN on the MNIST dataset: NN which takes in input an image containing more digits, and it returns an image containing, for each pixel, the probability distribution over the classes/digits."
   ]
  },
  {
   "cell_type": "markdown",
   "id": "6bd8d8e0",
   "metadata": {},
   "source": [
    "**Convolutionalization**\n",
    "\n",
    "We can build our segmenter NN by using the classifier NN. \n",
    "\n",
    "The idea is that we slide our classifier NN over each pixel of the input image. In this way, for each pixel, we get a categorical distribution. We obtain a categorical distribution for each pixel. Image with $k$ channels.\n",
    "\n",
    "We slide the classifier NN over each position. We convolve the classifier NN across the input image. Like a kernel. This is calles *convolutionalization*.\n",
    "\n",
    "We build our segmenter NN in this way."
   ]
  },
  {
   "cell_type": "markdown",
   "id": "379d8bf1",
   "metadata": {},
   "source": [
    "**Convolutionalization in practice**\n",
    "\n",
    "So, we want to convolve our classifier NN over the input image. \n",
    "\n",
    "For doing so, we transform our classifier NN into a fully Conv NN. **Fully CNN**. Basically, same NN, but it is fully Convolutional. Only Conv layers.\n",
    "\n",
    "More precisely, same NN of the Conv NN, but we take the Dense part, and we transform it to a Con part. We transform Dense layers to Conv layers.\n",
    "\n",
    "By transformin our classifier NN into its fully Conv version, we are applying convolutionalization. This fully CNN represents a single big convolution, which is exactly about convolving our classifier NN over the input image.\n",
    "\n",
    "And this new NN is our segmenter NN."
   ]
  },
  {
   "cell_type": "markdown",
   "id": "c9fb5de7",
   "metadata": {},
   "source": [
    "### Sum up\n",
    "\n",
    "- We have our already trained **classifier NN**.\n",
    "    * It's not a fully CNN (it has also dense layer)\n",
    "    * It returns a single output. Single categorical distribution.\n",
    "- We make transform this classifier into a fully CNN: this is our **segmenter NN**.\n",
    "    * Fully CNN. Only Conv layers (no dense layers).\n",
    "    * It returns a structured output. It returns an image, in which for each pixel we have the corresponding categorical distribution. Image with $k$ channels, one for each class.\n",
    "    * This segmenter NN can be seen as a single convolution, consisting in convolving the classifier NN over the input image.\n",
    "    \n",
    "This transformation is called **convolutionalization**."
   ]
  },
  {
   "cell_type": "markdown",
   "id": "c650e8d3",
   "metadata": {},
   "source": [
    "### We don't need any additional training\n",
    "\n",
    "A very interesting point is that, once we have our trained classifier NN, we don't need any additional training. We don't need to do a specific train for our segmenter NN. We take the exact same weigths of the classifier NN.\n",
    "\n",
    "Advantages of this:\n",
    "- Only one training phase;\n",
    "- We don't need a segmented dataset (Which can be difficult to get)."
   ]
  },
  {
   "cell_type": "markdown",
   "id": "86b6af71",
   "metadata": {},
   "source": [
    "### Problem: background category\n",
    "\n",
    "A classic classifier NN does not need to worry about the background cateogry. However, if we want to use it for building a segmenter NN, we have to worry about the background category. Let's better explain this with an example.\n",
    "\n",
    "MNIST dataset. If we simply build a classifier NN, we consider only $10$ classes. corresponding to the $10$ digits. We want to classify the $10$ digits.\n",
    "\n",
    "However, the segmenter NN instead has $11$ classes. Because we have to consider also the background. We have to classify each pixel of the image, and some pixels can be simply be background pixels. Therefore, we need to be able to classify also the background: $11$ classes.\n",
    "\n",
    "This means that the starting classifier NN needs to be able as well to classify also the background. $11$ classes.\n",
    "\n",
    "How to train our classifier in recognizing the background if in our MNIST dataset we have only images about digits? We have to syntethize background images... See later. "
   ]
  },
  {
   "cell_type": "raw",
   "id": "3e6228a2",
   "metadata": {},
   "source": []
  },
  {
   "cell_type": "markdown",
   "id": "3b77a696",
   "metadata": {},
   "source": [
    "## CONVOLUTIONALIZATION ON THE MNIST DATASET"
   ]
  },
  {
   "cell_type": "markdown",
   "id": "62b871e3",
   "metadata": {},
   "source": [
    "Let's apply Convolutionalization on the MNIST dataset."
   ]
  },
  {
   "cell_type": "code",
   "execution_count": 2,
   "id": "ef78b9cd",
   "metadata": {},
   "outputs": [],
   "source": [
    "import numpy as np\n",
    "import matplotlib.pyplot as plt"
   ]
  },
  {
   "cell_type": "markdown",
   "id": "f2d6d6e9",
   "metadata": {},
   "source": [
    "### Dataset"
   ]
  },
  {
   "cell_type": "code",
   "execution_count": 1,
   "id": "5a60896b",
   "metadata": {},
   "outputs": [],
   "source": [
    "from tensorflow.keras.datasets import mnist"
   ]
  },
  {
   "cell_type": "code",
   "execution_count": 4,
   "id": "5f976382",
   "metadata": {},
   "outputs": [],
   "source": [
    "(x_train, y_train), (x_test, y_test) = mnist.load_data()"
   ]
  },
  {
   "cell_type": "code",
   "execution_count": 6,
   "id": "605aae96",
   "metadata": {},
   "outputs": [],
   "source": [
    "# Normalization\n",
    "x_train = x_train.astype('float32') / 255.\n",
    "x_test = x_test.astype('float32') / 255.\n",
    "\n",
    "# Adding the channels dimensions into the train set\n",
    "(n_train, w, h) = x_train.shape\n",
    "x_train = x_train.reshape(n_train, w, h, 1)\n",
    "\n",
    "# Adding the channels dimensions into the test set\n",
    "(n_test, w, h) = x_test.shape\n",
    "x_test = x_test.reshape(n_test, w, h, 1)"
   ]
  },
  {
   "cell_type": "markdown",
   "id": "2d9d2f5d",
   "metadata": {},
   "source": [
    "### Setting"
   ]
  },
  {
   "cell_type": "markdown",
   "id": "b0488356",
   "metadata": {},
   "source": [
    "We have our classic MNIS dataset. Each image represnts a single digit."
   ]
  },
  {
   "cell_type": "code",
   "execution_count": 7,
   "id": "c26955e4",
   "metadata": {},
   "outputs": [
    {
     "data": {
      "text/plain": [
       "<matplotlib.image.AxesImage at 0x1e080877e20>"
      ]
     },
     "execution_count": 7,
     "metadata": {},
     "output_type": "execute_result"
    },
    {
     "data": {
      "image/png": "[encoded data removed]",
      "text/plain": [
       "<Figure size 432x288 with 1 Axes>"
      ]
     },
     "metadata": {
      "needs_background": "light"
     },
     "output_type": "display_data"
    }
   ],
   "source": [
    "plt.imshow(x_test[0])"
   ]
  },
  {
   "cell_type": "markdown",
   "id": "42d40915",
   "metadata": {},
   "source": [
    "Now, we suppose that we want to address the segmentation task. We have an image with several digits, and we want to classify each pixel.\n",
    "\n",
    "Let's build an example of such image."
   ]
  },
  {
   "cell_type": "code",
   "execution_count": 10,
   "id": "64aa993a",
   "metadata": {},
   "outputs": [],
   "source": [
    "img = np.zeros((128,128,1))\n",
    "img[12:40,6:34] = x_test[15]\n",
    "img[40:68,30:58] = x_test[14]\n",
    "img[15:43,45:73] = x_test[13]\n",
    "img[5:33,75:103] = x_test[12]\n",
    "img[45:73,90:118] = x_test[11]\n",
    "img[89:117,70:98] = x_test[9]\n",
    "img[80:108,25:53] = x_test[6]"
   ]
  },
  {
   "cell_type": "code",
   "execution_count": 11,
   "id": "74fb3490",
   "metadata": {},
   "outputs": [
    {
     "data": {
      "image/png": "[encoded data removed]",
      "text/plain": [
       "<Figure size 432x288 with 1 Axes>"
      ]
     },
     "metadata": {
      "needs_background": "light"
     },
     "output_type": "display_data"
    }
   ],
   "source": [
    "imageplot = plt.imshow(np.reshape(img,(128,128)))\n",
    "plt.show()"
   ]
  },
  {
   "cell_type": "markdown",
   "id": "e87394d7",
   "metadata": {},
   "source": [
    "It is important to notice that this image has bigger spatial dimensions: $128x128$."
   ]
  },
  {
   "cell_type": "code",
   "execution_count": 32,
   "id": "5e83f225",
   "metadata": {},
   "outputs": [
    {
     "data": {
      "text/plain": [
       "(128, 128, 1)"
      ]
     },
     "execution_count": 32,
     "metadata": {},
     "output_type": "execute_result"
    }
   ],
   "source": [
    "img.shape"
   ]
  },
  {
   "cell_type": "markdown",
   "id": "1ef8dc94",
   "metadata": {},
   "source": [
    "For solving this segmentation task, we use Convolutionalization. \n",
    "- First we train a classic classifier NN.\n",
    "- Then we transform it into a segmenter NN."
   ]
  },
  {
   "cell_type": "markdown",
   "id": "ff473094",
   "metadata": {},
   "source": [
    "## CLASSIFER NN"
   ]
  },
  {
   "cell_type": "markdown",
   "id": "1ceddcbb",
   "metadata": {},
   "source": [
    "So, let's train our classifier NN. We use a Conv NN. So, two parts: Conv part (features extraction); Dense part (features exploitation)."
   ]
  },
  {
   "cell_type": "markdown",
   "id": "69f67931",
   "metadata": {},
   "source": [
    "### Background category\n",
    "\n",
    "We must be careful that this classifier NN is not a completely classic classifier. It must be able to recognize also the background category. So, it has $11$ classes.\n",
    "\n",
    "Given a MNISt image, it returns a categorical distribution over $11$ classes: the $10$ classes and the background class.\n",
    "\n",
    "Problem: in our MNIST dataset, we don't have examples of background images. How can we train our classifier NN over the $11$ classes if we don't have any background examples?\n",
    "\n",
    "Solution: we syntetize from scratch background images. Indeed, this is quite an easy task: almost completely black images.\n",
    "\n",
    "Let's syntetize background train images ($6000$) and background test images ($1000$). We randomly generated pixel values between $0$ and $5$ (normalizing, we get between $0$ and $5/255$)."
   ]
  },
  {
   "cell_type": "code",
   "execution_count": 12,
   "id": "629d30d2",
   "metadata": {},
   "outputs": [],
   "source": [
    "background_train = np.random.randint(0,5,(6000,28,28,1))/255.\n",
    "background_test = np.random.randint(0,5,(1000,28,28,1))/255."
   ]
  },
  {
   "cell_type": "markdown",
   "id": "5f28fc8f",
   "metadata": {},
   "source": [
    "Let's visualize a background image."
   ]
  },
  {
   "cell_type": "code",
   "execution_count": 18,
   "id": "25502e3d",
   "metadata": {},
   "outputs": [
    {
     "data": {
      "text/plain": [
       "<matplotlib.image.AxesImage at 0x1e08020cb20>"
      ]
     },
     "execution_count": 18,
     "metadata": {},
     "output_type": "execute_result"
    },
    {
     "data": {
      "image/png": "[encoded data removed]",
      "text/plain": [
       "<Figure size 432x288 with 1 Axes>"
      ]
     },
     "metadata": {
      "needs_background": "light"
     },
     "output_type": "display_data"
    }
   ],
   "source": [
    "from matplotlib.colors import Normalize\n",
    "\n",
    "plt.imshow(background_train[0], norm=Normalize(vmin=0,vmax=1))"
   ]
  },
  {
   "cell_type": "markdown",
   "id": "e6f38a2d",
   "metadata": {},
   "source": [
    "Finally, we add these images into our dataset."
   ]
  },
  {
   "cell_type": "code",
   "execution_count": 20,
   "id": "680f07f5",
   "metadata": {},
   "outputs": [],
   "source": [
    "x_train_bg = np.concatenate((x_train,background_train))\n",
    "x_test_bg = np.concatenate((x_test,background_test))"
   ]
  },
  {
   "cell_type": "markdown",
   "id": "e7b45b18",
   "metadata": {},
   "source": [
    "We have to add also the corresponding labels. **We use $10$ as label for the background class**."
   ]
  },
  {
   "cell_type": "code",
   "execution_count": 21,
   "id": "04bb1330",
   "metadata": {},
   "outputs": [],
   "source": [
    "y_train_bg = np.concatenate((y_train,np.ones(6000)*10))\n",
    "y_test_bg = np.concatenate((y_test,np.ones(1000)*10))"
   ]
  },
  {
   "cell_type": "markdown",
   "id": "2007bd2b",
   "metadata": {},
   "source": [
    "### Defining the classifier NN\n",
    "\n",
    "Classic Conv NN for classifing images. We define a small NN.\n",
    "- Conv part. Three Conv layers. We decrease the spatial dimensions, and, at the same time, we increase the number of channels.\n",
    "- Flattening into a single dimension. We do so by using a Global Max Pooling layer.\n",
    "- Dense part. Two Dense layers. The output layer has $11$ outputs (one for each class), and softmax activation function.\n",
    "\n",
    "For all the layers except the last one, we use the *swish* activation function."
   ]
  },
  {
   "cell_type": "code",
   "execution_count": 24,
   "id": "a0fc0440",
   "metadata": {},
   "outputs": [],
   "source": [
    "from tensorflow.keras.layers import Input, Conv2D, GlobalMaxPool2D, Dense\n",
    "from tensorflow.keras import Model"
   ]
  },
  {
   "cell_type": "code",
   "execution_count": 26,
   "id": "7e232fe5",
   "metadata": {},
   "outputs": [],
   "source": [
    "# Input\n",
    "xin = Input(shape=(28,28,1))\n",
    "\n",
    "# Conv part\n",
    "x = Conv2D(filters=16, kernel_size=(3,3), strides=2, padding='same', activation='swish')(xin)\n",
    "x = Conv2D(filters=32, kernel_size=(3,3), strides=2, padding='same', activation='swish')(x)\n",
    "x = Conv2D(filters=64, kernel_size=(3,3), strides=2, padding='same', activation='swish')(x)\n",
    "\n",
    "# FLattening\n",
    "x = GlobalMaxPool2D()(x)\n",
    "\n",
    "# Dense part\n",
    "x = Dense(units=64, activation = 'swish')(x)\n",
    "out = Dense(units=11, activation = 'softmax')(x) #we have now 11 categories\n",
    "\n",
    "# Model\n",
    "classifier = Model(inputs=[xin],outputs=[out], name='classifier')"
   ]
  },
  {
   "cell_type": "code",
   "execution_count": 27,
   "id": "43d25de9",
   "metadata": {},
   "outputs": [
    {
     "name": "stdout",
     "output_type": "stream",
     "text": [
      "Model: \"classifier\"\n",
      "_________________________________________________________________\n",
      " Layer (type)                Output Shape              Param #   \n",
      "=================================================================\n",
      " input_3 (InputLayer)        [(None, 28, 28, 1)]       0         \n",
      "                                                                 \n",
      " conv2d_6 (Conv2D)           (None, 14, 14, 16)        160       \n",
      "                                                                 \n",
      " conv2d_7 (Conv2D)           (None, 7, 7, 32)          4640      \n",
      "                                                                 \n",
      " conv2d_8 (Conv2D)           (None, 4, 4, 64)          18496     \n",
      "                                                                 \n",
      " global_max_pooling2d_2 (Glo  (None, 64)               0         \n",
      " balMaxPooling2D)                                                \n",
      "                                                                 \n",
      " dense_4 (Dense)             (None, 64)                4160      \n",
      "                                                                 \n",
      " dense_5 (Dense)             (None, 11)                715       \n",
      "                                                                 \n",
      "=================================================================\n",
      "Total params: 28,171\n",
      "Trainable params: 28,171\n",
      "Non-trainable params: 0\n",
      "_________________________________________________________________\n"
     ]
    }
   ],
   "source": [
    "classifier.summary()"
   ]
  },
  {
   "cell_type": "markdown",
   "id": "c1899142",
   "metadata": {},
   "source": [
    "### Compile the classifier NN"
   ]
  },
  {
   "cell_type": "markdown",
   "id": "c8ec0d46",
   "metadata": {},
   "source": [
    "We use the sparse categorical crossentropy. So, we can directly pass the labels during training."
   ]
  },
  {
   "cell_type": "code",
   "execution_count": 28,
   "id": "fe3e2013",
   "metadata": {},
   "outputs": [],
   "source": [
    "classifier.compile(optimizer='adam', loss='sparse_categorical_crossentropy', metrics=['accuracy'])"
   ]
  },
  {
   "cell_type": "markdown",
   "id": "50604289",
   "metadata": {},
   "source": [
    "**Note: we should use sparse categorical crossentropy with from_logits=True, and don't specify any activation function in the last layer.**"
   ]
  },
  {
   "cell_type": "markdown",
   "id": "1679100a",
   "metadata": {},
   "source": [
    "### Train the classifier NN"
   ]
  },
  {
   "cell_type": "code",
   "execution_count": 30,
   "id": "7a24dd4b",
   "metadata": {},
   "outputs": [
    {
     "name": "stdout",
     "output_type": "stream",
     "text": [
      "Epoch 1/10\n",
      "660/660 [==============================] - 7s 10ms/step - loss: 0.4220 - accuracy: 0.8738 - val_loss: 0.1502 - val_accuracy: 0.9551\n",
      "Epoch 2/10\n",
      "660/660 [==============================] - 6s 10ms/step - loss: 0.1168 - accuracy: 0.9656 - val_loss: 0.0900 - val_accuracy: 0.9726\n",
      "Epoch 3/10\n",
      "660/660 [==============================] - 6s 10ms/step - loss: 0.0792 - accuracy: 0.9759 - val_loss: 0.0735 - val_accuracy: 0.9775\n",
      "Epoch 4/10\n",
      "660/660 [==============================] - 7s 10ms/step - loss: 0.0610 - accuracy: 0.9810 - val_loss: 0.0630 - val_accuracy: 0.9802\n",
      "Epoch 5/10\n",
      "660/660 [==============================] - 8s 12ms/step - loss: 0.0503 - accuracy: 0.9847 - val_loss: 0.0537 - val_accuracy: 0.9828\n",
      "Epoch 6/10\n",
      "660/660 [==============================] - 8s 13ms/step - loss: 0.0427 - accuracy: 0.9867 - val_loss: 0.0557 - val_accuracy: 0.9823\n",
      "Epoch 7/10\n",
      "660/660 [==============================] - 8s 12ms/step - loss: 0.0371 - accuracy: 0.9877 - val_loss: 0.0540 - val_accuracy: 0.9815\n",
      "Epoch 8/10\n",
      "660/660 [==============================] - 8s 12ms/step - loss: 0.0308 - accuracy: 0.9900 - val_loss: 0.0499 - val_accuracy: 0.9842\n",
      "Epoch 9/10\n",
      "660/660 [==============================] - 8s 12ms/step - loss: 0.0262 - accuracy: 0.9917 - val_loss: 0.0511 - val_accuracy: 0.9845\n",
      "Epoch 10/10\n",
      "660/660 [==============================] - 8s 12ms/step - loss: 0.0232 - accuracy: 0.9921 - val_loss: 0.0505 - val_accuracy: 0.9843\n"
     ]
    },
    {
     "data": {
      "text/plain": [
       "<keras.callbacks.History at 0x1e0803dcac0>"
      ]
     },
     "execution_count": 30,
     "metadata": {},
     "output_type": "execute_result"
    }
   ],
   "source": [
    "classifier.fit(x_train_bg, y_train_bg, epochs=10, batch_size=100, validation_data=(x_test_bg, y_test_bg))"
   ]
  },
  {
   "cell_type": "markdown",
   "id": "f73e20bc",
   "metadata": {},
   "source": [
    "Good results!"
   ]
  },
  {
   "cell_type": "markdown",
   "id": "b6c8ca13",
   "metadata": {},
   "source": [
    "**Save the weigths**"
   ]
  },
  {
   "cell_type": "code",
   "execution_count": 31,
   "id": "6cd2a92a",
   "metadata": {},
   "outputs": [],
   "source": [
    "classifier.save_weights(\"classifier.hdf5\")"
   ]
  },
  {
   "cell_type": "markdown",
   "id": "a9e54987",
   "metadata": {},
   "source": [
    "## SEGMENTER NN"
   ]
  },
  {
   "cell_type": "markdown",
   "id": "d3141ae7",
   "metadata": {},
   "source": [
    "Let's now define our segmenter NN. We define it by applying convolutionalization on the classifier NN: we transform the classifier NN into a fully Conv NN."
   ]
  },
  {
   "cell_type": "markdown",
   "id": "20263600",
   "metadata": {},
   "source": [
    "### Defining the segmenter NN\n",
    "\n",
    "The definition is trivial: exact same definition of the classifier NN. The only difference is that we remove the Global Max Pooling layer. We remove the flattening part."
   ]
  },
  {
   "cell_type": "code",
   "execution_count": 35,
   "id": "4ef4fc65",
   "metadata": {},
   "outputs": [],
   "source": [
    "# Input\n",
    "xin = Input(shape=(28,28,1))\n",
    "\n",
    "# Conv layers\n",
    "x = Conv2D(filters=16, kernel_size=(3,3), strides=2, padding='same', activation='swish')(xin)\n",
    "x = Conv2D(filters=32, kernel_size=(3,3), strides=2, padding='same', activation='swish')(x)\n",
    "x = Conv2D(filters=64, kernel_size=(3,3), strides=2, padding='same', activation='swish')(x)\n",
    "\n",
    "# ----- No flattening\n",
    "\n",
    "# Dense layers\n",
    "x = Dense(units=64, activation = 'swish')(x)\n",
    "out = Dense(units=11, activation = 'softmax')(x) #we have now 11 categories\n",
    "\n",
    "# Model\n",
    "segmenter = Model(inputs=[xin],outputs=[out], name='segmenter')"
   ]
  },
  {
   "cell_type": "markdown",
   "id": "9d94765c",
   "metadata": {},
   "source": [
    "What's the meaning of this? The Conv part is the same. But, then, we don't have the flattening anymore. And we are applying our Dense layers to a non-flat input. We are applying the Dense layers to images. \n",
    "\n",
    "Indeed, we can see from the summary that the Dense layers are applied to structured inputs (i.e. inputs with $3$ dimensions)."
   ]
  },
  {
   "cell_type": "code",
   "execution_count": 36,
   "id": "991b8f9e",
   "metadata": {},
   "outputs": [
    {
     "name": "stdout",
     "output_type": "stream",
     "text": [
      "Model: \"segmenter\"\n",
      "_________________________________________________________________\n",
      " Layer (type)                Output Shape              Param #   \n",
      "=================================================================\n",
      " input_5 (InputLayer)        [(None, 28, 28, 1)]       0         \n",
      "                                                                 \n",
      " conv2d_12 (Conv2D)          (None, 14, 14, 16)        160       \n",
      "                                                                 \n",
      " conv2d_13 (Conv2D)          (None, 7, 7, 32)          4640      \n",
      "                                                                 \n",
      " conv2d_14 (Conv2D)          (None, 4, 4, 64)          18496     \n",
      "                                                                 \n",
      " dense_8 (Dense)             (None, 4, 4, 64)          4160      \n",
      "                                                                 \n",
      " dense_9 (Dense)             (None, 4, 4, 11)          715       \n",
      "                                                                 \n",
      "=================================================================\n",
      "Total params: 28,171\n",
      "Trainable params: 28,171\n",
      "Non-trainable params: 0\n",
      "_________________________________________________________________\n"
     ]
    }
   ],
   "source": [
    "segmenter.summary()"
   ]
  },
  {
   "cell_type": "markdown",
   "id": "12c12445",
   "metadata": {},
   "source": [
    "What's the meaning of this?"
   ]
  },
  {
   "cell_type": "markdown",
   "id": "84de5a50",
   "metadata": {},
   "source": [
    "### Meaning of applying a Dense layer to a non-flat input\n",
    "\n",
    "We have a structured input with dimensions $W,H,C$ (i.e. it's an image). We apply a Dense layer with $O$ output neurons.\n",
    "\n",
    "The meaning of that is that the Dense layer is applied independently on each pixel, across the channels. Basically, for each input pixel, the Dense layer is applied independently and separately.\n",
    "\n",
    "For each input pixel, the Dense layer takes in input the values across all the channels of that pixel: $C$ inputs. And it produces $O$ outputs. For each pixel, application of the Dense layer on $C$ inputs and $O$ outputs. Therefore, for each pixel, we get $O$ output values.\n",
    "\n",
    "This is dones for each input pixel. On the whole the output is again a structured image with three dimensions. The spatial dimensions are the same, but now we have $O$ channels. Output dimensions: $W,H,O$."
   ]
  },
  {
   "cell_type": "markdown",
   "id": "ee0dd3be",
   "metadata": {},
   "source": [
    "**This is exactly equivalent to apply a Unary Convolution layer, with $O$ kernels. $O$ kernels, with dimensions $1,1,C$. So, these Dense layers are actually Conv layers. No real Dense layers, but Conv ones.**\n",
    "\n",
    "So, why don't we simply use unary Conv layers? Because, by using Dense layers:\n",
    "- The link with the classifier NN is more clear;\n",
    "- Loading the weigths of the classifier NN into the segmenter NN is easier."
   ]
  },
  {
   "cell_type": "markdown",
   "id": "77eaf334",
   "metadata": {},
   "source": [
    "**Since the Dense layers are actually Conv layers, we are have a fully Conv NN. Fully CNN. Only Conv layers.**"
   ]
  },
  {
   "cell_type": "markdown",
   "id": "c65ec956",
   "metadata": {},
   "source": [
    "### In our specific example\n",
    "\n",
    "In our specific example, the output of the last Conv layer has dimensions $4,4,64$. We are applying the Dense layer with $64$ output neurons on that input: therefore, we are getting an output with dimensions $4,4,64$.\n",
    "\n",
    "Then, we are applying another Dense layer, with $11$ output neurons. Therefore, we are getting an output with dimensions $4,4,11$.\n",
    "\n",
    "So, the final output has $11$ channels. One for each class. And each value is a probability. For each pixel, we have generated a probability distribution over the $11$ classes, by means of the softmax activation function.\n",
    "\n",
    "We have obtained the desired results!!! We have transformed our classifier NN into a segmenter NN!!! Fully CNN!!! CONVOLUTIONALIZATION.\n",
    "\n",
    "It is important to notice that these two Dense layers, since are applied independently and separately on each pixel, they leave the spatial dimensions as they are. They don't modify the spatial dimensions."
   ]
  },
  {
   "cell_type": "markdown",
   "id": "e26f5b8f",
   "metadata": {},
   "source": [
    "### Actual definition of the segmenter NN\n",
    "\n",
    "We have defined our segmenter NN s.t. it takes in input an images $28,28,1$. But, actually, we have seen that the kind of images that we want to segment is bigger: $128,128,1$. \n",
    "\n",
    "In general, we could take in input an image with arbitrary spatial dimensions.\n",
    "\n",
    "Therefore, in defining our segmenter NN, we leave unspecified the spatial dimensions (i.e. we put `None`): in this way, the NN is flexible with respect to the spatial dimensions of the input. It is able to take in input every spatial dimensions."
   ]
  },
  {
   "cell_type": "code",
   "execution_count": 37,
   "id": "f8739d33",
   "metadata": {},
   "outputs": [],
   "source": [
    "# Input\n",
    "xin = Input(shape=(None,None,1))\n",
    "\n",
    "# Conv layers\n",
    "x = Conv2D(filters=16, kernel_size=(3,3), strides=2, padding='same', activation='swish')(xin)\n",
    "x = Conv2D(filters=32, kernel_size=(3,3), strides=2, padding='same', activation='swish')(x)\n",
    "x = Conv2D(filters=64, kernel_size=(3,3), strides=2, padding='same', activation='swish')(x)\n",
    "\n",
    "# ----- No flattening\n",
    "\n",
    "# Dense layers\n",
    "x = Dense(units=64, activation = 'swish')(x)\n",
    "out = Dense(units=11, activation = 'softmax')(x) #we have now 11 categories\n",
    "\n",
    "# Model\n",
    "segmenter = Model(inputs=[xin],outputs=[out], name='segmenter')"
   ]
  },
  {
   "cell_type": "code",
   "execution_count": 38,
   "id": "84ddc495",
   "metadata": {},
   "outputs": [
    {
     "name": "stdout",
     "output_type": "stream",
     "text": [
      "Model: \"segmenter\"\n",
      "_________________________________________________________________\n",
      " Layer (type)                Output Shape              Param #   \n",
      "=================================================================\n",
      " input_6 (InputLayer)        [(None, None, None, 1)]   0         \n",
      "                                                                 \n",
      " conv2d_15 (Conv2D)          (None, None, None, 16)    160       \n",
      "                                                                 \n",
      " conv2d_16 (Conv2D)          (None, None, None, 32)    4640      \n",
      "                                                                 \n",
      " conv2d_17 (Conv2D)          (None, None, None, 64)    18496     \n",
      "                                                                 \n",
      " dense_10 (Dense)            (None, None, None, 64)    4160      \n",
      "                                                                 \n",
      " dense_11 (Dense)            (None, None, None, 11)    715       \n",
      "                                                                 \n",
      "=================================================================\n",
      "Total params: 28,171\n",
      "Trainable params: 28,171\n",
      "Non-trainable params: 0\n",
      "_________________________________________________________________\n"
     ]
    }
   ],
   "source": [
    "segmenter.summary()"
   ]
  },
  {
   "cell_type": "markdown",
   "id": "5dd176a4",
   "metadata": {},
   "source": [
    "### Training the segmenter NN\n",
    "\n",
    "**NOT NEEDED!!! NO TRAINING IS NEEDED**\n",
    "\n",
    "We simply load the weigths of the classifier NN into the segmenter NN. Indeed, we can do that: exact same structure. Exact same parameters."
   ]
  },
  {
   "cell_type": "code",
   "execution_count": 39,
   "id": "59711844",
   "metadata": {},
   "outputs": [],
   "source": [
    "segmenter.load_weights(\"classifier.hdf5\")"
   ]
  },
  {
   "cell_type": "markdown",
   "id": "c0070bb7",
   "metadata": {},
   "source": [
    "### Applying the segmenter NN\n",
    "\n",
    "Let's test our segmenter NN on our defined image."
   ]
  },
  {
   "cell_type": "code",
   "execution_count": 40,
   "id": "9304dce4",
   "metadata": {},
   "outputs": [
    {
     "data": {
      "text/plain": [
       "<matplotlib.image.AxesImage at 0x1e08217c490>"
      ]
     },
     "execution_count": 40,
     "metadata": {},
     "output_type": "execute_result"
    },
    {
     "data": {
      "image/png": "[encoded data removed]",
      "text/plain": [
       "<Figure size 432x288 with 1 Axes>"
      ]
     },
     "metadata": {
      "needs_background": "light"
     },
     "output_type": "display_data"
    }
   ],
   "source": [
    "plt.imshow(img)"
   ]
  },
  {
   "cell_type": "markdown",
   "id": "a28a9284",
   "metadata": {},
   "source": [
    "Let's segment this image."
   ]
  },
  {
   "cell_type": "code",
   "execution_count": 41,
   "id": "56f2d6cc",
   "metadata": {},
   "outputs": [],
   "source": [
    "segmented_image = segmenter.predict(np.expand_dims(img,axis=0))[0]"
   ]
  },
  {
   "cell_type": "markdown",
   "id": "a3770eae",
   "metadata": {},
   "source": [
    "This segmented image has $11$, one for each class. And it has spatial dimensions $16x16$: much smaller image than the input image!!!"
   ]
  },
  {
   "cell_type": "code",
   "execution_count": 42,
   "id": "4a4320da",
   "metadata": {},
   "outputs": [
    {
     "data": {
      "text/plain": [
       "(16, 16, 11)"
      ]
     },
     "execution_count": 42,
     "metadata": {},
     "output_type": "execute_result"
    }
   ],
   "source": [
    "segmented_image.shape"
   ]
  },
  {
   "cell_type": "markdown",
   "id": "29085e62",
   "metadata": {},
   "source": [
    "We can transform this image with $11$ channels into a single-channels image containing, for each pixel, the predicted class. For doing so, we simply take, for each pixel, the maximum label $i$ across the channels.   "
   ]
  },
  {
   "cell_type": "code",
   "execution_count": 44,
   "id": "19072d5b",
   "metadata": {},
   "outputs": [
    {
     "data": {
      "text/plain": [
       "(16, 16)"
      ]
     },
     "execution_count": 44,
     "metadata": {},
     "output_type": "execute_result"
    }
   ],
   "source": [
    "segmented_image_singleChannel = np.argmax(segmented_image,axis=-1)\n",
    "segmented_image_singleChannel.shape"
   ]
  },
  {
   "cell_type": "code",
   "execution_count": 45,
   "id": "0b391069",
   "metadata": {},
   "outputs": [
    {
     "name": "stdout",
     "output_type": "stream",
     "text": [
      "[[10 10 10 10 10 10 10 10 10 10 10  5 10 10 10 10]\n",
      " [10 10 10 10 10 10 10  5 10 10  4  7 10 10 10 10]\n",
      " [10  6  5  5 10 10  0  7 10 10  4  7 10 10 10 10]\n",
      " [10  5  3  3 10 10  4  4  1 10 10 10 10 10 10 10]\n",
      " [10 10 10 10 10 10  6  3 10 10 10 10 10 10 10 10]\n",
      " [10 10 10 10 10  7 10 10 10 10 10 10 10 10 10 10]\n",
      " [10 10 10 10 10  7 10 10 10 10 10  1  6  7 10 10]\n",
      " [10 10 10 10 10 10 10 10 10 10 10  1  6  3 10 10]\n",
      " [10 10 10 10 10 10 10 10 10 10 10 10 10 10 10 10]\n",
      " [10 10 10 10 10 10 10 10 10 10 10 10 10 10 10 10]\n",
      " [10 10 10  1  4 10 10 10 10 10 10 10 10 10 10 10]\n",
      " [10 10 10 10  7  1 10 10 10  1  2 10 10 10 10 10]\n",
      " [10 10 10 10  6 10 10 10 10  4  7  1 10 10 10 10]\n",
      " [10 10 10 10 10 10 10 10 10  6  7 10 10 10 10 10]\n",
      " [10 10 10 10 10 10 10 10 10 10 10 10 10 10 10 10]\n",
      " [10 10 10 10 10 10 10 10 10 10 10 10 10 10 10 10]]\n"
     ]
    }
   ],
   "source": [
    "print(segmented_image_singleChannel)"
   ]
  },
  {
   "cell_type": "markdown",
   "id": "67aaef9c",
   "metadata": {},
   "source": [
    "The background seems correctly classified. And also the positions of the digits seem correctly classified."
   ]
  },
  {
   "cell_type": "markdown",
   "id": "c3f9c393",
   "metadata": {},
   "source": [
    "### Visualizing the colored image"
   ]
  },
  {
   "cell_type": "markdown",
   "id": "74aac90e",
   "metadata": {},
   "source": [
    "We can also visualize this segmented image with colors. Colored image: for each class, we use a different color."
   ]
  },
  {
   "cell_type": "code",
   "execution_count": 46,
   "id": "97ef9d71",
   "metadata": {},
   "outputs": [
    {
     "name": "stdout",
     "output_type": "stream",
     "text": [
      "(0.38920293465748, 1.0, 0.0) (1.0, 0.0, 0.6306823551141734)\n"
     ]
    }
   ],
   "source": [
    "def get_cmap(n, name='hsv'):\n",
    "    '''Returns a function that maps each index in 0, 1, ..., n-1 to a distinct \n",
    "    RGB color; the keyword argument name must be a standard mpl colormap name.'''\n",
    "    return plt.cm.get_cmap(name, n)\n",
    "\n",
    "cmap = get_cmap(12)\n",
    "\n",
    "def cmap1(n):\n",
    "  return cmap(n)[0:3]\n",
    "\n",
    "print(cmap1(3),cmap1(10))"
   ]
  },
  {
   "cell_type": "code",
   "execution_count": 48,
   "id": "881370f8",
   "metadata": {},
   "outputs": [
    {
     "name": "stdout",
     "output_type": "stream",
     "text": [
      "(16, 16, 3)\n"
     ]
    }
   ],
   "source": [
    "vcmap = np.vectorize(cmap1)\n",
    "segmented_image_colored = np.array(vcmap(segmented_image_singleChannel))\n",
    "segmented_image_colored = np.transpose(segmented_image_colored,(1,2,0))\n",
    "print(segmented_image_colored.shape)"
   ]
  },
  {
   "cell_type": "code",
   "execution_count": 49,
   "id": "1cf7f138",
   "metadata": {},
   "outputs": [
    {
     "data": {
      "image/png": "[encoded data removed]",
      "text/plain": [
       "<Figure size 432x288 with 1 Axes>"
      ]
     },
     "metadata": {
      "needs_background": "light"
     },
     "output_type": "display_data"
    }
   ],
   "source": [
    "fig,ax = plt.subplots()\n",
    "ax.imshow(segmented_image_colored)\n",
    "for i in range(11):\n",
    "  ax.text(18,2*i,str(i))\n",
    "  ax.scatter(20,2*i,s=40,color=cmap1(i))\n",
    "plt.show()"
   ]
  },
  {
   "cell_type": "markdown",
   "id": "d3df2f71",
   "metadata": {},
   "source": [
    "### Analysis of the results\n",
    "\n",
    "The background is correctly classified. And also the positions of the digits. But the digits are not correctly classified.\n",
    "\n",
    "**QUITE BAD RESULTS!**"
   ]
  },
  {
   "cell_type": "markdown",
   "id": "40b1fdd8",
   "metadata": {},
   "source": [
    "## IMPROVING THE RESULTS"
   ]
  },
  {
   "cell_type": "markdown",
   "id": "e0c3dc26",
   "metadata": {},
   "source": [
    "How can we improve the results? Many possible ways for doing so."
   ]
  },
  {
   "cell_type": "markdown",
   "id": "bf5062a0",
   "metadata": {},
   "source": [
    "### Problem: spatial dimensions reduction\n",
    "\n",
    "A first problem of convolutionalization that can be noticed is the fact that the output of the segmenter NN has much smaller spatial dimensions with respect to the input image. The segmented image has quite smaller spatial dimensions.\n",
    "\n",
    "In our example, the input image has spatial dimensions $128x128$, while the segmented image has spatial dimensions $16x16$. This is a proble. We are lossing too much resolution. We would like to keep the same spatial dimensions.\n",
    "\n",
    "Why is that? Because, in the segmenter NN, the Conv part decreases the spatial dimensions. Then, the last two Dense layers are applied independently and separately on each pixel: therefore, they leave the spatial dimensions unchanged.\n",
    "\n",
    "This problem is addressed in the next notebook."
   ]
  },
  {
   "cell_type": "markdown",
   "id": "907302a3",
   "metadata": {},
   "source": [
    "### Possilbe improvements\n",
    "\n",
    "In the rest of this notebook, we discuss some possible improvements which can be carried out in our specific example."
   ]
  },
  {
   "cell_type": "raw",
   "id": "9b70473a",
   "metadata": {},
   "source": []
  },
  {
   "cell_type": "markdown",
   "id": "9817ac15",
   "metadata": {},
   "source": [
    "## IMPROVEMENT 1"
   ]
  },
  {
   "attachments": {
    "image.png": {
     "image/png": "[encoded data removed]"
    }
   },
   "cell_type": "markdown",
   "id": "34feaf00",
   "metadata": {},
   "source": [
    "We know that the segmenter NN is the fully CNN version of the classifier NN, and it simply consists in sliding the classifier NN over the input image. \n",
    "\n",
    "Basically, the segmenter NN can be seen as a single convolution of a single kernel, which basically represents the classifier NN.\n",
    "\n",
    "Since the classifier NN is convolved over the input images, it can happen that it is applied in a position in which the digit is not perfectly centered. The classifier NN can be applied in a portion of the image in which the digit is not perfectly centered. ![image.png](attachment:image.png)\n",
    "\n",
    "However, the classifier NN has been trained on the MNIST dataset, in which the digits are perfectly centered. So, the classifier NN has not been trained for handling this situation.\n",
    "\n",
    "**Solution: we slightly modify the MNIST images s.t. the digits are not perfectly centered anymore.**"
   ]
  },
  {
   "cell_type": "markdown",
   "id": "e623eeb7",
   "metadata": {},
   "source": [
    "### Data augmentation\n",
    "\n",
    "We implement this with data augmentation. We have already seen this before (for reducing overfitting).\n",
    "\n",
    "During training, each training image is slightly changed, by randomly applying a shifting (we only apply translation, not rotation and zoom).\n",
    "\n",
    "We could simply implement this by adding a layer into our classifier NN (layer rigth after the input layer). Instead, this time we implement data augmentation by means of a **generator**. We create a generator, after specifying our dataset and the operation we want to perform. Then, this generator yields to us the slightly changed images, on demand."
   ]
  },
  {
   "cell_type": "code",
   "execution_count": 51,
   "id": "eadd824e",
   "metadata": {},
   "outputs": [],
   "source": [
    "from tensorflow.keras.preprocessing.image import ImageDataGenerator\n",
    "\n",
    "# We define a generator for images, and we specify the kind of transformation we want\n",
    "generator = ImageDataGenerator(width_shift_range=0.2, height_shift_range=0.2, horizontal_flip=False, fill_mode='nearest')"
   ]
  },
  {
   "cell_type": "markdown",
   "id": "acb2f136",
   "metadata": {},
   "source": [
    "Let's test our generator."
   ]
  },
  {
   "cell_type": "code",
   "execution_count": 53,
   "id": "99b8450a",
   "metadata": {},
   "outputs": [
    {
     "data": {
      "image/png": "[encoded data removed]",
      "text/plain": [
       "<Figure size 432x288 with 1 Axes>"
      ]
     },
     "metadata": {
      "needs_background": "light"
     },
     "output_type": "display_data"
    },
    {
     "data": {
      "image/png": "[encoded data removed]",
      "text/plain": [
       "<Figure size 432x288 with 1 Axes>"
      ]
     },
     "metadata": {
      "needs_background": "light"
     },
     "output_type": "display_data"
    },
    {
     "data": {
      "image/png": "[encoded data removed]",
      "text/plain": [
       "<Figure size 432x288 with 1 Axes>"
      ]
     },
     "metadata": {
      "needs_background": "light"
     },
     "output_type": "display_data"
    },
    {
     "data": {
      "image/png": "[encoded data removed]",
      "text/plain": [
       "<Figure size 432x288 with 1 Axes>"
      ]
     },
     "metadata": {
      "needs_background": "light"
     },
     "output_type": "display_data"
    },
    {
     "data": {
      "image/png": "[encoded data removed]",
      "text/plain": [
       "<Figure size 432x288 with 1 Axes>"
      ]
     },
     "metadata": {
      "needs_background": "light"
     },
     "output_type": "display_data"
    },
    {
     "data": {
      "image/png": "[encoded data removed]",
      "text/plain": [
       "<Figure size 432x288 with 1 Axes>"
      ]
     },
     "metadata": {
      "needs_background": "light"
     },
     "output_type": "display_data"
    }
   ],
   "source": [
    "i = 0\n",
    "for batch in generator.flow(x_train[7:8], batch_size=1):\n",
    "    i += 1\n",
    "    plt.imshow(batch[0,:,:,0])\n",
    "    plt.show()\n",
    "    if i > 5:\n",
    "        break  # otherwise the generator would loop indefinitely"
   ]
  },
  {
   "cell_type": "markdown",
   "id": "fcb85e27",
   "metadata": {},
   "source": [
    "Good!"
   ]
  },
  {
   "cell_type": "markdown",
   "id": "cd02f048",
   "metadata": {},
   "source": [
    "### Augmenting the training set\n",
    "\n",
    "Now we apply the generator on our training set."
   ]
  },
  {
   "cell_type": "code",
   "execution_count": 54,
   "id": "7ad3c966",
   "metadata": {},
   "outputs": [],
   "source": [
    "train_generator = generator.flow(x_train_bg, y_train_bg, batch_size=100)"
   ]
  },
  {
   "cell_type": "markdown",
   "id": "65c9ea4c",
   "metadata": {},
   "source": [
    "### Training again the classifier NN"
   ]
  },
  {
   "cell_type": "code",
   "execution_count": 55,
   "id": "a8a8a586",
   "metadata": {},
   "outputs": [
    {
     "name": "stdout",
     "output_type": "stream",
     "text": [
      "Epoch 1/5\n",
      "600/600 [==============================] - 16s 27ms/step - loss: 0.2224 - accuracy: 0.9312 - val_loss: 0.0789 - val_accuracy: 0.9753\n",
      "Epoch 2/5\n",
      "600/600 [==============================] - 16s 26ms/step - loss: 0.1130 - accuracy: 0.9646 - val_loss: 0.1053 - val_accuracy: 0.9648\n",
      "Epoch 3/5\n",
      "600/600 [==============================] - 16s 27ms/step - loss: 0.0943 - accuracy: 0.9706 - val_loss: 0.1139 - val_accuracy: 0.9621\n",
      "Epoch 4/5\n",
      "600/600 [==============================] - 16s 27ms/step - loss: 0.0847 - accuracy: 0.9732 - val_loss: 0.0784 - val_accuracy: 0.9749\n",
      "Epoch 5/5\n",
      "600/600 [==============================] - 16s 27ms/step - loss: 0.0767 - accuracy: 0.9757 - val_loss: 0.0810 - val_accuracy: 0.9713\n"
     ]
    },
    {
     "data": {
      "text/plain": [
       "<keras.callbacks.History at 0x1e082202fd0>"
      ]
     },
     "execution_count": 55,
     "metadata": {},
     "output_type": "execute_result"
    }
   ],
   "source": [
    "classifier.fit(train_generator, steps_per_epoch=600, epochs=5, validation_data=(x_test_bg, y_test_bg))"
   ]
  },
  {
   "cell_type": "code",
   "execution_count": 56,
   "id": "ae074935",
   "metadata": {},
   "outputs": [],
   "source": [
    "classifier.save_weights(\"classifier1.hdf5\")"
   ]
  },
  {
   "cell_type": "markdown",
   "id": "42520b6f",
   "metadata": {},
   "source": [
    "### Loading the weigths into the segmenter NN"
   ]
  },
  {
   "cell_type": "code",
   "execution_count": 57,
   "id": "7b2e12d4",
   "metadata": {},
   "outputs": [],
   "source": [
    "segmenter.load_weights(\"classifier1.hdf5\")"
   ]
  },
  {
   "cell_type": "markdown",
   "id": "3f497cdf",
   "metadata": {},
   "source": [
    "### Applying the segmenter NN"
   ]
  },
  {
   "cell_type": "code",
   "execution_count": 58,
   "id": "c4c54e32",
   "metadata": {},
   "outputs": [],
   "source": [
    "segmented_image = segmenter.predict(np.expand_dims(img,axis=0))[0]"
   ]
  },
  {
   "cell_type": "code",
   "execution_count": 59,
   "id": "058b0a1c",
   "metadata": {},
   "outputs": [
    {
     "name": "stdout",
     "output_type": "stream",
     "text": [
      "[[10 10 10 10 10 10 10 10 10 10 10 10 10 10 10 10]\n",
      " [10 10 10 10 10 10 10 10 10 10  9  7 10 10 10 10]\n",
      " [10  2  5 10 10 10  1  7  1 10  4  1 10 10 10 10]\n",
      " [10 10  3 10 10 10  6  4  1 10 10 10 10 10 10 10]\n",
      " [10 10 10 10 10 10 10  5 10 10 10 10 10 10 10 10]\n",
      " [10 10 10 10 10  1 10 10 10 10 10 10 10 10 10 10]\n",
      " [10 10 10 10 10  1 10 10 10 10 10  1  6  7 10 10]\n",
      " [10 10 10 10 10 10 10 10 10 10 10  4  6  3 10 10]\n",
      " [10 10 10 10 10 10 10 10 10 10 10 10 10 10 10 10]\n",
      " [10 10 10 10 10 10 10 10 10 10 10 10 10 10 10 10]\n",
      " [10 10 10  6  4  1 10 10 10 10 10 10 10 10 10 10]\n",
      " [10 10 10 10  4  1 10 10 10  1  7 10 10 10 10 10]\n",
      " [10 10 10 10 10 10 10 10 10  4  3 10 10 10 10 10]\n",
      " [10 10 10 10 10 10 10 10 10  3  1 10 10 10 10 10]\n",
      " [10 10 10 10 10 10 10 10 10 10 10 10 10 10 10 10]\n",
      " [10 10 10 10 10 10 10 10 10 10 10 10 10 10 10 10]]\n"
     ]
    }
   ],
   "source": [
    "segmented_image_singleChannel = np.argmax(segmented_image,axis=-1)\n",
    "print(segmented_image_singleChannel)"
   ]
  },
  {
   "cell_type": "code",
   "execution_count": 60,
   "id": "57ad0b0d",
   "metadata": {},
   "outputs": [
    {
     "name": "stdout",
     "output_type": "stream",
     "text": [
      "(16, 16, 3)\n"
     ]
    }
   ],
   "source": [
    "segmented_image_colored = np.array(vcmap(segmented_image_singleChannel))\n",
    "segmented_image_colored = np.transpose(segmented_image_colored,(1,2,0))\n",
    "print(segmented_image_colored.shape)"
   ]
  },
  {
   "cell_type": "code",
   "execution_count": 61,
   "id": "65897244",
   "metadata": {},
   "outputs": [
    {
     "data": {
      "image/png": "[encoded data removed]",
      "text/plain": [
       "<Figure size 432x288 with 1 Axes>"
      ]
     },
     "metadata": {
      "needs_background": "light"
     },
     "output_type": "display_data"
    }
   ],
   "source": [
    "fig,ax = plt.subplots()\n",
    "ax.imshow(segmented_image_colored)\n",
    "for i in range(11):\n",
    "  ax.text(18,2*i,str(i))\n",
    "  ax.scatter(20,2*i,s=40,color=cmap1(i))\n",
    "plt.show()"
   ]
  },
  {
   "cell_type": "markdown",
   "id": "a8500fff",
   "metadata": {},
   "source": [
    "### Analysis of the results\n",
    "\n",
    "Better results. But still not satisfactory."
   ]
  },
  {
   "cell_type": "raw",
   "id": "4179930b",
   "metadata": {},
   "source": []
  },
  {
   "cell_type": "markdown",
   "id": "12a72fd8",
   "metadata": {},
   "source": [
    "## SECOND IMPROVEMENT"
   ]
  },
  {
   "attachments": {
    "image.png": {
     "image/png": "[encoded data removed]"
    }
   },
   "cell_type": "markdown",
   "id": "2030141a",
   "metadata": {},
   "source": [
    "In the classifier NN, there is the GlobalMaxPooling operation. This operation is not present in the segmenter NN. We have removed it, because we don't want to flatten the spatial dimensions.\n",
    "\n",
    "However, this Max Pooling operation is important for the classifier NN. Because it convolves information related to neighbour pixels into a single information. It captures and convolves information which is spread spatially. This kind of operation is important for our classifier NN.\n",
    "\n",
    "In the segmenter NN we don't have this operation. So, while applying the classifier NN, this can impact the googness of the classification. \n",
    "\n",
    "Indeed, we can notice that in the results of the current segmenter NN, there is a weak spatial view: neighbour pixels related to the same digit are classified differently. ![image.png](attachment:image.png)"
   ]
  },
  {
   "cell_type": "markdown",
   "id": "3d2eb07f",
   "metadata": {},
   "source": [
    "**Solution: we add into our segmenter NN a MaxPooling operation**. Important: we add a MaxPooling operation, not a MaxPooling operation. Because we don't want to flatten the spatial dimensions, we want to preserve them. We add this MaxPool layer in the same position there was the GlobalMaxPool layer."
   ]
  },
  {
   "cell_type": "markdown",
   "id": "e30aae13",
   "metadata": {},
   "source": [
    "### Another improvement\n",
    "\n",
    "Moreover, we make another improvement: we make our classifier NN a little bit more complex and powerful. We add $3$ more Conv layers into our classifier NN: more sophisticated.\n",
    "\n",
    "It is important to point out that we define these three new Conv layers with an unitarian stride: $S=1$. In this way, we are not further decreasing the spatial dimensions."
   ]
  },
  {
   "cell_type": "markdown",
   "id": "9119246c",
   "metadata": {},
   "source": [
    "### Defining and training the classifier NN"
   ]
  },
  {
   "cell_type": "code",
   "execution_count": 62,
   "id": "690deaa6",
   "metadata": {},
   "outputs": [],
   "source": [
    "# Input\n",
    "xin = Input(shape=(28,28,1))\n",
    "\n",
    "# Conv part\n",
    "x = Conv2D(filters=16, kernel_size=(3,3), strides=2, padding='same', activation='swish')(xin)\n",
    "x = Conv2D(filters=16, kernel_size=(3,3), strides=1, padding='same', activation='swish')(x) # ADDITIONAL CONV LAYER\n",
    "x = Conv2D(filters=32, kernel_size=(3,3), strides=2, padding='same', activation='swish')(x)\n",
    "x = Conv2D(filters=32, kernel_size=(3,3), strides=1, padding='same', activation='swish')(x) # ADDITIONAL CONV LAYER\n",
    "x = Conv2D(filters=64, kernel_size=(3,3), strides=2, padding='same', activation='swish')(x)\n",
    "x = Conv2D(filters=64, kernel_size=(3,3), strides=1, padding='same', activation='swish')(x) # ADDITIONAL CONV LAYER\n",
    "\n",
    "# FLattening\n",
    "x = GlobalMaxPool2D()(x)\n",
    "\n",
    "# Dense part\n",
    "x = Dense(units=64, activation = 'swish')(x)\n",
    "out = Dense(units=11, activation = 'softmax')(x) # 11 categories\n",
    "\n",
    "# Model\n",
    "classifier = Model(inputs=[xin],outputs=[out], name='classifier')"
   ]
  },
  {
   "cell_type": "markdown",
   "id": "1a0491fb",
   "metadata": {},
   "source": [
    "Compile"
   ]
  },
  {
   "cell_type": "code",
   "execution_count": 63,
   "id": "9e8d2a90",
   "metadata": {},
   "outputs": [],
   "source": [
    "classifier.compile(optimizer='adam', loss='sparse_categorical_crossentropy', metrics=['accuracy'])"
   ]
  },
  {
   "cell_type": "markdown",
   "id": "2f6e14aa",
   "metadata": {},
   "source": [
    "Train"
   ]
  },
  {
   "cell_type": "code",
   "execution_count": 64,
   "id": "f0ccd96e",
   "metadata": {},
   "outputs": [
    {
     "name": "stdout",
     "output_type": "stream",
     "text": [
      "Epoch 1/5\n",
      "600/600 [==============================] - 23s 38ms/step - loss: 0.5407 - accuracy: 0.8190 - val_loss: 0.1891 - val_accuracy: 0.9386\n",
      "Epoch 2/5\n",
      "600/600 [==============================] - 22s 37ms/step - loss: 0.1382 - accuracy: 0.9567 - val_loss: 0.0958 - val_accuracy: 0.9704\n",
      "Epoch 3/5\n",
      "600/600 [==============================] - 23s 38ms/step - loss: 0.0955 - accuracy: 0.9701 - val_loss: 0.0873 - val_accuracy: 0.9720\n",
      "Epoch 4/5\n",
      "600/600 [==============================] - 22s 37ms/step - loss: 0.0763 - accuracy: 0.9766 - val_loss: 0.0642 - val_accuracy: 0.9810\n",
      "Epoch 5/5\n",
      "600/600 [==============================] - 23s 38ms/step - loss: 0.0654 - accuracy: 0.9799 - val_loss: 0.0599 - val_accuracy: 0.9799\n"
     ]
    },
    {
     "data": {
      "text/plain": [
       "<keras.callbacks.History at 0x1e0803e4400>"
      ]
     },
     "execution_count": 64,
     "metadata": {},
     "output_type": "execute_result"
    }
   ],
   "source": [
    "classifier.fit(train_generator, steps_per_epoch=600, epochs=5, validation_data=(x_test_bg, y_test_bg))"
   ]
  },
  {
   "cell_type": "code",
   "execution_count": 65,
   "id": "bd3127f9",
   "metadata": {},
   "outputs": [],
   "source": [
    "classifier.save_weights(\"classifier2.hdf5\")"
   ]
  },
  {
   "cell_type": "markdown",
   "id": "de9d754b",
   "metadata": {},
   "source": [
    "### Defining the segmenter NN"
   ]
  },
  {
   "cell_type": "markdown",
   "id": "2f573a01",
   "metadata": {},
   "source": [
    "Exactly equal to the classifier NN, except for the MaxPool layer instead of the GlobalMaxPooling layer. In this way, we don't flat the spatial dimensions.\n",
    "\n",
    "It is important to point out that we define the MAxPool layer with unitarian stride $S=1$: in this way, we dont' further decrease the spatial dimensions."
   ]
  },
  {
   "cell_type": "code",
   "execution_count": 67,
   "id": "59f53880",
   "metadata": {},
   "outputs": [],
   "source": [
    "from tensorflow.keras.layers import MaxPool2D"
   ]
  },
  {
   "cell_type": "code",
   "execution_count": 68,
   "id": "734b17f4",
   "metadata": {},
   "outputs": [],
   "source": [
    "# Input\n",
    "xin = Input(shape=(None,None,1))\n",
    "\n",
    "# Conv layers (old Conv part)\n",
    "x = Conv2D(filters=16, kernel_size=(3,3), strides=2, padding='same', activation='swish')(xin)\n",
    "x = Conv2D(filters=16, kernel_size=(3,3), strides=1, padding='same', activation='swish')(x) # ADDITIONAL CONV LAYER\n",
    "x = Conv2D(filters=32, kernel_size=(3,3), strides=2, padding='same', activation='swish')(x)\n",
    "x = Conv2D(filters=32, kernel_size=(3,3), strides=1, padding='same', activation='swish')(x) # ADDITIONAL CONV LAYER\n",
    "x = Conv2D(filters=64, kernel_size=(3,3), strides=2, padding='same', activation='swish')(x)\n",
    "x = Conv2D(filters=64, kernel_size=(3,3), strides=1, padding='same', activation='swish')(x) # ADDITIONAL CONV LAYER\n",
    "\n",
    "# Max Pooling\n",
    "x = MaxPool2D((3,3),padding='same',strides=1)(x)\n",
    "\n",
    "# Conv layers (old Dense part)\n",
    "x = Dense(units=64, activation = 'swish')(x)\n",
    "out = Dense(units=11, activation = 'softmax')(x) # 11 categories\n",
    "\n",
    "# Model\n",
    "segmenter = Model(inputs=[xin],outputs=[out], name='segmenter')"
   ]
  },
  {
   "cell_type": "code",
   "execution_count": 69,
   "id": "3cca00a9",
   "metadata": {},
   "outputs": [],
   "source": [
    "segmenter.load_weights(\"classifier2.hdf5\")"
   ]
  },
  {
   "cell_type": "markdown",
   "id": "23d5dfa7",
   "metadata": {},
   "source": [
    "### Applying the segmenter NN"
   ]
  },
  {
   "cell_type": "code",
   "execution_count": 70,
   "id": "a34e6895",
   "metadata": {},
   "outputs": [],
   "source": [
    "segmented_image = segmenter.predict(np.expand_dims(img,axis=0))[0]"
   ]
  },
  {
   "cell_type": "code",
   "execution_count": 71,
   "id": "a06b4cdf",
   "metadata": {},
   "outputs": [
    {
     "name": "stdout",
     "output_type": "stream",
     "text": [
      "[[10 10 10 10 10 10 10 10 10  9  9  9  0 10 10 10]\n",
      " [ 5  5  5  5 10 10  0  0  0  9  9  9  6 10 10 10]\n",
      " [ 5  5  5  5  6  0  0  0  0  9  9  9  6 10 10 10]\n",
      " [ 5  5  5  5  6  0  0  0  0  7  4  1  1 10 10 10]\n",
      " [ 2  2  5  6  6  6  0  0  0 10 10 10 10 10 10 10]\n",
      " [10 10 10 10  1  1  1 10 10 10 10  6  6  6  0 10]\n",
      " [10 10 10 10  1  1  1 10 10 10 10  6  6  6  0 10]\n",
      " [10 10 10 10  1  1  1 10 10 10 10  6  6  6  0 10]\n",
      " [10 10 10 10 10 10 10 10 10 10 10  0  6  6  0 10]\n",
      " [10 10 10  6  6  6 10 10 10 10 10 10 10 10 10 10]\n",
      " [10 10 10  4  4  4  6 10 10  0 10 10 10 10 10 10]\n",
      " [10 10 10  4  4  4  1 10  9  9  8  8  6 10 10 10]\n",
      " [10 10 10  4  4  1  1 10  9  9  9  8  1 10 10 10]\n",
      " [10 10 10 10 10 10 10 10  9  7  9  8  5 10 10 10]\n",
      " [10 10 10 10 10 10 10 10 10  7 10 10 10 10 10 10]\n",
      " [10 10 10 10 10 10 10 10 10 10 10 10 10 10 10 10]]\n"
     ]
    }
   ],
   "source": [
    "segmented_image_singleChannel = np.argmax(segmented_image,axis=-1)\n",
    "print(segmented_image_singleChannel)"
   ]
  },
  {
   "cell_type": "code",
   "execution_count": 72,
   "id": "9360ff18",
   "metadata": {},
   "outputs": [
    {
     "name": "stdout",
     "output_type": "stream",
     "text": [
      "(16, 16, 3)\n"
     ]
    }
   ],
   "source": [
    "segmented_image_colored = np.array(vcmap(segmented_image_singleChannel))\n",
    "segmented_image_colored = np.transpose(segmented_image_colored,(1,2,0))\n",
    "print(segmented_image_colored.shape)"
   ]
  },
  {
   "cell_type": "code",
   "execution_count": 73,
   "id": "4d7a09d0",
   "metadata": {},
   "outputs": [
    {
     "data": {
      "image/png": "[encoded data removed]",
      "text/plain": [
       "<Figure size 432x288 with 1 Axes>"
      ]
     },
     "metadata": {
      "needs_background": "light"
     },
     "output_type": "display_data"
    }
   ],
   "source": [
    "fig,ax = plt.subplots()\n",
    "ax.imshow(segmented_image_colored)\n",
    "for i in range(11):\n",
    "  ax.text(18,2*i,str(i))\n",
    "  ax.scatter(20,2*i,s=40,color=cmap1(i))\n",
    "plt.show()"
   ]
  },
  {
   "cell_type": "markdown",
   "id": "49532040",
   "metadata": {},
   "source": [
    "### Analysis of the results\n",
    "\n",
    "Better results!!!"
   ]
  },
  {
   "cell_type": "raw",
   "id": "0973d0a2",
   "metadata": {},
   "source": []
  },
  {
   "cell_type": "markdown",
   "id": "4ca80bd2",
   "metadata": {},
   "source": [
    "## IMPROVEMENT 3  \n",
    "## TODO"
   ]
  },
  {
   "attachments": {
    "image-2.png": {
     "image/png": "[encoded data removed]"
    },
    "image.png": {
     "image/png": "[encoded data removed]"
    }
   },
   "cell_type": "markdown",
   "id": "5da12c4c",
   "metadata": {},
   "source": [
    "If we analyze the current results, we can see that there are problems in the borders of the digits. ![image.png](attachment:image.png)\n",
    "\n",
    "One possible reason of that may be that the training background images were not too good: they were almost perfect black images. So, the classifier classifies as background images only perfect black images.\n",
    "\n",
    "But the classifier NN is now convolved across the input images. When it is applied in the border of an image, it should classify that as background, but instead it is confuesed by the fact that there is a little portion of something. ![image-2.png](attachment:image-2.png)\n",
    "\n",
    "Solution: we modify our background training images, such that now they are not perfect black images, but they can contain a little portion of digits."
   ]
  }
 ],
 "metadata": {
  "kernelspec": {
   "display_name": "Python 3",
   "language": "python",
   "name": "python3"
  },
  "language_info": {
   "codemirror_mode": {
    "name": "ipython",
    "version": 3
   },
   "file_extension": ".py",
   "mimetype": "text/x-python",
   "name": "python",
   "nbconvert_exporter": "python",
   "pygments_lexer": "ipython3",
   "version": "3.8.8"
  }
 },
 "nbformat": 4,
 "nbformat_minor": 5
}
