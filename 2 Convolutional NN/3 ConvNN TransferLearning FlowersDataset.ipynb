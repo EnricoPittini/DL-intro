{
 "cells": [
  {
   "cell_type": "markdown",
   "id": "c94e6df1",
   "metadata": {},
   "source": [
    "# ConvNN TransferLearning FlowersDataset"
   ]
  },
  {
   "cell_type": "markdown",
   "id": "e794302e",
   "metadata": {
    "id": "ba0343b2"
   },
   "source": [
    "In this notebook we discuss about Transfer Learning.\n",
    "\n",
    "We use the same dataset seen in the last notebook: the flowers dataset."
   ]
  },
  {
   "cell_type": "markdown",
   "id": "b22f0bb7",
   "metadata": {},
   "source": [
    "## IMPORTING LIBRARIES"
   ]
  },
  {
   "cell_type": "markdown",
   "id": "64d1d6a2",
   "metadata": {},
   "source": [
    "We import the basic libraries."
   ]
  },
  {
   "cell_type": "code",
   "execution_count": 1,
   "id": "0b806a8e",
   "metadata": {},
   "outputs": [],
   "source": [
    "import tensorflow as tf  \n",
    "\n",
    "import matplotlib.pyplot as plt\n",
    "\n",
    "import numpy as np"
   ]
  },
  {
   "cell_type": "raw",
   "id": "0521d427",
   "metadata": {},
   "source": []
  },
  {
   "cell_type": "markdown",
   "id": "69ad69a9",
   "metadata": {},
   "source": [
    "## LOAD THE DATASET"
   ]
  },
  {
   "cell_type": "markdown",
   "id": "9be146ac",
   "metadata": {
    "id": "FDiNppLVkvqd"
   },
   "source": [
    "Let us load the flowers dataset. This time, the downloading and loading of the dataset is a little bit more tricky."
   ]
  },
  {
   "cell_type": "markdown",
   "id": "0d76e93d",
   "metadata": {},
   "source": [
    "### Download the dataset"
   ]
  },
  {
   "cell_type": "code",
   "execution_count": 2,
   "id": "4f64fa46",
   "metadata": {},
   "outputs": [],
   "source": [
    "dataset_url = 'https://storage.googleapis.com/download.tensorflow.org/example_images/flower_photos.tgz'\n",
    "\n",
    "data_dir = tf.keras.utils.get_file('flower_photos', origin=dataset_url, untar=True)"
   ]
  },
  {
   "cell_type": "markdown",
   "id": "e9dca68a",
   "metadata": {},
   "source": [
    "### Load the dataset"
   ]
  },
  {
   "cell_type": "markdown",
   "id": "31cfbecd",
   "metadata": {},
   "source": [
    "We have already seen how to do that."
   ]
  },
  {
   "cell_type": "code",
   "execution_count": 3,
   "id": "ab6242f2",
   "metadata": {},
   "outputs": [
    {
     "name": "stdout",
     "output_type": "stream",
     "text": [
      "Found 3670 files belonging to 5 classes.\n",
      "Using 2936 files for training.\n",
      "Found 3670 files belonging to 5 classes.\n",
      "Using 734 files for validation.\n"
     ]
    }
   ],
   "source": [
    "w, h = 180, 180\n",
    "seed = 42\n",
    "validation_split=0.2\n",
    "\n",
    "batch_size = 32\n",
    "\n",
    "# Loading the training set: train_ds\n",
    "train_ds = tf.keras.utils.image_dataset_from_directory(\n",
    "  data_dir,\n",
    "  validation_split=validation_split,\n",
    "  subset='training',  # We want the training set\n",
    "  seed=seed,\n",
    "  image_size=(w, h),\n",
    "  batch_size=batch_size)\n",
    "\n",
    "# Loading the validation set: validation_ds\n",
    "validation_ds = tf.keras.utils.image_dataset_from_directory(\n",
    "  data_dir,\n",
    "  validation_split=validation_split,\n",
    "  subset='validation',  # We want the validation set\n",
    "  seed=seed,\n",
    "  image_size=(w, h),\n",
    "  batch_size=batch_size)"
   ]
  },
  {
   "cell_type": "markdown",
   "id": "4161b275",
   "metadata": {},
   "source": [
    "As it can be seen, there are $2936$ instances in the training set, and $734$ in the validation set."
   ]
  },
  {
   "cell_type": "markdown",
   "id": "735e6264",
   "metadata": {},
   "source": [
    "We can inspect the names of the classes."
   ]
  },
  {
   "cell_type": "code",
   "execution_count": 4,
   "id": "2cdc48ac",
   "metadata": {},
   "outputs": [
    {
     "data": {
      "text/plain": [
       "['daisy', 'dandelion', 'roses', 'sunflowers', 'tulips']"
      ]
     },
     "execution_count": 4,
     "metadata": {},
     "output_type": "execute_result"
    }
   ],
   "source": [
    "train_ds.class_names"
   ]
  },
  {
   "cell_type": "code",
   "execution_count": 5,
   "id": "90b85d00",
   "metadata": {},
   "outputs": [],
   "source": [
    "class_names = train_ds.class_names"
   ]
  },
  {
   "cell_type": "raw",
   "id": "255bf64c",
   "metadata": {},
   "source": []
  },
  {
   "cell_type": "markdown",
   "id": "_ed-2b2Yqnhr",
   "metadata": {
    "id": "_ed-2b2Yqnhr"
   },
   "source": [
    "# TRANSFER LEARNING"
   ]
  },
  {
   "cell_type": "markdown",
   "id": "6eadcd11",
   "metadata": {},
   "source": [
    "Transfer learning is about taking an already trained model (trained in a specific scenario) and using it in our new specific problem: we transfer the model into out our specific problem.\n",
    "\n",
    "Let's explain than more precisely in the context of DL, and especially of Convolutional NN."
   ]
  },
  {
   "cell_type": "markdown",
   "id": "e2e0fa59",
   "metadata": {},
   "source": [
    "### Idea"
   ]
  },
  {
   "cell_type": "markdown",
   "id": "34e1b25e",
   "metadata": {},
   "source": [
    "We have a specific classification problem, about a specific dataset about images. Like our specific classification problem about the flowers dataset.\n",
    "\n",
    "Instead of building from scratch our Conv NN, with Conv part and Dense part, we transfer into our problem an already trained NN.\n",
    "\n",
    "We take an already trained NN, that we call **base model**. This NN is a complex and sophisticated NN built from the community or important companies (e.g. Google) and it is trained with a huge dataset (dataset about images, of course). In our example, we will take the **MobileNet V2**, a Conv NN developed at Google, trained on the ImageNet dataset (a large dataset consisting of 14M images and 1000 classes).\n",
    "\n",
    "So, we take this already trained NN (trained in a different dataset) and we use it for solving our specific problem about the flowers dataset."
   ]
  },
  {
   "cell_type": "markdown",
   "id": "bbba342c",
   "metadata": {},
   "source": [
    "### More precisely"
   ]
  },
  {
   "cell_type": "markdown",
   "id": "040b653c",
   "metadata": {},
   "source": [
    "How do we use the base model in our specific scenario?\n",
    "\n",
    "We take only the Conv part of the base model: the Dense part is thrown away. (The Dense part is also called \"the top\").\n",
    "\n",
    "We define a new ConvNN. \n",
    "- The Conv part of this NN is the Conv part of the base model. Basically, we take the Conv part of the base model, and we innestate it into our new NN.\n",
    "- The Dense part is instead hand-designed from scratch. It is specifically designed for our specific context and scenario. Basically, it is important that the output layer (which is a dense layer) has a number of outputs which is equal to the number of different classes of our specific problem. For instance, in our specific case, the number of outputs must be equal to $5$, which is the number of different classes of flowers."
   ]
  },
  {
   "cell_type": "markdown",
   "id": "162a7458",
   "metadata": {},
   "source": [
    "Basically, the Conv part is taken from the base model. The extraction of the interesting features from the images is done by the base model. This makes sense, since the base model is a very complex and sophisticated model, trained on a huge dataset. \n",
    "\n",
    "Instead, the Dense part is specifically designed for our specific problem. The exploitation of the extracted features is specifically designed for our specific problem."
   ]
  },
  {
   "cell_type": "markdown",
   "id": "072e4896",
   "metadata": {},
   "source": [
    "### Weights "
   ]
  },
  {
   "cell_type": "markdown",
   "id": "370d7eac",
   "metadata": {},
   "source": [
    "Of course, the weigths of the base model are fixed.\n",
    "\n",
    "So, when we train our NN, the Conv part (i.e. the base model) must be fixed, the weigths must be non-trainable. We want to keep the parameters of the base model are they are.\n",
    "\n",
    "So, we train only the weigths of the Dense part.\n",
    "\n",
    "We freeze the Conv part, while keeping free the Dense part."
   ]
  },
  {
   "cell_type": "markdown",
   "id": "b3c7451b",
   "metadata": {},
   "source": [
    "### Advantages of this approach"
   ]
  },
  {
   "cell_type": "markdown",
   "id": "51f85e70",
   "metadata": {},
   "source": [
    "This is, in general, a good approach. Because we rely upon a NN which is complex, sophisticated, trained on a huge dataset, and designed and controlled by a large community of researches (i.e. Google). \n",
    "\n",
    "Instead of building a new NN from scratch, we rely upon a reliable NN."
   ]
  },
  {
   "cell_type": "markdown",
   "id": "33bba8af",
   "metadata": {},
   "source": [
    "### Features extraction and Fine tuning"
   ]
  },
  {
   "cell_type": "markdown",
   "id": "0c2e8eb1",
   "metadata": {},
   "source": [
    "Actually, there are two different possible ways of using Transfer Learning. The classic one is the one described now, and it is called **Features extraction**. The alternative way is called **Fine tuning**: we will see it later. "
   ]
  },
  {
   "cell_type": "raw",
   "id": "4fd61ba2",
   "metadata": {},
   "source": []
  },
  {
   "cell_type": "markdown",
   "id": "0f12da59",
   "metadata": {},
   "source": [
    "## NOTE: GLOBAL AVERAGE POOLING LAYER"
   ]
  },
  {
   "cell_type": "markdown",
   "id": "8e3bc5fb",
   "metadata": {},
   "source": [
    "Before continuing, let's see another kind of layer for the Conv NN: GlobalAveragePooling layer."
   ]
  },
  {
   "cell_type": "code",
   "execution_count": 6,
   "id": "7f3f0477",
   "metadata": {},
   "outputs": [],
   "source": [
    "from tensorflow.keras.layers import GlobalAveragePooling2D"
   ]
  },
  {
   "cell_type": "markdown",
   "id": "af25551f",
   "metadata": {},
   "source": [
    "### Idea"
   ]
  },
  {
   "cell_type": "markdown",
   "id": "d1ca53cf",
   "metadata": {},
   "source": [
    "The GlobalAveragePooling layer is like the AveragePooling layer. The difference is that it is applied on the whole image. It is applied covering the whole spatial dimensions.\n",
    "\n",
    "So, for each channel, all the values in that image are taken, and the average of all these values is computed. Each channel is summed up into a single value, which is the mean of the values.\n",
    "\n",
    "So, if the input dimensions of the layer are $w_{in},h_{in},c_{in}$, then the output is simply a flat vector containing $c_{in}$ values, one from each input channel."
   ]
  },
  {
   "cell_type": "markdown",
   "id": "8c692c29",
   "metadata": {},
   "source": [
    "There is also the GlobalMaxPooling layer."
   ]
  },
  {
   "cell_type": "markdown",
   "id": "129fb0f1",
   "metadata": {},
   "source": [
    "### Usage"
   ]
  },
  {
   "cell_type": "markdown",
   "id": "7a714a7d",
   "metadata": {},
   "source": [
    "The usage of this layer is to flat the dimensions into a single dimension. It flats the $3$ dimensions fo the Conv layers (i.e. $w,h,c$) into a single dimension.\n",
    "\n",
    "So, this layer is used for flattening the dimensions before the Dense part. It is placed after the Conv part and right before the Dense part, in order to give to the Dense part a flat input.\n",
    "\n",
    "Basically, the GlobalAveragePooling layer is an alternative to the Flatten layer, for flattening the dimensions inton a single one."
   ]
  },
  {
   "cell_type": "code",
   "execution_count": null,
   "id": "96c0b45b",
   "metadata": {},
   "outputs": [],
   "source": []
  },
  {
   "cell_type": "markdown",
   "id": "1308e3e8",
   "metadata": {},
   "source": [
    "## USING TRANSER LEARNING"
   ]
  },
  {
   "cell_type": "markdown",
   "id": "c8954621",
   "metadata": {},
   "source": [
    "So, let's use transfer learning in our classification problem about the flowers dataset."
   ]
  },
  {
   "cell_type": "markdown",
   "id": "65fd64db",
   "metadata": {},
   "source": [
    "### Take the base model"
   ]
  },
  {
   "cell_type": "markdown",
   "id": "95552635",
   "metadata": {},
   "source": [
    "Let's take the base model `MobileNetV2`, using the TensorFlow library. We don't take the top (i.e. the Dense part). Only Conv part. \n",
    "\n",
    "We take this model trained on the ImageNet dataset."
   ]
  },
  {
   "cell_type": "code",
   "execution_count": 7,
   "id": "eRXaoyyMurdR",
   "metadata": {
    "id": "eRXaoyyMurdR"
   },
   "outputs": [
    {
     "name": "stdout",
     "output_type": "stream",
     "text": [
      "WARNING:tensorflow:`input_shape` is undefined or non-square, or `rows` is not in [96, 128, 160, 192, 224]. Weights for input shape (224, 224) will be loaded as the default.\n"
     ]
    }
   ],
   "source": [
    "# Input spatial dimensions\n",
    "w, h = 180, 180\n",
    "\n",
    "# Input channels dimension\n",
    "c = 3\n",
    "\n",
    "base_model = tf.keras.applications.MobileNetV2(input_shape=(w, h, c),\n",
    "                                               include_top=False,\n",
    "                                               weights='imagenet')"
   ]
  },
  {
   "cell_type": "markdown",
   "id": "a75efe2e",
   "metadata": {},
   "source": [
    "Summary."
   ]
  },
  {
   "cell_type": "code",
   "execution_count": 8,
   "id": "SWHCexzrveq5",
   "metadata": {
    "id": "SWHCexzrveq5"
   },
   "outputs": [
    {
     "name": "stdout",
     "output_type": "stream",
     "text": [
      "Model: \"mobilenetv2_1.00_224\"\n",
      "__________________________________________________________________________________________________\n",
      " Layer (type)                   Output Shape         Param #     Connected to                     \n",
      "==================================================================================================\n",
      " input_1 (InputLayer)           [(None, 180, 180, 3  0           []                               \n",
      "                                )]                                                                \n",
      "                                                                                                  \n",
      " Conv1 (Conv2D)                 (None, 90, 90, 32)   864         ['input_1[0][0]']                \n",
      "                                                                                                  \n",
      " bn_Conv1 (BatchNormalization)  (None, 90, 90, 32)   128         ['Conv1[0][0]']                  \n",
      "                                                                                                  \n",
      " Conv1_relu (ReLU)              (None, 90, 90, 32)   0           ['bn_Conv1[0][0]']               \n",
      "                                                                                                  \n",
      " expanded_conv_depthwise (Depth  (None, 90, 90, 32)  288         ['Conv1_relu[0][0]']             \n",
      " wiseConv2D)                                                                                      \n",
      "                                                                                                  \n",
      " expanded_conv_depthwise_BN (Ba  (None, 90, 90, 32)  128         ['expanded_conv_depthwise[0][0]']\n",
      " tchNormalization)                                                                                \n",
      "                                                                                                  \n",
      " expanded_conv_depthwise_relu (  (None, 90, 90, 32)  0           ['expanded_conv_depthwise_BN[0][0\n",
      " ReLU)                                                           ]']                              \n",
      "                                                                                                  \n",
      " expanded_conv_project (Conv2D)  (None, 90, 90, 16)  512         ['expanded_conv_depthwise_relu[0]\n",
      "                                                                 [0]']                            \n",
      "                                                                                                  \n",
      " expanded_conv_project_BN (Batc  (None, 90, 90, 16)  64          ['expanded_conv_project[0][0]']  \n",
      " hNormalization)                                                                                  \n",
      "                                                                                                  \n",
      " block_1_expand (Conv2D)        (None, 90, 90, 96)   1536        ['expanded_conv_project_BN[0][0]'\n",
      "                                                                 ]                                \n",
      "                                                                                                  \n",
      " block_1_expand_BN (BatchNormal  (None, 90, 90, 96)  384         ['block_1_expand[0][0]']         \n",
      " ization)                                                                                         \n",
      "                                                                                                  \n",
      " block_1_expand_relu (ReLU)     (None, 90, 90, 96)   0           ['block_1_expand_BN[0][0]']      \n",
      "                                                                                                  \n",
      " block_1_pad (ZeroPadding2D)    (None, 91, 91, 96)   0           ['block_1_expand_relu[0][0]']    \n",
      "                                                                                                  \n",
      " block_1_depthwise (DepthwiseCo  (None, 45, 45, 96)  864         ['block_1_pad[0][0]']            \n",
      " nv2D)                                                                                            \n",
      "                                                                                                  \n",
      " block_1_depthwise_BN (BatchNor  (None, 45, 45, 96)  384         ['block_1_depthwise[0][0]']      \n",
      " malization)                                                                                      \n",
      "                                                                                                  \n",
      " block_1_depthwise_relu (ReLU)  (None, 45, 45, 96)   0           ['block_1_depthwise_BN[0][0]']   \n",
      "                                                                                                  \n",
      " block_1_project (Conv2D)       (None, 45, 45, 24)   2304        ['block_1_depthwise_relu[0][0]'] \n",
      "                                                                                                  \n",
      " block_1_project_BN (BatchNorma  (None, 45, 45, 24)  96          ['block_1_project[0][0]']        \n",
      " lization)                                                                                        \n",
      "                                                                                                  \n",
      " block_2_expand (Conv2D)        (None, 45, 45, 144)  3456        ['block_1_project_BN[0][0]']     \n",
      "                                                                                                  \n",
      " block_2_expand_BN (BatchNormal  (None, 45, 45, 144)  576        ['block_2_expand[0][0]']         \n",
      " ization)                                                                                         \n",
      "                                                                                                  \n",
      " block_2_expand_relu (ReLU)     (None, 45, 45, 144)  0           ['block_2_expand_BN[0][0]']      \n",
      "                                                                                                  \n",
      " block_2_depthwise (DepthwiseCo  (None, 45, 45, 144)  1296       ['block_2_expand_relu[0][0]']    \n",
      " nv2D)                                                                                            \n",
      "                                                                                                  \n",
      " block_2_depthwise_BN (BatchNor  (None, 45, 45, 144)  576        ['block_2_depthwise[0][0]']      \n",
      " malization)                                                                                      \n",
      "                                                                                                  \n",
      " block_2_depthwise_relu (ReLU)  (None, 45, 45, 144)  0           ['block_2_depthwise_BN[0][0]']   \n",
      "                                                                                                  \n",
      " block_2_project (Conv2D)       (None, 45, 45, 24)   3456        ['block_2_depthwise_relu[0][0]'] \n",
      "                                                                                                  \n",
      " block_2_project_BN (BatchNorma  (None, 45, 45, 24)  96          ['block_2_project[0][0]']        \n",
      " lization)                                                                                        \n",
      "                                                                                                  \n",
      " block_2_add (Add)              (None, 45, 45, 24)   0           ['block_1_project_BN[0][0]',     \n",
      "                                                                  'block_2_project_BN[0][0]']     \n",
      "                                                                                                  \n",
      " block_3_expand (Conv2D)        (None, 45, 45, 144)  3456        ['block_2_add[0][0]']            \n",
      "                                                                                                  \n",
      " block_3_expand_BN (BatchNormal  (None, 45, 45, 144)  576        ['block_3_expand[0][0]']         \n",
      " ization)                                                                                         \n",
      "                                                                                                  \n",
      " block_3_expand_relu (ReLU)     (None, 45, 45, 144)  0           ['block_3_expand_BN[0][0]']      \n",
      "                                                                                                  \n",
      " block_3_pad (ZeroPadding2D)    (None, 47, 47, 144)  0           ['block_3_expand_relu[0][0]']    \n",
      "                                                                                                  \n",
      " block_3_depthwise (DepthwiseCo  (None, 23, 23, 144)  1296       ['block_3_pad[0][0]']            \n"
     ]
    },
    {
     "name": "stdout",
     "output_type": "stream",
     "text": [
      " nv2D)                                                                                            \n",
      "                                                                                                  \n",
      " block_3_depthwise_BN (BatchNor  (None, 23, 23, 144)  576        ['block_3_depthwise[0][0]']      \n",
      " malization)                                                                                      \n",
      "                                                                                                  \n",
      " block_3_depthwise_relu (ReLU)  (None, 23, 23, 144)  0           ['block_3_depthwise_BN[0][0]']   \n",
      "                                                                                                  \n",
      " block_3_project (Conv2D)       (None, 23, 23, 32)   4608        ['block_3_depthwise_relu[0][0]'] \n",
      "                                                                                                  \n",
      " block_3_project_BN (BatchNorma  (None, 23, 23, 32)  128         ['block_3_project[0][0]']        \n",
      " lization)                                                                                        \n",
      "                                                                                                  \n",
      " block_4_expand (Conv2D)        (None, 23, 23, 192)  6144        ['block_3_project_BN[0][0]']     \n",
      "                                                                                                  \n",
      " block_4_expand_BN (BatchNormal  (None, 23, 23, 192)  768        ['block_4_expand[0][0]']         \n",
      " ization)                                                                                         \n",
      "                                                                                                  \n",
      " block_4_expand_relu (ReLU)     (None, 23, 23, 192)  0           ['block_4_expand_BN[0][0]']      \n",
      "                                                                                                  \n",
      " block_4_depthwise (DepthwiseCo  (None, 23, 23, 192)  1728       ['block_4_expand_relu[0][0]']    \n",
      " nv2D)                                                                                            \n",
      "                                                                                                  \n",
      " block_4_depthwise_BN (BatchNor  (None, 23, 23, 192)  768        ['block_4_depthwise[0][0]']      \n",
      " malization)                                                                                      \n",
      "                                                                                                  \n",
      " block_4_depthwise_relu (ReLU)  (None, 23, 23, 192)  0           ['block_4_depthwise_BN[0][0]']   \n",
      "                                                                                                  \n",
      " block_4_project (Conv2D)       (None, 23, 23, 32)   6144        ['block_4_depthwise_relu[0][0]'] \n",
      "                                                                                                  \n",
      " block_4_project_BN (BatchNorma  (None, 23, 23, 32)  128         ['block_4_project[0][0]']        \n",
      " lization)                                                                                        \n",
      "                                                                                                  \n",
      " block_4_add (Add)              (None, 23, 23, 32)   0           ['block_3_project_BN[0][0]',     \n",
      "                                                                  'block_4_project_BN[0][0]']     \n",
      "                                                                                                  \n",
      " block_5_expand (Conv2D)        (None, 23, 23, 192)  6144        ['block_4_add[0][0]']            \n",
      "                                                                                                  \n",
      " block_5_expand_BN (BatchNormal  (None, 23, 23, 192)  768        ['block_5_expand[0][0]']         \n",
      " ization)                                                                                         \n",
      "                                                                                                  \n",
      " block_5_expand_relu (ReLU)     (None, 23, 23, 192)  0           ['block_5_expand_BN[0][0]']      \n",
      "                                                                                                  \n",
      " block_5_depthwise (DepthwiseCo  (None, 23, 23, 192)  1728       ['block_5_expand_relu[0][0]']    \n",
      " nv2D)                                                                                            \n",
      "                                                                                                  \n",
      " block_5_depthwise_BN (BatchNor  (None, 23, 23, 192)  768        ['block_5_depthwise[0][0]']      \n",
      " malization)                                                                                      \n",
      "                                                                                                  \n",
      " block_5_depthwise_relu (ReLU)  (None, 23, 23, 192)  0           ['block_5_depthwise_BN[0][0]']   \n",
      "                                                                                                  \n",
      " block_5_project (Conv2D)       (None, 23, 23, 32)   6144        ['block_5_depthwise_relu[0][0]'] \n",
      "                                                                                                  \n",
      " block_5_project_BN (BatchNorma  (None, 23, 23, 32)  128         ['block_5_project[0][0]']        \n",
      " lization)                                                                                        \n",
      "                                                                                                  \n",
      " block_5_add (Add)              (None, 23, 23, 32)   0           ['block_4_add[0][0]',            \n",
      "                                                                  'block_5_project_BN[0][0]']     \n",
      "                                                                                                  \n",
      " block_6_expand (Conv2D)        (None, 23, 23, 192)  6144        ['block_5_add[0][0]']            \n",
      "                                                                                                  \n",
      " block_6_expand_BN (BatchNormal  (None, 23, 23, 192)  768        ['block_6_expand[0][0]']         \n",
      " ization)                                                                                         \n",
      "                                                                                                  \n",
      " block_6_expand_relu (ReLU)     (None, 23, 23, 192)  0           ['block_6_expand_BN[0][0]']      \n",
      "                                                                                                  \n",
      " block_6_pad (ZeroPadding2D)    (None, 25, 25, 192)  0           ['block_6_expand_relu[0][0]']    \n",
      "                                                                                                  \n",
      " block_6_depthwise (DepthwiseCo  (None, 12, 12, 192)  1728       ['block_6_pad[0][0]']            \n",
      " nv2D)                                                                                            \n",
      "                                                                                                  \n",
      " block_6_depthwise_BN (BatchNor  (None, 12, 12, 192)  768        ['block_6_depthwise[0][0]']      \n",
      " malization)                                                                                      \n",
      "                                                                                                  \n",
      " block_6_depthwise_relu (ReLU)  (None, 12, 12, 192)  0           ['block_6_depthwise_BN[0][0]']   \n",
      "                                                                                                  \n",
      " block_6_project (Conv2D)       (None, 12, 12, 64)   12288       ['block_6_depthwise_relu[0][0]'] \n",
      "                                                                                                  \n",
      " block_6_project_BN (BatchNorma  (None, 12, 12, 64)  256         ['block_6_project[0][0]']        \n",
      " lization)                                                                                        \n",
      "                                                                                                  \n",
      " block_7_expand (Conv2D)        (None, 12, 12, 384)  24576       ['block_6_project_BN[0][0]']     \n",
      "                                                                                                  \n",
      " block_7_expand_BN (BatchNormal  (None, 12, 12, 384)  1536       ['block_7_expand[0][0]']         \n"
     ]
    },
    {
     "name": "stdout",
     "output_type": "stream",
     "text": [
      " ization)                                                                                         \n",
      "                                                                                                  \n",
      " block_7_expand_relu (ReLU)     (None, 12, 12, 384)  0           ['block_7_expand_BN[0][0]']      \n",
      "                                                                                                  \n",
      " block_7_depthwise (DepthwiseCo  (None, 12, 12, 384)  3456       ['block_7_expand_relu[0][0]']    \n",
      " nv2D)                                                                                            \n",
      "                                                                                                  \n",
      " block_7_depthwise_BN (BatchNor  (None, 12, 12, 384)  1536       ['block_7_depthwise[0][0]']      \n",
      " malization)                                                                                      \n",
      "                                                                                                  \n",
      " block_7_depthwise_relu (ReLU)  (None, 12, 12, 384)  0           ['block_7_depthwise_BN[0][0]']   \n",
      "                                                                                                  \n",
      " block_7_project (Conv2D)       (None, 12, 12, 64)   24576       ['block_7_depthwise_relu[0][0]'] \n",
      "                                                                                                  \n",
      " block_7_project_BN (BatchNorma  (None, 12, 12, 64)  256         ['block_7_project[0][0]']        \n",
      " lization)                                                                                        \n",
      "                                                                                                  \n",
      " block_7_add (Add)              (None, 12, 12, 64)   0           ['block_6_project_BN[0][0]',     \n",
      "                                                                  'block_7_project_BN[0][0]']     \n",
      "                                                                                                  \n",
      " block_8_expand (Conv2D)        (None, 12, 12, 384)  24576       ['block_7_add[0][0]']            \n",
      "                                                                                                  \n",
      " block_8_expand_BN (BatchNormal  (None, 12, 12, 384)  1536       ['block_8_expand[0][0]']         \n",
      " ization)                                                                                         \n",
      "                                                                                                  \n",
      " block_8_expand_relu (ReLU)     (None, 12, 12, 384)  0           ['block_8_expand_BN[0][0]']      \n",
      "                                                                                                  \n",
      " block_8_depthwise (DepthwiseCo  (None, 12, 12, 384)  3456       ['block_8_expand_relu[0][0]']    \n",
      " nv2D)                                                                                            \n",
      "                                                                                                  \n",
      " block_8_depthwise_BN (BatchNor  (None, 12, 12, 384)  1536       ['block_8_depthwise[0][0]']      \n",
      " malization)                                                                                      \n",
      "                                                                                                  \n",
      " block_8_depthwise_relu (ReLU)  (None, 12, 12, 384)  0           ['block_8_depthwise_BN[0][0]']   \n",
      "                                                                                                  \n",
      " block_8_project (Conv2D)       (None, 12, 12, 64)   24576       ['block_8_depthwise_relu[0][0]'] \n",
      "                                                                                                  \n",
      " block_8_project_BN (BatchNorma  (None, 12, 12, 64)  256         ['block_8_project[0][0]']        \n",
      " lization)                                                                                        \n",
      "                                                                                                  \n",
      " block_8_add (Add)              (None, 12, 12, 64)   0           ['block_7_add[0][0]',            \n",
      "                                                                  'block_8_project_BN[0][0]']     \n",
      "                                                                                                  \n",
      " block_9_expand (Conv2D)        (None, 12, 12, 384)  24576       ['block_8_add[0][0]']            \n",
      "                                                                                                  \n",
      " block_9_expand_BN (BatchNormal  (None, 12, 12, 384)  1536       ['block_9_expand[0][0]']         \n",
      " ization)                                                                                         \n",
      "                                                                                                  \n",
      " block_9_expand_relu (ReLU)     (None, 12, 12, 384)  0           ['block_9_expand_BN[0][0]']      \n",
      "                                                                                                  \n",
      " block_9_depthwise (DepthwiseCo  (None, 12, 12, 384)  3456       ['block_9_expand_relu[0][0]']    \n",
      " nv2D)                                                                                            \n",
      "                                                                                                  \n",
      " block_9_depthwise_BN (BatchNor  (None, 12, 12, 384)  1536       ['block_9_depthwise[0][0]']      \n",
      " malization)                                                                                      \n",
      "                                                                                                  \n",
      " block_9_depthwise_relu (ReLU)  (None, 12, 12, 384)  0           ['block_9_depthwise_BN[0][0]']   \n",
      "                                                                                                  \n",
      " block_9_project (Conv2D)       (None, 12, 12, 64)   24576       ['block_9_depthwise_relu[0][0]'] \n",
      "                                                                                                  \n",
      " block_9_project_BN (BatchNorma  (None, 12, 12, 64)  256         ['block_9_project[0][0]']        \n",
      " lization)                                                                                        \n",
      "                                                                                                  \n",
      " block_9_add (Add)              (None, 12, 12, 64)   0           ['block_8_add[0][0]',            \n",
      "                                                                  'block_9_project_BN[0][0]']     \n",
      "                                                                                                  \n",
      " block_10_expand (Conv2D)       (None, 12, 12, 384)  24576       ['block_9_add[0][0]']            \n",
      "                                                                                                  \n",
      " block_10_expand_BN (BatchNorma  (None, 12, 12, 384)  1536       ['block_10_expand[0][0]']        \n",
      " lization)                                                                                        \n",
      "                                                                                                  \n",
      " block_10_expand_relu (ReLU)    (None, 12, 12, 384)  0           ['block_10_expand_BN[0][0]']     \n",
      "                                                                                                  \n",
      " block_10_depthwise (DepthwiseC  (None, 12, 12, 384)  3456       ['block_10_expand_relu[0][0]']   \n",
      " onv2D)                                                                                           \n",
      "                                                                                                  \n",
      " block_10_depthwise_BN (BatchNo  (None, 12, 12, 384)  1536       ['block_10_depthwise[0][0]']     \n",
      " rmalization)                                                                                     \n",
      "                                                                                                  \n",
      " block_10_depthwise_relu (ReLU)  (None, 12, 12, 384)  0          ['block_10_depthwise_BN[0][0]']  \n",
      "                                                                                                  \n",
      " block_10_project (Conv2D)      (None, 12, 12, 96)   36864       ['block_10_depthwise_relu[0][0]']\n",
      "                                                                                                  \n"
     ]
    },
    {
     "name": "stdout",
     "output_type": "stream",
     "text": [
      " block_10_project_BN (BatchNorm  (None, 12, 12, 96)  384         ['block_10_project[0][0]']       \n",
      " alization)                                                                                       \n",
      "                                                                                                  \n",
      " block_11_expand (Conv2D)       (None, 12, 12, 576)  55296       ['block_10_project_BN[0][0]']    \n",
      "                                                                                                  \n",
      " block_11_expand_BN (BatchNorma  (None, 12, 12, 576)  2304       ['block_11_expand[0][0]']        \n",
      " lization)                                                                                        \n",
      "                                                                                                  \n",
      " block_11_expand_relu (ReLU)    (None, 12, 12, 576)  0           ['block_11_expand_BN[0][0]']     \n",
      "                                                                                                  \n",
      " block_11_depthwise (DepthwiseC  (None, 12, 12, 576)  5184       ['block_11_expand_relu[0][0]']   \n",
      " onv2D)                                                                                           \n",
      "                                                                                                  \n",
      " block_11_depthwise_BN (BatchNo  (None, 12, 12, 576)  2304       ['block_11_depthwise[0][0]']     \n",
      " rmalization)                                                                                     \n",
      "                                                                                                  \n",
      " block_11_depthwise_relu (ReLU)  (None, 12, 12, 576)  0          ['block_11_depthwise_BN[0][0]']  \n",
      "                                                                                                  \n",
      " block_11_project (Conv2D)      (None, 12, 12, 96)   55296       ['block_11_depthwise_relu[0][0]']\n",
      "                                                                                                  \n",
      " block_11_project_BN (BatchNorm  (None, 12, 12, 96)  384         ['block_11_project[0][0]']       \n",
      " alization)                                                                                       \n",
      "                                                                                                  \n",
      " block_11_add (Add)             (None, 12, 12, 96)   0           ['block_10_project_BN[0][0]',    \n",
      "                                                                  'block_11_project_BN[0][0]']    \n",
      "                                                                                                  \n",
      " block_12_expand (Conv2D)       (None, 12, 12, 576)  55296       ['block_11_add[0][0]']           \n",
      "                                                                                                  \n",
      " block_12_expand_BN (BatchNorma  (None, 12, 12, 576)  2304       ['block_12_expand[0][0]']        \n",
      " lization)                                                                                        \n",
      "                                                                                                  \n",
      " block_12_expand_relu (ReLU)    (None, 12, 12, 576)  0           ['block_12_expand_BN[0][0]']     \n",
      "                                                                                                  \n",
      " block_12_depthwise (DepthwiseC  (None, 12, 12, 576)  5184       ['block_12_expand_relu[0][0]']   \n",
      " onv2D)                                                                                           \n",
      "                                                                                                  \n",
      " block_12_depthwise_BN (BatchNo  (None, 12, 12, 576)  2304       ['block_12_depthwise[0][0]']     \n",
      " rmalization)                                                                                     \n",
      "                                                                                                  \n",
      " block_12_depthwise_relu (ReLU)  (None, 12, 12, 576)  0          ['block_12_depthwise_BN[0][0]']  \n",
      "                                                                                                  \n",
      " block_12_project (Conv2D)      (None, 12, 12, 96)   55296       ['block_12_depthwise_relu[0][0]']\n",
      "                                                                                                  \n",
      " block_12_project_BN (BatchNorm  (None, 12, 12, 96)  384         ['block_12_project[0][0]']       \n",
      " alization)                                                                                       \n",
      "                                                                                                  \n",
      " block_12_add (Add)             (None, 12, 12, 96)   0           ['block_11_add[0][0]',           \n",
      "                                                                  'block_12_project_BN[0][0]']    \n",
      "                                                                                                  \n",
      " block_13_expand (Conv2D)       (None, 12, 12, 576)  55296       ['block_12_add[0][0]']           \n",
      "                                                                                                  \n",
      " block_13_expand_BN (BatchNorma  (None, 12, 12, 576)  2304       ['block_13_expand[0][0]']        \n",
      " lization)                                                                                        \n",
      "                                                                                                  \n",
      " block_13_expand_relu (ReLU)    (None, 12, 12, 576)  0           ['block_13_expand_BN[0][0]']     \n",
      "                                                                                                  \n",
      " block_13_pad (ZeroPadding2D)   (None, 13, 13, 576)  0           ['block_13_expand_relu[0][0]']   \n",
      "                                                                                                  \n",
      " block_13_depthwise (DepthwiseC  (None, 6, 6, 576)   5184        ['block_13_pad[0][0]']           \n",
      " onv2D)                                                                                           \n",
      "                                                                                                  \n",
      " block_13_depthwise_BN (BatchNo  (None, 6, 6, 576)   2304        ['block_13_depthwise[0][0]']     \n",
      " rmalization)                                                                                     \n",
      "                                                                                                  \n",
      " block_13_depthwise_relu (ReLU)  (None, 6, 6, 576)   0           ['block_13_depthwise_BN[0][0]']  \n",
      "                                                                                                  \n",
      " block_13_project (Conv2D)      (None, 6, 6, 160)    92160       ['block_13_depthwise_relu[0][0]']\n",
      "                                                                                                  \n",
      " block_13_project_BN (BatchNorm  (None, 6, 6, 160)   640         ['block_13_project[0][0]']       \n",
      " alization)                                                                                       \n",
      "                                                                                                  \n",
      " block_14_expand (Conv2D)       (None, 6, 6, 960)    153600      ['block_13_project_BN[0][0]']    \n",
      "                                                                                                  \n",
      " block_14_expand_BN (BatchNorma  (None, 6, 6, 960)   3840        ['block_14_expand[0][0]']        \n",
      " lization)                                                                                        \n",
      "                                                                                                  \n",
      " block_14_expand_relu (ReLU)    (None, 6, 6, 960)    0           ['block_14_expand_BN[0][0]']     \n",
      "                                                                                                  \n",
      " block_14_depthwise (DepthwiseC  (None, 6, 6, 960)   8640        ['block_14_expand_relu[0][0]']   \n",
      " onv2D)                                                                                           \n",
      "                                                                                                  \n",
      " block_14_depthwise_BN (BatchNo  (None, 6, 6, 960)   3840        ['block_14_depthwise[0][0]']     \n",
      " rmalization)                                                                                     \n"
     ]
    },
    {
     "name": "stdout",
     "output_type": "stream",
     "text": [
      "                                                                                                  \n",
      " block_14_depthwise_relu (ReLU)  (None, 6, 6, 960)   0           ['block_14_depthwise_BN[0][0]']  \n",
      "                                                                                                  \n",
      " block_14_project (Conv2D)      (None, 6, 6, 160)    153600      ['block_14_depthwise_relu[0][0]']\n",
      "                                                                                                  \n",
      " block_14_project_BN (BatchNorm  (None, 6, 6, 160)   640         ['block_14_project[0][0]']       \n",
      " alization)                                                                                       \n",
      "                                                                                                  \n",
      " block_14_add (Add)             (None, 6, 6, 160)    0           ['block_13_project_BN[0][0]',    \n",
      "                                                                  'block_14_project_BN[0][0]']    \n",
      "                                                                                                  \n",
      " block_15_expand (Conv2D)       (None, 6, 6, 960)    153600      ['block_14_add[0][0]']           \n",
      "                                                                                                  \n",
      " block_15_expand_BN (BatchNorma  (None, 6, 6, 960)   3840        ['block_15_expand[0][0]']        \n",
      " lization)                                                                                        \n",
      "                                                                                                  \n",
      " block_15_expand_relu (ReLU)    (None, 6, 6, 960)    0           ['block_15_expand_BN[0][0]']     \n",
      "                                                                                                  \n",
      " block_15_depthwise (DepthwiseC  (None, 6, 6, 960)   8640        ['block_15_expand_relu[0][0]']   \n",
      " onv2D)                                                                                           \n",
      "                                                                                                  \n",
      " block_15_depthwise_BN (BatchNo  (None, 6, 6, 960)   3840        ['block_15_depthwise[0][0]']     \n",
      " rmalization)                                                                                     \n",
      "                                                                                                  \n",
      " block_15_depthwise_relu (ReLU)  (None, 6, 6, 960)   0           ['block_15_depthwise_BN[0][0]']  \n",
      "                                                                                                  \n",
      " block_15_project (Conv2D)      (None, 6, 6, 160)    153600      ['block_15_depthwise_relu[0][0]']\n",
      "                                                                                                  \n",
      " block_15_project_BN (BatchNorm  (None, 6, 6, 160)   640         ['block_15_project[0][0]']       \n",
      " alization)                                                                                       \n",
      "                                                                                                  \n",
      " block_15_add (Add)             (None, 6, 6, 160)    0           ['block_14_add[0][0]',           \n",
      "                                                                  'block_15_project_BN[0][0]']    \n",
      "                                                                                                  \n",
      " block_16_expand (Conv2D)       (None, 6, 6, 960)    153600      ['block_15_add[0][0]']           \n",
      "                                                                                                  \n",
      " block_16_expand_BN (BatchNorma  (None, 6, 6, 960)   3840        ['block_16_expand[0][0]']        \n",
      " lization)                                                                                        \n",
      "                                                                                                  \n",
      " block_16_expand_relu (ReLU)    (None, 6, 6, 960)    0           ['block_16_expand_BN[0][0]']     \n",
      "                                                                                                  \n",
      " block_16_depthwise (DepthwiseC  (None, 6, 6, 960)   8640        ['block_16_expand_relu[0][0]']   \n",
      " onv2D)                                                                                           \n",
      "                                                                                                  \n",
      " block_16_depthwise_BN (BatchNo  (None, 6, 6, 960)   3840        ['block_16_depthwise[0][0]']     \n",
      " rmalization)                                                                                     \n",
      "                                                                                                  \n",
      " block_16_depthwise_relu (ReLU)  (None, 6, 6, 960)   0           ['block_16_depthwise_BN[0][0]']  \n",
      "                                                                                                  \n",
      " block_16_project (Conv2D)      (None, 6, 6, 320)    307200      ['block_16_depthwise_relu[0][0]']\n",
      "                                                                                                  \n",
      " block_16_project_BN (BatchNorm  (None, 6, 6, 320)   1280        ['block_16_project[0][0]']       \n",
      " alization)                                                                                       \n",
      "                                                                                                  \n",
      " Conv_1 (Conv2D)                (None, 6, 6, 1280)   409600      ['block_16_project_BN[0][0]']    \n",
      "                                                                                                  \n",
      " Conv_1_bn (BatchNormalization)  (None, 6, 6, 1280)  5120        ['Conv_1[0][0]']                 \n",
      "                                                                                                  \n",
      " out_relu (ReLU)                (None, 6, 6, 1280)   0           ['Conv_1_bn[0][0]']              \n",
      "                                                                                                  \n",
      "==================================================================================================\n",
      "Total params: 2,257,984\n",
      "Trainable params: 2,223,872\n",
      "Non-trainable params: 34,112\n",
      "__________________________________________________________________________________________________\n"
     ]
    }
   ],
   "source": [
    "base_model.summary()"
   ]
  },
  {
   "cell_type": "markdown",
   "id": "2a7f214e",
   "metadata": {},
   "source": [
    "We set the base model as non-trainable. We freeze it."
   ]
  },
  {
   "cell_type": "code",
   "execution_count": 9,
   "id": "TabU-jRDvS5Q",
   "metadata": {
    "id": "TabU-jRDvS5Q"
   },
   "outputs": [],
   "source": [
    "base_model.trainable = False"
   ]
  },
  {
   "cell_type": "markdown",
   "id": "fd2fae99",
   "metadata": {},
   "source": [
    "### Define the NN"
   ]
  },
  {
   "cell_type": "markdown",
   "id": "d3683a7f",
   "metadata": {},
   "source": [
    "Let's define the NN.\n",
    "\n",
    "We use the base model as Conv part, while we design from scratch the Dense part. We also use the techniques for reducing overfitting seen in the last notebook: data augmentation (with flipping/rotating/zoomming) and DropOut."
   ]
  },
  {
   "cell_type": "markdown",
   "id": "d1612031",
   "metadata": {},
   "source": [
    "So, the NN is the following.\n",
    "\n",
    "- Input layer.\n",
    "- Flipping, Rotating, Zoomming layers, for data augmentation.\n",
    "- Rescaling layer, for rescaling the input values from the range $[0,255]$ into the range $[0,1]$.\n",
    "- Base model. We inject the base model. This is the Conv part of our NN.\n",
    "- GlobalAveragePooling layer, for flattening the \n",
    "- DropOut layer, which works on the last Conv layer.\n",
    "- Dense layer.\n",
    "- Output Dense layer. $5$ output neurons. Softmax activation function."
   ]
  },
  {
   "cell_type": "code",
   "execution_count": 10,
   "id": "30eb1f1d",
   "metadata": {},
   "outputs": [],
   "source": [
    "from tensorflow.keras.layers import Input, Dense, Conv2D, Rescaling, RandomFlip, RandomRotation, RandomZoom, Dropout\n",
    "from tensorflow.keras.models import Model"
   ]
  },
  {
   "cell_type": "code",
   "execution_count": 11,
   "id": "b4d3da95",
   "metadata": {},
   "outputs": [],
   "source": [
    "# INPUT\n",
    "xin = Input(shape=(180,180,3))\n",
    "\n",
    "# RESCALING\n",
    "x = Rescaling(1./255)(xin)\n",
    "\n",
    "# DATA AUGMENTATION\n",
    "x = RandomFlip(\"horizontal\", input_shape=(180,180,3))(x)\n",
    "x = RandomRotation(0.1, input_shape=(180,180,3))(x)\n",
    "x = RandomZoom(0.1, input_shape=(180,180,3))(x)\n",
    "\n",
    "# BASE MODEL: CONV PART\n",
    "x = base_model(x, training=False)  # IMPORTANT: training=False\n",
    "\n",
    "# FLATTENING\n",
    "x = GlobalAveragePooling2D()(x)\n",
    "\n",
    "# DROP OUT\n",
    "x = Dropout(0.2)(x)\n",
    "\n",
    "# DENSE PART\n",
    "x = Dense(units=128, activation='relu')(x)\n",
    "res = Dense(units=5)(x)\n",
    "\n",
    "model = Model(xin, res)"
   ]
  },
  {
   "cell_type": "markdown",
   "id": "2c2c450c",
   "metadata": {},
   "source": [
    "Actually, as it can been noticed, no activation function has been specified to the output layer. This because we will use `SparseCategoricalCrossentropy` with `from_logits=True`."
   ]
  },
  {
   "cell_type": "markdown",
   "id": "de658896",
   "metadata": {},
   "source": [
    "### Important remark"
   ]
  },
  {
   "cell_type": "markdown",
   "id": "9450fed3",
   "metadata": {},
   "source": [
    "As it will be noticed, in applying the base model we have specified `training=False`. This is important.\n",
    "\n",
    "What does it do?\n",
    "\n",
    "It is not related with the wights of the base model. They have already been specified as non-trainable before, with `base_model.trainable=False`.\n",
    "\n",
    "Instead, the parameter `training=False` is about the statistical measures used by the BatchNormalization layers inside the base model. We are saying that these statistical measures don't have to change. They must be fixed."
   ]
  },
  {
   "cell_type": "markdown",
   "id": "ce49f4e3",
   "metadata": {},
   "source": [
    "### Summary"
   ]
  },
  {
   "cell_type": "code",
   "execution_count": 12,
   "id": "90133bb1",
   "metadata": {},
   "outputs": [
    {
     "name": "stdout",
     "output_type": "stream",
     "text": [
      "Model: \"model\"\n",
      "_________________________________________________________________\n",
      " Layer (type)                Output Shape              Param #   \n",
      "=================================================================\n",
      " input_2 (InputLayer)        [(None, 180, 180, 3)]     0         \n",
      "                                                                 \n",
      " rescaling (Rescaling)       (None, 180, 180, 3)       0         \n",
      "                                                                 \n",
      " random_flip (RandomFlip)    (None, 180, 180, 3)       0         \n",
      "                                                                 \n",
      " random_rotation (RandomRota  (None, 180, 180, 3)      0         \n",
      " tion)                                                           \n",
      "                                                                 \n",
      " random_zoom (RandomZoom)    (None, 180, 180, 3)       0         \n",
      "                                                                 \n",
      " mobilenetv2_1.00_224 (Funct  (None, 6, 6, 1280)       2257984   \n",
      " ional)                                                          \n",
      "                                                                 \n",
      " global_average_pooling2d (G  (None, 1280)             0         \n",
      " lobalAveragePooling2D)                                          \n",
      "                                                                 \n",
      " dropout (Dropout)           (None, 1280)              0         \n",
      "                                                                 \n",
      " dense (Dense)               (None, 128)               163968    \n",
      "                                                                 \n",
      " dense_1 (Dense)             (None, 5)                 645       \n",
      "                                                                 \n",
      "=================================================================\n",
      "Total params: 2,422,597\n",
      "Trainable params: 164,613\n",
      "Non-trainable params: 2,257,984\n",
      "_________________________________________________________________\n"
     ]
    }
   ],
   "source": [
    "model.summary()"
   ]
  },
  {
   "cell_type": "markdown",
   "id": "cdb321f4",
   "metadata": {},
   "source": [
    "### Compiling"
   ]
  },
  {
   "cell_type": "code",
   "execution_count": 13,
   "id": "dc22d3a7",
   "metadata": {},
   "outputs": [],
   "source": [
    "from tensorflow.keras.optimizers import Adam"
   ]
  },
  {
   "cell_type": "code",
   "execution_count": 14,
   "id": "c62027c2",
   "metadata": {},
   "outputs": [],
   "source": [
    "model.compile(optimizer=Adam(learning_rate=1e-4), loss=tf.keras.losses.SparseCategoricalCrossentropy(from_logits=True),\n",
    "              metrics=['accuracy'])"
   ]
  },
  {
   "cell_type": "markdown",
   "id": "ead04458",
   "metadata": {},
   "source": [
    "### Training"
   ]
  },
  {
   "cell_type": "code",
   "execution_count": 15,
   "id": "zXk6w0UByKcN",
   "metadata": {
    "id": "zXk6w0UByKcN"
   },
   "outputs": [
    {
     "name": "stdout",
     "output_type": "stream",
     "text": [
      "Epoch 1/10\n",
      "92/92 [==============================] - 33s 338ms/step - loss: 1.1830 - accuracy: 0.5334 - val_loss: 0.7573 - val_accuracy: 0.7425\n",
      "Epoch 2/10\n",
      "92/92 [==============================] - 36s 393ms/step - loss: 0.7229 - accuracy: 0.7411 - val_loss: 0.5980 - val_accuracy: 0.7984\n",
      "Epoch 3/10\n",
      "92/92 [==============================] - 34s 372ms/step - loss: 0.6093 - accuracy: 0.7759 - val_loss: 0.5384 - val_accuracy: 0.8120\n",
      "Epoch 4/10\n",
      "92/92 [==============================] - 34s 374ms/step - loss: 0.5319 - accuracy: 0.8048 - val_loss: 0.5307 - val_accuracy: 0.8120\n",
      "Epoch 5/10\n",
      "92/92 [==============================] - 34s 374ms/step - loss: 0.4726 - accuracy: 0.8283 - val_loss: 0.4836 - val_accuracy: 0.8365\n",
      "Epoch 6/10\n",
      "92/92 [==============================] - 35s 381ms/step - loss: 0.4392 - accuracy: 0.8426 - val_loss: 0.4767 - val_accuracy: 0.8270\n",
      "Epoch 7/10\n",
      "92/92 [==============================] - 34s 373ms/step - loss: 0.4195 - accuracy: 0.8484 - val_loss: 0.4659 - val_accuracy: 0.8365\n",
      "Epoch 8/10\n",
      "92/92 [==============================] - 37s 402ms/step - loss: 0.3914 - accuracy: 0.8627 - val_loss: 0.4497 - val_accuracy: 0.8379\n",
      "Epoch 9/10\n",
      "92/92 [==============================] - 38s 414ms/step - loss: 0.3655 - accuracy: 0.8753 - val_loss: 0.4541 - val_accuracy: 0.8420\n",
      "Epoch 10/10\n",
      "92/92 [==============================] - 41s 441ms/step - loss: 0.3629 - accuracy: 0.8716 - val_loss: 0.4533 - val_accuracy: 0.8460\n"
     ]
    }
   ],
   "source": [
    "history = model.fit(train_ds, epochs=10, validation_data=validation_ds)"
   ]
  },
  {
   "cell_type": "markdown",
   "id": "d220964d",
   "metadata": {},
   "source": [
    "### Analysis of the results"
   ]
  },
  {
   "cell_type": "code",
   "execution_count": 16,
   "id": "4cd98d5f",
   "metadata": {},
   "outputs": [],
   "source": [
    "def plot_history(training_history, n_epochs):\n",
    "    epochs = range(1,n_epochs+1)\n",
    "\n",
    "    plt.plot(epochs, training_history.history['loss'], label='train_loss')\n",
    "    plt.plot(epochs, training_history.history['val_loss'], label='val_loss')\n",
    "    plt.legend()\n",
    "    plt.grid()\n",
    "    plt.xlabel('Number of epochs')\n",
    "    plt.title('Loss')\n",
    "\n",
    "    plt.figure()\n",
    "    plt.plot(epochs, training_history.history['accuracy'], label='train_accuracy')\n",
    "    plt.plot(epochs, training_history.history['val_accuracy'], label='val_accuracy')\n",
    "    plt.legend()\n",
    "    plt.grid()\n",
    "    plt.xlabel('Number of epochs')\n",
    "    plt.title('Accuracy')"
   ]
  },
  {
   "cell_type": "code",
   "execution_count": 17,
   "id": "pN_A5Qq3SfZT",
   "metadata": {
    "id": "pN_A5Qq3SfZT"
   },
   "outputs": [
    {
     "data": {
      "image/png": "[encoded data removed]",
      "text/plain": [
       "<Figure size 432x288 with 1 Axes>"
      ]
     },
     "metadata": {
      "needs_background": "light"
     },
     "output_type": "display_data"
    },
    {
     "data": {
      "image/png": "[encoded data removed]",
      "text/plain": [
       "<Figure size 432x288 with 1 Axes>"
      ]
     },
     "metadata": {
      "needs_background": "light"
     },
     "output_type": "display_data"
    }
   ],
   "source": [
    "plot_history(history, n_epochs=10)"
   ]
  },
  {
   "cell_type": "markdown",
   "id": "de3f967b",
   "metadata": {},
   "source": [
    "**Quite good!!! Better than the NNs that we defined in the last notebook from scratch!!!**"
   ]
  },
  {
   "cell_type": "raw",
   "id": "ce60eda4",
   "metadata": {},
   "source": []
  },
  {
   "cell_type": "markdown",
   "id": "yPR7aVqaSpXq",
   "metadata": {
    "id": "yPR7aVqaSpXq"
   },
   "source": [
    "## FINE TUNING"
   ]
  },
  {
   "cell_type": "markdown",
   "id": "e034b3e4",
   "metadata": {},
   "source": [
    "Fine tuning is the other possible way of using Transfer Learning. (Alternative to the classic way, which is the so-called Features Extraction)."
   ]
  },
  {
   "cell_type": "markdown",
   "id": "a63b211e",
   "metadata": {},
   "source": [
    "### Idea"
   ]
  },
  {
   "cell_type": "markdown",
   "id": "2672d13c",
   "metadata": {},
   "source": [
    "In the classic usage of Transfer Learning, we completely freeze the whole Conv part, the whole base model. All the layers of the base model are non-trainable.\n",
    "\n",
    "The idea of fine tuning is to unlock some of the last layers of the base model. We train again some of the last layers of the base model (i.e. of the Conv part).  We fine tune some of the last layers of the Conv part.\n",
    "\n",
    "We do that beacuse we want to specialize a little bit the extraction of the features (i.e. the Conv part) to our specific problem , to our specific dataset. We want to be able to extract some features specific for our particular probolem and dataaset.\n",
    "\n",
    "Why do we unlock the last layers, and not the first ones? Beacuse the first Conv layers extract basic features, which are good in general in any scenario. Low-level and general purpose features. While the last layers are the more high-level, They extract more high-level features, specific for our problem and dataset. "
   ]
  },
  {
   "cell_type": "markdown",
   "id": "ddfb707a",
   "metadata": {},
   "source": [
    "### Risks"
   ]
  },
  {
   "cell_type": "markdown",
   "id": "28b395eb",
   "metadata": {},
   "source": [
    "There are some risks in using Fine Tuning, that we must be aware of.\n",
    "\n",
    "1. First of all, we have to be aware that, by re-training the last layers, we are completely losing the weights of these layers. We are completely losing the features extracted from these layers.\n",
    "\n",
    "2. Secondly, and more importantly, by using Fine Tuning, there is a **high risk of overfitting**. Because we are adapting a very complex NN to our specific dataset. Even if we are unlocking only the last layers of the base model the risk of overfitting is high.\n",
    "\n",
    "For reducing the risk of overfitting, typically a weaker optimizer (e.g. RMSprop) and a weaker learning rate are used."
   ]
  },
  {
   "cell_type": "raw",
   "id": "585caf12",
   "metadata": {},
   "source": []
  },
  {
   "cell_type": "markdown",
   "id": "faef7820",
   "metadata": {},
   "source": [
    "## USING FINE TUNING"
   ]
  },
  {
   "cell_type": "markdown",
   "id": "4cddc3b3",
   "metadata": {},
   "source": [
    "So, let's use Fine Tuning in our specific problem."
   ]
  },
  {
   "cell_type": "markdown",
   "id": "33892b32",
   "metadata": {},
   "source": [
    "### Unlocking the last layers of the base model"
   ]
  },
  {
   "cell_type": "markdown",
   "id": "419dba81",
   "metadata": {},
   "source": [
    "Our base model has $154$ layers. We decide to unlock all the layers from the $100$-th one."
   ]
  },
  {
   "cell_type": "code",
   "execution_count": 19,
   "id": "d828e502",
   "metadata": {},
   "outputs": [
    {
     "name": "stdout",
     "output_type": "stream",
     "text": [
      "Number of layers in the base model:  154\n"
     ]
    }
   ],
   "source": [
    "print(\"Number of layers in the base model: \", len(base_model.layers))"
   ]
  },
  {
   "cell_type": "markdown",
   "id": "2b78cf07",
   "metadata": {},
   "source": [
    "First of all, we put the base model as trainable."
   ]
  },
  {
   "cell_type": "code",
   "execution_count": 18,
   "id": "1db053c5",
   "metadata": {},
   "outputs": [],
   "source": [
    "base_model.trainable = True"
   ]
  },
  {
   "cell_type": "markdown",
   "id": "59561ed4",
   "metadata": {},
   "source": [
    "Now we specify that all the layers of the base model up to the $100$-th layer are non-trainable.\n",
    "\n",
    "For doing so, we access the field `layers` of the base model, which contains the list of all the layers in that NN."
   ]
  },
  {
   "cell_type": "code",
   "execution_count": 20,
   "id": "Z1Ngb7-xS0ev",
   "metadata": {
    "id": "Z1Ngb7-xS0ev"
   },
   "outputs": [],
   "source": [
    "# Fine-tune from this layer onwards\n",
    "fine_tune_at = 100\n",
    "\n",
    "# Freeze all the layers before the `fine_tune_at` layer\n",
    "for layer in base_model.layers[:fine_tune_at]:\n",
    "  layer.trainable = False"
   ]
  },
  {
   "cell_type": "markdown",
   "id": "71dc9bc3",
   "metadata": {},
   "source": [
    "### Define the NN"
   ]
  },
  {
   "cell_type": "markdown",
   "id": "615ff270",
   "metadata": {},
   "source": [
    "Actually, we don't define a new NN. We use the same NN of before. We use the same NN `model`.\n",
    "\n",
    "We simply have unlocked the last layers of the base model: the rest of the NN is the same."
   ]
  },
  {
   "cell_type": "markdown",
   "id": "jS5xFUd0TFKg",
   "metadata": {
    "id": "jS5xFUd0TFKg"
   },
   "source": [
    "### Compile the model "
   ]
  },
  {
   "cell_type": "markdown",
   "id": "00782599",
   "metadata": {},
   "source": [
    "As said before, we use a weaker optimizer and a weaker learning rate.\n",
    "\n",
    "We use the `RMSprop` optimizer, and the learning rate $10^{-5}$ (i.e. $1/10$ with respect to before)."
   ]
  },
  {
   "cell_type": "code",
   "execution_count": 21,
   "id": "iQrZ6lbPTIrk",
   "metadata": {
    "id": "iQrZ6lbPTIrk"
   },
   "outputs": [],
   "source": [
    "model.compile(loss=tf.keras.losses.SparseCategoricalCrossentropy(from_logits = True),\n",
    "              optimizer = tf.keras.optimizers.RMSprop(learning_rate=1e-4/10),  # Opt\n",
    "              metrics=['accuracy'])"
   ]
  },
  {
   "cell_type": "markdown",
   "id": "fa02847a",
   "metadata": {},
   "source": [
    "### Training the model"
   ]
  },
  {
   "cell_type": "markdown",
   "id": "d50235a9",
   "metadata": {},
   "source": [
    "We do the training in an incremental way. Since we are using the same model, we start the training using the weigths obtained before. We don't reset the weigths obtained before, but we use them as a starting point. Incremental training."
   ]
  },
  {
   "cell_type": "code",
   "execution_count": 22,
   "id": "9cff8dc7",
   "metadata": {},
   "outputs": [],
   "source": [
    "initial_epochs = 10  # Number of epochs of the training of before\n",
    "fine_tune_epochs = 10  # Number of epochs of this new training\n",
    "total_epochs =  initial_epochs + fine_tune_epochs  # Total number of epochs"
   ]
  },
  {
   "cell_type": "code",
   "execution_count": 23,
   "id": "QaZ3KVwDTT-9",
   "metadata": {
    "id": "QaZ3KVwDTT-9"
   },
   "outputs": [
    {
     "name": "stdout",
     "output_type": "stream",
     "text": [
      "Epoch 11/20\n",
      "92/92 [==============================] - 50s 521ms/step - loss: 0.3525 - accuracy: 0.8713 - val_loss: 0.4164 - val_accuracy: 0.8556\n",
      "Epoch 12/20\n",
      "92/92 [==============================] - 55s 599ms/step - loss: 0.2944 - accuracy: 0.8931 - val_loss: 0.3892 - val_accuracy: 0.8651\n",
      "Epoch 13/20\n",
      "92/92 [==============================] - 56s 607ms/step - loss: 0.2687 - accuracy: 0.8968 - val_loss: 0.3784 - val_accuracy: 0.8651\n",
      "Epoch 14/20\n",
      "92/92 [==============================] - 56s 609ms/step - loss: 0.2495 - accuracy: 0.9131 - val_loss: 0.4068 - val_accuracy: 0.8556\n",
      "Epoch 15/20\n",
      "92/92 [==============================] - 56s 608ms/step - loss: 0.2215 - accuracy: 0.9135 - val_loss: 0.3693 - val_accuracy: 0.8801\n",
      "Epoch 16/20\n",
      "92/92 [==============================] - 56s 612ms/step - loss: 0.2162 - accuracy: 0.9210 - val_loss: 0.3581 - val_accuracy: 0.8801\n",
      "Epoch 17/20\n",
      "92/92 [==============================] - 57s 617ms/step - loss: 0.1876 - accuracy: 0.9326 - val_loss: 0.3488 - val_accuracy: 0.8828\n",
      "Epoch 18/20\n",
      "92/92 [==============================] - 60s 657ms/step - loss: 0.1826 - accuracy: 0.9390 - val_loss: 0.3677 - val_accuracy: 0.8842\n",
      "Epoch 19/20\n",
      "92/92 [==============================] - 57s 616ms/step - loss: 0.1666 - accuracy: 0.9377 - val_loss: 0.3402 - val_accuracy: 0.8856\n",
      "Epoch 20/20\n",
      "92/92 [==============================] - 57s 614ms/step - loss: 0.1488 - accuracy: 0.9458 - val_loss: 0.3324 - val_accuracy: 0.8883\n"
     ]
    }
   ],
   "source": [
    "history_fineTuning = model.fit(train_ds, epochs=total_epochs, initial_epoch=initial_epochs, \n",
    "                               validation_data=validation_ds)"
   ]
  },
  {
   "cell_type": "markdown",
   "id": "5b65d965",
   "metadata": {},
   "source": [
    "### Analysis of the results"
   ]
  },
  {
   "cell_type": "code",
   "execution_count": 24,
   "id": "1bc7de3f",
   "metadata": {},
   "outputs": [
    {
     "data": {
      "image/png": "[encoded data removed]",
      "text/plain": [
       "<Figure size 432x288 with 1 Axes>"
      ]
     },
     "metadata": {
      "needs_background": "light"
     },
     "output_type": "display_data"
    },
    {
     "data": {
      "image/png": "[encoded data removed]",
      "text/plain": [
       "<Figure size 432x288 with 1 Axes>"
      ]
     },
     "metadata": {
      "needs_background": "light"
     },
     "output_type": "display_data"
    }
   ],
   "source": [
    "plot_history(history_fineTuning, n_epochs=fine_tune_epochs)"
   ]
  },
  {
   "cell_type": "markdown",
   "id": "e59e394f",
   "metadata": {},
   "source": [
    "Now we want to visualize the results of the overall training, considering also the training of before.\n",
    "\n",
    "For doing so, we add into the lists of results of the previous training (i.e. the lists `history['accuracy']`, `history['accuracy']`, `history['accuracy']`, `history['accuracy']` accessed through `history`) the corresponding lists of results of the current training (i.e. the lists `history['accuracy']`, `history['accuracy']`, `history['accuracy']`, `history['accuracy']` accessed through `history_fineTuning`) ."
   ]
  },
  {
   "cell_type": "code",
   "execution_count": 26,
   "id": "8-1xERuHUS22",
   "metadata": {
    "id": "8-1xERuHUS22"
   },
   "outputs": [],
   "source": [
    "history.history['accuracy'] += history_fineTuning.history['accuracy']\n",
    "history.history['val_accuracy'] += history_fineTuning.history['val_accuracy']\n",
    "\n",
    "history.history['loss'] += history_fineTuning.history['loss']\n",
    "history.history['val_loss'] += history_fineTuning.history['val_loss']"
   ]
  },
  {
   "cell_type": "code",
   "execution_count": 27,
   "id": "e4193d3c",
   "metadata": {},
   "outputs": [
    {
     "data": {
      "image/png": "[encoded data removed]",
      "text/plain": [
       "<Figure size 432x288 with 1 Axes>"
      ]
     },
     "metadata": {
      "needs_background": "light"
     },
     "output_type": "display_data"
    },
    {
     "data": {
      "image/png": "[encoded data removed]",
      "text/plain": [
       "<Figure size 432x288 with 1 Axes>"
      ]
     },
     "metadata": {
      "needs_background": "light"
     },
     "output_type": "display_data"
    }
   ],
   "source": [
    "plot_history(history, n_epochs=total_epochs)"
   ]
  },
  {
   "cell_type": "markdown",
   "id": "1e754c8c",
   "metadata": {},
   "source": [
    "**Good results!!! Even better results than before!!! More stable results!!!**\n",
    "\n",
    "**The base model is good in our specific problem and dataset. And, if we carefully fine tune it, even better results!!!**"
   ]
  }
 ],
 "metadata": {
  "accelerator": "GPU",
  "colab": {
   "name": "Lecture_2_CNN_and_transfer_learning.ipynb",
   "provenance": []
  },
  "kernelspec": {
   "display_name": "Python 3",
   "language": "python",
   "name": "python3"
  },
  "language_info": {
   "codemirror_mode": {
    "name": "ipython",
    "version": 3
   },
   "file_extension": ".py",
   "mimetype": "text/x-python",
   "name": "python",
   "nbconvert_exporter": "python",
   "pygments_lexer": "ipython3",
   "version": "3.8.8"
  }
 },
 "nbformat": 4,
 "nbformat_minor": 5
}
