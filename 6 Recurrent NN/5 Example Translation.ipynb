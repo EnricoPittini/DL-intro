{
  "nbformat": 4,
  "nbformat_minor": 0,
  "metadata": {
    "colab": {
      "name": "5 Example Translation.ipynb",
      "provenance": [],
      "collapsed_sections": []
    },
    "kernelspec": {
      "name": "python3",
      "display_name": "Python 3"
    },
    "language_info": {
      "name": "python"
    },
    "gpuClass": "standard",
    "accelerator": "GPU"
  },
  "cells": [
    {
      "cell_type": "markdown",
      "source": [
        "# Example : Translation\n",
        "https://blog.keras.io/a-ten-minute-introduction-to-sequence-to-sequence-learning-in-keras.html\n",
        "\n",
        "In this example, we apply LSTM for Translation. In particular, translation from english to italian.\n",
        "\n",
        "Translation is a particular case of sequence-to-sequence processing, i.e. Seq2Seq : transforming a sequence into another sequence. Like transforming sound into text, or many other tasks. The ideas and the structure of the NN what we will see are in general good for Seq2Seq learning.\n",
        "\n",
        "We will perform this translation character-by-character. Character-based translation. Of course, this is not particularly good: a word-level tokenization would be better."
      ],
      "metadata": {
        "id": "NsB3vFBsTVxl"
      }
    },
    {
      "cell_type": "markdown",
      "source": [
        "## DATASET\n",
        "We will use a dataset contained here http://www.manythings.org/anki/"
      ],
      "metadata": {
        "id": "i1Wz23ehWHPu"
      }
    },
    {
      "cell_type": "markdown",
      "source": [
        "### Download"
      ],
      "metadata": {
        "id": "bmS_AQzfWgwQ"
      }
    },
    {
      "cell_type": "code",
      "execution_count": 1,
      "metadata": {
        "colab": {
          "base_uri": "https://localhost:8080/"
        },
        "id": "lSm56zjx5bct",
        "outputId": "f31e2723-4860-451e-e1b7-e27f5bbade20"
      },
      "outputs": [
        {
          "output_type": "stream",
          "name": "stdout",
          "text": [
            "  % Total    % Received % Xferd  Average Speed   Time    Time     Time  Current\n",
            "                                 Dload  Upload   Total   Spent    Left  Speed\n",
            "100 7600k  100 7600k    0     0  10.1M      0 --:--:-- --:--:-- --:--:-- 10.1M\n",
            "Archive:  ita-eng.zip\n",
            "  inflating: ita.txt                 \n",
            "  inflating: _about.txt              \n"
          ]
        }
      ],
      "source": [
        "# Download and unzip the data\n",
        "!curl -O http://www.manythings.org/anki/ita-eng.zip\n",
        "!unzip ita-eng.zip"
      ]
    },
    {
      "cell_type": "markdown",
      "source": [
        "We have downloaded a file \"ita.txt\". It is a txt file, in which each line is a pair english sentence - italian sentence. The two sentences are separated by a TAB (i.e. '\\t').\n",
        "\n",
        "![image.png](data:image/png;base64,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)"
      ],
      "metadata": {
        "id": "TEhVsN0dWi4A"
      }
    },
    {
      "cell_type": "markdown",
      "source": [
        "### Loading"
      ],
      "metadata": {
        "id": "kxspDO_EXeDn"
      }
    },
    {
      "cell_type": "markdown",
      "source": [
        "We create two lists.\n",
        "- `english_texts`: list of english sentences\n",
        "- `italian_texts`: list of italian sentences\n",
        "\n",
        "The dataset is huge: we take only the first $10000$ pairs of sentences english-italian.\n",
        "\n",
        "Important point: in each italian sentence, we need to add a special character START at the beginning, and a special character END at the end. We do this because we will use START as character for starting the generation of an italian sentence, and END as character for stopping the generation. In our specific case, we use START='\\t' and END='\\n'. We need to add these two characters"
      ],
      "metadata": {
        "id": "pw8oWb4JXffC"
      }
    },
    {
      "cell_type": "code",
      "source": [
        "path = 'ita.txt'\n",
        "\n",
        "n_samples = 10000"
      ],
      "metadata": {
        "id": "e1bELkJJYa8M"
      },
      "execution_count": 2,
      "outputs": []
    },
    {
      "cell_type": "code",
      "source": [
        "# Reading all the lines\n",
        "with open(path, \"r\", encoding=\"utf-8\") as f:\n",
        "    # List of lines in the file\n",
        "    lines = f.read().split(\"\\n\")"
      ],
      "metadata": {
        "id": "9q4WFqn9Y8Uw"
      },
      "execution_count": 3,
      "outputs": []
    },
    {
      "cell_type": "code",
      "source": [
        "# Initializing the lists\n",
        "english_texts = []\n",
        "italian_texts = []\n",
        "\n",
        "# We iterate over all the lines\n",
        "for line in lines[: n_samples]:\n",
        "    # Extract the english and italian sentences\n",
        "    english_text, italian_text, _ = line.split(\"\\t\")\n",
        "\n",
        "    # Inject the START and STOP characters into the italian sentence\n",
        "    italian_text = \"\\t\" + italian_text + \"\\n\"\n",
        "\n",
        "    english_texts.append(english_text)\n",
        "    italian_texts.append(italian_text)"
      ],
      "metadata": {
        "id": "insirAsuY42w"
      },
      "execution_count": 4,
      "outputs": []
    },
    {
      "cell_type": "markdown",
      "source": [
        "## PREPROCESSING\n",
        "Several operations we must perform before training our model."
      ],
      "metadata": {
        "id": "l8KpVFwVb7_U"
      }
    },
    {
      "cell_type": "markdown",
      "source": [
        "### Computing the set of all possible english characters and the set of all possible italian characters"
      ],
      "metadata": {
        "id": "K1Dp8wxDZzjm"
      }
    },
    {
      "cell_type": "markdown",
      "source": [
        "Computing the set of all possible english characters. $n$ is the number of all possible english characters."
      ],
      "metadata": {
        "id": "v98-ftdUa8rf"
      }
    },
    {
      "cell_type": "code",
      "source": [
        "english_characters = set()\n",
        "\n",
        "for english_text in english_texts:\n",
        "  english_characters.update(set(english_text))\n",
        "\n",
        "english_characters = sorted(list(english_characters))"
      ],
      "metadata": {
        "id": "3bYDMyreZ42d"
      },
      "execution_count": 5,
      "outputs": []
    },
    {
      "cell_type": "code",
      "source": [
        "n = len(english_characters)\n",
        "n"
      ],
      "metadata": {
        "colab": {
          "base_uri": "https://localhost:8080/"
        },
        "id": "-3aONSuMatai",
        "outputId": "3f56e7c7-c334-4932-fb69-3399bbba0529"
      },
      "execution_count": 6,
      "outputs": [
        {
          "output_type": "execute_result",
          "data": {
            "text/plain": [
              "66"
            ]
          },
          "metadata": {},
          "execution_count": 6
        }
      ]
    },
    {
      "cell_type": "markdown",
      "source": [
        "Computing the set of all possible italian characters. $m$ is the number of all possible italian characters."
      ],
      "metadata": {
        "id": "RL79V3IhbLrY"
      }
    },
    {
      "cell_type": "code",
      "source": [
        "italian_characters = set()\n",
        "\n",
        "for italian_text in italian_texts:\n",
        "  italian_characters.update(set(italian_text))\n",
        "\n",
        "italian_characters = sorted(list(italian_characters))"
      ],
      "metadata": {
        "id": "er-cvq7VbLra"
      },
      "execution_count": 7,
      "outputs": []
    },
    {
      "cell_type": "code",
      "source": [
        "m = len(italian_characters)\n",
        "m"
      ],
      "metadata": {
        "colab": {
          "base_uri": "https://localhost:8080/"
        },
        "outputId": "dccc34e1-cec2-4bfd-cf2f-6c4af76cf8d7",
        "id": "70Ei8A7wbLrb"
      },
      "execution_count": 8,
      "outputs": [
        {
          "output_type": "execute_result",
          "data": {
            "text/plain": [
              "75"
            ]
          },
          "metadata": {},
          "execution_count": 8
        }
      ]
    },
    {
      "cell_type": "markdown",
      "source": [
        "### Mapping characters into numbers\n",
        "We map characters into numbers. We create a biunivocal correspondance between characters and numbers.\n",
        "\n",
        "This both for the english and the italian characters."
      ],
      "metadata": {
        "id": "cyRXgpQsfkC4"
      }
    },
    {
      "cell_type": "markdown",
      "source": [
        "Mapping the english characters"
      ],
      "metadata": {
        "id": "hEdfKrpccY3M"
      }
    },
    {
      "cell_type": "code",
      "source": [
        "# Dictionary, which maps english characters into the corresponding integers (i.e. indeces) \n",
        "english_char2index = dict((c, i) for i, c in enumerate(english_characters))\n",
        "\n",
        "# Dictionary, which maps integers/indeces into the corresponding english characters \n",
        "english_index2char = dict((i, c) for i, c in enumerate(english_characters))"
      ],
      "metadata": {
        "id": "X44i65yRf7tt"
      },
      "execution_count": 9,
      "outputs": []
    },
    {
      "cell_type": "markdown",
      "source": [
        "Mapping the italian characters"
      ],
      "metadata": {
        "id": "EFepedIVcyxn"
      }
    },
    {
      "cell_type": "code",
      "source": [
        "# Dictionary, which maps italian characters into the corresponding integers (i.e. indeces) \n",
        "italian_char2index = dict((c, i) for i, c in enumerate(italian_characters))\n",
        "\n",
        "# Dictionary, which maps integers/indeces into the corresponding italian characters \n",
        "italian_index2char = dict((i, c) for i, c in enumerate(italian_characters))"
      ],
      "metadata": {
        "id": "QyhjWfPBcyxo"
      },
      "execution_count": 10,
      "outputs": []
    },
    {
      "cell_type": "markdown",
      "source": [
        "### Computing the max length of an english sentence and the max length of an italian sentence\n",
        "\n",
        "We call $N$ the max length of an english sentence, $M$ the max length of an italian sentence."
      ],
      "metadata": {
        "id": "aOzZr45-ecnW"
      }
    },
    {
      "cell_type": "code",
      "source": [
        "N = max([len(txt) for txt in english_texts])\n",
        "M = max([len(txt) for txt in italian_texts])"
      ],
      "metadata": {
        "id": "HPhnWeKIeyfN"
      },
      "execution_count": 11,
      "outputs": []
    },
    {
      "cell_type": "code",
      "source": [
        "print('Max length of an english sentence', N)\n",
        "print('Max length of an italian sentence', M)"
      ],
      "metadata": {
        "colab": {
          "base_uri": "https://localhost:8080/"
        },
        "id": "NeZBPD8oh5Fl",
        "outputId": "b4675a0e-c1bb-4f80-bca0-3672caca30bc"
      },
      "execution_count": 12,
      "outputs": [
        {
          "output_type": "stream",
          "name": "stdout",
          "text": [
            "Max length of an english sentence 13\n",
            "Max length of an italian sentence 46\n"
          ]
        }
      ]
    },
    {
      "cell_type": "markdown",
      "source": [
        "Why are we interested in these quantities? Because we want to make all the english sentences to have the same length: they will have have the same length $N$. If an english sentence has less than $N$ characters, we fill the remaning space with the blank \" \" character. The same for the italian sentences: they all will have the same length $M$."
      ],
      "metadata": {
        "id": "pCokRL16fCJU"
      }
    },
    {
      "cell_type": "markdown",
      "source": [
        "### One-hot encoding the english characters\n",
        "Let's one hot encode the english characters.\n",
        "\n",
        "We want to represent an english character as a vector, with length `n`: there is a value for each possible english character in our text. So, given an english character $c$, with corresponding integer $j$, we represent it as a vector of length `n`. In each index $i$ we place: $0$ if that index/character $i$ is not $c$; $1$ if that index/character $i$ is $c$. basically, we put a $0$ if $i \\neq j$, $1$ otherwise.\n",
        "\n",
        "To sum up, we represent each english character $c$ with a vector with only $0$ except in the position corresponding to that character, where there is a $1$. This is called one-hot encoding."
      ],
      "metadata": {
        "id": "4MjtcmDxbKpS"
      }
    },
    {
      "cell_type": "markdown",
      "source": [
        "So, we build our tensor `english_data`, which will contain the english sentences $x$. Each english sentence $x$ is a sequence of $N$ characters, where each character is represented as a vector of `n` values. The dimensions of `english_data` are $n_{samples}*N*n$, since there are $n_{samples}$ english sentences $x$, each of them is a sequence of $N$ characters, and each characters is a vector of $n$ values. \n",
        "\n",
        "\n",
        "The values in the tensor `english_data` are simply $0/1$. "
      ],
      "metadata": {
        "id": "h2xiLdSgkqac"
      }
    },
    {
      "cell_type": "code",
      "source": [
        "import numpy as np"
      ],
      "metadata": {
        "id": "ktqPmn58gwTf"
      },
      "execution_count": 13,
      "outputs": []
    },
    {
      "cell_type": "code",
      "source": [
        "# Initializing 'english_data', to all 0\n",
        "english_data = np.zeros((n_samples, N, n), dtype=np.float32)"
      ],
      "metadata": {
        "id": "5sSXiClwlyox"
      },
      "execution_count": 14,
      "outputs": []
    },
    {
      "cell_type": "code",
      "source": [
        "# Populating 'english_data'\n",
        "\n",
        "# We iterate over all english sentences x: each x is a sequence of at most N characters\n",
        "for i, x in enumerate(english_texts):\n",
        "\n",
        "  # We iterate over all characters in x\n",
        "  for j, ch in enumerate(x):\n",
        "    # We place 1 in the position corresponding to that character\n",
        "    english_data[i, j, english_char2index[ch]] = 1.0\n",
        "\n",
        "  j +=1\n",
        "\n",
        "  # If the length of the current english sentence x is less than N, we fill the remaning space with all space characters \" \"\n",
        "  while j<N:\n",
        "    english_data[i, j, english_char2index[\" \"]] = 1.0\n",
        "    j += 1"
      ],
      "metadata": {
        "id": "Xs3_6P_Ekjaa"
      },
      "execution_count": 15,
      "outputs": []
    },
    {
      "cell_type": "markdown",
      "source": [
        "The shape is $n_{samples}*N*n$, where $n_{samples}=10000$ and $N=13$ and $n=66$."
      ],
      "metadata": {
        "id": "cf19fzmciCyo"
      }
    },
    {
      "cell_type": "code",
      "source": [
        "english_data.shape"
      ],
      "metadata": {
        "colab": {
          "base_uri": "https://localhost:8080/"
        },
        "id": "UVBYhkebhyYp",
        "outputId": "f9e7f364-4c46-4cc1-f048-9fd0526b98c6"
      },
      "execution_count": 16,
      "outputs": [
        {
          "output_type": "execute_result",
          "data": {
            "text/plain": [
              "(10000, 13, 66)"
            ]
          },
          "metadata": {},
          "execution_count": 16
        }
      ]
    },
    {
      "cell_type": "markdown",
      "source": [
        "Let's inspect an english sentence $x$"
      ],
      "metadata": {
        "id": "CvnnGRp0nKln"
      }
    },
    {
      "cell_type": "code",
      "source": [
        "# English sentence x: it is a sequence of N=13 characters, where each character is a vector of n=66 values\n",
        "x = english_data[0]\n",
        "print(x.shape)"
      ],
      "metadata": {
        "colab": {
          "base_uri": "https://localhost:8080/"
        },
        "id": "YZKcIu8fnKE6",
        "outputId": "5c6d5046-e3f5-4e8c-ec49-20c5f395b297"
      },
      "execution_count": 17,
      "outputs": [
        {
          "output_type": "stream",
          "name": "stdout",
          "text": [
            "(13, 66)\n"
          ]
        }
      ]
    },
    {
      "cell_type": "markdown",
      "source": [
        "Let's inspect a character $c$ in $x$"
      ],
      "metadata": {
        "id": "9AsQqvzhnuy4"
      }
    },
    {
      "cell_type": "code",
      "source": [
        "# Character c: it is a boolean vector of n=66 values\n",
        "c = x[0]\n",
        "print(c.shape)\n",
        "print(c)"
      ],
      "metadata": {
        "colab": {
          "base_uri": "https://localhost:8080/"
        },
        "id": "VVLEyPdIntHF",
        "outputId": "6179fe06-4a0e-409a-f96b-25291534160a"
      },
      "execution_count": 18,
      "outputs": [
        {
          "output_type": "stream",
          "name": "stdout",
          "text": [
            "(66,)\n",
            "[0. 0. 0. 0. 0. 0. 0. 0. 0. 0. 0. 0. 0. 0. 0. 0. 0. 0. 0. 0. 0. 0. 0. 1.\n",
            " 0. 0. 0. 0. 0. 0. 0. 0. 0. 0. 0. 0. 0. 0. 0. 0. 0. 0. 0. 0. 0. 0. 0. 0.\n",
            " 0. 0. 0. 0. 0. 0. 0. 0. 0. 0. 0. 0. 0. 0. 0. 0. 0. 0.]\n"
          ]
        }
      ]
    },
    {
      "cell_type": "markdown",
      "source": [
        "### One-hot encoding the italian characters\n",
        "We do the same thing for the italian characters.\n",
        "\n",
        "We want to represent an italian character as a boolean vector, with length `m`: all $0$ except in the position corresponding to that character, where there is a $1$. "
      ],
      "metadata": {
        "id": "VNprYQP8ijof"
      }
    },
    {
      "cell_type": "markdown",
      "source": [
        "So, we build our tensor `italian_data`, which will contain the italian sentences $x^{'}$. Each italian sentence $x^{'}$ is a sequence of $M$ characters, where each character is represented as a vector of `m` values. The dimensions of `italian_data` are $n_{samples}*M*m$, since there are $n_{samples}$ italian sentences $x^{'}$, each of them is a sequence of $M$ characters, and each characters is a vector of $m$ values. \n",
        "\n",
        "\n",
        "The values in the tensor `italian_data` are simply $0/1$. "
      ],
      "metadata": {
        "id": "iM2hodwpijog"
      }
    },
    {
      "cell_type": "code",
      "source": [
        "# Initializing 'italian_data', to all 0\n",
        "italian_data = np.zeros((n_samples, M, m), dtype=np.float32)"
      ],
      "metadata": {
        "id": "-AuN1Gz8ijoh"
      },
      "execution_count": 19,
      "outputs": []
    },
    {
      "cell_type": "code",
      "source": [
        "# Populating 'italian_data'\n",
        "\n",
        "# We iterate over all italian sentences x': each x' is a sequence of at most N characters\n",
        "for i, x1 in enumerate(italian_texts):\n",
        "\n",
        "  # We iterate over all characters in x'\n",
        "  for j, ch in enumerate(x1):\n",
        "    # We place 1 in the position corresponding to that character\n",
        "    italian_data[i, j, italian_char2index[ch]] = 1.0\n",
        "\n",
        "  j +=1 \n",
        "\n",
        "  # If the length of the current italian sentence x' is less than M, we fill the remaning space with all space characters \" \"\n",
        "  while j<M:\n",
        "    italian_data[i, j, italian_char2index[\" \"]] = 1.0\n",
        "    j += 1"
      ],
      "metadata": {
        "id": "uPw6fVSVijoi"
      },
      "execution_count": 20,
      "outputs": []
    },
    {
      "cell_type": "markdown",
      "source": [
        "The shape is $n_{samples}*M*m$, where $n_{samples}=10000$ and $M=46$ and $n=75$."
      ],
      "metadata": {
        "id": "M_d7KHqxijoi"
      }
    },
    {
      "cell_type": "code",
      "source": [
        "italian_data.shape"
      ],
      "metadata": {
        "colab": {
          "base_uri": "https://localhost:8080/"
        },
        "outputId": "49089db6-186c-4a18-a267-625602cd4af4",
        "id": "0ss5Tm3aijoi"
      },
      "execution_count": 21,
      "outputs": [
        {
          "output_type": "execute_result",
          "data": {
            "text/plain": [
              "(10000, 46, 75)"
            ]
          },
          "metadata": {},
          "execution_count": 21
        }
      ]
    },
    {
      "cell_type": "markdown",
      "source": [
        "Let's inspect an italian sentence $x^{'}$"
      ],
      "metadata": {
        "id": "ypqKvUEEijoj"
      }
    },
    {
      "cell_type": "code",
      "source": [
        "# Italian sentence x': it is a sequence of M=46 characters, where each character is a vector of n=75 values\n",
        "x1 = italian_data[0]\n",
        "print(x1.shape)"
      ],
      "metadata": {
        "colab": {
          "base_uri": "https://localhost:8080/"
        },
        "outputId": "478f98a7-8b0a-433d-e6e6-abf6793391e3",
        "id": "Eu3Ezowaijoj"
      },
      "execution_count": 22,
      "outputs": [
        {
          "output_type": "stream",
          "name": "stdout",
          "text": [
            "(46, 75)\n"
          ]
        }
      ]
    },
    {
      "cell_type": "markdown",
      "source": [
        "Let's inspect a character $c$ in $x$"
      ],
      "metadata": {
        "id": "ZC1JY93Cijok"
      }
    },
    {
      "cell_type": "code",
      "source": [
        "# Character c: it is a boolean vector of n=75 values\n",
        "c = x1[0]\n",
        "print(c.shape)\n",
        "print(c)"
      ],
      "metadata": {
        "colab": {
          "base_uri": "https://localhost:8080/"
        },
        "outputId": "2ea07ad6-9dc2-4840-d71f-d181ab27193d",
        "id": "djYbaNgsijok"
      },
      "execution_count": 23,
      "outputs": [
        {
          "output_type": "stream",
          "name": "stdout",
          "text": [
            "(75,)\n",
            "[1. 0. 0. 0. 0. 0. 0. 0. 0. 0. 0. 0. 0. 0. 0. 0. 0. 0. 0. 0. 0. 0. 0. 0.\n",
            " 0. 0. 0. 0. 0. 0. 0. 0. 0. 0. 0. 0. 0. 0. 0. 0. 0. 0. 0. 0. 0. 0. 0. 0.\n",
            " 0. 0. 0. 0. 0. 0. 0. 0. 0. 0. 0. 0. 0. 0. 0. 0. 0. 0. 0. 0. 0. 0. 0. 0.\n",
            " 0. 0. 0.]\n"
          ]
        }
      ]
    },
    {
      "cell_type": "markdown",
      "source": [
        "### Defining utilities functions\n",
        "For one-hot encoding and undo the one-hot encoding. "
      ],
      "metadata": {
        "id": "pYciZ9lG45f1"
      }
    },
    {
      "cell_type": "code",
      "source": [
        "def oneHotEncode_english(english_sentence):\n",
        "  l = len(english_sentence)\n",
        "\n",
        "  if l>N:\n",
        "    raise Exception('l>N')\n",
        "\n",
        "  x = np.zeros((1, N, n))\n",
        "  for i,c in enumerate(english_sentence):\n",
        "    x[0, i, english_char2index[c]] = 1.0\n",
        "\n",
        "  i +=1\n",
        "\n",
        "  while i<N:\n",
        "     x[0, i, english_char2index[' ']] = 1.0 \n",
        "     i += 1\n",
        "\n",
        "  return x"
      ],
      "metadata": {
        "id": "yUIAC4Iw5Bel"
      },
      "execution_count": 24,
      "outputs": []
    },
    {
      "cell_type": "code",
      "source": [
        "def undo_oneHotEncode_english(x):\n",
        "  l = x.shape[1]\n",
        "  english_sentence = ''\n",
        "\n",
        "  for i in range(l):\n",
        "    char_index = np.argmax(x[0, i, :])\n",
        "    char = english_index2char[char_index]\n",
        "    english_sentence += char\n",
        "\n",
        "  return english_sentence"
      ],
      "metadata": {
        "id": "q3_5cO8v5KM0"
      },
      "execution_count": 25,
      "outputs": []
    },
    {
      "cell_type": "code",
      "source": [
        "def oneHotEncode_italian(italian_sentence):\n",
        "  l = len(italian_sentence)\n",
        "\n",
        "  if l>M:\n",
        "    raise Exception('l>M')\n",
        "\n",
        "  x = np.zeros((1, M, m))\n",
        "  for i,c in enumerate(italian_sentence):\n",
        "    x[0, i, italian_char2index[c]] = 1.0\n",
        "\n",
        "  i += 1\n",
        "\n",
        "  while i<M:\n",
        "     x[0, i, italian_char2index[' ']] = 1.0 \n",
        "     i += 1\n",
        "\n",
        "  return x"
      ],
      "metadata": {
        "id": "DDqhRdLx5qcV"
      },
      "execution_count": 26,
      "outputs": []
    },
    {
      "cell_type": "code",
      "source": [
        "def undo_oneHotEncode_italian(x):\n",
        "  l = x.shape[1]\n",
        "  italian_sentence = ''\n",
        "\n",
        "  for i in range(l):\n",
        "    char_index = np.argmax(x[0, i, :])\n",
        "    char = italian_index2char[char_index]\n",
        "    italian_sentence += char\n",
        "\n",
        "  return italian_sentence"
      ],
      "metadata": {
        "id": "bgu5mfQE5qcW"
      },
      "execution_count": 27,
      "outputs": []
    },
    {
      "cell_type": "code",
      "source": [
        "undo_oneHotEncode_english(oneHotEncode_english('Hello'))"
      ],
      "metadata": {
        "colab": {
          "base_uri": "https://localhost:8080/",
          "height": 36
        },
        "id": "Ze8o7Kc757iR",
        "outputId": "80aac92a-9ec4-4015-b101-92e4f2adaf4a"
      },
      "execution_count": 28,
      "outputs": [
        {
          "output_type": "execute_result",
          "data": {
            "text/plain": [
              "'Hello        '"
            ],
            "application/vnd.google.colaboratory.intrinsic+json": {
              "type": "string"
            }
          },
          "metadata": {},
          "execution_count": 28
        }
      ]
    },
    {
      "cell_type": "code",
      "source": [
        "undo_oneHotEncode_english(english_data[0:1,:,:])"
      ],
      "metadata": {
        "colab": {
          "base_uri": "https://localhost:8080/",
          "height": 36
        },
        "id": "7fNjdU_rJqNj",
        "outputId": "426b3f6d-598a-4bde-b3a7-d964b5bff036"
      },
      "execution_count": 29,
      "outputs": [
        {
          "output_type": "execute_result",
          "data": {
            "text/plain": [
              "'Hi.          '"
            ],
            "application/vnd.google.colaboratory.intrinsic+json": {
              "type": "string"
            }
          },
          "metadata": {},
          "execution_count": 29
        }
      ]
    },
    {
      "cell_type": "code",
      "source": [
        "undo_oneHotEncode_italian(italian_data[0:1,:,:])"
      ],
      "metadata": {
        "colab": {
          "base_uri": "https://localhost:8080/",
          "height": 36
        },
        "id": "BeDJ1QZgKBzN",
        "outputId": "db7388f6-4c66-4f51-8f0e-2b3d180fcf0c"
      },
      "execution_count": 30,
      "outputs": [
        {
          "output_type": "execute_result",
          "data": {
            "text/plain": [
              "'\\tCiao!\\n                                       '"
            ],
            "application/vnd.google.colaboratory.intrinsic+json": {
              "type": "string"
            }
          },
          "metadata": {},
          "execution_count": 30
        }
      ]
    },
    {
      "cell_type": "markdown",
      "source": [
        "## NEURAL NETWORK: DESCRIPTION\n",
        "Let's describe our NN for Seq2Seq processing. We have two LSTM: one is the **encoder** and one is the **decoder**."
      ],
      "metadata": {
        "id": "p1ZBIr215e0_"
      }
    },
    {
      "cell_type": "markdown",
      "source": [
        "### Idea\n",
        "We want to translate character by character. But if we do this simply in sequence, without having global information on the english sentence, this has no sense. We want to translate character by character, but while having a global information (i.e. context) about the whole english sentence to translate.\n",
        "\n",
        "For doing so, we want to encode the english sentence into a global information. Encoding representing the global information/context of the english sentence. Latent encoding.\n",
        "\n",
        "This is typically done in DL: for capturing the global information, we encode."
      ],
      "metadata": {
        "id": "ldg3jrTflC08"
      }
    },
    {
      "cell_type": "markdown",
      "source": [
        "### LSTM encoder\n",
        "Input: english sentence $x$, which is a sequence of $N$ characters $X_1, ..., X_N$. Each $X_t$ is a vector with $n$ values.\n",
        "\n",
        "Output: sequence $h_1, ..., h_N$.\n",
        "\n",
        "Memory states: sequence $C_1, ..., C_N$.\n",
        "\n",
        "Each pair $(h_t,C_t)$ represents the encoding of the sub-sequence up to $t$, i.e. $X_1, ..., X_t$.\n",
        "\n",
        "We are interested only in the encoding of the whole english sequence $X_1, ..., X_N$: the latent encoding is $(h_N,C_N)$. We take only the last encoding.\n",
        "\n",
        "We throw away all the other outputs and all the other memory states. ![image.png](data:image/png;base64,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)\n",
        "\n",
        "We use $256$ as dimension for each output $h_t$, which is also the dimension of each memory state $C_t$. Each $h_t$ and each $C_t$ is a vector with $256$ values. \n",
        "\n",
        "Therefore, the latent encoding consists in a couple $(h_N,C_N)$ of two vectors with $256$ values each."
      ],
      "metadata": {
        "id": "EN6-0a1Ll48Z"
      }
    },
    {
      "cell_type": "code",
      "source": [
        "latent_dim = 256"
      ],
      "metadata": {
        "id": "Sj6LFafRt_mb"
      },
      "execution_count": 31,
      "outputs": []
    },
    {
      "cell_type": "markdown",
      "source": [
        "### LSTM decoder: auto-regressive generation\n",
        "The aim of the decoder is to generate the translated italian sequence, character by character.\n",
        "\n",
        "This generation is done in a peculiar way. \n",
        "- The decoder takes in input the italian sequence generated so far by the decoder itself. \n",
        "- The decoder generates in output the next character to append to the italian sequence generated so far.\n",
        "\n",
        "Example. We are generating an italian sentence.\n",
        "1. At the beginning, the input of the LSTM decoder is just the START character (i.e. '\\t'). The decoder generates the next character of the italian sentence: 'C'. The italian sentence is now \"START C\".\n",
        "2. Then, the input of the decoder is the sequence \"START C\". The decoder generates the next character of the italian sentence: 'i'. The italian sentence is now \"START C i\".\n",
        "3. Then, the input of the decoder is the sequence \"START C i\". The decoder generates the next character of the italian sentence: 'a'. The italian sentence is now \"START C i a\".\n",
        "4. Then, the input of the decoder is the sequence \"START C i a\". The decoder generates the next character of the italian sentence: 'o'. The italian sentence is now \"START C i a o\".\n",
        "5. Then, the input of the decoder is the sequence \"START C i a o\". The decoder generates the next character of the italian sentence: 'STOP' (i.e. '\\n'). The italian sentence is now \"START C i a o STOP\".\n",
        "6. End of the generation: the generated italian sequence is \"Ciao\".\n",
        "\n",
        "This kind of generation is called **autoregressive generation**: at each step, the decoder takes in input what has been generated so far, and it generates the next character.\n",
        "\n",
        "Now we can also better understand the aim of the START and STOP characters in the italian sentences: their aim is to, respectively, initiate the generation of the decoder and end the generation of the decoder."
      ],
      "metadata": {
        "id": "tEJyrFahnh0Z"
      }
    },
    {
      "cell_type": "markdown",
      "source": [
        "### LSTM decoder\n",
        "Input: italian sentence  generated so far, i.e. $x^{'}$ , which is a sequence of $T$ characters  $X^{'}_1,...,X^{'}_T$ . Each charcter $X^{'}_t$  is a vector with $m$ values. $T$ is the length of the sentence generated so far (it is variable).\n",
        "\n",
        "Output: sequence $h^{'}_1,...,h^{'}_T$.\n",
        "\n",
        "Memory states: sequence $C^{'}_1,...,C^{'}_T$.\n",
        "\n",
        "Each output $h^{'}_t$, with $t \\leq T$, represents the prediction of the next italian character in the sequence, which is the  $(t+1)$-th character: character $X^{'}_{t+1}$ . The output $h^{'}_t$ represents the prediction made by the RNN given the italian sub-sequence $X^{'}_1,...,X^{'}_t$ : so, $h^{'}_t$  is the predicted next character $X^{'}_{t+1}$ in the sequence (prediction of the $(t+1)$-th character).\n",
        "\n",
        "More precisely, each output $h^{'}_t$ is a vector of $m$ values, representing a probability distribution over all possible italian characters: it's the categorical distribution for predicting the next italian character $X^{'}_{t+1}$ in the sequence, given all the previous italian sequence $X^{'}_1,...,X^{'}_t$. \n",
        "\n",
        "We are interested only in predicting the next italian character after the whole given italian sentence $X^{'}_1,...,X^{'}_T$: we are interested only in predicting $X^{'}_{T+1}$. Therefore, we take only the last output $h^{'}_T$.\n",
        "\n",
        "We throw away all the other outputs."
      ],
      "metadata": {
        "id": "ZI932kTOqOyi"
      }
    },
    {
      "cell_type": "markdown",
      "source": [
        "### Precisation about the output of the decoder\n",
        "Actually, it is not true that each output $h^{'}_t$ represents the probability distribution for the next italian character $X^{'}_{t+1}$. $h^{'}_t$ is not a probability distribution.\n",
        "\n",
        "Actually, $h^{'}_t$ is a vector of `latent_dim` values (i.e. $256$). The purpose of this vector is to be used by a Dense layer for building the probability distribution for the next italian character $X^{'}_{t+1}$: we call this probability distribution $Y_{t}$.\n",
        "\n",
        "So:\n",
        "- Each output element $h^{'}_t$ is not a vector of length $m$, but a vector of `latent_dim` values. (So, also each memory state $C_t$ is a vector of `latent_dim` values). Instead, the final prediction $Y_t$ is a vector of length $m$.\n",
        "- Each output element $h^{'}_t$ is not directly our probability distribution for the next italian character $X^{'}_{t+1}$, but it is used by a Dense layer for making that probability distribution $Y_t$. From an high level point of view, we can consider $h^{'}_t$ as the probability distribution for the next italian character $X^{'}_{t+1}$.\n",
        "\n",
        "This means that, given a italian sequence $X^{'}_1,...,X^{'}_T$, we consider only the last output $h^{'}_T$ of the RNN, which is a vector with `latent_dim` values. We pass that to a Dense layer for making the probability distribution for the next character italian $X^{'}_{T+1}$: this probability distribution is $Y_T$, a vector of $m$ values."
      ],
      "metadata": {
        "id": "X60dcpE5tR_K"
      }
    },
    {
      "cell_type": "markdown",
      "source": [
        "### LSTM decoder: usage of the encoding $(h_N,C_N)$\n",
        "However, the current decoder does not use in any way the encoding $(h_N,C_N)$ of the english sentence, produced by the encoder. How can we plug the encoding $(h_N,C_N)$ into our LSTM decoder?\n",
        "\n",
        "We use $C_N$ as starting memory state of our LSTM decoder, which is $C^{'}_0$. And we use $h_N$ as starting output value of our LSTM decoder, which is $h^{'}_0$.\n",
        "\n",
        "Basically, $C_N$ and $h_N$ are used in the first LSTM module as, respectively, the current memory state (i.e. $C^{'}_0$) and the previous output (i.e. $h^{'}_0$). ![image.png](data:image/png;base64,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)\n",
        "\n",
        "This explains why each output $h^{'}_t$ and each memory state $C^{'}_t$ of the decoder have the same dimensions of the outputs $h_t$ and memory states $C_t$ of the encoder, which is `latent_dim`."
      ],
      "metadata": {
        "id": "sRq9y6G9vTaP"
      }
    },
    {
      "cell_type": "markdown",
      "source": [
        "### LSTM decoder: overall picture\n",
        "![image.png](data:image/png;base64,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)\n",
        "Since now we have said that the encoder takes in input the italian sequence generated so fat, which has length $T$. This $T$ is variable, it is not fixed.\n",
        "\n",
        "This is not a problem. It is not a problem defining a NN with a variable dimension. Non-fixed input dimension. \n",
        "\n",
        "In Keras we leave an input dimension unspecified by simply specifying `None`: the NN is able to work with any value of that dimension."
      ],
      "metadata": {
        "id": "NVKmARucxlpr"
      }
    },
    {
      "cell_type": "markdown",
      "source": [
        "### Dense layer\n",
        "The final part of our NN is a Dense layer. It takes in input the last output of the LSTM decoder, i.e. $h^{'}_T$ (which is a vector with `latent_dim` values), and it produces in output $Y_T$, which is a probability distribution over the $m$ possible italian character, for predicting the next italian character $X^{'}_T$.\n",
        "\n",
        "So, it is a Dense layer with `latent_dim` inputs, with $m$ outputs, and with softmax activation function."
      ],
      "metadata": {
        "id": "mQYOYIoFzJZU"
      }
    },
    {
      "cell_type": "markdown",
      "source": [
        "### Our Neural Network: full picture\n",
        "![image.png](data:image/png;base64,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)"
      ],
      "metadata": {
        "id": "vVEACn5wz01z"
      }
    },
    {
      "cell_type": "markdown",
      "source": [
        "## TRAINING: DESCRIPTION\n",
        "Let's describe how the training works.\n",
        "\n",
        "*Note: the notation used in this section is slightly different from the notation used in the previous section.*"
      ],
      "metadata": {
        "id": "HPo9TX1ZPRfh"
      }
    },
    {
      "cell_type": "markdown",
      "source": [
        "### Idea\n",
        "\n",
        "Our training set consists in $n_{samples}$ pairs of sentences english-italian. \n",
        "- Let's denote with $x$ an english sentence, which is a sequence of $N$ characters $X_1,...,X_N$.\n",
        "- Let's denote with $y$ an italian sentence, which is a sequence of $M$ characters $Y_1, ..., Y_M$.\n",
        "\n",
        "So, we have a pair of sentences $x$-$y$. We want to train the model on it.\n",
        "1. First of all, we encode the english sentence using the encoder, into the latent encoding $h_N,C_N$.\n",
        "2. Then, we take all the possible sub-strings $Y_1,...,Y_T$ of the italian sentence $y$, where $T\\leq M$. For each sub-strings $Y_1,...,Y_T$:\n",
        "  * we give this sequence in input to the decoder;\n",
        "  * we take the last output $h'_T$;\n",
        "  * we give that to the Dense layer, producing the categorical distribution $\\hat{Y}_{T+1}$, which is the categorical distribution for predicting the next character $Y_{T+1}$ in the italian sentence;\n",
        "  * We measure the error between the true next character $Y_{T+1}$ in the sequence and our output $\\hat{Y}_{T+1}$. This can be measured easily by using the categorical crossentropy, since $Y_{T+1}$ can be seen as the actual cateogorical distribution and $\\hat{Y}_{T+1}$ can be seen as the predicted categorical distribution.\n",
        "\n",
        "Given a pair of sentences $x$-$y$, we do this for all possible sub-strings $Y_1,...,Y_T$ of $y$. Then, we aggregate together all the obtained error values.\n",
        "\n",
        "This aggregation is also performed through all the pairs $x$-$y$ in our batch. "
      ],
      "metadata": {
        "id": "IC_p0oYEPgp5"
      }
    },
    {
      "cell_type": "markdown",
      "source": [
        "### Teacher forcing\n",
        "It is very important to notice that, for generating the prediction $\\hat{Y}_{T+1}$, the actual true italian sentence $Y_1,...,Y_T$ is given in input to the decoder. The ground truth $Y_1,...,Y_T$ is given in input to the LSTM decoder for generating the next prediction $\\hat{Y}_{T+1}$.\n",
        "\n",
        "This way of training our model is called **teacher forcing**.\n",
        "\n",
        "The alternative way of proceeding would be to give in input to the LSTM decoder the italians sentence $\\hat{Y}_1,...,\\hat{Y}_T$ generated so far by the decoder for predicting the next character $\\hat{Y}_{T+1}$. Basically, the alternative way would be to proceed like we do for generation at test time.\n",
        "\n",
        "Teacher forcing is in general better for training our model. Because using the ground truth $Y_1,...,Y_T$  for generating the next prediction $\\hat{Y}_{T+1}$ is more reliable than using the sentence $\\hat{Y}_1,...,\\hat{Y}_T$ generated by the decoder itself, since the model it is still learning and it is not good yet."
      ],
      "metadata": {
        "id": "Lwg8stSUSQ5A"
      }
    },
    {
      "cell_type": "markdown",
      "source": [
        "### Sum up\n",
        "So, the training process consists in:\n",
        "- taking a true italian sentence $Y_1,...,Y_M$;\n",
        "- generate the predicted next characters $\\hat{Y}_2,...,\\hat{Y}_M$ (starting from the second character);\n",
        "- compare these characters with the true characters $Y_2,...,Y_M$ (starting from the second character).\n",
        "\n",
        "Actually, the predicted next characters are $\\hat{Y}_2,...,\\hat{Y}_{M+1}$, since the inputs are $Y_1,...,Y_M$. Length $M$. Therefore, the true characters for measuring the errors of the predictions are $Y_2,...,Y_{M+1}$, where the last character $Y_{M+1}$ is a fake character added to the end, namely the blank characters ' '."
      ],
      "metadata": {
        "id": "5mSAk5NLT5nr"
      }
    },
    {
      "cell_type": "markdown",
      "source": [
        "### Italian ground truth for computing the errors\n",
        "From the previous point (the sum up) it can be noticed that the true italian sentence $Y_1,...,Y_M$ is used two times.\n",
        "1. For generating the predictions of the next characters. We don't use the last character: we use the actual italian sentence $Y_1,...,Y_M$.\n",
        "2. For measuring the errors with the predicted next characters. We don't use the first character (i.e. the START character), and we add a fake character to the end: we use $Y_2,...,Y_{M+1}$. \n",
        "\n",
        "So, we need to build another set of italian sentences, which will be only used in the training phase, for computing the errors. `italian_data_output` dataset: true italian sentences for measuring the errors of the next predicted characters. They are the italian sentences withour the first START character. \n",
        "\n",
        "Instead, in input to the decoder, we pass the actual true italian sentences in `italian_data`."
      ],
      "metadata": {
        "id": "bCs5G6dBU0uv"
      }
    },
    {
      "cell_type": "markdown",
      "source": [
        "Creating `italian_data_output`"
      ],
      "metadata": {
        "id": "bNitQ-efYlmT"
      }
    },
    {
      "cell_type": "code",
      "source": [
        "# Inizialization of 'italian_data_output'\n",
        "italian_data_output =  np.zeros((n_samples, M, m))\n",
        "\n",
        "# Populating 'italian_data_output'\n",
        "\n",
        "# Iterate over all italian sentences x' in 'italian_data'\n",
        "for i,x1 in enumerate(italian_data):\n",
        "  # Remove the first character (START character)\n",
        "  x1 = np.delete(x1, (0), axis=0)\n",
        "  \n",
        "  # Append the blanck character to the end\n",
        "  new_row = np.zeros((1, m))\n",
        "  new_row[0, italian_char2index[' ']] = 1.0\n",
        "  x1 = np.append(x1, new_row, axis=0)\n",
        "\n",
        "  italian_data_output[i, :, :] = x1"
      ],
      "metadata": {
        "id": "naTFHqGpWre-"
      },
      "execution_count": 32,
      "outputs": []
    },
    {
      "cell_type": "code",
      "source": [
        "print(italian_data.shape)\n",
        "print(italian_data_output.shape)"
      ],
      "metadata": {
        "colab": {
          "base_uri": "https://localhost:8080/"
        },
        "id": "GDtKB9ajYEer",
        "outputId": "057906fb-2207-4a1a-87ba-53aa3abaf4cc"
      },
      "execution_count": 33,
      "outputs": [
        {
          "output_type": "stream",
          "name": "stdout",
          "text": [
            "(10000, 46, 75)\n",
            "(10000, 46, 75)\n"
          ]
        }
      ]
    },
    {
      "cell_type": "code",
      "source": [
        "undo_oneHotEncode_italian(italian_data[0:1,:,:])"
      ],
      "metadata": {
        "colab": {
          "base_uri": "https://localhost:8080/",
          "height": 36
        },
        "id": "rEFvo0g0XSuR",
        "outputId": "a9086bd0-0cd2-442b-bcfe-648ee2c35195"
      },
      "execution_count": 34,
      "outputs": [
        {
          "output_type": "execute_result",
          "data": {
            "text/plain": [
              "'\\tCiao!\\n                                       '"
            ],
            "application/vnd.google.colaboratory.intrinsic+json": {
              "type": "string"
            }
          },
          "metadata": {},
          "execution_count": 34
        }
      ]
    },
    {
      "cell_type": "code",
      "source": [
        "undo_oneHotEncode_italian(italian_data_output[0:1,:,:])"
      ],
      "metadata": {
        "colab": {
          "base_uri": "https://localhost:8080/",
          "height": 36
        },
        "id": "Gm6Tyv5kXPWb",
        "outputId": "91910244-6511-4bb5-994b-290efaa437ac"
      },
      "execution_count": 35,
      "outputs": [
        {
          "output_type": "execute_result",
          "data": {
            "text/plain": [
              "'Ciao!\\n                                        '"
            ],
            "application/vnd.google.colaboratory.intrinsic+json": {
              "type": "string"
            }
          },
          "metadata": {},
          "execution_count": 35
        }
      ]
    },
    {
      "cell_type": "markdown",
      "source": [
        "### Training: actual implementation\n",
        "Given a pair $x$-$y$, it would be quite expensive to iterate over all possible sub-strings $Y_1,...,Y_T$ of $y$, and giving that sub-string $Y_1,...,Y_T$ in input to the decoder for generating the prediction $\\hat{Y}_{T+1}$. We would have to apply a lot of time the decoder, for a single pair $x$-$y$.\n",
        "\n",
        "This process is simplified in the following way.\n",
        "\n",
        "Pair $x$-$y$.\n",
        "1. We give $x$ in input to the encoder: we take the encoding $h_N,C_N$.\n",
        "2. We take the full italian sentence $Y_1,...,Y_{M-1}$ (except last character). We give all that in input to the decoder, with also the encoding $h_N,C_N$.\n",
        "3. From the decoder, we don't take only the last output $h^{'}_{M-1}$, but we take all the outputs $h^{'}_1,...,h^{'}_{M-1}$.\n",
        "4. We give all these outputs $h^{'}_1,...,h^{'}_{M-1}$ to the Dense layer, producing the predictions for all the next characters in the italian sentence: predictions $\\hat{Y}_2,...,\\hat{Y}_M$.\n",
        "5 We compare the predictions $\\hat{Y}_2,...,\\hat{Y}_M$ with the true italian sentence $Y_2,...,Y_M$.\n",
        "\n",
        "In this way, we apply the decoder just one time for each pair $x$-$y$. With just one application of the decoder, we compute all the predictions $\\hat{Y}_2,...,\\hat{Y}_M$. \n",
        "\n",
        "This simplifies a lot the training. And also the code.\n",
        "\n",
        "Insight. Why is this possible? It is possible for a concept that we have explained before, when talking about the decoder in general. Given an italian sequence $Y_1,...,Y_T$, each intermediate output $h^{'}_t$ of the LSTM decoder, with $t \\leq T$, has a meaning: $h^{'}_t$ is the vector used for predicting the next character $Y_{t+1}$. Vector used for generating the prediction $\\hat{Y}_{t+1}$. Not only the last output has a meaning, but every output of the LSTM decoder has a meaning."
      ],
      "metadata": {
        "id": "txZmGVcoY1re"
      }
    },
    {
      "cell_type": "markdown",
      "source": [
        "## IMPLEMENTATION\n",
        "Let's finally see the implementation of all this."
      ],
      "metadata": {
        "id": "q67NDF-Jbw4K"
      }
    },
    {
      "cell_type": "markdown",
      "source": [
        "### Model"
      ],
      "metadata": {
        "id": "w_AuXxk4b2Z-"
      }
    },
    {
      "cell_type": "code",
      "source": [
        "from tensorflow.keras.layers import Input, LSTM, Dense\n",
        "from tensorflow.keras import Model"
      ],
      "metadata": {
        "id": "OBfMWKiEcEgB"
      },
      "execution_count": 36,
      "outputs": []
    },
    {
      "cell_type": "markdown",
      "source": [
        "Encoder"
      ],
      "metadata": {
        "id": "K52eRJiPb-xJ"
      }
    },
    {
      "cell_type": "code",
      "source": [
        "# Input: the input is an english sentence, i.e. sequence of N characters, where each of them is a vector of n values\n",
        "encoder_inputs = Input(shape=(N,n))\n",
        "\n",
        "# Encoder: each h_t/C_t has dimension `latent_dim`. We want also to return the last memory state C_N\n",
        "encoder = LSTM(units=latent_dim, return_state=True)\n",
        "\n",
        "# Application of the encoder on the ensligh sentence\n",
        "h_N, h_N, c_N = encoder(encoder_inputs)\n",
        "\n",
        "# Encoding: h_N, C_N\n",
        "encoding = [h_N, c_N]"
      ],
      "metadata": {
        "id": "G96FhNxwb9-Y"
      },
      "execution_count": 37,
      "outputs": []
    },
    {
      "cell_type": "code",
      "source": [
        "# The first printed dimension is the batch dimension\n",
        "print('Shape of \"encoder_inputs\":', encoder_inputs.shape)\n",
        "print('Shape of \"h_N\":', h_N.shape)\n",
        "print('Shape of \"C_N\":', c_N.shape)"
      ],
      "metadata": {
        "colab": {
          "base_uri": "https://localhost:8080/"
        },
        "id": "lTu0xpCdb3hL",
        "outputId": "d81552b3-d75a-4d1e-c39c-aabeee53995e"
      },
      "execution_count": 38,
      "outputs": [
        {
          "output_type": "stream",
          "name": "stdout",
          "text": [
            "Shape of \"encoder_inputs\": (None, 13, 66)\n",
            "Shape of \"h_N\": (None, 256)\n",
            "Shape of \"C_N\": (None, 256)\n"
          ]
        }
      ]
    },
    {
      "cell_type": "markdown",
      "source": [
        "Decoder"
      ],
      "metadata": {
        "id": "wwYVN-LFdQ8-"
      }
    },
    {
      "cell_type": "code",
      "source": [
        "# Input: the input is the italian sentence generated so far, i.e. sequence of T characters, where each of them is a vector of m values\n",
        "# We leave the number T as variable, unspecified\n",
        "decoder_inputs = Input(shape=(None,m))\n",
        "\n",
        "# Decoder: each h'_t/C'_t has dimension `latent_dim`. We want to return all the outputs h'_1,...,h'_T: this is done for the training, as \n",
        "# explained above\n",
        "decoder = LSTM(units=latent_dim, return_sequences=True, return_state=True)\n",
        "\n",
        "# Application of the decoder on the italian sentence. We give the encoding of the english sentence as initial stat\n",
        "h_outputs, h_last, c_last = decoder(decoder_inputs, initial_state=encoding)"
      ],
      "metadata": {
        "id": "jaAyH_6PdUkv"
      },
      "execution_count": 39,
      "outputs": []
    },
    {
      "cell_type": "code",
      "source": [
        "# The first printed dimension is the batch dimension, the second is the variable length T\n",
        "print('Shape of \"decoder_inputs\":', decoder_inputs.shape)\n",
        "print('Shape of \"h_outputs\":', h_outputs.shape)\n",
        "print('Shape of \"h_N\":', h_N.shape)"
      ],
      "metadata": {
        "colab": {
          "base_uri": "https://localhost:8080/"
        },
        "id": "6cE9soYSgHqP",
        "outputId": "0c72d474-1582-41e9-b60e-64b87531d85d"
      },
      "execution_count": 40,
      "outputs": [
        {
          "output_type": "stream",
          "name": "stdout",
          "text": [
            "Shape of \"decoder_inputs\": (None, None, 75)\n",
            "Shape of \"h_outputs\": (None, None, 256)\n",
            "Shape of \"h_N\": (None, 256)\n"
          ]
        }
      ]
    },
    {
      "cell_type": "markdown",
      "source": [
        "Dense layer"
      ],
      "metadata": {
        "id": "WVhLfNvrgUdW"
      }
    },
    {
      "cell_type": "code",
      "source": [
        "# Dense layer: it has m outputs, and softmax activation function\n",
        "dense = Dense(units=m, activation='softmax')\n",
        "\n",
        "# Application of the dense layer on all the outputs of the decoder: this generated a cat distribution y_hat for each italian character.\n",
        "# This is done for training, as explained above.\n",
        "cat_distributions = dense(h_outputs)"
      ],
      "metadata": {
        "id": "ifVeeztygUlk"
      },
      "execution_count": 41,
      "outputs": []
    },
    {
      "cell_type": "code",
      "source": [
        "# The first printed dimension is the batch dimension, the second is the variable length T\n",
        "print('Shape of \"cat_distributions\":', cat_distributions.shape)"
      ],
      "metadata": {
        "colab": {
          "base_uri": "https://localhost:8080/"
        },
        "id": "eTg6gIlBg8hW",
        "outputId": "ec2e380c-56e4-41ca-bc37-5ab8165e697e"
      },
      "execution_count": 42,
      "outputs": [
        {
          "output_type": "stream",
          "name": "stdout",
          "text": [
            "Shape of \"cat_distributions\": (None, None, 75)\n"
          ]
        }
      ]
    },
    {
      "cell_type": "markdown",
      "source": [
        "Model"
      ],
      "metadata": {
        "id": "dqId0x60hBwS"
      }
    },
    {
      "cell_type": "code",
      "source": [
        "# It is important to notice that the model has two inputs: encoder_inputs (i.e. the english sentences); decoder_inputs (i.e. the italian\n",
        "# sentences).\n",
        "# It has a single output, which are the categorical distributions\n",
        "model = Model(inputs=[encoder_inputs, decoder_inputs], outputs=cat_distributions)"
      ],
      "metadata": {
        "id": "SFsBWbvBhB2u"
      },
      "execution_count": 43,
      "outputs": []
    },
    {
      "cell_type": "code",
      "source": [
        "model.summary()"
      ],
      "metadata": {
        "colab": {
          "base_uri": "https://localhost:8080/"
        },
        "id": "QkvVVzKOhctH",
        "outputId": "37e080da-349f-45b0-cc8e-58c43621d4fa"
      },
      "execution_count": null,
      "outputs": [
        {
          "output_type": "stream",
          "name": "stdout",
          "text": [
            "Model: \"model_2\"\n",
            "__________________________________________________________________________________________________\n",
            " Layer (type)                   Output Shape         Param #     Connected to                     \n",
            "==================================================================================================\n",
            " input_9 (InputLayer)           [(None, 13, 66)]     0           []                               \n",
            "                                                                                                  \n",
            " input_10 (InputLayer)          [(None, None, 75)]   0           []                               \n",
            "                                                                                                  \n",
            " lstm_8 (LSTM)                  [(None, 256),        330752      ['input_9[0][0]']                \n",
            "                                 (None, 256),                                                     \n",
            "                                 (None, 256)]                                                     \n",
            "                                                                                                  \n",
            " lstm_9 (LSTM)                  [(None, None, 256),  339968      ['input_10[0][0]',               \n",
            "                                 (None, 256),                     'lstm_8[0][1]',                 \n",
            "                                 (None, 256)]                     'lstm_8[0][2]']                 \n",
            "                                                                                                  \n",
            " dense_2 (Dense)                (None, None, 75)     19275       ['lstm_9[0][0]']                 \n",
            "                                                                                                  \n",
            "==================================================================================================\n",
            "Total params: 689,995\n",
            "Trainable params: 689,995\n",
            "Non-trainable params: 0\n",
            "__________________________________________________________________________________________________\n"
          ]
        }
      ]
    },
    {
      "cell_type": "code",
      "source": [
        "import tensorflow.keras as ks\n",
        "ks.utils.plot_model(model)"
      ],
      "metadata": {
        "colab": {
          "base_uri": "https://localhost:8080/",
          "height": 369
        },
        "id": "2IzCN6THhc0u",
        "outputId": "f0952f84-f789-4e0f-d7ed-5ca78c1ecfc9"
      },
      "execution_count": null,
      "outputs": [
        {
          "output_type": "execute_result",
          "data": {
            "text/plain": [
              "<IPython.core.display.Image object>"
            ],
            "image/png": "[encoded data removed]"
          },
          "metadata": {},
          "execution_count": 184
        }
      ]
    },
    {
      "cell_type": "markdown",
      "source": [
        "### Compiling"
      ],
      "metadata": {
        "id": "i8lxi7hThxsm"
      }
    },
    {
      "cell_type": "code",
      "source": [
        "model.compile(optimizer='rmsprop', loss='categorical_crossentropy', metrics=['accuracy'])"
      ],
      "metadata": {
        "id": "H0M38jrRh0Vk"
      },
      "execution_count": 44,
      "outputs": []
    },
    {
      "cell_type": "markdown",
      "source": [
        "### Training"
      ],
      "metadata": {
        "id": "M_KVek_vh7iW"
      }
    },
    {
      "cell_type": "code",
      "source": [
        "batch_size = 64\n",
        "epochs = 100\n",
        "\n",
        "# Input of the encoder: the english sentences\n",
        "# Input of the decoder: the italian sentences, without the last STOP character\n",
        "# Target of the model: the italian sentences, without the first START character\n",
        "hist = model.fit([english_data, italian_data], italian_data_output, batch_size=batch_size, epochs=epochs, validation_split=0.1)"
      ],
      "metadata": {
        "colab": {
          "base_uri": "https://localhost:8080/"
        },
        "outputId": "21f12327-abc8-4a1d-8801-0b66fea69796",
        "id": "nloImnv481iZ"
      },
      "execution_count": 46,
      "outputs": [
        {
          "output_type": "stream",
          "name": "stdout",
          "text": [
            "Epoch 1/100\n",
            "141/141 [==============================] - 9s 17ms/step - loss: 1.1688 - accuracy: 0.7093 - val_loss: 1.0228 - val_accuracy: 0.7169\n",
            "Epoch 2/100\n",
            "141/141 [==============================] - 2s 12ms/step - loss: 0.8112 - accuracy: 0.7698 - val_loss: 0.8284 - val_accuracy: 0.7515\n",
            "Epoch 3/100\n",
            "141/141 [==============================] - 2s 12ms/step - loss: 0.6767 - accuracy: 0.7989 - val_loss: 0.7494 - val_accuracy: 0.7727\n",
            "Epoch 4/100\n",
            "141/141 [==============================] - 2s 12ms/step - loss: 0.6064 - accuracy: 0.8151 - val_loss: 0.7075 - val_accuracy: 0.7821\n",
            "Epoch 5/100\n",
            "141/141 [==============================] - 2s 12ms/step - loss: 0.5576 - accuracy: 0.8272 - val_loss: 0.6707 - val_accuracy: 0.7923\n",
            "Epoch 6/100\n",
            "141/141 [==============================] - 2s 12ms/step - loss: 0.5194 - accuracy: 0.8378 - val_loss: 0.6514 - val_accuracy: 0.7971\n",
            "Epoch 7/100\n",
            "141/141 [==============================] - 2s 12ms/step - loss: 0.4855 - accuracy: 0.8478 - val_loss: 0.6261 - val_accuracy: 0.8076\n",
            "Epoch 8/100\n",
            "141/141 [==============================] - 2s 12ms/step - loss: 0.4562 - accuracy: 0.8566 - val_loss: 0.6061 - val_accuracy: 0.8120\n",
            "Epoch 9/100\n",
            "141/141 [==============================] - 2s 12ms/step - loss: 0.4295 - accuracy: 0.8647 - val_loss: 0.5939 - val_accuracy: 0.8179\n",
            "Epoch 10/100\n",
            "141/141 [==============================] - 2s 12ms/step - loss: 0.4051 - accuracy: 0.8724 - val_loss: 0.5767 - val_accuracy: 0.8214\n",
            "Epoch 11/100\n",
            "141/141 [==============================] - 2s 12ms/step - loss: 0.3822 - accuracy: 0.8795 - val_loss: 0.5647 - val_accuracy: 0.8264\n",
            "Epoch 12/100\n",
            "141/141 [==============================] - 2s 14ms/step - loss: 0.3617 - accuracy: 0.8862 - val_loss: 0.5575 - val_accuracy: 0.8290\n",
            "Epoch 13/100\n",
            "141/141 [==============================] - 2s 13ms/step - loss: 0.3426 - accuracy: 0.8920 - val_loss: 0.5551 - val_accuracy: 0.8344\n",
            "Epoch 14/100\n",
            "141/141 [==============================] - 2s 12ms/step - loss: 0.3246 - accuracy: 0.8979 - val_loss: 0.5579 - val_accuracy: 0.8339\n",
            "Epoch 15/100\n",
            "141/141 [==============================] - 2s 12ms/step - loss: 0.3075 - accuracy: 0.9030 - val_loss: 0.5555 - val_accuracy: 0.8356\n",
            "Epoch 16/100\n",
            "141/141 [==============================] - 2s 12ms/step - loss: 0.2920 - accuracy: 0.9081 - val_loss: 0.5530 - val_accuracy: 0.8397\n",
            "Epoch 17/100\n",
            "141/141 [==============================] - 2s 12ms/step - loss: 0.2774 - accuracy: 0.9122 - val_loss: 0.5476 - val_accuracy: 0.8413\n",
            "Epoch 18/100\n",
            "141/141 [==============================] - 2s 12ms/step - loss: 0.2639 - accuracy: 0.9161 - val_loss: 0.5551 - val_accuracy: 0.8412\n",
            "Epoch 19/100\n",
            "141/141 [==============================] - 2s 12ms/step - loss: 0.2511 - accuracy: 0.9203 - val_loss: 0.5604 - val_accuracy: 0.8414\n",
            "Epoch 20/100\n",
            "141/141 [==============================] - 2s 12ms/step - loss: 0.2387 - accuracy: 0.9239 - val_loss: 0.5542 - val_accuracy: 0.8436\n",
            "Epoch 21/100\n",
            "141/141 [==============================] - 2s 12ms/step - loss: 0.2277 - accuracy: 0.9272 - val_loss: 0.5625 - val_accuracy: 0.8426\n",
            "Epoch 22/100\n",
            "141/141 [==============================] - 2s 12ms/step - loss: 0.2167 - accuracy: 0.9304 - val_loss: 0.5690 - val_accuracy: 0.8454\n",
            "Epoch 23/100\n",
            "141/141 [==============================] - 2s 12ms/step - loss: 0.2068 - accuracy: 0.9338 - val_loss: 0.5722 - val_accuracy: 0.8449\n",
            "Epoch 24/100\n",
            "141/141 [==============================] - 2s 12ms/step - loss: 0.1972 - accuracy: 0.9364 - val_loss: 0.5795 - val_accuracy: 0.8461\n",
            "Epoch 25/100\n",
            "141/141 [==============================] - 2s 12ms/step - loss: 0.1884 - accuracy: 0.9392 - val_loss: 0.5886 - val_accuracy: 0.8461\n",
            "Epoch 26/100\n",
            "141/141 [==============================] - 2s 12ms/step - loss: 0.1799 - accuracy: 0.9417 - val_loss: 0.5965 - val_accuracy: 0.8453\n",
            "Epoch 27/100\n",
            "141/141 [==============================] - 2s 12ms/step - loss: 0.1723 - accuracy: 0.9434 - val_loss: 0.6059 - val_accuracy: 0.8454\n",
            "Epoch 28/100\n",
            "141/141 [==============================] - 2s 12ms/step - loss: 0.1648 - accuracy: 0.9460 - val_loss: 0.6139 - val_accuracy: 0.8467\n",
            "Epoch 29/100\n",
            "141/141 [==============================] - 2s 12ms/step - loss: 0.1579 - accuracy: 0.9479 - val_loss: 0.6301 - val_accuracy: 0.8441\n",
            "Epoch 30/100\n",
            "141/141 [==============================] - 2s 12ms/step - loss: 0.1514 - accuracy: 0.9497 - val_loss: 0.6358 - val_accuracy: 0.8436\n",
            "Epoch 31/100\n",
            "141/141 [==============================] - 2s 12ms/step - loss: 0.1454 - accuracy: 0.9518 - val_loss: 0.6427 - val_accuracy: 0.8457\n",
            "Epoch 32/100\n",
            "141/141 [==============================] - 2s 12ms/step - loss: 0.1400 - accuracy: 0.9530 - val_loss: 0.6459 - val_accuracy: 0.8453\n",
            "Epoch 33/100\n",
            "141/141 [==============================] - 2s 12ms/step - loss: 0.1342 - accuracy: 0.9551 - val_loss: 0.6584 - val_accuracy: 0.8458\n",
            "Epoch 34/100\n",
            "141/141 [==============================] - 2s 12ms/step - loss: 0.1291 - accuracy: 0.9565 - val_loss: 0.6575 - val_accuracy: 0.8467\n",
            "Epoch 35/100\n",
            "141/141 [==============================] - 2s 12ms/step - loss: 0.1244 - accuracy: 0.9578 - val_loss: 0.6774 - val_accuracy: 0.8446\n",
            "Epoch 36/100\n",
            "141/141 [==============================] - 2s 12ms/step - loss: 0.1203 - accuracy: 0.9591 - val_loss: 0.6887 - val_accuracy: 0.8432\n",
            "Epoch 37/100\n",
            "141/141 [==============================] - 2s 12ms/step - loss: 0.1157 - accuracy: 0.9603 - val_loss: 0.6883 - val_accuracy: 0.8447\n",
            "Epoch 38/100\n",
            "141/141 [==============================] - 2s 12ms/step - loss: 0.1119 - accuracy: 0.9614 - val_loss: 0.6980 - val_accuracy: 0.8450\n",
            "Epoch 39/100\n",
            "141/141 [==============================] - 2s 12ms/step - loss: 0.1080 - accuracy: 0.9624 - val_loss: 0.7051 - val_accuracy: 0.8444\n",
            "Epoch 40/100\n",
            "141/141 [==============================] - 2s 12ms/step - loss: 0.1046 - accuracy: 0.9637 - val_loss: 0.7213 - val_accuracy: 0.8443\n",
            "Epoch 41/100\n",
            "141/141 [==============================] - 2s 12ms/step - loss: 0.1012 - accuracy: 0.9645 - val_loss: 0.7307 - val_accuracy: 0.8441\n",
            "Epoch 42/100\n",
            "141/141 [==============================] - 2s 12ms/step - loss: 0.0979 - accuracy: 0.9656 - val_loss: 0.7372 - val_accuracy: 0.8437\n",
            "Epoch 43/100\n",
            "141/141 [==============================] - 2s 12ms/step - loss: 0.0956 - accuracy: 0.9663 - val_loss: 0.7455 - val_accuracy: 0.8436\n",
            "Epoch 44/100\n",
            "141/141 [==============================] - 2s 12ms/step - loss: 0.0925 - accuracy: 0.9670 - val_loss: 0.7491 - val_accuracy: 0.8439\n",
            "Epoch 45/100\n",
            "141/141 [==============================] - 2s 12ms/step - loss: 0.0902 - accuracy: 0.9678 - val_loss: 0.7631 - val_accuracy: 0.8435\n",
            "Epoch 46/100\n",
            "141/141 [==============================] - 2s 12ms/step - loss: 0.0880 - accuracy: 0.9685 - val_loss: 0.7719 - val_accuracy: 0.8422\n",
            "Epoch 47/100\n",
            "141/141 [==============================] - 2s 12ms/step - loss: 0.0852 - accuracy: 0.9692 - val_loss: 0.7736 - val_accuracy: 0.8435\n",
            "Epoch 48/100\n",
            "141/141 [==============================] - 2s 12ms/step - loss: 0.0835 - accuracy: 0.9693 - val_loss: 0.7817 - val_accuracy: 0.8431\n",
            "Epoch 49/100\n",
            "141/141 [==============================] - 2s 12ms/step - loss: 0.0813 - accuracy: 0.9704 - val_loss: 0.7873 - val_accuracy: 0.8438\n",
            "Epoch 50/100\n",
            "141/141 [==============================] - 2s 12ms/step - loss: 0.0798 - accuracy: 0.9706 - val_loss: 0.7953 - val_accuracy: 0.8427\n",
            "Epoch 51/100\n",
            "141/141 [==============================] - 2s 12ms/step - loss: 0.0778 - accuracy: 0.9712 - val_loss: 0.7975 - val_accuracy: 0.8440\n",
            "Epoch 52/100\n",
            "141/141 [==============================] - 2s 12ms/step - loss: 0.0761 - accuracy: 0.9715 - val_loss: 0.8000 - val_accuracy: 0.8432\n",
            "Epoch 53/100\n",
            "141/141 [==============================] - 2s 12ms/step - loss: 0.0744 - accuracy: 0.9720 - val_loss: 0.8126 - val_accuracy: 0.8427\n",
            "Epoch 54/100\n",
            "141/141 [==============================] - 2s 12ms/step - loss: 0.0733 - accuracy: 0.9722 - val_loss: 0.8243 - val_accuracy: 0.8418\n",
            "Epoch 55/100\n",
            "141/141 [==============================] - 2s 12ms/step - loss: 0.0719 - accuracy: 0.9725 - val_loss: 0.8199 - val_accuracy: 0.8432\n",
            "Epoch 56/100\n",
            "141/141 [==============================] - 2s 12ms/step - loss: 0.0705 - accuracy: 0.9730 - val_loss: 0.8377 - val_accuracy: 0.8414\n",
            "Epoch 57/100\n",
            "141/141 [==============================] - 2s 12ms/step - loss: 0.0695 - accuracy: 0.9731 - val_loss: 0.8323 - val_accuracy: 0.8433\n",
            "Epoch 58/100\n",
            "141/141 [==============================] - 2s 12ms/step - loss: 0.0682 - accuracy: 0.9733 - val_loss: 0.8450 - val_accuracy: 0.8410\n",
            "Epoch 59/100\n",
            "141/141 [==============================] - 2s 14ms/step - loss: 0.0672 - accuracy: 0.9738 - val_loss: 0.8569 - val_accuracy: 0.8426\n",
            "Epoch 60/100\n",
            "141/141 [==============================] - 2s 12ms/step - loss: 0.0660 - accuracy: 0.9741 - val_loss: 0.8470 - val_accuracy: 0.8433\n",
            "Epoch 61/100\n",
            "141/141 [==============================] - 2s 12ms/step - loss: 0.0652 - accuracy: 0.9741 - val_loss: 0.8595 - val_accuracy: 0.8424\n",
            "Epoch 62/100\n",
            "141/141 [==============================] - 2s 12ms/step - loss: 0.0641 - accuracy: 0.9745 - val_loss: 0.8563 - val_accuracy: 0.8415\n",
            "Epoch 63/100\n",
            "141/141 [==============================] - 2s 12ms/step - loss: 0.0634 - accuracy: 0.9746 - val_loss: 0.8578 - val_accuracy: 0.8431\n",
            "Epoch 64/100\n",
            "141/141 [==============================] - 2s 12ms/step - loss: 0.0626 - accuracy: 0.9747 - val_loss: 0.8789 - val_accuracy: 0.8403\n",
            "Epoch 65/100\n",
            "141/141 [==============================] - 2s 12ms/step - loss: 0.0620 - accuracy: 0.9747 - val_loss: 0.8645 - val_accuracy: 0.8427\n",
            "Epoch 66/100\n",
            "141/141 [==============================] - 2s 12ms/step - loss: 0.0609 - accuracy: 0.9753 - val_loss: 0.8730 - val_accuracy: 0.8428\n",
            "Epoch 67/100\n",
            "141/141 [==============================] - 2s 13ms/step - loss: 0.0602 - accuracy: 0.9753 - val_loss: 0.8780 - val_accuracy: 0.8427\n",
            "Epoch 68/100\n",
            "141/141 [==============================] - 2s 12ms/step - loss: 0.0597 - accuracy: 0.9755 - val_loss: 0.8739 - val_accuracy: 0.8443\n",
            "Epoch 69/100\n",
            "141/141 [==============================] - 2s 12ms/step - loss: 0.0588 - accuracy: 0.9756 - val_loss: 0.8812 - val_accuracy: 0.8417\n",
            "Epoch 70/100\n",
            "141/141 [==============================] - 2s 12ms/step - loss: 0.0584 - accuracy: 0.9755 - val_loss: 0.8964 - val_accuracy: 0.8428\n",
            "Epoch 71/100\n",
            "141/141 [==============================] - 2s 12ms/step - loss: 0.0577 - accuracy: 0.9759 - val_loss: 0.8884 - val_accuracy: 0.8430\n",
            "Epoch 72/100\n",
            "141/141 [==============================] - 2s 12ms/step - loss: 0.0572 - accuracy: 0.9759 - val_loss: 0.9025 - val_accuracy: 0.8426\n",
            "Epoch 73/100\n",
            "141/141 [==============================] - 2s 12ms/step - loss: 0.0568 - accuracy: 0.9758 - val_loss: 0.8893 - val_accuracy: 0.8421\n",
            "Epoch 74/100\n",
            "141/141 [==============================] - 2s 12ms/step - loss: 0.0560 - accuracy: 0.9762 - val_loss: 0.9107 - val_accuracy: 0.8412\n",
            "Epoch 75/100\n",
            "141/141 [==============================] - 2s 12ms/step - loss: 0.0558 - accuracy: 0.9760 - val_loss: 0.9054 - val_accuracy: 0.8426\n",
            "Epoch 76/100\n",
            "141/141 [==============================] - 2s 12ms/step - loss: 0.0553 - accuracy: 0.9761 - val_loss: 0.9241 - val_accuracy: 0.8411\n",
            "Epoch 77/100\n",
            "141/141 [==============================] - 2s 12ms/step - loss: 0.0550 - accuracy: 0.9763 - val_loss: 0.9280 - val_accuracy: 0.8409\n",
            "Epoch 78/100\n",
            "141/141 [==============================] - 2s 12ms/step - loss: 0.0547 - accuracy: 0.9762 - val_loss: 0.9117 - val_accuracy: 0.8423\n",
            "Epoch 79/100\n",
            "141/141 [==============================] - 2s 12ms/step - loss: 0.0546 - accuracy: 0.9760 - val_loss: 0.9247 - val_accuracy: 0.8402\n",
            "Epoch 80/100\n",
            "141/141 [==============================] - 2s 12ms/step - loss: 0.0537 - accuracy: 0.9764 - val_loss: 0.9147 - val_accuracy: 0.8423\n",
            "Epoch 81/100\n",
            "141/141 [==============================] - 2s 12ms/step - loss: 0.0533 - accuracy: 0.9763 - val_loss: 0.9140 - val_accuracy: 0.8430\n",
            "Epoch 82/100\n",
            "141/141 [==============================] - 2s 12ms/step - loss: 0.0530 - accuracy: 0.9767 - val_loss: 0.9166 - val_accuracy: 0.8423\n",
            "Epoch 83/100\n",
            "141/141 [==============================] - 2s 12ms/step - loss: 0.0523 - accuracy: 0.9766 - val_loss: 0.9269 - val_accuracy: 0.8398\n",
            "Epoch 84/100\n",
            "141/141 [==============================] - 2s 12ms/step - loss: 0.0521 - accuracy: 0.9769 - val_loss: 0.9314 - val_accuracy: 0.8426\n",
            "Epoch 85/100\n",
            "141/141 [==============================] - 2s 12ms/step - loss: 0.0520 - accuracy: 0.9769 - val_loss: 0.9264 - val_accuracy: 0.8420\n",
            "Epoch 86/100\n",
            "141/141 [==============================] - 2s 12ms/step - loss: 0.0517 - accuracy: 0.9768 - val_loss: 0.9459 - val_accuracy: 0.8388\n",
            "Epoch 87/100\n",
            "141/141 [==============================] - 2s 12ms/step - loss: 0.0515 - accuracy: 0.9769 - val_loss: 0.9292 - val_accuracy: 0.8431\n",
            "Epoch 88/100\n",
            "141/141 [==============================] - 2s 12ms/step - loss: 0.0512 - accuracy: 0.9769 - val_loss: 0.9400 - val_accuracy: 0.8422\n",
            "Epoch 89/100\n",
            "141/141 [==============================] - 2s 12ms/step - loss: 0.0508 - accuracy: 0.9769 - val_loss: 0.9348 - val_accuracy: 0.8418\n",
            "Epoch 90/100\n",
            "141/141 [==============================] - 2s 12ms/step - loss: 0.0508 - accuracy: 0.9770 - val_loss: 0.9450 - val_accuracy: 0.8412\n",
            "Epoch 91/100\n",
            "141/141 [==============================] - 2s 12ms/step - loss: 0.0503 - accuracy: 0.9771 - val_loss: 0.9406 - val_accuracy: 0.8422\n",
            "Epoch 92/100\n",
            "141/141 [==============================] - 2s 12ms/step - loss: 0.0503 - accuracy: 0.9769 - val_loss: 0.9412 - val_accuracy: 0.8433\n",
            "Epoch 93/100\n",
            "141/141 [==============================] - 2s 12ms/step - loss: 0.0499 - accuracy: 0.9771 - val_loss: 0.9495 - val_accuracy: 0.8411\n",
            "Epoch 94/100\n",
            "141/141 [==============================] - 2s 12ms/step - loss: 0.0495 - accuracy: 0.9772 - val_loss: 0.9518 - val_accuracy: 0.8420\n",
            "Epoch 95/100\n",
            "141/141 [==============================] - 2s 12ms/step - loss: 0.0497 - accuracy: 0.9771 - val_loss: 0.9579 - val_accuracy: 0.8427\n",
            "Epoch 96/100\n",
            "141/141 [==============================] - 2s 12ms/step - loss: 0.0493 - accuracy: 0.9771 - val_loss: 0.9540 - val_accuracy: 0.8425\n",
            "Epoch 97/100\n",
            "141/141 [==============================] - 2s 12ms/step - loss: 0.0490 - accuracy: 0.9772 - val_loss: 0.9516 - val_accuracy: 0.8424\n",
            "Epoch 98/100\n",
            "141/141 [==============================] - 2s 12ms/step - loss: 0.0488 - accuracy: 0.9772 - val_loss: 0.9597 - val_accuracy: 0.8409\n",
            "Epoch 99/100\n",
            "141/141 [==============================] - 2s 12ms/step - loss: 0.0486 - accuracy: 0.9773 - val_loss: 0.9506 - val_accuracy: 0.8426\n",
            "Epoch 100/100\n",
            "141/141 [==============================] - 2s 12ms/step - loss: 0.0484 - accuracy: 0.9771 - val_loss: 0.9575 - val_accuracy: 0.8428\n"
          ]
        }
      ]
    },
    {
      "cell_type": "code",
      "source": [
        "batch_size = 64\n",
        "epochs = 100\n",
        "\n",
        "# Input of the encoder: the english sentences\n",
        "# Input of the decoder: the italian sentences, without the last STOP character\n",
        "# Target of the model: the italian sentences, without the first START character\n",
        "hist = model.fit([english_data, italian_data], italian_data_output, batch_size=batch_size, epochs=epochs, validation_split=0.1)"
      ],
      "metadata": {
        "colab": {
          "base_uri": "https://localhost:8080/"
        },
        "id": "tkE-BjTRh8qE",
        "outputId": "300fb276-1f25-4a51-971a-ccded2116414"
      },
      "execution_count": null,
      "outputs": [
        {
          "output_type": "stream",
          "name": "stdout",
          "text": [
            "Epoch 1/100\n",
            "141/141 [==============================] - 44s 287ms/step - loss: 1.1758 - accuracy: 0.7071 - val_loss: 1.0520 - val_accuracy: 0.7162\n",
            "Epoch 2/100\n",
            "141/141 [==============================] - 40s 282ms/step - loss: 0.8243 - accuracy: 0.7675 - val_loss: 0.8583 - val_accuracy: 0.7503\n",
            "Epoch 3/100\n",
            "141/141 [==============================] - 39s 275ms/step - loss: 0.6737 - accuracy: 0.7985 - val_loss: 0.7651 - val_accuracy: 0.7674\n",
            "Epoch 4/100\n",
            "141/141 [==============================] - 39s 279ms/step - loss: 0.6038 - accuracy: 0.8156 - val_loss: 0.6981 - val_accuracy: 0.7861\n",
            "Epoch 5/100\n",
            "141/141 [==============================] - 40s 285ms/step - loss: 0.5577 - accuracy: 0.8276 - val_loss: 0.6737 - val_accuracy: 0.7919\n",
            "Epoch 6/100\n",
            "141/141 [==============================] - 40s 282ms/step - loss: 0.5207 - accuracy: 0.8376 - val_loss: 0.6403 - val_accuracy: 0.8042\n",
            "Epoch 7/100\n",
            "141/141 [==============================] - 40s 282ms/step - loss: 0.4883 - accuracy: 0.8473 - val_loss: 0.6375 - val_accuracy: 0.8018\n",
            "Epoch 8/100\n",
            "141/141 [==============================] - 39s 279ms/step - loss: 0.4595 - accuracy: 0.8564 - val_loss: 0.6022 - val_accuracy: 0.8126\n",
            "Epoch 9/100\n",
            "141/141 [==============================] - 40s 281ms/step - loss: 0.4331 - accuracy: 0.8640 - val_loss: 0.5828 - val_accuracy: 0.8186\n",
            "Epoch 10/100\n",
            "141/141 [==============================] - 39s 279ms/step - loss: 0.4096 - accuracy: 0.8711 - val_loss: 0.5793 - val_accuracy: 0.8227\n",
            "Epoch 11/100\n",
            "141/141 [==============================] - 40s 280ms/step - loss: 0.3873 - accuracy: 0.8779 - val_loss: 0.5602 - val_accuracy: 0.8288\n",
            "Epoch 12/100\n",
            "141/141 [==============================] - 41s 289ms/step - loss: 0.3664 - accuracy: 0.8848 - val_loss: 0.5507 - val_accuracy: 0.8346\n",
            "Epoch 13/100\n",
            "141/141 [==============================] - 40s 286ms/step - loss: 0.3468 - accuracy: 0.8907 - val_loss: 0.5471 - val_accuracy: 0.8367\n",
            "Epoch 14/100\n",
            "141/141 [==============================] - 40s 283ms/step - loss: 0.3288 - accuracy: 0.8959 - val_loss: 0.5407 - val_accuracy: 0.8387\n",
            "Epoch 15/100\n",
            "141/141 [==============================] - 40s 285ms/step - loss: 0.3111 - accuracy: 0.9018 - val_loss: 0.5327 - val_accuracy: 0.8417\n",
            "Epoch 16/100\n",
            "141/141 [==============================] - 40s 285ms/step - loss: 0.2953 - accuracy: 0.9063 - val_loss: 0.5340 - val_accuracy: 0.8416\n",
            "Epoch 17/100\n",
            "141/141 [==============================] - 42s 300ms/step - loss: 0.2800 - accuracy: 0.9109 - val_loss: 0.5469 - val_accuracy: 0.8415\n",
            "Epoch 18/100\n",
            "141/141 [==============================] - 40s 286ms/step - loss: 0.2661 - accuracy: 0.9159 - val_loss: 0.5410 - val_accuracy: 0.8430\n",
            "Epoch 19/100\n",
            "141/141 [==============================] - 41s 293ms/step - loss: 0.2528 - accuracy: 0.9196 - val_loss: 0.5546 - val_accuracy: 0.8400\n",
            "Epoch 20/100\n",
            "141/141 [==============================] - 39s 276ms/step - loss: 0.2405 - accuracy: 0.9234 - val_loss: 0.5501 - val_accuracy: 0.8430\n",
            "Epoch 21/100\n",
            "141/141 [==============================] - 38s 269ms/step - loss: 0.2293 - accuracy: 0.9267 - val_loss: 0.5575 - val_accuracy: 0.8426\n",
            "Epoch 22/100\n",
            "141/141 [==============================] - 38s 271ms/step - loss: 0.2187 - accuracy: 0.9302 - val_loss: 0.5521 - val_accuracy: 0.8460\n",
            "Epoch 23/100\n",
            "141/141 [==============================] - 38s 269ms/step - loss: 0.2080 - accuracy: 0.9332 - val_loss: 0.5614 - val_accuracy: 0.8447\n",
            "Epoch 24/100\n",
            "141/141 [==============================] - 39s 275ms/step - loss: 0.1987 - accuracy: 0.9361 - val_loss: 0.5663 - val_accuracy: 0.8458\n",
            "Epoch 25/100\n",
            "141/141 [==============================] - 45s 322ms/step - loss: 0.1899 - accuracy: 0.9386 - val_loss: 0.5760 - val_accuracy: 0.8457\n",
            "Epoch 26/100\n",
            "141/141 [==============================] - 43s 308ms/step - loss: 0.1816 - accuracy: 0.9409 - val_loss: 0.5761 - val_accuracy: 0.8464\n",
            "Epoch 27/100\n",
            "141/141 [==============================] - 43s 303ms/step - loss: 0.1736 - accuracy: 0.9437 - val_loss: 0.5919 - val_accuracy: 0.8467\n",
            "Epoch 28/100\n",
            "141/141 [==============================] - 38s 270ms/step - loss: 0.1666 - accuracy: 0.9456 - val_loss: 0.5933 - val_accuracy: 0.8463\n",
            "Epoch 29/100\n",
            "141/141 [==============================] - 38s 272ms/step - loss: 0.1595 - accuracy: 0.9479 - val_loss: 0.6116 - val_accuracy: 0.8443\n",
            "Epoch 30/100\n",
            "141/141 [==============================] - 39s 275ms/step - loss: 0.1530 - accuracy: 0.9494 - val_loss: 0.6086 - val_accuracy: 0.8459\n",
            "Epoch 31/100\n",
            "141/141 [==============================] - 39s 274ms/step - loss: 0.1468 - accuracy: 0.9513 - val_loss: 0.6191 - val_accuracy: 0.8466\n",
            "Epoch 32/100\n",
            "141/141 [==============================] - 39s 276ms/step - loss: 0.1413 - accuracy: 0.9532 - val_loss: 0.6249 - val_accuracy: 0.8461\n",
            "Epoch 33/100\n",
            "141/141 [==============================] - 40s 284ms/step - loss: 0.1354 - accuracy: 0.9548 - val_loss: 0.6228 - val_accuracy: 0.8482\n",
            "Epoch 34/100\n",
            "141/141 [==============================] - 39s 277ms/step - loss: 0.1302 - accuracy: 0.9562 - val_loss: 0.6449 - val_accuracy: 0.8465\n",
            "Epoch 35/100\n",
            "141/141 [==============================] - 40s 281ms/step - loss: 0.1256 - accuracy: 0.9576 - val_loss: 0.6478 - val_accuracy: 0.8471\n",
            "Epoch 36/100\n",
            "141/141 [==============================] - 39s 279ms/step - loss: 0.1209 - accuracy: 0.9590 - val_loss: 0.6554 - val_accuracy: 0.8472\n",
            "Epoch 37/100\n",
            "141/141 [==============================] - 39s 277ms/step - loss: 0.1164 - accuracy: 0.9607 - val_loss: 0.6567 - val_accuracy: 0.8490\n",
            "Epoch 38/100\n",
            "141/141 [==============================] - 39s 280ms/step - loss: 0.1126 - accuracy: 0.9613 - val_loss: 0.6667 - val_accuracy: 0.8470\n",
            "Epoch 39/100\n",
            "141/141 [==============================] - 40s 285ms/step - loss: 0.1086 - accuracy: 0.9626 - val_loss: 0.6773 - val_accuracy: 0.8457\n",
            "Epoch 40/100\n",
            "141/141 [==============================] - 40s 284ms/step - loss: 0.1049 - accuracy: 0.9636 - val_loss: 0.6922 - val_accuracy: 0.8469\n",
            "Epoch 41/100\n",
            "141/141 [==============================] - 40s 284ms/step - loss: 0.1016 - accuracy: 0.9648 - val_loss: 0.6979 - val_accuracy: 0.8461\n",
            "Epoch 42/100\n",
            "141/141 [==============================] - 40s 281ms/step - loss: 0.0987 - accuracy: 0.9652 - val_loss: 0.7030 - val_accuracy: 0.8457\n",
            "Epoch 43/100\n",
            "141/141 [==============================] - 40s 282ms/step - loss: 0.0957 - accuracy: 0.9661 - val_loss: 0.7162 - val_accuracy: 0.8471\n",
            "Epoch 44/100\n",
            "141/141 [==============================] - 40s 285ms/step - loss: 0.0923 - accuracy: 0.9672 - val_loss: 0.7335 - val_accuracy: 0.8432\n",
            "Epoch 45/100\n",
            "141/141 [==============================] - 40s 286ms/step - loss: 0.0902 - accuracy: 0.9680 - val_loss: 0.7208 - val_accuracy: 0.8468\n",
            "Epoch 46/100\n",
            "141/141 [==============================] - 41s 294ms/step - loss: 0.0875 - accuracy: 0.9684 - val_loss: 0.7459 - val_accuracy: 0.8458\n",
            "Epoch 47/100\n",
            "141/141 [==============================] - 40s 283ms/step - loss: 0.0846 - accuracy: 0.9697 - val_loss: 0.7343 - val_accuracy: 0.8457\n",
            "Epoch 48/100\n",
            "141/141 [==============================] - 41s 289ms/step - loss: 0.0832 - accuracy: 0.9696 - val_loss: 0.7586 - val_accuracy: 0.8453\n",
            "Epoch 49/100\n",
            "141/141 [==============================] - 41s 292ms/step - loss: 0.0812 - accuracy: 0.9703 - val_loss: 0.7532 - val_accuracy: 0.8461\n",
            "Epoch 50/100\n",
            "141/141 [==============================] - 40s 286ms/step - loss: 0.0791 - accuracy: 0.9706 - val_loss: 0.7714 - val_accuracy: 0.8445\n",
            "Epoch 51/100\n",
            "141/141 [==============================] - 40s 284ms/step - loss: 0.0772 - accuracy: 0.9714 - val_loss: 0.7782 - val_accuracy: 0.8451\n",
            "Epoch 52/100\n",
            "141/141 [==============================] - 40s 286ms/step - loss: 0.0756 - accuracy: 0.9718 - val_loss: 0.7866 - val_accuracy: 0.8429\n",
            "Epoch 53/100\n",
            "141/141 [==============================] - 42s 294ms/step - loss: 0.0739 - accuracy: 0.9723 - val_loss: 0.7833 - val_accuracy: 0.8462\n",
            "Epoch 54/100\n",
            "141/141 [==============================] - 41s 288ms/step - loss: 0.0727 - accuracy: 0.9725 - val_loss: 0.7966 - val_accuracy: 0.8451\n",
            "Epoch 55/100\n",
            "141/141 [==============================] - 42s 299ms/step - loss: 0.0712 - accuracy: 0.9729 - val_loss: 0.8081 - val_accuracy: 0.8432\n",
            "Epoch 56/100\n",
            "141/141 [==============================] - 43s 304ms/step - loss: 0.0697 - accuracy: 0.9732 - val_loss: 0.8021 - val_accuracy: 0.8450\n",
            "Epoch 57/100\n",
            "141/141 [==============================] - 42s 298ms/step - loss: 0.0686 - accuracy: 0.9735 - val_loss: 0.8070 - val_accuracy: 0.8443\n",
            "Epoch 58/100\n",
            "141/141 [==============================] - 42s 297ms/step - loss: 0.0677 - accuracy: 0.9737 - val_loss: 0.8195 - val_accuracy: 0.8452\n",
            "Epoch 59/100\n",
            "141/141 [==============================] - 42s 295ms/step - loss: 0.0663 - accuracy: 0.9742 - val_loss: 0.8213 - val_accuracy: 0.8438\n",
            "Epoch 60/100\n",
            "141/141 [==============================] - 42s 298ms/step - loss: 0.0653 - accuracy: 0.9744 - val_loss: 0.8290 - val_accuracy: 0.8438\n",
            "Epoch 61/100\n",
            "141/141 [==============================] - 41s 294ms/step - loss: 0.0644 - accuracy: 0.9745 - val_loss: 0.8386 - val_accuracy: 0.8419\n",
            "Epoch 62/100\n",
            "141/141 [==============================] - 42s 294ms/step - loss: 0.0638 - accuracy: 0.9744 - val_loss: 0.8279 - val_accuracy: 0.8440\n",
            "Epoch 63/100\n",
            "141/141 [==============================] - 41s 290ms/step - loss: 0.0625 - accuracy: 0.9750 - val_loss: 0.8330 - val_accuracy: 0.8431\n",
            "Epoch 64/100\n",
            "141/141 [==============================] - 41s 288ms/step - loss: 0.0617 - accuracy: 0.9752 - val_loss: 0.8400 - val_accuracy: 0.8439\n",
            "Epoch 65/100\n",
            "141/141 [==============================] - 41s 294ms/step - loss: 0.0609 - accuracy: 0.9753 - val_loss: 0.8492 - val_accuracy: 0.8433\n",
            "Epoch 66/100\n",
            "141/141 [==============================] - 42s 296ms/step - loss: 0.0605 - accuracy: 0.9756 - val_loss: 0.8577 - val_accuracy: 0.8422\n",
            "Epoch 67/100\n",
            "141/141 [==============================] - 40s 285ms/step - loss: 0.0593 - accuracy: 0.9758 - val_loss: 0.8567 - val_accuracy: 0.8427\n",
            "Epoch 68/100\n",
            "141/141 [==============================] - 42s 297ms/step - loss: 0.0592 - accuracy: 0.9758 - val_loss: 0.8548 - val_accuracy: 0.8430\n",
            "Epoch 69/100\n",
            "141/141 [==============================] - 42s 299ms/step - loss: 0.0585 - accuracy: 0.9758 - val_loss: 0.8542 - val_accuracy: 0.8463\n",
            "Epoch 70/100\n",
            "141/141 [==============================] - 42s 297ms/step - loss: 0.0576 - accuracy: 0.9760 - val_loss: 0.8650 - val_accuracy: 0.8425\n",
            "Epoch 71/100\n",
            "141/141 [==============================] - 42s 298ms/step - loss: 0.0575 - accuracy: 0.9760 - val_loss: 0.8604 - val_accuracy: 0.8445\n",
            "Epoch 72/100\n",
            "141/141 [==============================] - 43s 306ms/step - loss: 0.0567 - accuracy: 0.9762 - val_loss: 0.8706 - val_accuracy: 0.8452\n",
            "Epoch 73/100\n",
            "141/141 [==============================] - 41s 293ms/step - loss: 0.0562 - accuracy: 0.9761 - val_loss: 0.8712 - val_accuracy: 0.8430\n",
            "Epoch 74/100\n",
            "141/141 [==============================] - 40s 284ms/step - loss: 0.0558 - accuracy: 0.9762 - val_loss: 0.8667 - val_accuracy: 0.8430\n",
            "Epoch 75/100\n",
            "141/141 [==============================] - 41s 289ms/step - loss: 0.0551 - accuracy: 0.9766 - val_loss: 0.8832 - val_accuracy: 0.8430\n",
            "Epoch 76/100\n",
            "141/141 [==============================] - 41s 289ms/step - loss: 0.0550 - accuracy: 0.9764 - val_loss: 0.8872 - val_accuracy: 0.8422\n",
            "Epoch 77/100\n",
            "141/141 [==============================] - 42s 299ms/step - loss: 0.0546 - accuracy: 0.9765 - val_loss: 0.8804 - val_accuracy: 0.8443\n",
            "Epoch 78/100\n",
            "141/141 [==============================] - 41s 289ms/step - loss: 0.0536 - accuracy: 0.9768 - val_loss: 0.8947 - val_accuracy: 0.8422\n",
            "Epoch 79/100\n",
            "141/141 [==============================] - 42s 295ms/step - loss: 0.0538 - accuracy: 0.9766 - val_loss: 0.9046 - val_accuracy: 0.8428\n",
            "Epoch 80/100\n",
            "141/141 [==============================] - 40s 285ms/step - loss: 0.0534 - accuracy: 0.9766 - val_loss: 0.8855 - val_accuracy: 0.8449\n",
            "Epoch 81/100\n",
            "141/141 [==============================] - 40s 282ms/step - loss: 0.0526 - accuracy: 0.9768 - val_loss: 0.8896 - val_accuracy: 0.8442\n",
            "Epoch 82/100\n",
            "141/141 [==============================] - 40s 284ms/step - loss: 0.0528 - accuracy: 0.9765 - val_loss: 0.9003 - val_accuracy: 0.8433\n",
            "Epoch 83/100\n",
            "141/141 [==============================] - 40s 286ms/step - loss: 0.0522 - accuracy: 0.9769 - val_loss: 0.9075 - val_accuracy: 0.8430\n",
            "Epoch 84/100\n",
            "141/141 [==============================] - 39s 279ms/step - loss: 0.0518 - accuracy: 0.9770 - val_loss: 0.9077 - val_accuracy: 0.8421\n",
            "Epoch 85/100\n",
            "141/141 [==============================] - 40s 286ms/step - loss: 0.0515 - accuracy: 0.9769 - val_loss: 0.9087 - val_accuracy: 0.8421\n",
            "Epoch 86/100\n",
            "141/141 [==============================] - 39s 276ms/step - loss: 0.0513 - accuracy: 0.9768 - val_loss: 0.9040 - val_accuracy: 0.8435\n",
            "Epoch 87/100\n",
            "141/141 [==============================] - 38s 271ms/step - loss: 0.0510 - accuracy: 0.9770 - val_loss: 0.9163 - val_accuracy: 0.8413\n",
            "Epoch 88/100\n",
            "141/141 [==============================] - 38s 269ms/step - loss: 0.0509 - accuracy: 0.9770 - val_loss: 0.9046 - val_accuracy: 0.8441\n",
            "Epoch 89/100\n",
            "141/141 [==============================] - 39s 275ms/step - loss: 0.0508 - accuracy: 0.9768 - val_loss: 0.9177 - val_accuracy: 0.8430\n",
            "Epoch 90/100\n",
            "141/141 [==============================] - 39s 279ms/step - loss: 0.0502 - accuracy: 0.9770 - val_loss: 0.9076 - val_accuracy: 0.8450\n",
            "Epoch 91/100\n",
            "141/141 [==============================] - 40s 285ms/step - loss: 0.0503 - accuracy: 0.9772 - val_loss: 0.9183 - val_accuracy: 0.8448\n",
            "Epoch 92/100\n",
            "141/141 [==============================] - 39s 279ms/step - loss: 0.0501 - accuracy: 0.9770 - val_loss: 0.9144 - val_accuracy: 0.8444\n",
            "Epoch 93/100\n",
            "141/141 [==============================] - 40s 281ms/step - loss: 0.0494 - accuracy: 0.9775 - val_loss: 0.9164 - val_accuracy: 0.8445\n",
            "Epoch 94/100\n",
            "141/141 [==============================] - 39s 279ms/step - loss: 0.0493 - accuracy: 0.9771 - val_loss: 0.9138 - val_accuracy: 0.8447\n",
            "Epoch 95/100\n",
            "141/141 [==============================] - 39s 276ms/step - loss: 0.0489 - accuracy: 0.9774 - val_loss: 0.9212 - val_accuracy: 0.8445\n",
            "Epoch 96/100\n",
            "141/141 [==============================] - 39s 274ms/step - loss: 0.0490 - accuracy: 0.9772 - val_loss: 0.9225 - val_accuracy: 0.8431\n",
            "Epoch 97/100\n",
            "141/141 [==============================] - 39s 279ms/step - loss: 0.0487 - accuracy: 0.9775 - val_loss: 0.9172 - val_accuracy: 0.8438\n",
            "Epoch 98/100\n",
            "141/141 [==============================] - 40s 287ms/step - loss: 0.0485 - accuracy: 0.9770 - val_loss: 0.9214 - val_accuracy: 0.8441\n",
            "Epoch 99/100\n",
            "141/141 [==============================] - 39s 277ms/step - loss: 0.0484 - accuracy: 0.9770 - val_loss: 0.9213 - val_accuracy: 0.8429\n",
            "Epoch 100/100\n",
            "141/141 [==============================] - 39s 277ms/step - loss: 0.0482 - accuracy: 0.9773 - val_loss: 0.9231 - val_accuracy: 0.8427\n"
          ]
        }
      ]
    },
    {
      "cell_type": "code",
      "source": [
        "model.save_weights('translator.h5')"
      ],
      "metadata": {
        "id": "eolynUjSq9cB"
      },
      "execution_count": null,
      "outputs": []
    },
    {
      "cell_type": "markdown",
      "source": [
        "### Analysis of the results"
      ],
      "metadata": {
        "id": "HXZ3u3fzjcKl"
      }
    },
    {
      "cell_type": "code",
      "source": [
        "import matplotlib.pyplot as plt\n",
        "def plot_history(training_history, n_epochs):\n",
        "    epochs = range(1,n_epochs+1)\n",
        "\n",
        "    plt.plot(epochs, training_history.history['loss'], label='train_loss')\n",
        "    plt.plot(epochs, training_history.history['val_loss'], label='val_loss')\n",
        "    plt.legend()\n",
        "    plt.grid()\n",
        "    plt.xlabel('Number of epochs')\n",
        "    plt.title('Loss')\n",
        "\n",
        "    plt.figure()\n",
        "    plt.plot(epochs, training_history.history['accuracy'], label='train_accuracy')\n",
        "    plt.plot(epochs, training_history.history['val_accuracy'], label='val_accuracy')\n",
        "    plt.legend()\n",
        "    plt.grid()\n",
        "    plt.xlabel('Number of epochs')\n",
        "    plt.title('Accuracy')"
      ],
      "metadata": {
        "id": "MkD-9BSkjrbJ"
      },
      "execution_count": null,
      "outputs": []
    },
    {
      "cell_type": "code",
      "source": [
        "plot_history(hist, 100)"
      ],
      "metadata": {
        "colab": {
          "base_uri": "https://localhost:8080/",
          "height": 573
        },
        "id": "H8LuIVpEjsXq",
        "outputId": "98583a38-8403-46cf-a89b-466cfac68557"
      },
      "execution_count": null,
      "outputs": [
        {
          "output_type": "display_data",
          "data": {
            "text/plain": [
              "<Figure size 432x288 with 1 Axes>"
            ],
            "image/png": "[encoded data removed]"
          },
          "metadata": {
            "needs_background": "light"
          }
        },
        {
          "output_type": "display_data",
          "data": {
            "text/plain": [
              "<Figure size 432x288 with 1 Axes>"
            ],
            "image/png": "[encoded data removed]"
          },
          "metadata": {
            "needs_background": "light"
          }
        }
      ]
    },
    {
      "cell_type": "markdown",
      "source": [
        "**Pretty bad results!!! Pretty sever overfitting!!!**"
      ],
      "metadata": {
        "id": "6NlsdXUkaWeA"
      }
    },
    {
      "cell_type": "markdown",
      "source": [
        "## PERFORM TRANSLATION\n",
        "Let's now perform some translation. Namely, let's see how we generate an italian sentence.\n",
        "\n",
        "Testing time.\n",
        "\n",
        "Actually, we have already explained this, at the beginning of the description about the LSTM decoder. We have already discussed about the auto-regressive generation of the decoder. \n",
        "\n",
        "Let's now implement this."
      ],
      "metadata": {
        "id": "xF-JYP7Lju_C"
      }
    },
    {
      "cell_type": "markdown",
      "source": [
        "### Idea\n",
        "We have an english sentence $x$: $X_1,...,X_N$. We want to generate the corresponding (predicted) italian sentence $\\hat{y}$: $\\hat{Y}_1,...,\\hat{Y}_T$, where $T$ is variable.\n",
        "1. We start with only $\\hat{Y}_1$, which is the START character (i.e. '\\t'). We give $[X_1...X_N, \\hat{Y}_1]$ in input to the model. We get the categorical distribution $\\hat{Y}_2$:as next character $\\hat{Y}_2$ we take the character with the biggest probability. Now, the italian sentence is $\\hat{Y}_1,\\hat{Y}_2$.\n",
        "2. We give $[X_1...X_N, \\hat{Y}_1\\hat{Y}_2]$ in input to the model. We get the categorical distribution $\\hat{Y}_3$:as next character $\\hat{Y}_3$ we take the character with the biggest probability. Now, the italian sentence is $\\hat{Y}_1,\\hat{Y}_2,\\hat{Y}_3$.\n",
        "\n",
        "...\n",
        "\n",
        "We continue like that, until: either we generate the STOP character '\\n'; or we exceed the maximum $M$ characters."
      ],
      "metadata": {
        "id": "1n6bEC61kNLW"
      }
    },
    {
      "cell_type": "markdown",
      "source": [
        "### Implementation"
      ],
      "metadata": {
        "id": "79Y2nkzgleP2"
      }
    },
    {
      "cell_type": "code",
      "source": [
        "def translate(english_sentence):\n",
        "  \"\"\" Translates the given english sentence \"\"\"\n",
        "\n",
        "  x = oneHotEncode_english(english_sentence)\n",
        "\n",
        "  # One-hot encoding of the generated italian sentence.\n",
        "  # At the beginning it contains only the character '\\t'.\n",
        "  y_hat = np.zeros((1,1,m))\n",
        "  y_hat[0, 0, italian_char2index['\\t']] = 1.0\n",
        "\n",
        "  # Generated italian sentence, as a string\n",
        "  # At the beginning, empty string.\n",
        "  italian_sentence = ''\n",
        "\n",
        "  stop_condition = False\n",
        "\n",
        "  while not stop_condition:\n",
        "    # Outputs of the model: one cat distribution for each character in y_hat\n",
        "    cat_distributions = model.predict([x,y_hat])\n",
        "    # We are interested only in the last output, which is the cat distribution for the next italian character\n",
        "    cat_distribution = cat_distributions[0,-1,:]\n",
        "\n",
        "    # Index of the next generated italian character\n",
        "    char_index = np.argmax(cat_distribution)\n",
        "    # Generated italian character\n",
        "    char = italian_index2char[char_index]\n",
        "\n",
        "    # Update the italian sentence\n",
        "    italian_sentence += char\n",
        "    \n",
        "    if char=='\\n' or len(italian_sentence)>M:\n",
        "      stop_condition = True\n",
        "\n",
        "    # One-hot encoding of the generated italian character\n",
        "    char_oneHotEncoding = np.zeros((1,1,m))\n",
        "    char_oneHotEncoding[0,0,char_index] = 1.0\n",
        "\n",
        "    # Update y_hat\n",
        "    y_hat = np.append(y_hat, char_oneHotEncoding, axis=1)\n",
        "\n",
        "  return italian_sentence"
      ],
      "metadata": {
        "id": "89ldMOkzkMpw"
      },
      "execution_count": 47,
      "outputs": []
    },
    {
      "cell_type": "markdown",
      "source": [
        "### Translation"
      ],
      "metadata": {
        "id": "fzNWSbC2oFzc"
      }
    },
    {
      "cell_type": "code",
      "source": [
        "translate('Run!')"
      ],
      "metadata": {
        "colab": {
          "base_uri": "https://localhost:8080/",
          "height": 36
        },
        "id": "f4sb4D-1oHmE",
        "outputId": "c48b4005-50e3-4b9f-b1a7-84dd721d0e2a"
      },
      "execution_count": null,
      "outputs": [
        {
          "output_type": "execute_result",
          "data": {
            "text/plain": [
              "'Corri!\\n'"
            ],
            "application/vnd.google.colaboratory.intrinsic+json": {
              "type": "string"
            }
          },
          "metadata": {},
          "execution_count": 266
        }
      ]
    },
    {
      "cell_type": "code",
      "source": [
        "translate('Wow!')"
      ],
      "metadata": {
        "colab": {
          "base_uri": "https://localhost:8080/",
          "height": 36
        },
        "id": "PVpSnVproNxr",
        "outputId": "7a13cb1a-1efa-4d41-94a4-3972ca0779ab"
      },
      "execution_count": null,
      "outputs": [
        {
          "output_type": "execute_result",
          "data": {
            "text/plain": [
              "'Wow!\\n'"
            ],
            "application/vnd.google.colaboratory.intrinsic+json": {
              "type": "string"
            }
          },
          "metadata": {},
          "execution_count": 267
        }
      ]
    },
    {
      "cell_type": "code",
      "source": [
        "translate('Duck!')"
      ],
      "metadata": {
        "colab": {
          "base_uri": "https://localhost:8080/",
          "height": 36
        },
        "id": "GiogL1I0oOLi",
        "outputId": "97588a95-43b4-4cf1-d4d4-c4894603f96c"
      },
      "execution_count": null,
      "outputs": [
        {
          "output_type": "execute_result",
          "data": {
            "text/plain": [
              "'Si tuffi!\\n'"
            ],
            "application/vnd.google.colaboratory.intrinsic+json": {
              "type": "string"
            }
          },
          "metadata": {},
          "execution_count": 268
        }
      ]
    },
    {
      "cell_type": "markdown",
      "source": [
        "**Pretty bad results!!!**"
      ],
      "metadata": {
        "id": "-BBTZRA_43kB"
      }
    },
    {
      "cell_type": "markdown",
      "source": [
        "## MORE EFFICIENT TRANSLATION\n",
        "The way we have used for translating (i.e. for generating italian text) works, but it is inefficient. Indeed, it performs several repeated computations. We have already seen this problem, and how to solve it, in the example  $3$  (language model).\n",
        "\n",
        "Let's describe that briefly. We are generating an italian sentence, in an autoregressive fashion. We give to the decoder the whole italian sentence generated so far, namely $X^{'}_1, ..., X^{'}_T$, for generating the next character, namely $X^{'}_{T+1}$. In doing that, we are producing not only the last output $h^{'}_T$, but also all the previous outputs $h^{'}_1, ..., h^{'}_{T-1}$. And we do this for generating each italian character $X^{'}_{T+1}$: each time we compute also all the previous outputs. A lot of repeated computations. \n",
        "\n",
        "Let's see an example, for generating the italian sentence \"Mi piace la pizza\". First of all, high level point of view. $h_N, C_N$ come from the encoder. \n",
        "\n",
        "![image.png](data:image/png;base64,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)\n",
        "\n",
        "Now lower level point of view. $A^{'}$ denotes the LSTM module of the decoder.\n",
        "\n",
        "![image.png](data:image/png;base64,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)"
      ],
      "metadata": {
        "id": "2_oPdCbE3g5h"
      }
    },
    {
      "cell_type": "markdown",
      "source": [
        "We would like that, for generating the next italian character, we compute only the last output, and not also all the previous outputs. This can be easily done.\n",
        "\n",
        "For generating the next italian character $X^{'}_{T+1}$, we give to the decoder only the last generated character $X^{'}_{T}$. So, we use only one LSTM decoder module $A^{'}$. \n",
        "\n",
        "In addition, instead of setting as initial states of the decoder the encoding coming from the LSTM encoer (i.e. $h_N, C_N$), we set as initial states the states coming from the generation of the last character $X_{T}$, namely $h^{'}_{T}, C^{'}_T$. \n",
        "\n",
        "![image.png](data:image/png;base64,iVBORw0KGgoAAAANSUhEUgAAA5sAAAD2CAIAAADXiwReAAAAAXNSR0IArs4c6QAAIABJREFUeJzt3X1cjff/B/DPUbo/oXMKlRxtKUSpJKKipsbIhsmSYbpxM8385iZ3WS2JSXOXZhpphbWRLfMV0g1mJYwpTSkhuuVURxyd3x/XvufbonRzOtd1nfN6PvbwqOvm83lfn89nV+8+XedzcSQSCQF4LTs7uiNQGtnZdEfQlTCQ5IYJAwndLTdM6G4AxlClOwBgNtwx5UAZMgAMJDlgzkBCd8sBc7obgBm60R0AAAAAAECnIKMFAAAAAHZDRgsAAAAA7IaMFgAAAADYDRktAAAAALAbMloAAAAAYDdktAAAAADAbshoAQAAAIDdkNFC+23aROzs/vffpk2yLLyqikyfTi5e7EwZlZWVAQEBpaWlAQEBWVlZrx6Qn5+/YsWK0tLSWbNm5efnd6YuaAfGjxxKfHx8fHx8VlZWQECASCSSbg8JCcnKyoqPjw8JCel8LUqHJb3f7O5BDYNr167hjgHAcMhooUOmTSPZ2SQ7m2RkkLIyGf9wkh1dXV0+n9/KAT169Gj9AJAxlowcipGRkaam5qvbTU1N5R+MImBV77/27oE7BgBjIaOFztHUJIsXk+xscvs2IYTcvk3c3IidHZk+nVRV/XOMdGNgIKFmvC5e/GeeRrpFJCKBgcTOjmzc+L/CXy3t4kUybRpxc/vfia+jpaVlY2PD4/HMzMyoHz9ZWVkcDofD4VCzbnw+38zMjMfj2djYaGlpdU3TQKsYOXIoAoFAIBDw+fxhw4Y13T5s2DA+n0/tlVErKCsG9/6rdw9CCO4YAMyHjBY6rV8/YmxMKitJVRUJCiIhISQ7m9jako0biUhEqqpIeDjZvZtkZ5M+fcjx4+T2bbJuHdmxg2RkEELI9u3/+zcjg3h5kbt3CSGvL40Q8uQJ2b2bREWR102eUTQ1Nf38/DQ1NX19fXk8Xn5+/pdffpmXl1dfX08I2bp1K4/H8/X1lR7W5U0Er8W8kUNxdHR0dHQ0Nzf39PRsut3T09Pc3JzaK/vWUDZM7f1mdw9qo56eHu4YAAyHjBZkh3q8zNycEEKmTSNCIRGJSH4+4XJJv36EELJ6NfHyIpWVZMgQYm1NNDWJlxfJySEPHpCyMuLlRTQ1ibU1odKF15ZGCOnZk7Tzr37Z2dkDBgwwMTHR1NT08fG5f/++6E3zNCBXTB05IA/ofQCQBVW6AwD2E4nI/fv/fH33Lpkw4Z+ve/YkFRWkuLj58U238HhEV5c8e/a/Epp6tTRCiJHRG2dZXrV37969e/dSX7u7u9fX12OihX5sGDnQVdD7ACBTyGih0yoqiERCeDxSWUkcHUl4+L9+clRWNv8Acv/+/9tSWUmePiUaGsTI6DUlv1paRz/L/OWXX65bt65j50JXYcPIga6C3gcAmcJTB9A5IhHZtYvY2ZGBA4m5Obl/n1y9SgghiYn/fCyDxyOlpeTePUII2bSJbNpEeDxy8ya5epWIRCQxkdjaEkNDMmoUSUwkIhG5epVQ6229trQOsbOzy8zMpNbcCQkJabYkE9CDDSMHugp6HwBkDXO00CFJSSQp6Z+vp00jq1cTQoieHgkLI4sWkZoa0rMn2b2b6OkRPT3yf/9HPvqIkCZzJyEh5NNP/9ny2WeEEOLpSS5eJGPHEkdH4u7eYmkdYm5uvn79egsLC0KIu7t7fHw8HjmgDatGDsgYeh8AugxHIpHQHQMwlZ0dyc6mOwgloPDtrPAXyBAMaWeGhKHw0M4A/4anDgAAAACA3ZDRAgAAAAC7IaMFAAAAAHZDRgsAAAAA7IaMFgAAAADYDRktAAAAALAbMloAAAAAYDdktAAAAADAbshoAQAAAIDdkNECAAAAALshowUAAAAAdkNGC8pCKBROnz5dKBTSHQiwDEaOMkPvA7AFMlpQFmFhYcnJyWFhYXQHAiyDkaPM0PsAbMGRSCR0xwBMZWdHsrPpDkI2hEKhvr5+Q0ODurp6eXk5l8ulO6ImFKidX4/NF8jokdMMQ9qZIWHIAqN7X4HaGUAmMEcLSiEsLIz65U0ikWC6BdoOI0eZofcBWARztNAyRZkDkE60UN8ybrpFUdq5Ray9QKaPnGYY0s4MCaPTmN77itLOALKCOVpQfNKJFgqmW6CNMHKUGXofgF0wRwstU4g5AKFQyOPxVFRUtLS0qqqqeDxefX29WCyurKxkynSLQrRza9h5gSwYOc0wpJ0ZEkbnsKD3FaKdAWQIc7Sg4GJiYlRUVMLDwysrKwkhFRUVmzZtUlFRiYmJoTs0YDSMHGWG3gdgHczRQssUbg6Aw2HkgFe4dm6O/RfI0JHTDEPamSFhyA5De1/h2hmgkzBHCwAAAADshowWAAAAANgNGS0AAAAAsBsyWgAAAABgN2S0AAAAAMBuyGgBAAAAgN2Q0QIAAAAAuyGjBQAAAAB2Q0YLAAAAAOyGjBYAAAAA2A0ZLQAAAACwGzJaAAAAAGA3ZLQAAAAAwG7IaAEAAACA3ZDRAgAAAAC7IaMFAAAAAHZDRgsAAAAA7IaMFgAAAADYDRktAAAAALAbMloAAAAAYDdktAAAAADAbshoAQAAAIDdkNECAAAAALshowUAAAAAdkNGCwAAAADshowWAAAAANgNGS0AAAAAsBsyWgAAAABgN2S0AAAAAMBuyGgBAAAAgN1U6Q4AoH04HA5dp0skks5UDfTCyFFm6H0AhYeMFtiHlp8QnfyJCEzQ4ZHD4XA6c27HTgTZwn0DQLHhqQMAAAAAYDdktAAAAADAbshoAQAAAIDdkNECALzBhg0b6A4BAABag4wWGOrrr78WCoV0RwHs0xUjJzg4WLYFQhfBfQNagrGh8JDRAkOtXbuWx+OtXr0a9yBoF4wcZYbeh5ZgbCg8ZLTAUOHh4SoqKtu2bdPX18c9CNoOI0eZofehJRgbCq/jiyyC4rOzI9nZNNbP4/GqqqoIIWpqahwOZ9myZUFBQbq6unStK9lV9dLdzl1O7heoLCOnGYYMJLrDUJbep7ud2ei1Y4PL5dIdF8iIBBiPrk+lSGxtaam3Jd27d582bRqhadDSffUsRvtAwshRZora+7T/b6UAqLFBy8CAroA5WmgZ3XMAfD6/srKSYK6F7eR+gcoycpphyECiOwxl6X2625mNXjs2MEerMPAWXGCoqKio+vp63HegvTBylBl6H1qCsaHwMEcLLaN1DkBTU/Ply5fLly9vdt+R34zXv2GupePke4FKNHKaYchAwn2jCdw3mKOlsQEKA3O0wFChoaF+fn6470B7YeQoM/Q+tARjQ+Fh9S5gqOXLl8vq1iMSiQICAkJCQqRbQkJC4uPjZVI4MA1GjjJD70NLZDg2gJmQ0YLiu3LlCiHk/v371GcCANoII0eZofcB2AUZLSi+s2fP+vj4GBkZ/fbbb9QWU1NTgUBAb1TAfBg5ygy9D8AuyGhBwVVWVt6/f9/CwuLDDz+8du2aSCQihHh7ezs6OtIdGjAaRo4yQ+8DsE6nMtrg4GAOhxMcHCyT7Rs3buyicjZu3CiT7cBGeXl5RkZGPB7PxMSEEFJSUkJ3RMAOGDnKDL0PwDqdymg5HI70385sp8hqiZNXy6G2dH47sNHZs2fXr1/P4XC0tLS2bNmSjfVuoG0wcpQZeh+AfeT5gjJgGVtbuiN4jXYN2ry8vAkTJuTl5Um/9fLyqqio6Op624eR7SxLzLhABRw5zTCjnZkSxr8pYO8zsp0BaITnaEGRZWdnDxgwgPq7ISGEz+dXV1fn5eXRGxUwH0aOMkPvA7ARMlpQWCKRKCMjY+zYsZqamtQWHo/n6OgYFxdHfc4D4LUwcpQZeh+ApfAWXGgZI9+yiLdZsg8zLlABR04zzGhnpoTxbwrY+4xsZwAaYY4WAAAAANgNGS0w1Ndffy0UCumOAtgHI0eZofehJRgbCg8ZLTDU2rVreTze6tWrcQ+CdsHIUWbofWgJxobCQ0YLDBUeHq6iorJt2zZ9fX3cg6DtMHKUGXofWoKxofDwyTBoGd2fPODxeFVVVYQQNTU1DoezbNmyoKAgXV1dfMKDZeR+gcoycpphyECiOwxl6X2625mNXjs2uFwuLcGkpaWlpaW5uLi4uLgo+fbz5887Ozt3cjsheMMCG2zYsKF5t8mFxNaWlnpb0r1792nTphGaBi3dV89itA8kJRk5tLczhSFhSClq7zOtndmIGhu0DAzJf3+yb9iwoV3bg4OD23h8cHBwK8e/up06vr31Mme7RCJRpWMUQfsEBwdTQ03e7OwktGZyfD6/srKS/Pv36aSkJLri6arWUPi5FrkPJGUZOc3Q/T8sQ8JQlt6nu53Z6LVjg65gXFxcOByOs7Nz57dL/23K2dl5w4YNLR3/6nbq+FfLael4pm0nBHO00Apa37K4fft2TU1NNTU1dXX1VatWPX36lNpO16DtwnoV/m2W8r1AJRo5zTBkIOG+0QTuG8zR0tgAhYHnaKFltM4dampqvnz5cvny5c2ec8JK6ewj3wtUopHTDEMGEu4bTeC+wRwtjQ1QGHjqABgqNDTUz88P9x1oL4wcZYbeh5ZgbCg8zNFCyxg5B4C5FvZhxgUq4MhphhntzJQw/k0Be5+R7QxAI6xHCwAAAADshowWAAAAANgNGS0AAAAAsBsyWgAAAABgN6x1AOzD4XDoDgFYCSNHmaH3ARQb5miBZTq89vLTp0+nTZvWmVW16b506BSMHGWG3gdQeMhoQVmEhYUlJyeHhYXRHQiwDEaOMkPvA7AF1qOFlinQeodCoVBfX7+hoUFdXb28vJxZi2wrUDu/HpsvkNEjpxmGtDNDwpAFRve+ArUzgExgjhaUQlhYmOS/71jHdAu0HUaOMkPvA7AI5mihZYoyByCdaKG+Zdx0i6K0c4tYe4FMHznNMKSdGRJGpzG99xWlnQFkBXO0oPikEy0UTLdAG2HkKDP0PgC7YI4WWqYQcwBCoZDH46moqGhpaVVVVfF4vPr6erFYXFlZyZTpFoVo59aw8wJZMHKaYUg7MySMzmFB7ytEOwPIEOZoQcHFxMSoqKiEh4dXVlYSQioqKjZt2qSiohITE0N3aMBoGDnKDL0PwDqYo4WWKdwcAIfDyAGvcO3cHPsvkKEjpxmGtDNDwpAdhva+wrUzQCdhjhYAAAAA2A0ZLQAAAACwGzJaAAAAAGA3ZLQAAAAAwG7IaAEAAACA3ZDRAgAAAAC7IaMFAAAAAHZDRgsAAAAA7IaMFgAAAADYDRktAAAAALAbMloAAAAAYDdVugNot2fPnhUVFZWVldXU1IhEosbGxu7du3O5XD6fb2RkZGRkRHeAAAAAACBX7Mho8/PzU1NTMzMzc3Jy7t69a2pq2rdv3169emlqanbr1u358+dCobCioqK0tLSmpmbQoEHW1tb29vZjxowZMmQI3bEDAAAAQNdidEZbVVUVGxubmJhYVlbm7u7+7rvvrl+/ftCgQa2cUltb+9dff+Xm5l66dCkiIkIikUycOHHKlCkTJkyQW9gAAAAAIE8MfY62tLR02bJlBgYGN2/eDA8Pv3fv3r59++bMmdN6OksI0dHRsbe39/f3j42NvXPnzokTJ/r167dhw4b+/fsHBQXl5+fLJ34AAAAAkBsmZrShoaECgUBVVbWkpGT//v2urq4dLmrIkCErV668ePHiiRMnXrx44ejoOH369LNnz8owWgAAAACgF7My2qysrBEjRty4cePWrVtbtmwxNDSUVcnDhg3bsmVLeXm5q6vrkiVLJk6cmJaWJqvCAQAAAIBGDMpoo6KiJkyYsHjx4sTERDMzs66ogsPhLFy48K+//po6deq8efPmzJlTVFTUFRUBAAAAgNwwJaMNDAxMSEjIzs6eO3euHKrz8/MrKioyNTU1Nzfftm2bHGoEAAAAgC7CiIx2wYIFxcXFGRkZb/zgl2wFBwfn5uampqa6u7vjQ2MAAAAALEV/RhsYGFhRUXHs2LHu3bvLv/YhQ4akpKS88847NjY2cXFx8g8A5GnDhg10hwCshJGjzND7AKzAkUgkNFYfGRl55MiR9PR0WtLZpjIzM319fadMmbJ58+a2HF9QUFBSUlJeXl5bWysWi1VVVXV0dPT19U1MTLroIWAa2NmR7Gy6g1ACCt/OCn+BDMGQdmZIGAoP7Qzwb3S+YSErK2v9+vXZ2dm0p7OEkDFjxly6dOnjjz/+8MMPExISVFRUmh3w+PHj1NTU9PT0y5cvX79+XSAQmJiYGBgYcLlcVVVVsVgsFAofP35cUlJSXFxsaWlpY2MzatQoZ2dnxUlwAQAAABiJzox22bJlO3bsMDc3pzGGpnr06HHs2LFPP/10/PjxP/74o76+PiGkpqYmISHhxx9//P33393d3Z2dnefNm2dtba2urt5SOQ0NDX/++Wd2dnZ6evrGjRt79erl6en54YcfDh06VI5XAwAAAKAsaHuOdvPmzSYmJvJZ2aBdduzY4eLi4u7unpKS4ufnx+fzMzMzly5dWltbm5SUtHTp0pEjR7aSzhJC1NXV7ezsAgICDh48eO/evZiYmIaGhokTJ7q5uR09elRuFwIAAACgJOiZo62srAwNDb106RIttb/Rxo0bNTU1/fz8Fi1a9PDhQ2qytsMcHBwcHBwiIiISExN37NgRERGxcuXK6dOnyypaAAAAACVHzxxtZGTknDlzhgwZQkvtbbFq1arS0tKgoKBOprNNeXl5paenBwUFhYeHT506NS8vT1YlAwAAACgzGjLahoaGXbt2BQYGyr9qJnj//fezs7MdHR2HDBmya9cuusMBAAAAYD0aMtrY2Nh33nln4MCB8q+aOb744oucnJz4+PgFCxbQHQsAAAAAu9GQ0cbHx8+ZM0f+9TKNtbX1hQsXCCFubm5VVVV0hwMAAADAVvLOaPPz8+/cufPee++18XiJRPL7778vWLBAIBBwOBwLC4vly5ffvXtXekBjY2NqampycnJLJWRlZXE4nKysrM6G3jX27dvn4OAwYcKEhw8f0h0LAAAAACt14VoHRUVFt27dunPnTmlp6ePHj2tqaurq6goLCz09PdtYgkQiSUhICAgIGDx48OzZs7lcbnFxcVJS0q+//hoTE+Pk5EQIqa6u3rp1q4+PT9ddSFcLDQ1VV1efOnXqmTNndHR06A4HAAAAgGVknNHevn375MmT586du3jxopqa2pAhQ95+++1+/foNGjSoZ8+e2traampqzs7ObSytrKwsNjbWx8cnIiJCW1ub2lhaWhoQEBAbG2trayvd2ApHR0d63/TbFuvWrRMKhR999FErk83QLiEhIePHj797925hYeG6deua7Y2PjyeECASCuLi4yMhITU1NOmIExqmsrFyzZs3atWtDQ0N9fHwcHR2bHZCfn//dd98tXbr0iy++CA4OZs4LYkBWWro5tH5LAQDayeapA7FYHB0dPWbMGBcXl5s3b86aNevKlSv37t377bffdu7cuXLlyrlz506dOvWdd95pezpLCHn69Gl5efno0aObZq7GxsaTJ08uKCgoLy/Pz893dXU9derU7Nmzra2t8/Pzs7KyrK2tf/75Zzc3N4FAsH///qZPHVB7L1y4sHbtWoFAwOPx/Pz87t27Jy28qqoqLCyM2rVmzZoLFy5YW1vL54mFiIgINTW11atXy6EupWJqatrKXiMjI6Sz8CpdXV0+n9/KAT169Gj9AGC7lm4Ord9SAIAunc1oJRJJWFhY3759z5w5s3r16gcPHsTExMycOdPIyKjzwRkYGJiamp4/f768vLzpdn9//8zMTIFAYGhouGnTppEjR27YsGHnzp2GhoaEkMLCwtWrV8+YMSMyMnL06NHNynz8+PFnn3325MmTb7/9du3atenp6evXr6+rqyOE1NXVrVu37uDBg4GBgQcPHiwqKlqyZMnjx487fyFtFBMTEx8f/9tvv8mtRgU2bNgwPp8vEAgEAgEhpLKy0sPDg8PheHh4VFZWUtv5fP6wYcPojhQYREtLy8bGhsfjmZmZUQkr9Ssxh8MJCAgQiUR8Pt/MzIzH49nY2GhpadEdL8heSzeHZrcUAGAcSSckJCQMGDDAx8fn+vXrnSmnFRcuXLCysuJyuVOnTo2Ojs7NzW1oaGh6QEVFhbu7+6FDh6hvMzMzCSG7d+9ubGxsuiUzM1P6dUhIyIsXL6i9hw4dsrKyysvLk0gkSUlJ/fv3T0tLo3bV1tYuWrRIeq58HD582MrKSm7VvYGtLd0RyEZ9fT31W5BEIjl06NCXX35Jd0T/pijt3CLWXmBeXt6ECRPy8vKoIcS4kdMMQ9qZIWEoPLQzwL91cI62oaHB19d306ZN0dHRBw8eHDp0qOxy7H8ZNWpUenp6TExM9+7dg4KChg8f3rdv3zVr1jSbtW1m2LBhHA6npb1OTk6qqv88QCwQCK5du1ZRUfH8+fPMzEwnJycbGxtql7a29syZM2V4LW3x4YcfDhgwICoqSs71KraSkpInT55YWFgQQry9vfEMHLRRdnb2gAEDTExMNDU1fXx87t+/LxKJ6A4KAABeoyMZbU5Ojr29vbq6+rVr1yZMmCDzmJrR1dX18vI6cuTIo0ePioqK1q5dm5SU5Ovr++jRo44VqKKi8upGsVgsFApNTU2brjbQu3dvKyurDsbdUStXrty2bZucK1VsFRUV1dXVdEcBrLR3714tLS0OhzNmzJi7d+/W19fTHREAALxGuzPa5OTksWPHLlmyZOfOnV0RUCtUVVUFAsGyZcv2799/+fLltLQ0GRb+8uXLhoYGGRbYYQ4ODkOHDj1w4ADdgSgOPp/fq1cvuqMAVmr6pMFvv/3G4/HojggAAF6jfRntkSNHvLy8fvrpJ19f3y4KqKmIiIhx48Y9ePCg2fa+ffuamJiIxWIZ1qWurs7n8wsLC2tra6UbKyoqCgsLZVhLG3388cfUCjIgE3w+v7q6Oi8vjxASHx9PfcSH7qCABezs7DIzM/Pz8wkhISEhGDkAAIzVjoz25MmTc+bMOXnypIeHR9cF1JStrW1OTk5MTAy1FgFFLBanpqaWlJSYmZnJsC41NbUxY8akp6dfuXJFWlFKSopQKJRhLW00Y8aMS5cu4S1issLj8aKiohYvXszhcOLi4r766ius2AVtYW5uvn79egsLC2oFQIwcAADGausbFm7fvj179uyjR4+2a0HZTnJ2dl6zZs2qVau+//77iRMn9u/fXygUpqam/v777+Hh4dRHuFRVVblc7rFjx/r27TtixIjOVOfm5ubm5ubv7+/v729paXno0KHTp0/L6FLazcPD4/Tp03PmzKErAAVjbm5+9epVuqMA9mHFK1oAAKCtc7QLFy4MCgqaPHlyl0bTjKqq6hdffJGWljZu3LizZ8+uWrVqz549JiYmZ8+e/eKLL6j1CnR1db29vfPz86dOnXrz5s3OVKerqxsRETF9+vSoqCgvLy9jY+Po6GgZXUq7OTk5yefNDgAAAABsx2nL9MOWLVsyMzOPHz8uh4AYJT09fcmSJUeOHKEWfpKnixcvBgYGXr58Wc71/oudHcnOpjMAJaHw7azwF8gQDGlnhoSh8NDOAP/25jna8vLy4ODgsLAwOURDr6ioKB8fn8rKSupbsVicnp5uZGREy7suBw8eTH2SCQAAAABa9+bnaLdv3z5//vwhQ4bIIRp6OTo6RkZGfvrpp97e3mpqasnJyUeOHImMjKRlvZ4ePXqoq6uXl5fr6+vLv3YAAAAAFnnzHG1MTMzixYvlEArtbG1tf/rpJ0LInDlzpk2bVlpampiY6OXl1crrx7qUvr5+669GAwAAAADyxjnapKQkGxsb+T9FSgsOh2NjY/PDDz/QHcg/NDQ0GPLSBwAAAAAme8McbUpKypQpU+QTCjTz/Pnz7t270x0FAAAAANO9IaPNyMhwcXGRTyjQTGVlpZ6eHt1RAAAAADBda08dPHny5MGDB8rwmTAGqqurq6mpMTQ0pDkOOzuaAwDFgIGkVNDdACB3rWW0d+/eNTU1lVso0NT169ctLS1pDgKLHYJMYCApFXQ3ANChtacOqquraVm4il6NjY2pqanJyckdOz0rK8va2jo/P7+TYWRlZTk4OHSyEAAAAABl0FpG29jYSNfCVTSqrq7eunWrUCikN4zTp0+PHz+e3hgAAAAAWKG1jFZXV/fp06dyCwWkysrKMjMz33vvPboDAQAAAGCB1jJaExOTu3fvyrCyqqqqsLAwgUDA4/HWrFlz4cIFa2vrrKwsam9DQ0NCQoKDgwOHw3FwcIiOjhaJRNQu6k/5Fy5cWLt2LXW6n5/fvXv3pCW/8dyff/7Zzc1NIBDs37+fEHLv3r3ly5dbWFhwOByBQODv70+Vlp+f7+rqeurUqdmzZ0sfHmilcOqiqKgEAsHevXvFYnHnGyouLm7WrFlYugsAAACgLTgSiaSV3f37909NTTUzM+t8TXV1dStWrDhz5oy/v//AgQPj4+Pz8vLKysqOHj3q6OgoEomCgoJOnjzp7+8/fPjw3NzcvXv3urq6RkREaGtrZ2VlzZgxw9jYeOTIkVOmTLlx48bevXtHjRq1c+dObW3tN5777rvvGhoaLlu2zMDAYNCgQVwu18fHR01NbcGCBb169frjjz+io6Pt7e337t2rqqqamZm5ceNGDw8PNzc3KysrVVXVVgqvrq729/e/fv36smXLjI2NExMTCSF//vnn4cOHzc3NO9xWZmZm33//vaOjY+ebHQAAAEDxSVo1Z86c3bt3t35MGyUlJfXv3z8tLY36tra2dtGiRYSQzMxMiUSSmpo6dOjQnJwc6fHXrl0bOnRoamqqRCLJzMwkhISEhLx48YLae+jQISsrq7y8vDaeu3v37sbGRmrvL7/84uLiQp1L2bdvn7S0iooKd3f3Q4cOUbtaL/zVi/L19ZUW1TH79u3z8PDo8OkAAAAAyuYNb1jw9PT88ccfO583P3/+PDMz08nJycbGhtqira09c+ZMaVadkZH6QVj0AAAW+klEQVRhYGBQVlaW9l/FxcVaWloXLlyQFuLk5KSq+s9yYwKB4Nq1axUVFW08d9iwYdJPuU2aNOncuXNN51AtLCzq6+tffeVs64W/fPkyOzu72UXNmDGjk221efPm5cuXd7IQAAAAAOXR2nq0hJAPPvhg+fLlv//++8iRIztTjVgsFgqFpqamOjo60o29e/e2srIihDx79qysrOzMmTNnzpxpdqKtre2zZ8+or1VUVF4tuY3nvqq2tvbvv/8uKiq6ePFicnJyQUHBq+sbtF7406dPq6qqjI2NtbS0pNv19PQ0NTVbqvSNQkND7ezs3NzcOlwCAAAAgLJ5wxwtIWTp0qVbt27tZDUvX758dQa0GX9///r6+mZzyLt27dLQ0Hhj+e06t7y8/JNPPuFyuU5OTpGRkXV1dd7e3rIqvHv37urq6m8M+LVu3ry5cePGjRs3dux0AAAAAOX05ox22bJlN2/ePHbsWGeqUVdX5/P5hYWFtbW10o0VFRWFhYWEEDU1NT09vfz8/Orq6vaW3N5zJRJJXFxcTk7OhQsXampq0tPTd+3a1dK7DFovnNpbWlpaX18v3fjo0aOampr2XgXls88+i4iIkMnn8AAAAACUx5szWkLI5s2bAwMDy8rKOlyNmpramDFj0tPTr1y5Qm0Ri8UpKSnUH/pVVFRcXV1zcnLOnj0r+e/aC7du3bK3t//uu+9aL7m95z579uz27dsjRoywsrLq1q0bIaShoeHcuXMdKFxFRcXR0TE9Pf2PP/6gdtXV1XU49d+4cePLly+XLVvWsdMBAAAAlNYbnqOlTJ48+cqVK7NmzTp16pSamlrHanJzc3Nzc/P39/f397e0tDx06NDp06elex0cHHx8fBYtWnTt2jUPD4/bt2/HxsYaGhq25S0D7TpXQ0Nj0KBB69at69mzp4eHR3V19YEDB/766y8ul0sdoKqqyuVyjx071rdv3xEjRrReuIuLy6RJkxYtWiS9qIMHD1IPB7eXrq5uenp6dHR0QEBAB04HAAAAUF5tXxbhs88+c3Z2vn//fnvWUviXysrKNWvW9O/fX09PLygo6Pjx4+S/q3dJJJL6+vo9e/ZQH0EzNzdft27d48ePqV3UClzSI1/d0q5z6+vro6KiqLUOnJ2dv//++xs3bowePXrfvn0SiaSxsfHnn38eOnQol8u9ePFi64VLJJLa2trt27ebm5vr6en5+vo2XVasva5cuWJvb+/n59eBcwEAAACU1hvesNBMSEhITEzMzp07PT09O59Mp6enL1my5MiRIxYWFp0vTWHMmzevtLQ0MTGRx+PRHQsAAAAAC7TpOVqpdevW7d69e8WKFR9//DH1hti2i4qK8vHxqayspL4Vi8Xp6elGRkZ8Pr9d5Si82NhYBwcHNze34uJiumMBAAAAYAGV4ODgdp1gbm6+ePHiGzduzJs3Ly8vT09PTyAQtOVEVVXVrVu33rhxQ0NDo7i4+JtvvomNjV2xYoW9vb303QdAGT9+/JMnT1atWuXp6amrq0t3OAAAAACM1r6nDpoSCoUxMTFxcXEikWjKlCnu7u6tvxdAIpHk5uZu3br11KlTL168cHV1Xbp0qbOzM7XgALzqq6+++vXXX9PS0jr8aTwAAAAAZdDxjFYqISEhODi4V69ely5dkklMIBUYGPjo0aPExES6AwEAAABgrs7Oj0ZFRXl7ewcEBCCd7QpRUVHV1dXh4eF0BwIAAADAXJ2ao50/f35BQcHevXsHDx4sw5igqcLCwmHDhp09e9be3p7uWAAAAACYqINztCKR6N133+3WrVtGRgbS2S5lamq6devW1atX0x0IAAAAAEN1MKP94IMPLCws9u3bJ9to4LUCAgJevnx58OBBugMBAAAAYKKOZLR+fn6GhoaRkZEyj6aNysvLFy5cyOPxdHV109LSZFhyVlYWh8OJj4+Pj4/ncDhZWVnSjRwOp+lre6WoIz08PKilduPj462trdu7WO8bBQUFRUREyLZMAAAAAMXQ7ow2Li4uJyfnu+++64po2ujkyZMnT54MCwtLTk62tLSUW73nzp17+fJl0y0ikSgjI0MOVU+YMKFPnz4JCQlyqAsAAACAXdqd0a5fv37Lli1dEUrbFRcXW1hYTJ8+3cXFRbavHFNRUeFyuVwu18DAoNmumTNnXrx48dGjR003lpSU3L59e+zYsdIt3t7eV69eNTc3l2FUFF9f39jYWJkXCwAAAMB27ctoo6OjbW1tx48f37HK7t275+/vLxAIdHV133333dTU1MbGRmpXY2PjuXPn3n//fV1dXYFA8Pnnn9+7d+/VEiorKz08PNavX3/q1Ck+nx8QECASiUQiUXR0tIuLC4fDoUo+e/YstYYDdXx0dPTy5ct79+69cOFCoVDYSoR8Pn/w4MEGBga9e/ceO3Ysj8eT7ho/fnx1dfXNmzebHp+ZmTlw4EAHBwfpli566oAQMnPmzNzc3MLCQpmXDAAAAMBq7ctof/jhh3nz5nWspsePHy9ZsuTx48eRkZFJSUkDBgz44IMPzp07RwiRSCSJiYmenp59+/ZNSkrauHFjZmbmjBkzbt261awQHR2d4OBgX1/fkSNHJicnBwQEdOvWLTQ0dPv27Z6enufOndu1a9ezZ8/mz5+fk5MjPevLL7+USCQHDhzw9PTU0dFp+oxsM7169TI1NeXz+Xw+/6233mqa0b799tvOzs5NHzyoq6vLzMwcO3Ysl8vtWJu01+TJk1NSUuRTFwAAAABbqLb90Jqamuzs7EmTJnWspoKCgqKioiNHjlhYWBBC7O3t6+rqcnJyxo0bV1xc/M0336xYsWLVqlWqqqqEkHHjxs2dOzchIWHDhg0qKirSQtTV1R0cHE6fPl1SUjJ69Ggej3f37t3r16+vW7fO29ubOsbGxmbGjBn5+fl2dnbUlvHjx2/YsKFHjx5vDJLH4/3www/U183+xK+uru7s7Lxjx45Hjx4ZGhoSQu7evVtcXGxnZye3eVNXV9fjx48vWbJEPtUBAAAAsEI75mivX79uY2PT4Zp69uwpFotjYmIKCwsbGxt79Ohx4MCBFStWdOvW7c8//6yqqpoyZQqVzhJC+vXr995772VkZDR7bvVVAoHgxIkT0nSWENKnTx8TE5Pa2lrpFnNz86bprLe3t0QicXR0bO8lDB8+XCQSSR88uHTp0tChQwUCQXvL6bARI0Y0nXsGAAAAANKujPbhw4fGxsYdrsnc3PzTTz89cODAW2+9NXjw4OXLl+fk5FDP0QqFQiMjo6af8eJwOL17966urm79sVep58+fFxUVnT59OiIiYubMmadOnXr8+HGHQ22JoaHhyJEjqQcPhELh+fPnnZ2d1dXVZV5RSwYOHFhSUvL8+XO51QgAAADAfO3IaJ88edKWP9y3RFVVdeHChUVFRb/88ouDg0NSUpKdnd2WLVvEYnGHyySEiMXiPXv29O3b19TUdOXKlbm5uRMmTBg5cmRnymwJ9eABteJBUVHRw4cPhw8f3hUVtaJ3795dkawDAAAAsFc7nqN9+fJl00daO0ZXV3fSpEmTJk0SiURbtmxJTk728vLicrn379+vqKignk8lhEgkkkePHunr6+vp6bVe4JUrV0JCQsLCwubMmaOpqUkIefDgwcmTJzsZZ0uGDx/+/PnzW7du/f3334MHD5YGLDdaWloikUjOlQIAAAAwWTvmaHV0dNr4DMBrJSYmvvPOO0VFRdS3Ghoa+vr61NdDhw7V09NLTk6Wztfeu3fvl19+sbGxeeOscEFBAZ/Pd3Z2ptJZiURy7dq1rnvY1NDQ0M7O7ueffz537pyrq6s8HzmgPH/+XE1NTc6VAgAAADBZO+ZoDQ0N79+/3+GabG1tt2/fvnDhQm9vb0NDwz/++CM6Onrx4sXGxsbdunVbunRpQEDAgwcP3n///QcPHuzatatbt25z5859Y/Zmbm7+9OnTL774wtfXV1NT89dffz1x4oSOjk4rp8THx8+ePTszM7MDHw6jHjyYNm3a6NGjrays2nt655WXl8v2pRIAAAAAbNeOOVoLC4tm7xdoFzMzs7i4OGNj43Xr1rm5uR07dmzTpk1Lly5VUVHhcDheXl7Hjx9/+PDhtGnTNmzY4Obm9tNPPw0aNOiNxdra2u7fv18kEnl6en766afa2tqnTp3y8vIqLCysq6vrcLStGD58+MiRI0eOHNm3b9+uKL8VJSUlPXv21NbWlnO9AAAAAEzGod6t1UZvv/32sWPHLC0tuy4gaMXRo0cPHTp0/PhxugMBAAAAYJD2vTPM3d39119/7aJQ4I1SUlLc3NzojgIAAACAWdo3R5uWlhYYGHjt2rWuCwhaUlNT07t37+Li4j59+tAdCwAAAACDtG+O1sXFRUtL69ixY10UDbTi66+/njt3LtJZAAAAgGbaN0dLCDl8+PD27dsvXrzYRQHBa129enXkyJH5+fnyfOkuAAAAACu0b46WEDJz5sxevXpFRkZ2RTTwWhKJZOHChdu2bUM6CwAAAPCqds/REkJu3LhhZWX1xx9/2NjYdEVM0Mz06dN79+69a9cuugMBAAAAYKJ2z9ESQiwtLffs2fPJJ5900YKvIEWts8vlcpHOAgAAALSkIxktIcTPz8/V1dXLy0u20XRYfHy8tbV1fn5+h0sQiUQBAQEeHh63b9/28PAICAgQiUQyjLADLly4YG9vb2ZmFhsbS28kAAAAAEzWwYyWELJ161YDA4MZM2bIMBqQCg4Ofvfdd5cvX75161a6YwEAAABgtI5ntISQ7777rmfPnh4eHpWVlbIKqGO8vb2vXr1qbm7e4RI4HI6KigqXy9XS0jIwMJBhbO1SV1cXGRnZv3//O3fu/Pnnn3PnzqUrEgAAAAC26FRGSwj59ttv7ezsRo0adfbsWZkE1JL4+HgPD4+rV6/Onz9fV1fXwcEhISGhoaFBurfpUwd//vnnggULBAIBh8OxsLBYv359VVWVtKiqqqrw8HALCwsOh+Pm5vbTTz+JxWINDQ1jY2MDA4NevXoZGxv36dNHQ0OjS6+oqaqqqsOHD8+ePbtXr145OTkJCQlxcXEmJiZyCwAAAACAvVQ7X0RoaKilpeWHH37o5+cXGhrarVtns+SW5OXlzZ8/39XVNSkpKSMjw9/fv7S09PPPP1dRUWl62PXr1728vKytrXft2qWmpnbmzJnt27fX19d/9dVX6urqjx498vf3z8vL8/f3t7S0TE5OXrhw4fPnz728vKgMUltbu3///pqamhwOR+aX8OLFi9ra2urq6kePHt27d+/OnTt//fVXbm5uSUnJuHHjPDw8vv766969e8u8XgAAAAAFJoOMlhDi5eXl4uKyevVqU1PTVatWBQQEtLeEixcvrl+/3tLSspWVbouLixcuXLh8+XJVVVU3N7d+/fpFRkZOnDhxyJAhTQ/LyMiwtLTcvn079fDA+PHj1dTULl++XFtbq66u/ssvv9y+ffvIkSPDhg0jhIwbN65Hjx7nz5+fNGmSt7c3VYK/v397429dQUHBwIEDu3Xrpq6urq2t3bNnTwMDAyMjowEDBowfP/6zzz6ztbWVbY0AAAAAykNm86l9+vSJjY09ePDgyZMnTUxMgoOD27jyQGZmpre39/Tp0ydMmLB///7c3NyWjrSyspo6daqqqiohhMPhODk5qamp3bhxo9lhixcvPnLkiPRZWBUVFXNz84aGhoaGhmfPnl25csXJycnMzIzaq6qqGhoaumfPHi6X25HLbpuVK1eGhoa+ePGivr6+vLy8oKAgKyvryJEjmzdvnjdvHtJZAAAAgM6QzRytlJOTk5OT05UrVw4ePDhu3DgjIyN3d3cnJycrK6umf0yvqKi4du3a+fPnT5w40dDQsGDBggMHDqiqqqqrq69evfq33357beF9+vTh8/nSb/l8fp8+fW7fvv3qkRKJpKam5u+//y4oKMjMzExJSenZs6dQKNTU1CwuLh45cqSmpqZsL7wVu3btqqioWLNmjdxqBAAAAFAqXfLMq42Nzfbt2x88eECtPBUeHm5paamjo2NsbNyvXz9dXd2BAwd++eWXYrE4Kirqr7/++vzzz6mZ16VLlzY2Nm7btq3tdVEnNlVQUDBlyhQ9PT0PD499+/b17Nnz/fffp3Y1NjaKxWIZXWWbXL58eenSpTt27JBnpQAAAABKRcZztM04Ozs7OztTX9fW1j558kQikejq6urq6rZ0yjfffGNjY2Nvbz9mzJhmu4RCYW1tLY/Ho76tqKgoKytr9hBtQ0PDzp07X7x4kZ+fb2ZmRn26a+/evefOnSOEaGtrv/XWW/fv3xeJRNJp2sOHDx8+fHjHjh1GRkYyuu5/PHnyZP78+d9++62VlZVsSwYAAAAAqa5al+BVOjo6RkZGxsbGraSzhBALC4uYmJh58+Y9evSo2a4LFy5kZGRIJBJCSGNjY0pKioaGxtChQ5seU1tbm5+f7+DgIE1na2pqsrKyqL0aGho2Njbp6ekFBQXUlrq6ujNnzhgYGOjp6cnqSqVmzZo1efLk+fPny7xkAAAAAJDq2jnajpk9e/bff/89a9as1NTUZmuBBQYGFhYWjho16j//+c/BgwcjIyMFAkHTA3R0dCwtLXfs2KGhoeHg4FBcXPzdd9+VlZVpaWlRB7z33nsnTpyYM2dOYGCgsbHxoUOHzp8/Hx8fL/Mnaz/66KM+ffps2rRJtsUCAAAAQDPym6Ntl+Dg4MGDB0+dOrXpRisrq9jY2Bs3bkybNi03Nzc+Pt7Ly6vZqrHq6upBQUELFy6Mjo6eMmVKYmLiypUrv//++5qamtLSUkJI79699+/f7+XltXnz5mnTpolEomPHjjk6Oso2/o8++ojD4ezfv1+2xQIAAADAqzjUH/GZKSAgoKSk5OjRo9ra2vHx8Vu2bDl8+HBnXnUrB0+fPp01axaVN9MdCwAAAIBSYOgcLSU6OnrIkCEuLi55eXl0x9Im2dnZjo6OQ4cORToLAAAAIDeMzmgJIVu2bJk9e7aDg8Pvv/9OdyxvsGfPnhEjRgQGBoaHh9MdCwAAAIASYeInw5oJDAy0tLScPXu2WCx+/vw53eG8xp07d1auXFlWVnblypXhw4fTHQ4AAACAcmH6HC3F1dW1qKhoxowZkydPjouLozucfwkNDR04cODw4cMzMzORzgIAAADIHzsyWkKIhobG7t279+3bt3fv3nHjxqWkpNAdEfnmm29MTEzy8/Nv3bqFl9wCAAAA0IXRax20JC4ubtu2bVwud/HixTNnzpRz7WVlZTExMXv27BkzZsyyZctGjx4t5wAAAAAAoClWZrSUo0eP7tmzp7i4+OOPP/b29n7rrbe6usaUlJT4+PijR49+8sknAQEBeLctAAAAABOwOKOl/PHHHwcPHkxMTLS0tPT09Jw4ceLAgQNlWL5YLP7Pf/7z66+/Hjt2bMCAAbNmzfLx8Wn9Rb4AAAAAIE+sz2ilTpw4ceLEiZMnT2prazs5OY0ePdrOzs7S0rIDRZWVleXm5l6+fDkrKystLc3R0XHixIlTpkxh+MsdAAAAAJST4mS0UteuXcvIyLh06VJOTk5hYeGgQYPeeuut/v379+3bV19fv0ePHtra2t27d+dwOGKx+NmzZ0+fPq2qqiorKystLS0qKrp9+7ZYLLa2th4xYsTo0aOdnZ25XC7d1wQAAAAALVLAjLap+vr6vLy8wsLCkpKShw8fVlRUPHnypK6u7sWLFxKJRFVVVUNDg8vl8ng8AwMDY2PjAQMGmJmZGRkZ0R04AAAAALSVgme0AAAAAKDwWLMeLQAAAADAayGjBQAAAAB2Q0YLAAAAAOyGjBYAAAAA2A0ZLQAAAACw2/8DxO2ZBAJaPIEAAAAASUVORK5CYII=) \n",
        "\n",
        "From an high level point of view: ![image.png](data:image/png;base64,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)\n",
        "\n",
        "Of course, for generating the very first italian character, we set as initial states of the decoder the encoding from the LSTM encoder, i.e. $h_N, C_N$.\n",
        "\n",
        "![image.png](data:image/png;base64,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)"
      ],
      "metadata": {
        "id": "CD_gF6TXyfUO"
      }
    },
    {
      "cell_type": "markdown",
      "source": [
        "This way of generating italian text is completely equivalent to the previous one. But it is more efficient, since we avoid a lot of repeated computations."
      ],
      "metadata": {
        "id": "842Z_Rkc5gJ7"
      }
    },
    {
      "cell_type": "markdown",
      "source": [
        "Let's now see how to implement that."
      ],
      "metadata": {
        "id": "BOy4RTmn58yj"
      }
    },
    {
      "cell_type": "markdown",
      "source": [
        "### Different model\n",
        "First of all, we have to define a different model, specific for that generation approach. It has the same weigths (it is already trained)."
      ],
      "metadata": {
        "id": "Bsrd4nEA6HDC"
      }
    },
    {
      "cell_type": "markdown",
      "source": [
        "**Encoder: it is simply the extraction of the LSTM encoder from our model**"
      ],
      "metadata": {
        "id": "rOBcqnT56X28"
      }
    },
    {
      "cell_type": "code",
      "source": [
        "encoder_inputs = model.input[0]\n",
        "encoder_outputs, last_h, last_c = model.layers[2].output\n",
        "encoder_states = [last_h, last_c]\n",
        "encoder_model = Model(encoder_inputs, encoder_states)"
      ],
      "metadata": {
        "id": "SWbsouCX6eCK"
      },
      "execution_count": 50,
      "outputs": []
    },
    {
      "cell_type": "markdown",
      "source": [
        "**Decoder: it is simply the LSTM decoder + dense layer, with the difference that it takes in input also the first h^{'}_0 and the first C^{'}_0.**"
      ],
      "metadata": {
        "id": "MCvVZ8zh6tSa"
      }
    },
    {
      "cell_type": "code",
      "source": [
        "decoder_inputs = model.input[1]\n",
        "decoder_first_h = Input(shape=(latent_dim,))\n",
        "decoder_first_c = Input(shape=(latent_dim,))\n",
        "decoder_states_inputs = [decoder_first_h, decoder_first_c]\n",
        "decoder_lstm = model.layers[3]\n",
        "decoder_outputs, last_h, last_c = decoder_lstm(decoder_inputs, initial_state=decoder_states_inputs)\n",
        "decoder_states = [last_h, last_c]\n",
        "\n",
        "decoder_dense = model.layers[4]\n",
        "decoder_outputs = decoder_dense(decoder_outputs)\n",
        "\n",
        "decoder_model = Model(inputs=[decoder_inputs]+decoder_states_inputs, outputs=[decoder_outputs]+decoder_states)"
      ],
      "metadata": {
        "id": "M0DohfEc64rG"
      },
      "execution_count": 51,
      "outputs": []
    },
    {
      "cell_type": "markdown",
      "source": [
        "### Translation"
      ],
      "metadata": {
        "id": "KtObxq6j7wiq"
      }
    },
    {
      "cell_type": "code",
      "source": [
        "def translate(english_sentence):\n",
        "  # One-hot encoding of the english sentence\n",
        "  x = oneHotEncode_english(english_sentence)\n",
        "\n",
        "  # Encoding computed by the encoder: this is the first states value for the decoder module\n",
        "  states_value = encoder_model.predict(x)\n",
        "\n",
        "  # One-hot encoding of the last generated italian char.\n",
        "  # At the beginning it is the START character '\\t'.\n",
        "  last_char = np.zeros((1,1,m))\n",
        "  last_char[0, 0, italian_char2index['\\t']] = 1.0\n",
        "\n",
        "  # Generated italian sentence, as a string\n",
        "  # At the beginning, empty string.\n",
        "  italian_sentence = ''\n",
        "\n",
        "  stop_condition = False\n",
        "\n",
        "  while not stop_condition:\n",
        "    # Outputs of the decoder model: cat distributions and `last_h`,`last_c`, which are the new states values\n",
        "    cat_distributions, last_h, last_c = decoder_model([last_char]+states_value)\n",
        "    # Extract the cat distribution\n",
        "    cat_distribution = cat_distributions[0, -1, :]\n",
        "\n",
        "    # New generated italian char\n",
        "    generated_char_index = np.argmax(cat_distribution)\n",
        "    generated_char = italian_index2char[generated_char_index]\n",
        "    italian_sentence += generated_char\n",
        "\n",
        "    if generated_char=='\\n' or len(italian_sentence)>M:\n",
        "      stop_condition = True\n",
        "\n",
        "    # Update the last generated char  \n",
        "    last_char = np.zeros((1, 1, m))\n",
        "    last_char[0, 0, generated_char_index] = 1.0\n",
        "\n",
        "    # Update states values\n",
        "    states_value = [last_h, last_c]\n",
        "\n",
        "  return italian_sentence"
      ],
      "metadata": {
        "id": "8BDd1-kr7yYf"
      },
      "execution_count": 66,
      "outputs": []
    },
    {
      "cell_type": "code",
      "source": [
        "translate('Run!')"
      ],
      "metadata": {
        "colab": {
          "base_uri": "https://localhost:8080/",
          "height": 36
        },
        "outputId": "abdd2ab2-cd7f-40d2-ef62-22cb90fe2513",
        "id": "PWbC6a5r_jD2"
      },
      "execution_count": 67,
      "outputs": [
        {
          "output_type": "execute_result",
          "data": {
            "text/plain": [
              "'Corri!\\n'"
            ],
            "application/vnd.google.colaboratory.intrinsic+json": {
              "type": "string"
            }
          },
          "metadata": {},
          "execution_count": 67
        }
      ]
    },
    {
      "cell_type": "code",
      "source": [
        "translate('Wow!')"
      ],
      "metadata": {
        "colab": {
          "base_uri": "https://localhost:8080/",
          "height": 36
        },
        "outputId": "cb3db655-16ca-473b-be56-c5505a236746",
        "id": "iniJ-TJT_jD3"
      },
      "execution_count": 64,
      "outputs": [
        {
          "output_type": "execute_result",
          "data": {
            "text/plain": [
              "'Wow!\\n'"
            ],
            "application/vnd.google.colaboratory.intrinsic+json": {
              "type": "string"
            }
          },
          "metadata": {},
          "execution_count": 64
        }
      ]
    },
    {
      "cell_type": "code",
      "source": [
        "translate('Duck!')"
      ],
      "metadata": {
        "colab": {
          "base_uri": "https://localhost:8080/",
          "height": 36
        },
        "outputId": "bf5ee8fd-4765-401f-a1ab-e8d596061283",
        "id": "eW1RXAHa_jD3"
      },
      "execution_count": 65,
      "outputs": [
        {
          "output_type": "execute_result",
          "data": {
            "text/plain": [
              "'Tuffatevi!\\n'"
            ],
            "application/vnd.google.colaboratory.intrinsic+json": {
              "type": "string"
            }
          },
          "metadata": {},
          "execution_count": 65
        }
      ]
    }
  ]
}