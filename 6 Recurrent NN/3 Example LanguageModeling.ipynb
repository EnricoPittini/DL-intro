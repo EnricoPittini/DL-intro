{
  "nbformat": 4,
  "nbformat_minor": 0,
  "metadata": {
    "colab": {
      "name": "3 Example LanguageModeling",
      "provenance": [],
      "collapsed_sections": []
    },
    "kernelspec": {
      "name": "python3",
      "display_name": "Python 3"
    },
    "language_info": {
      "name": "python"
    }
  },
  "cells": [
    {
      "cell_type": "markdown",
      "source": [
        "# Example :  Language Modeling\n",
        "https://www.kaggle.com/code/prashant111/comprehensive-guide-to-rnn-with-keras/notebook#4.Implementation-of-SimpleRNN-with-Keras---text-generation-\n",
        "\n",
        "In this example we apply the SimpleRNN for the language modeling task.\n",
        "\n",
        "### Language modeling\n",
        "Language modeling consists in, given a sequence of tokens (e.g. characters or words), returning the most probable token for continuing that sequence.\n",
        "\n",
        "For example, given the english words \"I like pizza a lot, my\" a language model could return as next word the word \"favourite\".\n",
        "\n",
        "More formally, a language model takes in input a sequence of tokens and returns a probability distribution over all the possible tokens: in this way, we can compute the most probable next token.\n",
        "\n",
        "### Specific example\n",
        "In this example, build a language model on the \"Alice in the Wonderland\" book, for learning to generate sentences in the style of the book. We build a character-based language model: given a sequence of characters, we predict the next character.\n",
        "\n",
        "Of course, a character-based language model is quite limited. It would be better a word-based language model.\n",
        "\n",
        "In particular, we make a language model which takes in input a sequence of $N=10$ characters, and it predicts the next character. So, our model takes in input a sequence of length $N=10$."
      ],
      "metadata": {
        "id": "8HRWac0zbKkb"
      }
    },
    {
      "cell_type": "code",
      "source": [
        "N=10"
      ],
      "metadata": {
        "id": "PssVENqBg4gd"
      },
      "execution_count": null,
      "outputs": []
    },
    {
      "cell_type": "markdown",
      "source": [
        "## DATASET\n",
        "The dataset is available in the \"wonderland.txt\" file. It is the \"Alice in the wonderland\" book."
      ],
      "metadata": {
        "id": "H0qjxvKXd_kY"
      }
    },
    {
      "cell_type": "code",
      "execution_count": null,
      "metadata": {
        "id": "mNDbCGVGYHli"
      },
      "outputs": [],
      "source": [
        "import numpy as np \n",
        "import pandas as pd \n",
        "import os"
      ]
    },
    {
      "cell_type": "code",
      "source": [
        "INPUT_FILE = \"wonderland.txt\""
      ],
      "metadata": {
        "id": "IsfxZi0pdq5k"
      },
      "execution_count": null,
      "outputs": []
    },
    {
      "cell_type": "markdown",
      "source": [
        "### Loading\n",
        "We load the dataset. Since we want to build a character-based language model, we load the dataset as a list of characters."
      ],
      "metadata": {
        "id": "_DfBPfdOeKCa"
      }
    },
    {
      "cell_type": "code",
      "source": [
        "text_file = open(INPUT_FILE, 'rb')"
      ],
      "metadata": {
        "id": "KwcJ28XDeXlV"
      },
      "execution_count": null,
      "outputs": []
    },
    {
      "cell_type": "code",
      "source": [
        "# List, which will contain all the lines of the book. Each line is stored as a string\n",
        "lines = []\n",
        "for line in text_file:\n",
        "    # Removing trailing characters\n",
        "    line = line.strip()\n",
        "    # We transform all the characters to lowercase\n",
        "    line = line.lower()\n",
        "    line = line.decode(\"ascii\", \"ignore\")\n",
        "    # We skip empty lines\n",
        "    if len(line) == 0:\n",
        "        continue\n",
        "    lines.append(line)\n",
        "text_file.close()"
      ],
      "metadata": {
        "id": "UhTABDX5dvpj"
      },
      "execution_count": null,
      "outputs": []
    },
    {
      "cell_type": "code",
      "source": [
        "# Out data is a single string\n",
        "text = \" \".join(lines)"
      ],
      "metadata": {
        "id": "hxXtv1J6e5Mf"
      },
      "execution_count": null,
      "outputs": []
    },
    {
      "cell_type": "code",
      "source": [
        "print('First character:', text[0])\n",
        "print('Second character:', text[1])"
      ],
      "metadata": {
        "colab": {
          "base_uri": "https://localhost:8080/"
        },
        "id": "TCtNA5dRd4rY",
        "outputId": "0f13b400-fcd7-44e1-d183-7392cc6c3834"
      },
      "execution_count": null,
      "outputs": [
        {
          "output_type": "stream",
          "name": "stdout",
          "text": [
            "First character: p\n",
            "Second character: r\n"
          ]
        }
      ]
    },
    {
      "cell_type": "markdown",
      "source": [
        "## PREPROCESSING\n",
        "For now, our dataset is a set of characters. But this is not compliant with NNs: we want numbers. We have to do some preprocessing."
      ],
      "metadata": {
        "id": "jrpkVyRobKnJ"
      }
    },
    {
      "cell_type": "markdown",
      "source": [
        "### Mapping characters into numbers\n",
        "First of all, we map characters into numbers. We create a biunivocal correspondance between characters and numbers."
      ],
      "metadata": {
        "id": "cyRXgpQsfkC4"
      }
    },
    {
      "cell_type": "code",
      "source": [
        "# Set of all the possible characters in our dataset\n",
        "chars = set([c for c in text])\n",
        "\n",
        "# Number of all the possible characters\n",
        "n_chars = len(chars)\n",
        "n_chars"
      ],
      "metadata": {
        "colab": {
          "base_uri": "https://localhost:8080/"
        },
        "id": "KbQ-QAjLfxXq",
        "outputId": "282e22ee-f52f-4314-be94-653f05d0d277"
      },
      "execution_count": null,
      "outputs": [
        {
          "output_type": "execute_result",
          "data": {
            "text/plain": [
              "55"
            ]
          },
          "metadata": {},
          "execution_count": 34
        }
      ]
    },
    {
      "cell_type": "code",
      "source": [
        "# Dictionary, which maps characters into the corresponding integers (i.e. indeces) \n",
        "char2index = dict((c, i) for i, c in enumerate(chars))\n",
        "\n",
        "# Dictionary, which maps integers/indeces into the corresponding characters \n",
        "index2char = dict((i, c) for i, c in enumerate(chars))"
      ],
      "metadata": {
        "id": "X44i65yRf7tt"
      },
      "execution_count": null,
      "outputs": []
    },
    {
      "cell_type": "markdown",
      "source": [
        "### Creating the inputs and the targets\n",
        "Since now, our dataset is simply a single list of characters. We want to create our inputs and our targets.\n",
        "\n",
        "An input $x$ is a sequence of $N=10$ adjacent characters. The corresponding target $y$ is the next character of that sequence.\n",
        "\n",
        "So, given our text, we divide into all the possible instances $x$, which are all the possible sequences of $N=10$ adjacent characters. And, then, we associate to each instance $x$ the corresponding target $y$, which is the next character."
      ],
      "metadata": {
        "id": "6YgzRo-Gg8aE"
      }
    },
    {
      "cell_type": "code",
      "source": [
        "# List which will contain all the possible instances x, which are all the possible sequences of N adjacent characters\n",
        "inputs = []\n",
        "\n",
        "# List which will contain the targets for the corresponding instances x\n",
        "targets = []\n",
        "\n",
        "# We iterate over all the possible characters in the text\n",
        "# Actually, we don't consider the last N characters\n",
        "for i in range(0, len(text)-N):\n",
        "  # Instance x: it consists in the N consecutive characters starting from the index 'i'\n",
        "  x = text[i : i+N]\n",
        "  inputs.append(x)\n",
        "\n",
        "  # Target corresponding to the instance x: it is the character after N characters. It is the character rigth after the sequence\n",
        "  y = text[i+N]\n",
        "  targets.append(y)"
      ],
      "metadata": {
        "id": "Toq9m6JxhmVj"
      },
      "execution_count": null,
      "outputs": []
    },
    {
      "cell_type": "markdown",
      "source": [
        "We call $M$ the number of input instances $x$. Which is the same number of the targets $y$."
      ],
      "metadata": {
        "id": "TSblOMBZlK7-"
      }
    },
    {
      "cell_type": "code",
      "source": [
        "M = len(inputs)\n",
        "M"
      ],
      "metadata": {
        "colab": {
          "base_uri": "https://localhost:8080/"
        },
        "id": "PluQXoXPlQ7_",
        "outputId": "bc03d83a-4053-4d43-fe57-d9dac6a47e32"
      },
      "execution_count": null,
      "outputs": [
        {
          "output_type": "execute_result",
          "data": {
            "text/plain": [
              "158773"
            ]
          },
          "metadata": {},
          "execution_count": 25
        }
      ]
    },
    {
      "cell_type": "markdown",
      "source": [
        "### One-hot encoding\n",
        "The final step is to one-hot encode our characters.\n",
        "\n",
        "Since now, each character is represented as a number. We want to change that. We want to represent a character as a vector, with length `n_chars`. So, there is a value for each possible character in our text. At each position on this vector, there is a corresponding character, which is determined by the mapping created before. So, biunivocal mapping between the indeces of this vector and all the possible characters in our text. \n",
        "\n",
        "So, given a character $c$, with corresponding integer $j$, we represent it as a vector of length `n_chars`. In each index $i$ we place: $0$ if that index/character $i$ is not $c$; $1$ if that index/character $i$ is $c$. basically, we put a $0$ if $i \\neq j$, $1$ otherwise.\n",
        "\n",
        "To sum up, we represent each character $c$ with a vector with only $0$ except in the position corresponding to that character, where there is a $1$.\n",
        "\n",
        "This is called one-hot encoding."
      ],
      "metadata": {
        "id": "4MjtcmDxbKpS"
      }
    },
    {
      "cell_type": "markdown",
      "source": [
        "So, we build our tensor $X$, which will contain the input instances $x$. Each input instance $x$ is a sequence of $N$ characters, where each character is represented as a vector of $n_{chars}$ values. The dimensions of $X$ are $M*N*n_{chars}$, since there are $M$ input instances $x$, each of them is a sequence of $N$ characters, and each characters is a vector of $n_{chars}$ values. \n",
        "\n",
        "We also build the tensor $Y$, which will contain the targets $y$. Dimensions $M*n_{chars}$, since there are $M$ targets, each of them consisting in a single char, which is a vector of $n_{chars}$ values.\n",
        "\n",
        "The values in the tensors $X$ and $Y$ are simply $0/1$. Which can be seen as booleans."
      ],
      "metadata": {
        "id": "h2xiLdSgkqac"
      }
    },
    {
      "cell_type": "code",
      "source": [
        "# Initializing X and Y, to all 0\n",
        "X = np.zeros((M, N, n_chars), dtype=bool)\n",
        "Y = np.zeros((M, n_chars), dtype=bool)"
      ],
      "metadata": {
        "id": "5sSXiClwlyox"
      },
      "execution_count": null,
      "outputs": []
    },
    {
      "cell_type": "code",
      "source": [
        "# Populating X and Y\n",
        "\n",
        "# We iterate over all instances x: each x is a sequence of N characters\n",
        "for i, x in enumerate(inputs):\n",
        "\n",
        "  # We iterate over all characters in x\n",
        "  for j, ch in enumerate(x):\n",
        "    # We place 1 in the position corresponding to that character\n",
        "    X[i, j, char2index[ch]] = 1\n",
        "\n",
        "  # We place 1 to the character corresponding to the target character  \n",
        "  Y[i, char2index[targets[i]]] = 1"
      ],
      "metadata": {
        "id": "Xs3_6P_Ekjaa"
      },
      "execution_count": null,
      "outputs": []
    },
    {
      "cell_type": "markdown",
      "source": [
        "Let's inspect an instance $x$"
      ],
      "metadata": {
        "id": "CvnnGRp0nKln"
      }
    },
    {
      "cell_type": "code",
      "source": [
        "# Instance x: it is a sequence of N=10 characters, where each character is a vector of n_chars=55 values\n",
        "x = X[0]\n",
        "print(x.shape)"
      ],
      "metadata": {
        "colab": {
          "base_uri": "https://localhost:8080/"
        },
        "id": "YZKcIu8fnKE6",
        "outputId": "f7532ecc-9250-4269-a3bf-1bfaa865cca2"
      },
      "execution_count": null,
      "outputs": [
        {
          "output_type": "stream",
          "name": "stdout",
          "text": [
            "(10, 55)\n"
          ]
        }
      ]
    },
    {
      "cell_type": "markdown",
      "source": [
        "Let's inspect a character $c$ in $x$"
      ],
      "metadata": {
        "id": "9AsQqvzhnuy4"
      }
    },
    {
      "cell_type": "code",
      "source": [
        "# Character c: it is a boolean vector of n_dims=55 values\n",
        "c = x[0]\n",
        "print(c.shape)\n",
        "print(c)"
      ],
      "metadata": {
        "colab": {
          "base_uri": "https://localhost:8080/"
        },
        "id": "VVLEyPdIntHF",
        "outputId": "066c1fbd-4e53-42d9-cd22-2593921d13cb"
      },
      "execution_count": null,
      "outputs": [
        {
          "output_type": "stream",
          "name": "stdout",
          "text": [
            "(55,)\n",
            "[False False False False False False False False False False False False\n",
            " False False False False False False False False False False False False\n",
            " False False False False False False False False False False False False\n",
            " False False False False False False False  True False False False False\n",
            " False False False False False False False]\n"
          ]
        }
      ]
    },
    {
      "cell_type": "markdown",
      "source": [
        "Let's inspect a target y"
      ],
      "metadata": {
        "id": "McLON5Z7oDDJ"
      }
    },
    {
      "cell_type": "code",
      "source": [
        "# Target y: it's a character, i.e. a vector of n_dims=55 values\n",
        "y = Y[0]\n",
        "print(y.shape)\n",
        "y"
      ],
      "metadata": {
        "colab": {
          "base_uri": "https://localhost:8080/"
        },
        "id": "CdUsMQabnrPN",
        "outputId": "0a6494c8-6a4b-4d17-9a26-b2837e909a7a"
      },
      "execution_count": null,
      "outputs": [
        {
          "output_type": "stream",
          "name": "stdout",
          "text": [
            "(55,)\n"
          ]
        },
        {
          "output_type": "execute_result",
          "data": {
            "text/plain": [
              "array([False, False, False, False, False, False, False, False, False,\n",
              "       False, False, False, False, False, False, False, False, False,\n",
              "       False, False, False, False, False, False, False, False, False,\n",
              "       False, False, False, False, False, False, False, False, False,\n",
              "       False, False, False, False, False, False, False, False, False,\n",
              "        True, False, False, False, False, False, False, False, False,\n",
              "       False])"
            ]
          },
          "metadata": {},
          "execution_count": 35
        }
      ]
    },
    {
      "cell_type": "markdown",
      "source": [
        "### Meaning of the one-hot encoding targets: true categorical distribution\n",
        "We have our targets in $Y$. Each target $y$ is a vector of $n_{chars$ values, with all $0$ except in the position corresponding to that character.\n",
        "\n",
        "Basically, this vector is the true categorical distribution of that character. It is the actual categorical distribution.\n",
        "\n",
        "This kind of representation is convenient to have, since we our language model returns a vector $\\hat{y}$ which is a probability distribution over the $n_{chars}$ possible characters: comparing $y$ and $\\hat{y}$ can be done with the classic categorical crossentropy."
      ],
      "metadata": {
        "id": "HqLI9-s8w4-e"
      }
    },
    {
      "cell_type": "markdown",
      "source": [
        "## RNN\n",
        "Our network consists in a SimpleNN and a Dense layer."
      ],
      "metadata": {
        "id": "fCjdbjVxoOhs"
      }
    },
    {
      "cell_type": "markdown",
      "source": [
        "### Inputs\n",
        "Each input element $X_t$ is a character. So, vector with $n_{chars}$ values.\n",
        "\n",
        "An input $x$ is a sequence of $N$ characters. Sequence $X_1, ..., X_N$.\n",
        "\n",
        "Therefore, the number of time steps is $N$. Each time step is a different character in the sequence."
      ],
      "metadata": {
        "id": "Sst_fkAOoz8V"
      }
    },
    {
      "cell_type": "markdown",
      "source": [
        "### Output\n",
        "Given the input sequence $X_1,...,X_N$, the RNN returns $N$ outputs $h_1, ..., h_N$.\n",
        "\n",
        "Each output $h_t$ represents the prediction of the next character in the sequence, which is the $(t+1)$-th character (i.e. $X_{t+1})$. The output $h_t$ represents the prediction made by the RNN given the inputs $X_1,...,X_{t}$: so, $h_t$ is the predicted next character $\\hat{X}_{t+1}$ in the sequence (prediction of the $(t+1)$ character).\n",
        "\n",
        "More precisely, $h_t$ is a probability distribution over all the possible characters. Which allows us to select the next character in the sequence: the predicted $(t+1)$-th character (i.e. $\\hat{X}_{t+1}$) is the character which has the biggest probability in the vector $h_t$.\n",
        "\n",
        "This means that each output $h_t$ is a vector of $n_{chars}$ values, representing a probability distribution over all the possible characters. Probability distribution for the next character $\\hat{X}_{t+1}$.\n",
        "\n",
        "Given the input sequence $X_1,...,X_N$, the RNN returns $N$ outputs $h_1, ..., h_N$. However, we are interested only in the last output $h_N$, because we want only to predict the next character right after the sequence: character $X_{N+1}$ (the prediction is $\\hat{X}_{N+1}$)"
      ],
      "metadata": {
        "id": "dNVkCzalMhba"
      }
    },
    {
      "cell_type": "markdown",
      "source": [
        "### Precisation about the output\n",
        "Actually, it is not true that each output $h_t$ represents the probability distribution for $\\hat{X}_{t+1}$. $h_t$ is not a probability distribution.\n",
        "\n",
        "Actually, $h_t$ is a vector of $O$ values. The purpose of this vector is to be used by a Dense layer for building the probability distribution for $\\hat{X}_{t+1}$: we call this probability distribution $Y_{t}$.\n",
        "\n",
        "So:\n",
        "- Each output element $h_t$ is not a vector of length $n_{chars}$, but a vector of $O$ values. We fix $O=128$. Instead, the final prediction $Y_t$ is a vector of length $n_{chars}$.\n",
        "- Each output element $h_t$ is not directly our probability distribution for the next character $X_{t+1}$, but it is used by a Dense layer for making that probability distribution $Y_t$. From an high level point of view, we can consider $h_t$ as the probability distribution for the next character $X_{t+1}$.\n",
        "\n",
        "This means that, given a input sequence $X_1, ..., X_N$, we consider only the last output $h_N$ of the RNN, which is a vector with $O=128$ values. We pass that to a Dense layer for making the probability distribution for the next character $X_{N+1}$, which is $Y_N$: a vector of $n_{chars}$ values."
      ],
      "metadata": {
        "id": "pzKwGwqsNvhi"
      }
    },
    {
      "cell_type": "markdown",
      "source": [
        "### Dense layer\n",
        "The dense layer has $n_{chars}$ outputs. Softmax activation function, since we want produce a probability distribution."
      ],
      "metadata": {
        "id": "gLbp731IuI2Z"
      }
    },
    {
      "cell_type": "markdown",
      "source": [
        "### Defining the network\n",
        "![image.png](data:image/png;base64,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)"
      ],
      "metadata": {
        "id": "YTSzk8fdsXDl"
      }
    },
    {
      "cell_type": "markdown",
      "source": [
        "Input sample, which is a sequence $X_1, ..., X_N$, representing $N$ consecutive characters. The final output is $Y_N$, which is the probability distribution over all the possible characters for predicting the next character $\\hat{X}_{N+1}$."
      ],
      "metadata": {
        "id": "OVZycFTDQFqs"
      }
    },
    {
      "cell_type": "code",
      "source": [
        "from tensorflow.keras.layers import Input, SimpleRNN, Dense \n",
        "from tensorflow.keras import Model"
      ],
      "metadata": {
        "id": "wRU81n58QTBO"
      },
      "execution_count": null,
      "outputs": []
    },
    {
      "cell_type": "code",
      "source": [
        "# Size of each output h_t\n",
        "O = 128"
      ],
      "metadata": {
        "id": "YAvJHdbgt3GN"
      },
      "execution_count": null,
      "outputs": []
    },
    {
      "cell_type": "code",
      "source": [
        "# Input x: sequence of N characters, where each character is a vector of length n_chars\n",
        "x = Input(shape=(N,n_chars))\n",
        "\n",
        "# RNN: we keep only the last output h_N, which is a vector with $O$ values\n",
        "last_h = SimpleRNN(units=O)(x)\n",
        "\n",
        "# Dense layer: it takes in input h_n, and it produces y_hat, which is the categorical distribution over all the possible characters\n",
        "y_hat = Dense(units=n_chars, activation='softmax')(last_h)\n",
        "\n",
        "rnn = Model(inputs=x, outputs=y_hat)"
      ],
      "metadata": {
        "id": "dNzaQc7jQeQY"
      },
      "execution_count": null,
      "outputs": []
    },
    {
      "cell_type": "code",
      "source": [
        "rnn.summary()"
      ],
      "metadata": {
        "colab": {
          "base_uri": "https://localhost:8080/"
        },
        "id": "EdVQ5TZrRXRU",
        "outputId": "e6ff52a9-9a95-4c80-fb56-88263bd07ed4"
      },
      "execution_count": null,
      "outputs": [
        {
          "output_type": "stream",
          "name": "stdout",
          "text": [
            "Model: \"model\"\n",
            "_________________________________________________________________\n",
            " Layer (type)                Output Shape              Param #   \n",
            "=================================================================\n",
            " input_1 (InputLayer)        [(None, 10, 55)]          0         \n",
            "                                                                 \n",
            " simple_rnn (SimpleRNN)      (None, 128)               23552     \n",
            "                                                                 \n",
            " dense (Dense)               (None, 55)                7095      \n",
            "                                                                 \n",
            "=================================================================\n",
            "Total params: 30,647\n",
            "Trainable params: 30,647\n",
            "Non-trainable params: 0\n",
            "_________________________________________________________________\n"
          ]
        }
      ]
    },
    {
      "cell_type": "markdown",
      "source": [
        "### Compile\n",
        "\n",
        "We use rmsprop as optimizer.\n",
        "\n",
        "As loss function, we use the categorical crossentropy. For each input instance $x$, the NN produces the output $\\hat{y}$, which is a categorical distribution over the $n_{chars}$ possible characters. The ground truth is $y$, which is the one-hot encoded true character: length $n_{chars}$, all $0$, except in the True characters. Basically, $\\hat{y}$ is the predicted categorical distribution, $y$ is the true categorical distribution: we can measure the distance between the two using the classic categorical crossentropy."
      ],
      "metadata": {
        "id": "XaHM7r0BuYgh"
      }
    },
    {
      "cell_type": "code",
      "source": [
        "rnn.compile(loss=\"categorical_crossentropy\", optimizer=\"rmsprop\")"
      ],
      "metadata": {
        "id": "MX0u47VVubkq"
      },
      "execution_count": null,
      "outputs": []
    },
    {
      "cell_type": "markdown",
      "source": [
        "### Training"
      ],
      "metadata": {
        "id": "buUrGxFDvLGt"
      }
    },
    {
      "cell_type": "code",
      "source": [
        " rnn.fit(X, Y, batch_size=128, epochs=25)"
      ],
      "metadata": {
        "colab": {
          "base_uri": "https://localhost:8080/"
        },
        "id": "BTXQKvlTvPFA",
        "outputId": "6224a2b3-697e-415d-efa5-13ede6d4d7ff"
      },
      "execution_count": null,
      "outputs": [
        {
          "output_type": "stream",
          "name": "stdout",
          "text": [
            "Epoch 1/25\n",
            "1241/1241 [==============================] - 18s 13ms/step - loss: 2.3407\n",
            "Epoch 2/25\n",
            "1241/1241 [==============================] - 16s 13ms/step - loss: 2.0445\n",
            "Epoch 3/25\n",
            "1241/1241 [==============================] - 16s 13ms/step - loss: 1.9422\n",
            "Epoch 4/25\n",
            "1241/1241 [==============================] - 16s 13ms/step - loss: 1.8641\n",
            "Epoch 5/25\n",
            "1241/1241 [==============================] - 16s 13ms/step - loss: 1.7993\n",
            "Epoch 6/25\n",
            "1241/1241 [==============================] - 16s 13ms/step - loss: 1.7447\n",
            "Epoch 7/25\n",
            "1241/1241 [==============================] - 16s 13ms/step - loss: 1.6984\n",
            "Epoch 8/25\n",
            "1241/1241 [==============================] - 16s 13ms/step - loss: 1.6584\n",
            "Epoch 9/25\n",
            "1241/1241 [==============================] - 16s 13ms/step - loss: 1.6252\n",
            "Epoch 10/25\n",
            "1241/1241 [==============================] - 16s 13ms/step - loss: 1.5968\n",
            "Epoch 11/25\n",
            "1241/1241 [==============================] - 16s 13ms/step - loss: 1.5718\n",
            "Epoch 12/25\n",
            "1241/1241 [==============================] - 16s 13ms/step - loss: 1.5497\n",
            "Epoch 13/25\n",
            "1241/1241 [==============================] - 16s 13ms/step - loss: 1.5305\n",
            "Epoch 14/25\n",
            "1241/1241 [==============================] - 16s 13ms/step - loss: 1.5137\n",
            "Epoch 15/25\n",
            "1241/1241 [==============================] - 16s 13ms/step - loss: 1.4981\n",
            "Epoch 16/25\n",
            "1241/1241 [==============================] - 15s 12ms/step - loss: 1.4846\n",
            "Epoch 17/25\n",
            "1241/1241 [==============================] - 15s 12ms/step - loss: 1.4712\n",
            "Epoch 18/25\n",
            "1241/1241 [==============================] - 16s 13ms/step - loss: 1.4593\n",
            "Epoch 19/25\n",
            "1241/1241 [==============================] - 16s 13ms/step - loss: 1.4500\n",
            "Epoch 20/25\n",
            "1241/1241 [==============================] - 16s 13ms/step - loss: 1.4392\n",
            "Epoch 21/25\n",
            "1241/1241 [==============================] - 16s 13ms/step - loss: 1.4303\n",
            "Epoch 22/25\n",
            "1241/1241 [==============================] - 16s 13ms/step - loss: 1.4222\n",
            "Epoch 23/25\n",
            "1241/1241 [==============================] - 16s 13ms/step - loss: 1.4153\n",
            "Epoch 24/25\n",
            "1241/1241 [==============================] - 17s 13ms/step - loss: 1.4075\n",
            "Epoch 25/25\n",
            "1241/1241 [==============================] - 16s 13ms/step - loss: 1.4013\n"
          ]
        },
        {
          "output_type": "execute_result",
          "data": {
            "text/plain": [
              "<keras.callbacks.History at 0x7f992edb1610>"
            ]
          },
          "metadata": {},
          "execution_count": 42
        }
      ]
    },
    {
      "cell_type": "markdown",
      "source": [
        "## APPLICATION OF THE NETWORK\n",
        "Let's apply the network for generating some text.\n",
        "\n",
        "We define a function which takes in input:\n",
        "- an initial sequence of characters $s$, which must have length $N=10$\n",
        "- a number $K$, which is the number of characters that we want to generate.\n",
        "\n",
        "Basically, the aim is to generate the $K$ next characters after the given sequence $s$.\n",
        "\n",
        "For doing so, the NN is applied $K$ times, with a sliding window approach.\n",
        "1. At the beginning, it is applied on the given $N=10$ characters, i.e. $s$. We produce the next character $c_{N+1}$.\n",
        "2. Then, we apply the NN on the sequence of $N010$ characters composed of the last $N-1$ characters of $s$ (we get rid of the first character) and the just generated character $c_{N+1}$. We produce the next character $c_{N+2}$.\n",
        "3. Then, we apply the NN on the sequence of $N=10$ characters composed of the last $N-2$ characters of $s$ (we get rid of the first two characters) and the new two characters $c_{N+1},c_{N+2}$. We produce the next character $c_{N+3}$.\n",
        "\n",
        "...\n",
        "\n",
        "And so on"
      ],
      "metadata": {
        "id": "dNGjy8OMzf1R"
      }
    },
    {
      "cell_type": "code",
      "source": [
        "def process(s):\n",
        "  \"\"\" Transforms the given string into the corresponding one-hot encoded matrix x.\n",
        "\n",
        "  Basically, s is a string of n characters. The corresponding one-hot encoded instance x is a sequence of n characetrs, where each\n",
        "  character is a vector of n_chars values.\n",
        "  \n",
        "  \"\"\"\n",
        "  n = len(s)\n",
        "  x = np.zeros((s, n_chars)) \n",
        "  for i,c in enumerate(s):\n",
        "    idx = char2index[c]\n",
        "    x[i, idx] = 1\n",
        "  return x"
      ],
      "metadata": {
        "id": "EHWNhG2T1SFT"
      },
      "execution_count": null,
      "outputs": []
    },
    {
      "cell_type": "code",
      "source": [
        "def generate_text(s, K):\n",
        "  \"\"\" Generated K new charactes after the given string s. s must have length N \"\"\"\n",
        "\n",
        "  for i in range(K):\n",
        "    # We process the string s into an instance x, which is a sequence of one-hot encoded characters: shape of x is N*n_chars\n",
        "    x = process(s)\n",
        "    # We add the batch dimension into x, since our NN processes only batches. The shape of x_batch is 1*N*n_chars\n",
        "    x_batch = np.expand_dims(x, 0)\n",
        "\n",
        "    # We apply the NN, and we get the predicted categorical distribution for the nexy character. Actually, we get a batch\n",
        "    y_hat_batch = rnn.predict(x_batch)\n",
        "    # We extract the categorical distribution from the batch\n",
        "    y_hat = y_hat_batch[0]\n",
        "\n",
        "    # Predicted character, corresponding to the character with higher probabiliry\n",
        "    c_hat = index2char[np.argmax(y_hat)]\n",
        "    # We print that\n",
        "    print(c_hat, end=\"\")\n",
        "\n",
        "    # We update our string of N characters, by removing the first one, and by appending the new one\n",
        "    s = s[1:] + c_hat"
      ],
      "metadata": {
        "id": "DT2bGzw907fB"
      },
      "execution_count": null,
      "outputs": []
    },
    {
      "cell_type": "code",
      "source": [
        "s = 'alice said'\n",
        "generate_text(s, K=300)"
      ],
      "metadata": {
        "colab": {
          "base_uri": "https://localhost:8080/"
        },
        "id": "o-7xEHE_2k3l",
        "outputId": "4f8482cf-2ab5-4abe-a3b2-69b0deadc236"
      },
      "execution_count": null,
      "outputs": [
        {
          "output_type": "stream",
          "name": "stdout",
          "text": [
            " to herself, and she was going to the to this to like the long and which the some of the words and she was going to the to this to like the long and which the some of the words and she was going to the to this to like the long and which the some of the words and she was going to the to this to like "
          ]
        }
      ]
    },
    {
      "cell_type": "code",
      "source": [
        "s = 'cheshire c'\n",
        "generate_text(s, K=300)"
      ],
      "metadata": {
        "colab": {
          "base_uri": "https://localhost:8080/"
        },
        "id": "u2zLOZJm3FTw",
        "outputId": "c3463135-ebda-4242-e787-d7014e20b4f6"
      },
      "execution_count": null,
      "outputs": [
        {
          "output_type": "stream",
          "name": "stdout",
          "text": [
            "ould be to the things and she was going to the to this to like the long and which the some of the words and she was going to the to this to like the long and which the some of the words and she was going to the to this to like the"
          ]
        }
      ]
    }
  ]
}