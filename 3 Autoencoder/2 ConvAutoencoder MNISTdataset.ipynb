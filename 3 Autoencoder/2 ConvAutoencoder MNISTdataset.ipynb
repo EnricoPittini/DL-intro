{
 "cells": [
  {
   "cell_type": "markdown",
   "id": "3efc7e97",
   "metadata": {},
   "source": [
    "# ConvAutoencoder MNISTdataset"
   ]
  },
  {
   "cell_type": "markdown",
   "id": "32f032e7",
   "metadata": {},
   "source": [
    "Let's now build a Conv Autoencoder on the MNIST dataset."
   ]
  },
  {
   "cell_type": "code",
   "execution_count": 9,
   "id": "6126916a",
   "metadata": {},
   "outputs": [],
   "source": [
    "from tensorflow.keras.layers import Input, Conv2D, Conv2DTranspose\n",
    "\n",
    "from tensorflow.keras.models import Model  \n",
    "\n",
    "from tensorflow.keras.datasets import mnist  # MNIST dataset\n",
    "\n",
    "import numpy as np"
   ]
  },
  {
   "cell_type": "markdown",
   "id": "0f93f943",
   "metadata": {},
   "source": [
    "### Dataset"
   ]
  },
  {
   "cell_type": "code",
   "execution_count": 2,
   "id": "960bd7e0",
   "metadata": {},
   "outputs": [],
   "source": [
    "(x_train, y_train), (x_test, y_test) = mnist.load_data()"
   ]
  },
  {
   "cell_type": "code",
   "execution_count": 3,
   "id": "4180fea2",
   "metadata": {},
   "outputs": [
    {
     "name": "stdout",
     "output_type": "stream",
     "text": [
      "There are 60000 samples in the training set\n",
      "There are 10000 samples in the test set\n"
     ]
    }
   ],
   "source": [
    "print('There are {} samples in the training set'.format(x_train.shape[0]))\n",
    "print('There are {} samples in the test set'.format(x_test.shape[0]))"
   ]
  },
  {
   "cell_type": "markdown",
   "id": "1fc7497a",
   "metadata": {},
   "source": [
    "Normalization"
   ]
  },
  {
   "cell_type": "code",
   "execution_count": 4,
   "id": "0b413b37",
   "metadata": {},
   "outputs": [],
   "source": [
    "x_train = x_train.astype('float32') / 255.\n",
    "x_test = x_test.astype('float32') / 255."
   ]
  },
  {
   "cell_type": "markdown",
   "id": "72d1df98",
   "metadata": {},
   "source": [
    "Adding the channels dimension."
   ]
  },
  {
   "cell_type": "code",
   "execution_count": 6,
   "id": "c23d7f4d",
   "metadata": {},
   "outputs": [],
   "source": [
    "(n_train, w, h) = x_train.shape\n",
    "# Reshaping `x_train`, adding the channels dimension (equal to 1)\n",
    "x_train = x_train.reshape(n_train, w, h, 1)\n",
    "\n",
    "(n_test, w, h) = x_test.shape\n",
    "# Reshaping `n_test`, adding the channels dimension (equal to 1)\n",
    "x_test = x_test.reshape(n_test, w, h, 1)"
   ]
  },
  {
   "cell_type": "markdown",
   "id": "d89446ad",
   "metadata": {},
   "source": [
    "### Autoencoder"
   ]
  },
  {
   "cell_type": "markdown",
   "id": "6dd4f3b9",
   "metadata": {},
   "source": [
    "Let's define a very simple Conv Autoencoder. \n",
    "1. The encoder part consists of two Conv layers, which produce the latent encoding $z$.\n",
    "2. The decoder part consists of two Dense layers, which reconstruct back the input $x$.\n",
    "\n",
    "Let's see that more in depth."
   ]
  },
  {
   "cell_type": "markdown",
   "id": "d4dbdc4a",
   "metadata": {},
   "source": [
    "**Input**\n",
    "\n",
    "The input $x_{in}$ is an image with dimensions $28x28x1$. Each value is between $0$ and $1$."
   ]
  },
  {
   "cell_type": "markdown",
   "id": "8b11772f",
   "metadata": {},
   "source": [
    "**Encoder**\n",
    "\n",
    "The encoder consists in two Conv layers. The first has output of dimensions $14x14x16$. The second has output of dimensions $7x7x32$.\n",
    "\n",
    "We are decreasing the spatial dimensions and increasing tha channels dimension.\n",
    "\n",
    "The output of this encoder part is our latent encoding $z$. It has dimensions $7x7x32$."
   ]
  },
  {
   "cell_type": "markdown",
   "id": "7ffe726a",
   "metadata": {},
   "source": [
    "**Decoder**\n",
    "\n",
    "It is completely simmetric to the encoder. We increase the spatial dimensions, we decrease the channels dimension.\n",
    "\n",
    "For increasing the spatial dimensions, we use the **transposed convolution**.\n",
    "\n",
    "Two Transposed Conv layers. The first has output of dimensions $14x14x16$. The first has output of dimensions $28x28x1$.\n",
    "\n",
    "The output of this decoder part is the reconstructed image $x_{out}$.\n",
    "\n",
    "We want that each value is between $0$ and $1$, therefore we use the **sigmoid** activation function for the last dense layer. (Instead, all the other conv layers have the no activation function)."
   ]
  },
  {
   "cell_type": "markdown",
   "id": "184a83e0",
   "metadata": {},
   "source": [
    "**Important remark: no compression**\n",
    "\n",
    "It is important to notice in this case out latent encoding $z$ has no smaller dimensions than the input $x_{in}$. The input has $28*28*1=784$ values. The latent encoding has $7*7*31=784$ values. No compression. We have simplied decreased the spatial dimensions and, at the same time, increased the number of channels."
   ]
  },
  {
   "cell_type": "code",
   "execution_count": 37,
   "id": "8c03ca83",
   "metadata": {},
   "outputs": [],
   "source": [
    "### INPUT\n",
    "xin = Input(shape=(28,28,1))\n",
    "\n",
    "### ENCODER\n",
    "x = Conv2D(filters=16, kernel_size=(3,3), strides=(2,2), padding='same')(xin)\n",
    "z = Conv2D(filters=32, kernel_size=(3,3), strides=(2,2), padding='same')(x)  # Latent encoding z\n",
    "\n",
    "### DECODER\n",
    "x = Conv2DTranspose(filters=16, kernel_size=(3,3), strides=(2,2), padding='same')(z)\n",
    "xout = Conv2DTranspose(filters=1, kernel_size=(3,3), strides=(2,2), padding='same', \n",
    "                       activation='sigmoid')(x) # Reconstructed image\n",
    "\n",
    "### MODEL\n",
    "autoencoder = Model(inputs=xin, outputs=xout)"
   ]
  },
  {
   "cell_type": "code",
   "execution_count": 38,
   "id": "ec63083b",
   "metadata": {},
   "outputs": [
    {
     "name": "stdout",
     "output_type": "stream",
     "text": [
      "Model: \"model_7\"\n",
      "_________________________________________________________________\n",
      " Layer (type)                Output Shape              Param #   \n",
      "=================================================================\n",
      " input_10 (InputLayer)       [(None, 28, 28, 1)]       0         \n",
      "                                                                 \n",
      " conv2d_16 (Conv2D)          (None, 14, 14, 16)        160       \n",
      "                                                                 \n",
      " conv2d_17 (Conv2D)          (None, 7, 7, 32)          4640      \n",
      "                                                                 \n",
      " conv2d_transpose_15 (Conv2D  (None, 14, 14, 16)       4624      \n",
      " Transpose)                                                      \n",
      "                                                                 \n",
      " conv2d_transpose_16 (Conv2D  (None, 28, 28, 1)        145       \n",
      " Transpose)                                                      \n",
      "                                                                 \n",
      "=================================================================\n",
      "Total params: 9,569\n",
      "Trainable params: 9,569\n",
      "Non-trainable params: 0\n",
      "_________________________________________________________________\n"
     ]
    }
   ],
   "source": [
    "autoencoder.summary()"
   ]
  },
  {
   "cell_type": "markdown",
   "id": "679ebef4",
   "metadata": {},
   "source": [
    "### Compiling"
   ]
  },
  {
   "cell_type": "markdown",
   "id": "42e4d7a4",
   "metadata": {},
   "source": [
    "We define ADAM as optimizer.\n",
    "\n",
    "As loss function, we can use the MSE, or the binary cross-entropy (since we are using the sigmoid function).\n",
    "\n",
    "The idea of the loss function is the following. We have two images $x_{in}$, which is the ground truth, and $x_{out}$, which is the reconstruction. Both of them are tensors with dimensions $28x28x1$. We measure the distance (e.g. MSE or binary crossentropy) between each pair of corresponding pixel in the two tensors: we get a tensor of $28x28x1$ error values. Then, we aggregate these $28x28x1$ errors into a single error: this is our final loss value (we compute the mean)."
   ]
  },
  {
   "cell_type": "code",
   "execution_count": 39,
   "id": "d8a654b4",
   "metadata": {},
   "outputs": [],
   "source": [
    "from tensorflow.keras.optimizers import Adam  # We import the optimizer\n",
    "autoencoder.compile(optimizer=Adam(learning_rate=0.001), loss='mse')"
   ]
  },
  {
   "cell_type": "markdown",
   "id": "689e9813",
   "metadata": {},
   "source": [
    "### Training"
   ]
  },
  {
   "cell_type": "markdown",
   "id": "ee61104a",
   "metadata": {},
   "source": [
    "We try the autoencoder. It is important to notice that the we are giving as labels the data iteslf. We are giving `<x_train,x_train>` to the `fit` method."
   ]
  },
  {
   "cell_type": "code",
   "execution_count": 29,
   "id": "27d81b85",
   "metadata": {},
   "outputs": [
    {
     "name": "stdout",
     "output_type": "stream",
     "text": [
      "Epoch 1/5\n",
      "235/235 [==============================] - 8s 32ms/step - loss: 0.0139 - val_loss: 0.0027\n",
      "Epoch 2/5\n",
      "235/235 [==============================] - 7s 31ms/step - loss: 0.0017 - val_loss: 0.0010\n",
      "Epoch 3/5\n",
      "235/235 [==============================] - 7s 29ms/step - loss: 7.4148e-04 - val_loss: 5.3467e-04\n",
      "Epoch 4/5\n",
      "235/235 [==============================] - 7s 29ms/step - loss: 3.9519e-04 - val_loss: 2.7586e-04\n",
      "Epoch 5/5\n",
      "235/235 [==============================] - 7s 29ms/step - loss: 1.8461e-04 - val_loss: 1.0875e-04\n"
     ]
    },
    {
     "data": {
      "text/plain": [
       "<keras.callbacks.History at 0x249ad580160>"
      ]
     },
     "execution_count": 29,
     "metadata": {},
     "output_type": "execute_result"
    }
   ],
   "source": [
    "autoencoder.fit(x_train, x_train, epochs=5, batch_size=256, validation_data=(x_test, x_test))"
   ]
  },
  {
   "cell_type": "markdown",
   "id": "58e2a6e2",
   "metadata": {},
   "source": [
    "*Much better scores than the ones obtained by the Dense autoencoder!!! And with less epochs!!!*"
   ]
  },
  {
   "cell_type": "markdown",
   "id": "457e29c6",
   "metadata": {},
   "source": [
    "### Inspect the results"
   ]
  },
  {
   "cell_type": "markdown",
   "id": "a78d2523",
   "metadata": {},
   "source": [
    "Let's inspect the quality of the results."
   ]
  },
  {
   "cell_type": "markdown",
   "id": "2736ecfa",
   "metadata": {},
   "source": [
    "First of all, we apply the autoencoder to the test data $x_{test}$: we get back the reconstruction $\\hat{x}_{test}$ of the test data."
   ]
  },
  {
   "cell_type": "code",
   "execution_count": 30,
   "id": "e1555570",
   "metadata": {},
   "outputs": [],
   "source": [
    "x_test_hat = autoencoder.predict(x_test)"
   ]
  },
  {
   "cell_type": "markdown",
   "id": "0e961c81",
   "metadata": {},
   "source": [
    "Now we can plot the result. We pick ten random test images, and for each of them we show the original and the reconstruction obtained from the autoencoder."
   ]
  },
  {
   "cell_type": "code",
   "execution_count": 31,
   "id": "ff7fa5fb",
   "metadata": {},
   "outputs": [
    {
     "data": {
      "image/png": "[encoded data removed]",
      "text/plain": [
       "<Figure size 1440x288 with 20 Axes>"
      ]
     },
     "metadata": {
      "needs_background": "light"
     },
     "output_type": "display_data"
    }
   ],
   "source": [
    "import matplotlib.pyplot as plt\n",
    "\n",
    "n = 10 #number of images to plot\n",
    "images_indeces = np.random.randint(low=0,high=10000,size=n)\n",
    "\n",
    "plt.figure(figsize=(20, 4))\n",
    "\n",
    "for (i,idx) in enumerate(images_indeces):\n",
    "    # display original\n",
    "    ax = plt.subplot(2, n, i + 1)\n",
    "    plt.imshow(x_test[idx])\n",
    "    plt.gray()\n",
    "    ax.get_xaxis().set_visible(False)\n",
    "    ax.get_yaxis().set_visible(False)\n",
    "\n",
    "    # display reconstruction\n",
    "    ax = plt.subplot(2, n, i + 1 + n)\n",
    "    plt.imshow(x_test_hat[idx])\n",
    "    plt.gray()\n",
    "    ax.get_xaxis().set_visible(False)\n",
    "    ax.get_yaxis().set_visible(False)\n",
    "plt.show()"
   ]
  },
  {
   "cell_type": "markdown",
   "id": "492979de",
   "metadata": {},
   "source": [
    "Quite good results!"
   ]
  }
 ],
 "metadata": {
  "kernelspec": {
   "display_name": "Python 3",
   "language": "python",
   "name": "python3"
  },
  "language_info": {
   "codemirror_mode": {
    "name": "ipython",
    "version": 3
   },
   "file_extension": ".py",
   "mimetype": "text/x-python",
   "name": "python",
   "nbconvert_exporter": "python",
   "pygments_lexer": "ipython3",
   "version": "3.8.8"
  }
 },
 "nbformat": 4,
 "nbformat_minor": 5
}
