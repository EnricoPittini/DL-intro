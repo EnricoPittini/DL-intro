{
 "cells": [
  {
   "cell_type": "markdown",
   "id": "3b9b7162",
   "metadata": {},
   "source": [
    "# DenseAutoencoder AnomalyDetection MNISTdataset"
   ]
  },
  {
   "cell_type": "markdown",
   "id": "f22c2577",
   "metadata": {},
   "source": [
    "We have seen how to implement an Autoencoder. Now we use it for a specific usefult application: anomaly detection."
   ]
  },
  {
   "cell_type": "markdown",
   "id": "3b30b45e",
   "metadata": {},
   "source": [
    "### Anomaly detection"
   ]
  },
  {
   "attachments": {
    "image.png": {
     "image/png": "[encoded data removed]"
    }
   },
   "cell_type": "markdown",
   "id": "2c33dbf1",
   "metadata": {},
   "source": [
    "We have our set of data. Our data have a certain distribution. Which is basically the data manifold.\n",
    "\n",
    "An anomaly (or outlier) is an instance which is outside this distribution. It is a strange point of our distribution.\n",
    "![image.png](attachment:image.png)\n",
    "\n",
    "Anomaly detection consists in, given an instance, detect if it is an anomaly or not."
   ]
  },
  {
   "cell_type": "raw",
   "id": "95b4ac5c",
   "metadata": {},
   "source": []
  },
  {
   "cell_type": "markdown",
   "id": "9e7c551f",
   "metadata": {},
   "source": [
    "## USING AN AUTOENCODER FOR ANOMALY DETECTION"
   ]
  },
  {
   "cell_type": "markdown",
   "id": "033895f4",
   "metadata": {},
   "source": [
    "Let's see how to use an autoencoder for anomaly detection.\n",
    "\n",
    "We have our trained autoencoder, and we want to perform anomaly detection."
   ]
  },
  {
   "cell_type": "markdown",
   "id": "546e7e88",
   "metadata": {},
   "source": [
    "### Step 1: compute some statistics on the test data\n",
    "\n",
    "We take our test data $x_{test}$.\n",
    "\n",
    "We take an image $x$ in the test set. We apply the autoencoder: reconstructed image $\\hat{x}$. We compute a distance measure between $x$ and $\\hat{x}$ (e.g. MSE): we have a single error value.\n",
    "\n",
    "We do that for all the images in the test set. For each test image, we get a MSE value error. We compute some statistics on these error values, like the mean $\\mu$ and the std $\\sigma$.\n",
    "\n",
    "Note: this step could be done also in the training set $x_{train}$."
   ]
  },
  {
   "cell_type": "markdown",
   "id": "02d24136",
   "metadata": {},
   "source": [
    "### Step 2: anomaly detection\n",
    "\n",
    "We have a new instance $x$. We want to understand if it is an anomaly or not.\n",
    "\n",
    "We apply the autoencoder: we get the reconstructed imahe $\\hat{x}$. We compute the MSE between $x$  and $\\hat{x}$. Let this error value be $e$.\n",
    "\n",
    "Now we compare $e$ with the mean $\\mu$.\n",
    "- If $e$ is very close to $\\mu$ (i.e. $\\mu-3*\\sigma<=e<=\\mu+3*\\sigma$) then $x$ is not an anomaly\n",
    "- Otherwise, if $e$ is far from $\\mu$, then $x$ is an anomaly."
   ]
  },
  {
   "cell_type": "markdown",
   "id": "96333e1c",
   "metadata": {},
   "source": [
    "### Why does this work?\n",
    "\n",
    "This works because our Autoencoder is very data-specific. It works well only with instances taken from our dataset, taken from the distribution of the data. If we take an instance outside the distribution, the Autoencoder does not work well.\n",
    "\n",
    "An outlier can be seen as an instance outside our dataset. Outside the distribution of the datat. Strange instance.\n",
    "\n",
    "So, given an instance $x$:\n",
    "- If the reconstruction error $e = MSE(x,\\hat{x})$ is small, then $\\hat{x}$ is a good reconstruction of $x$:  $x$  is not an anomaly (it is in the distribution of the data).\n",
    "- Otherwise, if the reconstruction error $e$ is big, then $\\hat{x}$ is a bad reconstruction of $x$: $x$ is an anomaly (it's not in the distribution of the data)."
   ]
  },
  {
   "cell_type": "raw",
   "id": "691e450e",
   "metadata": {},
   "source": []
  },
  {
   "cell_type": "markdown",
   "id": "ed01eaad",
   "metadata": {},
   "source": [
    "## ANOMALY DETECTION ON THE MNIST DATASET"
   ]
  },
  {
   "cell_type": "markdown",
   "id": "a879fc29",
   "metadata": {},
   "source": [
    "Anomaly detection on the MNIST dataset, by means of a Dense AUtoencoder."
   ]
  },
  {
   "cell_type": "code",
   "execution_count": 19,
   "id": "a7bb086f",
   "metadata": {},
   "outputs": [],
   "source": [
    "from tensorflow.keras.layers import Input, Dense, Flatten  # Classic layers\n",
    "\n",
    "from tensorflow.keras.models import Model  \n",
    "\n",
    "from tensorflow.keras.datasets import mnist  # MNIST dataset\n",
    "\n",
    "import matplotlib.pyplot as plt\n",
    "\n",
    "import numpy as np"
   ]
  },
  {
   "cell_type": "markdown",
   "id": "03710ea6",
   "metadata": {},
   "source": [
    "### Dataset"
   ]
  },
  {
   "cell_type": "code",
   "execution_count": 2,
   "id": "8c21beca",
   "metadata": {},
   "outputs": [],
   "source": [
    "(x_train, y_train), (x_test, y_test) = mnist.load_data()"
   ]
  },
  {
   "cell_type": "code",
   "execution_count": 3,
   "id": "8c14f5d3",
   "metadata": {},
   "outputs": [
    {
     "name": "stdout",
     "output_type": "stream",
     "text": [
      "There are 60000 samples in the training set\n",
      "There are 10000 samples in the test set\n"
     ]
    }
   ],
   "source": [
    "print('There are {} samples in the training set'.format(x_train.shape[0]))\n",
    "print('There are {} samples in the test set'.format(x_test.shape[0]))"
   ]
  },
  {
   "cell_type": "markdown",
   "id": "e29321a4",
   "metadata": {},
   "source": [
    "Normalization"
   ]
  },
  {
   "cell_type": "code",
   "execution_count": 4,
   "id": "ff8a13c8",
   "metadata": {},
   "outputs": [],
   "source": [
    "x_train = x_train.astype('float32') / 255.\n",
    "x_test = x_test.astype('float32') / 255."
   ]
  },
  {
   "cell_type": "markdown",
   "id": "9717cfd7",
   "metadata": {},
   "source": [
    "Flattening. We have to flatten the input $x$ beacuse we work with Dense layers."
   ]
  },
  {
   "cell_type": "code",
   "execution_count": 5,
   "id": "cf36e3a8",
   "metadata": {},
   "outputs": [],
   "source": [
    "# Flattening each image in the training set\n",
    "x_train = np.reshape(x_train, (60000,28*28)) \n",
    "\n",
    "# Flattening each image in the test set\n",
    "x_test = np.reshape(x_test, (10000,28*28))"
   ]
  },
  {
   "cell_type": "markdown",
   "id": "3a93121f",
   "metadata": {},
   "source": [
    "### Autoencoder"
   ]
  },
  {
   "cell_type": "markdown",
   "id": "6e206095",
   "metadata": {},
   "source": [
    "Exact same Dense autoencoder seen before."
   ]
  },
  {
   "cell_type": "code",
   "execution_count": 6,
   "id": "81ca5c7d",
   "metadata": {},
   "outputs": [],
   "source": [
    "### INPUT\n",
    "xin = Input(shape=(784,))\n",
    "\n",
    "### ENCODER\n",
    "x = Dense(units=64, activation='relu')(xin)\n",
    "z = Dense(units=16, activation='relu')(x) # Latent encoding z\n",
    "\n",
    "### DECODER\n",
    "x = Dense(units=64, activation='relu')(z)\n",
    "xout = Dense(units=784, activation='sigmoid')(x) # Reconstructed image\n",
    "\n",
    "### MODEL\n",
    "autoencoder = Model(inputs=xin, outputs=xout)"
   ]
  },
  {
   "cell_type": "code",
   "execution_count": 7,
   "id": "3e6e113f",
   "metadata": {},
   "outputs": [],
   "source": [
    "from tensorflow.keras.optimizers import Adam  # We import the optimizer\n",
    "autoencoder.compile(optimizer=Adam(learning_rate=0.001), loss='mse')"
   ]
  },
  {
   "cell_type": "code",
   "execution_count": 8,
   "id": "b21dbb58",
   "metadata": {},
   "outputs": [
    {
     "name": "stdout",
     "output_type": "stream",
     "text": [
      "Epoch 1/20\n",
      "235/235 [==============================] - 2s 6ms/step - loss: 0.0696 - val_loss: 0.0440\n",
      "Epoch 2/20\n",
      "235/235 [==============================] - 1s 5ms/step - loss: 0.0384 - val_loss: 0.0333\n",
      "Epoch 3/20\n",
      "235/235 [==============================] - 1s 5ms/step - loss: 0.0301 - val_loss: 0.0263\n",
      "Epoch 4/20\n",
      "235/235 [==============================] - 1s 5ms/step - loss: 0.0252 - val_loss: 0.0236\n",
      "Epoch 5/20\n",
      "235/235 [==============================] - 1s 5ms/step - loss: 0.0233 - val_loss: 0.0224\n",
      "Epoch 6/20\n",
      "235/235 [==============================] - 1s 5ms/step - loss: 0.0222 - val_loss: 0.0214\n",
      "Epoch 7/20\n",
      "235/235 [==============================] - 1s 4ms/step - loss: 0.0216 - val_loss: 0.0209\n",
      "Epoch 8/20\n",
      "235/235 [==============================] - 1s 5ms/step - loss: 0.0211 - val_loss: 0.0205\n",
      "Epoch 9/20\n",
      "235/235 [==============================] - 1s 5ms/step - loss: 0.0206 - val_loss: 0.0199\n",
      "Epoch 10/20\n",
      "235/235 [==============================] - 1s 5ms/step - loss: 0.0201 - val_loss: 0.0194\n",
      "Epoch 11/20\n",
      "235/235 [==============================] - 1s 5ms/step - loss: 0.0196 - val_loss: 0.0190\n",
      "Epoch 12/20\n",
      "235/235 [==============================] - 1s 5ms/step - loss: 0.0192 - val_loss: 0.0187\n",
      "Epoch 13/20\n",
      "235/235 [==============================] - 1s 5ms/step - loss: 0.0190 - val_loss: 0.0184\n",
      "Epoch 14/20\n",
      "235/235 [==============================] - 1s 5ms/step - loss: 0.0187 - val_loss: 0.0182\n",
      "Epoch 15/20\n",
      "235/235 [==============================] - 1s 5ms/step - loss: 0.0185 - val_loss: 0.0179\n",
      "Epoch 16/20\n",
      "235/235 [==============================] - 1s 5ms/step - loss: 0.0183 - val_loss: 0.0178\n",
      "Epoch 17/20\n",
      "235/235 [==============================] - 1s 5ms/step - loss: 0.0181 - val_loss: 0.0175\n",
      "Epoch 18/20\n",
      "235/235 [==============================] - 1s 4ms/step - loss: 0.0179 - val_loss: 0.0174\n",
      "Epoch 19/20\n",
      "235/235 [==============================] - 1s 5ms/step - loss: 0.0177 - val_loss: 0.0172\n",
      "Epoch 20/20\n",
      "235/235 [==============================] - 1s 4ms/step - loss: 0.0175 - val_loss: 0.0170\n"
     ]
    },
    {
     "data": {
      "text/plain": [
       "<keras.callbacks.History at 0x1cf06f63a30>"
      ]
     },
     "execution_count": 8,
     "metadata": {},
     "output_type": "execute_result"
    }
   ],
   "source": [
    "autoencoder.fit(x_train, x_train, epochs=20, batch_size=256, validation_data=(x_test, x_test))"
   ]
  },
  {
   "cell_type": "markdown",
   "id": "6576b270",
   "metadata": {},
   "source": [
    "### Step 1: computing the statistics on the test set"
   ]
  },
  {
   "cell_type": "code",
   "execution_count": 11,
   "id": "89fc88a9",
   "metadata": {},
   "outputs": [],
   "source": [
    "# Reconstructed test images\n",
    "x_test_hat = autoencoder.predict(x_test)"
   ]
  },
  {
   "cell_type": "code",
   "execution_count": 15,
   "id": "caf02802",
   "metadata": {},
   "outputs": [
    {
     "name": "stdout",
     "output_type": "stream",
     "text": [
      "Mean is 0.0169821847230196, with a standard deviation of 0.009071693755686283\n"
     ]
    }
   ],
   "source": [
    "# MSE error value for each instance in the test set\n",
    "mse_list = np.mean(np.square(x_test_hat - x_test), axis=1) \n",
    "\n",
    "# Mean\n",
    "mu = np.mean(mse_list)\n",
    "# Std\n",
    "std = np.std(mse_list)\n",
    "\n",
    "print(\"Mean is {}, with a standard deviation of {}\".format(mu,std))"
   ]
  },
  {
   "cell_type": "markdown",
   "id": "8f4b881c",
   "metadata": {},
   "source": [
    "### Detecting a normal instance (no anomaly)"
   ]
  },
  {
   "cell_type": "markdown",
   "id": "fbdbe819",
   "metadata": {},
   "source": [
    "First of all, let's take an image in the dataset. So, not an anomaly. We take the $15$-th test instance."
   ]
  },
  {
   "cell_type": "code",
   "execution_count": 21,
   "id": "c9f04608",
   "metadata": {},
   "outputs": [
    {
     "name": "stdout",
     "output_type": "stream",
     "text": [
      "MSE value: 0.024777642\n"
     ]
    },
    {
     "data": {
      "image/png": "[encoded data removed]",
      "text/plain": [
       "<Figure size 576x288 with 2 Axes>"
      ]
     },
     "metadata": {
      "needs_background": "light"
     },
     "output_type": "display_data"
    }
   ],
   "source": [
    "x = x_test[15].reshape(1,784)\n",
    "\n",
    "x_hat = autoencoder.predict(x)\n",
    "\n",
    "mse = np.mean(np.square(x - x_hat), axis=1)[0]\n",
    "print('MSE value:', mse)\n",
    "\n",
    "plt.figure(figsize=(8,4))\n",
    "ax = plt.subplot(1,2,1)\n",
    "plt.imshow(x.reshape(28, 28))\n",
    "plt.gray()\n",
    "ax.get_xaxis().set_visible(False)\n",
    "ax.get_yaxis().set_visible(False)\n",
    "ax = plt.subplot(1, 2, 2)\n",
    "plt.imshow(x_hat.reshape(28, 28))\n",
    "plt.gray()\n",
    "ax.get_xaxis().set_visible(False)\n",
    "ax.get_yaxis().set_visible(False)\n",
    "plt.savefig('lyar1.jpg')\n",
    "plt.show()"
   ]
  },
  {
   "cell_type": "markdown",
   "id": "e09853f0",
   "metadata": {},
   "source": [
    "**The reconstruction is quite good!** This beacuse the image is in the distribution of the data.\n",
    "\n",
    "The MSE value $0.024777642$ is quite close to the mean $\\mu$ $0.0169821847230196$."
   ]
  },
  {
   "cell_type": "code",
   "execution_count": 22,
   "id": "c3e84e99",
   "metadata": {},
   "outputs": [
    {
     "data": {
      "text/plain": [
       "0.007795457"
      ]
     },
     "execution_count": 22,
     "metadata": {},
     "output_type": "execute_result"
    }
   ],
   "source": [
    "abs(mse-mu)"
   ]
  },
  {
   "cell_type": "markdown",
   "id": "c7997e42",
   "metadata": {},
   "source": [
    "The difference is less than one std $\\sigma=0.009071693755686283$.\n",
    "\n",
    "**So, we detect that as a normal instance (no anomaly)**"
   ]
  },
  {
   "cell_type": "markdown",
   "id": "ad1818cd",
   "metadata": {},
   "source": [
    "### Detecting an anomaly"
   ]
  },
  {
   "cell_type": "markdown",
   "id": "ee9157a6",
   "metadata": {},
   "source": [
    "We create an anomaly by rotating an image. We take the same instance of before, but now we rotate it, by $90^°$."
   ]
  },
  {
   "cell_type": "code",
   "execution_count": 25,
   "id": "6afa459e",
   "metadata": {},
   "outputs": [],
   "source": [
    "x = np.rot90(x_test[15].reshape(28,28)).reshape(1,784)"
   ]
  },
  {
   "cell_type": "code",
   "execution_count": 27,
   "id": "f69f6d5c",
   "metadata": {},
   "outputs": [
    {
     "name": "stdout",
     "output_type": "stream",
     "text": [
      "MSE value: 0.051033195\n"
     ]
    },
    {
     "data": {
      "image/png": "[encoded data removed]",
      "text/plain": [
       "<Figure size 576x288 with 2 Axes>"
      ]
     },
     "metadata": {
      "needs_background": "light"
     },
     "output_type": "display_data"
    }
   ],
   "source": [
    "x_hat = autoencoder.predict(x)\n",
    "\n",
    "mse = np.mean(np.square(x - x_hat), axis=1)[0]\n",
    "print('MSE value:', mse)\n",
    "\n",
    "plt.figure(figsize=(8,4))\n",
    "ax = plt.subplot(1,2,1)\n",
    "plt.imshow(x.reshape(28, 28))\n",
    "plt.gray()\n",
    "ax.get_xaxis().set_visible(False)\n",
    "ax.get_yaxis().set_visible(False)\n",
    "ax = plt.subplot(1, 2, 2)\n",
    "plt.imshow(x_hat.reshape(28, 28))\n",
    "plt.gray()\n",
    "ax.get_xaxis().set_visible(False)\n",
    "ax.get_yaxis().set_visible(False)\n",
    "plt.savefig('lyar1.jpg')\n",
    "plt.show()"
   ]
  },
  {
   "cell_type": "markdown",
   "id": "e6d3e288",
   "metadata": {},
   "source": [
    "**The reconstruction is quite bad!!!** This because this image is pretty different from the other images. It is pretty outisde the distribution of the data.\n",
    "\n",
    "The MSE value $0.051033195$ is quite far from the mean $\\mu$ $0.0169821847230196$."
   ]
  },
  {
   "cell_type": "code",
   "execution_count": 28,
   "id": "6f0289a4",
   "metadata": {},
   "outputs": [
    {
     "data": {
      "text/plain": [
       "0.03405101"
      ]
     },
     "execution_count": 28,
     "metadata": {},
     "output_type": "execute_result"
    }
   ],
   "source": [
    "abs(mse-mu)"
   ]
  },
  {
   "cell_type": "markdown",
   "id": "857f6acd",
   "metadata": {},
   "source": [
    "The difference is bigger than three std $\\sigma=0.009071693755686283$.\n",
    "\n",
    "**So, we detect that as an anomaly!**"
   ]
  },
  {
   "cell_type": "raw",
   "id": "f0a5229a",
   "metadata": {},
   "source": []
  },
  {
   "cell_type": "markdown",
   "id": "513a18c6",
   "metadata": {},
   "source": [
    "### FINAL REMARK\n",
    "\n",
    "An alternative approach of doing anomaly detection with autoencoders is to work with the latent space, instead of the reconstructed images.\n",
    "\n",
    "This because an anomaly instance $x$ in the data manifold will have also an anomaly latent encoding $z$ in the latent space."
   ]
  }
 ],
 "metadata": {
  "kernelspec": {
   "display_name": "Python 3",
   "language": "python",
   "name": "python3"
  },
  "language_info": {
   "codemirror_mode": {
    "name": "ipython",
    "version": 3
   },
   "file_extension": ".py",
   "mimetype": "text/x-python",
   "name": "python",
   "nbconvert_exporter": "python",
   "pygments_lexer": "ipython3",
   "version": "3.8.8"
  }
 },
 "nbformat": 4,
 "nbformat_minor": 5
}
