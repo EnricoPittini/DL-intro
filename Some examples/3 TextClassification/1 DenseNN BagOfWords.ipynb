{
  "nbformat": 4,
  "nbformat_minor": 0,
  "metadata": {
    "colab": {
      "name": "1 DenseNN BagOfWords",
      "provenance": [],
      "collapsed_sections": []
    },
    "kernelspec": {
      "name": "python3",
      "display_name": "Python 3"
    },
    "language_info": {
      "name": "python"
    },
    "gpuClass": "standard"
  },
  "cells": [
    {
      "cell_type": "markdown",
      "source": [
        "## DATASET"
      ],
      "metadata": {
        "id": "-_hfHrqhSWxV"
      }
    },
    {
      "cell_type": "code",
      "execution_count": 1,
      "metadata": {
        "id": "8ULRx--gIcol"
      },
      "outputs": [],
      "source": [
        "import pandas as pd\n",
        "import numpy as np"
      ]
    },
    {
      "cell_type": "code",
      "source": [
        "train = pd.read_csv('train_ekmann.csv')\n",
        "x_train = train['Text']\n",
        "y_train = train['Emotion']"
      ],
      "metadata": {
        "id": "ajGuKgn1JTVK"
      },
      "execution_count": 3,
      "outputs": []
    },
    {
      "cell_type": "code",
      "source": [
        "train.info()"
      ],
      "metadata": {
        "colab": {
          "base_uri": "https://localhost:8080/"
        },
        "id": "YyIObuOtV91Y",
        "outputId": "753847b2-5ce0-4934-c93d-6011304fb4a3"
      },
      "execution_count": 4,
      "outputs": [
        {
          "output_type": "stream",
          "name": "stdout",
          "text": [
            "<class 'pandas.core.frame.DataFrame'>\n",
            "RangeIndex: 24685 entries, 0 to 24684\n",
            "Data columns (total 3 columns):\n",
            " #   Column   Non-Null Count  Dtype \n",
            "---  ------   --------------  ----- \n",
            " 0   Text     24685 non-null  object\n",
            " 1   Emotion  24684 non-null  object\n",
            " 2   Id       24684 non-null  object\n",
            "dtypes: object(3)\n",
            "memory usage: 578.7+ KB\n"
          ]
        }
      ]
    },
    {
      "cell_type": "code",
      "source": [
        "train.iloc[:10]"
      ],
      "metadata": {
        "colab": {
          "base_uri": "https://localhost:8080/",
          "height": 363
        },
        "id": "zXbRsQsXJr2Q",
        "outputId": "6a5951bf-9ad4-430e-b272-c13d2385baf9"
      },
      "execution_count": 5,
      "outputs": [
        {
          "output_type": "execute_result",
          "data": {
            "text/plain": [
              "                                                Text   Emotion       Id\n",
              "0  My favourite food is anything I didn't have to...   neutral  eebbqej\n",
              "1  Now if he does off himself, everyone will thin...   neutral  ed00q6i\n",
              "2                     WHY THE FUCK IS BAYLESS ISOING     anger  eezlygj\n",
              "3                        To make her feel threatened      fear  ed7ypvh\n",
              "4                             Dirty Southern Wankers     anger  ed0bdzj\n",
              "5  OmG pEyToN iSn'T gOoD eNoUgH tO hElP uS iN tHe...  surprise  edvnz26\n",
              "6  Yes I heard abt the f bombs! That has to be wh...       joy  ee3b6wu\n",
              "7  We need more boards and to create a bit more s...       joy  ef4qmod\n",
              "8  Damn youtube and outrage drama is super lucrat...       joy  ed8wbdn\n",
              "9  It might be linked to the trust factor of your...   neutral  eczgv1o"
            ],
            "text/html": [
              "\n",
              "  <div id=\"df-f9c6a464-5444-4abc-bede-7ca8ef83f39b\">\n",
              "    <div class=\"colab-df-container\">\n",
              "      <div>\n",
              "<style scoped>\n",
              "    .dataframe tbody tr th:only-of-type {\n",
              "        vertical-align: middle;\n",
              "    }\n",
              "\n",
              "    .dataframe tbody tr th {\n",
              "        vertical-align: top;\n",
              "    }\n",
              "\n",
              "    .dataframe thead th {\n",
              "        text-align: right;\n",
              "    }\n",
              "</style>\n",
              "<table border=\"1\" class=\"dataframe\">\n",
              "  <thead>\n",
              "    <tr style=\"text-align: right;\">\n",
              "      <th></th>\n",
              "      <th>Text</th>\n",
              "      <th>Emotion</th>\n",
              "      <th>Id</th>\n",
              "    </tr>\n",
              "  </thead>\n",
              "  <tbody>\n",
              "    <tr>\n",
              "      <th>0</th>\n",
              "      <td>My favourite food is anything I didn't have to...</td>\n",
              "      <td>neutral</td>\n",
              "      <td>eebbqej</td>\n",
              "    </tr>\n",
              "    <tr>\n",
              "      <th>1</th>\n",
              "      <td>Now if he does off himself, everyone will thin...</td>\n",
              "      <td>neutral</td>\n",
              "      <td>ed00q6i</td>\n",
              "    </tr>\n",
              "    <tr>\n",
              "      <th>2</th>\n",
              "      <td>WHY THE FUCK IS BAYLESS ISOING</td>\n",
              "      <td>anger</td>\n",
              "      <td>eezlygj</td>\n",
              "    </tr>\n",
              "    <tr>\n",
              "      <th>3</th>\n",
              "      <td>To make her feel threatened</td>\n",
              "      <td>fear</td>\n",
              "      <td>ed7ypvh</td>\n",
              "    </tr>\n",
              "    <tr>\n",
              "      <th>4</th>\n",
              "      <td>Dirty Southern Wankers</td>\n",
              "      <td>anger</td>\n",
              "      <td>ed0bdzj</td>\n",
              "    </tr>\n",
              "    <tr>\n",
              "      <th>5</th>\n",
              "      <td>OmG pEyToN iSn'T gOoD eNoUgH tO hElP uS iN tHe...</td>\n",
              "      <td>surprise</td>\n",
              "      <td>edvnz26</td>\n",
              "    </tr>\n",
              "    <tr>\n",
              "      <th>6</th>\n",
              "      <td>Yes I heard abt the f bombs! That has to be wh...</td>\n",
              "      <td>joy</td>\n",
              "      <td>ee3b6wu</td>\n",
              "    </tr>\n",
              "    <tr>\n",
              "      <th>7</th>\n",
              "      <td>We need more boards and to create a bit more s...</td>\n",
              "      <td>joy</td>\n",
              "      <td>ef4qmod</td>\n",
              "    </tr>\n",
              "    <tr>\n",
              "      <th>8</th>\n",
              "      <td>Damn youtube and outrage drama is super lucrat...</td>\n",
              "      <td>joy</td>\n",
              "      <td>ed8wbdn</td>\n",
              "    </tr>\n",
              "    <tr>\n",
              "      <th>9</th>\n",
              "      <td>It might be linked to the trust factor of your...</td>\n",
              "      <td>neutral</td>\n",
              "      <td>eczgv1o</td>\n",
              "    </tr>\n",
              "  </tbody>\n",
              "</table>\n",
              "</div>\n",
              "      <button class=\"colab-df-convert\" onclick=\"convertToInteractive('df-f9c6a464-5444-4abc-bede-7ca8ef83f39b')\"\n",
              "              title=\"Convert this dataframe to an interactive table.\"\n",
              "              style=\"display:none;\">\n",
              "        \n",
              "  <svg xmlns=\"http://www.w3.org/2000/svg\" height=\"24px\"viewBox=\"0 0 24 24\"\n",
              "       width=\"24px\">\n",
              "    <path d=\"M0 0h24v24H0V0z\" fill=\"none\"/>\n",
              "    <path d=\"M18.56 5.44l.94 2.06.94-2.06 2.06-.94-2.06-.94-.94-2.06-.94 2.06-2.06.94zm-11 1L8.5 8.5l.94-2.06 2.06-.94-2.06-.94L8.5 2.5l-.94 2.06-2.06.94zm10 10l.94 2.06.94-2.06 2.06-.94-2.06-.94-.94-2.06-.94 2.06-2.06.94z\"/><path d=\"M17.41 7.96l-1.37-1.37c-.4-.4-.92-.59-1.43-.59-.52 0-1.04.2-1.43.59L10.3 9.45l-7.72 7.72c-.78.78-.78 2.05 0 2.83L4 21.41c.39.39.9.59 1.41.59.51 0 1.02-.2 1.41-.59l7.78-7.78 2.81-2.81c.8-.78.8-2.07 0-2.86zM5.41 20L4 18.59l7.72-7.72 1.47 1.35L5.41 20z\"/>\n",
              "  </svg>\n",
              "      </button>\n",
              "      \n",
              "  <style>\n",
              "    .colab-df-container {\n",
              "      display:flex;\n",
              "      flex-wrap:wrap;\n",
              "      gap: 12px;\n",
              "    }\n",
              "\n",
              "    .colab-df-convert {\n",
              "      background-color: #E8F0FE;\n",
              "      border: none;\n",
              "      border-radius: 50%;\n",
              "      cursor: pointer;\n",
              "      display: none;\n",
              "      fill: #1967D2;\n",
              "      height: 32px;\n",
              "      padding: 0 0 0 0;\n",
              "      width: 32px;\n",
              "    }\n",
              "\n",
              "    .colab-df-convert:hover {\n",
              "      background-color: #E2EBFA;\n",
              "      box-shadow: 0px 1px 2px rgba(60, 64, 67, 0.3), 0px 1px 3px 1px rgba(60, 64, 67, 0.15);\n",
              "      fill: #174EA6;\n",
              "    }\n",
              "\n",
              "    [theme=dark] .colab-df-convert {\n",
              "      background-color: #3B4455;\n",
              "      fill: #D2E3FC;\n",
              "    }\n",
              "\n",
              "    [theme=dark] .colab-df-convert:hover {\n",
              "      background-color: #434B5C;\n",
              "      box-shadow: 0px 1px 3px 1px rgba(0, 0, 0, 0.15);\n",
              "      filter: drop-shadow(0px 1px 2px rgba(0, 0, 0, 0.3));\n",
              "      fill: #FFFFFF;\n",
              "    }\n",
              "  </style>\n",
              "\n",
              "      <script>\n",
              "        const buttonEl =\n",
              "          document.querySelector('#df-f9c6a464-5444-4abc-bede-7ca8ef83f39b button.colab-df-convert');\n",
              "        buttonEl.style.display =\n",
              "          google.colab.kernel.accessAllowed ? 'block' : 'none';\n",
              "\n",
              "        async function convertToInteractive(key) {\n",
              "          const element = document.querySelector('#df-f9c6a464-5444-4abc-bede-7ca8ef83f39b');\n",
              "          const dataTable =\n",
              "            await google.colab.kernel.invokeFunction('convertToInteractive',\n",
              "                                                     [key], {});\n",
              "          if (!dataTable) return;\n",
              "\n",
              "          const docLinkHtml = 'Like what you see? Visit the ' +\n",
              "            '<a target=\"_blank\" href=https://colab.research.google.com/notebooks/data_table.ipynb>data table notebook</a>'\n",
              "            + ' to learn more about interactive tables.';\n",
              "          element.innerHTML = '';\n",
              "          dataTable['output_type'] = 'display_data';\n",
              "          await google.colab.output.renderOutput(dataTable, element);\n",
              "          const docLink = document.createElement('div');\n",
              "          docLink.innerHTML = docLinkHtml;\n",
              "          element.appendChild(docLink);\n",
              "        }\n",
              "      </script>\n",
              "    </div>\n",
              "  </div>\n",
              "  "
            ]
          },
          "metadata": {},
          "execution_count": 5
        }
      ]
    },
    {
      "cell_type": "code",
      "source": [
        "val = pd.read_csv('val_ekmann.csv')\n",
        "x_val = val['Text']\n",
        "y_val = val['Emotion']"
      ],
      "metadata": {
        "id": "ue3oXTHjJTZB"
      },
      "execution_count": 6,
      "outputs": []
    },
    {
      "cell_type": "code",
      "source": [
        "test = pd.read_csv('test_ekmann.csv')\n",
        "x_test = test['Text']\n",
        "y_test = test['Emotion']"
      ],
      "metadata": {
        "id": "_3tY5hNRJ4bX"
      },
      "execution_count": 7,
      "outputs": []
    },
    {
      "cell_type": "markdown",
      "source": [
        "## PREPROCESSING"
      ],
      "metadata": {
        "id": "Z0y42J9ASaz0"
      }
    },
    {
      "cell_type": "markdown",
      "source": [
        "### Labels"
      ],
      "metadata": {
        "id": "9D645QPISdJA"
      }
    },
    {
      "cell_type": "code",
      "source": [
        "y_train"
      ],
      "metadata": {
        "colab": {
          "base_uri": "https://localhost:8080/"
        },
        "id": "mLbNx8_RYx4p",
        "outputId": "6ecc15d2-ec42-4b7d-c1ac-dea113e0219d"
      },
      "execution_count": 8,
      "outputs": [
        {
          "output_type": "execute_result",
          "data": {
            "text/plain": [
              "0         neutral\n",
              "1         neutral\n",
              "2           anger\n",
              "3            fear\n",
              "4           anger\n",
              "           ...   \n",
              "24680    surprise\n",
              "24681     neutral\n",
              "24682       anger\n",
              "24683       anger\n",
              "24684         NaN\n",
              "Name: Emotion, Length: 24685, dtype: object"
            ]
          },
          "metadata": {},
          "execution_count": 8
        }
      ]
    },
    {
      "cell_type": "code",
      "source": [
        "emotions = list(y_train.unique())\n",
        "n_classes = len(emotions)\n",
        "emotions_dict = {e:i for i,e in enumerate(emotions)}\n",
        "emotions_dict"
      ],
      "metadata": {
        "colab": {
          "base_uri": "https://localhost:8080/"
        },
        "id": "v2S_DStnYzrm",
        "outputId": "9b3576be-453c-4102-e552-61d66074c512"
      },
      "execution_count": 9,
      "outputs": [
        {
          "output_type": "execute_result",
          "data": {
            "text/plain": [
              "{'anger': 1,\n",
              " 'disgust': 6,\n",
              " 'fear': 2,\n",
              " 'joy': 4,\n",
              " nan: 7,\n",
              " 'neutral': 0,\n",
              " 'sadness': 5,\n",
              " 'surprise': 3}"
            ]
          },
          "metadata": {},
          "execution_count": 9
        }
      ]
    },
    {
      "cell_type": "code",
      "source": [
        "y_train = y_train.map(emotions_dict)\n",
        "y_test = y_test.map(emotions_dict)\n",
        "y_val = y_val.map(emotions_dict)"
      ],
      "metadata": {
        "id": "ZyTYtP6mZKBn"
      },
      "execution_count": 10,
      "outputs": []
    },
    {
      "cell_type": "code",
      "source": [
        "y_train"
      ],
      "metadata": {
        "colab": {
          "base_uri": "https://localhost:8080/"
        },
        "id": "3K3ACS1HZsX9",
        "outputId": "08fd798d-171b-4b13-a18a-82c5320f9759"
      },
      "execution_count": 12,
      "outputs": [
        {
          "output_type": "execute_result",
          "data": {
            "text/plain": [
              "0        0\n",
              "1        0\n",
              "2        1\n",
              "3        2\n",
              "4        1\n",
              "        ..\n",
              "24680    3\n",
              "24681    0\n",
              "24682    1\n",
              "24683    1\n",
              "24684    7\n",
              "Name: Emotion, Length: 24685, dtype: int64"
            ]
          },
          "metadata": {},
          "execution_count": 12
        }
      ]
    },
    {
      "cell_type": "markdown",
      "source": [
        "### Texts"
      ],
      "metadata": {
        "id": "KD49DuJxShHZ"
      }
    },
    {
      "cell_type": "code",
      "source": [
        "from sklearn.feature_extraction import text\n",
        "stop_words = text.ENGLISH_STOP_WORDS\n",
        "def f(s):\n",
        "  s = s.lower()\n",
        "  s = ''.join([c if c.isalnum() else (' ' if c not in ['\\'', '’', '-'] else '') for c in s])\n",
        "  #s = ' '.join([w for w in s.split(' ') if w not in stop_words])  TODO\n",
        "  return s"
      ],
      "metadata": {
        "id": "HxayKLP7hPOk"
      },
      "execution_count": 90,
      "outputs": []
    },
    {
      "cell_type": "code",
      "source": [
        "x_train_p = x_train.map(f)\n",
        "x_test_p = x_test.map(f)\n",
        "x_val_p = x_val.map(f) "
      ],
      "metadata": {
        "id": "nnZA6EUtUQWN"
      },
      "execution_count": 91,
      "outputs": []
    },
    {
      "cell_type": "code",
      "source": [
        "x_train_p"
      ],
      "metadata": {
        "colab": {
          "base_uri": "https://localhost:8080/"
        },
        "id": "P_X6vH0IfuPH",
        "outputId": "519cf531-4fb5-4650-f25f-278766a51814"
      },
      "execution_count": 92,
      "outputs": [
        {
          "output_type": "execute_result",
          "data": {
            "text/plain": [
              "0        my favourite food is anything i didnt have to ...\n",
              "1        now if he does off himself  everyone will thin...\n",
              "2                           why the fuck is bayless isoing\n",
              "3                              to make her feel threatened\n",
              "4                                   dirty southern wankers\n",
              "                               ...                        \n",
              "24680    do not destroy your life bc of feelings for an...\n",
              "24681    head is cold because lack of volume blood flow...\n",
              "24682                japan shouldnt have attacked the usa \n",
              "24683    would breaking her jaw and hands be out of lin...\n",
              "24684         i think  name  does a great job  cant believ\n",
              "Name: Text, Length: 24685, dtype: object"
            ]
          },
          "metadata": {},
          "execution_count": 92
        }
      ]
    },
    {
      "cell_type": "code",
      "source": [
        "x_train"
      ],
      "metadata": {
        "colab": {
          "base_uri": "https://localhost:8080/"
        },
        "id": "MZKPYJCGfwOt",
        "outputId": "300f5921-2312-43bd-f68e-03e5cdf55e70"
      },
      "execution_count": 17,
      "outputs": [
        {
          "output_type": "execute_result",
          "data": {
            "text/plain": [
              "0        My favourite food is anything I didn't have to...\n",
              "1        Now if he does off himself, everyone will thin...\n",
              "2                           WHY THE FUCK IS BAYLESS ISOING\n",
              "3                              To make her feel threatened\n",
              "4                                   Dirty Southern Wankers\n",
              "                               ...                        \n",
              "24680    Do not destroy your life bc of feelings for an...\n",
              "24681    Head is cold because lack of volume blood flow...\n",
              "24682               Japan shouldn't have attacked the USA.\n",
              "24683    Would breaking her jaw and hands be out of lin...\n",
              "24684        I think [NAME] does a great job! Can't believ\n",
              "Name: Text, Length: 24685, dtype: object"
            ]
          },
          "metadata": {},
          "execution_count": 17
        }
      ]
    },
    {
      "cell_type": "markdown",
      "source": [
        "## Restrict to the most frequent words"
      ],
      "metadata": {
        "id": "P02577AsSyNq"
      }
    },
    {
      "cell_type": "code",
      "source": [
        "n_words_restr = 500"
      ],
      "metadata": {
        "id": "SjTSbCwpUdrU"
      },
      "execution_count": 93,
      "outputs": []
    },
    {
      "cell_type": "code",
      "source": [
        "from collections import Counter"
      ],
      "metadata": {
        "id": "Uii3m4RBUfr1"
      },
      "execution_count": 94,
      "outputs": []
    },
    {
      "cell_type": "code",
      "source": [
        "# Each training instance is a list of words\n",
        "x_train_words = x_train_p.map(lambda s: [w for w in s.split(' ') if w!=''])\n",
        "x_train_words"
      ],
      "metadata": {
        "colab": {
          "base_uri": "https://localhost:8080/"
        },
        "id": "LV9VonUHUhkn",
        "outputId": "60490c9d-7d5c-4f74-f500-d414c1b4c9aa"
      },
      "execution_count": 95,
      "outputs": [
        {
          "output_type": "execute_result",
          "data": {
            "text/plain": [
              "0        [my, favourite, food, is, anything, i, didnt, ...\n",
              "1        [now, if, he, does, off, himself, everyone, wi...\n",
              "2                    [why, the, fuck, is, bayless, isoing]\n",
              "3                        [to, make, her, feel, threatened]\n",
              "4                               [dirty, southern, wankers]\n",
              "                               ...                        \n",
              "24680    [do, not, destroy, your, life, bc, of, feeling...\n",
              "24681    [head, is, cold, because, lack, of, volume, bl...\n",
              "24682          [japan, shouldnt, have, attacked, the, usa]\n",
              "24683    [would, breaking, her, jaw, and, hands, be, ou...\n",
              "24684    [i, think, name, does, a, great, job, cant, be...\n",
              "Name: Text, Length: 24685, dtype: object"
            ]
          },
          "metadata": {},
          "execution_count": 95
        }
      ]
    },
    {
      "cell_type": "code",
      "source": [
        "# Single list containing all the words, possibly repeated, in the train set.\n",
        "# Basically, it is the train set squized into a single list.\n",
        "train_list = []\n",
        "for l in x_train_words:\n",
        "  train_list += set(l)\n",
        "print(train_list[:20])"
      ],
      "metadata": {
        "colab": {
          "base_uri": "https://localhost:8080/"
        },
        "id": "HP8HMYDfUn2G",
        "outputId": "24fc6232-1b91-424d-a121-fb247b3df415"
      },
      "execution_count": 96,
      "outputs": [
        {
          "output_type": "stream",
          "name": "stdout",
          "text": [
            "['to', 'is', 'i', 'anything', 'didnt', 'myself', 'have', 'cook', 'my', 'food', 'favourite', 'hes', 'with', 'of', 'now', 'does', 'he', 'laugh', 'will', 'think']\n"
          ]
        }
      ]
    },
    {
      "cell_type": "code",
      "source": [
        "# Set containing all the different possible words in the training set\n",
        "words = set([])\n",
        "for l in x_train_words:\n",
        "  words.update(set(l))\n",
        "print(words)"
      ],
      "metadata": {
        "colab": {
          "base_uri": "https://localhost:8080/"
        },
        "id": "oZz4W4nwUreX",
        "outputId": "b310da65-4e0f-4751-c216-8f9997e43361"
      },
      "execution_count": 97,
      "outputs": [
        {
          "output_type": "stream",
          "name": "stdout",
          "text": [
            "{'deride', 'altering', 'bovine', 'retinas', 'referee', 'central', 'sexrelated', 'puppy', 'prowess', 'ticklish', 'oh', 'mailing', 'att', 'conservative', 'oder', 'clearing', 'eo', 'deputy', 'lightsaber', 'deciding', 'toupee', 'suitcase', 'stop', 'spirit', 'givining', 'tonight', 'simmonds', 'monitor', 'typically', 'mist', 'coconspirators', 'declaring', 'consequences', 'mortar', 'shepherd', 'apparantly', 'gsw', 'class', 'getaway', 'chud', 'casinos', 'underweight', 'sucker', 'republican', 'peed', 'sarcasm', 'komodo', 'skilled', 'moto', 'resection', 'wellwritten', 'dmg', 'bump', 'fact', 'viewed', 'neighbourhood', 'excelsior', 'lo', 'sharks', 'too', 'material', 'wildcard', '8x8', 'salah', 'sandwiches', 'impose', 'pistons', 'tickle', 'mystero', 'biting', 'stauncly', 'trailer', 'legality', 'refrigerate', 'tissue', 'cursive', 'miserably', 'unspeakable', 'ageist', 'measured', 'choke', 'cropped', 'algebra', 'algae', 'flask', 'customs', 'sirens', 'represses', 'resistant', 'bobby', 'pat', 'improperly', 'private', 'charisma', 'academy', 'vengeance', 'rotations', 'bol', 'meditations', 'gloom', 'lpt', 'homicidal', 'nudged', 'cremated', 'streams', 'airmen', 'leftpawed', 'youtubers', 'ucp', 'guarantee', 'tgr', 'ikr', 'correcting', 'suppressing', 'requiring', 'blake', 'identify', 'parliament', 'mistakes', 'merge', 'hired', 'benavidez', 'soundcloud', 'successfully', 'selfcontradictory', 'dem', 'rosaa', 'coupledom', 'nextfuckinglevel', 'squading', 'stayed', 'pending', 'sti', 'vicious', 'aah', 'browns', 'posterboy', 'riding', 'invalidate', 'breathtakingly', 'trama', 'drizzle', 'woosh', 'majority', 'sows', 'snitch', 'hannibal', 'tangent', 'metropolitan', 'crowded', 'ticket', 'vid', 'thatd', 'fus', 'rhythms', 'ffe', 'hurling', 'completionist', 'logic', 'outstanding', 'firearms', 'royces', 'sdas', 'tatooing', 'unique', 'settings', 'whose', 'travels', '30g', 'spectate', 'nokias', 'sea', 'sensationalize', 'effectiveness', 'leveled', 'imo', 'showtime', 'fief', 'diff', 'unite', 'bpa', 'strawberries', 'apron', 'fresno', 'frog', 'scribbles', 'oooohwee', 'itd', 'bamboozled', 'ravens', 'turret', 'trp', 'cleared', 'gift', 'blisters', 'bounce', 'clearly', 'forthcoming', 'decision', 'defecation', 'mam', 'middlebury', 'webcam', 'slay', 'squads', 'shipping', 'amazing', 'confronted', 'represents', 'technical', 'pretended', 'hookup', 'helluva', 'arbitrarily', '2004', 'selfie', 'holdos', 'crushes', 'oakland', 'knack', 'incorporated', 'appuhlaysha', 'mouse', 'purged', 'izzy', 'lights', 'admit', 'reinforcing', 'gambol', 'supremacists', 'rosa', 'covcath', 'neat', '912', 'lafc', 'adamant', 'chills', 'lore', 'darned', 'manga', 'whoops', 'grieve', 'hubbah', 'talkin', 'dakota', '5c', '12000', 'oxygen', 'shockz', 'constitutes', '8k', 'hahahaahhhahahahahahaaaaaa', 'winterfell', 'dominatrix', 'cheated', 'hooters', 'weenie', 'conjecture', 'feature', 'running', 'depends', 'dairy', 'wrapped', '10iar', 'com', 'poor', 'volkswagen', 'osrs', 'naivety', 'trickle', 'happpen', 'makeupmaxxing', 'impaired', 'bundle', 'aggressiveness', 'twins', 'brockbots', 'purity', 'sanity', 'channels', 'underrate', 'party', 'iasip', 'blindfold', 'hijacking', 'goldfish', 'amway', '01', 'kaaba', 'reckless', 'survivors', 'scenic', 'thyroid', 'jumps', 'kitten', 'volsksya', 'shepherds', 'tikka', 'chippy', 'popular', 'rtts', 'elderly', 'affiliated', 'xsara', 'relentless', 'individualistic', 'coughing', 'decades', 'suprise', 'confession', 'cup', 'spaghetti', 'protest', 'unupvote', 'damitt', 'offender', 'fancy', 'stupidest', 'unquestionable', 'lacks', 'tithing', 'relocation', 'club', 'insomniac', 'weltham', 'section', 'caffeine', 'fingerprints', 'fucking', 'unranked', 'blindsided', 'ho', 'tweeting', 'strenght', 'raised', 'aligned', 'abled', 'juve', 'feelsbadman', 'slinky', 'coffin', 'delphine', 'purchased', 'assures', 'sandy', 'muscular', 'shhhhh', 'mutant', 'powered', 'herculean', 'destroyed', 'renewable', 'instrument', 'pwoud', 'mbti', 'upperroom', 'allstar', 'surface', 'university', 'btc', 'prosthetic', 'leftovers', 'adopt', 'brushed', 'exhausts', 'ummm', 'chichatroncos', 'failing', 'fare', 'spicy', 'wreck', 'appreciation', 'britain', 'womans', 'insists', 'discipline', 'pastures', 'feminism', 'mmos', 'committing', 'storyline', 'tease', 'scheme', 'packard', 'breakout', 'trannies', 'spray', 'copilot', 'moot', 'yesterdays', 'bridges', 'mayo', 'd', 'urgent', 'monologue', 'sebastian', 'spent', 'lyrics', 'root', 'contaminated', 'generations', 'capsule', 'incorrect', 'biology', 'fastmine', 'signal', 'backstory', 'basterds', 'decency', 'fascism', 'shroud', 'tarred', 'outsiders', 'maddox', 'upstanding', 'eighties', 'handily', 'nicotine', 'tendies', 'trainees', 'supposed', 'please', 'purview', 'payments', 'suffocating', 'childs', 'strawberry', 'walker', 'strokes', 'ld', 'vigilante', 'brokeback', 'demographics', 'map', 'mansplainers', 'tagging', 'affects', 'gropes', 'emailing', 'twas', 'rab', 'craggy', 'before', 'justnos', 'buffs', 'woodhaven', 'unlike', 'driven', 'blacks', 'to', 'polished', 'arguement', 'subscribed', 'trait', 'underwear', 'knowledge', 'coherence', 'puking', 'mentalcels', 'rng', 'librarians', 'jetpacker', 'lips', 'sew', 'stale', 'worsens', 'fappingpedant', 'werewolves', 'recognition', 'disputatious', 'wcc', 'camel', 'warhammer', 'cultural', 'shrunk', 'rateme', 'pnw', 'cred', 'piece', 'entry', 'snuggling', 'kaufman', 'primates', 'shaming', 'cbb', 'main', 'hags', 'jsimms', 'within', 'chromie', 'elephant', 'suffocate', 'overwrought', 'exist', 'exploration', 'enhancing', 'dnd', 'zelda', 'eliminations', 'relic', 'volcanoes', 'maryland', 'hosting', 'explaines', 'striker', 'limbs', 'quips', 'dominance', 'walked', 'anniversary', 'yall', 'patron', 'fridge', 'discretion', 'pills', 'scary', 'perpetrators', 'farming', 'kerb', 'tbm', 'piercing', 'index', 'sacrifice', 'token', 'slur', 'endangerment', 'shawn', 'takedown', 'suppressant', 'bartender', 'underratedly', 'reek', 'qa', 'kalorie', 'aljawab', 'sunshine', 'loathe', 'mah', 'fulltime', 'appliances', 'palms', 'unbelieveable', 'meatless', 'appalachia', 'explore', 'cope', 'revive', 'cows', 'prediction', 'cleans', 'banner', 'antivax', 'enrolled', 'contempt', 'pushes', 'salvation', 'sale', 'yayyyy', 'reboot', 'draws', 'mule', 'flip', 'mech', 'nordics', 'finnish', 'tire', 'enjoyed', 'mum', 'untreated', 'fiddlesticks', 'ties', 'telemarketing', 'tight', 'witten', 'skinner', 'between', 'cow', 'requested', 'teleport', 'omg', 'phoenix', 'mortgage', 'korea', 'lawful', 'mins', 'vermin', 'belgium', 'scientology', 'yellowtinted', 'shine', 'lode', 'fester', 'morgan', 'bendelacreme', 'religions', 'includes', 'woild', 'jerked', 'restore', 'steal', 'jiggy', 'helpfull', 'cockatoo', 'kaigai', 'makeout', 'pledge', 'largely', 'coconspirator', 'sugarplums', 'butterfly', 'rightpawed', 'breeze', 'useable', 'misinformation', 'bathing', 'film', 'noed', 'nz', 'truely', 'world', 'rooms', 'kuss', 'deep', 'midway', 'blasters', 'car', 'attempted', 'nevada', 'lmfao', '1s', 'doubled', 'constitution', '50c', 'twin', 'penínsulas', 'mean', 'refreshed', 'rowdy', 'typical', 'groin', 'siren', 'amateur', 'nsfw', 'efficient', '2am', '309', 'staggering', 'portrayed', 'millionth', 'shutting', '28', 'doggie', 'supple', 'smelling', 'useful', 'lotteries', 'politicize', 'kebab', 'hustle', 'counterfeit', 'overestimate', 'zinger', 'cornetto', 'unsubscribe', 'release', 'scarily', 'tsk', 'networth', 'boo', 'detest', 'addiction', 'fire', 'ada', 'mw4', 'favorability', 'plane', 'frankfurt', 'educated', 'drunks', 'infuriates', 'label', 'teamwork', 'asses', 'sterile', 'hybrid', 'some', 'severe', 'whaaaaaaat', 'canceling', 'panama', 'culturally', 'achieving', 'stick', 'mot', 'echr', 'gradually', 'crotchthrusting', 'legitimate', 'heavy', 'prospector', 'casted', 'crucified', 'snippets', 'rust', 'erie', 'may', 'delusional', 'mails', 'politicians', 'sweater', 'detached', 'jailable', 'shaitan', 'altright', 'anarchist', 'stockholm', 'enslaved', 'whooo', 'pnp', 'backdodged', 'terrify', 'peaky', 'yoooo', 'background', 'unfunny', 'request', 'niemi', 'withdrawal', 'definetley', 'provinces', 'ad', 'appeared', 'seven', 'oo', 'saame', 'negate', 'harrassing', 'bois', 'uhhh', 'employ', 'females', 'culture', 'persons', 'ba', 'fleshy', 'canoe', 'unhave', 'affect', 'ascend', 'always', 'slice', '47', 'nervously', 'enamel', 'yeeeeaaaaahhhhh', 'lma0', 'batshitness', 'postb', 'sofa', 'airborne', 'homophobe', 'bragging', 'griefing', 'meryn', 'triple', 'halftime', 'criticize', 'veal', 'slumbishop', 'shouts', 'halloween', 'evaders', 'bc', 'showering', 'tiaras', 'timelines', 'google', '22pm', 'legislation', 'dealing', 'banker', 'renowned', 'fat', 'hed', 'protein', 'staunch', 'legible', 'bangs', 'excellent', 'loops', 'experimentation', 'norway', 'assaulters', 'anuses', 'farright', 'weve', 'existence', 'whitetail', 'unleashed', 'socialize', 'statements', 'donut', 'hm', 'mad', 'trueborn', 'shops', 'fought', 'clue', 'eyelashes', 'waaaaayy', 'reflect', 'teenagers', 'enjoying', 'hpv', 'estate', 'corpses', 'gentrifiers', 'legalize', 'entertained', 'harness', 'camper', 'told', 'crayons', 'tuning', 'psychologist', 'counteract', 'factory', 'courtyard', 'aging', 'hud', 'facility', 'camera', 'mainly', 'correct', 'bullshit', 'deadlift', 'antidiscrimination', 'betting', 'raising', 'prioritized', 'scw', 'moralizing', 'rui', 'lungies', 'nonobtainable', 'spines', 'manhattan', 'uhm', 'ghetto', 'forest', 'aids', 'talents', 'vetting', 'booze', 'multi', 'charging', 'slips', 'laugh', 'smarty', 'grounds', 'ooooooo', 'rolledup', 'badmouthed', 'reducing', 'handcuffs', 'program', 'soundtrack', 'protectiveness', 'schwinn', 'ball', 'steelers', 'bob', 'bellletstalk', 'beagle', 'eachother', 'impacting', 'dehumanises', 'idea', 'anal', 'failure', 'activist', 'glowingly', 'assembly', 'nacho', 'attentive', 'vancouver', 'gwent', 'boobi', 'lanes', 'fav', 'polyamorous', 'topics', 'streaks', 'apprehension', 'invoking', 'backfire', 'transit', 'pulling', 'danites', 'alones', 'nutters', 'mandle', 'foresight', 'supported', 'trade', 'patricia', 'shirtpull', 'immigration', 'sksksksk', 'vie', 'endings', 'mislintat', 'kachunk', 'marginalia', 'mades', 'anchor', 'evolved', 'discomfort', 'custody', 'robidas', 'yet', 'derived', 'mourn', 'prepared', 'standoffish', 'listened', 'rankings', 'liars', 'savior', 'bud', 'showed', 'carbonated', 'tiltles', 'imaging', 'acceptance', 'gold', 'winded', 'dcfc', 'chips', 'sick', 'checked', 'revisit', 'youand', 'opiate', 'shrew', 'math', 'spate', 'chopped', 'stack', 'envelope', 'waaay', 'trollgc', 'lifesum', 'couples', 'dictate', '1012', 'libdems', 'slimes', 'pasties', 'apples', 'stone', 'hypocrite', 'highway', 'iw', 'ruff', 'prevnar', 'septa', 'cork', 'examples', 'sudden', 'gusgasm', 'rifles', 'gouging', '1440', 'spas', 'adopted', 'decrease', 'fatty', 'besides', 'mtv', 'hartford', 'stl', 'accept', 'divorced', 'lego', 'itt', 'inexperience', 'tex', 'half', 'terrorism', 'lasso', 'dlc', 'phishing', 'cheezit', 'theft', 'wink', 'beetles', 'contested', 'investments', 'maxi', 'thinning', 'figured', 'fathers', 'fuckin', 'thicc', 'theory', 'recoming', 'thriving', 'daunting', 'bees', 'smugly', 'protocol', 'out', '3000', 'cave', 'fencing', 'depth', 'voats', 'kraaifontein', 'entertainment', 'specials', 'feb', 'disconnects', 'l', 'weeps', 'loner', 'molcajete', '1936', 'remastered', 'accepts', 'crabtree', 'thngs', 'halakhically', 'fighting', 'dallas', 'gum', 'towns', 'heartbeat', 'fiend', 'hrs', 'threat', 'sensitivities', 'godspeed', 'epsilon', 'skyrim', 'umm', 'untouched', 'speaking', 'attachments', 'via', 'endometriosis', 'l2', 'feminists', 'lubrication', 'indignant', 'raided', 'alvalade', 'broncs', 'elk', 'narwahl', 'castes', 'governor', 'fandom', 'headline', 'murderedbywords', 'overwhelming', 'bucs', 'haunting', 'thousands', 'fallacies', 'requirement', 'parents', 'african', 'encouraged', 'powell', 'tactically', 'overblown', 'dormant', 'turns', 'timeout', 'unironically', 'girlfriends', 'conceal', 'frosty', 'righty', 'boorish', 'vomit', 'cockroach', 'mirage', 'wiretaps', 'trapped', 'retardation', 'relative', 'fantasising', 'dropping', 'nasties', 'moscato', 'panache', 'packages', 'spoofed', 'calculates', 'dashes', 'immortal', 'complexity', 'sundae', 'markets', '1996', 'rubbing', 'guidance', 'floof', 'damm', 'hooker', 'stung', 'namecalling', 'ussr', 'splice', 'cosmos', 'blood', 'glow', 'apparent', 'artifact', 'vegetable', 'exposes', 'minicomic', 'psychological', 'described', 'tampa', 'biggest', 'spreading', 'vision', 'allaround', 'cringy', 'rugsweep', 'rings', 'secrecy', 'garments', 'ditching', 'known', 'flinches', 'raptor', 'atlesst', 'cultures', 'wwoooooooooooo', 'flattering', 'sephardic', 'creme', 'emerging', 'references', 'full', 'mils', 'misconceptions', 'wires', 'guesses', '316', 'recked', 'midwest', 'tutorials', 'sc', 'experiment', 'emails', 'juke', '7', 'honour', 'hogging', 'cheap', 'heres', 'consent', 'belief', 'amtrak', 'conventionally', 'kowtows', 'liga', 'chihuahua', 'dmc3', 'written', 'figuring', 'spell', 'vodka', 'granddaughter', 'multiplying', 'tyl', 'guess', 'oi', 'condos', 'arizona', 'temperature', 'junk', 'swere', 'ragey', 'fakeworry', 'dvd', 'express', 'sssssssssssssssssssssssssssss', 'brother', 'backtap', 'untimely', 'wwhl', 'straight', 'quick', 'dnc', 'opinions', 'rudest', 'amd', 'tyranny', 'everytime', 'n64', 'jajaja', 'educator', 'tub', 'shoutout', 'susbscribed', 'masochist', 'apathetic', 'mountain', 'even', 'bravo', 'patriots', 'ally', 'whaaaat', 'polygamous', '16yearold', 'schooled', 'neon', 'aaaaaaaaaaaaaahhh', 'dwelling', '9gag', 'power', 'lesbonim', 'exmos', 'askreddit', 'sarcastic', 'ancapistan', 'chemo', 'pops', 'thebstreet', 'halforc', 'emoji', 'dollar', 'embiids', 'probabilistic', 'resistent', 'antiperspirant', 'x62ony', 'propeace', 'slash', 'pizzas', 'aaahhh', 'welldeserved', 'omniknight', 'sorting', 'freestyle', 'artist', 'devoted', 'insecurity', 'nagr', 'dentist', 'nudge', 'vietnam', 'vig', 'qb', 'packers', 'plague', 'brazenly', 'artosis', 'everyone', 'triangle', 'joes', 'relaxation', 'openly', 'splendorinthetrash', 'crawled', 'attest', '250', 'wshl', 'dared', 'probaby', 'stubbornly', 'mass', 'paused', '30th', 'explaining', 'rotties', 'jk', 'snot', 'publication', 'rabbit', 'shutdown', 'drafted', 'wood', 'nasty', 'fatal', 'retired', 'agreeing', 'mounting', 'already', 'convincing', 'cps', '1k', 'shithead', 'ye', 'solidarity', 'theorise', 'ahead', '12', 'joyful', 'internet', 'entp', 'indigenous', 'afloat', 'lightning', 'rattles', 'divide', 'thankkks', 'dutch', 'clackmannanshire', 'actions', 'coast', 'cameraman', 'theres', 'refund', 'cooks', 'champions', 'idiotic', 'flowers', 'meditation', 'fines', 'traditional', 'tolling', 'cater', 'auctions', 'oppressive', 'excite', 'tdee', 'unemployment', 'speed', 'ben', 'visiting', 'audience', 'shape', 'becomes', 'spoil', 'serenity', 'gaslights', 'had', 'towards', 'resist', 'awfully', 'prosyrianrebel', 'nonpaywall', 'unilingual', 'relaxes', 'weigh', 'tsunderes', 'leakage', 'worded', 'transcendent', 'pectus', 'ru', 'englishlanguage', 'image', 'treason', 'density', 'freeks', 'deformities', 'anorexia', 'runway', 'lightborn', 'badge', 'arkansas', 'beatin', 'accosted', 'drum', '05', 'puriod', 'daydream', 'libgen', 'normalcy', 'sideline', 'chief', 'leavers', 'takes', 'penmanship', 'eyeopening', 'megathread', 'vault', 'comstock', 'pushers', 'tolerated', 'along', 'fetish', 'found', 'hawick', 'pictures', 'rumor', 'fingers', 'ginger', 'frustrated', 'ballooned', 'diverges', 'gbs', 'start', 'cooler', 'requires', 'flight209er', 'bahahaha', 'tippr', 'hideouts', 'outlive', 'semi', 'cd', 'grad', 'gtfo', 'empathy', 'afaik', 'uninstalled', 'envoy', 'scares', 'subway', 'aunt', 'din', 'despair', 'patiently', 'crooks', 'sunscreen', '404', 'menstrual', 'like', 'scarlet', 'fuuuuuuuuuuuuuuuuuuuuuuuuuuuuuuuuuuuuuuuuuuuuuuuuuuuuuuuuuuuuuuuuuuuuuuuuck', '2020s', 'show', 'furloughed', 'ig', 'animals', 'champs', 'soup', 'fur', 'iittssss', 'margs', 'task', 'badges', 'banished', 'ballsack', 'undiagnosed', 'frighteningly', 'judgment', 'comrades', 'systems', 'celtic', 'yfamous', 'for', 'feministidentifying', 'exemplary', 'enlightnen', 'admins', 'spider', 'happens', 'drama', 'overdone', 'rainforest', 'lasting', 'khl', 'mark', 'boycott', 'parttime', 'cus', 'temperatures', 'pdfs', 'fyre', 'shhh', 'womens', 'amounts', 'semitism', 'checher', 'tmors', 'sizzle', 'westside', 'dreadful', 'toles', 'aumf', 'gate', 'wooshes', 'rapists', 'fascists', 'mitzvot', 'production', 'slowed', 'corporatelyfunded', 'asst', 'shit', '90s00s', 'somewhere', 'relate', 'rn', 'seed', 'ditched', 'punishable', 'pour', 'assists', 'belongs', 'taxes', 'aspie', 'closing', 'antiquated', 'tears', 'ease', 'catches', 'spoilers', 'boomhower', 'geometric', 'redpill', 'hills', 'nutmegger', 'tough', 'sayings', 'eichenwald', 'presented', 'favorable', 'nonliving', 'covina', 'shamwow', 'heads', 'pretending', 'lineup', 'nowitzki', 'incoherent', 'palpatine', 'torment', 'pedantry', 'hearts', 'gaining', 'ducker', 'fiscally', '1782', 'artists', 'oz', 'impatient', 'flashy', 'corgi', 'outfits', 'memeable', 'downstairs', 'emp', 'talked', 'huawei', 'burkina', 'arrangement', 'rb', 'joy', 'effected', 'pls', 'clicking', 'college', 'lmao', 'cummonists', 'backup', 'snob', 'belle', 'coach', 'satisfaction', 'prime', 'farmer', 'iphones', 'summoned', 'insurance', 'clemson', 'cabin', 'baffler', 'mkx', 'scar', 'bruises', 'stab', 'frozen', 'pee', 'comments', 'undrafted', 'rep', 'snowy', 'tension', 'duration', 'pilot', 'investigated', 'upong', 'spanish', 'athletic', 'bosses', 'narratives', 'speeding', 'alright', 'their', 'actor', 'kick', 'dry', 'edit', 'anathema', 'shelved', 'skeleton', 'tab', 'meetings', 'optics', 'hospitality', 'cannibal', 'pedestal', 'vodoo', 'chairs', 'pub', 'italics', 'necessity', 'hitter', 'adventure', 'antibiotics', 'avoiding', 'impacted', 'protectors', 'koracick', 'teaches', 'differently', 'turned', 'gazes', 'trilogy', 'cantaloupe', 'troll', 'acts', 'money', 'ooof', 'himym', 'india', 'dwig', 'grip', 'dh', 'k9', 'actives', 'cap', 'relates', 'azmo', 'crating', 'howling', 'smurf', 'supply', 'pcmasterrace', 'employee', 'pisses', 'brazilian', 'nongovernment', 'sketches', 'monthand', 'mouthful', 'typhoon', 'stickied', 'lobby', 'contentless', 'deuce', 'mexican', 'somalian', 'faze', 'anywhere', 'unfairly', 'z', 'price', 'parry', 'shlong', 'convict', 'bush', 'fouled', 'veganmarketed', 'potheads', 'liver', 'wander', 'idocy', 'reactor', 'photoshop', 'mu', 'gdmnit', 'covergirl', 'splaining', 'miserable', 'parkway', 'consider', 'depend', 'freshman', 'wheres', 'lurked', 'interstate', 'us', 'policies', 'generate', 'mehenjodaro', 'specialist', 'reduces', 'rrrrrrrripped', 'perhaps', 'institute', 'rumble', 'first', 'tuna', 'toenails', 'groped', 'condemn', 'neighbors', 'deaf', 'yoursbreakbot', 'tina', 'underwhelmed', '3035', 'scooter', 'demonized', 'minus', 'realise', 'hey', 'bone', 'meaningful', 'coldturkey', 'majestic', 'decoder', 'narcoleptic', 'subs', 'complex', '100th', 'substance', 'ponzi', 'heck', '2025', 'sony', 'intentionally', 'warmth', '9game', 'betrayed', 'gripping', 'passive', 'doomdidoom', 'lacy', '1m', 'forhead', 'wealth', 'imām', 'jornada', 'plant', 'pixel', 'kettle', 'slot', 'hahahahshshajsha', 'bembry', 'cash', 'morocco', 'philosophy', 'staying', 'magabomber', 'classmates', 'disadvantaged', 'durability', 'demand', 'hv', 'wept', 'happys', 'participation', 'publicized', 'valyria', 'sc6', 'burden', 'flaired', 'sigh', 'copied', 'doozy', 'benzo', 'support', 'journalist', 'abuse', 'converstaion', 'thielen', 'intermittent', 'bellevue', 'belgrade', 'tael', 'foie', 'fell', 'standoff', 'hurr', 'expose', 'snowed', 'intolerant', 'insecurities', 'hahahah', 'joys', 'milsons', 'judge', 'prequel', 'agent', 'alert', 'nothin', 'general', 'jush', 'large', 'happy', 'taxis', '1rn', 'novo', 'unlearn', 'congratulatory', 'rounders', 'employers', 'excavatum', 'grabs', 'moan', 'sunburn', 'clients', 'mavs', 'sniffing', 'afc', 'viral', 'gentlemen', 'militias', 'downback', '83rd', 'shabbat', 'causalchildabuse', 'stickers', 'awry', 'signaling', 'geek', 'pacing', 'bedtime', 'sydney', 'aligning', 'gorgeousss', 'nes', '217', 'horns', 'warned', 'asks', 'servings', 'uwu', 'straw', 'explicit', 'fmri', 'criteria', 'siege', 'ooga', 'outs', 'botw', 'poops', 'antisemetism', 'enlightened', 'comparing', 'wipes', 'overcooked', 'obj', 'bleed', 'dreamed', 'liabilities', 'refusal', 'uncommon', 'worcester', 'abstract', 'increases', 'heartless', 'hawk', 'vgbc', 'tolerance', 'labyrinth', 'fiddle', 'womp', 'muster', 'lid', 'integral', 'unnecessary', 'lololololol', 'included', 'egos', 'tweaking', 'lololol', 'adding', 'chabanais', 'brownlow', 'prejudiced', 'converting', 'counselor', 'banks', 'parachuting', 'kansas', 'peeve', 'slave', 'reversed', 'aversion', 'proposing', 'coworker', 'seeig', 'tis', 'supercuts', 'scripted', 'nephews', 'fives', 'qualifies', 'memorial', 'munt', 'brandishing', 'fyi', 'episode', 'correlated', 'timeline', 'endorsed', 'roomates', 'gasped', 'seasonals', 'occupies', 'steaks', '40s', 'blasting', 'strategy', 'notifications', 'ultimates', 'makers', 'participating', '7270', 'hecking', 'speaks', 'newborn', '999', 'kippa', 'harvest', 'bourbon', 'viscera', '1113', 'exciting', 'transmitted', 'whiteblonde', 'marks', 'nap', 'ends', 'smothered', 'anyone', 'deterrent', 'wonderbars', 'hangry', 'dictator', 'oneliners', 'doctored', 'hooked', 'thiss', 'redwings', 'barstool', 'dean', 'determines', 'announcers', 'haked', 'egged', 'comforting', 'integrating', 'beheading', 'load', 'deport', 'pivot', 'aka', 'upload', 'seasons', 'summerside', 'architect', 'legion', 'downplay', 'principles', 'bigger', 'dbags', 'ohhhhhhh', 'skeptical', 'piston', 'cgi', 'lefty', 'designers', 'traumatizing', 'breakfast', 'aight', 'bills', 'cradle', 'h', 'lip', 'edm', 'nervous', 'snap', 'able', 'happen', 'threading', 'gladly', 'win', 'never', 'immigrants', 'resource', 'bork', 'rimiru', 'errors', 'virtus', 'sees', 'lock', 'cable', 'bash', 'gigs', 'buck', 'brian', 'neve', 'strang', 'healing', 'yt', 'shred', 'hurtful', 'tigers', 'suura', 'germany', 'continues', 'greaseball', 'mushy', '9000', 'discuss', 'disturbs', 'brb', 'rename', 'cliffhanger', 'fanboyism', 'mewing', 'gendered', 'if', 'ladder', 'shortage', 'femcels', 'weaker', 'ecf', 'kepa', 'sulphuric', 'reviews', 'controversial', 'relatively', 'issues', 'scammers', 'montages', 'anecdote', 'flight', 'clash', 'apocalypse', 'tbph', 'sample', 'sadly', 'chiclets', 'rhinestones', 'amber', 'disingenuous', 'sit', 'oogle', 'fulfills', 'curry', 'wize', 'hmmmhmmm', 'detailed', 'numero', 'remembered', 'couch', 'okcupid', 'blockage', 'qcx', 'blues', 'absolueltey', 'predated', 'slippery', 'occured', 'real', 'difficult', 'nazi', 'tune', 'streaming', 'gives', 'goodlooking', 'utkar22', 'given', 'destruct', 'intended', 'guerrilla', 'myspace', 'booty', 'strengthened', 'carbon', 'beeping', 'politics', 'soulmate', 'upsetting', 'ughhh', 'sm', 'adequately', '110', 'tile', 'watched', 'resting', 'lubrica', 'aint', 'coachella', 'traumatic', 'brothas', 'nowadays', 'tricky', '77', 'ltc', 'exec', 'nerdinater', 'schools', 'ohhhhh', 'nonononoyes', 'delays', 'san', 'rarely', 'stretched', 'suggest', 'travel', 'prodigy', 'entree', 'script', 'concerned', 'greece', 'purebreds', 'ultraviolet', 'smart', 'tremendous', 'martyr', 'lungs', 'thedickpill', 'ultra', 'seattle', 'housewife', 'truth', 'cripple', '2day', 'sorted', '250m', 'saddle', 'credibility', 'deepfakes', 'jpg', 'akron', 'snowmen', 'ckth', 'traitorous', 'habitual', 'per', 'thoracotomy', 'imageboards', 'violating', 'pinkers', 'episoode', 'referrals', 'aphex', 'newyorkmets', 'clicks', 'offyear', 'packs', 'dismembering', 'sweating', 'arsed', 'slurs', 'shouldered', 'ep4', 'easier', 'pen', 'psycho', 'eb', 'tbag', 'ugh', 'height', 'swiss', 'golds', 'basks', 'similarity', 'ftfy', '43', 'fabies', 'homebase', 'white', 'zebras', 'supposedly', 'funnel', 'unable', 'dictatorships', 'ways', 'oct', 'park', 'forward', 'yankees', 'infuriate', 'quits', 'pinky', 'powers', 'helvetica', 'reported', 'grooming', 'likable', 'jacking', 'llama', 'eight', 'nurses', 'selfdescribed', 'witcher', 'brains', 'prostitute', 'magamers', 'saturdays', 'criticized', 'expectations', 'capital', 'oher', 'dlo', 'venerate', 'tik', 'combos', 'fc', 'advocate', 'jungle', 'pewdiepie', 'dodge', 'truthers', 'centre', 'cinemax', 'mono', 'kind', 'whisperer', 'mayocide', 'diverged', 'litter', 'blockers', 'yay', 'disperse', 'nbas', 'nocontextpics', 'haiyundaieee', 'psyche', 'prosser', 'trespass', 'fence', 'does', 'reminds', 'oj', 'count', 'guidelines', 'shadowy', 'rescued', 'allianz', 'waking', 'deuces', 'madrid', 'believable', 'chutzpah', 'oneitis', 'inspiration', 'freeze', '45', 'jetpacking', 'nationalists', 'titlegore', '40th', 'garrison', 'dope', 'drinks', 'rowan', 'minds', 'flirting', '5000', 'band', 'humor', 'chipotleee', 'bans', 'thoughts', 'agenda', 'hzuh', 'dug', 'intimate', 'j', 'summoning', 'prestige', 'nobility', 'shalom', 'gladiators', 'county', 'contenting', 'demi', 'legal', 'weighted', 'pied', 'theqtvain', 'texture', 'waaah', 'bitches', 'malice', 'ought', 'sociopath', 'feel', 'relief', 'guarenteed', 'nobodyissafe', 'crotch', 'solution', 'disabled', 'optimum', 'tines', 'exploded', 'pines', 'points', 'moderators', 'unreliable', 'ea', 'sometimes', 'engage', 'authors', 'reformism', 'sunny', 'circlejerking', 'leading', 'grill', 'potcoin', 'leftwing', 'prophecies', 'rotj', 'newtubers', 'ngga', 'folk', 'toughest', 'imaginary', 'discovering', 'outgoing', 'flora', 'themself', 'tok', 'foul', 'into', 'ferk', 'lyrical', 'massage', 'terrible', 'vegetables', 'ironclad', 'songwriting', 'deluxe', 'hurt', 'consultation', 'arrested', 'released', 'guest', 'colours', 'wooow', 'bandersnatching', 'tanned', 'hot', 'reflex', 'audit', 'differing', 'clauses', 'paragraph', 'sinister', 'agitating', 'sticks', 'checks', 'exercising', '333', 'fixing', 'ayy', 'whack', 'shaving', 'winner', 'subset', 'satirical', 'packed', 'serial', 'meds', 'martial', 'defo', 'barren', 'subject', 'gah', 'lovegod', 'yikes', 'mcribs', 'indie', 'akward', '5b', 'gametime', 'girl', 'remainers', 'workforce', 'crash', 'revolution', 'paranoid', 'winning', 'pester', 'funded', 'ritz', 'fiddish', 'voljin', 'feto', 'cheering', 'ending', 'taranaki', 'untraceable', 'securing', 'gtk', 'responsibilities', 'destroy', 'demolished', 'downvote', 'guards', 'disagree', 'giambi', '2002', 'visitation', 'benefited', 'oldies', 'intj', 'attending', 'douche', 'tank', 'periodically', 'mistakenly', 'vezinas', 'lift', 'embarrassed', 'at', 'smh', 'dive', 'paste', 'grungy', 'wut', 'cookie', 'interviewing', 'lucid', 'decided', 'woooosh', 'lala', 'fdr', 'advice', 'nourish', 'textless', 'glossed', 'wary', 'ruler', 'was', '3d', 'teammates', 'morbid', 'complicit', 'remembers', 'shy', 'finest', 'trademark', 'styro', 'maliciouscompliance', 'nerdy', 'tailgate', '20th', 'manure', 'thog', 'crispy', 'whyd', 'bish', 'antibiotic', 'sleepy', '16yrs', 'contributor', 'whipping', 'sure', 'ethnic', 'heartbreak', 'scarf', 'straits', 'giggles', 'software', 'nword', 'prioritize', 'retriever', 'kage', 'circumstances', 'atf', 'wayyy', 'incepcion', 'introverts', 'indoctrination', 'underrated', 'yeqpnsaved', 'partisan', '59', 'benign', 'mesmerising', 'disability', 'tiers', 'sky', 'becoz', 'bocce', 'glitter', 'trumps', 'what', 'mistyped', 'infiltrated', 'ram', 'shrewd', 'chessless', 'wantsyou', 'mattresses', 'processes', 'goddamit', 'wordy', 'laptop', 'flipped', 'medicine', 'braid', 'ramos', 'losses', 'probability', 'banana', 'lulz', 'assessments', 'stretch', 'song', 'ick', 'overwrite', 'nagging', 'knee', 'equalizer', 'budging', 'yep', 'tastes', '41', 'donate', 'shark', 'b8', 'rigor', 'insulted', 'boet', 'harassment', 'religious', 'quakes', 'evacuated', 'alternatives', 'superthin', 'cranking', 'action', 'monogamy', 'federal', 'fringe', 'chiche', 'duty', 'coerces', 'sours', 'metal', 'bias', 'brightly', 'late', 'lunatics', 'distaste', 'licensed', 'bumps', 'school', 'trucks', 'sabres', 'opposes', 'hangs', 'vast', 'leaky', 'cheapness', '11am', 'neednt', 'jfc', 'hawaiian', 'teleporting', 'ge', 'ochils', 'firecracker', 'turkish', 'adore', 'supervisor', 'elfen', 'remnants', 'terrifyingly', 'futures', 'fetishists', 'saliva', 'cookies', 'fear', 'proletariat', 'garmfield', 'polarvortex', 'nationalism', 'umbrella', 'lithium', 'shrugs', 'evenly', 'exp', 'elephants', 'postponed', 'oppressing', 'rants', 'drool', 'possible', 'permission', 'naw', 'wingers', 'plymouth', '13', 'foreigner', 'arrow', '146', 'chamber', 'cheer', 'brushing', 'expenses', 'taught', 'queuing', 'proportion', 'dolls', 'careers', 'laughable', 'atheists', 's7', 'realizes', 'yeaaaahh', 'grabbed', 'pad', 'daaaaang', 'qualified', 'socialist', 'sexdating', 'crackin', 'someones', 'hiiden', 'mobilization', 'ouchy', 'deadline', 'iceland', 'stache', 'hurdles', 'darker', 'suburban', 'buzz', 'sights', 'looooot', 'love', 'magnons', 'cranked', 'strip', 'maui', 'incels', 'tim', 'refractory', 'obv', 'earning', 'daily', 'or', 'vulnerable', 'see', 'headphones', 'prayer', 'mandarin', 'arabic', 'managers', 'hundreds', 'drug', 'bombs', 'nylander', 'slots', 'maggo', 'hurricane', 'fec', 'hydrocortisone', 'colts', 'storyteller', 'disinfected', 'flaps', 'keys', 'smells', 'ocean', 'isil', 'cocktail', 'attraction', 'recover', 'realistic', 'inevitably', 'kit', 'compulsive', 'comfortable', 'cop', 'grammar', 'vaseline', 'encounter', 'elegant', 'aquaman', 'go', 'overbooking', 'collors', '73', 'formed', 'his', 'memorized', 'ended', 'phonetic', 'spine', 'crybaby', 'intuitive', '10907th', 'vodacom', 'newbie', 'ridiculousness', 'sweety', 'grieving', 'mandatory', 'acura', 'megaman', 'arabia', 'perks', 'housing', 'problematic', 'thanking', 'salt', 'butter', 'ships', 'unbreakable', 'incredible', 'sheets', 'chore', 'watch', 'screenshot', 'received', 'nazguls', 'toothpick', 'authority', 'dimension', 'reform', 'ebbets', 'nv', 'generalizations', 'crushing', 'seatbelt', 'blanks', 'bird', 'crumb', 'panel', 'douchebag', 'rescind', 'stupidity', 'proassad', '1000', 'deed', 'entrepreneurship', 'contributions', 'aficionado', 'claps', 'mutually', 'cobble', 'collected', 'protectem', 'faggots', 'drs', 'flavour', 'ridden', 'cw', 'storylines', 'weighin', 'coulters', 'perceptions', 'canadas', 'countless', 'tirade', 'results', 'came', 'coastal', 'tho', 'related', 'competing', 'duel', 'terribly', 'accord', 'wear', 'readers', 'arc', 'annhilation', 'qualities', 'burglar', 'brazil', 'solely', 'stepmom', 'dyed', 'enclosed', 'tiddy', 'exs', 'congnitive', 'forever', 'caught', 'voluntary', 'repeal', 'boiledchickenleg', 'occurred', 'zappacosta', 'sorta', 'extol', 'goosebumps', 'char', 'source', 'puke', 'during', 'obama', 'generated', 'misswired', 'coven', 'nolook', 'saver', 'respected', 'aotc', 'clifton', 'vampired', 'righteousness', 'wider', 'hadnt', 'detroyed', 'dirrrkkkk', 'goalpost', 'observing', 'tailed', 'branches', 'salary', 'grandfather', 'reactionary', 'bankrupted', 'ja', 'tribe', 'sakura', 'medication', 'eggs', 'chilled', 'disappointing', 'grossest', 'eyelids', 'desperately', 'strikes', 'aghulas', 'rotate', 'savoury', 'redhead', 'enough', 'scrolls', 'peeing', 'specified', 'tiger', 'caller', 'heroic', 'ownership', 'raddus', 'supercomputer', 'swf', 'powerful', 'bun', 'heaping', 'laughter', 'wasted', 'soy', 'contact', 'popped', 'jordan', 'european', 'concluding', 'watered', 'statistic', 'parasite', 'substantial', 'nogood', 'motives', 'prohibited', 'spiteful', 'pmo', 'yesssssss', 'weirdly', 'scenes', 'obtrusion', 'cynic', 'rockstar', 'wig', 'parallel', 'spots', 'aussies', 'nodinputpad', '30', 'fools', 'tendencies', 'shells', 'hoes', 'lack', 'rotated', 'knot', 'osaka', 'explained', 'kato', 'god', 'dystopian', 'docs', 'champagne', 'topper', 'mode', 'claim', 'ks', 'ataae', 'tiramisu', 'contribute', 'forego', 'morphe', 'crust', 'perverse', 'shortsighted', 'mispropaganda', 'mechanism', 'rifle', 'dissipate', 'mice', 'scooping', 'reading', 'slapped', 'disregard', 'refuse', 'jellies', 'madden', 'owns', 'kitties', 'wisely', 'unremarkable', 'gday', 'vernon', 'thinkers', 'body', 'seemingly', 'swearing', 'fortaleza', 'ring', 'dishonesty', 'inhabited', 'nc', 'chargers', 'panda', 'double', 'superman', 'pyre', 'psychs', 'cusa', 'apartheid', 'imos', 'contentious', 'negligent', 'remains', 'got', 'banter', 'slob', 'enforcer', 'abh', 'rape', 'worse', 'eager', 'stoning', 'overweight', 'masterpiece', 'midtown', 'redacted', 'busting', 'lethargic', 'migraines', 'kratz', 'citizen', 'intrusive', 'desperation', 'bumbling', 'ref', 'among', 'od', '3b', 'strange', 'alpro', 'monarch', 'chilling', 'analyst', 'forth', 'compulsions', 'resulted', 'catching', 'norman', '6969', 'interlocked', 'technically', 'alaykum', '99', 'chem', 'lobbed', 'biden', 'wendys', 'ongoing', 'anticapitalist', 'symphatizers', '1stround', 'imitates', 'dif', 'brightened', 'fbs', 'cricket', '4000', 'philosophical', 'literacy', 'actual', 'product', 'tempe', 'suggests', 'consumed', 'granville', 'humble', 'unrest', 'flinch', 'concurred', 'legaladviceuk', 'choices', 'boob', 'staples', 'phrased', 'sellers', 'emphasize', 'fournier', 'fading', 'jail', 'ayyyy', 'substantively', 'wheelchair', '1988', 'implication', 'marxism', 'ic', 'relatable', 'petite', 'sorrows', 'improve', 'commanded', 'stories', 'freak', 'offhand', 'mayday', 'foreign', 'displeasure', 'greater', 'graph', 'convicted', 'strategic', 'hulk', 'astroturf', 'nintendo', 'scarred', 'unknown', 'beige', 'hideous', '170', 'orthodontist', 'ipad', 'tooooo', 'subsequently', 'syracuse', 'proportional', 'handles', 'applaud', 'feminsts', 'more', 'p4', 'aff', 'peninsula', 'yelling', 'eaten', 'holidays', 'dollops', 'y', 'jugular', 'haemorrhoid', 'wealthiest', 'peregrine', 'odyssey', 'majoring', 'tail', 'angles', 'bball', 'isolation', 'femboys', 'making', 'amlooking', 'miss', 'tempting', 'moicano', 'justifications', 'teammate', '10k29k', 'gymnastics', 'bonkers', 'daddys', 'kip', 'mordor', 'bargaining', 'inhumane', 'hq', 'column', 'rewatched', 'jeopardy', 'pfas', 'karate', 'consumer', '2400', 'cho', 'ethics', 'sis', '4th', 'infj', 'pacific', 'lan', 'meanwhile', 'roof', 'savor', 'tl', 'newest', 'saga', 'faceit', 'stun', 'brotherinlaw', 'dd', 'remove', 'chronic', 'identical', 'ticks', 'raped', 'darling', 'eating', 'fuzzies', 'shotgun', 'mario', 'rookies', 'noped', 'brexit', 'crimsoneagl3', 'duping', 'twd', 'reset', 'window', 'dude', 'traces', 'palestine', 'measure', 'cents', '20mg', 'rhyme', 'nextlevel', 'slack', 'noticed', 'both', 'dinosaurs', 'signee', 'felony', 'chow', 'harper', 'shoppers', 'who', 'identifying', 'freefreebradshaw', 'wax', 'ahhh', 'mankind', 'varies', 'cool', 'tackling', 'waaaaaay', '2m', 'messages', 'fills', 'hotels', 'touted', 'prostitutes', '27', 'wooooshable', 'chorizo', 'expand', 'scorpion', 'dumbster', 'discourage', 'deletes', 'tanked', 'unionism', 'latex', 'gif', 'antiisrael', 'retarded', 'incognito', 'aussie', 'mooching', 'serves', 'this', 'nicest', 'disoriented', 'elitism', 'questionable', 'aires', 'soccer', 'vandalism', 'approve', 'steady', 'rang', 'supermarket', 'aca', 'sciencebowl', 'yepp', 'hadoken', 'resurfaced', 'ish', 'polygamy', 'grandparents', 'shoot', 'household', 'lemons', 'ow', 'sailed', 'behaving', 'apt', 'dabs', 'snp', 'cbs', 'andy', 'donair', 'ot', 'windy', 'broader', 'òwó', 'samsies', 'offline', 'geniuses', 'acne', 'blackmailed', 'chillest', 'crutch', 'rotation', 'fifth', 'stray', 'hugs', 'allucinating', '000x', 'interviews', 'yknow', 'ottoman', 'naming', 'omit', 'professional', 'factor', 'sedation', 'fucknugget', 'quad', 'awkward', 'words', 'smooth', 'apple', 'purposeful', 'fail', 'plants', 'favourites', 'horribly', 'snac', 'dish', 'broomfield', 'dayum', 'bucket', 'stern', 'consistently', 'rodeo', 'watcher', 'individual', 'doorbell', 'seriousness', 'fortunately', 'maidens', 'elitists', 'blue', 'gf', 'resta', 'carbs', 'nmom', 'rapidly', 'abnormal', 'trying', 'whom', 'clap', 'handicapped', 'councillors', 'packet', 'compliments', 'cryptocurrency', 'relive', 'tuition', 'heerengracht', 'remindmebot', 'vomitting', 'clapped', 'most', 'gatekeeping', 'pretoria', 'peodphile', 'hebephilia', 'tf', 'writing', 'read', 'likewise', 'photography', 'md', 'soulread', 'tobacco', 'banned', 'selfidentifying', 'but', 'when', 'laser', 'jewry', 'underused', 'outvalue', 'faux', 'brainwashed', 'abhorrent', 'limit', 'dated', 'awoken', 'thinks', 'pages', 'recruiting', 'so', 'tifu', 'gray', 'sk', 'outlazy', 'foundation', 'classified', 'products', 'postion', 'hahha', 'replacing', 'keyboards', 'downsized', 'starvation', 'sap', 'penthouse', 'memorize', 'red', 'emulator', 'grille', 'taste', 'roundup', 'skimms', 'fuzz', 'blackkklansman', 'beefy', 'machinery', 'id', 'oughta', 'analysis', 'bdsm', 'will', 'linked', 'fluke', '93', 'communicate', 'prevailing', 'corrupted', 'neysayers', 'standards', 'fft', 'constellations', 'processing', 'sitdown', 'hurts', 'summer', 'bribe', 'antiscience', 'idc', 'sci', 'gayest', 'nauseated', 'represented', 'caused', 'abfab', 'horray', 'selected', 'crush', 'omfg', 'cutest', 'forehead', 'allowance', 'mafia', 'nhl', 'inroads', 'jihadi', 'pumpkin', 'undertaken', '1987', 'gangsta', 'starters', 'buffer', 'disgusted', 'snapped', 'defunded', 'strength', 'uncontrolled', 'vibe', '70s', 'irritable', 'yeha', 'centrist', 'dudeeee', 'lot', 'match', 'gets', 'forbidden', 'pensacola', 'collab', 'occasion', 'rookie', 'dreamy', 'nobody', '521', 'ignore', 'abysmal', 'parity', 'stretches', 'sam', 'nonstop', 'must', 'furry', 'matress', 'bot', 'droves', 'exhalation', 'tournament', 'blade', 'begging', 'spongebob', 'keyboard', 'features', 'whining', 'resets', 'indicative', 'teamyoutube', 'eps', 'selective', 'pioneer', 'universal', 'escort', 'awkwardness', 'couldve', 'aftershow', 'sociopaths', 'decks', 'pastor', 'dsj', 'podracing', 'debate', 'normies', 'monaco', 'coordinator', 'betrays', 'manipulated', 'straightened', 'trespassed', 'ancoms', 'shallower', 'governance', 'intriguing', 'stahms', 'desktop', 'compliance', 'abusive', 'espionage', 'joint', 'treatment', 'tahiti', 'lauded', 'swiping', 'cops', 'benevolent', 'showy', 'driving', 'commentating', 'assault', 'mexcuse', 'portion', 'supper', 'organs', 'assistant', 'preferred', 'drenching', 'actualize', 'obstruct', 'npr', 'orthodoxy', 'rehiring', 'confiscate', 'facebook', 'starwars', 'neonazi', 'hahahahah', 'barbaric', 'praise', 'rusher', 'purchase', 'countries', 'dec', 'political', 'broadcast', 'dedication', 'helm', 'dis', 'message', 'redditor', 'patters', 'livonia', 'analogues', 'mixup', 'negotiations', 'lolis', 'ginch', 'muh', 'na', 'lotion', 'misinformed', 'least', 'locationbot', 'explains', 'clans', 'imperialism', 'chase', 'pcs', 'irreparable', 'opiates', 'freeing', 'wayfair', 'once', 'bomb', 'weekly', 'geocities', 'assured', 'articulacy', '08am', 'routine', 'roam', 'consisting', 'cp3', 'wtfr', 'adjusted', 'cried', 'rework', 'survives', 'impregnate', 'processor', 'emblem', 'stats', 'dl', 'flag', 'amen', 'gloves', 'antwaarps', 'awe', 'relations', 'verysmart', 'registry', 'trafficked', 'perpetual', 'licking', 'audacity', 'colour', 'itgetsthroughboner', 'tyler', 'screencap', 'mmm', 'domain', 'sandwich', 'antique', 'phsyically', 'fruitcart', '00', 'difficulty', 'psychosis', 'truegaming', 'mueller', 'knights', 'gooses', 'angry', 'dates', 'haj', '2', 'mug', 'pie', 'aquarium', 'unironcally', 'publicised', 'hint', 'nj', 'bullying', 'tiara', 'fans', 'internship', 'regulation', 'stressed', 'stinky', 'pepehands', 'smoking', 'hasnt', 'yayyy', 'requests', 'angina', 'deficancy', 'loo', '7th', 'correlation', 'peers', 'dismantle', 'blackmail', 'spouse', 'discharging', 'toss', 'sundays', 'ip', 'metaphorsavi', 'semantics', 'liviosaa', 'nefarious', 'conjugal', 'mccalisters', 'very', 'meant', 'booked', 'niece', 'thc', 'cavs', 'restart', 'testimony', 'inbetween', 'strike', 'rightful', 'semichah', 'cubs', 'stealth', 'violation', 'assume', 'spouting', 'soviet', 'jobby', 'matchmaking', 'trappers', 'moments', '19', 'poster', 'removing', 'skillset', 'bloodpoints', 'soda', 'glass', 'noobs', 'unit', 'victimless', 'omgg', 'compilation', 'bnw', 'preordering', 'resisting', 'lickin', 'heights', 'fluffy', 'surmount', 'aav', 'proverb', 'antigunner', 'autonomous', 'minimum', 'snipers', 'perpetrator', 'akhi', 'haystack', 'ditalite', 'admiring', 'warlords', 'wasters', 'imc', 'eagerly', 'vile', 'thrown', 'hoarding', 'solutions', 'volumewise', 'whenever', 'randazzos', 'ghouls', 'nutty', 'fainting', 'af', 'puha', 'inventors', 'turn', 'unfireable', 'amusement', 'worries', 'buting', 'reinhart', 'lumped', 'sorcery', 'bop', 'hummingbird', 'otro', 'beneath', 'pats', 'kicking', 'pattern', 'mastermind', 'regular', 'crippling', 'robbing', 'baller', 'knees', 'bury', 'harasser', 'provided', 'parsing', 'balon', 'cumpoo', 'ce', 'keen', 'vaccinated', 'presents', 'romantic', 'hike', 'wrecks', 'antitheft', 'sundogs', 'lanolin', 'gunpoint', 'neeeeeews', 'encourage', 'featuring', 'regrettable', 'votes', 'pooping', 'remainer', 'shrimp', 'simply', 'cubo', 'fault', 'oponent', 'reversing', 'flaw', 'speechless', 'breaded', 'tricked', 'won', 'cuteee', 'cockends', 'somewhat', 'hawaii', 'submission', 'infatuation', 'rlm', 'grandmothers', 'bing', 'journals', 'mere', 'covers', 'ecourage', 'snarkball', 'schottenheimer', 'wheezed', 'plug', 'picked', 'sliiiiick', 'ii', 'diddy', 'revoked', 'villain', 'uncertainty', 'disowned', 'pfizer', 'skating', 'use', 'beirt', 'assuming', 'charming', 'harm', 'dollars', 'hilarity', 'deals', 'meming', 'maternal', 'yourself', 'panther', 'canon', 'captures', 'prevalent', 'painted', 'goddamned', 'quitting', 'unread', 'spoiling', 'ruiner', 'routing', 'nightclub', 'beasts', 'themes', 'flamer', '2223', 'yanks', 'roman', 'bachelors', 'potter', 'dhabi', 'nl', 'birthdays', 'poorly', 'improvements', 'neti', 'doxxing', 'joining', 'bro', 'animosity', '1980', 'remainiacs', 'harrys', 'wheel', 'del', 'nonstick', 'blur', 'modeled', 'beyond', 'soooo', 'jse', 'ammunition', 'marxist', 'spoke', 'fuck', 'likely', 'situationally', 'snerk', 'undouchy', 'unsatisfied', 'stubbornness', 'nvidias', 'stinkin', 'passionately', 'followup', 'envious', 'emetophobic', 'bumpkins', 'ty', 'boondocks', 'thy', 'mets', 'desert', 'ftw', 'salarian', 'saying', 'weekold', 'boss', 'complaint', 'austinite', 'abou', 'offload', 'generational', 'preschool', 'uhh', 'surgeon', 'ewe', 'custodian', 'leads', 'cycles', 'grado', 'barbed', 'doorknobs', 'division', 'aaaaaand', 'reliving', 'unexpectedjokers', 'ding', 'crocodile', 'stg', 'nervousness', 'lf', 'oneround', 'tipbot', 'welcoming', 'autonomy', 'pointy', 'weaboo', 'fictional', 'aquemini', 'g', 'cbd', 'infact', 'swinger', 'rebinge', 'tips', 'contribution', 'screech', 'cider', 'mudede', 'villainy', 'false', 'grave', 'trainwreck', 'winds', 'sox', 'cats', 'unconvincing', 'collar', 'mask', 'suctioning', 'income', 'tyt', 'puzzle', 'deer', 'bruh', 'sheesh', 'deadass', 'brass', 'meditating', 'xylophones', 'conflating', 'dumbass', 'fever', 'tulo', 'outkast', 'omens', 'forex', 'shirts', 'renting', 'gfather', 'disappoints', 'connoisseur', 'flipper', 'marker', 'prorevenge', 'roasting', 'books', 'pun', 'misstep', 'drinking', 'clone', 'manila', 'peril', 'voli', 'los', 'uhhhhhhhhh', 'bound', 'feeds', 'depiction', '20k', 'adults', 'deliberately', 'barking', 'discord', 'holocaust', 'smokes', 'gahhhh', 'rent', 'stomach', 'thj', 'sexually', 'slasher', 'drown', 'searched', 'levels', 'finna', 'witch', 'leagues', 'tw', 'castrate', 'pokey', 'earth', 'problem', 'pursued', 'ironically', 'cest', 'bubblegum', 'bright', 'portland', 'officials', 'tax', 'hoarder', 'whatsoever', 'oooooooooo', 'gronk', 'heavyweight', 'hedonism', 'shooting', 'ammonia', 'confusing', 'sticked', 'salon', 'dumbness', 'prom', 'byyiiitttcchhh', 'courting', 'charged', 'ethic', 'macys', 'sightreading', 'moba', 'mohaa', 'mirotic', 'uncle', 'req', '20', 'fluids', 'jam', 'talons', 'goalies', 'genetic', 'hes', 'dosage', 'dieting', 'legroom', 'balance', 'farce', 'torah', 'dex', 'junipero', 'danger', 'snacks', 'hsppening', 'wronged', 'fewsecond', 'encouraging', 'indictable', 'collusion', 'expelled', 'businesses', 'volunteers', 'consumption', 'types', 'cusp', 'russian', 'goodness', 'tall', 'iamatotalpieceofshit', 'cpo', 'transcripts', 'panthera', 'avgns', 'boylen', 'gambit', 'cc', 'mascot', 'ɹǝʍsuɐ', 'mullet', 'losers', 'exert', 'sasha', 'furnished', 'souls', 'chew', 'nouns', 'position', 'yaga', 'collines', 'humiliating', 'air', 'reconciliation', 'swears', 'prosperity', 'fal', 'absolute', 'kindergarten', 'sight', 'carolina', 'slower', 'disappear', 'prog', 'inbev', 'avoids', 'singalong', 'panties', 'lcr', 'pharisees', 'entrenched', 'gainfully', 'incapable', 'risqué', 'steakspeare', '02', 'confirm', 'betrayal', 'quack', 'measles', 'grasps', 'beads', 'grace', 'facing', 'exhibit', 'bring', 'ot3', 'credible', 'cookware', 'yaw', 'mars', 'compensated', 'wallet', 'desired', 'bishops', 'rinsing', 'jazz', 'refuses', 'oust', 'mtl', 'authorities', 'psychopathic', 'puzzled', 'development', 'wise', 'ranked', 'reptile', 'daze', 'perfect', 'bsn', 'harms', 'makings', 'collars', 'accountability', 'laundry', 'sites', 'offences', 'utopia', 'clippings', 'representing', 'enquiring', 'recruiter', 'goshdarn', 'selfdefense', 'signals', 'kneeling', 'remotely', 'engineering', 'difference', 'approval', 'resize', 'influenced', 'cans', 'pubes', 'feces', 'stantler', 'oooff', 'disrespect', 'm', 'lol', 'sidelines', 'tmc', 'forthwith', 'paranoia', 'lifted', 'goth', 'aware', 'hypocritical', 'vcrs', 'male', 'fifa', 'demonstrate', 'hittable', 'aemt', 'cracks', 'blowin', 'instrumentation', 'refold', 'obliviscaris', 'regards', 'ramblings', 'fart', 'offense', 'neither', 'fireemblem', 'contextof', 'twat', 'counter', 'trewdat', 'selfaware', 'amazingly', 'tainted', 'meet', 'plotting', 'tapes', 'frysuspiciouseyes', 'wwii', 'overdue', 'miracle', 'unblockable', 'rebound', 'lmfaooooo', 'manageable', 'melted', 'weirdest', 'torturing', 'insist', 'fangirls', 't', 'froot', 'apostolic', 'alcoholic', '85', 'yessir', 'harmful', 'spacedicks', 'flashing', 'canisters', 'circulation', 'natures', '311', 'robberies', 'habitats', 'fahrenheit', 'sadist', 'garrosh', 'postkill', 'waiter', 'advisors', '3xl', 'fiancee', 'enchantress', 'prerequisite', 'cheques', 'tendon', 'profitable', '538', 'normie', 'trust', 'nair', 'kashmiripunjabi', 'debit', 'drm', 'compatible', 'clueless', 'pharma', 'caution', 'seeker', 'burner', 'thrash', 'are', 'teams', 'reservations', 'exchange', 'indirectly', 'powerpoint', 'wed', 'morty', 'prosecuted', 'lib', 'castles', 'oppression', 'ferrari', 'feigning', 'waived', 'surecwhat', 'bimbo', 'linking', 'thomas', 'qol', 'definition', 'accessories', 'ethnonationalism', 'albuquerque', 'cocaine', 'threads', 'buddies', 'dbs', 'childhood', 'grindr', 'multicultural', 'fluid', 'engaging', 'blower', 'undue', 'wcw', '201', 'deconstruction', 'overabundance', 'lobster', 'ecologist', 'armour', 'jailed', '2022', 'finances', 'twilight', 'bats', 'report', 'apartment', 'orwellian', 'follows', 'unattractive', 'strion', 'lose', 'ft', 'feather', 'abilities', 'swarmin', 'wikipedia', 'neolib', 'declined', 'mollycoddle', 'whiteys', 'bronze', 'old', 'breeders', 'baseboards', 'strictly', 'googling', 'antimigration', 'purifers', 'trants', 'mission', '2mm', 'yyyymmdd', '8700k', 'crying', 'doubly', 'squeezing', 'england', 'ianamolly', '23m', 'skyrocketed', 'paternalistic', 'toppings', 'appropriations', 'udfa', 'mernda', 'downvoted', 'reopen', 'dortmund', 'average', 'tailspin', 'broadcaster', 'distress', 'safe', 'experts', 'sneakier', 'moji', 'horror', 'ofc', 'hehe', 'smaller', 'tenderloin', 'poem', 'crawl', 'staffer', 'election', 'structural', 'bleached', 'vigil', 'passed', 'scrape', 'asterisks', 'ツ', 'ucla', 'memorable', 'pockets', 'glam', 'narcissistic', 'hide', 'palecons', 'look', 'arse', 'venom', 'nearlyneutered', 'tires', 'pannel', 'shrug', 'shaihulud', 'feefees', 'wannabe', 'pyrocynical', 'observers', 'compromise', 'forkdelta', 'mbs', 'scump', 'cosplay', 'crowding', 'cr50', 'purdue', 'scandals', 'decifer', 'anxiously', 'chevy', 'gofundme', 'dr', 'ministry', 'wholesomeness', 'layered', 'princess', 'semester', 'balloons', 'daylight', 'ketchup', 'hello', 'labgrown', 'feared', 'carcinogens', 'commented', 'lis', 'creed', 'phew', 'byfar', 'emart', 'holla', 'nuggs', '5x', 'scientific', 'outlook', 'cureall', 'brawls', 'wayakum', 'givem', 'cucumber', 'gender', 'lightly', 'sleeves', 'saved', 'appreciative', 'sith', 'concerts', 'discrepancy', 'wrench', 'tequila', 'merrily', 'm72', 'playmaker', 'drink', 'incorporate', 'updoot', 'robber', 'comics', 'siwa', 'irrational', 'trial', 'trans', 'joaquin', 'posters', 'gooooood', 'brewed', 'exchanging', 'substitute', 'donaldson', 'feeling', 'translation', 'mixups', 'calmest', 'limited', 'closures', 'deceptivelyedited', 'podunk', 'gummies', 'sleeve', 'text', 'gurps', 'fucked', 'liking', '111', 'yidish', 'discussions', 'slumping', 'homeless', 'petty', 'cause', 'endure', 'stipulations', 'upholding', '10m', 'hang', 'bullshort', 'ignores', 'whens', 'pokimanes', 'shg', 'few', 'alexa', 'notcanada', 'stripper', 'hubby', 'mall', 'translated', 'buster', 'hee', 'cinnamon', 'boring', 'oy', 'elastic', 'pier', 'fulltang', 'transphobic', 'mongoose', 'sooo', 'bunnell', 'zoom', 'greek', 'spartan', 'date', 'outclassed', 'inconsiderate', 'stranger', '25', 'snowflakes', 'accordingly', 'upvoting', 'skateboard', 'chuseok', 'shed', 'swb', 'reeducation', 'ps3', 'sorts', 'battlefield', 'favour', 'til', 'rated', 'theyll', 'athletes', 'piping', 'repost', 'conversations', 'mukbang', 'surprising', 'limits', 'larger', 'troubles', 'briefcases', 'alphas', 'jerseys', 'cholent', 'marinaded', 'line', 'cancellation', 'labor', 'jojo', '227', 'genuine', 'strippers', 'revolve', 'accidentially', 'traits', 'awhile', 'buh', 'tasting', 'seekers', 'invite', 'peeling', 'tribal', 'dad', '87', 'psychiatrists', 'needing', 'tihi', 'quickmatch', 'unitegaming', 'scandinavian', 'closely', 'empathize', 'flames', 'lifetimes', 'pop', 'boobs', 'woot', 'back', 'built', 'pledged', 'donations', 'baths', 'diagnosed', 'doctrine', 'mdma', 'photos', 'blessed', 'bruised', 'menthol', 'several', 'urges', 'dipped', 'thoughtful', 'funwaa', 'shitting', 'gaps', 'became', 'daggerfall', 'pysyk', 'sign', 'guns', 'praised', 'revolver', 'richmond', 'supporting', 'sleeper', 'prayers', 'bumper', 'unaware', 'kawhi', 'three', 'reforms', 'met', 'cured', 'harleys', 'fixable', 'hypes', 'minivan', 'metallica', 'nye', 'al', 'evens', 'amoeba', 'cousins', 'yaaaay', 'departments', 'executed', 'stakeholders', 'plugs', 'stations', 'tke', 'dogmatics', 'exasperated', 'beverages', 'magnitude', 'woah', 'tier', 'puffing', 'cups', 'ooofffhh', 'flower', 'magnificent', 'goaltender', 'deactivated', 'sigs', 'daddicts', 'cons', 'ordinary', 'pricing', 'oneline', 'darwinism', 'digits', 'drafting', 'lounge', 'lonzo', 'commemorating', 'amazed', 'cozy', 'tribeca', 'quickly', 'dccc', 'precise', 'shapeuporshipout', 'retool', 'knicks', 'shudder', 'flats', 'lived', 'oline', 'sg12', 'schoolers', 'fabulous', 'fleshlite', 'pleb', 'unloved', 'binge', 'minimal', 'portraits', 'cover', 'luxury', 'psychedelic', 'land', 'spermanent', 'celery', 'loads', 'recieve', 'familiar', 'battlefront', 'model', 'thingies', 'thems', 'quoth', 'redeem', 'tb', 'waxing', 'wich', 'scat', 'ottavino', 'berserker', 'segment', 'superpowers', 'diggle', 'pride', 'branded', 'premise', 'textures', 'functioning', 'righteous', 'confederate', 'quit', '511', 'gonn', 'execution', 'struggle', 'ass', 'case', 'instant', 'negotiating', 'motorcycles', 'honduras', 'nosferatu', 'writings', 'fantastically', 'earnest', 'indiscretion', 'loool', 'motivation', 'dana', 'lmk', 'trimming', 'ack', 'aaf', 'geeks', 'folks', 'dissociative', 'danggit', 'flew', 'roles', 'nightmare', 'webpages', 'chests', 'wildfire', 'uncontroversial', 'pipeline', 'tati', 'temper', 'mlp', 'silicon', 'all', 'predators', 'directions', 'fuckton', 'matrix', 'international', 'slug', '6ft', 'pollution', '56', 'rats', 'unrealistic', 'midcentury', 'brigading', 'auger', 'otps', 'dam', 'comparison', 'kimono', 'joburg', 'super', 'eternally', 'stock', 'tacos', 'adjust', 'trough', 'york', 'towatch', 'lung', 'pods', 'ciao', 'lumbering', 'vaguely', 'vas', 'indoctrinated', 'millsbury', 'eclipse', 'spasms', 'paraprofessionals', 'struggles', 'mustard', '20min', 'dialectics', 'pragerurine', 'ate', 'aderal', 'zoning', 'ray', 'variation', 'kindest', 'pac12', 'tяeasonous', '1v1', 'nerfing', 'islanders', 'relent', 'orgies', 'berry', 'projection', 'sun', 'articulate', 'offensive', 'replaced', 'coopted', 'shorter', 'molotov', 'slick', 'homerun', 'hungary', 'unanimous', 'backing', 'olive', 'actress', 'harlem', 'finale', 'calamari', 'methhead', 'interest', 'snowblower', 'misconception', 'drop', 'interaction', 'biohazard', 'thrombosis', 'scratchy', 'scars', 'missed', 'shooter', 'chill', 'hauty', 'wwes', 'relatives', 'sens', 'sidewalk', 'great', 'communists', 'weekends', 'slapping', 'fuckedup', 'tmake', 'hardest', 'js', 'robs', 'filets', 'perecuelse', 'panels', 'nevertheless', 'yeet', 'bitterness', 'mashed', 'questioning', 'diabetes', 'pert', 'destitute', 'dhs', 'apathy', 'organizations', 'trend', 'notif', 'boeser', 'ca', 'peer', 'licker', 'rendering', 'gal', 'goons', 'hyper', 'affiant', 'disappoint', 'burdon', '1500m', 'homecourt', 'smashed', 'em', 'plumber', 'colleges', 'claw', 'pundit', 'dribble', 'winger', 'dorion', 'massive', 'replay', 'bricking', 'darn', 'decapitated', 'pew', 'snu', 'outbreak', 'thinki', 'poors', 'attacking', 'op', 'overgrown', 'pairs', 'jock', 'darkest', 'whisper', 'plenty', 'hamburgler', 'masturbation', '1122', 'way', 'hc', 'bootlicking', 'butthead', 'babies', 'propensity', 'whirlpool', 'nonsupporters', 'major', 'dwarfs', 'rooosaa', 'therefore', 'visited', 'banning', 'spells', 'nonimmunocompromised', 'interpretations', 'screwed', 'remix', 'scoop', 'shoulda', 'montage', 'unsubbed', 'phantasia', 'refute', 'uses', 'materialized', 'socialister', 'tummy', 'biker', 'copyright', 'hostess', 'humbly', 'deforestation', '17hmr', 'respectable', 'rapport', 'thibking', 'yesturday', 'alls', 'biography', 'skypeia', 'translate', 'subjects', 'big', 'yellow', 'coworkers', 'hahaahahaaha', 'morbidly', 'pcsed', 'lumi', 'molester', 'my', 'beaten', 'plowing', 'wheezing', 'psychology', 'titanic', 'enslaving', 'voicemail', 'baited', 'oldey', 'grinder', '160s', 'viet', 'wardens', 'exact', 'cad', 'liquor', 'trout', 'interfere', 'perfectionism', 'crushed', 's5', 'tmi', 'thug', 'todsy', 'spoon', 'residences', 'splits', 'acuity', 'coiffeuse', 'king5', 'pewdiepies', 'economy', 'omnialternative', 'reviewing', 'rereading', 'multiple', 'initial', 'interests', 'flooded', 'oooooohhhh', 'cart', 'and', 'deductible', 'coordination', 'voice', 'carrying', 'pandora', 'calves', 'crook', 'contains', '1985', 'selfevident', 'setpoints', 'robes', 'convention', 'gunshot', 'feels', 'rerebuild', 'hollywood', 'operation', 'handler', '19852012ish', 'automatic', 'pressing', 'delayed', 'heartiest', 'familes', 'lv', 'homeowner', 'unis', 'lsd', 'opposing', 'hindutva', 'hypergamous', 'beckons', 'drumpftard', 'desirable', 'ripoff', 'matey', 'reddit', 'justiceforshangeia', 'kontrol', 'any', 'printer', '1995', 'bipolar', '1213', 'dfs', 'kitchens', 'palm', 'alps', 'witness', 'squeak', 'unimaginable', 'nonnumericaltitled', 'i95', 'blanketed', 'heff', 'pokes', 'bay', 'important', 'cannabis', 'masculinity', 'fatigued', 'cico', 'scared', 'jame', 'compassion', 'yank', 'sahara', 'discovered', 'regretful', 'province', 'immature', 'addition', '179', '140', 'reflecting', 'lance', 'dead', 'midnight', 'becoming', 'outlines', 'physical', 'shredded', 'communism101', 'dunking', 'playoff', 'pairing', 'socially', 'jonesing', 'crowds', 'bajoran', 'crib', 'separating', 'askers', 'antagonistic', 'producing', 'karmastate', 'helmets', 'knew', 'esp', 'scifi', 'discontinued', 'bunting', 'den', 'peabrained', 'derangement', 'names', 'nooooo', 'builds', 'again', 'entendre', 'monitoring', 'influential', 'tories', 'ep', 'chatting', 'stolen', 'producer', 'interprets', 'web', 'funky', 'faker', 'listens', 'wastelands', 'vol', 'deserving', 'isnt', 'parries', 'trickiest', 'retains', 'liberal', 'greenhat', 'symbols', 'tyreals', 'manipulator', 'shooooooooooooooooooooooooooocker', 'might', 'agencies', 'charted', 'tumbler', 'usm', 'dos', 'guy', 'offering', 'fun', 'pigs', 'delete', 'whhhattttt', 'sounding', '81', 'gag', 'fillers', 'collision', 'g2', 'cryptopia', 'permanent', 'sweetie', 'securely', 'unhealthy', 'pool', 'ant', 'nontoxic', 'daaaaamn', 'regionalized', 'pneumatic', 'housework', 'sounded', 'cousin', 'intellectual', 'reich', 'coup', 'wwe', 'preseason', 'cheeks', 'capricious', 'aloof', 'carlton', 'susceptible', 'developent', 'profit', 'dominant', 'heading', 'second', 'looney', 'created', 'puberty', 'janky', 'judiasm', 'kleenex', '500lb', 'teach', 'mirror', 'talent', 'males', 'self', 'wrap', 'rite', 'lone', 'holds', 'weeans', 'wild', 'gon', 'preggers', 'buying', 'budgie', 'angeles', 'arrg', 'fyh', 'brooks', 'lest', 'carve', 'persistent', 'restaurants', 'somerset', 'olicityrelated', 'husbando', 'gigiddy', 'toothbrush', 'mothers', 'hogs', 'grader', 'temp', 'describes', 'bloody', 'cowards', 'viewership', 'insomnia', 'clears', 'volantis', 'fanbase', 'humiliated', 'athiest', 'idk', 'confirmation', 'esta', 'hitachi', 'director', 'children', 'award', 'stanley', 'sund', 'wretched', 'targets', 'pleasantries', 'literature', 'behaviors', '4stone', 'beers', 'affection', 'evening', 'establishes', 'snowballs', 'bigot', 'construction', 'changes', 'seen', 'units', 'hotwheels', '160', 'lawn', 'nate', 'sentence', 'monaca', 'aha', 'bawled', 'tree', 'cowboy', '612', 'catgirl', 'royalty', 'limes', 'protagonist', 'highly', 'misinterpreted', 'widow', 'manchilds', 'selfconfidence', 'musterno', 'raping', 'transphobia', 'gaelic', 'military', 'reception', 'cunt', 'divine', 'zombie', 'nativeborn', 'links', '5mm', 'gotham', 'cycling', 'poot', 'penetration', 'finish', 'ahunting', 'anxious', 'potus', 'company', 'ormond', 'checklist', 'mute', 'furniture', 'orochi', 'virtue', 'agitators', 'disheartening', 'snarl', 'annihilate', 'virginnie', 'insulin', 'jamming', 'aflw', 'webos', 'zones', 'upvote', 'hits', 'rebuttal', 'lipstick', 'stink', 'outweigh', 'cunning', 'hoop', 'cages', 'postage', 'brigade', 'admirable', 'wilderness', 'sb', 'witnesses', 'shugoki', 'noveau', 'contrary', 'grimes', 'refreshingly', 'borderline', 'ark', 'sinner', 'watchlist', 'iso', 'combs', 'november', 'invertebrates', 'tempt', 'split', 'weighed', 'attack', 'ng', 'gaza', 'remain', 'payment', 'yourselves', 'westbank', 'fall', 'warlord', 'creeping', 'horsing', 'info', 'stumbling', 'funsies', 'gmod', 'forwardsfromgrandma', 'emotionl', 'nonsense', 'organically', 'barrelaged', 'hid', 'stier', 'reminder', 'swell', 'legs', 'specify', 'holographic', 'favors', 'table', 'alienated', 'fran', 'undoubtedly', 'pushing', 'rewatch', 'cyperpunk', 'retards', 'injustices', 'rebuild', 'implications', 'slightest', 'surprises', 'emulating', 'boyfriend', 'someone', 'wipe', 'initiate', 'insights', 'heresy', 'metaphorical', 'decline', 'cleaner', 'whiny', 'neck', 'phoned', 'hd', 'wounds', 'fatter', 'haters', 'lh', 'googlin', 'formation', 'witnessed', 'taint', 'capitalism', 'upstairs', 'su', 'unfiltered', 'juul', 'chuck', 'innovation', 'grøh', 'comical', 'broest', 'florence', 'overreacted', 'fame', 'selfproclaimed', 'sepsis', 'reduced', 'srd', 'damascus', 'voter', 'ideologys', 'teeth', 'pillows', 'changing', 'buns', 'gfs', 'dtw', 'fellar', 'slapshots', 'violence', 'loses', 'speeds', 'urethra', 'type', 'mamma', 'petunias', 'westminster', 'chu', 'boogie', 'raging', 'studio', 'heavenphone', 'tage', 'haul', 'dash', 'pantyliners', 'wii', 'friday', '40', 'wcs', 'overpowering', 'analogy', 'novice', 'generally', 'current', 'whole', 'cumosaurusgaysex', 'atl', 'hunt', 'nick', 'cosplayer', 'albums', 'nia', 'district', 'esteem', 'pupper', 'experimental', 'arcitys', 'johns', 'stereotype', 'politically', 'puddy', 'naked', 'vicariously', 'refusing', 'dismayed', 'washes', 'dbd', 'wee', 'caleb', 'throwing', 'signature', 'court', 'softly', 'underpants', '15th', 'up', 'alphabet', 'diverse', 'anatomy', 'welsh', 'assholic', 'renaissance', 'crema', 'broadway', 'pounder', 'beall', 'imposing', 'kidnap', 'effective', 'meth', 'just', '1682', 'rightist', 'beauties', 'reeeeeeeeeeeeeeee', 'believed', 'schnoodledoodledo', 'rainy', 'damning', 'motherfucker', 'slobber', 'notes', 'other', 'singapore', 'biases', 'infusions', 'asexual', 'samsung', 'tattoos', 'tom', 'suckers', 'deck', 'submissions', 'insults', 'schtick', 'constructive', 'remaining', 'toasted', 'cords', 'gto', 'lighten', 'cringiest', 'surgeons', 'recruit', 'misguided', 'cutting', 'cpr', 'inspire', 'exceedingly', 'disadvantage', '7m', 'sweetest', 'neocons', 'raider', 'competent', 'blocking', 'mr2', 'enfp', 'zipper', 'orgasm', '1억', 'feminist', 'instincts', 'records', 'sadden', 'adrenaline', 'aftv', 'roughing', 'ruse', 'auntie', 'rip', 'agence', 'knewe', 'benefit', 'finkle', 'suprised', 'conservatives', 'leak', 'heaviest', 'jumping', 'nosebleeds', 'marking', 'sleep', 'advantage', 'kissed', 'picking', 'seats', 'ttk', 'pidgeon', 'pigeon', '32', 'intervene', 'pesto', 'bong', 'salem', 'potomac', 'arks', 'impressed', 'attribute', 'shootout', 'predates', 'selfreflection', 'neglect', 'toasting', 'adjustments', 'bur', 'untrained', 'objectifying', 'huntch', 'clever', 'imagination', 'worthy', 'gen', 'they', 'dragged', 'bait', '105', 'aaaagghhh', 'racistass', 'vod', 'causes', 'unemployed', 'broken', 'bigs', 'best', 'ranger', 'thee', 'ejaculated', 'strangers', 'icing', 'butt', 'retributionist', 'intimidating', 'emailed', 'vampires', 'desperate', 'archers', 'ocs', 'marijuana', 'worthless', 'warming', 'family', 'sheeple', 'gut', 'total', 'simulation', 'clay', 'firefighter', 'orrrrr', 'processed', 'recessed', 'hallucinations', 'dulled', 'nevermind', 'financially', 'accounts', 'transformed', 'faint', '2005', 'pointless', 'uphill', 'associate', 'cliffs', 'jerk', 'mathews', 'topic', 'woowoo', 'guide', 'brethren', 'embraced', 'seinfeld', 'unicorn', 'res', 'leftie', 'spaceship', 'megatron', 'leave', 'targeting', 'routinely', 'arab', 'expects', 'shyster', 'congresswoman', 'rapp', 'complications', 'grenades', 'melbourne', 'influence', 'bhahaha', 'atmosphere', 'huzzah', 'cage', 'similiar', 'companion', 'gotten', 'freaky', 'later', 'oligarchsponsored', 'offers', 'color', 'kek', 'runningmate', 'melts', 'schnee', 'validating', 'zits', 'nonequalitarian', 'guard', 'e', 'asshole', 'acomin', 'she', 'guncontrol', 'atm', 'askfeminists', 'boat', 'hatch', 'contradicted', 'simulator', 'b6', 'username', 'floating', 'republicans', 'derogatory', 'reformer', 'stability', 'wand', 'designs', 'escape', 'aim', 'accessing', 'unmusical', 'rubs', 'lapd', 'endangered', 'refurbished', 'resistance', 'movie', 'cleanse', 'charters', 'verified', 'would', 'yore', 'poisoning', 'astounded', 'documentary', 'corinthians', 'bane', 'reread', 'paradise', 'carrier', 'drowns', 'relying', 'fufure', 'incoming', 'challenging', 'idiot', 'efficiency', 'rev', 'clicked', 'canuck', 'socks', 'motel', 'escaped', 'reap', 'capacity', 'puerto', 'mastered', 'lustful', 'lying', 'meta', 'subjected', 'misheard', 'queen', 'pull', 'maam', 'slaying', 'stamps', 'imprison', 'spitz', 'rooting', 'vip', 'yanny', 'bugs', 'unconvinced', 'avocado', 'squish', 'fractured', 'fashioned', 'compelled', 'starve', 'excited', 'alkafi', 'prepare', 'gothic', 'autocorret', 'elected', 'market', 'overwhelmed', 'own', 'paper', 'stateless', 'counterpoint', 'goods', 'disgraceful', '6070', 'slogan', 'shadow', 'sillyness', 'survive', 'alts', 'mile', 'wrote', 'handmaid', 'ahhhh', 'therapy', 'schmee', 'pencil', 'hdmi', 'yu', 'drooling', 'oopsdidntmeantoo', 'depths', 'pardoning', 'lassaire', 'drawer', 'violations', 'jerks', 'bffs', 'lopez', 'positivity', 'develop', 'confusion', 'drastically', 'bri', 'falls', 'doh', 'filmed', 'olicity', 'orthodox', 'ages', 'traveled', 'decisions', 'contracts', 'debunking', 'rippled', 'moves', 'bingo', 'buttlicker', 'present', 'kets', 'unpack', '2020', 'entities', 'motorcycle', 'crochet', 'options', 'birdy', 'beer', 'zombies', 'elaborate', 'queer', '03', 'idiots', 'remarried', 'havin', 'apart', 'tremor', 'lod', 'depress', 'libertarian', 'accidentally', 'sapiens', 'angle', 'admin', 'undercover', 'palestinian', '231714', 'slowing', 'woods', 'wrecking', 'paladins', 'as5', 'penalty', 'ml', 'football', 'rumps', 'managed', 'rhetoric', 'accomplishments', 'manufacturing', 'secrets', 'outlets', 'microwave', 'theough', 'wing', 'marginalization', 'studid', 'scandinavia', 'psych', 'cuse', 'hordes', 'lando', 'sake', 'wildrosers', 'smudges', 'haha', '1858', 'jogs', 'criminal', 'homewrecker', 'choked', 'truckers', 'marches', 'savage', 'indulging', 'thr', 'videocassettes', 'stressing', 'ping', 'abusing', 'spouses', '1st', 'mac', 'concept', 'bilingual', 'notified', 'funhammer', 'appear', 'ownage', 'pulp', 'hurked', 'bf4', 'soulmates', 'default', 'pile', 'gathered', 'fricking', '4yo', 'agents', 'annoyingly', 'biologist', 'wobble', 'splashing', 'latin', 'unwind', 'salesperson', 'referencing', 'itl', 'alternative', 'drenched', 'icons', 'tinder', 'ancestor', '25057', 'protesting', 'quiz', 'mal', 'format', 'surgeries', 'technica', 'advertised', 'eerie', 'elo', 'kidnapping', 'lag', 'korrk', 'plain', 'boom', 'past', 'cartridges', 'listener', 'missouri', 'kneel', 'yummy', 'shenanigans', 'food', 'rented', 'economic', 'engineer', 'blackboard', 'smallest', 'uploaded', 'pertinent', '350400', 'stanky', 'llike', 'noone', 'braking', 'congratufuckinglations', 'twisted', 'mutilations', 'windex', 'decimated', 'marital', 'formaldehyde', 'boiii', 'curiosity', 'levy', 'pissing', 'lust', 'atrocious', 'conflict', 'almighty', 'murky', 'cares', 'changed', 'hill', 'alledge', 'sticky', 'pretends', 'blaming', 'boot', 'garfield', 'auch', 'blows', 'steakhouse', 'tmnt', 'powder', 'breathing', 'method', 'underneath', 'noooooooonnn', 'outoftheloop', 'expiring', 'acquaintance', 'politicising', 'goodnewsforwomen', 'pity', 'swastikas', 'directly', 'wizardry', 'thibs', 'umra', 'beloved', 'zen', 'bleeds', 'justifiable', 'boggling', 'saggy', 'millions', 'hella', 'layabout', 'isis', 'donald', 'fewer', 'torn', 'lads', 'kink', 'nuthuggers', 'remained', 'compilations', 'stylist', 'udemy', 'edge', 'genders', 'criminals', 'hoarded', 'shifts', 'tearing', 'megagrindr', '5mg', 'xp', 'planting', 'stalingrad', 'outings', 'yapping', 'fababies', 'flipping', 'motivate', 'geordi', 'flinched', 'yuh', 'peyote', 'calls', 'chip', 'disconcerting', 'indistinguishable', 'tiandi', 'alt', 'probobly', 'airplane', 'stamkos', 'mortal', 'liked', 'heros', 'inch', 'cheat', 'employment', 'ameen', 'thisismylifenow', 'jungler', 'bailey', 'msnbc', 'fury', 'lovable', 'valentine', 'confirmed', 'subscribe', 'consensually', 'vsauce', 'ouch', 'arrived', 'surprisingly', 'hav', 'little', '1918', 'headache', 'cyst', 'taxpayer', 'television', 'satan', 'wheels', 'warriors', 'unwashed', 'truckstop', 'policy', 'expecting', 'literately', 'prolong', 'seizures', 'mechanics', 'fathomed', 'hurrrr', 'ps5', 'realest', 'positively', 'unconditional', 'bohemian', 'cheapens', 'dies', 'stain', 'silent', 'dumpling', 'portal', 'ayee', 'competitiveness', 'outrageous', 'revoking', 'dishy', 'eso', 'consciousness', 'theocracy', 'item', 'theists', 'genoa', 'judgements', 'notoriously', 'feelingnyour', 'abel', 'icos', 'saw', 'library', 'located', 'supa', 'inconvinience', 'son', 'b4', 'evo', 'exfriend', 'rating', 'alligators', 'mangled', 'ocp', 'resume', 'supernatural', 'sporting', 'orators', 'trascendental', 'murderino', 'boast', 'editing', 'scythe', 'ruin', 'tfm', 'runeveryday', 'pedophilia', 'incumbency', 'spoiler', 'unnoticable', 'commodities', 'sive', 'gemologists', 'tithed', 'captain', 'collective', 'proceeds', 'charlie', '1500', 'elbow', 'quota', 'parra', 'snuggle', 'baseless', 'innovate', 'vietnamese', 'hauled', 'humbled', 'maduro', 'solved', 'wholl', 'fascinating', 'admire', 'somebodys', 'here', 'enamoured', 'lowlevel', 'abomination', 'suggestion', 'cowardly', 'lovely', 'bears', 'meow', 'bites', 'hoody', 'chambers', 'chaotic', 'picks', 'blown', 'praxis', 'judgement', 'aaaaaaaaaaah', 'muffin', 'feat', 'bin', 'shaft', 'universities', 'addict', 'leftist', 'grigio', 'stew', 'collection', 'hellscape', 'pricey', 'paralyzing', 'eva', 'stands', 'build', 'tested', 'shitposting', 'bus', 'certifications', 'wash', 'ws4', 'disappointments', 'knowitall', 'unc', 'ooooooh', 'hells', 'nog', 'lian', 'fix', 'basement', 'tin', 'monopolize', 'hwoarang', 'encountered', 'stitches', 'unnerving', 'fuuuuck', 'generous', 'unlock', 'saudi', 'doods', 'everybody', 'deflated', 'mansplaining', 'vote', 'public', 'post', 'americanism', 'kill', 'dirt', 'discussion', 'blast', 'marble', 'condemning', 'implement', 'memphis', 'tworedditorsonecup', 'classes', 'jinx', '2007', 'assurances', 'atleti', 'ideal', 'antiwestern', 'trier', 'oversimplification', 'everafter', 'fc5', 'dotard', 'warged', 'playoffs', 'unsure', '1523648856', 'kim', 'concise', 'funerals', 'liable', 'youngish', 'hobbies', 'canadian', 'pact', 'git', 'trails', 'uneducated', 'lacking', 'consuming', 'hopeful', 'feits', 'pedophile', 'ignar', 'liners', 'silences', 'dosing', 'forsure', 'fantasize', 'crypto', 'lady', 'upward', 'olden', '610', 'brits', 'critter', 'estee', 'greiss', 'appropriately', 'uhhhhhhh', 'voted', 'sortable', 'threatens', 'unarmed', 'lost', 'filling', 'evangelicals', 'absurd', 'rocking', 'sneezing', 'ranking', 'indifferent', 'minoring', 'valve', 'reuse', 'teens', 'otter', 'yer', 'eithers', 'arte', 'since', 'cri', 'deceiving', 'harsh', 'services', 'travesty', 'wore', 'horrid', 'unequivocal', 'hindi', 'duder', 'corrie', 'sparkling', 'mayor', 'fairfield', 'yeh', 'elementary', 'nrk', 'bleck', 'realmuto', 'unwavy', 'hallmark', 'norm', 'irrationally', 'eddy', 'sue', 'cat', 'sharpened', 'ed', 'wars', 'ruining', 'ponies', 'officer', 'equally', 'convert', 'militia', '4', 'mrs', 'route', 'killer', 'dm', 'coding', 'sync', 'hearsay', 'stepped', 'cro', 'preach', 'boner', 'fearsome', 'completely', 'hundredth', 'secretary', 'dank', 'pricked', 'msm', 'rbs', 'quadriga', 'shootings', 'worked', 'cells', 'repeatedly', 'velour', 'eliminayshions', 'laughcrying', 'senator', 'skull', 'edmunds', 'premiums', 'israeli', 'occam', 'spam', 'circumvented', 'antagonist', 'harbinger', 'beak', 'elevator', 'yah', 'scarier', 'friendships', 'halved', 'offerings', 'minority', 'bangin', 'costly', 'hairs', 'resembling', 'broncos', 'illiterate', 'tents', 'differentiate', 'toddlers', 'abuses', '19th', 'wants', 'virgin', 'webcams', 'counseling', 'delsym', 'lemony', '2hrs', 'gmc', 'nonononoooo', 'fmt', 'pardner', 'adapt', 'v', 'sand', 'hulp', 'wholey', 'lessons', 'slacked', 'sunset', 'carriage', 'vortex', 'gagging', 'severely', 'generalizing', 'betraying', 'violins', 'overtly', 'royals', 'morphed', 'nuke', 'bengals', 'armpits', '57', 'deeds', 'spa', 'cosy', 'rush', 'smouii', 'sicko', 'gym', 'humid', 'capitalist', 'strings', 'tscc', 'bitch', 'arbiter', 'honey', 'rocketed', '2019s', 'rebuilding', 'shadowing', 'hammer', 'riddled', 'farleft', 'foreheads', 'anger', 'coyote', 'instructions', 'salaried', 'fatlogic', 'syrup', 'originally', 'applauds', 'landed', 'sage', 'lmfaoooooo', 'mysterious', 'penalties', 'prank', 'saviour', 'tenure', 'panameňo', 'shopko', 'conciousness', 'cheater', 'admitted', 'leaving', 'hateful', 'balaji', 'baclground', 'fierce', 'tousles', 'executing', 'divergence', 'shilling', 'touches', 'taco', 'nipping', 'analyzing', 'comic', 'ssbu', 'wage', 'rocket', '42', 'touch', 'replied', 'misc', 'lwx', 'anyhow', 'impolite', 'forgive', '06', 'wel', '3pm', 'combine', 'remembering', '23andme', 'tattooed', 'frugal', 'knocked', '185', 'around', 'overconfident', 'carelessly', 'dangnabbit', 'posture', 'wpuld', 'bagel', 'wards', 'kappa', 'intensity', 'scroll', 'legally', 'forgetting', 'platoon', 'amygdala', 'mofo', 'allergy', 'qīng', 'dominating', 'compares', 'adjustment', 'native', 'girlfriend', 'riverside', 'used', 'transformer', 'restrained', 'prison', 'herders', 'phoney', 'better', 'stardew', 'box', 'wd40', 'hmmmmm', 'channeled', 'marketing', 'jack', 'versus', 'severity', 'ugliness', 'shrimpsngritz', 'depreciation', 'approximately', 'operator', 'autistic', 'kia', '13yr', 'cleaned', 'verily', 'fuuuuuuuuuck', '3019', 'acknowledge', 'pair', 'collapsing', 'recovery', 'edmonton', 'chasing', 'antisocial', 'fp', 'brigaded', 'together', 'beginning', 'microplastics', 'trifecta', 'philadelphia', 'attributes', 'robbers', 'copa', 'woe', 'thankless', 'involve', 'snark', 'colombian', 'payperview', 'manifest', 'miracles', 'gonna', 'wif', 'roundabouts', 'darndest', 'gong', '113114', 'duck', 'grr', 'bowness', 'infiltrating', 'tow', 'stumped', 'superficial', 'spud', 'wooooshpaganda', 'positive', 'accused', 'hash', 'blinked', 'whyweretheyfilming', 'olde', 'horrific', 'bits', 'ghost', 'performed', 'rig', 'permabanned', '1111', 'viewpoint', 'affecting', 'realm', 'criminally', 'metabolism', 'georgia', 'jumpers', 'uyu', 'perm', 'dadjokes', 'heartache', 'rug', 'werner', 'penquin', 'screwing', 'reacts', 'conditioner', 'remorse', 'neurofeedback', 'valkyrie', 'ted', 'matching', 'shag', 'faster', 'donation', 'humans', 'troglodytes', 'reproduce', 'isles', 'reacting', 'talker', 'mickster19', 'thots', 'covered', 'rules', 'effin', 'rewarded', 'gms', 'moment', 'number', 'missile', '500', 'reach', 'block', 'whit', 'raleigh', 'deepfeeling', 'tag', 'accredited', 'sharing', 'aside', 'transactions', 'nausea', 'calculator', 'seventies', 'slate', 'itchy', 'completed', 'pixelation', 'beeb', 'fgm', 'hangover', 'feral', 'husky', 'view', 'snowbank', 'kept', 'concealed', 'taxing', 'inconsistent', 'permanently', 'cnd', 'marlas', 'framed', 'less', 'centers', 'endlessly', 'mildlyinteresting', 'companions', '450gt', 'gp', 'rockies', 'exes', 'ghosting', 'ambien', 'socket', 'pours', 'disliking', 'trumptards', 'panned', 'extrapolate', 'floor', 'sensor', 'mens', 'fight', 'comedyheaven', 'prosthetics', 'dubious', 'erotic', 'endangering', 'fracture', 'sonofabitch', 'crappy', 'germans', 'filet', 'stars', 'convergent', 'drank', 'snakes', 'sonar', 'reporter', 'facetime', 'tumour', 'celibacy', 'melee', '5', 'vape', 'revealed', 'eliminate', 'asshat', 'orphaned', 'dornish', 'obsess', 'smacking', 'bayern', 'filmmakers', 'multitude', 'pressuring', 'dj', 'bushes', 'crosswalk', 'diversity', 'sacrificing', 'wooooshed', 'story', 'hashtag', 'southwest', 'vasectomy', 'solve', 'sardonicast', 'sharkies', 'lifeing', 'youtuber', 'hannukah', 'declining', 'unproductive', 'pua', 'covering', 'brained', 'horrified', 'comeback', 'excel', 'shes', 'justices', 'altered', 'hospitals', 'thousandyear', 'bfqoe', 'repairs', 'alabama', 'sculptures', 'rapist', 'nerve', 'apologised', 'birthright', 'drawn', 'frizzle', 'prohormones', 'bogged', 'nooooooooooo', 'protects', 'stabbed', 'spectrum', 'publicize', 'croydon', 'forum', 'pieeiieeiit', 'exclamation', 'doing', 'fellow', 'in', '34k', 'pierce', 'kidfu', 'stat', 'dose', 'resident', 'horses', 'protective', 'firstly', 'hairdresser', 'gridlock', 'proabuse', 'job', 'woooooo', 'telemarketers', 'glasses', 'closest', 'lyft', 'seriously', 'wasnt', 'ferals', 'automatically', 'lord', 'appeals', 'bagsy', 'tread', 'rewarding', 'minors', 'beaks', 'publish', 'favortist', 'devil', 'connected', 'orders', 'tried', 'nest', 'ambitions', 'chemist', 'reselling', 'glitching', 'hungover', 'confused', 'societal', 'freakin', 'category', 'primary', 'creating', 'intoxicated', 'razor', 'arrest', 'row', 'racoon', 'beta', 'mysteries', '61', 'instinct', 'anonymous', 'patronizing', 'protesters', 'billys', 'bridge', 'introducing', 'bought', 'profiles', 'nipples', 'thermometers', 'excuse', 'player', 'pissy', 'acdc', 'recognizes', 'bloated', 'pmd', 'dedmon', 'adopting', 'assumes', 'oath', 'players', 'flawless', 'employed', 'lethals', 'freesync', 'hypercompetent', 'gholston', 'celebration', 'emotionallyabusive', 'timely', 'flippant', 'arses', 'ballet', 'brown', 'infest', 'complainers', 'beaming', 'definitive', 'rationalist', 'improvise', 'tabletop', 'kings', 'shoulders', 'musicians', 'genre', 'street', 'jokingly', 'royale', 'standard', 'inner', 'towing', '3ds', 'visitors', 'troubled', 'coins', 'ar15', 'association', 'improvement', 'rubber', 'bae', 'drugs', 'insulting', 'grab', 'sluts', 'croc', 'subscription', 'maths', 'loyal', 'cuckery', 'chinese', 'exactly', 'sociopathic', 'budgeting', 'pudding', 'were', 'flashlight', 'cpa', 'input', 'beat', 'arteries', 'gifted', 'hostage', 'magic', 'overnight', 'prevents', 'pirate', 'yards', 'sneaker', 'larceny', 'kt', 'houston', 'journey', 'skiing', 'midrange', 'brah', 'night', 'tigger', 'alliteration', 'slavery', 'aoc', 'etcetera', 'baton', 'designated', 'instagram', 'undergrad', 'loudly', 'pittsburgh', 'safari', 'rased', 'mr', 'inting', 'highkey', 'lotr', 'thanksgiving', 'deans', 'minigames', 'scientifically', 'alltime', 'fighter', 'defects', 'postmatch', 'ac', 'genuinely', 'sitters', 'mikans', 'page', 'doubt', 'newborns', 'aura', 'purple', 'eyebrows', 'knewjerked', 'vaticans', 'haaaa', 'swerve', 'humblebrag', 'hygiene', 'preservatives', 'healthcare', '2001', 'smallville', 'toilet', 'despise', 'stairway', 'nerfs', 'strict', 'venues', 'exhausted', 'sin', 'pitchfork', 'ubisoft', 'seemed', 'nonchalantly', 'mutations', 'cackled', 'weak', 'browsing', 'waaaay', 'buttfor', 'defender', 'lawns', 'hahahhaha', 'gubment', 'bothers', 'cities', 'cameo', 'precision', 'gta', 'slip', 'trimmed', 'bestgunnit', 'saving', 'reggaeton', 'psa', 'acquaintances', 'revenue', 'reigned', 'fuuuuuuuuck', 'barbarism', 'fundy', 'fttn', 'forecast', 'volcel', 'flesh', 'unbeleivable', 'opponent', 'evidence', 'mvps', 'thrashers', 'highlight', 'stateside', 'cough', '4chan', 'enforce', 'resentment', 'rbed', 'draggy', 'contributing', 'slices', 'betabuxx', 'profusely', 'cz', 'otacon', 'reywalker', 'kids', 'deformed', 'stalking', 'updates', 'interpreting', 'sphincter', 'lille', 'chillis', '35', 'ln', 'partial', 'roads', 'decoration', 'regarded', 'education', 'sweet', 'dense', 'emmys', 'affiliate', 'nuclear', 'commiting', '20192019', 'saturday', 'guessing', 'clarifies', '2weeks', 'gpu', 'mom', 'ideas', 'cdcs', 'interpreted', 'fido', '330', 'cracking', 'previously', 'whistler', 'guildford', 'deplorable', 'plz', 'unicorns', 'ingrate', 'introverted', 'evidently', 'locking', 'subbed', 'dumb', 'axes', 'doom', 'gnarly', 'quirk', 'cooperation', 'decentralization', 'gore', 'jinxed', 'destenay', 'telling', 'blunder', 'sooner', 'mazzy', 'booming', '231652', 'distinguish', 'antijokes', 'contraindicated', 'indonesia', 'rumbling', 'alimony', 'flashiest', 'damnnnn', 'pump', 'bowsers', 'ricotta', 'dark', 'turds', 'bottomed', 'maut', 'mcdonalds', 'perceived', 'subscribers', 'investigations', 'homemade', 'augment', 'indulge', 'surround', 'bumpy', 'fetichism', 'tampering', 'preller', '2healthbars', 'bangle', 'jv', 'coaches', 'noisy', 'ddr', 'upset', 'provocative', 'satisfying', 'tourney', 'tad', 'bearer', 'spiders', 'waymar', 'solar', 'accudentally', 'iv', 'disconnect', 'activity', 'danganrompa', 'battery', 'barcelona', 'yuan', 'garage', 'haves', 'midseason', 'shooters', 'writers', 'kinder', 'curls', 'gooooo', 'significantly', 'nissan', 'forreal', 'stupid', 'handsome', 'gravy', 'ironman', 'foid', 'jets', '600ms', 'produce', 'satisfy', 'stay', 'dream', 'koodo', 'unbalanced', 'et', 'synonymous', 'strive', 'berlin', 'fanfiction', 'lowpoint', 'spring', 'lay', 'hips', 'polling', 'creativity', 'parked', 'dems', 'toomeirlformeirl', 'intros', 'nerves', 'skelth', 'blogs', 'revisionist', 'institutional', 'gourmet', 'middle', 'believer', 'devices', 'ios', 'creators', 'unilaterally', 'suiderstrand', 'steven', 'ama', 'autoplay', 'raw', 'dandelions', 'entwined', 'performances', 'fashion', '2011', 'mistrust', 'counterbattery', 'commies', 'thereof', 'lettuce', 'needs', 'implying', 'tbh', 'euphoric', 'winrates', 'executive', 'damp', 'cellphones', 'cray', 'doritos', 'baidu', 'assertive', 'yelled', 'oppressions', 'wishes', 'pointer', 'furthermore', 'tor', 'clapz', 'somehow', 'whistleblower', 'stir', 'dibs', 'cringe', 'insecurely', 'farmers', 'progression', 'initiatives', 'bannable', 'tuned', 'chronicles', 'infinitely', 'videos', 'opposite', 'entertains', 'singularity', 'belonged', 'appears', 'blossom', 'inconsistency', 'toasty', 'noire', 'circlejeck', 'epi', 'medic', 'hotel', 'hellenism', 'fuckbois', 'comedians', 'beamer', 'dps', 'gods', 'questions', 'heavier', 'bet', 'erins', 'surgery', 'healthiest', 'gaming', 'schizophrenic', 'thirty', 'herself', 'meat', 'specifically', 'tell', 'asp', 'highlighting', 'poisonous', 'crime', 'sheathed', 'bmi', 'speakers', 'cuddling', 'kiki', '22', 'discourse', 'chafing', 'promo', 'fatality', 'meddling', 'thinking', 'beatles', 'ublock', 'impersonation', 'promote', 'management', 'credited', 'sobs', 'slime', 'relieved', '7am', 'vomiting', 'neckbeards', 'spacial', 'turbines', 'fold', 'ooo', 'snipe', 'modest', 'figuratively', 'jump', 'whiteboard', 'curious', 'eft', 'cohorts', 'manufacturer', 'artificial', 'snares', 'calm', 'deserved', 'life', 'platform', 'arkund', 'brotha', 'crystalized', '2018', 'instructor', 'chubby', 'glitch', 'vigalantes', 'failures', 'societys', 'jrue', 'obsessions', 'fooled', 'educating', 'reasoned', 'implode', 'tosses', '390', 'passionate', 'till', 'spamming', 'unspecified', 'bort', 'storage', 'patrol', 'idles', '88', 'clarify', 'hoot', 'moneybags', '51', 'fb', 'buddys', 'knobs', 'globes', 'devoid', 'tldr', 'hammond', 'guilt', 'fellas', 'moderate', 'yuk', 'kaede', 'aldi', 'cooked', 'buttons', 'gardnier', 'hahahahaha', 'disprove', 'victim', 'nonetheless', 'slope', 'twizzler', 'abortion', 'covington', 'laughed', 'dmt', 'intention', 'ricefield', 'ears', 'adhd', 'malls', 'gimmick', 'baffle', 'distance', 'inspector', 'woke', 'algorithm', 'broskies', 'swoon', 'isu', 'truly', 'austinfred', 'photergraph', 'punctured', 'samsquatch', 'chick', 'expressions', 'boye', 'sentiment', 'lessened', 'entered', 'debacle', 'falcons', 'tsm', 'abortions', 'pins', 'playing', 'fears', 'licked', 'normalizing', 'defensively', 'sa', 'kombaaaaat', 'gulf', 'ozone', 'tankie', 'fadom', 'scenario', 'frat', 'passes', 'silver', 'taxidermised', 'warfare', 'sinking', 'deactivate', 'lmaoooo', 'list', 'assets', 'invalid', 'raditz', '8pm', 'threats', 'fiire', 'afraid', 'contagious', 'yeah', 'meanspirited', 'freezing', 'jaywalking', 'challenge', 'evolution', 'meteor', 'objectively', 'scavenging', 'contraception', 'neurology', '90', 'kofta', 'dreads', 'manually', 'cuffs', 'bch', 'celebratory', 'writting', 'traded', 'domestic', 'sleeptrain', 'produced', 'practice', 'impression', 'jealousy', 'trap', 'oilfield', 'boulder', 'tropics', 'sticker', 'friend', 'videogames', 'cab', 'bed', 'pming', 'fn', 'pentagon', 'simple', 'casino', 'publicly', 'graphics', 'douzy', 'immolates', 'lands', 'occur', 'shows', 'appealing', 'innocents', 'corsi', 'safes', 'ragnarok', 'bollocks', 'messy', 'slum', 'loop', 'scholars', 'tlc', 'seconds', 'slop', 'nueur', 'matchups', 'lucked', 'saves', 'hulu', 'families', 'resuscitative', 'leo', 'mental', 'unchecked', 'discussed', 'greatly', 'knuckle', 'blouse', 'everyday', 'protests', 'pretty', 'vehicles', 'sippinthatminttea', 'handful', '152', 'suffers', 'atlantica', 'heinz', 'yells', 'mitigation', 'didn', 'burnitdown', 'downvoting', 'crafted', 'finding', 'superstition', 'government', 'familial', 'statistics', 'sprouts', 'filth', 'tribute', 'likeminded', 'mlb', 'internally', 'secondary', 'incompetent', 'lovers', 'bowral', 'disctodigital', 'ghosted', 'nets', 'movements', 'seminarian', 'shined', 'soap', 'canucks', 'bixby', 'selloboy', 'telepathically', 'cuter', 'noticing', 'closed', 'shorthanded', 'c1', 'casually', 'pitfall', 'heyyy', 'entitled', 'denials', 'external', 'millennium', 'compute', 'dressing', 'been', 'grey', 'busted', 'smirk', 'explorers', 'dresses', 'headbutting', 'ab', 'shop', 'verbal', 'inflate', 'advices', 'citizenship', 'noted', 'monster', 'bottle', 'oooo', 'supreme', 'baffles', 'overload', 'redblooded', 'angrily', 'tronco', '31st', 'functional', 'mortified', '100', 'screw', 'siberian', 'profile', 'reference', 'fouls', 'happened', 'agree', 'personnel', 'fashionable', 'loosely', 'multivitamin', 'richest', 'hah', 'wooden', 'highspeed', 'paraphilia', 'amirite', 'incest', 'fredmeyer', 'realization', 'argument', 'texts', 'chiropractors', 'homosapien', 'commenting', 'donutlicious', 'genderless', 'tds', 'mouths', 'manufacture', 'll', 'fitness', 'manager', 'crimson', 'relevance', 'txns', 'aww', 'dictionary', 'pickup', 'hobby', 'optimized', 'vintage', 'regognize', 'vanillas', 'beg', 'nightstand', 'cafe', 'scabies', 'goin', 'dissmissive', 'contributed', '1700ish', 'connecticut', 'hundred', 'stereotypical', 'troops', 'boooooooo', 'servants', 'asirt', 'secret', 'katanas', 'b', 'proclaimed', 'western', 'chug', 'diseases', 'pleasing', 'misses', 'retention', '2500', 'lvl', 'pasts', 'misogynistic', 'gru', 'burned', '60', 'customer', 'rye', 'pursue', 'ayton', 'invalidates', 'roast', 'further', 'hurdle', 'razz', 'nparents', 'minions', 'perpetuate', 'evergreen', 'scholomance', '6am', 'admits', 'halls', 'runza', 'rich', 'light', 'studied', 'tourist', 'superbowl', 'yokels', 'postmates', 'dynasty', 'discovery', 'shaven', 'rendered', 'melodies', 'isoing', 'yessss', 'rushes', 'tmz', 'exterminating', 'understands', 'highs', 'fockin', 'crossposts', 'ps4', 'superhot', 'unless', 'gosh', 'bigbrained', 'closes', 'icy', 'hacker', 'percentage', 'binance', 'aiming', 'gaaahhh', 'lotta', 'john', 'atcha', 'stc', 'savannahs', 'cleanup', 'denier', 'techniques', 'stating', 'beleive', 'exception', 'laporte', 'traction', 'caffe', 'babes', 'headshot', 'titans', 'crate', 'pbese', 'worldwide', 'flamed', 'ion', 'boe', 'earner', 'soon', 'coors', 'learned', 'misspelled', 'devastated', 'realises', 'low', 'lingo', 'destiny', 'inspiring', 'fashions', 'ninja', 'deceptive', 'compensating', 'robbed', 'boreign', 'quantity', 'trolling', 'semen', 'online', 'starred', 'rabid', 'sms', 'gimmie', 'continue', 'flour', 'apologized', 'understanding', 'cut', 'emotional', 'replacement', 'louisiana', 'none', 'edd', 'polly', 'rid', 'refrain', 'landing', 'howl', 'of', 'cha', 'reactable', 'promotes', 'anabolic', 'lopsided', 'planet', 'visualization', 'enforcement', 'pleading', 'yayy', 'yiddish', 'probable', 'farther', 'stbx', 'stubborn', 'inflammation', 'babcuck', 'pmdd', 'sensitivity', 'meantime', 'chapters', 'considered', 'unfriend', 'edges', 'conflated', 'reunited', 'pedo', 'flick', 'multiplayer', 'worlds', 'pp', 'upgrade', 'teenager', 'reserve', 'mums', 'pursuing', 'polygon', 'reverse', 'ours', 'touched', 'saskatoon', 'beats', 'headass', 'iwobi', 'prey', 'break', 'replies', 'kapusta', 'kilter', 'animation', 'craze', 'credits', 'jarring', 'amein', 'comps', 'cue', 'lanky', 'awful', 'infacy', 'maa', 'kid', 'appearance', 'bummer', 'enforced', 'dublin', 'yuuuuuuuuuup', 'wedlock', 'vey', 'colourful', 'downwoted', 'mmmm', 'glue', 'melting', 'screenplay', 'carries', 'claiming', 'cking', 'counters', 'salesmen', 'learns', 'aggravated', 'ms', 'reminding', 'cinder', 'receiving', 'ajax', 'audiobook', 'drag', 'jumper', 'sovereign', 'merrill', 'fill', 'nested', 'nicefull', 'messing', 'roasts', 'imho', 'weirdos', 'swerf', 'resilient', 'bankruptcy', 'president', 'eg', 'poser', 'signage', 'overgeneralization', 'insta', 'having', 'epitome', 'regime', 'donuts', 'rife', 'kickers', 'puked', 'play', 'wikihow', 'utters', 'oceania', 'panic', 'rider', 'wonder', 'unworthy', 'ont', 'instruct', 'rt', 'lazy', 'saaaffffffeeeee', 'investigate', 'elements', 'crouching', 'shaky', 'usa', 'gagged', 'inflict', 'tennas', '4872', 'dopamine', 'litterally', 'disfigured', 'whammy', 'ooohh', 'abt', 'client', 'boards', 'moco', 'standing', 'theoretically', 'mama', 'lunch', 'propose', 'feminine', 'sbiii', '2015', 'selectively', 'airpods', 'incapacitated', 'synced', 'biblical', 'evil', 'though', 'uninformed', 'raiders', 'covfefe', 'siri', 'spreads', '1970', 'revamp', 'two', 'inherently', 'd2', 'modpowers', '4head', 'emotion', 'turner', 'turkeys', 'verifiable', 'saints', 'semesters', 'fuk', 'required', 'mercy', 'antisemitism', 'critical', 'beatings', 'needed', 'seeeee', 'gratzygratzy', 'mainsource', 'walnut', 'wraps', '4x', 'mcds', 'wagon', 'dayz', 'fatbabies', 'zar', 'phalanx', 'micro', 'congree', 'rickets', '36', 'beijing', 'exny', 'hof', 'themed', 'crap', 'traps', 'mason', 'classic', 'definatly', 'scratch', 'man', 'deductions', 'rpm', 'targeted', 'oklahoma', 'obligates', 'prob', 'repository', 'tryna', 'dependency', 'theology', 'killing', 'w', 'fl', 'radio', 'addicts', 'mpg', 'victory', 'homes', 'trolled', 'squashing', 'clubs', 'australia', 'patents', 'asap', 'daughters', 'alliances', 'misusing', 'everrightward', 'dwell', 'egotistical', 'motherfu', '200m', 'dreams', 'playin', 'selfobsession', 'filthy', 'recreational', 'casual', 'poles', 'creepy', 'freefolk', 'pinot', 'tosh', 'ill', 'indica', 'plays', 'detour', 'truecels', 'luck', 'n00b', 'illustrated', 'choosing', 'shinys', 'comegive', 'lodger', 'goes', 'simmering', 'strq', 'event', 'handheld', 'devs', 'treasure', 'bra', 'advertisement', 'naxxramas', 'teehee', 'sunday', 'woth', 'future', 'years', 'bl', 'era', 'single', 'catlike', 'chimpanzee', 'thx', 'phds', 'mermaid', 'accepted', 'bridgeport', 'atlantahawks', 'taxation', 'contestant', 'undeniable', 'confident', 'gdpr', 'nonhormonal', '9999999', 'bitrate', '2001st', 'unhinged', 'shift', 'badmouthing', 'rolls', 'tumblr', 'reasonably', 'neutral', 'kindred', 'candidates', 'buckle', 'poorest', 'pointing', 'threes', 'mechanic', 'damn', '100m', 'persuasion', 'especially', 'toleramce', 'internalized', 'recognized', 'investigator', 'opioid', 'devout', 'bowls', 'appetite', '76', 'cutters', 'pinch', 'align', 'combo', 'thwarted', 'consistent', 'comb', 'marine', 'mexicos', 'extrapolating', 'outrageously', 'omgggg', 'ibiteyou', 'finger', 'parking', 'ultimate', 'besties', 'diss', 'leap', 'bugged', 'wings', 'guillotine', 'fooling', 'depending', 'held', 'americans', 'blechdel', 'stubhub', 'unarchived', 'realized', 'vogue', 'call', 'end', 'register', 'honesty', 'loosing', 'pretences', 'horcruxes', 'unclearly', 'paths', 'nremt', 'wacky', 'blatantly', 'malinois', 'surprise', '420', 'spice', 'promises', 'fedoras', 'mined', 'rosenbrook', 'massacred', 'asain', 'outsider', 'stoned', 'jesus', 'consented', 'phrasing', 'unsub', 'ss', 'manchester', 'facilities', 'socalled', 'title', 'barnes', 'chatbox', 'amenable', 'christmas', 'quickest', 'silliness', 'embarrasses', 'pal', 'welding', 'samples', 'certainly', 'p2pkh', 'shorts', 'broad', 'milinials', 'bolt', 'shelter', 'refrigerated', 'youths', 'pottery', 'stuff', 'outrage', 'deniieed', 'excess', 'comfy', 'diminishing', 'abused', 'measuring', 'developments', 'sloppy', 'indoor', 'usually', 'lists', 'noninterventionism', 'dragopolis', 'swat', 'ness', 'blame', 'cocky', 'thats', 'bubbling', 'slaves', 'socio', 'sneeze', 'goody', 'rate', 'hustles', 'hour', '700', 'stream', 'implicitly', 'minorities', 'accuse', 'driver', 'skillfully', 'eventually', 'bullets', 'buzzfeed', 'opt', 'spread', 'formula', 'demise', 'copper', 'semblance', 'selfmade', 'microwaves', 'militarized', 'gimme', 'guessed', 'sceptical', 'corsets', 'stiil', 'extend', 'jeeem', '350m', 'pridefully', 'est', 'quotes', 'breast', 'allways', 'ambulances', 'jamaica', 'afterwards', 'gin', 'accents', 'sincerer', 'cultists', 'newingtons', 'highhhhh', 'bmw', 'eagles', 'ceased', 'skies', 'tryout', 'divided', 'waynes', 'ire', 'goalless', 'wack', 'douchey', 'lined', 'onchain', 'libya', 'overpriced', 'bulk', 'douchy', 'liverpool', 'thrashed', 'nazis', 'asbestos', 'leppo', 'opportunities', 'az', 'farm', 'irritated', 'blurry', 'finished', 'stardom', 'starving', 'brag', 'nova', 'que', 'unregistered', 'emmisions', 'expenditures', 'tomlin', 'haitian', 'soundbytes', 'reel', 'ability', 'degree', 'suguesstions', 'footage', 'boxing', '70', 'smth', 'controllers', 'deny', 'healthy', 'record', 'billion', 'bisbee', 'oml', 'seeded', '22146', 'knickers', '1000ft', 'nail', 'scene', 'illegitimate', 'acknowledged', 'invincible', 'massacres', '2hs', 'widespread', 'gamers', 'boyhood', 'labels', 'circa', 'tribes', 'bouts', 'bloodstream', 'diet', 'tlwgas', 'exportable', 'manages', 'akin', 'pizzad', 'nbastreams', 'hahah', 'sealed', 'frustrate', 'alloweddddd', 'walking', 'gig', 'pepsi', 'hindered', 'energy', 'bastard', 'looks', 'in2', 'scripts', 'decriminalization', 'largest', 'ales', 'frick', 'dispatch', 'santa', 'behaviour', 'flashbacks', 'cancerous', 'lashes', 'solves', 'tshirt', 'stupider', 'offending', 'sanitary', 'february', 'mover', 'censoring', 'zoo', 'vaccinations', 'ppl', 'work', 'jog', 'rune', 'hating', 'turnovers', 'tourists', 'calculated', 'pessimistic', 'corrects', '3', 'unacceptable', 'communism', 'weeks', 'beard', 'convenience', 'shitpost', 'finland', 'bald', 'azz', 'etiquette', 'streets', 'scorched', 'marrying', 'europhilic', 'tweak', 'oreos', 'pressence', 'cannonball', 'candidate', 'chains', 'revolutionism', 'indecisive', 'scoreboard', 'nike', 'precedent', 'democratic', 'ideals', 'cornish', 'ttigers', 'bleach', 'nut', 'nightmares', '50ish', 'experiencing', 'normalize', 'jolex', 'curb', 'races', 'funk', 'oneword', 'suffocation', 'week', 'kills', 'flipflopping', 'pt', 'insult', 'oilers', '125', 'qaida', 'marked', 'gamed', 'branch', 'attorneys', 'prescribed', 'supporters', 'venuzuela', 'awakening', 're', 'councils', 'ovld', 'mavericks', 'mmhmm', 'landslide', 'commercials', 'recently', 'ment', 'queasy', 'spiderverse', 'territory', 'confirms', '350', 'elections', 'magical', 'aliens', 'coward', 'send', 'wolves', 'buzzkill', '24', 'emotes', 'nows', 'ton', 'fawn', 'yare', 'pronoinced', 'o7', 'copies', 'subsidized', 'disturbing', 'rhetorical', 'sapphic', 'exempt', 'practices', 'cycle', 'fortress', 'natural', 'riots', 'doctor', 'daddy', 'teen', 'dahlen', 'entries', 'stages', 'picassos', 'obsessive', 'toronto', 'cosmetic', 'stumbled', 'jersey', 'popping', 'co', 'hopefully', 'counterjungling', 'onward', 'snag', 'loa', 'fleeting', 'fascinated', 'schooler', 'cigar', 'bang', 'intermingle', 'bastards', 'irritating', 'singular', 'distorted', 'islands', 'ganks', 'referenced', 'grinderdates', 'gratitude', 'area', 'colt', 'japester', 'suspensions', 'errands', 'vpr', 'unabashedly', 'resuscitated', 'intimacy', 'spotify', 'chinaman', 'propaganda', 'handout', 'verse', 'pregnancy', 'bore', 'lil', 'bravado', 'polluted', 'commentary', 'flap', 'merger', 'clock', 'publix', 'tldw', 'extreme', 'peng', 'usual', 'boxers', 'skier', 'haysoos', 'languages', 'frego', 'flamboyant', 'valium', 'kicks', 'gullible', 'unkind', 'allow', 'idolise', 'evan', 'nurse', 'else', 'rein', 'skripal', 'candlerelated', 'punchable', 'justified', 'manner', 'formatting', 'financial', 'journalists', 'drives', 'chose', 'unconditionally', 'lick', 'medical', 'yyyeeaaahhhh', 'brainwash', 'tortures', 'morals', 'using', 'next', 'hahahaha', 'zapper', 'volvo', 'ods', 'conversion', 'speculating', 'buddy', 'cod', 'omgsh', 'born', 'wiki', 'edinburghs', 'situations', 'pumping', 'crusts', 'circus', 'journal', 'poeling', 'havent', 'vent', 'patched', '8th', 'ventura', 'exam', 'bucks', 'bonded', 'dreaming', 'tftfd', 'clinch', 'suppress', 'girlyboy', 'arrests', '2021', 'malaise', 'longest', 'responsibilty', 'unathletic', 'hopped', 'yeesh', 'easiest', 'haaaaay', 'spellbound', 'dogs', 'cnn', 'minneapolis', 'prone', 'whichever', 'vocab', 'complaints', 'brexiter', 'scratchin', 'verdugo', 'convoys', 'nomination', 'priesthood', 'screenings', 'lawsuit', 'america', 'mds', 'wake', 'thoulsand', 'particular', 'anybody', 'askhotel', 'revelation', 'objecting', 'healer', 'disloyalty', 'counselors', 'training', 'libel', 'blank', 'mississippi', 'occasions', 'obsessively', 'saddest', 'poverty', 'likeable', 'erase', 'rushing', 'tossed', 'sodium', 'retiring', 'lows', 'doxxed', 'disco', 'sucka', 'harvard', 'rez', 'says', 'antieu', 'spit', 'gather', 'babymammas', 'solid', 'lookout', 'squeeky', 'eagle', 'wowing', 'squeamish', 'cahpters', 'anecdotally', '169743', 'strangling', 'kr', 'delving', 'graves', 'planning', 'husbands', 'smoothly', 'canes', 'believ', 'concrete', 'regrets', 'withdrawals', 'zanadiqa', 'veins', '180', 'australian', 'jessistyles', 'receptors', 'sanders', 'omgz', 'punting', 'dice', 'announce', 'book', 'heater', 'dammit', 'developed', 'wegmans', 'airbender', 'predicted', 'ouija', 'sadistic', 'absolutely', 'scousers', 'cloning', 'views', 'lollipop', 'italicizing', 'omniscient', 'parts', 'doe', 'mombies', 'grocery', 'lefts', '4pack', 'jehovah', 'vewy', 'greasy', 'gangs', 'booted', 'darwin', 'spreadsheeters', 'mx9', 'gavin', 'shoveling', 'chunky', 'alligator', 'helperbot', 'condo', 'suspects', 'jest', 'celebrate', 'mozzarella', 'shithole', 'redefine', 'cardio', 'hr', 'fastball', 'marry', 'faso', 'mindfulness', 'dinners', 'femininity', 'handed', 'airflow', 'looting', 'ut', 'diagnoses', 'n8', 'millworks', 'mindsets', 'debatable', 'dirk', 'csv', 'rage', 'sentimental', 'flailing', 'ico', 'throughout', 'fuckkkkkkkk', 'installation', 'bouncer', 'hyperinteligence', 'av', 'lulac', 'lasted', 'comedian', 'folds', 'sociable', 'tamaki', 'preventing', 'fiancé', 'iy', 'cared', 'covert', 'cb', 'longboard', 'educate', 'careful', 'members', 'convince', 'gap', 'rounds', 'hbk', 'hereby', '120', 'thunderlords', 'address', 'ludicrously', 'echo', 'pythons', 'unintentionally', 'reveal', 'vini', 'satans', 'sro', 'gynolette', 'mob', 'upsets', 'highmountain', 'cyvasse', 'squeaked', 'sweaty', 'goofed', 'competant', 'agonising', 'intentional', 'pass', 'thrussy', 'volleyball', 'youve', 'mistaking', '3am', 'filler', 'schmuk', 'civility', 'celebrations', 'splash', 'wubalubadubdub', 'music', 'cantttt', 'cape', 'suit', 'writes', 'porpoise', 'killin', 'poured', 'chemical', 'coops', 'praises', 'flights', 'far', 'ask', 'dare', 'pudgier', 'tehehehehehehe', 'bored', 'grail', 'desire', 'stump', 'm16', 'cth', 'glorious', 'walk', 'programs', 'wifes', 'endometriotic', 'exploding', 'nva', 'immunity', 'mantra', 'visa', 'painting', 'preposterously', 'halakha', 'kite', 'buds', 'lifes', 'photographer', 'peak', 'payback', 'accidents', 'wqs', 'authoritarianism', 'mexico', 'reroll', 'poking', 'gemara', 'birth', 'untalented', 'har', 'amaze', 'tends', 'hook', 'possessions', 'stalked', 'chainsaw', 'chabad', 'art', 'pretend', 'partner', '10th', 'imam', 'through', 'lookin', 'steams', 'hovering', 'mishap', 'grants', 'reality', 'reduce', 'satire', 'dreaded', 'bluepundit', 'legalisation', 'contacting', 'flown', 'role', 'annoys', 'menus', 'questioned', 'safety', 'houseparty', 'toys', 'ohh', 'back2worksoon', 'wrecked', 'baggage', 'ogs', 'perform', 'tech', 'grandmaster', 'oooooffff', 'warm', 'regard', 'collecting', 'overseas', 'squint', 'arising', 'unlucky', 'fetishizes', 'rougher', 'sunnah', 'reflexive', 'typed', 'website', 'crazy', 'grandmas', 'can', 'fulfilled', 'begged', 'goodey', 'crew', 'gatekeepers', 'goldplat', 'enjoyment', '25yr', 'deja', 'pittsburghs', 'enforcing', 'obscure', 'polygrumps', 'hys', 'nebraska', 'bruv', 'solo', 'surviving', 'weho', 'momma', 'emotions', 'stfu', 'scaled', 'command', 'beans', 'cherry', 'jure', '182', 'mudiay', 'rapper', 'nearly', 'elses', 'mobas', 'crossbow', 'scare', 'possibilities', 'responding', 'stagediving', 'invariably', 'asm', 'flavors', 'shortstop', 'imagined', 'surf', 'peerreviewed', 'pancake', 'teaser', 'cuddle', 'ult', 'increase', 'venezuela', 'colouring', 'gentile', 'cfb', 'stocking', 'overreacting', 'doubted', 'hashtags', 'bah', 'injured', 'kicked', 'hypocrisy', 'mother', 'ooook', 'cheesecake', 'leaders', 'denver', 'famines', 'sectarian', 'marvellously', 'recall', 'stem', 'delivering', 'independent', '2000rpm', 'dozen', 'ridiculed', 'compromised', 'violent', 'country', 'threatened', 'grizzled', 'inspirational', 'godfather', 'smegging', 'played', 'spokane', 'trail', 'buggy', 'redemption', 'sketchy', 'origami', 'invasive', '30m', 'snaps', 'ehh', 'physics', 'richness', 'pantie', 'plot', 'undeveloped', 'virginia', '00000100001001001000', 'inle', 'basis', 'yeeesss', 'colors', 'properly', 'straightforward', 'driveway', 'veracruz', 'sniffles', 'dental', 'rub', 'alcoholics', 'slouching', 'bp', 'pathway', 'prophet', 'friends', 'conveniently', 'daca', 'duo', 'infiltration', 'ctr', 'goddess', 'ebay', 'speculate', 'eluded', 'facts', 'verbatim', 'levelheaded', 'lecturing', 'tackle', 'maniac', 'nypd', 'favor', 'blog', 'suddenlytrans', 'backfired', 'squatting', 'uga', 'gas', 'motherfucking', 'crytpo', 'ads', 'thus', 'wah', 'handled', '179mbps', 'speaker', 'denies', 'sides', 'agony', 'assemble', 'cos', 'dashy', 'festus', 'customers', 'ancaps', 'duplicates', 's2g', 'flawed', 'stiff', 'similarities', 'companionship', 'maddening', 'whippersnappers', 'thajarseff', 'switched', 'embarrasing', 'defensive', 'rec', 'hardcore', 'carelessness', 'submitted', 'defiantly', 'slaughtered', 'vermont', 'pace', 'chonky', 'spy', 'machines', 'pajamas', 'tolerate', 'transitioning', 'electing', 'population', '24hour', 'ubi', 'aftermath', 'phx', 'agghh', 'excommunication', 'rot', 'ginormous', 'grampians', 'heat', 'did', 'dfac', 'welp', 'fora', 'xd', 'prefer', 'lackluster', 'sausages', 'clarification', 'unavailable', 'slowly', 'homophobes', 'filter', 'creature', 'yens', 'tweaked', 'concede', 'rhode', 'sinews', 'steeler', 'throwaways', 'homework', 'hormones', '67', 'republic', 'appropriating', 'cleavage', 'passion', 'prekoop', 'eyes', 'tickled', 'reconsider', 'subversion', 'suggested', 'blot', 'idgaf', 'illegal', 'soleil', 'stainless', 'restrict', 'philly', 'participants', 'resign', 'flashed', 'transition', 'repo', 'certificate', 'deranked', 'hornsby', 'sharpton', 'spawns', 'telephone', 'necessarily', 'breathed', 'brush', 'ludicrous', 'attendant', 'admissions', 'process', 'sickness', 'meets', 'broke', 'shoe', 'armored', 'pitchers', 'democratspf', '1030', 'arm', 'fock', 'inspired', '4050', 'piss', 'mobile', 'maki', 'antinuclear', 'ehhh', 'sincere', 'ofcourse', 'mineral', 'diets', 'barley', 'occupy', 'munsons', 'reviewed', 'cosmic', 'gears', 'modes', 'elders', '101', 'cokes', 'meeee', 'starring', 'capita', 'timberwolves', 'nize', 'leaners', 'crossed', '16ish', 'monogamous', 'articles', 'nooooooooo', 'emotionless', 'subterfuge', 'wide', 'immense', 'pale', 'span', 'have', 'balding', 'shortages', 'lolpics', 'come', 'liberalism', 'zero', 'fiat', 'delusion', 'rag', 'giggled', 'form', 'jealous', 'sought', 'strangely', 'cleaning', 'detective', 'esas', 'spastics', 'switching', 'churches', 'eaters', 'fades', 'klutz', 'humorous', 'reliever', 'continuously', 'blackadder', 'swearengen', 'fields', 'manifested', 'safely', 'upper', 'bulky', 'weights', 'dow', 'scandal', 'stg44', 'showers', 'unsportsmanlike', 'magically', 'protruding', 'spinning', 'shredding', '003', 'dui', 'install', 'napoleon', 'bitching', 'mid', 'cringing', 'allkorean', 'polarized', 'looking', 'floors', 'true', 'beaus', 'dialogue', 'newspaper', 'cartels', 'outcome', 'chabot', 'hf', 'definitly', 'etched', 'celes', 's1', 'cultured', 'unliked', 'fist', 'coconut', 'refuel', 'herons', 'hikers', 'dodo', 'dumpy', 'marmalade', 'worldviews', 'favoured', 'fixed', 'casuals', 'antigovt', 'unto', 'subban', 'poshmark', 'bug', 'clear', 'medicare', 'predict', 'jordanhill', 'curiousity', 'mill', 'xoxox', 'limewire', 'whiskey', 'lesnar', 'eliminates', 'construct', 'fishing', 'rollies', 'bedrooms', 'chuckled', 'dime', 'musician', 'fullscreen', 'rubbish', 'burdens', '2000', 'golden', 'deiaa', 'entwives', 'screenshake', 'antigank', 'stratford', 'chart', '1993first', 'adidas', 'bigotryer', '35kg', 'gem', 'thin', 'speeches', 'dominate', '82', 'originates', 'sunrise', 'informative', 'mickey', '2016', 'uncomfortable', 'effort', 'agsin', 'werent', 'unscandal', 'smashmouth', 'toons', 'conclusion', 'peavis', 'sacred', 'scruffy', 'stopandgo', 'scratching', 'blamed', 'vexd', 'cast', 'ahahahahahaha', 'politician', 'lime', 'empower', 'paragon', 'insignificant', 'brattier', 'casanova', 'surd', 'flaccid', 'anticipated', '155', 'whoa', 'potts', 'exams', 'grand', 'dust', 'another', 'oke', 'slide', 'wasting', 'honouring', 'we', 'unbridled', 'rebellion', 'migration', 'bitter', '8year', 'iamverysmart', 'clothes', 'figures', 'platonic', 'boyos', 'outlier', 'hapless', 'ffed', 'hop', 'trance', 'knoooow', 'manlets', 'esea', 'finnaly', 'intricacies', 'operating', '800', 'blew', 'suspended', 'gangster', 'shinobi', 'synergies', 'knife', 'stare', 'exmo', 'bacteria', 'coercive', 'doxies', 'gay', 'texting', 'fab', 'delicious', 'shining', 'masturbated', 'ceremony', 'cuddles', 'boop', 'tfa', 'placing', 'galactica', 'noodle', 'trinity', '00s', 'ds9', 'anyways', '30ft', 'apostle', 'overridden', 'barometer', '5makes10fm', 'enter', 'smelled', 'robomod', 'reconcile', 'etc', 'toxicity', 'occupation', 'vicinity', 'ahchto', 'pitcher', 'scripture', 'implementing', 'insisted', 'fuga', 'airspace', 'whoppers', 'shouldvcount', 'anas', 'soo', 'something', 'invasions', 'tossup', 'pressured', 'charities', 'bullet', 'thumbs', 'steam', 'sing', 'landlady', 'nose', 'pimple', 'final', 'kittens', 'nation', 'shunned', 'carl', 'standpoint', 'g6', 'stan', 'embarassed', 'mistake', 'monsters', 'bunk', 'begone', 'thai', 'bigotry', 'penpal', 'recipe', 'argue', 'shotguns', 'gluttonophobia', 'sargent', 'expansions', 'insanely', 'roaring', 'razer', 'promet', 'tying', 'whispers', 'licenses', 'seahawks', 'deli', 'squishy', 'scrubs', 'salaam', 'capture', 'equivalency', 'ruled', 'sonnytater', 'swindlers', 'wavy', 'psychiatric', 'othrr', 'die', 'cathedrals', 'peanut', 'réalize', 'badwomensanatomy', 'dillard', 'quo', 'kidney', 'complete', 'skewed', 'achilles', 'inadvertently', 'climates', 'caretakers', 'brows', 'trio', 'thorough', 'patience', 'vamos', 'synthroid', 'goal', 'ur', 'snapchat', 'trickery', 'pneumonia', 'drivers', 'trigger', 'catastrophic', 'brownie', 'xiv', 'exploits', 'oooh', 'mock', 'hbxxx', 'redundant', 'fireworks', 'les', 'favs', 'prostate', 'infographics', 'downside', 'buys', 'significant', 'damages', 'chicago', 'misunderstanding', 'libertarians', 'jackhammer', 'promised', 'pursuit', 'suzuki', 'seconded', 'nb', 'donkey', 'horn', 'abu', 'partying', 'worry', 'alarm', 'succeded', 'experiences', 'occurs', 'pcos', 'madina', 'slayed', 'doc', 'beagles', 'wacom', 'straws', 'patio', 'ketamine', 'fooking', 'high', 'founded', 'dwarves', 'depictions', 'crumbly', 'completey', 'sentencing', 'memery', 'wholesale', 'camaraderie', 'devils', 'teaching', 'swarm', 'ahahaha', 'soooooo', 'certain', 'westfield', 'subterranean', 'mutate', 'grown', 'fiance', 'mid20s', 'mindblowingly', 'shidded', 'comprehension', 'blowing', 'loving', 'brothers', 'dogma', 'reallt', 'obligated', 'brink', 'rappers', 'freezes', 'airport', 'pants', 'mourning', 'anywho', 'kong', 'orange', 'beware', 'whoores', '8000', 'jethro', 'harpies', 'amateurs', 'wery', 'talking', 'noninflammatory', 'hoover', 'mps', 'horny', 'welded', 'observant', 'slow', 'switches', 'hmph', 'bender', 'hershey', 'cancelling', 'froze', 'vending', 'noises', 'dispensary', 'maintained', 'weirdo', 'grade', 'ankh', 'porn', 'momforaminute', 'trippin', 'guac', 'underestimating', 'chad', 'graduation', 'nips', 'videotapes', 'iguanas', 'chat', 'smartest', 'bloods', 'writein', 'poolice', 'atleast', 'facetoface', 'gomenasai', 'nations', 'austin', 'rapes', 'estranged', 'rock', 'pcmr4lyfe', 'max', 'assaulted', 'obese', 'bow', 'skinny', 'insinuating', 'shades', 'gawd', 'descriptions', 'underscore', 'oneshots', 'robles', 'uninterested', 'upbringing', 'mainstream', 'minor', 'civilian', 'governs', 'irrelevant', 'quests', 'crips', 'sanitizer', 'capitals', 'generstion', 'serving', 'terms', 'calzone', 'comparable', 'locker', 'merlinus', 'friendship', 'sonic', 'legalised', 'assholes', 'reactions', 'pulisic', 'jackass', 'debates', 'southeast', 'update', 'iron', 'accompany', 'unionist', '49er', 'went', 'flood', 'outdated', 'disappointment', 'defining', 'seasoned', 'transportation', 'distant', 'phillies', 'exited', 'deteriorates', 'sinema', 'mil', 'stepmother', 'prompts', 'antiwar', 'doomed', 'tutilage', 'illustrate', 'nine', 'sexism', 'seoul', 'pallor', 'bones', '60gal', 'grav', 'language', 'whataboutism', 'derailed', 'atlantic', 'balls', 'loyalty', 'sweat', 'selfies', 'downhill', 'goodnight', 'investor', 'imprinting', 'lords', 'foggiest', 'dmed', 'feeding', 'damnn', 'proccess', 'sacked', 'unlimited', 'psyop', 'round', 'sensible', 'unbelievably', 'reply', 'wines', 'hackysack', 'bombed', 'looming', 'fcking', 'cronies', 'midfield', 'skin', 'distractions', 'competition', 'grouping', 'alice', 'somemormonasshooe', 'axedwarve', 'delirium', 'liquid', 'recycle', 'hanoi', 'partnership', 'grumpy', 'bochurim', 'hubs', 'wizards', 'disgustingly', 'makes', '80k', 'environmental', 'canary', 'killers', 'tend', 'uncertain', 'decisive', 'eextendedthe', 'dulls', 'florida', 'qp', 'strongly', 'kirk', 'reports', 'stresses', 'suffering', 'xanax', 'outlet', 'inept', 'bloomer', 'justforyouthlogic', 'gross', 'netti', 'jojoba', 'andrews', 'ethical', 'gang', 'posing', 'cliche', 'abolish', 'hex', 'mumbo', 'glorifies', 'lex', 'reporting', 'prompt', 'snoke', 'humps', 'galil', 'hated', 'jones', 'hires', 'grew', 'excon', 'hodad', 'tripolar', 'shitshow', 'tormented', 'sincerely', 'unsalted', 'fraction', 'seeds', 'beastly', 'unluckiness', 'filled', 'dress', 'oops', 'branding', 'creepers', 'congratulations', 'requirements', 'disgruntled', 'shitload', 'hiring', 'ibises', 'whooshing', 'guests', 'hyperbolic', 'bartenders', 'presidential', 'minimize', 'envy', 'galaxy', 'viv', 'striped', 'gis', 'assistance', 'fright', 'react', 'loui', 'konami', 'sanitized', 'brutality', 'communist', 'sans', 'loves', 'rural', 'sativa', 'caveat', 'jackie', 'proven', 'clubhouse', 'busan', 'repacked', 'insufferable', 'doublethink', 'petition', 'about', 'arkham', 'yuck', 'dedicated', 'libs', 'downward', 'dynamic', 'harboring', 'lowkey', 'combined', 'chads', 'huddersfield', 'retail', 'ovr', 'worth', 'coloureds', 'breaker', 'sheep', 'dizzy', 'freezer', 'judgmental', 'dignity', 'games', 'coming', 'forests', 'booters', 'winter', 'sisters', 'beast', 'social', 'cigars', 'punishment', 'nato', '1080ti', 'sod', 'preserves', 'feelers', 'spending', 'bothered', 'lw', 'nord', 'leaves', 'traitor', 'astroturfing', 'bizarre', 'katana', 'bullied', 'turkey', 'feud', 'overcrowded', 'achilios', 'adulthood', 'effectively', 'snickers', 'nra', 'nickelodeon', 'wankers', 'decorum', 'bolton', 'struck', 'entertain', 'wonderworld', 'etsy', '8h', 'manly', 'l1', 'sovereignty', 'soothing', 'selfrighteous', 'rum', 'therapists', 'troopers', 'understandable', 'ladyburn1974', 'horrible', 'sexist', 'secondhand', 'events', 'independence', 'bell', 'hazing', 'subsidies', 'seroquel', 'removed', 'thingy', 'haired', 'barring', 'lancaster', 'salmonella', 'antiestablishment', 'beaters', 'whores', 'touristy', 'cobbobles', 'fotos', 'disagrees', 'versatility', 'throughput', 'also', 'wj', 'fining', 'cheetos', 'explosive', 'genetically', 'months', 'brace', 'stallion', 'cur', 'guided', 'squeaking', 'blessings', 'incentives', 'thirsty', 'tiring', 'uncharacteristic', 'laurel', 'mosquito', '80', 'sits', 'fine', 'decay', 'smug', 'deflect', 'colored', 'lucas', 'amendment', 'triggered', 'aand', 'fas', 'tmobile', 'plantation', 'hides', 'scientifical', 'creeper', 'cursor', 'punny', 'waited', 'illness', 'accusation', 'idealized', 'gyaru', 'scariest', 'fizzle', 'mine', 'slaving', 'convictions', 'appearances', 'disney', 'showing', 'runners', 'sacraficed', 'feasible', 'made', 'foreseeable', 'ins', 'nods', 'cia', '450', 'candlelight', 'copenhagen', 'brainwashing', 'credentialing', 'acl', 'opportunity', 'xıs', 'intent', 'ford', '1122019', 'criticisms', 'mlr', 'file', 'unanswered', 'nudes', 'prooobably', 'helpless', 'shoulder', '1945', 'buttcoin', 'pictured', 'resolution', '430', 'thing', 'transfer', 'harry', 'childish', 'conflicted', 'maximize', 'nt', 'yaz', 'polls', 'revolved', 'cries', 'riders', 'upped', 'belittling', 'ensuing', 'relevant', 'littles', 'acs', 'performer', 'keemstar', 'snarkiness', 'conclusive', 'tourettes', 'meats', 'eta', 'integration', 'teacher', 'timing', 'design', '3x', 'notions', 'foreplay', '308', 'propagandists', 'whooshed', 'wedding', 'limb', 'verge', 'unfathomable', 'account', 'uninvite', 'themsleves', 'acid', 'meals', 'ratio', 'nd', 'ummmm', 'intimidate', 'highland', 'toto', 'canyons', 'bringing', 'flying', 'paying', 'allot', 'hahaha', 'circumcized', 'listed', 'edging', 'mixing', 'object', 'let', 'knocks', 'shivers', 'drying', 'technology', 'renters', 'tomorrow', 'quarantine', 'showcase', 'wearing', 'vehicle', 'exchanges', 'corporations', 'intensely', 'skynet', 'mfer', 'complain', 'fo', 'yes', 'cabaret', 'bbc', 'hereticals', 'frapps', 'erm', 'bam', 'disputes', 'mouth', 'meeting', 'arouse', 'hutty', 'ambulance', 'groceries', 'dids', 'cuteness', '1015', 'mindset', 'eigher', 'replicate', 'lover', 'attitude', 'find', 'hangul', 'critique', 'cracked', 'retire', 'gambling', 'infections', 'guideline', 'secretly', 'excerpt', 'undercrackers', 'leaked', 'twelve', 'albies', 'deteriorate', 'frequency', 'frustrating', 'survived', 'blueberry', 'admitting', 'alone', 'english', 'setup', 'focussing', 'pac', 'plan', 'engine', 'older', 'ooooh', 'matters', 'respects', 'cancel', 'vanished', 'ripping', 'flags', '37', 'burr', 'catered', 'sting', 'scores', 'bittering', 'faq', 'scape', 'hortons', 'obey', 'athleticism', '19191921', 'wanna', 'employees', 'mlk', 'owner', 'goose', 'slim', 'streak', 'unaffordable', 'kayaking', 'perverted', 'registered', 'electricity', 'toptiers', 'tomboy', 'purgatory', 'astrology', 'nod', 'ruckus', 'childrens', 'west', 'instinctive', 'aquaria', 'riot', 'ser', 'nationally', '60day', 'wine', 'frauded', 'forbids', 'putting', 'chrome', 'pimples', 'espresso', 'movies', 'doggos', 'submissive', 'tip', 'schemes', 'cakewalk', 'pta', 'riveting', 'chances', 'technique', 'blondes', 'ny', '3pt', 'psn', 'unrelated', 'rages', 'crackers', 'blonde', 'installed', 'immediately', 'scarecrow', 'tithings', 'lately', 'hacked', 'properties', 'goddamnit', 'tastier', 'fridays', 'ap', 'dour', 'honies', 'adamsmith', 'summers', 'rivalry', 'minded', 'asian', 'kotaku', 'pulled', 'wellresearched', 'closer', 'parlor', 'centralized', 'mj', 'believewoman', 'firing', 'ovulation', 'deregulating', 'dachshund', 'merely', 'custom', 'fuckthealtright', 'tenn', 'sunfan', 'gifs', 'sticking', 'randoms', 'particularly', 'locals', 'uranium', 'enlargement', 'amputee', 'colony', 'axe', 'cinematographer', 'billboard', 'multikill', 'application', 'limpdicked', '66', 'warden', 'chipper', 'susceptibility', 'berners', 'ropes', 'exercises', 'graffiti', 'reliable', 'eh', 'unreasonable', 'rather', 'owners', 'union', 'newsletter', 'cdjr', 'rudi', 'anf', 'plate', 'lockup', 'ex', '205', 'effortless', 'admittedly', 'plat', 'game', 'laurels', 'astounding', 'thump', 'ccp', 'zullily', 'fiction', 'cant', 'welltimed', 'privacy', 'earhole', 'popper', 'outslayed', 'televised', 'honor', 'gothenburgkasbo', 'boiled', 'arena', 'inequality', 'demagoguery', 'robots', 'brazen', 'scale', 'adhered', 'switch', 'shotting', 'safer', 'tool', 'faults', 'lightwaves', 'shudders', 'concern', 'wednesdays', '27th', 'leaf', 'bargain', 'ayyy', 'lynching', 'gardener', 'snorting', 'sore', 'aerosvision', 'apologist', 'hydraulic', 'doin', 'suspicion', 'everloving', 'irreparably', 'disingenuousness', 'messaging', 'madhouse', 'shaolin', 'cube', 'rewards', 'difficulties', 'priced', 'ramadan', 'focus', 'blockade', 'suddenly', 'wednesday', 'desk', 'collude', 'palette', 'cake', 'ingame', 'size', 'joking', 'heritage', 'baddabang', 'kombucha', 'rejects', '개인면허', 'shooked', 'nursing', 'gauntlet', 'functions', 'rides', 'insight', 'sail', 'brohugging', 'contract', 'importance', 'woooooooahahhohohohohho', 'valuable', 'clipped', 'feed', 'wouldve', 'asperger', 'slogans', '13k', 'films', 'doubting', 'bike', 'fax', 'ephemeral', 'growth', 'bops', 'moon', 'forwards', 'bowler', 'kindness', 'symptom', 'smurt', 'par', 'banh', 'ridiculing', 'mortals', 'environmentalists', 'fundamentally', 'ni', 'member', 'dunno', 'toothless', 'untouchable', 'torch', 'dangerous', 'shortly', 'kingdom', 'frequent', 'spain', 'pole', 'sellable', 'hmu', 'technicality', 'nalgene', 'laws', 'stronger', 'grindy', 'wonky', 'tearful', 'crashes', 'epsom', '72', 'circuits', 'ideologically', 'leprechaun', 'goodbye', 'fpta', 'soft', 'r1', 'crusted', 'sentient', 'couldnt', 'fathom', 'dont', 'gtao', 'producers', 'nhl19', 'pranks', 'breadtube', 'vagina', 'hip', 'habitat', 'rain', 'confidence', 'projecting', 'subreddit', 'debatably', 'spammable', 'pms', 'clarifications', 'mugging', 'immobile', 'robot', 'historical', 'subtitles', 'limbretrievalbot', 'busy', 'heels', 'ancap', 'saint', 'profits', 'superior', 'police', 'conductors', 'tender', 'autistics', 'rejoining', 'owe', 'appeal', 'moderator', 'relieving', 'followers', '2000s', 'r2', 'guaranteed', 'pts', 'danganronpa', 'rejected', 'inshot', 'civil', 'ensues', 'enemies', '30k', 'nodoby', 'positioning', 'ufc', 'barbeque', 'retrieve', 'bf', '0', 'socialism', 'could', 'council', 'lump', 'sector', 'avatars', 'highest', 'sugars', '4k', 'notebooks', 'tops', 'asylum', 'saddos', 'pizza', 'hellmans', '69', 'crashing', 'hospice', 'leg', 'impersonating', 'newlands', 'press', 'fantasies', 'queensland', 'forgettable', 'hoax', 'cornered', 'voting', 'course', 'poke', 'survey', 'presuming', 'freeloader', 'mini', 'angryyyyy', 'praising', 's', 'korean', 'woken', 'drow', 'ovation', 'plsss', 'eyesocket', 'congressional', 'tryed', 'unorginal', 'tariff', 'accomplishment', 'fantastic', 'xclamp', 'sent', 'x2', 'professor', 'pickeks', 'trolls', 's4', 'remasters', 'feedback', 'showcasing', 'varied', 'azusa', '90sset', 'compliment', 'civilized', 'terraces', 'cheating', 'demo', 'journaling', 'geezus', '98', 'smartly', 'want', '25000', 'kissing', 'sfgate', 'cespedes', 'herpes', 'cadillac', 'chariot', 'yardstick', 'ottawa', 'ctrl', 'parties', 'shirtless', 'verdad', 'transported', 'mace', 'coparent', 'hair', '0mg', 'tics', 'pothole', 'eyebrow', 'responsible', 'aesthetically', 'identities', 'convulsions', 'steroids', 'splyce', 'snaked', 'bfv', 'ter', 'niagara', 'tap', 'nfc', 'slam', 'retcon', 'beauty', 'shitty', 'zippers', 'cheeeifffff', 'collect', 'postmodern', 'novels', 'thrill', 'inflation', 'websites', 'bgs', 'humane', 'purporting', 'jurisprudence', 'tfws', 'oldstyle', 'programer', 'listing', 'rolled', 'assumptions', 'doggy', 'conduct', 'dig', 'toy', 'abraham', 'sooooo', 'creates', 'disneyland', 'finals', 'visit', 'sauce', 'apostate', 'batch', 'palmer', 'zerocarbers', 'feint', 'boise', 'autumn', 'asking', 'determined', 'mentions', 'campaign', 'transmission', 'involves', 'blinders', '40k', 'nonprofit', 'sewing', 'customization', 'fluky', 'stops', 'thos', 'bulgaria', 'omniscum', 'democrat', 'bf5', 'jackasses', 'bacon', 'cubbies', 'dodgy', 'manxplain', 'small', 'fresh', 'babe', 'brainless', 'server', 'voila', 'subconsciously', 'fetus', 'col', 'mnf', 'splitting', 'crab', 'hs', 'kinds', 'constantinople', 'additionally', 'pointed', 'married', 'greedy', 'asmr', 'handing', 'dietician', 'preposition', 'serious', 'owl', 'buildings', 'popularity', 'aspiration', 'psychic', 'snorted', 'nipple', 'description', 'deflects', 'boatcar', 'belt', '69turds', 'context', 'disposed', 'roster', 'nor', 'implementation', 'hitler', 'impersonations', 'foot', 'omnibus', 'serum', 'curated', 'pornography', 'accusations', 'whips', 'innately', 'bloke', 'contradiction', 'armor', 'bjj', 'bots', 'endorse', 'reclines', 'solids', 'greatest', 'recreate', 'rpg', 'psst', 'closeteverything69', 'gedmatch', 'your', 'perfection', 'diffuser', 'launch', 'common', 'swollen', 'opposition', 'bribes', 'thunderlord', 'mog', 'fam', 'flush', 'scammed', 'hardo', 'distract', 'fsct', 'offend', 'woof', 'costume', 'ops', 'laundered', 'odd', 'battlestar', 'psychiatrist', 'picky', 'gentle', 'podcasts', 'juuls', 'rental', 'veganism', 'bunch', 'sequitur', 'dodgers', 'puddle', 'incredibilis', 'possession', 'flirts', 'cargo', 'fiver', 'surrounded', 'whip', 'feminization', 'distribution', 'brogress', 'batman', 'tulsi', 'transvestite', 'zion', 'circumcision', '100s', '120k', 'pedal', 'generalization', 'masculine', 'explanation', 'fungus', 'naturally', 'paints', 'dwight', 'tied', 'bankrupt', 'youareapooptard', 'london', 'benched', 'mood', 'actuslly', 'uj', 'hi', 'volcano', 'russia', 'luckily', 'change', 'vuc', 'gloat', 'nonwhites', 'costco', 'snort', 'coke', 'cuties', 'hvac', 'pain', 'posting', 'blocked', 'tower', 'dumbest', 'advertises', 'oblivious', 'okc', 'liberating', 'btw', 'nonreligious', 'granddaddy', 'soldiers', 'disagreement', 'constituencies', 'suggesting', 'fillings', 'bank', 'archive', 'nyc', 'budge', 'torque', 'choco', 'near', 'heard', 'banquet', 'overshadowed', 'photo', 'faceee', 'sseason', 'aladdin', 'concerning', 'diamond', 'absent', 'plank', 'loss', 'legalized', 'commission', 'orgasms', 'sanctimony', 'dynamite', 'hahahahahahahaha', 'janitor', 'bat', 'sycamore', 'assigned', 'wimp', 'aalll', 'bartending', 'concussions', 'pickle', 'chillingly', 'headkick', 'vein', 'grossm', 'sway', 'terror', 'fir', 'uncut', 'blackweb', 'starbucks', 'overarching', 'weird', 'cars', '31977192', 'furries', 'whitehouse', 'almost', 'socialized', 'phallic', 'beef', 'choa', 'delivers', 'talks', 'vaginal', 'sheer', 'soundtracks', 'starter', 'proof', 'ward', 'speculated', 'interrupted', 'millennial', 'value', 'veterinary', 'guam', 'palpable', 'distressed', 'represent', 'bbut', 'excellently', 'charm', 'correction', 'conq', 'disaster', 'crescent', 'prisons', 'apps', 'ttgl', 'goalie', 'brandnewsentence', 'burger', '3rd', 'um', '4x4', 'fave', 'stressors', 'spectator', 'pinkerton', 'pwbpd', 'advocating', 'shouldve', 'gutted', 'bandana', 'ruins', 'peripheral', 'am', 'shuuuuut', 'dota', 'sjws', 'doordash', 'shew', 'southern', 'displacing', 'obtain', 'stigma', 'dart', 'offsides', 'unconscious', 'bros', 'solving', 'enthused', 'gase', 'discover', 'relapse', 'journalism', 'bdo', 'prices', '20082010', 'ambient', 'sink', 'purpose', 'screen', 'smashing', 'trampled', 'neckbeard', 'tumaah', 'joins', 'specter', 'vibrating', 'as', 'imdb', 'fakecels', 'whomever', 'charitable', 'neurotransmitters', 'sickest', '720', 'bustling', 'arrowverse', 'hagar', 'doorway', 'tekken', 'activision', 'consistency', 'honorable', 'watn', 'pervert', 'shoook', 'worried', 'etl', 'outlast', 'dubbed', 'somenbjorn', 'frothing', 'these', 'splashback', 'malware', 'disobeyed', 'permitted', 'agnosticism', 'gameplay', 'wife', 'demoted', '2lbs', 'spouted', 'repackage', 'comrade', 'pokemon', 'gorilla', 'companies', 'meme', 'arguer', 'delude', 'moneys', 'blockchain', 'bit', 'detail', 'portions', 'caesar', 'offseason', 'aaaand', 'quoting', 'imma', 'museum', 'lp', 'nowmetric', 'commands', 'macos', 'ego', 'fe', '270', 'aggression', 'pet', 'superficially', '1617', 'somethinged', 'oversell', 'trumpkin', 'percent', 'cartoon', 'nono', 'hippies', 'garbage', 'associated', 'extinction', 'faces', 'recognize', 'close', 'qualify', 'babbling', 'crazyideas', 'unlawful', 'fished', 'shave', 'thailand', 'junko', 'aggressive', 'except', 'elect', 'fauna', 'nogo', 'somethin', 'realize', 'scotch', 'glory', 'arsehole', 'tweet', 'tries', 'blasted', 'dx', 'generic', 'undo', 'developer', 'add', 'midsentence', 'watermark', 'defence', 'primer', 'phase', 'fetches', 'redeemed', 'radar', 'sneaky', 'barriers', 'blacklock', 'refrigerator', 'practical', 'wetland', '10k', 'celestial', 'incidents', 'barely', 'rank', 'grunt', 'removes', 'bends', 'jab', '2dmeets3d', 'juvenile', 'lamzy', 'outfit', 'rl', 'essentially', 'zone', 'runescape', 'cuuuute', 'coal', 'ideologies', 'decorate', 'fortnite', 'getting', 'prescription', 'beating', 'hope', 'utah', 'coaching', 'indulged', 'dazn', 'antigun', 'hands', 'purchasing', 'baghdad', 'swallow', 'massachusetts', 'appropriate', '711', 'elyria', 'czech', 'nuance', 'expired', 'poet', 'gad', 'globetrotter', 'stacey', 'degraded', 'slacking', 'against', 'focusing', 'chats', 'manage', 'cunts', 'extensively', 'ryoma', 'davis', 'uncontrollably', 'tyvm', 'lul', 'de', 'blowed', 'milked', 'reddits', 'dep', 'radiation', 'immersive', 'reys', 'otherwise', 'wind', 'franchise', 'ms3', 'afghan', 'differential', 'pardon', 'qwertyuiop', 'celebrities', 'taking', 'bestof', 'unfortunate', 'pg', 'jdk', 'yaaaaaaas', 'bodysuit', 'ulta', 'secondly', 'gs', 'regulated', 'selfishness', 'communication', 'whove', 'suited', 'shitbag', 'hypothetical', 'koolaid', 'explictly', 'ordering', 'turnip', 'phrenology', 'unashamed', 'wished', 'teamlemoncreams', 'dance', 'mocked', 'disease', 'fertile', 'lawbreakers', 'mudcrabs', 'blindfolded', 'automated', 'dunked', 'quadfather', 'physiotherapy', 'x', 'outlaws', 'tims', 'asthma', 'puppets', 'ifunny', 'rangers', 'leans', 'delve', 'embrace', 'unlocked', 'beal', 'selections', 'concert', 'ima', 'migraine', 'braincels', 'conform', 'taiwan', 'duper', 'pyramid', 'presentation', 'loading', 'the', 'session', 'dramatic', 'lets', 'rebalancing', 'renewing', 'sexy', 'scoring', 'zoetrope', 'corporate', 'cupcakes', 'distraction', 'ohio', 'upgraded', 'irbe', 'gangrenous', 'woooshed', 'shh', 'heathens', 'lies', 'ascended', 'me', 'sams', 'autotrader', 'ripped', 'possitive', 'coffee', 'abandoned', 'ww1', 'protected', 'dribbles', 'sterilized', 'down', 'occurrence', 'brainlet', 'affairs', 'cattle', 'congenital', 'enzyme', 'snd', 'fraud', 'aaa', 'teleported', 'mast', 'subtle', 'innovative', 'danm', 'throat', 'vagene', 'author', 'viable', 'metabolisms', 'cell', 'byte', 'sm4', 'glassdoor', 'gain', 'cream', 'fptp', 'haes', 'bypassing', 'seems', 'proverbial', 'despises', 'baconator', 'dodged', 'lebanon', 'helping', 'braces', 'audio', 'debating', 'newcomer', 'tarot', 'breasts', 'ls', 'freddys', '737s', 'dinosaur', 'antivaxxers', 'googles', 'cle', 'loklelad', 'rewording', 'controlled', 'totally', 'reciprocate', 'hugely', 'pronounce', 'dms', 'skit', 'sandals', 'definetly', 'workout', 'forgiveness', 'disbanded', 'inexcusable', 'run', 'mmmmm', 'moderating', 'abults', 'inflicted', 'diapers', 'duties', 'alongside', 'ocsc', 'amigo', 'roleplay', 'unpopular', 'playground', 'impact', 'checking', 'hardly', 'facecamped', 'peoples', 'deserve', 'insensitive', 'shout', 'russias', 'describing', 'r', 'woodsticks', 'seiko', 'cheats', 'starch', 'nvidia', 'bloopers', 'move', 'nosleep', 'bs', 'feminazis', 'fallacy', 'meter', 'bikes', 'holdem', 'fasting', 'ultimately', 'katyushua', 'cheered', 'boness', 'spacing', 'hopping', 'unload', 'mouthbreathers', 'wonderfully', 'sbarros', 'lacked', 'psychopaths', 'advocates', 'survivor', 'shattered', 'quality', 'logical', 'trustworthy', 'similarly', 'butch', 'smiles', 'lasagna', 'logo', 'history', 'rebuttals', 'one', 'effortlessly', 'presses', 'murderers', '999999999999999999999999999999999999999999999999999999999999999999999999999999999999999991000000000000000000000000000000000000000000000000000000000000000000000000000000000000000000000000000000000000000000000000000000000000000000000000000000000000000000000000000000000000000000000000000000000000000000000000000000000000000000000000000000000000000000000000001234567898765432345676543345678987654345678909876543234567898765432345678909876543234567898765432345678987654323456787654345676543456543456434543434343434323456765434567654323454323456543345678987654323456789876565656565656565656565656565454545654565454323456765432345678765456', 'rlly', 'revlon', 'delta', 'owned', 'dummy', 'casey', 'financed', 'godtier', 'demands', 'browser', 'turd', 'electrical', 'peruse', 'perk', 'captivated', 'traveler', 'packing', 'urgh', 'pray', 'blazers', 'fracks', 'torso', 'racial', 'biased', 'bogstandard', 'rambling', 'bayless', 'ideological', '178', 'molewife', 'salarys', 'slag', 'determining', 'waaaaay', 'victorias', 'although', 'adipose', '187', 'physique', 'fondue', 'memer', 'didnt', 'equity', 'loooooool', 'department', 'plq', 'kneecap', 'marched', 'catfood', 'officially', 'across', 'ira', 'eliminated', 'budget', 'unfulfilled', 'glowing', 'clem', 'shirt', 'exspouses', 'finds', 'ingredients', 'steaming', 'meatcycling', 'middecember', 'muscle', 'comeuppance', 'charas', 'providing', 'watson', 'alternating', 'vj', 'reigns', 'shouldnt', 'tranna', 'prequels', 'stranded', 'every', 'impeachments', 'criticism', 'bandaid', 'nicely', 'abcs', 'geez', 'kidding', 'windshield', 'article', 'sup', 'firstborn', 'nicknames', 'attach', 'hiv', 'ruletakers', 'tutorial', 'chemtrails', 'controlling', 'turning', 'punish', 'eye', 'habits', 'injected', 'drew', 'pointers', 'scumbags', 'edinburgh', 'njo', 'indication', 'avoid', 'defeat', 'sins', 'finite', 'conclusions', 'anytime', 'poll', 'selfesteem', 'blistering', 'burns', 'desires', 'cornerstone', 'misogynist', 'intresting', 'gras', 'pessimist', 'continously', 'suspect', 'license', 'welcome', 'misogyny', 'assignments', 'miles', 'crusty', 'breather', 'dc', 'midichlorian', 'obscurity', 'defeats', 'wb', 'washington', '200', 'remote', 'groening', 'right', 'crybabies', 'leeches', 'awesome', 'swing', 'hearing', 'smoothe', 'temporary', 'mawma', 'playboy', 'meeeeee', 'sotu', 'gx', 'trace', 'platforms', 'deagle', 'administration', 'olds', 'announces', 'sfw', 'brave', 'offenders', 'gunslinging', 'handfuls', 'waxed', 'anymore', 'gloss', 'appalled', 'throwback', 'chelsea', 'shity', 'suspicious', 'hoping', 'franklin', 'works', 'location', 'detrimental', 'stabby', '11pm', 'yawn', 'rare', 'fags', 'exclusive', 'acronym', 'walls', 'defending', 'last', 'help', 'mobs', 'pumps', 'cruise', 'pleaded', 'monetary', 'buenos', 'cloudy', 'fairly', 'sanctions', 'emergency', 'laaaaaand', 'vegas', 'timeframe', 'bb20', 'marth', 'tube', 'lemme', 'regretted', 'innocent', 'monte', 'presidents', 'freaks', 'congestion', 'courageous', 'deduction', 'bungle', 'battered', 'cowpoke', 'fortune', 'factors', 'sars', 'concentrate', 'flamewar', 'starts', 'thunderstruck', 'repeating', 'abruptly', 'based', 'franxx', 'dint', 'wrestling', 'buffets', 'tobin', 'ridiculously', 'envision', 'app', 'pinched', 'plans', '9', 'lease', 'hungry', 'spinoff', 'wondering', 'focused', 'encourave', 'prove', 'closedminded', 'cockatoos', 'dorado', 'spend', 'earliest', 'lgtv', 'december', 'characteristic', 'filters', 'ensure', 'evaporate', 'participate', 'everyones', 'vacation', 'cases', 'leash', 'campaigning', 'corps', 'washing', 'delivery', 'pedaling', 'group', 'worshipping', 'polyam', 'kerbal', 'alanon', 'bhahahahahahahahah', 'anarchocapitalist', '52', 'valyrian', 'denial', 'communicator', 'hat', 'slants', 'grease', 'reputation', '260263', 'geocentric', 'druer', 'scored', 'tidbit', 'snagglepuss', 'bible', 'jockey', 'trillion', 'portrayal', 'shiny', 'grief', 'rocketpropelled', 'metrowide', 'such', 'knows', 'kodos', 'contention', 'weather', 'bitchhhhh', 'ching', 'arguments', 'streamlight', 'flies', 'thickness', 'bearing', 'louis', 'enormous', 'xi', 'thot', 'shove', 'bo', 'bastion', 'elevated', 'black', 'inmediately', 'hype', 'bj', 'lots', 'downtown', 'rents', 'choir', 'burn', 'alchoholic', 'recommendations', 'weeb', 'negligible', 'burnout', 'stress', 'antivaxer', 'commit', 'walmart', 'matches', 'momentarily', 'clamshell', 'notleynomics', 'notification', 'rebranded', 'dicked', 'vested', 'bec', 'lemon', 'empirical', 'autism', 'compliant', 'awkwardly', 'veterans', 'trams', '74', 'edition', 'proposal', '25min', 'attacks', 'sendddinggg', 'fired', 'stuck', 'populist', 'steals', 'vows', 'resumé', 'cannonballs', 'uncool', 'joystick', 'yard', 'cooper', 'papi', 'vague', 'halfway', 'respectful', 'punking', 'him', 'bucko', 'canada', 'secured', 'daoc', 'tsn', 'otherrrr', 'cynical', 'incentive', 'maintaining', 'fate', 'linux', 'brew', 'wrongful', 'brewery', 'consenting', 'aub', 'peeled', 'breed', 'outplaying', 'eardrums', 'woman', 'helps', 'mines', 'vegans', 'nerf', 'prepositions', 'irl', 'titles', 'ahole', '31', 'situation', 'gatekeeper', 'wowwww', 'vocabulary', 'mistype', 'enjoyable', 'creatures', 'vertical', 'swatting', 'polar', 'basically', 'animal', 'whys', 'uc', 'henny', 'comprehend', 'dragon', 'grind', 'unnattached', 'insistent', 'insulate', 'nickname', 'celebrity', 'reaction', 'nutshell', 'cal', 'expanding', 'bench', 'spiral', 'underaged', 'youuuuuuu', 'simpler', 'sustenance', 'sympathetic', 'luggage', 'boston', 'settling', 'designer', 'blowout', 'sacks', 'oregon', 'neglects', 'ubis', 'updated', 'japandroids', 'bellybutton', 'anzac', 'clu', 'our', 'apologizes', 'timeless', 'druggies', '情', 'presser', 'resignation', 'inspection', 'mk9', 'dwellers', 'clamato', 'follow', '1400', 'unfinished', 'overrate', 'millinery', 'cheaters', 'activists', 'weekend', 'baked', 'obtuse', 'receive', 'greet', 'whereas', 'newly', 'jitter', 'progressives', 'federally', 'crerpypasta', 'chucklefuck', 'oppressed', 'style', 'merit', 'loooong', 'brokenmachine', 'ukpolitics', 'courts', 'under', 'frankness', 'succeeded', 'economics', 'generation', 'citizens', 'emollient', 'exploited', 'backtoback', 'boil', 'wont', 'baby', '3a', 'virgins', 'ey', 'uninspiring', 'strikeouts', 'categories', 'fml', 'montreal', 'hostile', 'sack', 'mans', 'beaverton', 'laziness', 'copy', 'skytrain', 'acres', 'wiener', 'orlando', '26', 'tebow', 'continually', 'merchandise', 'condoms', 'ethnicity', 'someday', 'murderer', 'scans', 'protection', 'abby', 'juice', '4ishh', 'psychos', 'structure', 'gatekepping', 'selfrenewing', 'piercer', 'partys', 'institution', 'put', 'historically', 'deadpan', 'srsly', 'bounds', 'goldmines', 'prettiest', 'adverts', 'occasionally', 'colluded', 'unpaid', 'barcode', 'somebody', 'memories', 'tactical', 'unsee', 'stomping', 'majors', 'catman', 'weddings', 'understood', 'tolerances', 'nauseous', 'disarmament', 'azwel', 'backtrack', 'dealth', 'portaboobies', 'locks', 'suppliers', 'sparked', 'libertyx', 'worship', '38', 'comms', 'advertiser', 'hunts', 'vowelled', 'craic', 'furiously', 'keeping', 'stuffs', 'validation', 'shanghai', 'mmh', 'empathetic', 'fried', 'bountygate', 'aptly', 'acknowledging', '2030', 'teabags', 'dashers', 'geriatric', 'sunglasses', 'behold', 'authoritarians', 'hiding', 'expected', 'fren', 'happend', 'pathetic', 'singling', 'forks', 'goober', 'telus', 'drowsy', 'tantrum', 'gc', 'breakdown', 'lifetime', 'commentator', 'wilson', 'vinyl', 'retro', 'opera', '240', 'ribs', 'reflective', 'cruel', 'erased', 'hoped', 'felonious', 'gear', 'amazon', 'inaccurate', 'transient', 'crowder', 'pasting', 'monkey', 'outsourced', 'now', 'doctors', 'hive', 'dw', 'dukes', 'michelin', 'images', 'shameless', 'reunites', 'cinema', 'lucidity', 'jimmies', 'eus', 'proud', 'cruelty', 'unscathed', 'wigs', 'inshallah', 'dipshit', 'observation', 'peep', 'you', 'cursed', 'grosses', 'playful', 'moustache', 'pups', 'appearing', 'giddy', 'slid', 'beds', 'episodes', 'battle', 'ponder', 'cicada', 'picard', 'thigh', 'awarded', 'kfc', 'bland', 'capitalize', 'pores', 'transgression', 'error', 'optimist', '2b', 'sasuke', 'hong', 'yunnan', 'asked', 'inmates', 'hugger', 'nokia', 'oligarchs', 'firm', 'psp', 'bag', 'poker', 'sacramento', 'trenton', 'lgbts', 'aggieopoly', 'meaningless', 'x4', 'willing', 'lie', 'butts', 'couple', 'urine', 'salute', 'zealand', 'icon', 'exceed', 'extraordinary', 'creeped', 'vpn', 'vite', 'reupload', 'restrictions', 'frightened', 'bass', 'denali', '2009', 'theater', 'trench', 'ship', 'rfm', 'as4', 'kalmas', 'sessions', 'hoss', 'damage', 'nights', 'hero', 'diversion', 'dildo', 'oddly', 'humanize', 'mixtures', 'incessantly', 'bent', 'pouring', 'longer', 'yupp', 'pkayers', 'bathroom', 'acted', 'churchs', 'leafs', 'royal', 'awed', 'pedos', 'ultraconservatives', 'congress', 'master', 'wallingford', 'supposes', 'gasguzzling', 'various', 'postups', 'pipe', 'masturbate', 'fibre', 'grads', 'snitches', 'cussing', 'forgiven', 'stinks', 'clause', 'sympathize', 'calligraphy', 'aig', 'predominantly', 'brandon', 'adultery', 'target', 'freer', 'b2', 'langage', 'attract', 'frinkiac', 'blob', 'wha', 'sipping', 'looked', 'organize', 'recommend', 'thier', 'mature', 'partly', 'exclusively', 'rofl', 'passports', 'binary', 'yous', 'vikings', 'ya', 'fk', 'drugged', 'hell', 'happening', 'tests', 'without', 'suhlad', 'mediocre', 'burning', 'inertial', 'regretting', 'exceptional', 'wanted', 'nuxia', 'unsuccessful', 'loco', 'inside', 'tv', 'anus', 'cactus', 'empowered', 'worst', 'anti', 'scrutinize', 'falsify', 'charedim', 'potato', 'systematic', 'trailers', 'from', 'shallow', 'revolves', 'raise', 'increased', 'dissociation', 'pacers', 'constant', 'sh', 'letters', 'dissonance', 'truck', 'godddddddddddddd', 'wankfest', 'spraypainted', 'simulate', 'mango', 'stage', 'loins', 'detentions', 'waze', 'gents', 'shitpile', 'sexuality', 'boogyman', 'transgender', 'smack', 'ecosexuals', 'excusing', 'arriving', 'warnings', 'porsche', 'videogame', 'fund', 'yiu', 'overflowed', '45th', 'chocolate', 'hung', '2013', 'richtofen', 'unattended', '83', 'pistol', 'wta', 'bluray', 'gummy', 'endearment', 'sacrilegious', 'extension', 'duff', 'stated', 'speculation', 'majorly', 'grandmother', 'oracle', 'boro', 'hahaan00b', 'finicky', 'massively', 'blocker', 'drift', 'psychologists', 'bid', 'woeful', 'craves', 'unsheathes', '2003', 'antinatalist', 'pick6', '3v3', 'sats', 'usl', 'pinned', 'diagonal', 'inbox', 'risking', 'happyfriendlybot', 'dell', 'vaccine', 'infuriating', 'superbike', 'upheld', 'a', 'moved', 'deus', 'penfed', 'spite', 'upside', 'maxed', 'router', 'td', '2008', 'literal', 'karls', 'delighted', 'backstop', 'pros', 'tradable', 'informed', 'overcome', 'brutal', 'lavender', 'progress', 'signing', '22yearold', 'ahhhhhhh', 'disobey', 'manipulative', 'armpit', 'noise', 'ignorance', 'arrogance', 'enemys', 'crockpot', 'lhw', 'scarce', 'pearling', 'auschwitz', 'sounds', 'teachers', 'morning', 'wait', 'wth', 'crows', 'exterminated', 'cadbury', 'siblings', 'resort', 'taunting', 'gming', 'softreboot', 'relived', 'zookeeper', 'int', 'advertising', 'pedophiles', 'sentiments', 'stbxh', '10', 'decently', 'keep', 'youd', 'joked', 'sports', 'valhalla', 'counselling', 'anthem', 'tricking', 'duis', 'lap', 'wulp', 'ground', 'absence', 'preorder', 'cambodian', 'broth', 'rope', 'classless', 'responded', 'tropical', 'theyre', 'left', 'healthier', 'bandwagon', 'apologizing', 'dissapointed', 'nineteen', 'drained', 'heretic', 'poof', 'procreate', 'exmarines', '9pm', 'saug', 'maximum', 'lefties', 'labours', 'eatin', 'afrin', 'version', 'protested', 'altercation', 'dances', 'bakayoko', 'potentialy', 'burnt', 'platinum', 'fitting', 'troom', 'dining', 'capitalized', 'notices', 'impress', 'sould', 'seizure', 'mess', 'expansion', 'wondered', 'joints', 'bristles', 'unfortnatwly', 'ambassador', 'munchak', 'capable', 'fanclub', 'hedgehog', 'spirituality', 'saber', 'bango', 'suing', 'five', 'fanfavorites', 'spoiled', 'canonization', 'mentally', 'confirming', 'nuffin', 'nutrient', 'girlscout', 'gweat', 'initials', 'vic', 'gatherers', 'either', 'pakistan', 'fusion', 'presumption', 'immigrant', 'redditors', 'thrift', 'simoniz', 'consideration', 'electric', 'dyel', 'ross', 'sdlp', 'pecks', 'fists', 'goddddd', 'noticable', 'mail', 'morality', 'cakeday', 'ga', 'tr', 'draw', 'stroke', 'anourism', 'bad', 'ideology', 'predator', 'viagra', 'misrepresenting', 'liscence', 'august', 'exploitative', 'tpss', 'livestreaming', 'unwell', 'approach', 'unchangeable', 'restraining', 'bojangles', 'confessing', 'silence', 'operate', 'midnights', 'expression', 'sponsorships', 'stocked', 'disbelief', 'resent', 'thumping', 'free', 'featured', 'stopped', 'trainer', 'dislocates', 'nah', 'disgusting', 'exotics', 'arguing', 'payg', 'limitations', 'aimless', 'harass', 'whistle', 'thered', 'pits', 'pumpkins', 'revere', 'sided', '000', 'misremembering', 'obesity', 'fluctuations', 'rhubarb', 'reconnected', 'sex', 'stud', 'thru', 'enraging', 'eyeroll', 'entertaining', 'extra', 'lookkit', 'distinct', 'heated', 'looooooves', 'swiped', 'ethically', 'feign', 'dougs', 'sneaking', 'thumbnail', '175', 'wtaf', 'nasal', 'overpaid', 'danceswithcorgis', 'indecent', 'mercedes', 'extracts', 'wisdom', 'blunts', 'disappointed', 'magnetize', 'gping', 'thathappened', 'campo', 'realised', 'iud', 'botched', 'pit', 'habayis', 'considers', 'shrill', 'sry', 'crawfish', 'theological', 'deathbed', 'kayfabe', 'woo', 'kemba', 'gateway', 'swallowed', 'gov', 'insertion', 'lives', 'femenists', 'pff', 'certinetly', 'listen', 'racialblind', 'calms', 'misandrist', 'starting', 'ear', 'sloths', 'get', 'bullies', 'essay', 'reunification', 'bowling', 'slovenian', 'regional', 'flop', 'livable', 'columbus', 'sensing', 'ratfucked', 'demeaning', 'adhere', 'marquis', 'contain', 'troubleshooting', 'congratulate', 'appropriation', 'kitchen', 'candies', 'keto', 'heifers', 'ensures', 'endorses', 'libido', 'gemologist', 'refers', 'despicable', 'students', 'ride', 'cbg', 'exacerbated', 'surrogate', 'sorry', 'verify', 'acceptable', 'army', 'forced', 'huge', 'give', 'precaution', 'coffe', 'shore', 'zoey', 'cloud', 'mouthy', 'goals', 'centuries', 'nades', 'quran', 'reallly', 'scratches', 'april', 'noticeable', 'pieces', 'contents', 'handle', 'ultrasound', 'assassinus', 'upcoming', 'defaulted', 'french', 'kekeing', 'java', 'nationwide', 'nickelback', 'kuwtk', 'lobs', 'prego', 'bombay', 'emptiness', 'provide', 'undertones', 'george', 'troo', 'dorm', 'unsolicited', 'unopened', 'behalf', 'attracted', 'harris', 'redpiller', 'prius', 'vulnerability', 'export', 'baking', 'do', 'buckingham', 'cyclist', 'tarantula', 'spastic', 'cannibalised', 'photoshopped', 'moids', 'sponsored', 'hood', 'impressive', 'pwned', 'giveaway', 'carti', 'leftism', 'judged', '50s', 'kisses', 'jelly', 'cutoff', 'mt', 'inta', 'asinine', 'explicitly', 'candy', 'duuur', 'neh', 'wicked', 'shortens', 'bandwagoner', 'sayin', 'rescuing', 'yoga', 'hereditary', 'sucked', 'impulsive', 'taipan', 'mods', 'subzero', 'flung', 'browsed', 'restaurant', 'ditto', 'procedures', 'splashes', 'embarrass', 'creepiest', 'sidebyside', 'jericho', 'marriage', 'virginity', 'vanguardism', 'destroys', 'genocidal', 'stubby', 'atlanta', 'chillicothe', 'smile', 'leichhardt', 'hammers', 'chicken', 'lodestone', 'regions', 'dislodged', 'affected', 'dutchy', 'trades', 'calorie', 'loophole', 'dodgerssupporting', 'print', 'defect', 'inferior', 'penguins', 'learnt', 'weep', 'spoken', 'vibes', 'mgtow', 'usurp', 'hush', 'granted', 'uplifted', 'k', 'albany', 'terrorists', 'perpetuated', 'racism', 'downvite', 'bum', 'spirits', 's3', 'insurances', 'pack', 'aspergers', 'hatet', 'occams', '29', 'tie', 'achieve', 'boundaries', 'adorable', 'antenna', 'bracelets', 'peninsulas', 'chirp', 'probabaly', 'yuppy', 'coincidentally', 'boi', 'helmet', 'tx', 'paddys', 'lg', 'thugpug', 'pi', 'banging', 'rams', 'governments', 'frisky', 'purported', 'volcanic', 'degrees', 'concorde', 'rags', 'lifestyles', 'gel', 'wank', 'planned', 'rubies', '6lb', 'excelerate', 'star', 'rutgers', 'unprofessional', 'oymyakon', 'myth', 'rise', 'sadness', 'that', 'herre', 'podcast', 'uhmm', 'sparingly', 'gooferton', 'alas', 'prominent', 'hopes', 'druggie', 'diazepam', 'foiled', 'taken', 'typing', 'wooosh', 'nominate', 'greener', 'intrinsic', '玛雅', 'psh', 'impossibly', 'transparency', 'horseshit', 'lsat', 'democracy', '84', 'prospects', 'fluent', 'prepares', 'disorder', 'suspension', 'speech', 'midlands', 'horde', 'flex', 'oped', 'conceived', 'towed', 'pope', 'schedule', 'plating', 'feet', 'toe', 'containment', 'cliché', 'fanatical', 'rushed', 'ignorable', 'recovers', 'pilots', 'followed', 'discords', 'paratrooper', 'hyuck', 'speeders', 'onto', 'folksy', 'rarity', 'gameoverse', 'teenage', 'softest', 'dissonant', 'middleman', 'blunt', 'recomended', 'ocd', 'staged', 'notch', 'librals', 'shhhh', 'reasonable', 'crowns', 'busdriver', 'homestar', 'diety', 'sections', 'endlines', 'darkfall', 'kiddos', 'accuses', 'priceless', 'secks', 'suggestions', 'incredulous', 'blizzard', 'reflection', 'oranges', 'yourselfpm', 'skirt', 'courted', 'capitulate', 'kd', 'urban', 'fickle', 'rights', 'kola', 'delightful', 'elf', 'existentialism', 'sv', 'horrendous', 'iraq', 'approaching', 'encampment', 'heir', 'dva', 'began', 'watermelon', 'vacuums', 'mmo', 'eternal', '360', 'succeed', 'organ', 'spitballing', 'bejeesus', 'genetics', 'sconsin', 'bars', 'minutes', 'onetimer', 'blackmailers', 'lowered', '2fury', 'espouse', 'addressing', 'oppress', 'tempo', 'digging', 'cemetery', 'cosplays', 'torb', 'consecutive', 'meepo', 'dishes', 'yamaoka', 'gestate', 'dating', 'rhymes', 'serous', 'el', 'marinate', 'sim', 'trussing', 'powerless', 'slashes', 'comatose', 'mythology', 'yanking', 'queue', 'aspect', 'content', 'confuse', 'il', 'well', 'alcohol', 'nineyearold', 'fairness', 'ritalin', 'smackdown', 'dependent', 'theaters', 'con', 'oop', 'visually', 'fully', 'stances', 'ceiling', 'alleviate', 'ourselves', 'jake', '54', 'incredibly', 'pervasive', 'tradition', 'tracer', '133', 'confrontation', 'gossip', 'it', 'ancient', 'delegates', 'selfish', 'bullock', 'couches', 'pushy', 'unconstitutional', 'flashback', 'proudly', 'repeat', 'rosy', 'ghostery', 'blind', '40man', 'reusing', 'debunked', 'lower', 'excludes', 'digital', 'swept', 'wylin', 'visibility', 'march', 'validity', 'bugger', 'handcry', 'moving', 'rehabilitated', 'glasgow', 'narrative', 'choice', 'taxed', 'chin', 'beverage', 'equivalent', 'mind', 'stepsister', 'multitasking', 'bo4', 'tobias', 'crave', '5blade', 'creek', 'fog', 'brolobo', 'hesitant', 'blended', 'violnt', 'vader', 'absolves', 'chess', 'rugged', 'apropos', 'inexperienced', 'exploring', 'fallible', 'afternoon', 'oscar', 'east', 'waterproof', 'fps', '91st', 'portray', 'fest', 'added', 'dislike', 'nominees', 'lurk', 'scaly', 'nonexistent', 'dod', 'risks', 'cameramans', 'phones', 'shutters', '5x5', 'hilarious', 'craving', 'cord', 'sub', 'overwheming', 'bistro', 'lool', 'act', 'conspiracies', 'tells', '460', 'inflammatory', 'workers', 'bruhhh', 'junker', 'baiting', 'passing', 'cancelled', 'reels', 'bali', 'infection', 'threatening', 'failed', 'akshon', 'womb', 'fulfilling', 'drove', 'downs', 'playlists', 'shocks', 'stunning', 'thank', 'tj', 'favourite', 'difinitely', 'blindfolds', 'finance', 'blindly', 'bubble', 'warmer', 'apply', 'racing', 'flirt', 'trailing', 'foil', 'coachs', 'loser', 'tankies', 'peds', 'contrived', 'reposting', 'doors', 'constantly', 'hoas', 'derives', 'pj', 'ppv', 'formally', 'doesnt', 'kiwi', 'doxing', 'declare', 'porcelain', 'countdown', 'nobs', 'wheeere', 'higher', 'passiveagressiveness', 'coloradont', 'denims', 'antiwomen', 'believes', 'forgot', 'cherrrryyyyy', 'choosy', 'flu', 'uno', 'binch', 'homage', 'watching', 'uncanny', 'tryin', 'dysmorphia', 'espn', 'requiem', 'foursentencehorror', 'ensuring', 'interracial', 'babyman', 'bricks', 'nutrition', 'mcfucking', 'sucks', 'ren', 'om', 'millionaires', 'harharry', 'oil', 'fash', 'unbiased', 'wallow', 'policing', 'glucose', 'hawt', 'obnoxious', 'panthers', 'dang', 'jtt', 'dignified', 'slump', 'embarrassing', 'assassinated', 'push', 'doover', 'twoyearold', 'explosion', 'perspective', 'disrespecting', 'denmark', 'purposely', 'basing', 'independently', 'inhaling', 'beet', 'lottery', 'cues', 'duh', 'handouts', 'apprentice', 'spurred', 'bicycle', 'discussing', 'bourgeoisie', 'button', 'kudos', 'disparage', 'sensitive', 'moms', '3v1', 'streamgate', 'direction', 'stopgaps', 'facechat', 'ruling', 'clown', 'away', 'whines', 'surge', 'humility', 'seagull', 'yeahhhh', 'byproduct', 'atwater', 'condolences', 'furious', 'friendly', 'ai', 'rampage', '69xxwidowmakerxx69', 'mania', 'weed', 'shell', 'mg', 'rewind', 'crow', 'shoots', 'try', 'builtin', 'beatingalittlegirlthing', 'singing', 'document', 'bitcoins', 'crown', 'lbr', 'asd', 'jewishness', 'flirtationships', '10s', 'preschoolers', 'abathur', 'wellbeing', 'trick', 'dropback', 'humidity', 'urgency', 'spurt', 'adds', 'obpm', 'quirky', 'shattering', 'columbia', 'hunkish', 'loaf', 'nkro', 'drone', 'pacience', 'stacked', 'busses', 'genious', 'zombielike', 'socialised', 'arbitrary', 'styles', 'died', 'wraith', 'hallway', 'drain', 'pear', 'inherited', 'xoxx', 'sammy', 'rival', 'recovered', 'ha', 'rabbi', 'stood', 'bull', 'shower', 'discount', 'promoting', 'undesirables', 'dealer', 'musk', 'imply', 'athlete', 'clung', 'booing', 'ilegal', 'ooohhh', 'twolves', 'iirc', 'klokslag', 'bedroom', 'hails', 'fbi', 'dire', 'qualifier', 'overly', 'maps', 'witnessing', 'wouldnt', 'japanese', 'outages', 'foreveralone', 'ahem', 'portrait', 'inglorious', 'aby', 'septum', 'projectile', 'green', 'zionist', 'crickets', 'visual', 'antiimperialism', 'narration', 'taped', 'ackchyually', 'consciously', 'island', 'coupon', 'slipped', 'mygm', 'import', 'ep8', 'steel', 'quote', 'pressure', 'os', 'package', 'nt242', 'osborn', 'boy', 'hellish', 'rightwing', 'disregarding', 'extremism', 'athens', 'virility', '4am', 'arrive', 'practically', 'bashing', 'exposure', 'insecure', 'everythings', 'css', 'weebs', 'okur', 'macron', 'lawsuits', 'delivered', 'portugal', 'dives', 'praying', 'le', 'fleshmatching', 'kinsler', 'previous', '6a', 'kmt', 'legendary', 'wastefully', 'excessive', 'cry', 'thankz', 'toothpaste', 'modified', 'blobs', 'phl', 'hereafter', 'tkachuk', 'shaggy', 'fenix', 'doinkn', 'sword', 'stance', 'selling', 'albeit', 'screens', 'ignoring', 'haunts', 'liberate', 'fulfillment', 'fed', 'fella', 'periods', 'funnier', 'stoner', 'cambridge', 'reader', 'uuuuh', 'extinct', 'actully', 'faxing', 'legend', 'ambiguous', 'madison', 'parkour', 'alarming', 'madam', 'studying', 'st', 'impossible', 'caucus', 'wellness', 'vortiger', 'crews', 'climb', 'stimulating', 'wrong', 'supplement', 'manafort', 'skyline', 'home', 'hooray', 'hears', 'misery', 'recalling', 'working', 'surrogacy', 'noo', 'glued', 'crops', 'rooted', 'wtfdik', 'sudoku', 'knockoff', 'hamstering', 'writer', 'doubts', 'interference', 'goldmine', 'thursday', 'tylenol', 'slayer', 'grandoozys', 'morrigan', 'savings', 'smeared', 'define', 'measures', 'defends', 'tix', 'props', 'staff', 'diving', 'socdems', 'bleeding', 'simpsons', 'smarts', 'oofficer', 'by', 'shouting', 'juggalette', 'realism', 'holy', 'caled', 'wholesome', 'yey', 'classroom', 'cringes', 'venting', 'uhhhh', 'gardens', 'caresses', 'preliminary', 'bf1', 'xoxo', 'caps', 'spiritual', 'h265', 'rotting', 'issur', 'anarchism', 'moronphobia', 'flow', 'brussell', 'overprepared', 'riche', 'refs', 'epic', 'toddler', 'refresh', 'overthink', 'rom', 'imperial', 'minion', 'shady', 'bestest', 'deflection', 'supermax', 'poop', 'drops', 'installing', 'exploitation', 'advised', 'bands', 'coconuts', 'heteronormativity', 'huffed', 'hebrew', 'privilege', 'shipt', 'proxy', 'upon', 'wa', 'deadly', 'characterization', 'acsended', 'expect', 'scottish', 'fil', 'taper', 'evennabout', 'vacate', 'corpus', 'residents', 'trophy', 'lite', 'expectation', 'qr', 'ornaments', 'potatoes', 'voiced', 'icu', 'roller', 'bigoted', 'serfdom', 'individuals', 'sell', 'visibly', 'protections', 'birds', 'pardons', 'tore', 'tiny', 'nvm', 'blockbuster', 'semitic', 'dayyuuummm', 'pleased', 'siriusxm', 'antis', 'howd', 'dong', 'shots', 'updoots', 'lion', 'rfa', 'repercussions', 'neurotypical', 'maroon', 'prods', 'thonk', 'kenpom', 'relating', 'lighthouses', 'bummed', 'additional', 'student', 'parental', 'embarassing', 'established', 'trucker', 'bake', 'ole', 'validates', 'batted', 'srs', 'dbpm', 'civilizations', 'enslave', 'skeletor', 'bharlie', 'guffawed', 'diagnosis', 'successful', 'goddamn', 'fates', 'fees', 'punched', 'fentanyl', 'degenerates', 'toad', 'shill', 'campaigns', 'poundtown', 'sunk', 'rates', 'exploiting', 'laughing', 'dragons', 'unsatisfying', 'mugged', 'inclement', 'vaccinating', 'reptilian', 'whisky', 'robbery', 'ne', 'chooses', 'hormonal', 'unwritten', 'proves', 'gillette', 'tryhard', 'minke', 'opened', 'condiments', 'crestwood', 'whoomp', 'crusade', 'reelection', 'sueing', 'oozes', 'tantrums', 'ligament', 'narcotic', 'sinkholes', 'lmaoooooooooo', 'devour', 'eyelid', 'reached', 'improved', 'religion', 'forget', 'lens', 'banked', 'force', 'cannot', 'said', 'tvt', 'carta', 'lince', 'kirby', 'datesi', 'blasphemy', 'scrolled', 'gilmore', 'behindthescenes', 'glassy', 'cults', 'inceltears', 'writeup', 'be', 'chevre', 'er', 'farthest', 'shattenkirked', 'wet', 'secular', 'childneed', '0001', 'ether', 'jellyfish', 'negativity', 'illinois', '6th', 'dae', 'underestimate', 'scan', 'painful', 'births', 'rewatching', 'prevented', '600hr', 'hamster', 'holding', 'uplifting', 'controls', 'peta', 'telomeres', 'oatley', 'fuss', 'woohoo', 'spurs', 'obscenely', 'attacker', 'lad', 'customize', 'leftleaning', 'facepalmed', 'suspicions', 'casting', 'freckles', 'imagining', 'angel', 'caliber', 'critically', 'firearm', 'bittersweet', 'uk', 'lebron', 'greyhounds', 'tear', 'bymyself', 'dozens', 'tigres', 'expressly', 'dun', 'drones', 'basic', 'iran', 'seizing', 'flexibility', 'poppin', 'mignon', 'nostalgia', 'vitamins', 'whipped', 'waffle', 'religiosity', 'juicy', 'playthrough', 'vanilla', 'theyd', 'honored', 'anxiepuking', 'recent', 'mgtowness', 'cinematic', 'lovee', 'husband', '210', 'marines', 'spammy', 'sweden', 'hoplites', 'sweetener', 'blasé', 'cookbook', 'bee', 'archer', 'meeeee', 'togs', 'heartbreaking', 'unjust', 'rigged', 'maggot', 'tee', 'cotton', 'contradicts', 'things', 'doodle', 'brisbane', 'makeover', 'euros', 'cereal', 'guys', 'thankyou', 'mention', 'barn', 'fueles', 'significance', 'notorious', 'vampire', 'january', 'ralsei', 'pickles', 'thrives', 'recap', 'tasted', 'tasteless', 'pecans', 'wifey', 'tremendously', 'peasant', 'nauseating', 'road', 'hover', 'bloodthirsty', 'mascara', 'gators', 'navy', 'purposefully', 'weewee', 'emigrant', 'aaaaaaaaaaaah', 'alerts', 'clowned', 'pees', 'dxm', 'canons', 'care', 'superiority', 'stole', 'dictionaries', 'upsidedown', 'happiness', 'totes', 'jedi', 'crit', 'impotent', 'radiance', 'advanced', 'penny', 'raindrops', 'oasis', 'lausd', 'monico', 'bothering', 'democratically', 'europe', 'ingroup', 'fedora', 'guts', 'garfunkel', 'buffed', 'alliance', 'caption', 'luciferian', 'monkeys', 'rumors', 'stings', 'makeup', 'word', 'pings', 'smell', 'problems', 'paris', 'frwiend', 'menat', 'experience', 'bowl', 'marbles', 'intrigue', '22nd', 'embiid', 'bracing', 'triggers', 'coat', 'restroom', 'abstain', 'aircraft', 'tasteful', 'steadfastness', 'whory', 'octopussy', 'legislature', 'demon', '0809', 'existed', 'gdp', 'reno', 'immunocompromised', 'fraudedbytlc', 'citation', 'jp', 'outright', 'hates', 'wana', 'search', 'dip', 'rocks', 'redeeming', 'carry', 'ogre', '80m', 'adaptation', 'shoes', 'sobriety', 'preferring', 'overseer', 'modmail', 'almond', 'translucent', 'unsavory', 'nba', 'separated', 'wellrested', 'daenerys', 'gazelle', 'prolly', 'host', 'mister', 'mapping', 'twatwaffle', '23', 'noob', '15mg', 'med', 'walll', 'hire', 'masala', '2017', '467', 'fish', 'aaaaand', 'sportz', 'intro', 'mekkkahs', 'belts', 'stumblinbear', 'pretentious', 'puns', 'bonkerballs', 'accomplice', 'ban', 'chancellor', 't3', 'staring', 'enthusiasm', 'mix', 'pumped', 'sentences', 'noriega', 'motivated', 'picture', 'fuq', 'parlay', 'revenge', 'pitiful', 'backwards', 'ooooof', 'hand', 'brought', 'unsettled', 'frightening', 'everything', 'artery', 'f5', 'eventual', 'progressive', 'seeping', 'galt', 'person', 'waitaminute', 'lure', 'derby', 'placement', 'join', 'bigoteering', 'regimen', 'revelead', 'christ', 'fawning', 'rematch', 'industries', 'bartend', 'racists', 'beeline', 'creamer', 'uvas', 'nex', 'ais', 'postseason', 'burst', 'dekalb', 'attempts', 'its', 'shock', 'conversation', 'tipping', 'haunted', 'bases', 'panicked', 'hysterical', 'typhoid', 'medium', 'leicester', 'invent', 'positional', 'folkestone', 'harassing', 'smashy', 'moo', 'roach', 'magics', 'wages', 'depressed', 'adoptive', 'django', 'incompatible', 'menacing', 'motorcyclist', 'sidebar', 'sister', 'housekeeper', 'loud', 'jan', 'sleeping', 'pies', 'competence', 'intp', 'sauerkraut', 'nae', 'camps', 'painfully', 'tommy', 'nearby', 'homophobic', 'fake', 'severed', 'cole', 'ellys', 'manequin', 'name', 'theirs', 'people', 'felons', 'gifts', 'cobras', 'unions', 'dnp', 'provoked', 'cult', 'take', 'scenarios', 'six', 'towers', 'openings', 'promotion', 'retaining', 'erratic', 'jokes', 'heckin', 'reject', 'democrips', 'trump', 'publicity', 'errant', 'tilted', 'become', 'personally', 'complained', 'upvotes', 'hail', 'barging', 'equality', 'forseeable', 'comedycemetery', 'unfamiliar', 'outlaw', 'radiotherapy', 'catcher', 'baron', 'blackout', 'titled', 'possibility', '62k', 'candyland', 'seize', 'congeal', 'posts', 'knock', 'blubber', 'proably', '16m', 'gasping', 'confessed', 'endgame', 'sound', 'hassle', 'blaze', 'heroes', 'begins', 'iconography', 'gnats', 'rebloodicans', 'chemistry', 'asttonomy', 'steak', 'exposed', 'days', 'alamogordo', 'tones', 'chappelles', 'youtube', 'naah', 'colder', 'egg', 'breaking', 'lapse', 'scrogg', '1937', 'highschool', 'microagressions', 'coma', 'shoved', 'steps', 'taskforce', 'nostrils', 'proving', 'acuna', 'dirtbag', 'wireless', 'asuka', 'channel', 'mutt', 'cussed', 'internets', 'itll', 'congratulates', 'pronounced', 'vegan', 'belated', 'ez', 'monday', 'wellington', 'curve', 'selfinterest', 'because', 'resuscitation', 'fron', 'raptors', 'nutrients', 'twitch', 'strengths', 'pixie', 'obsolete', 'sauna', 'overton', 'ranch', 'angels', 'dessert', 'stomachs', 'eligible', 'velvet', 'commercial', 'photograph', 'crop', 'scrolling', 'huh', 'fascist', 'darkseid', 'gun', 'negatives', 'chickfila', 'squandered', 'brands', 'growing', 'th', 'know', 'link', 'booo', 'cite', 'juniors', 'moron', 'career', 'pissed', 'bachelorette', 'pant', 'intersection', 'discouraged', 'piano', 'panics', 'honeymoon', 'stargazing', 'constanly', 'ugly', 'berth', 'officiant', 'globalism', 'carefully', 'cannon', 'tragedy', 'gleeful', 'defective', 'billionaire', 'slap', 'tickles', 'wield', 'fanboys', 'burgers', 'comment', 'commenter', 'lsc', 'truths', 'giants', 'wimminfolk', 'livin', 'punchline', 'ticked', 'remake', 'chaos', 'bond', 'outside', 'gangstas', 'mma', 'detained', 'overcoming', 'outlandish', 'jilliac', 'tenants', 'combat', 'economies', 'rice', 'frank', 'tanks', 'naziadjacent', 'xbox', 'diego', 'dumbstruck', 'watermelons', 'bathe', 'playtest', '7pm', 'funny', 'snake', 'banshee', 'falsely', 'doubtful', '50th', 'shrooms', 'mommy', 'heals', 'suxs', 'waifu', 'spewing', 'colliding', 'belly', 'wtf', 'lucio', 'bouncing', 'financials', 'tininess', 'possum', 'icarly', 'artic', 'corporation', 'ifs', 'fundraisers', 'compete', 'lunches', 'wittle', 'craigslist', 'fits', 'catholicism', 'sworn', 'facemask', 'looooong', 'smearing', 'cognitive', 'anxieties', 'edgelord', 'ooh', 'copypasta', 'representation', 'entitlement', 'youth', 'nonindigenous', 'campfires', 'barista', 'video', 'grannies', 'belgian', 'scaredy', 'audible', 'pol', 'psychotic', 'tale', 'recovering', 'underage', 'nipigon', 'gm', 'appreciated', 'snoopydog', 'maga', 'ditsy', 'health', 'building', 'firefly', 'lingers', 'bluff', 'sash', 'usedup', 'marginal', 'bins', 'overlevelling', 'bend', 'futile', 'notre', 'akot', 'cuticle', 'mmmmmm', 'thrones', 'objective', 'trips', 'overground', 'bard', 'hyped', 'newcastle', 'separation', 'treading', 'notion', '11', 'testify', 'controversy', 'score', 'invade', 'critic', 'seal', 'damnit', 'hear', 'principal', 'r3', 'trip', 'rican', 'songs', 'normandy', 'falling', 'crisis', 'generates', 'sprinkle', 'modeling', 'barber', 'pay', 'shelters', 'harmed', 'amount', 'oblivion', 'belive', 'voncs', 'addon', 'fair', 'breached', 'dasher', 'themall', 'benchys', 'sweetheart', 'johnny', 'livepd', 'providers', 'mitigate', 'explode', 'stonewall', 'inaccuracies', 'calories', 'mlady', 'humanity', 'kkk', 'deflecting', 'thlassaphobia', 'altogether', 'arch', 'ballot', 'wallah', 'tapas', 'gave', 'argentinian', 'shields', 'rainbow', 'yakking', 'card', 'nonsensical', 'cute', 'seeking', 'anybodys', 'robe', 'definite', 'nonmono', 'unapologetic', 'hows', 'congrats', 'gritty', 'net', 'nebulous', 'haydels', 'quite', 'anchovies', 'tae', 'hhhhhh', 'ensued', 'eastwest', 'murder', 'tools', '1600', 'reposted', 'shockingly', 'knives', 'duggars', 'subjective', 'brutally', 'backpedaling', 'gooooooooood', 'prepping', 'ae', 'require', 'repealed', 'warrant', 'hardship', 'being', 'foremost', 'whaaat', 'composed', 'death', 'baybeeees', 'ones', 'accent', 'wound', 'bo3', 'rivals', 'receiver', 'vaxxed', 'prosecutor', 'activated', 'undecided', 'assalamu', 'expeditious', 'camp', 'existent', 'claims', 'combination', 'colludes', 'managing', 'blissfully', 'derealization', 'looool', 'manu', 'dowmvoted', 'efforts', 'applies', 'nasally', 'tetris', 'warner', 'megaphone', 'championships', 'creeps', 'pubg', 'partially', 'forgets', 'documenting', 'uniforms', 'intervention', '640x480', 'squirm', 'brokeass', 'enthusiastic', 'liability', 'niice', 'conditions', 'continuing', 'attempting', 'dan', 'amuses', 'tragic', 'should', 'abroad', 'scientists', 'windows', 'replying', 'disproven', 'beatiful', 'cautiously', 'biscuits', 'border', '2010', 'iowa', 'parrots', 'ncaa', 'ostracized', 'hooking', 'talented', 'potential', 'brotherinlaws', 'impulse', 'banged', 'foreigners', 'oversharing', 'dispenser', 'nailed', 'lamb', 'stacies', 'zapped', 'prework', 'allowed', 'foooooooor', 'abstaining', '3h', 'coursera', 'anthropological', 'concentration', 'baku', 'memory', 'after', 'letter', 'deferens', 'populations', 'democide', 'theorists', 'applicants', 'petting', 'property', 'reminiscent', 'senators', 'swansons', 'fleas', 'river', 'deafening', 'dupont', 'aggravating', 'appendix', 'yeahhh', 'plush', 'xmen', 'acting', 'reasoning', 'pint', 'establish', 'stares', 'spades', 'whore', 'living', 'stereotypes', 'weirds', 'door', 'pays', 'bioware', 'apes', 'shocking', 'swatch', 'tuxedo', 'summary', 'intestines', 'incivility', 'adderrall', '839', 'basketball', 'greats', 'warlocks', 'regardless', 'sums', 'primaries', 'skills', 'hunter', 'huey', 'verifying', 'grateful', 'entirety', 'booga', 'meal', 'resigned', 'uw', 'kiddo', 'bishop', 'swastika', 'rewriting', 'slit', 'swim', 'yup', 'walks', 'swipe', 'leaking', 'colorful', 'comedia', 'wins', '144hz', 'father', 'misogynists', 'vindication', 'reeks', 'no', 'motion', 'preemptively', 'pound', 'kroger', 'dame', 'trash', 'zucchini', 'iconic', 'anarchists', 'healed', 'agreements', 'comprehensive', 'avatar', 'wallstreetbets', 'laid', 'yum', 'day', 'rockets', 'fingered', 'wayyyy', 'wahooooo', 'bite', 'toolbox', 'sideeyeing', 'bunnings', 'including', 'agrees', 'hammered', 'gg', 'consoles', 'maybe', 'poliolike', 'scummy', '2h', 'livid', 'elite', 'fairy', 'paraguard', 'theme', 'blinds', 'choking', 'reminders', 'burps', 'answers', 'storys', 'niche', 'suffer', 'greys', 'brunettes', 'da', 'geology', 'kinda', 'radical', 'vaccination', 'hardworking', '208', 'ww2', 'doll', 'room', 'compassionate', 'verses', 'angers', 'tov', 'patient', 'gently', 'commendation', 'hamburgers', 'shame', 'qualifiers', 'recorded', 'clocking', 'catfuckers', 'kombat', 'insightful', 'nonbutterfliedbynorapunchingthesatellite', 'sideways', 'thriller', 'piling', 'wyrmwood', 'petted', 'contest', 'american', 'boxes', 'outraged', 'disagreeing', 'baker', 'communal', 'methods', 'spotting', 'element', 'backpedal', 'grownups', 'hater', 'rough', 'refugee', 'personhood', 'contrast', 'china', 'costing', 'reloader', 'potentially', '3lift', 'youngstown', 'neigh', 'bully', 'easily', 'sololander', 'obligatory', 'comedies', 'reason', 'profanity', 'tenacity', '900', 'looch', 'prizes', 'betfair', 'greetings', 'hoodies', 'mussy', 'deposit', 'insane', 'study', 'asphalt', 'proputin', 'pan', 'bearish', 'firefoxcss', 'receptive', 'quarantined', 'king', 'laughs', 'shitbird', 'signs', 'beautiful', 'reconnaissance', 'kombatants', 'oldest', 'patterns', 'speedy', 'bailed', 'eban', 'ten', 'punisher', 'glare', 'disruption', 'retires', 'gates', 'tone', 'alway', 'truthful', 'stark', 'wasteful', 'jargon', 'brownies', 'loathing', 'horrifying', 'locked', 'surreal', 'objects', 'thought', 'weakness', 'password', 'controller', 'mustache', 'trashy', 'marrow', 'gtfoh', 'dumped', 'obvs', 'wishing', 'nakamoto', 'pepperoni', 'fargo', 'convenient', 'wad', 'timestamp', 'canvas', 'cheese', 'godlish', 'youre', 'clearer', 'franciscos', 'assisted', 'baptismal', 'hormone', 'wayyyyyy', 'them', 'vitamin', 'fireball', 'obviously', 'spanking', 'facto', 'exceptions', 'sweeter', 'cinemas', 'wisconsin', 'why', 'apology', 'chunk', 'osu', 'gardeners', 'mandem', 'banger', 'aaron', 'checkmated', 'status', 'clearance', 'lazyman', 'united', 'sunni', 'onions', 'intimidated', 'mega', 'whales', 'relatedly', 'americas', 'nostril', 'firmly', 'gizzard', 'nothingness', 'dorcos', 'homosexuals', 'patch', 'brig', 'blessing', 'optout', 'wizard', 'gained', 'rat', 'tha', 'maxcellcomics', 'dungeon', 'jumped', 'abram', 'sorrow', 'cancels', 'grizzlys', 'snuff', 'house', 'atheism', 'existentialist', 'occupied', 'honestly', 'invited', 'chlorine', 'moronic', 'simmer', 'charges', 'sum', 'gorgeous', 'ff', 'similar', 'paypal', 'madrasah', 'untrue', 'resell', 'dday', 'bear', 'racist', 'ro', 'aswell', 'muddy', 'poses', 'wilful', 'precocious', 'snowing', 'sad', 'compulsory', 'blackheads', 'squares', 'skylines', 'cashes', 'thedonald', 'cellulite', 'usb', 'uptick', 'northern', 'feathered', 'backhands', 'platters', 'devastating', 'baddest', 'apologies', 'annoying', 'unnatural', 'entire', 'needles', 'refused', 'prestigious', 'cravings', 'gl', 'petrol', 'chungus', 'reverberate', 'dooku', 'level', 'tryptan', 'rotten', 'crossposting', 'fantasy', 'tags', 'defenders', 'ridicule', 'recommended', 'fearing', 'customise', 'steering', 'innings', 'dirtiest', 'layup', 'un', 'fit', 'tc', 'gungrabbers', 'latest', 'peace', 'bulwark', 'swipes', 'gop', 'wishful', 'top', '3oh', 'bashed', 'leather', 'hardware', 'ie', 'deluded', 'passenger', 'tracking', 'promise', 'rcia', 'operators', '95th', 'abductions', 'reigimes', 'million', 'whiff', 'wells', 'kap45', 'yelp', 'snoo', 'nazism', 'errr', 'baffled', 'paychecks', 'season', 'unlockable', 'fingertip', 'worthwhile', 'jurisdictions', 'comin', 'desist', 'inserted', 'mauled', 'uber', 'roots', 'derbyshire', 'propel', 'pedantic', 'pish', 'waiting', 'foals', 'aired', 'he', 'downlow', 'defeated', 'engagement', 'causing', 'barron', 'container', 'arousal', 'artwork', 'suppressed', 'youuuuu', 'basket', 'hug', 'control', '149', 'beach', 'opener', 'obs', 'tins', 'ghosts', 'liberia', 'craft', 'louisana', 'dork', 'phrase', 'handling', 'tripping', 'wipers', 'slipping', 'starfish', 'stains', 'expert', 'shirtballs', 'open', 'placed', 'blockbusters', 'minnesota', 'lovingly', 'twdg', 'ghoul', 'orientation', 'phone', 'contenders', 'worryreminders', 'gladiator', 'demanding', 'goat', 'gunna', 'referring', 'replace', 'peek', 'lbp', 'fend', 'cam', 'business', 'pulls', 'theatre', 'battalion', 'grumps', 'victims', 'stinger', 'warped', 'justification', 'originals', 'womenarewonderful', 'competitive', 'offended', 'expshare', 'tempted', '212', 'flavours', 'chokes', 'wielding', 'statistical', 'lowest', 'e2', 'nemesis', 'organise', 'eternity', 'embarrassment', 'wes', 'marching', 'attorney', 'there', 'premiers', 'how', 'yosoyjackiejorpjomp', 'implant', 'doubtingass', 'showerthoughts', 'letstalk', 'barf', 'imagine', 'conniving', 'remind', 'harvestmen', 'storm', 'fullydestructible', 'ruined', 'character', 'icecream', 'community', 'trim', 'subtext', 'voidless', 'graduate', 'yoghurt', 'euphemism', 'ashtray', 'scrub', 'dried', 'prefix', 'ksg', 'decide', 'kirribilli', 'values', 'spawned', 'ikea', 'neanderthal', 'hardhitting', 'viewers', 'careless', 'braves', 'butler', 'bahamas', 'belfast', 'morse', 'syria', 'conjure', 'recoiled', 'pianist', 'alprazolam', 'argentina', 'wraiths', 'techgore', 'superpower', 'downed', 'overall', 'enabling', 'explored', 'denotation', 'allegations', 'brand', 'collitons', 'leach', 'slows', 'returning', 'overstated', 'ecophiles', 'presenting', 'saod', 'nothing', 'cmmon', 'ello', 'mostly', 'shake', 'ladies', 'divert', 'combinations', 'colleagues', 'lions', 'meaning', 'same', 'einhorn', 'firepower', 'visible', 'begets', 'matched', 'blending', 'rek', 'suburbs', 'outskirts', 'woooo', 'unindicted', 'excuses', 'bruise', 'lasts', 'wtfuckery', 'stunk', 'remini', 'bread', 'memed', 'yang', 'lt', 'hmmm', 'fights', 'staffers', 'hysteria', 'formats', 'which', 'p', 'bloating', '18', 'sadder', 'huns', 'ply', 'allergic', 'temporarily', 'irk', 'confuses', 'seafood', 'war', 'bays', 'grinning', 'facial', 'hoooo', 'creep', 'dateable', 'funhaus', 'latrice', 'otr', 'prosecute', 'tackled', 'likebigbuttons', 'ponds', 'violate', 'anticipating', 'lakers', 'long', 'hobart', 'grinding', '2019', 'lgd', 'board', 'respectability', 'ounce', 'ignorantly', 'peaches', 'prosperous', 'estimation', 'law', 'sag', 'readily', 'gnc', 'wabbies', 'hhahah', 'geared', 'paywall', 'spinach', 'rugs', 'evangelicalism', 'tweets', 'boneappletea', 'communications', 'organized', 'really', 'stealing', 'behave', 'newsroom', 'unsubstantiated', 'achieved', 'gasoline', 'kat', 'quarterly', 'spores', 'deranged', 'additions', 'announced', 'prick', 'fudge', 'genius', 'tacky', 'depraved', 'hidden', 'complaine', 'rudely', 'alphabets', 'agon', 'enraged', 'weighing', 'pedestrians', 'tortilla', 'junkie', 'pirates', 'joke', 'grasp', 'system', 'goofy', 'romance', 'unsightly', 'patronising', 'lifestyle', 'vermintide', 'reward', 'funneling', 'leaning', 'descent', 'seek', 'directed', 'applying', 'hurry', 'stassi', 'depicts', 'tfue', 'aces', 'fudds', 'insisting', 'sunrises', 'presence', 'underlaying', 'wimbledons', 'dying', 'pulju', 'mam2', 'declaration', 'attempt', 'warn', 'giving', 'parrot', '1926', 'cuck', 'invested', 'thread', 'adamtots', 'say', 'pillow', 'dishwasher', 'vb', 'lenient', 'bioshock', 'thou', 'key', 'buff', 'mixer', 'provoke', 'ziip', 'forking', 'arsenal', 'bladder', 'grounded', 'peach', 'boycotted', 'shipped', 'aa', 'worldnews', 'recycling', 'autopilot', 'atlantis', 'unleash', 'arctic', 'homie', 'scanner', 'waffles', 'jaw', '58', 'edited', 'silently', 'defense', 'nugget', 'heretics', 'user', 'lmgs', 'grownass', 'plastered', 'nagito', 'articlewhich', 'opposites', 'naiveté', 'introvert', 'woodsy', 'dropped', 'veg', 'nails', 'panzy', '21st', 'cokedup', 'fkn', 'tlic', 'havr', 'specializes', 'hitbox', 'consume', 'limmys', 'packaging', 'fan', 'virus', 'catsup', 'dna', 'privilges', 'shatter', 'alike', 'empath', 'clean', 'cooker', 'tulia', 'nooooooo', 'oldpeoplereddit', '21', 'lead', 'ngl', 'illegals', 'deutschland', 'stunted', 'jpeged', 'posted', 'exhausting', 'contemplate', 'skip', 'ofnbeing', 'ik', 'brick', 'whoosh', 'hp', 'phantom', 'submerge', 'betcha', 'developers', 'wanker', 'edits', 'realllyyyy', 'garlic', 'disordered', 'meatballs', 'hometown', 'pick', 'contrapoints', 'unlikely', 'restricts', 'admires', '9k', 'irish', 'dolphinetly', 'assure', 'announcements', 'disservice', 'snakeoil', 'taunts', 'parade', 'hunch', 'givingyoucrapfornotlikingbrownies', '150', 'ohmygawd', 'parvo', 'consult', 'balancing', 'crooked', 'andújar', 'veggies', 'letting', 'obstacle', 'disgust', 'hahahahha', 'grazed', 'italy', 'tactless', 'undateable', 'paced', 'bb', 'pooped', 'chef', 'decry', 'lighter', 'kiss', 'respond', 'tssc', 'trenches', 'tailing', 'ash', 'behind', 'breath', 'steer', 'howdy', 'discrimination', 'offs', 'saaaaame', 'accepting', 'face', 'arms', 'traveling', 'tau', 'corruption', 'nationalist', 'vets', 'libtards', 'console', 'censored', 'subbing', 'combining', 'syndrome', 'environmentalism', 'argh', 'ohhh', 'fouling', 'mayweather', 'paperwork', 'fourms', 'cockholster', 'kc', 'jewelry', 'transphobes', 'apprehensive', 'commentaries', 'drought', 'mining', 'provision', 'drawsting', 'priorities', 'mitt', 'texan', 'irritates', 'vanced', 'iq', 'equipment', 'frankie', 'melb', 'applicable', 'heartbroken', 'outcomes', 'condition', 'astrokatie', 'lb', 'payoff', 'streetwise', 'dbt', 'pe', 'cnc', 'yrd', 'heartedly', 'cs', 'heineken', 'dangerously', 'bernabeu', 'farded', 'wattpad', 'medley', 'decend', 'riiiicchhh', 'puts', 'sweatervest', 'epidemic', 'vet', 'narcissists', '7grams', 'insert', 'service', 'terrorist', 'statement', 'nit', 'dumber', 'ejected', 'karma', 'mate', 'sober', 'seduction', 'minites', '280', 'clinging', 'hospitalized', 'integrated', 'erupted', 'torrance', 'usajobs', 'obsession', 'popcorn', 'ao', 'illegally', 'human', 'saigon', 'octane', 'v0', 'indian', 'bask', 'answered', 'tretinoin', 'abnormally', 'sponsors', 'glanced', 'cantonica', 'sonics', 'halcyon', 'random', 'predevelopment', 'news', 'nonsarcastic', '8', 'quacks', '95', 'matter', 'avoided', 'pov', 'cloth', 'eastside', 'stand', 'assumption', 'brees', 'gilded', 'exceeding', 'blurred', 'dislocated', 'padres', 'incantation', 'millenials', 'rap', 'molested', 'lukes', 'live', 'mindful', 'dee', 'blindness', 'dictators', 'closure', 'flaming', 'pr', 'entre', 'confrontational', 'sc2', 'pawnstars', 'dungeons', 'nofap', 'stunned', 'intolerance', 'foresee', 'sockets', 'smoggish', 'reccomend', 'exercise', 'enjoys', 'enlighten', 'answer', 'ringing', 'roses', 'lofi', '490', 'bananas', 'brogressive', 'animated', 'beliefs', 'pauses', 'took', 'chrono', 'regulate', 'extremists', 'foriegners', 'selfown', 'alphabetical', 'watering', 'aforementioned', 'twice', 'womxn', 'rant', 'skype', 'celtics', 'ar', 'ufa', 'judges', 'thief', 'tongue', 'trafficking', 'album', 'ceremonies', 'currency', 'thankfully', 'ltb', 'unpredictable', 'eeason', 'prep', 'homo', 'orb', 'kratom', 'bombing', '24th', 'voters', 'actively', 'note', 'cohesion', 'polish', 'crabs', 'whitey', 'cleverness', 'cf', 'mishearing', 'moreyolos', 'parayko', 'googlefu', 'skater', 'q', 'afterlife', 'california', '8189', 'animations', 'everythingggggg', 'formidable', 'disseminate', 'subpoenas', 'welfare', 'garden', 'rex', 'brachiosaurus', 'multitask', 'scents', 'oversight', 'goats', 'bootcamp', 'abandons', 'extended', 'reijka92', 'autoshut', 'vs', 'chain', 'foods', 'ac1', 'lsfyl', 'rejection', 'editorials', 'endzone', 'didt', 'duluth', 'owo', 'duped', 'bleak', 'aht', 'lifesteal', 'nudity', 'grades', 'cabs', 'abaot', 'jury', 'ejaculator', 'schlomo', 'allocates', 'rol', '3k', 'headbutt', 'assist', 'widely', 'rollercoaster', 'hasidic', 'mls', 'mutts', 'younger', 'viking', 'unconventional', 'rebuying', 'noble', '600', 'pleasures', 'amusing', 'eu', 'immoral', 'metoo', 'hard', 'perpetually', 'vice', 'dumbasses', '14th', 'mothafuckas', 'punctuation', 'filmé', 'wave', 'spotlight', 'tuesday', 'deface', 'separate', 'maintain', 'designed', 'rulers', 'studios', 'spare', 'uplay', 'omnipotence', 'chanting', 'headlines', 'jimmy', 'gangsterass', 'knocking', 'hipster', 'gotchu', 'seaton', 'persuasive', 'sacrafice', 'ready', 'doi', 'enlisted', 'topnotch', 'understated', 'flavor', 'schedules', 'feasting', 'sadcringe', 'sexualized', 'profession', 'colonialism', 'extravagant', 'diagnosing', 'nfl', 'defer', 'species', 'roy', 'girly', 'lawless', 'contracting', 'arcade', 'mri', 'spot', 'goff', 'fingernails', 'theeeeeese', 'la', 'skill', 'manger', 'equal', 'backwoodmenace', 'fleet', 'carebear', '25th', 'handguns', 'curtains', 'comedy', 'singed', 'relaxing', 'whatnot', 'residency', 'lehner', 'jacket', 'pine', 'okay', 'media', 'sparks', 'supports', 'fateful', 'frown', 'dsm5', 'alcoholism', 'hornets', '304', 'tuscaloosa', 'guild', 'strong', 'gged', 'refernece', 'doortrash', 'dunce', 'refuge', 'turf', 'above', 'vine', 'concentrating', 'napkin', 'expressed', 'viability', 'adversary', 'ded', 'dirty', 'ir', 'marvel', 'tendency', 'declares', 'priests', 'climate', 'redistribute', 'shakes', 'brothur', 'proceed', 'liers', 'prevent', 'bi', 'smelly', 'offer', 'lattes', 'accessed', 'schmancy', 'sharer', 'almonds', 'lifespan', 'swill', 'selfcontrol', 'yeeees', 'hunting', 'clouds', 'ayyyyyyyyy', 'venus', 'rehabilitating', 'pond', 'gouge', 'politely', 'pedes', 'cutie', 'erect', 'goo', 'kindly', 'grappler', '2v2', 'analog', 'society', 'bye', 'seeming', 'inn', 'extraterrestrial', 'bison', 'hate', 'strapon', 'hold', 'sharp', 'pouch', 'pyrite', 'track', 'obsessing', 'norms', 'grow', 'barefoot', 'yearly', 'finally', 'nexus', 'ironic', 'shits', 'bride', 'anon', 'cautious', 'lop', 'billions', 'kai', 'policemans', 'wordbending', 'fitter', 'loony', 'youll', 'ferrah', 'hypothyroidism', 'ananarchist', 'notice', 'oneliner', 'violently', 'jobs', 'gesturing', 'screaming', 'usda', 'yiss', 'contextttt', 'fetal', 'ti', 'flock', 'hats', 'palace', 'sitcom', 'beacon', 'thins', 'ams', 'hashishiyyin', 'medications', 'benadryl', 'eyeball', 'fuuuuuuuck', 'overjoyed', 'stooges', 'healers', 'carried', 'violated', 'displays', 'ashamed', 'rudeness', 'crosses', 'camping', 'frink', 'euthanasia', 'baroque', '90s', 'hogwarts', 'differences', 'achievement', 'gards', 'commen', 'ethereal', 'relay', 'misfortune', 'string', 'swelling', 'june', 'venture', 'sells', 'nicer', 'sf', 'dodging', 'mispronounced', 'diarrhea', 'overeating', 'cletus', 'cuz', 'fallen', 'picturing', 'smdh', 'camelback', 'symmetric', 'elites', 'biological', 'pic', 'decent', 'chance', 'surv', 'owning', 'impartial', 'disrespectful', 'braver', 'paygo', 'worshiping', 'deleting', 'schnapps', 'abort', 'sidequests', 'mistaken', 'gottem', 'areas', 'tunes', 'sniper', 'despot', 'kicky', 'tide', 'pupils', 'antiman', 'ditch', 'boots', 'eztv', 'unsafe', 'extremely', 'tla', 'contractors', 'hurting', 'rick', 'nyaw', 'diffrence', 'muscles', 'wishm', 'apollo', 'camels', 'data', 'smok', 'triggering', 'playboi', 'vocal', 'harder', 'escalated', 'files', 'microsoft', 'deserves', '2d', 'anthropology', 'shoving', 'distinction', 'eat', 'ample', 'tiktok', 'special', 'tryouts', 'belong', 'characters', 'victors', 'porto', 'shamed', 'congratz', 'willpower', 'fling', 'ahrar', 'universe', 'mlm', 'yeeey', 'those', 'r6', 'published', 'oooooooohhhhnnnoooooo', 'roll', 'identity', 'extortion', 'nsw', 'apparently', 'snatch', 'dildos', 'diagnose', 'proclamations', 'valid', 'slicing', 'swamp', 'cruiser', 'royally', '6', 'relax', '8t', 'civic', 'than', 'vu', 'penultimate', 'arresting', 'embittered', 'disengagement', 'testicles', 'purebred', 'euthanizes', 'unheard', 'hosts', 'termites', 'until', 'tinge', 'cincy', 'vi', 'everton', 'definately', 'louisville', 'cabbage', 'ramtard', 'claimed', 'suppose', 'corrected', 'itself', 'caved', 'org', 'clapping', 'f', 'oof', 'marquee', 'traditions', 'gourds', 'proper', 'afar', 'peaked', 'exists', 'normally', 'submit', 'fap', 'aye', 'tiddly', 'space', 'identified', 'ttc', 'ballistic', 'nirvana', 'chili', 'freedom', 'infringe', 'mumble', 'severson', 'demons', 'badly', 'pos', 'behavior', 'trek', 'android', 'prageru', 'contractor', 'greens', 'modelled', 'smelt', 'unblinking', 'promotional', 'posse', 'tumor', 'privately', 'proclaiming', 'chucking', 'nyxl', 'advocated', 'knowledgebowl', 'earlier', 'buyers', 'overlap', 'spitting', 'glock', 'doest', 'ridiculous', 'i', 'remarkably', 'helplessly', '97', 'snack', 'blabbering', 'scrap', 'loaded', 'swbf2', '92', 'morale', 'curse', 'numb', 'yearold', 'persistence', 'swimming', 'email', 'renewed', 'booboo', 'punishing', 'pulse', 'inherent', 'incalculable', 'rattle', 'commonly', 'supportive', 'lynwood', 'leslie', 'dyslexia', 'lesson', 'fragile', 'gushed', 'dudes', 'crack', 'fing', 'smiling', '12am', 'burbs', 'vids', 'rethink', 'staffing', 'latter', 'shrink', 'reasons', 'courage', 'hissy', 'plunger', 'shins', 'device', 'strap', '18yearolds', 'nemo', 'alpha', 'month', 'pounds', 'kremlin', 'boomers', 'unnessecary', 'qualifications', 'rave', 'thrills', 'barrier', 'decreases', 'paganism', 'stressful', 'omw', 'daiquiris', 'douchebags', 'bobs', 'mud', 'butthole', 'incitement', 'niceguys', 'rim', 'champion', 'length', 'undeniably', 'greed', 'deleted', 'franchises', 'precious', 'recommending', 'injury', 'funding', '1mg', 'focuses', 'anxiety', 'comp', 'named', 'witches', 'nonallergy', 'acute', 'barged', 'resemblance', 'patriarchy', 'citrus', 'baptized', 'sort', 'boyfriends', 'remindme', 'iunno', 'habsflames', 'scraps', 'rny', 'farewell', 'unregulated', 'unhappy', 'only', 'shitlord', 'communities', 'funeral', 'grain', 'whereabouts', 'pseudo', 'crimes', 'ida', 'stopping', 'malicious', 'toxic', 'demograohic', 'ˈbɪɡət', 'side', 'referendum', 'yesss', 'increasingly', 'fellows', 'scum', 'fort', 'forces', 'improves', 'ive', 'approached', 'new', 'destroying', 'infants', 'sophomores', 'grilled', 'barbecue', 'tennis', 'hence', 'quarry', 'cesspool', 'retreats', 'artistic', 'hipsters', 'vancomycin', 'pullover', 'adult', 'justifying', 'test', 'guysndont', 'chilli', 'endall', 'feints', 'turnover', 'sending', 'pancreatic', 'blitz', 'desearved', 'traumatised', 'methodology', 'glancing', 'hangovers', 'fighters', 'patients', 'confronting', 'brings', 'immediate', 'membership', 'bunny', 'poss', 'endorsing', 'counts', 'embedded', 'vaccines', 'ireland', 'knooooow', 'cleric', 'fingernail', 'share', 'chemicals', 'valley', 'whachu', 'blech', 'site', 'festival', 'aspirin', 'lolicon', 'chipped', 'peanuts', 'cramps', 'popsicles', '22lr', 'seeious', 'wall', 'huges', 'chrt', 'oscars', 'mistruths', 'step', 'salmonblue', 'testing', 'captioning', 'yates', 'presume', 'regulations', 'dril', 'laying', 'spellings', 'derailing', 'irony', 'ammo', 'ffa', 'unclear', 'carsons', 'mauve', 'authentic', 'devo', 'insufferability', 'labeled', 'candlestick', 'spelled', 'attachment', 'disproportionately', 'priority', 'thankful', '442', 'gamer', 'path', 'antiabortion', 'ethtrader', 'anecdotes', 'oils', 'disorders', 'pressed', 'swt', 'plates', 'bds', 'scissor', 'surrounding', 'volibear', 'train', 'espousing', 'belligerent', 'dodgeball', 'clotting', 'escrow', 'loneliness', 'aaaaaaaaaaaaand', 'degenerate', 'clutching', 'workplace', '55', 'hers', 'kinky', 'wow', 'rubbed', '5k', 'reruns', 'shield', 'upvoted', 'believe', 'affair', '20something', 'brilliant', 'pnr', 'reminded', 'remarkable', 'optimism', 'weapon', 'templates', 'wildlife', 'tooth', 'chuds', 'tightly', 'swear', 'champ', 'freesyinc', 'mesmer', 'teemo', 'brooklyn', 'beneficial', 'pleasure', 'alternate', 'overworked', 'osteomyelitis', 'supplanted', '52k', 'legends', 'sense', 'canine', 'oldfashioned', 'cushion', 'ppr', 'humour', 'schmucks', '查清', 'proactive', 'tame', 'muted', 'nk', 'sniff', 'dev', 'specially', 'practicing', 'foolishness', 'nonsweeps', 'woes', 'revel', 'foden', 'houseguest', 't2', 'necessary', 'nukes', 'freaked', 'y2k', 'verry', 'longterm', 'nascar', 'inexplicably', 'probe', 'wish', 'definitively', 'wat', 'raccoon', 'madness', 'tuesdays', 'happily', 'stealthy', 'appreciates', '15', 'checkmate', 'invisible', 'recognizing', 'incendiary', 'chai', 'breach', 'fee', 'endies', 'freaking', 'regarding', 'bean', 'childless', 'sherriff', 'quadrants', 'renamed', 'surely', 'skipped', 'gene', 'conversely', 'threshold', 'hokey', 'wwhat', '1999', '80s', '300', 'booth', 'munchkin', 'bitchmade', 'misled', 'wonderlic', 'unconfirmed', 'turbo', 'regret', 'bust', 'posed', 'laogai', 'oclock', 'stench', 'save', 'thesame', 'blameless', 'barbarian', 'berto', 'immobility', 'faceless', 'kaskade', 'advisor', 'sayso', 'safest', 'punpatrol', 'gots', 'funniest', 'atheist', 'sirvortivask', 'rack', 'pesky', 'gollum', 'internal', 'subvert', 'insanity', 'condescending', 'square', 'predicament', 'stalker', 'godlike', 'moma', 'rile', 'misread', 'koons', 'wooah', 'houses', 'regaining', 'ceases', '5aav', 'ndp', 'asleep', 'shames', 'thinner', 'deffo', 'addicted', 'soviets', 'magazine', 'chiefs', 'pleasantly', 'intrigued', 'hippo', 'usable', 'twobestfriendsplay', 'halfwaythrough', 'donkeys', 'below', 'nowhere', 'others', 'purse', 'early', 'ps', 'derpy', 'pa', 'mildlyinterestings', 'protect', 'gestures', 'eww', 'backyard', 'paws', 'np', 'favored', 'statute', 'deploying', 'sacrifices', 'disregarded', 'novel', '13th', 'recommendation', 'nandos', 'indignation', 'liar', 'bacterial', '3more', 'loved', 'hmm', 'cegep', 'presumably', 'dog', 'infested', 'inches', 'buckaroo', 'witty', 'idaho', 'leftists', 'salty', 'arvos', 'tlj', 'wanting', 'wetv', 'nw', 'positions', 'sexual', 'chá', 'classiclibs', 'nascarist', 'dawg', 'rly', 'presenter', 'orisa', 'chibi', 'refrigerators', 'epoxy', 'september', 'respect', 'repairable', 'balanced', 'luckiest', 'therere', 'harden', 'emo', 'fruitless', 'shreds', 'melatonin', 'ignorant', 'race', 'literaly', 'conspiracy', 'lame', 'underlined', 'willy', 'populism', 'mmorpg', 'backbone', 'perfume', 'ptsd', 'utterly', '72hrs', 'tasty', 'experienced', 'herd', 'welder', 'vaping', 'grats', 'changer', 'friggin', 'aid', 'lizard', 'church', 'priest', 'blasts', 'cruz', 'stupidly', 'factories', 'mn', 'promos', 'code', 'flammable', 'awaits', 'circlejerk', 'rodsmen', 'mild', 'anticlotting', 'luring', 'deodorant', '49ers', 'chapter', 'taurus', 'charger', 'fulfill', 'petulant', 'reinforces', 'bettering', 'chalk', 'tolders', 'misspoke', '970', 'scumbag', 'highlights', 'bout', 'elsagate', 'rummages', 'dumbledoor', 'pot', 'reacted', 'hospital', 'grandpa', 'eeew', 'mics', 'announcing', 'unwelcome', 'trant', 'supporter', 'wonderful', 'hole', 'legislative', 'daytona', 'pinecones', 'packets', 'backseat', 'naughty', 'effects', 'baseball', 'x45', 'latency', 'tape', 'visions', 'glitched', 'grated', 'existing', 'embracing', 'smurfs', 'futurescope', 'cross', 'faith', '2fer', 'over', 'editorialized', 'stagger', 'shitposts', 'danced', 'oates', 'rude', 'astute', 'beggar', 'blades', 'accident', 'bulls', 'rambo', 'yankee', 'buyer', 'reintegrated', 'canal', 'prisoners', 'compared', 'redirect', 'sicknesses', 'demonic', 'short', 'pornstars', '30mm', 'clench', 'fivepointed', 'apa', 'escalate', 'utica', 'pettiness', 'breakup', 'scam', 'arges', 'sweatpants', 'infinite', 'masked', 'rector', 'deteriorating', 'condemnation', 'boyo', 'pigeoness', 'gallons', 'perennial', 'prophesies', 'ar10', 'template', 'blend', 'camo', 'embarrassingly', 'squirming', 'yours', 'gunchucks', 'codes', 'heroin', 'weasle', 'miami', 'port', 'huggles', 'mains', 'hierarchy', 'brodie', 'adjectives', 'dear', 'pushit', 'imitated', 'machine', 'impeding', 'rob', 'clog', 'james', 'fluoro', 'traumatized', 'alleged', 'aggressor', 'sitting', 'ringed', 'mortis', 'nude', 'boredom', 'brain', 'skys', 'ultimative', 'downright', 'indestructible', 'shadowbanned', 'confront', 'cakes', 'scrolly', 'dread', 'dismiss', 'momentum', 'slytherin', 'angie', 't5ttt2', 'lube', 'approved', 'arts', 'oven', 'improving', 'guilty', 'good', 'retirement', 'wherever', 'tired', 'weezer', 'motivating', 'balloon', 'soul', 'incremental', 'fortify', 'punk', 'mattress', 'misunderstand', 'azul', 'raws', 'borrows', 'looses', 'boosted', 'rescue', 'castle', 'stickshift', 'heavily', 'water', 'airing', 'astonishing', 'hamberders', 'mgoodboy', 'pane', 'preference', 'reaaaaally', 'return', 'excusable', 'ijenny', 'paramter', 'disrespected', 'boomhauer', 'skelebuddy', 'belittle', 'panhandlers', 'kiwis', '1', 'lightening', 'rebounds', 'meatfree', 'testament', 'smurfing', 'backlash', 'currently', 'child', 'flair', 'ups', 'sese', 'pdf', 'fly', 'tempered', 'esplanade', 'jeans', 'alley', 'repainted', 'huntington', 'doomfist', 'ipart', 'manipulation', 'intelligence', 'squeeze', 'breakaways', 'twist', 'ngos', 'invest', 'idiocy', 'hallways', 'yesterday', 'atbge', 'refer', 'allowing', 'groan', 'socialists', 'forms', 'overturn', 'fleeing', 'superstar', 'firework', 'tomatoes', 'taunt', 'africa', 'murderous', 'talk', 'statist', 'afters', 'coincidence', 'demisexual', 'clemency', 'papa', 'prisoner', 'ratings', 'objection', 'defined', 'brilliance', 'bournemouth', 'napoli', 'honorary', 'implied', 'demolition', 'chirotown', 'nitwit', 'spawn', 'swore', 'snowflake', '63', 'icels', 'reconnect', 'columbine', 'carb', 'rafters', 'complicated', 'horsie', 'problemo', 'nea', 'onebridgehavin', 'napalm', 'timmy', 'doses', 'defibs', 'hiya', 'orleans', 'fountain', 'chia', 'terrified', 'bolts', 'smallpox', 'photoshoot', 'oncourt', 'pubic', 'nop', 'favorites', 'network', 'hairy', 'tm', 'raking', 'skirts', 'zoe', 'interestingly', 'porzingod', 'hibernate', 'rakes', 'village', 'mills', 'fethish', 'boys', 'establishing', 'invincibility', 'threaten', 'parroting', 'drastic', 'moderates', 'fonts', 'outa', 'therapist', 'selfdeprecatinghumor', 'breadline', 'ruis', 'tilt', 'flyover', 'cigarette', 'psu', 'squirrel', '1970s', 'wagga', 'tfw', 'scribbled', 'considering', 'ncaaw', 'arthouse', 'inject', 'spotted', 'intense', 'bdn', 'bled', '2x', 'nephew', 'subnautica', 'contraindication', 'nkeal', 'figure', 'sets', 'damit', 'glove', 'dads', 'devientart', 'coups', 'flagstaff', 'plasma', 'sec', 'buried', 'femshaming', 'globalists', 'ri', 'm8', 'battles', 'mousepire', 'sodas', 'bucharest', 'order', 'unintended', 'clumsy', 'bentley', 'erected', 'stabilize', 'woodwork', 'damce', '15c', 'receipt', 'beaches', 'beside', 'announcement', 'chic', 'betas', 'whoever', 'hahahahahahaha', 'npc', 'supplicant', 'ahaha', 'circumstance', 'pocket', 'pusher', 'memes', 'sparse', 'mebtally', 'numerous', 'cpusa', 'strung', 'cheekbones', 'lonely', 'limber', 'stadium', 'roshi', 'weight', 'pregnant', 'swift', 'yellowstone', 'wya', 'credit', 'project', 'fatness', 'yrs', 'detergent', 'symbol', 'drags', 'khan', 'cwl', 'chair', 'arbitration', 'baba', 'prize', 'laop', 'smear', 'british', 'bodyshaming', 'resemble', 'meeeeeeeee', 'legislatively', 'stasis', 'reveled', 'instantly', 'alive', 'erection', 'intrinsically', 'guanxi', 'performance', 'inform', 'democrats', 'morally', 'agreement', 'glimpses', 'palpatines', 'regressive', 'relapsed', 'recruits', 'pitchforks', 'skinnier', 'justify', 'chicks', 'mgm', 'himiko', 'lodged', 'lucky', 'sospaha', 'biscuit', 'screenshots', 'psychologically', 'sweatie', 'uboat', 'imbecile', 'suckle', 'prefers', 'sawed', 'cherokee', 'spin', 'leader', 'eastern', 'provides', 'parole', 'uh', 'dsm', 'q12q70', 'charity', 'darkness', 'wears', 'introduced', 'noodles', 'decides', 'cringed', 'fuckboi', 'senate', '400ms', 'allegedly', 'core', 'sc00by', 'hotter', 'absolutes', 'intermission', 'junior', 'cheapskate', '3rds', 'operational', 'molecular', 'harassed', 'multiplication', 'shown', 'commie', 'retreat', 'kentucky', 'vertebrates', 'butchers', 'roar', 'ninety', 'antsy', 'pooch', 'cubas', 'worn', 'metaphors', 'corner', 'guardian', 'cla', 'pube', 'durr', 'reframe', 'occulted', 'cook', 'generalized', 'distracted', 'adc', 'conditioning', 'immerse', 'python2', 'innit', 'subbanator', 'bruins', 'reckon', 'risk', 'pickling', 'debateable', 'krazym', 'outthey', 'rosters', 'mold', 'option', 'privileges', 'think', 'thousand', 'instead', 'minecraft', 'jupiter', 'jackknife', 'chuckle', 'menace', 'set', 'instability', 'ukpol', 'sneak', 'concepts', 'checkout', 'rounding', 'caters', 'repostis', 'piracy', 'epcor', 'silicone', 'gilette', 'continuous', 'detract', 'sequence', 'setting', 'homeland', 'women', 'investment', 'profoundly', 'brawl', 'bracket', 'anarchocapitalism', 'steamed', 'masjid', 'klingon', 'imminent', 'sole', 'reliant', 'brasileiro', 'worrying', 'rappees', 'function', 'randalls', 'disturbance', 'header', 'slade', 'avengers', 'hygienic', 'messed', 'hanging', 'margins', 'carted', 'boos', 'api', 'snooping', 'watches', 'flame', 'licence', '400', 'alien', 'secure', 'enchanted', 'intellectually', 'meatball', 'following', 'hallelujah', 'deficiency', 'whelmed', 'interception', 'drawers', 'dood', 'ignored', 'inconvenient', 'personal', 'unsuspecting', 'forbid', 'initiative', 'proposed', 'deliver', 'gunfight', 'relationship', 'cartridge', 'spammers', 'registering', 'leverage', 'gorgon', 'fleshconsuming', 'venetian', 'bikini', 'official', 'addisons', 'expensive', 'rupaul', 'ptr', 'protecting', 'matchup', 'panicking', 'done', 'vilifies', 'adoption', 'lever', 'criticised', 'impractical', 'distributed', 'razors', 'coaster', 'musicals', 'lockins', 'cracker', 'ladders', 'cornwall', 'weirdness', '2014', 'damaging', '1823', 'nul', 'crossfire', 'nature', 'xx', 'strategies', 'developing', 'releasing', 'fking', 'eros', 'congressman', 'denied', 'reliably', 'deaths', '14', 'cuts', 'poorlytrained', 'fakenews', 'epa', 'naïve', 'obligation', 'poes', 'losing', 'discounts', 'scientist', 'volunteer', 'mo', 'tortured', 's11', 'grossed', 'destructive', 'waist', 'euro', 'retain', 'tard', 'legacy', 'unreal', 'whatd', 'wyoming', 'likes', 'grant', 'subhuman', 'neato', 'off', 'resounding', 'cordovan', 'sickening', 'supermodel', 'mapgen', 'muthafuckah', 'trained', 'parse', 'woulda', '64', 'jobadvice', 'volume', 'prejudice', 'loot', 'cooking', 'naa', 'okra', 'israel', 'exaggeration', 'louder', 'unsubscribed', 'simultaneously', 'worm', 'rdx', 'rituals', 'mermaids', 'infatuated', 'specialists', 'plow', 'instance', 'dunk', 'abusers', 'agreed', 'opinion', 'reinvent', 'toplaner', 'shamelessly', 'sly', 'u', 'dtr', 'aimlessly', 'mates', 'importantly', 'gram', 'switzerland', 'milk', 'deal', 'metro', 'millennials', 'nutritional', 'boggle', 'grandchild', 'introduce', 'lakeshore', 'shinny', 'geolibertarianism', 'comfort', 'origins', 'directors', 'prosecution', 'waste', 'lisburn', 'lining', 'ankles', 'rule', '10x', 'alerted', 'warning', 'ritual', '30s', 'swedish', 'trouser', 'sternum', 'billionaires', 'endearing', 'dinged', 'hikes', 'hugging', 'blackhawks', 'easy', 'complexion', 'shifty', '1b', 'ewgh', 'sugar', 'dispensers', 'stems', 'subsist', 'catagory', 'macaroni', 'throats', 'nope', 'shines', 'pregame', 'coned', 'metaphor', 'porgs', 'oliver', 'tour', 'demonstration', 'symptoms', 'thighs', 'grubs', 'holiday', 'cardinals', 'conundrum', 'surrender', 'goblin', 'vapor', 'xo', 'natty', 'wauw', 'cmon', 'probably', 'trickster', 'prudishness', 'sinus', 'fanfavorite', 'fukkin', 'rest', 'stepping', '4now', 'connections', 'imgur', 'jabbing', 'standstill', 'lit', 'predictable', 'sorosbux', 'tapswallow', 'xans', 'apologize', 'contacts', 'miscarriage', 'oppose', 'respecting', 'loan', 'cheddar', 'pb', 'hiphop', 'rests', 'manafacturing', 'surrogates', 'resolved', 'mantis', 'i7', 'coinbase', 'badass', 'renovate', 'biometrics', 'tsas', 'toilets', 'lunatic', 'sock', 'actally', 'limo', 'disgrace', 'undertale', 'rugby', 'bursts', 'reincarnation', 'printed', 'contributes', 'vr', 'porno', 'modern', 'spalding', 'carousel', 'hun', 'rhythmic', 'creation', 'recitation', 'scrum', 'unfollowing', 'tots', 'means', 'morton', 'stamp', 'therapies', 'damned', 'abandonment', 'meh', 'wordperfect', 'redirected', 'ambitious', 'misunderstood', 'brooms', 'dindu', 'shuffle', 'asia', 'missions', 'sept', 'snapchats', 'pineapple', 'cobbler', 'alarmed', 'graduated', 'knight', 'scuba', 'spool', 'fanboy', 'yea', 'legitimately', 'anoying', 'tucson', 'semis', 'ingest', 'centralization', 'tan', 'capitalists', 'barrel', 'towel', 'fucken', 'tabloid', 'denomination', 'reinstatement', 'zim', 'olicityheavy', 'potent', 'monopolies', 'mauston', 'pancakes', 'shaking', 'mutated', 'tp', 'necrophilia', 'alfbrushjansbysy', 'whiffed', 'verrrrry', '60s', 'quietly', 'batting', 'globally', 'obsessed', 'reused', '46', 'eats', 'ahl', 'madridista', 'ontario', 'jobless', 'beatable', 'quivering', 'musical', 'cathedral', 'ohip', 'organization', 'lab', 'thermal', 'waitress', 'include', 'gunless', 'needle', 'afl', 'runs', 'exit', 'clickbait', 'sled', 'weapons', 'instinctively', 'empty', 'soaring', 'blacklist', 'promising', 'radius', 'captured', 'footsteps', 'dsa', '68', 'drunk', 'worker', 'forfeits', 'plastic', 'understand', 'favorite', 'pc', '30ish', 'uggoness', 'dicky', 'smokin', 'expense', 'suspected', 'brutus', 'learning', 'penetrated', 'wabi', 'qbs', 'wifi', 'much', 'keeper', 'richardson', 'comfortably', 'synopsis', 'jeez', 'aimheros', 'bisexual', 'infighting', 'lambasted', 'hit', 'explain', 'century', 'trading', 'debt', 'elsewhere', 'cane', 'punches', 'kidnapped', 'stans', 'dissect', 'yr', 'despacito', 'sleazy', 'comically', 'mexicare', 'shifted', 'due', 'labour', 'horrors', 'litre', 'moonwolf1799', 'michigan', '34', 'dichotomy', 'performing', 'goodmeme', 'govt', 'overrated', 'leggings', 'bleakness', 'ltd', 'plastique', 'feuding', 'front', 'meowboys', 'oc', 'clip', 'kneejerk', 'escaping', 'sta', 'buffaslug', 'peppers', 'suck', 'poly', 'initiated', 'daughter', 'click', 'inclined', 'bulge', 'societies', 'peaceful', 'dye', 'sjw', 'feelins', 'hut', 'customizable', 'borrow', 'research', 'expertise', 'owes', 'shopping', 'reverend', 'soaked', 'coerced', 'not', '1911', 'scepter', 'drawing', 'argued', 'diva', 'penis', 'downvotes', 'skates', 'origin', 'normal', 'narcissist', 'dor', 'algeria', 'former', 'minute', 'nts', 'northerners', 'everywhere', 'van', 'ala', 'combover', '2012', 'dismantling', 'immensely', 'lake', 'diploma', 'felt', 'titanium', 'sooooooooo', 'iowas', 'sperm', 'defended', 'ejection', 'conductor', 'tbf', 'campuses', 'coverage', 'journalistic', 'perimeter', 'streamer', 'clinic', 'tonic', 'myself', 'diabetic', 'physically', 'charts', 'head', 'pricks', 'prompted', 'electronic', 'dpts', 'judo', 'dongs', 'mor', 'cools', 'whos', 'shut', 'fastest', 'eòrapaidh', '2nd', 'diabolic', 'layers', 'hamsad', 'novelty', 'succinct', 'collarbone', 'toward', 'ʖ', 'mod', 'invit', 'stones', 'jet', 'retard', 'part', 'lebronlover23', 'proudest', 'lice', '16', 'presidency', '30yo', 'matcha', 'ptv', '62', 'terminal', 'im', 'aimed', 'deeper', 'hog', 'gt', '50', 'swishy', 'genes', 'corn', 'strongest', 'speak', 'penguin', 'convo', 'stroll', 'overtaking', 'repulsive', 'antivacs', 'diarrhoea', 'bucca', 'shade', 'bromance', 'mia', 'blacked', 'pikachu', 'hotspots', 'frack', 'chub', 'counted', 'urge', 'soundboard', 'mumbling', 'gotcha', 'pearl', 'ballsy', 'unfortunately', 'provincial', 'genitals', 'youtubes', 'infrastructure', 'depresses', 'homophobia', 'definelty', 'erotica', 'sheet', 'shooooulderrrrr', 'hl', 'gosples', 'orient', 'breathers', 'corrections', 'headaches', 'afford', '666', 'compare', 'mustve', 'voldo', 'vans', 'definitely', 'fanfare', 'aks', 'grass', 'someplace', 'reserved', 'fry', 'prior', 'dystopia', 'liberty', 'lamp', 'resources', 'adaptor', 'divorce', 'dodges', 'globe', 'chained', 'polio', 'justice', 'reproach', 'rian', 'esports', 'troop', 'tracks', 'donagal', 'usage', 'offends', 'different', 'cfa', 'autocorrect', 'eviction', 'alluded', 'tsundere', 'depressing', 'riddance', 'packaged', 'endless', '9999', 'materials', 'immersion', 'fixated', 'hampton', 'russiagate', 'probs', 'computer', 'ramp', 'chees', 'dot', 'fortnitecompetitive', 'recast', 'cameras', 'repairing', 'updooted', 'hoooome', 'philosophies', 'usc', 'dislikes', 'caster', 'tortillas', 'annoy', 'men', 'ooooonnn', 'unexpected', 'betabux', 'lactose', 'ssbbw', 'destressing', '190', 'geopolitics', 'ahh', 'mras', 'uselessness', 'orientations', 'cinders', 'motte', 'callout', 'bff', 'draft', 'diatomaceous', 'mvp', 'inability', 'soil', 'dinein', 'await', 'awil', 'bedbound', 'touching', 'sufficient', 'murdered', 'chefs', '1625', 'smoked', 'jerkfaces', 'haircuts', 'chet', 'guarding', 'discriminated', 'megalophobic', 'fecking', 'sir', 'cold', 'squeezed', 'stuffed', 'filed', 'aimers', 'partners', 'possibly', 'concurring', 'womands', 'ucfs', 'pettier', 'pitbulls', 'partywolf', 'ctj', 'seeya', 'choose', 'iphone', 'pro', 'prowall', 'pics', 'pains', 'plo8', 'bold', 'canning', 'va', 'provax', 'undressing', 'historians', 'footnote', 'hindsight', 'onion', 'onethirdlife', 'predictably', 'cards', 'japan', 'prez', 'hockey', 'needless', 'attacked', 'xcept', 'facetious', 'mediocrity', 'personalities', 'premature', 'rapid', 'detroit', 'describe', 'xl', 'mushroom', 'outfielder', 'wheeled', 'excitement', 'mercenaries', 'roommates', 'honest', 'suns', 'whatapp', 'n', 'unbrainwash', 'phd', 'hours', 'returns', 'sissy', 'paint', 'mi', 'doohickey', 'sausage', 'accurate', 'rusty', 'interesting', 'balances', 'weplay', 'upliftingnews', 'sos', 'foodie', 'potstirring', 'whilst', 'sibling', 'emperor', 'four', 'opposed', 'hmo', 'assholery', 'sympathy', 'uoft', 'exhortation', 'centrism', 'prints', 'butterflies', 'sales', 'cyclones', 'honeslty', 'rounded', 'kicker', 'ninjas', 'ordered', 'edh', 'parent', 'sold', 'thrive', 'odds', 'signatures', 'denominations', 'mary', 'scream', 'painters', 'nuts', 'garam', 'primerica', 'city', 'bleh', 'handbook', 'paid', 'strain', 'hoodie', 'nutter', 'slender', 'assassin', 'wuz', 'term', 'tiniest', '39', 'eth', 'disturbed', 'dolly', 'creative', 'clutch', 'tweaks', 'amend', 'horrorthemed', 'closet', 'indisputable', 'balcony', 'disliked', 'threw', '53', 'places', 'anecdata', 'cheers', 'goggle', '7k', 'crus', 'muggings', 'artemis', 'registration', 'shocked', 'pens', 'users', 'outta', 'chickens', 'lineage', 'explqining', 'canceled', 'drinkwater', 'aw', 'compatibility', 'se', 'aaah', 'billboards', 'gi', 'absorb', 'gesture', 'appreciate', 'ukrainian', 'dipping', 'nooo', 'peeves', 'appointment', 'misuse', 'repent', 'reelected', '23rd', 'flyers', 'lables', 'greenspace', 'reopening', 'harmless', 'aubo', 'personality', 'rejuvenated', 'sb2', 'yheaaa', 'uniting', 'duke', 'weld', 'benefits', 'whoring', 'heartwarming', 'opens', 'lsu', 'tipped', 'representative', 'humorstically', 'sophomore', 'rogue', 'noun', 'excluded', 'yesyesyesyesmeh', 'is', 'spun', 'meowing', 'falcon', 'turtles', 'punching', 'damaged', 'dancing', 'emergencies', 'unfair', 'foreskin', 'okish', 'bless', 'terrifying', 'referred', 'prospect', 'buzzwords', 'ace', 'lengthy', 'blocks', 'log', 'iim', 'denying', 'receivers', 'yeahno', '48', 'hiking', 'skate', 'allows', 'treat', 'whale', 'grin', 'ornacia', 'reduction', 'farc', 'nothings', 'blah', '79k', 'earthquake', 'smacks', 'wotlk', 'mp', 'precisely', 'cheeky', 'ape', 'forty', 'happiest', 'summarise', 'stotts', 'plagued', 'mutual', 'shitstuation', 'straps', 'voicing', 'farted', 'teriyaki', 'moody', 'underpaid', 'enable', 'destination', 'initially', 'travelling', 'spaghettis', 'documents', 'vaccinate', 'seat', 'persist', 'attire', 'progresses', 'rpgs', 'awareness', 'selection', 'alot', 'expansión', 'evemtually', 'hymn', 'struggling', 'wire', 'selfinflicted', 'consensus', 'barca', 'italicize', 'ghostbusters', 'amarillo', 'seeing', 'knowingly', 'shutins', 'year', 'expanded', 'industry', 'wonderfulness', '33', 'ecstatic', 'rebirth', 'ceasar', 'amass', 'craziest', 'honking', 'information', 'longmont', 'conservatism', 'rounder', 'tenant', 'moderation', 'buffalos', 'dull', 'fourth', 'devoin', 'texas', 'quarterback', 'fallout', 'penn', 'snuggled', 'dragging', 'scamming', 'finishing', 'comparisons', 'anker', 'delay', 'runner', 'mummy', 'tougher', 'swapped', 'irresponsible', 'kpop', 'sparing', 'investigation', 'unblockables', 'intentions', 'farts', 'carter', 'clingy', 'transparent', '2k', 'dioxide', 'rockledge', 'plausible', 'coherent', 'opression', 'ffs', 'mikyoung', 'toes', 'clues', 'mtn', 'proved', 'wolf', 'batches', 'maravich', 'url', 'buy', 'spark', 'thesaurus', 'veteran', 'takeaway', 'realistically', 'pink', 'shaved', 'lifelong', 'hunters', 'involving', 'twenty', 'bookluvr83', 'aggressively', 'descriminate', 'equate', 'naive', 'nifty', 'eve', 'survival', 'subbredit', 'marketed', 'oxford', 'scandalous', 'markers', 'reclining', 'boneless', 'conquer', 'bahaha', 'clowney', 'libertarianism', 'servers', 'neet', 'trader', 'fool', 'wealthy', 'undone', '505', 'encouragement', 'postal', 'sends', 'fetishistic', 'helpful', 'habit', 'rocky', 'fetishist', 'probly', 'islamqa', 'craftsmanship', 'interested', 'utter', 'starcraft', '58ish', 'theyve', 'miners', 'feelings', 'birthday', 'sacrificed', 'rome', 'roasted', 'sustainable', 'lobsters', 'uni', 'arranged', 'pup', 'abbreviated', 'tboned', 'mornings', 'wooshing', 'willfully', 'dv', 'lecture', 'trivial', 'ago', 'mercury', 'genji', 'fortunes', 'fecker', 'visits', 'pm', 'gamethreads', 'many', 'saban', 'quoted', 'antimen', 'subscriber', 'cpu', 'attractive', 'tyre', 'lamar', 'motivations', 'dingy', '30mph', 'conference', 'laggy', 'sven', 'lowincome', 'slacks', 'arrows', 'motivational', 'therm', 'binders', 'sunsets', 'lines', 'bew', 'valor', 'neonazis', 'sport', 'quandong', 'imprisoned', 'paralyzed', 'wholeheartedly', 'degrading', 'edgy', 'animator', 'morons', 'randomly', 'zionism', 'brony', 'defend', 'msdn', 'teaming', 'logically', 'statistically', '5pm', 'aged', 'instramentals', 'dup', 'hockeymod', 'duels', 'noteworthy', 'traffic', 'nurks', 'called', 'monopoly', 'livelihood', 'annoyed', 'newspapers', 'mias', 'antilimb', 'absorbed', 'translates', 'emotionally', 'anyway', 'frosted', 'nonhateful', 'shook', 'flexible', 'maori', 'amusementparkshenanigans', 'contradictory', 'deeply', 'continued', 'gigantic', 'handjob', 'nos', 'ferrets', 'poo', 'shrek', 'omelette', 'suffice', 'cheapen', 'nonwhite', 'sons', 'while', 'daytime', 'indiana', 'paintings', 'rallying', 'judgemental', 'voluntarily', 'recieved', 'inalanon', 'familys', 'redhaired', 'lmfaoooo', 'goooo', 'traffickers', 'disciplined', 'childbirth', 'github', 'gaslit', 'innocuous', 'cleaners', '35k', 'graphic', 'distraught', 'plp', 'hamburger', 'aaahhhhhh', 'postshelf', 'pelicans', 'fond', 'believing', 'micklethwait', 'preferable', 'highpaying', 'intends', 'dividing', 'disinterested', 'knowing', 'hots', 'suits', 'sixteen', 'suburb', 'liberals', 'hitting', 'smacked', 'guage', 'scarfs', 'cali', 'cure', 'physician', 'regulars', 'vacant', 'glad', 'portfolio', 'fa', 'thresh', 'subscribing', 'grandma', 'stretching', 'jailor', 'german', 'documented', 'smite', 'constituency', 'thumb', 'corners', 'factions', 'herring', 'allllll', 'appoint', 'queens', 'monks', 'active', 'hooman', 'crazies', 'silenced', 'sliding', 'bill', 'scorer', 'grandparent', 'lied', 'griffin', 'dishonest', 'cleveland', 'shall', 'trippy', 'sob', 'waaat', 'insofar', 'treehouse', 'andromeda', 'create', 'spectacular', 'acrimony', 'eyeshield', 'concur', 'holes', 'msu', 'amiright', 'cashews', 'candles', 'replaces', 'bravorealhousewives', 'touche', 'dookie', 'polyamory', 'throttle', 'horse', 'migrant', 'mandated', 'comma', 'perfects', 'moonlight', 'dealt', 'shite', 'rb1', 'acc', 'windsor', 'virtual', 'pirated', 'lemmon', 'soggy', 'genocide', 'valet', 'zoomed', 'ratheists', 'zebra', 'gettin', 'counting', 'hack', 'center', 'tattoo', 'pkk', 'highend', 'fi', 'jewel', 'fox', 'south', 'lean', 'digestive', 'bodies', 'trains', 'amused', 'joined', 'colorado', 'forums', 'kingmaker', 'unfuckinbelievable', 'actually', 'bantz', 'unrighteous', 'someway', 'fruits', '07', 'opening', 'ached', 'coyotes', 'shapes', 'lawmakers', 'transport', 'salaries', 'gays', 'wastebasket', 'jumbo', 'downplaying', 'ignites', 'circle', 'backed', 'painter', 'throw', 'tickets', 'reign', 'variety', 'wrongdoing', 'slut', 'obscene', 'wr', 'scissors', 'overdose', 'barreling', 'ar3bt', 'holder', 'engaged', 'mascots', 'revolt', 'spelling', 'brunch', 'uz', 'coonhound', 'ice', 'legit', 'write', 'ralph', 'jackin', 'kitty', 'nosoulcels', 'criticizing', 'counsel', 'refugees', 'intersect', 'lolol', 'loudspeaker', 'fruit', 'rampant', 'specific', 'audibly', 'flaws', 'plus', 'comerade', 'recording', 'eeeeexcellent', 'incorrectly', 'wonders', 'slightly', 'giant', 'obgyn', 'clearcut', 'clips', 'proficient', 'gone', 'canned', 'dumpster', 'haaaaa', 'senior', 'rapistlike', 'rhapsody', 'town', 'advance', 'bronco', 'unrepresentative', 'according', 'capitol', 'temple', 'purdues', 'dealers', 'ranting', 'nice', 'perceive', 'broccoli', 'smoke', 'alicorn', 'sstaaaaahhhhpppp', 'grizzly', 'moist', 'rolling', 'underground', 'republics', 'stuns', 'cheaper', 'translations', 'bipod', 'mixed', 'roundtable', 'svu', 'cultivate', 'cummies', 'decreasing', 'seem', 'netflix', 'kev', 'dysfunction', 'fast', 'league', 'field', 'kovaaks', 'mic', '911', 'thisll', 'egregious', 'blackhawk', 'playtime', 'jello', 'poultry', 'imperfect', 'output', 'cheek', 'visuals', 'trespassing', 'overwatch', 'transaction', 'stuka', 'nontainted', 'uniform', 'fanfics', 'gdt', 'sire', 'shelling', 'judging', 'individually', 'jar', 'authoritarian', 'disorientating', 'region', 'minefield', 'entering', 'eggman', 'flooding', 'check', 'differ', 'eas', 'accomplish', 'compton', 'bottles', 'numbers', 'arent', 'neighbor', 'professionals', 'tadger', 'toast', 'recharge', 'rotfl', 'access', 'struggled', 'wsj', 'tea', 'nostalgic', 'negative', 'point', 'plaintiff', 'frankly', 'misleading', 'unwanted', 'capfriendly', 'hokage', 'mk11', 'homer', 'lanef', 'lbs', 'pressurize', 'states', 'extent', 'flat', 'orgs', 'however', 'shucks', 'venti', 'criticises', 'mockery', 'saddens', 'precu', 'crashed', 'rodents', 'separately', 'lawyer', 'themselves', 'superhero', 'bar', 'floored', 'activities', 'enemy', 'benches', 'reverted', 'charecter', 'libtard', 'ned', 'compromises', 'plankton', 'vbucks', 'mocking', 'neighbours', 'mandate', 'itching', '15mph', 'caveman', 'buckles', 'crossing', 'jokers', 'summarizes', '09', 'local', 'worldview', 'bags', 'captained', 'reads', 'reasona', 'unhappiness', 'alderman', 'grim', 'expressing', 'frequently', 'crossover', 'intercourse', 'burial', 'ew', 'methup', '20s', 'oily', 'prude', 'inflating', 'antipeterson', 'mmr', 'consulted', 'caring', 'inward', 'thieves', 'sleeps', 'displayed', 'doggo', 'counterparts', 'slugging', 'deliriously', 'damndest', 'faced', '7x04', 'crowd', 'murakami', 'dissociating', 'pitching', 'cheesy', 'progressively', 'filtered', 'itches', 'original', 'areshole', 'groups', 'rasty', 'wrongly', 'debut', 'integrity', 'subreddits', 'rambles', 'pasta', 'ghoulish', 'quiet', 'peculiar', 'graduates', 'quarters', 'settle', 'nonharmful', 'killed', 'prostitution', 'determination', 'response', 'v3', 'mercys', 'pisstaking', 'dmc2', 'with', 'gotta', 'netherlands', 'metahuman', 'pastes', 'restuarants', 'gauge', 'familymembers', 'ailments', 'femshep', 'wireshark', 'addressed', 'whatever', 'treats', 'masturbating', 'nfccg', 'exhaustion', 'threesome', 'fled', 'whaaa', 'batteries', 'flowing', 'mesh', 'hijab', 'eaaaaarth', 'versions', 'dawn', 'onehorned', 'execute', 'playlist', 'assassins', 'replacements', 'wipeboard', 'retort', 'gasp', 'tarp', 'mystery', 'shafted', 'sour', 'crass', 'whether', 'chump', 'monticello', 'malai', 'ahhhhhh', 'coordinated', 'pose', 'radom', 'murdering', 'trifling', 'haven', 'mighty', 'productive', 'tunnel', 'yeste', 'enjoy', 'depression', 'accomplished', 'anyones', 'pleasant', 'digitally', 'vardos', 'calabro', 'ooooofff', 'photoshopping', 'fries', 'roaming', 'haircut', 'backs', 'rbg', 'imperialist', 'funds', 'anything', 'ol', 'need', 'pretzel', 'protector', 'bisexuality', 'turtle', 'serverside', 'tuck', 'tailored', 'labeling', 'endeavors', 'dryer', 'bare', 'lawyers', 'industrial', 'dankmemes', 'classy', 'eyesight', 'departure', 'basics', 'storey', 'commute', 'snek', 'establishment', 'neglected', 'evaluate', 'wool', 'happier', 'seth', 'fleshlight', 'sd', 'vegetarian', 'period', 'claimants', 'undermined', '2006', 'db', 'motor', 'abbreviation', 'sulfur', 'childfree', 'empire', 'statue', 'rcas', 'borders', 'gospel', 'harasses', 'mmeeeee', 'schoolboy', 'gamerghazi', 'selfdeprecating', 'smash', 'twitter', 'tanking', 'checkup', 'parody', 'layerd', '100k', 'molecule', 'skins', 'considerably', 'lauder', 'deficit', 'wives', 'remember', 'rail', 'produces', 'assessment', 'ungrateful', 'tactics', 'rose', 'whew', 'cucked', 'gee', 'pareto', 'leaks', 'obtained', 'thrilled', 'metric', 'pastry', 'baloney', '5mins', 'metlife', 'septuplephd', 'halves', 'printing', 'caving', 'necrophiliac', 'napolean', 'rephrased', 'scattered', 'yo', 'ct', 'throne', 'junkrat', 'rustled', 'spiderman', 'counterfiring', 'repeated', 'shotty', 'noooo', 'throws', 'rusted', 'pre', 'malvern', 'courtesy', 'sham', '17', 'ok', 'polo', 'an', 'shangelas', 'censorship', 'grams', 'applied', 'indeed', 'infected', 'wiggs', 'iced', 'astronomy', '44', 'chem7', 'addresses', 'attitudes', 'blatant', 'offside', 'heart', 'clarifying', 'cancer', 'crypts', 'downloading', 'regularly', 'hownottousevar', 'chinook', 'protectionism', 'italian', 'sombra', 'def', 'rachel', 'oneself', 'connect', 'ssd', 'fifteen', 'dispatcher', 'printscreen', 'schlock', 'thanos', 'begin', 'answering', 'mommas', 'wordplay', 'auto', 'roadcam', 'items', 'todays', 'loose', 'bottom', 'nuce', 'verbs', 'mansion', 'aus', 'min', 'skinned', 'bpm', 'nibbas', 'bernadino', 'office', 'each', 'yakuza', 'gulp', 'hectic', 'sfists', 'essays', 'frames', 'easly', 'hotdogs', 'cpc', 'diablo', 'strawman', 'stays', 'bazooka', 'shovel', 'catch', '10001', 'lobe', 'clanging', 'scrims', 'grandson', 'mentioning', 'prototypical', 'pawnshop', 'tsa', 'entity', 'william', 'jousting', 'billy', 'principle', 'sued', 'uncaring', 'repaid', 'traverse', 'chest', 'bbq', 'torture', 'addictive', 'rump', 'unbearable', 'mlms', 'incident', 'occlusive', 'guarded', 'paddles', 'despite', 'mindblowing', 'dobt', 'hancock', 'cutthroat', 'garda', 'complaining', 'originated', 'chosen', 'blushes', 'camped', 'repossessed', 'valentines', 'psalm', 'hospitalised', 'menu', 'rwp', 'fuckyoukaren', 'affirmation', 'correctly', '65', 'valuation', 'treated', 'effect', 'croissants', 'underpriced', 'civilians', 'sr80e', 'crys', 'bitcoin', 'ankle', 'ran', 'aspects', 'hahahahahaha', 'soooooooooo', 'spidey', 'tpusa', 'fortitude', 'thanks', 'marlins', 'poppy', 'nominated', 'terrors', '1200', 'o', 'going', 'dandy', 'strippeddown', 'crimsix', 'thaaaaaat', 'jj', 'trumpet', 'tablet', 'intensifies', 'unfit', 'foxes', 'trouble', '3yr', 'lassie', 'imatotalpieceofshit', 'logged', 'attend', 'arguably', 'psyllium', 'architecture', 'cribs', 'gd', 'overvalues', 'armed', 'sucking', 'worrisome', 'nonbpd', 'cvs', 'cheerleader', 'appointing', 'stoked', 'today', 'shared', 'clergy', 'refreshing', 'discolored', 'crawls', 'monstrosity', 'mistress', 'loans', 'murmur', 'sometime', 'teddy', 'intelligent', 'voices', 'frame', 'gurl', 'cycled', 'baseman', 'unfollowed', 'yeaaaahhh', 'unreleased', 'climbing', 'returned', 'nerfed', 'lobbyist', 'responsibility', 'clowns', 'hatred', 'trumbul', 'afi', 'slang', 'carrot', 'thick', 'sudbury', 'stabbing', 'ham', 'extroverts', 'series', 'merits', 'store', 'pitch', 'fetlife', 'wrenching', 'predatory', 'binged', 'narrowly', 'ulster', 'issue', 'rational', 'backlog', 'lmaooo', 'convinced', 'stomped', 'led', 'hwo', 'prescribe', 'intergul', 'bodily', '90df', 'interpretation', 'inspires', 'peyton', 'waves', 'staining', 'asg', 'inception', 'timings', 'plutocracies', 'announcer', 'hb', 'vanity', 'savvy', 'appendages', '100years', 'buggers', 'oneyplays', 'trumpist', 'sobro', 'meltzer', '25x', 'narc', 'universally', 'beautifully', 'stable', 'breathe', 'forge', 'tolerable', 'ay', 'fanmade', 'pyd', 'shush', 'pets', 'review', 'collapse', 'xdd', 'warrior', 'fondness', 'offence', 'disturb', 'bingemas', 'filming', 'fabricated', 'flagged', 'highline', 'dayssssss', 'beings', 'babys', 'dislodge', 'ssp', '16ozs', 'punch', 'hmmmm', 'fuckkkkk', 'conqueror', 'fires', 'lynch', 'ra', 'scrunched', 'frend', 'times', 'comes', 'commited', 'stores', 'sufferer', 'buttnoodle', 'ashes', 'pansexual', 'marfeles', 'rockin', 'lateral', 'anarchy', 'procedure', 'papers', 'incompetence', 'terminology', 'culvers', 'chatty', 'contender', 'famous', 'humiliation', 'essential', 'braving', 'cringey', 'mastification', 'illustrator', 'diesel', '4g', 'hall', 'roommate', 'yell', 'furthest', 'crosspost', 'fuzzy', 'mountains', 'nicollet', 'ranges', 'fatalities', 'stormin', 'interchange', 'hollowed', 'bernout', 'nerds', 'make', 'swallowing', 'hitreg', 'olympics', 'bath', 'comings', 'tmor', 'tяump', 'milan', 'compensation', 'charge', 'ghrok', 'studded', 'otto', 'cowboys', 'models', 'concussion', 'dictatorship', 'avalanche', 'derp', 'arrogant', 'prolonged', 'rts', 'onside', 'pans', 'boost', 'chaox', 'repostcemetery', 'betray', 'assissted', 'rdr2', 'vskill', 'spends', 'fullstop', 'phytoestrogen', 'backpack', 'holders', 'minutiae', 'obvious', 'wastes', 'nbc', 'unnamed', 'menzingers', 'fuckstick', 'persona', 'rephrase', 'disapointed', 'relvant', 'mightve', 'hilariously', 'state', 'clothing', 'unselfish', 'mayhem', 'heaven', 'percentile', 'aunts', 'sushi', 'reps', 'isolated', 'nerd', 'flash', 'sized', 'watersports', 'quest', 'unbunch', 'chapel', 'surprised', 'coolest', 'mentalhealth', 'doink', 'signed', 'scope', 'lousy', 'agency', 'entps', 'pd35', 'unbelievable', 'capcom', 'fellowkids', 'steriods', 'yifi', 'necaxa', 'hardhomme', 'lawnmower', 'assert', 'lilhan2', 'bawlin', 'ermac', 'washed', 'swap', 'ever', 'national', 'dodger', 'unrepentant', 'manual', 'commentdujour', 'bother', 'candle', 'invasion', 'oceans', 'destruction', 'atrocity', 'himself', 'lous', 'breaks', 'meniscus', 'crossfit', 'psychicshattering', '1in', 'britsovcit', 'miner', 'indicating', 'puck', 'tofu', '1749485', 'drpepperphd', 'lacing', 'buffet', 'museums', 'haggard', 'subtlety', 'ma', 'illnesses', 'still', 'negotiate', 'listening', 'brim', 'kangaroo', 'hahahahahahahahaha', 'cost', 'normalized', 'dats', 'corrupt', 'selfflagellation', 'missing', 'indicate', 'salad', 'encounters', 'trusted', 'yeast', 'vp', '3s', 'mountaineering', 'attackers', 'impeached', 'distasteful', 'dat', 'butthurt', 'lauren', 'doorknob', 'diabolical', 'bpd', 'aj', 'scrapes', 'pinning', 'details', 'bnever', 'disclose', 'redesign', 'condom', 'remarks', 'bunnys', 'served', 'utis', 'truereddit', 'sensation', 'fertilize', 'maker', 'antitrump', 'fuel', 'observe', 'divekick', 'deregulate', 'hoist', 'trees', 'committed', 'ranks', 'yisrael', 'snoop', 'cuah', 'redzone', 'classconscious', 'nutjob', 'where', 'antisemitic', 'softer', 't4', 'lane', 'netflixs', 'licensure', 'july', 'connection', 'synagogue', 'france', 'conforming', 'yeeeet', 'tweeted', 'weekday', 'ults', 'footprint', 'ethereum', 'foster', 'beforehand', 'smiley', 'north', 'minister', 'hawks', 'paired', 'milquetoast', 'pelvic', 'wapo', 'frustration', 'constitutional', 'faucet', 'security', 'dlc2', 'trauma', 'intps', 'relationships', 'wome', 'maid', 'imax', 'manners', 'motto', 'swings', 'available', 'paraphrasing', 'eyeballing', 'tagged', 'poems', 'serve', 'zucker', 'organisation', 'defeatist', 'c', 'download', 'ahhhhh', 'powerlessness', 'compelling', 'viewing', 'creator', 'educations', 'fleece', '11th', 'searching', 'example', 'fork', 'verbally', 'non', 'banking', 'jokic', 'result', 'unwilling', 'rehab', 'baptist', 'demonstrated', 'checkers', 'wooooshes', 'neighborhood', 'resenting', 'offered', 'unsurprised', 'allh', 'phenomenon', 'absolution', 'nooooooooooooooooooooooooooooooooooooooooooooooooooooooooooooooo', 'inevitable', 'invaded', 'nonnoahide', 'landlord', 'idf', 'livioosa', 'sequel', 'hitchhiking', 'okogie', 'third', 'amazes', 'her', 'on', 'deservedly', 'base', 'responses', 'literally', 'resonates', 'unusual', 'fwiw', 'sweeping', 'squat', 'yeezys', 'stunt', 'unsettling', 'yeaaahhh', 'monsanto', 'sowed', 'responsability', 'nonserious', 'preamble', 'suicide', 'restoring', 'staking', 'snow', 'typo', 'guitar', 'digit', 'perspectives', 'pepper', 'dinner', 'odor', '200k', 'misinterpreting', 'mh', 'floss', 'hapas', 'gaydar', 'parenting', 'whats', 'bartered', 'contradict', 'foreground', 'villains', 'sinsegae', 'marketers', 'tighten', 'chants', 'brussels', 'lurking', 'sources', 'ratemes', 'horrifically', 'jerkoff', 'soulless', 'decade', 'slight', 'slavated', 'forcing', 'slept', 'drive', 'redstriped', 'poe', 'famer', 'debunk', 'mayhaps', 'credential', 'relaxed', 'lucrative', 'polite', 'closeminded', 'trumpdown', 'moveset', 'eugh', 'weirder', 'constructed', 'libtad', 'bonus', 'huurr', 'quarter', 'injuries', 'traversing', 'molesting', 'mentioned', 'bachelor', 'trendy', 'anime', 'select', 'hazard', 'team', 'attention', 'environment', 'vary', 'asf', 'question', 'versa', 'pitched', 'unhelpful', 'ethos', 'nona', '510', 'malfunction', 'started', 'studies', 'earths', 'allies', 'blanket', 'noncommittal', 'ohhhh', 'hunger', 'implies', 'broadcasting', 'disjointed', 'fade', 'maintenance', 'vastly', 'nnevada', 'edibles', 'bitten', 'heath', 'pushed', 'scrambled', 'tense', 'outro', 'mentality', 'secrecyenabled', 'costs', 'drunkenly', 'incel', 'blow', 'guyhe', 'nfp', 'place', 'actors', 'highball', 'terfcide', 'negatively', 'pork', '49', 'ox', 'tournaments', 'ingrowns', 'wurm', '12k', 'chewing', 'wouldst', 'tablets', 'kpins', 'tory', 'gatekeep', 'quicker', 'helped', 'aneurysm', 'longshot', 'female', 'accurately', 'slimmer', 'legitimize', 'clarified', 'payroll', 'tickety', 'interview', 'success', 'sobbing', 'unengaging', 'laced', 'husk', 'browse', 'conformity', '215', 'rammed', 'geezer', 'fcuk', 'range', 'sketch', 'franku', 'somone', 'paradox', 'treating', 'demonize', 'ah', 'testers', 'douches', 'segwit', 'retina', 'burrito', 'calling', 'skulls', '75', 'overlords', 'tons', 'perioded', 'direct', 'okaaaay', 'cheque', 'happinesses', 'whatchu', 'heh', 'dislocation', 'kittle', 'sil', 'premier', 'turnaround', 'thoroughly', 'poison', 'spoonbills', 'opponents', 'modem', 'paraded', 'unethical', 'pure', 'antibrussels', 'earn', 'tides', 'float', 'reigning', 'maledominated', 'yums', 'federation', 'node', 'butcher', 'ozil', 'hokay', 'earring', 'heal', 'movement', 'trashed', 'terrific', 'robinhood', 'headed', 'mint', 'retracts', 'infuriated', 'science', 'tantrumthrowing', 'assumed', 'idealogies', 'willingly', 'malfunctioned', 'soften', 'groudons', 'primarily', 'interact', 'commitment', 'delight', 'nuked', 'centrists', 'freely', 'madman', 'mating', 'pompous', 'shot', 'purely', 'responds', 'whod', 'realizing', 'discard', 'bathrooms', 'laziest', 'hominem', 'manipulate', 'waiters', 'tripped', 'googled', 'transphobe', 'passages', 'caustic', 'gb', 'faking', 'pig', 'lfg', 'masochism', 'cottage', 'glance', 'comforted', 'boogaloo', 'sane', 'immune', 'giggle', 'prevention', 'hecka', 'silly', 'inappropriate', 'furs', 'youngest', 'cologne', 'upfront', 'perception', 'coin', 'clockwork', 'perth', 'pin', 'corny', 'og', 'perfectly', 'cv', 'jane', 'goaltending', 'vacancies', 'learn', 'station', 'cigarettes', 'caressing', 'elbows', 'then', 'bells', 'mf', 'tng', 'accidental', 'pod', 'δ', 'guatemala', 'time', 'reunion', 'mb3', 'pathfinder', 'moral', 'alcs', 'entirely', 'circles', 'optimistic', 'ramps', 'melon', 'scurrying', 'arffice', 'techno', 'overhead', '5th', 'drowned', 'mineswept', 'involved', 'charlotsvile', 'smarter', 'overs', 'enters', 'dump', '1900', 'polarizing', 'useless', 'bandaging', 'poetry', 'reaping', 'often', 'payday', 'thatll', 'keeps', 'ck', 'conscious', 'young', 'weeabooenglish', 'handy', 'bio', 'earned', 'rely', 'ksana', 'carpaccio', 'theories', 'saltiest', 'gooner', 'mashing', 'forgotten', 'reaching', 'pill', 'munchausen', 'generationgapping', 'squad', 'faked', 'clawed', 'rad', 'govs', 'girls', 'braggable', 'insulated', 'highlighted', 'campus', 'deters', 'bama', 'coats', 'underwater', 'boobies', 'permit', 'has', 'puppies', 'attached', 'age', 'scotland', 'awake', 'clarity', 'outdoor', 'mummied', 'sarcastically', 'mouthed', 'sheltered', 'outwardly', 'screams', 'mc', 'mildly', 'tubes', 'goatta', 'purposes', 'giggling', 'sling', 'painlessly', 'championship', '4m'}\n"
          ]
        }
      ]
    },
    {
      "cell_type": "code",
      "source": [
        "# From set to list\n",
        "words_list = list(words)"
      ],
      "metadata": {
        "id": "k4NeqFlDUvKm"
      },
      "execution_count": 98,
      "outputs": []
    },
    {
      "cell_type": "code",
      "source": [
        "len(words_list)"
      ],
      "metadata": {
        "colab": {
          "base_uri": "https://localhost:8080/"
        },
        "id": "RJjIe1UEUw2-",
        "outputId": "28fd8973-d849-4aaf-d49d-23e7ca268e80"
      },
      "execution_count": 99,
      "outputs": [
        {
          "output_type": "execute_result",
          "data": {
            "text/plain": [
              "20150"
            ]
          },
          "metadata": {},
          "execution_count": 99
        }
      ]
    },
    {
      "cell_type": "code",
      "source": [
        "# List containing the count of each word in the training set\n",
        "counter = Counter(train_list)\n",
        "counts = [counter[w] for w in words_list]"
      ],
      "metadata": {
        "id": "k0VkMqzXU00m"
      },
      "execution_count": 100,
      "outputs": []
    },
    {
      "cell_type": "code",
      "source": [
        "import matplotlib.pyplot as plt \n",
        "plt.plot(sorted(counts)[::-1][:500])"
      ],
      "metadata": {
        "colab": {
          "base_uri": "https://localhost:8080/",
          "height": 282
        },
        "id": "OurYpyLCU7XG",
        "outputId": "bbea2ac5-9ddc-416a-a252-11b767fcde1a"
      },
      "execution_count": 101,
      "outputs": [
        {
          "output_type": "execute_result",
          "data": {
            "text/plain": [
              "[<matplotlib.lines.Line2D at 0x7f11aeb35850>]"
            ]
          },
          "metadata": {},
          "execution_count": 101
        },
        {
          "output_type": "display_data",
          "data": {
            "text/plain": [
              "<Figure size 432x288 with 1 Axes>"
            ],
            "image/png": "[encoded data removed]"
          },
          "metadata": {
            "needs_background": "light"
          }
        }
      ]
    },
    {
      "cell_type": "code",
      "source": [
        "# Restricting to only the first 500 most frequent words\n",
        "words_list_restr = [words_list[i] for i in np.argsort(counts)[::-1][:n_words_restr]]\n",
        "print(words_list_restr)"
      ],
      "metadata": {
        "colab": {
          "base_uri": "https://localhost:8080/"
        },
        "id": "STXscdNOVyoy",
        "outputId": "bf5c3be8-5696-4ac5-c166-2f2dd4a68e85"
      },
      "execution_count": 102,
      "outputs": [
        {
          "output_type": "stream",
          "name": "stdout",
          "text": [
            "['the', 'i', 'a', 'to', 'and', 'you', 'is', 'that', 'it', 'of', 'name', 'this', 'in', 'for', 'but', 'was', 'my', 'not', 'just', 'be', 'so', 'on', 'have', 'like', 'its', 'are', 'with', 'im', 'me', 'your', 'they', 'what', 'if', 'dont', 'he', 'at', 'thats', 'about', 'all', 'no', 'as', 'love', 'do', 'one', 'get', 'good', 'would', 'can', 'people', 'out', 'how', 'we', 'an', 'up', 'really', 'think', 'from', 'know', 'or', 'too', 'there', 'when', 'more', 'thanks', 'youre', 'now', 'them', 'she', 'lol', 'his', 'will', 'has', 'time', 'see', 'him', 'her', 'some', 'thank', 'who', 'well', 'because', 'still', 'why', 'much', 'even', 'had', 'go', 'their', 'were', 'only', 'right', 'oh', 'here', 'cant', 'got', 'didnt', 'than', 'been', 'did', 'then', 'by', 'being', 'want', 'way', 'never', 'hope', 'should', 'sorry', 'yeah', 'very', 'make', 'ive', 'man', 'great', 'back', 'better', 'hes', 'feel', 'bad', 'going', 'thing', 'could', 'actually', 'sure', 'also', 'same', 'need', 'doesnt', 'those', 'say', 'any', 'pretty', 'am', 'something', 'someone', 'other', 'game', 'yes', 'though', 'day', 'best', 'first', 'look', 'guy', 'off', 'thought', 'these', 'happy', 'after', 'always', 'mean', 'looks', 'take', 'us', 'most', 'makes', 'id', 'years', 'into', 'ill', 'over', 'maybe', 'isnt', 'year', 'work', 'our', 'probably', 'wow', 'before', 'made', 'down', 'does', 'said', 'glad', 'new', 'getting', 'nice', 'where', 'life', 'theyre', 'post', 'things', 'every', 'find', 'ever', 'damn', 'last', 'many', 'hate', 'keep', 'everyone', 'hard', 'dude', 'point', 'lot', 'fuck', 'wish', 'doing', 'try', 'help', 'old', 'anything', 'little', '2', 'least', 'give', 'wrong', 'real', 'fun', '3', 'nothing', 'stop', 'long', 'use', 'sounds', 'guys', 'read', 'anyone', 'haha', 'fucking', 'come', 'person', 'might', 'again', 'true', 'theres', 'around', 'seen', 'while', 'shit', 'tell', 'believe', 'comment', 'cool', 'which', 'play', 'trying', 'amazing', 'enough', 'money', 'sad', 'both', 'ok', 'please', 'since', 'guess', 'awesome', 'funny', 'sub', 'yourself', 'shes', 'such', 'kind', 'gonna', 'definitely', 'remember', 'weird', 'already', 'understand', 'wait', '1', 'put', 'seems', 'team', 'next', 'wouldnt', 'r', 'let', 'kids', 'luck', 'big', 'friend', 'until', 'wasnt', 'another', 'live', 'place', 'having', 'end', 'else', 'two', 'part', 'own', 'show', 'lmao', 'hear', 'through', 'world', 'looking', 'problem', 'watch', 'saying', 'few', 'ago', 'friends', 'exactly', 'either', 'interesting', 'making', 'must', 'care', 'video', 'hell', 'everything', 'happened', 'gets', 'agree', '5', 'call', 'wont', 'idea', 'job', 'literally', 'far', 'lets', 'left', 'joke', 'done', 'u', 'reason', 'without', 'times', 'away', 'bit', 'talking', 'whats', 'stupid', 'season', 'saw', 'used', 'surprised', 'favorite', 'went', 'honestly', 'absolutely', 'girl', 'imagine', 'yet', 'heard', 'against', 's', 'today', 'reddit', 'high', 'whole', 'change', 'almost', 'once', 'okay', 'ah', 'omg', 'home', 'women', 'talk', 'needs', 'kid', 'head', 'myself', 'arent', 'hey', 'face', 'mind', 'lost', 'second', 'enjoy', 'fact', 'less', 'worst', 'stuff', 'may', 'beautiful', 'crazy', 'school', 'poor', 'start', 'stay', 'days', 'different', 'op', 'story', 'havent', 'win', 'family', 'playing', 'terrible', 'news', 'super', 'thinking', 'came', 'sense', 'found', 'coming', 'cute', 'worse', 'kinda', 'feeling', 'miss', 'leave', 'top', '10', 'means', 'loved', 'wonder', 'fan', 'gotta', 'taking', 'hit', 'question', 'rather', 'free', 'check', 'feels', 'able', 'appreciate', 'sucks', 'men', 'wanted', 'woman', 'took', 'watching', 'fine', 'sometimes', 'youve', 'told', 'seem', 'seeing', 'ask', 'curious', 'run', 'happen', 'car', 'tho', 'using', 'totally', 'word', 'welcome', 'knew', 'matter', 'youll', 'games', 'week', 'baby', 'mom', 'support', 'night', 'sex', 'comments', 'couldnt', 'wants', 'months', 'cause', 'especially', 'food', 'kill', 'completely', 'ones', 'quite', 'full', 'god', 'dog', 'fight', 'religion', 'under', 'seriously', '4', 'rest', 'buy', 'goes', 'move', 'shot', 'horrible', 'movie', 'words', 'soon', 'dumb', 'together', 'says', 'hurt', 'realize', 'instead', 'each', 'pay', 'easy', 'players', 'sweet', 'fair', '6', 'awful', 'played', 'anymore', 'worth', 'called', 'alone', 'ya', 'started', 'deal', 'between', 'worry', 'edit', 'possible']\n"
          ]
        }
      ]
    },
    {
      "cell_type": "code",
      "source": [
        "# Set of all different possible words under consideration.\n",
        "# We are updating the previously computed set, keeping only the 500 most frequent words\n",
        "words = set(words_list_restr)"
      ],
      "metadata": {
        "id": "NcAKyDQUV00x"
      },
      "execution_count": 103,
      "outputs": []
    },
    {
      "cell_type": "code",
      "source": [
        "n_words= len(words)\n",
        "n_words"
      ],
      "metadata": {
        "colab": {
          "base_uri": "https://localhost:8080/"
        },
        "id": "gQqqS_RvV3Mj",
        "outputId": "9f0408ee-f3c6-4077-aa28-c32b94bf05c6"
      },
      "execution_count": 104,
      "outputs": [
        {
          "output_type": "execute_result",
          "data": {
            "text/plain": [
              "500"
            ]
          },
          "metadata": {},
          "execution_count": 104
        }
      ]
    },
    {
      "cell_type": "code",
      "source": [
        "# Each instance is a list of words\n",
        "x_test_words = x_test_p.map(lambda s: [w for w in s.split(' ') if w!=''])\n",
        "x_val_words = x_val_p.map(lambda s: [w for w in s.split(' ') if w!=''])"
      ],
      "metadata": {
        "id": "C5WNJMsfV5Ku"
      },
      "execution_count": 105,
      "outputs": []
    },
    {
      "cell_type": "code",
      "source": [
        "# Keeping only the 500 most frequent words.\n",
        "# Each instance is a string.\n",
        "x_train_p = x_train_words.map(lambda l: ' '.join([w for w in l if w in words]))\n",
        "x_test_p = x_test_words.map(lambda l: ' '.join([w for w in l if w in words]))\n",
        "x_val_p = x_val_words.map(lambda l: ' '.join([w for w in l if w in words]))"
      ],
      "metadata": {
        "id": "MFAP6iQqV69Q"
      },
      "execution_count": 106,
      "outputs": []
    },
    {
      "cell_type": "code",
      "source": [
        "x_train_p.iloc[1]"
      ],
      "metadata": {
        "colab": {
          "base_uri": "https://localhost:8080/",
          "height": 36
        },
        "id": "Pwz3PAMEWHKJ",
        "outputId": "8ba76095-e099-4391-b318-caa1d9ae647c"
      },
      "execution_count": 112,
      "outputs": [
        {
          "output_type": "execute_result",
          "data": {
            "text/plain": [
              "'now if he does off everyone will think hes having a with people instead of actually'"
            ],
            "application/vnd.google.colaboratory.intrinsic+json": {
              "type": "string"
            }
          },
          "metadata": {},
          "execution_count": 112
        }
      ]
    },
    {
      "cell_type": "code",
      "source": [
        "x_train.iloc[1]"
      ],
      "metadata": {
        "colab": {
          "base_uri": "https://localhost:8080/",
          "height": 36
        },
        "id": "eSIvKW2HWQKM",
        "outputId": "43293309-27b8-4936-d0fe-c71b12ec848e"
      },
      "execution_count": 111,
      "outputs": [
        {
          "output_type": "execute_result",
          "data": {
            "text/plain": [
              "'Now if he does off himself, everyone will think hes having a laugh screwing with people instead of actually dead'"
            ],
            "application/vnd.google.colaboratory.intrinsic+json": {
              "type": "string"
            }
          },
          "metadata": {},
          "execution_count": 111
        }
      ]
    },
    {
      "cell_type": "markdown",
      "source": [
        "## Vectorization"
      ],
      "metadata": {
        "id": "qig6LuPaS9Gn"
      }
    },
    {
      "cell_type": "code",
      "source": [
        "from tensorflow.keras.layers import TextVectorization"
      ],
      "metadata": {
        "id": "zSPlM6kkWb82"
      },
      "execution_count": 113,
      "outputs": []
    },
    {
      "cell_type": "code",
      "source": [
        "vectorizer = TextVectorization(standardize='lower_and_strip_punctuation', split='whitespace')"
      ],
      "metadata": {
        "id": "vIhrZTAtWdpr"
      },
      "execution_count": 114,
      "outputs": []
    },
    {
      "cell_type": "code",
      "source": [
        "vectorizer.adapt(x_train_p)"
      ],
      "metadata": {
        "id": "wig_1I5GWftO"
      },
      "execution_count": 115,
      "outputs": []
    },
    {
      "cell_type": "code",
      "source": [
        "print(x_train_p.shape)\n",
        "print(x_train_p[:5])"
      ],
      "metadata": {
        "colab": {
          "base_uri": "https://localhost:8080/"
        },
        "id": "hz0RYR2MWkBe",
        "outputId": "78c33634-77f7-4fdf-80c3-581fa4366803"
      },
      "execution_count": 116,
      "outputs": [
        {
          "output_type": "stream",
          "name": "stdout",
          "text": [
            "(24685,)\n",
            "0           my food is anything i didnt have to myself\n",
            "1    now if he does off everyone will think hes hav...\n",
            "2                                      why the fuck is\n",
            "3                                     to make her feel\n",
            "4                                                     \n",
            "Name: Text, dtype: object\n"
          ]
        }
      ]
    },
    {
      "cell_type": "code",
      "source": [
        "print(vectorizer(x_train_p).shape)\n",
        "print(vectorizer(x_train_p)[:5])"
      ],
      "metadata": {
        "colab": {
          "base_uri": "https://localhost:8080/"
        },
        "id": "s9liSu4lWlqd",
        "outputId": "065a260f-ba3e-4ffa-8510-32d048ddd2a5"
      },
      "execution_count": 117,
      "outputs": [
        {
          "output_type": "stream",
          "name": "stdout",
          "text": [
            "(24685, 27)\n",
            "tf.Tensor(\n",
            "[[ 17 447   8 205   3  98  25   4 355   0   0   0   0   0   0   0   0   0\n",
            "    0   0   0   0   0   0   0   0   0]\n",
            " [ 71  35  34 174 149 192  72  58 117 277   5  28  46 485  12 123   0   0\n",
            "    0   0   0   0   0   0   0   0   0]\n",
            " [ 84   2 191   8   0   0   0   0   0   0   0   0   0   0   0   0   0   0\n",
            "    0   0   0   0   0   0   0   0   0]\n",
            " [  4 112  67 119   0   0   0   0   0   0   0   0   0   0   0   0   0   0\n",
            "    0   0   0   0   0   0   0   0   0]\n",
            " [  0   0   0   0   0   0   0   0   0   0   0   0   0   0   0   0   0   0\n",
            "    0   0   0   0   0   0   0   0   0]], shape=(5, 27), dtype=int64)\n"
          ]
        }
      ]
    },
    {
      "cell_type": "markdown",
      "source": [
        "$27$ is the maximum number of words in a train sentence"
      ],
      "metadata": {
        "id": "dhWI-e8BXAms"
      }
    },
    {
      "cell_type": "code",
      "source": [
        "# New set of all possible words\n",
        "words = vectorizer.get_vocabulary()\n",
        "words[:5]"
      ],
      "metadata": {
        "colab": {
          "base_uri": "https://localhost:8080/"
        },
        "id": "aO5ITPjBWu9d",
        "outputId": "04ca1253-6d5e-46ae-d9be-74e19e66c840"
      },
      "execution_count": 119,
      "outputs": [
        {
          "output_type": "execute_result",
          "data": {
            "text/plain": [
              "['', '[UNK]', 'the', 'i', 'to']"
            ]
          },
          "metadata": {},
          "execution_count": 119
        }
      ]
    },
    {
      "cell_type": "code",
      "source": [
        "# This new set of all possible words is the same as before, wxcept for two additional fake words (one fake word is for the padding)\n",
        "n_words = len(words)\n",
        "n_words"
      ],
      "metadata": {
        "colab": {
          "base_uri": "https://localhost:8080/"
        },
        "id": "YoyTpdb8Wwpd",
        "outputId": "bdab79e7-799b-4502-fc96-415d14268e88"
      },
      "execution_count": 120,
      "outputs": [
        {
          "output_type": "execute_result",
          "data": {
            "text/plain": [
              "502"
            ]
          },
          "metadata": {},
          "execution_count": 120
        }
      ]
    },
    {
      "cell_type": "code",
      "source": [
        "# Dictionary, which maps words into the corresponding integers (i.e. indeces) \n",
        "word2index = dict((c, i) for i, c in enumerate(words))\n",
        "\n",
        "# Dictionary, which maps integers/indeces into the corresponding words \n",
        "index2word = dict((i, c) for i, c in enumerate(words))"
      ],
      "metadata": {
        "id": "Z3oMEavRWyi8"
      },
      "execution_count": 121,
      "outputs": []
    },
    {
      "cell_type": "code",
      "source": [
        "x_train_integers = vectorizer(x_train_p)"
      ],
      "metadata": {
        "id": "jsy_E9GkW6Wf"
      },
      "execution_count": 122,
      "outputs": []
    },
    {
      "cell_type": "code",
      "source": [
        "x_train_integers.shape"
      ],
      "metadata": {
        "colab": {
          "base_uri": "https://localhost:8080/"
        },
        "id": "Wl-puSP7W8R1",
        "outputId": "e1079ae0-45bd-47cf-b2ee-586b5c10ad28"
      },
      "execution_count": 123,
      "outputs": [
        {
          "output_type": "execute_result",
          "data": {
            "text/plain": [
              "TensorShape([24685, 27])"
            ]
          },
          "metadata": {},
          "execution_count": 123
        }
      ]
    },
    {
      "cell_type": "code",
      "source": [
        "# We transform also the test\n",
        "x_test_integers = vectorizer(x_test_p)\n",
        "x_test_integers.shape"
      ],
      "metadata": {
        "colab": {
          "base_uri": "https://localhost:8080/"
        },
        "id": "oZ7pWMyCXRsy",
        "outputId": "c9cb11a7-408a-4128-d706-3ec825431dfa"
      },
      "execution_count": 124,
      "outputs": [
        {
          "output_type": "execute_result",
          "data": {
            "text/plain": [
              "TensorShape([5427, 25])"
            ]
          },
          "metadata": {},
          "execution_count": 124
        }
      ]
    },
    {
      "cell_type": "code",
      "source": [
        "# We transform also the test\n",
        "x_val_integers = vectorizer(x_val_p)\n",
        "x_val_integers.shape"
      ],
      "metadata": {
        "colab": {
          "base_uri": "https://localhost:8080/"
        },
        "id": "f0VD2mgHkQve",
        "outputId": "ca98bc5a-f5ce-4c70-c90a-806a15e75460"
      },
      "execution_count": 125,
      "outputs": [
        {
          "output_type": "execute_result",
          "data": {
            "text/plain": [
              "TensorShape([5426, 26])"
            ]
          },
          "metadata": {},
          "execution_count": 125
        }
      ]
    },
    {
      "cell_type": "markdown",
      "source": [
        "### One-hot encoding"
      ],
      "metadata": {
        "id": "Khc9TAGBTL_Q"
      }
    },
    {
      "cell_type": "code",
      "source": [
        "# One-hot encoding the train set\n",
        "\n",
        "x_train_oneHot = np.zeros((x_train.shape[0], n_words))\n",
        "\n",
        "for i,v in enumerate(x_train_integers):\n",
        "  for w in v:\n",
        "    #print(w)\n",
        "    if w==0:\n",
        "      break\n",
        "    x_train_oneHot[i, w] = 1.0\n",
        "\n",
        "x_train_oneHot.shape"
      ],
      "metadata": {
        "colab": {
          "base_uri": "https://localhost:8080/"
        },
        "id": "gK6N2Kz7XZbz",
        "outputId": "4ec6c979-480a-472a-b1b3-dca45a07facd"
      },
      "execution_count": 127,
      "outputs": [
        {
          "output_type": "execute_result",
          "data": {
            "text/plain": [
              "(24685, 502)"
            ]
          },
          "metadata": {},
          "execution_count": 127
        }
      ]
    },
    {
      "cell_type": "code",
      "source": [
        "# One-hot encoding the test set\n",
        "\n",
        "x_test_oneHot = np.zeros((x_test.shape[0], n_words))\n",
        "\n",
        "for i,v in enumerate(x_test_integers):\n",
        "  for w in v:\n",
        "    #print(w)\n",
        "    if w==0:\n",
        "      break\n",
        "    x_test_oneHot[i, w] = 1.0\n",
        "\n",
        "x_test_oneHot.shape"
      ],
      "metadata": {
        "colab": {
          "base_uri": "https://localhost:8080/"
        },
        "id": "y3Ccm6s_X9sL",
        "outputId": "b4c112ad-66f6-4181-bfdf-5f28a0a9e6bd"
      },
      "execution_count": 128,
      "outputs": [
        {
          "output_type": "execute_result",
          "data": {
            "text/plain": [
              "(5427, 502)"
            ]
          },
          "metadata": {},
          "execution_count": 128
        }
      ]
    },
    {
      "cell_type": "code",
      "source": [
        "# One-hot encoding the val set\n",
        "\n",
        "x_val_oneHot = np.zeros((x_val.shape[0], n_words))\n",
        "\n",
        "for i,v in enumerate(x_val_integers):\n",
        "  for w in v:\n",
        "    #print(w)\n",
        "    if w==0:\n",
        "      break\n",
        "    x_val_oneHot[i, w] = 1.0\n",
        "\n",
        "x_val_oneHot.shape"
      ],
      "metadata": {
        "colab": {
          "base_uri": "https://localhost:8080/"
        },
        "id": "of9jFSHwX_sh",
        "outputId": "9f701ab2-fe31-4554-d05e-3dc4f4fca6c1"
      },
      "execution_count": 129,
      "outputs": [
        {
          "output_type": "execute_result",
          "data": {
            "text/plain": [
              "(5426, 502)"
            ]
          },
          "metadata": {},
          "execution_count": 129
        }
      ]
    },
    {
      "cell_type": "markdown",
      "source": [
        "## MODEL"
      ],
      "metadata": {
        "id": "o_vmGinZTQti"
      }
    },
    {
      "cell_type": "code",
      "source": [
        "from tensorflow.keras.layers import Input, Dense, Dropout\n",
        "from tensorflow.keras import Model"
      ],
      "metadata": {
        "id": "190cBWrhYSAR"
      },
      "execution_count": 130,
      "outputs": []
    },
    {
      "cell_type": "code",
      "source": [
        "xin = Input(shape=(n_words,))\n",
        "\n",
        "x = Dense(units=256, activation='relu')(xin)\n",
        "\n",
        "x = Dense(units=128, activation='relu')(x)\n",
        "\n",
        "x = Dense(units=64, activation='relu')(x)\n",
        "\n",
        "x = Dense(units=32, activation='relu')(x)\n",
        "\n",
        "x = Dense(units=16, activation='relu')(x)\n",
        "\n",
        "res = Dense(units=n_classes)(x)  # No activation\n",
        "\n",
        "model = Model(xin, res)"
      ],
      "metadata": {
        "id": "cqZ0YiNdYUiZ"
      },
      "execution_count": 131,
      "outputs": []
    },
    {
      "cell_type": "code",
      "source": [
        "model.summary()"
      ],
      "metadata": {
        "colab": {
          "base_uri": "https://localhost:8080/"
        },
        "id": "VxlWJ33_YlZD",
        "outputId": "c4b5eb43-1e7f-4aa0-a52a-422b5240cdef"
      },
      "execution_count": 132,
      "outputs": [
        {
          "output_type": "stream",
          "name": "stdout",
          "text": [
            "Model: \"model\"\n",
            "_________________________________________________________________\n",
            " Layer (type)                Output Shape              Param #   \n",
            "=================================================================\n",
            " input_1 (InputLayer)        [(None, 502)]             0         \n",
            "                                                                 \n",
            " dense (Dense)               (None, 256)               128768    \n",
            "                                                                 \n",
            " dense_1 (Dense)             (None, 128)               32896     \n",
            "                                                                 \n",
            " dense_2 (Dense)             (None, 64)                8256      \n",
            "                                                                 \n",
            " dense_3 (Dense)             (None, 32)                2080      \n",
            "                                                                 \n",
            " dense_4 (Dense)             (None, 16)                528       \n",
            "                                                                 \n",
            " dense_5 (Dense)             (None, 8)                 136       \n",
            "                                                                 \n",
            "=================================================================\n",
            "Total params: 172,664\n",
            "Trainable params: 172,664\n",
            "Non-trainable params: 0\n",
            "_________________________________________________________________\n"
          ]
        }
      ]
    },
    {
      "cell_type": "markdown",
      "source": [
        "## TRAINING"
      ],
      "metadata": {
        "id": "S90x4lqDTUCL"
      }
    },
    {
      "cell_type": "code",
      "source": [
        "from tensorflow.keras.optimizers import Adam \n",
        "from tensorflow.keras.losses import SparseCategoricalCrossentropy"
      ],
      "metadata": {
        "id": "kC2nYPJwYnv0"
      },
      "execution_count": 133,
      "outputs": []
    },
    {
      "cell_type": "code",
      "source": [
        "model.compile(optimizer=Adam(), loss=SparseCategoricalCrossentropy(from_logits=True), metrics=['accuracy'])"
      ],
      "metadata": {
        "id": "wkAWuLFDYtj2"
      },
      "execution_count": 134,
      "outputs": []
    },
    {
      "cell_type": "code",
      "source": [
        "hist = model.fit(x_train_oneHot, y_train, batch_size=128, epochs=15, validation_data=[x_val_oneHot, y_val])"
      ],
      "metadata": {
        "colab": {
          "base_uri": "https://localhost:8080/"
        },
        "id": "meT3WmXDYvSr",
        "outputId": "320a1c35-646e-4611-c4db-d6254c3d3a3a"
      },
      "execution_count": 135,
      "outputs": [
        {
          "output_type": "stream",
          "name": "stdout",
          "text": [
            "Epoch 1/15\n",
            "193/193 [==============================] - 4s 4ms/step - loss: 1.4289 - accuracy: 0.4534 - val_loss: 1.2555 - val_accuracy: 0.5380\n",
            "Epoch 2/15\n",
            "193/193 [==============================] - 1s 4ms/step - loss: 1.1878 - accuracy: 0.5684 - val_loss: 1.1899 - val_accuracy: 0.5708\n",
            "Epoch 3/15\n",
            "193/193 [==============================] - 1s 4ms/step - loss: 1.0772 - accuracy: 0.6138 - val_loss: 1.1944 - val_accuracy: 0.5698\n",
            "Epoch 4/15\n",
            "193/193 [==============================] - 1s 4ms/step - loss: 0.9536 - accuracy: 0.6651 - val_loss: 1.2605 - val_accuracy: 0.5452\n",
            "Epoch 5/15\n",
            "193/193 [==============================] - 1s 4ms/step - loss: 0.8038 - accuracy: 0.7217 - val_loss: 1.3598 - val_accuracy: 0.5481\n",
            "Epoch 6/15\n",
            "193/193 [==============================] - 1s 4ms/step - loss: 0.6417 - accuracy: 0.7812 - val_loss: 1.5255 - val_accuracy: 0.5398\n",
            "Epoch 7/15\n",
            "193/193 [==============================] - 1s 4ms/step - loss: 0.4947 - accuracy: 0.8346 - val_loss: 1.7874 - val_accuracy: 0.5229\n",
            "Epoch 8/15\n",
            "193/193 [==============================] - 1s 4ms/step - loss: 0.3874 - accuracy: 0.8755 - val_loss: 1.9731 - val_accuracy: 0.5162\n",
            "Epoch 9/15\n",
            "193/193 [==============================] - 1s 4ms/step - loss: 0.2907 - accuracy: 0.9072 - val_loss: 2.2839 - val_accuracy: 0.5072\n",
            "Epoch 10/15\n",
            "193/193 [==============================] - 1s 4ms/step - loss: 0.2464 - accuracy: 0.9213 - val_loss: 2.5373 - val_accuracy: 0.5061\n",
            "Epoch 11/15\n",
            "193/193 [==============================] - 1s 4ms/step - loss: 0.2072 - accuracy: 0.9330 - val_loss: 2.8216 - val_accuracy: 0.5055\n",
            "Epoch 12/15\n",
            "193/193 [==============================] - 1s 4ms/step - loss: 0.1819 - accuracy: 0.9411 - val_loss: 2.9966 - val_accuracy: 0.5037\n",
            "Epoch 13/15\n",
            "193/193 [==============================] - 1s 4ms/step - loss: 0.1716 - accuracy: 0.9441 - val_loss: 3.1608 - val_accuracy: 0.5050\n",
            "Epoch 14/15\n",
            "193/193 [==============================] - 1s 4ms/step - loss: 0.1620 - accuracy: 0.9459 - val_loss: 3.4300 - val_accuracy: 0.5037\n",
            "Epoch 15/15\n",
            "193/193 [==============================] - 1s 4ms/step - loss: 0.1549 - accuracy: 0.9482 - val_loss: 3.4013 - val_accuracy: 0.4806\n"
          ]
        }
      ]
    },
    {
      "cell_type": "code",
      "source": [
        "import matplotlib.pyplot as plt\n",
        "def plot_history(training_history, n_epochs=None):\n",
        "    if not n_epochs:\n",
        "      n_epochs = len(training_history.history['loss'])\n",
        "\n",
        "    epochs = range(1,n_epochs+1)\n",
        "\n",
        "    plt.plot(epochs, training_history.history['loss'], label='train_loss')\n",
        "    plt.plot(epochs, training_history.history['val_loss'], label='val_loss')\n",
        "    plt.legend()\n",
        "    plt.grid()\n",
        "    plt.xlabel('Number of epochs')\n",
        "    plt.title('Loss')\n",
        "\n",
        "    plt.figure()\n",
        "    plt.plot(epochs, training_history.history['accuracy'], label='train_accuracy')\n",
        "    plt.plot(epochs, training_history.history['val_accuracy'], label='val_accuracy')\n",
        "    plt.legend()\n",
        "    plt.grid()\n",
        "    plt.xlabel('Number of epochs')\n",
        "    plt.title('Accuracy')"
      ],
      "metadata": {
        "id": "R7rcN9AybPXG"
      },
      "execution_count": 136,
      "outputs": []
    },
    {
      "cell_type": "code",
      "source": [
        "plot_history(hist)"
      ],
      "metadata": {
        "colab": {
          "base_uri": "https://localhost:8080/",
          "height": 573
        },
        "id": "F7usqkMbbRIi",
        "outputId": "78a1667c-6a53-4073-9368-fb79c62f7769"
      },
      "execution_count": 137,
      "outputs": [
        {
          "output_type": "display_data",
          "data": {
            "text/plain": [
              "<Figure size 432x288 with 1 Axes>"
            ],
            "image/png": "[encoded data removed]"
          },
          "metadata": {
            "needs_background": "light"
          }
        },
        {
          "output_type": "display_data",
          "data": {
            "text/plain": [
              "<Figure size 432x288 with 1 Axes>"
            ],
            "image/png": "[encoded data removed]"
          },
          "metadata": {
            "needs_background": "light"
          }
        }
      ]
    },
    {
      "cell_type": "markdown",
      "source": [
        "Very high overfitting..."
      ],
      "metadata": {
        "id": "6iviGglATWwY"
      }
    },
    {
      "cell_type": "markdown",
      "source": [
        "Final score: macro avg f1."
      ],
      "metadata": {
        "id": "ohfBcvm5UJGb"
      }
    },
    {
      "cell_type": "code",
      "source": [
        "from sklearn.metrics import classification_report \n",
        "\n",
        "y_test_pred = model.predict(x_test_oneHot)\n",
        "print(y_test_pred.shape)\n",
        "y_test_pred = np.argmax(y_test_pred, axis=-1)\n",
        "print(y_test_pred.shape)\n",
        "\n",
        "print(classification_report(y_test, y_test_pred))"
      ],
      "metadata": {
        "colab": {
          "base_uri": "https://localhost:8080/"
        },
        "id": "9yzdhs0TbTc1",
        "outputId": "b3070ace-247b-42d2-d233-ceb16e75fd06"
      },
      "execution_count": 138,
      "outputs": [
        {
          "output_type": "stream",
          "name": "stdout",
          "text": [
            "(5427, 8)\n",
            "(5427,)\n",
            "              precision    recall  f1-score   support\n",
            "\n",
            "           0       0.49      0.48      0.49      1648\n",
            "           1       0.28      0.23      0.25       572\n",
            "           2       0.08      0.06      0.07        81\n",
            "           3       0.32      0.33      0.33       677\n",
            "           4       0.64      0.66      0.65      1978\n",
            "           5       0.25      0.31      0.28       355\n",
            "           6       0.19      0.10      0.13       116\n",
            "\n",
            "    accuracy                           0.48      5427\n",
            "   macro avg       0.32      0.31      0.31      5427\n",
            "weighted avg       0.47      0.48      0.47      5427\n",
            "\n"
          ]
        }
      ]
    },
    {
      "cell_type": "markdown",
      "source": [
        "## TRYING TO REDUCE OVERFITTING"
      ],
      "metadata": {
        "id": "5e_JaKduUhXU"
      }
    },
    {
      "cell_type": "code",
      "source": [
        "from keras import regularizers  # Import the regularizers"
      ],
      "metadata": {
        "id": "g8QXfITgctuB"
      },
      "execution_count": 139,
      "outputs": []
    },
    {
      "cell_type": "code",
      "source": [
        "xin = Input(shape=(n_words,))\n",
        "\n",
        "x = Dense(units=256, activation='relu', kernel_regularizer=regularizers.l2(0.005))(xin)\n",
        "x = Dropout(0.2)(x)\n",
        "\n",
        "x = Dense(units=128, activation='relu', kernel_regularizer=regularizers.l2(0.005))(x)\n",
        "x = Dropout(0.2)(x)\n",
        "\n",
        "x = Dense(units=128, activation='relu', kernel_regularizer=regularizers.l2(0.005))(x)\n",
        "x = Dropout(0.2)(x)\n",
        "\n",
        "x = Dense(units=128, activation='relu', kernel_regularizer=regularizers.l2(0.005))(x)\n",
        "x = Dropout(0.2)(x)\n",
        "\n",
        "x = Dense(units=64, activation='relu', kernel_regularizer=regularizers.l2(0.005))(x)\n",
        "x = Dropout(0.1)(x)\n",
        "\n",
        "x = Dense(units=64, activation='relu', kernel_regularizer=regularizers.l2(0.005))(x)\n",
        "x = Dropout(0.1)(x)\n",
        "\n",
        "res = Dense(units=n_classes)(x)\n",
        "\n",
        "model = Model(xin, res)"
      ],
      "metadata": {
        "id": "lnp0YyNnctx6"
      },
      "execution_count": 140,
      "outputs": []
    },
    {
      "cell_type": "code",
      "source": [
        "model.compile(optimizer=Adam(), loss=SparseCategoricalCrossentropy(from_logits=True), metrics=['accuracy'])"
      ],
      "metadata": {
        "id": "yH8wATqecyBk"
      },
      "execution_count": 141,
      "outputs": []
    },
    {
      "cell_type": "code",
      "source": [
        "model.summary()"
      ],
      "metadata": {
        "colab": {
          "base_uri": "https://localhost:8080/"
        },
        "id": "sLV6C-t7c07K",
        "outputId": "31114754-7d27-47c3-c08a-14b07f9ece82"
      },
      "execution_count": 142,
      "outputs": [
        {
          "output_type": "stream",
          "name": "stdout",
          "text": [
            "Model: \"model_1\"\n",
            "_________________________________________________________________\n",
            " Layer (type)                Output Shape              Param #   \n",
            "=================================================================\n",
            " input_2 (InputLayer)        [(None, 502)]             0         \n",
            "                                                                 \n",
            " dense_6 (Dense)             (None, 256)               128768    \n",
            "                                                                 \n",
            " dropout (Dropout)           (None, 256)               0         \n",
            "                                                                 \n",
            " dense_7 (Dense)             (None, 128)               32896     \n",
            "                                                                 \n",
            " dropout_1 (Dropout)         (None, 128)               0         \n",
            "                                                                 \n",
            " dense_8 (Dense)             (None, 128)               16512     \n",
            "                                                                 \n",
            " dropout_2 (Dropout)         (None, 128)               0         \n",
            "                                                                 \n",
            " dense_9 (Dense)             (None, 128)               16512     \n",
            "                                                                 \n",
            " dropout_3 (Dropout)         (None, 128)               0         \n",
            "                                                                 \n",
            " dense_10 (Dense)            (None, 64)                8256      \n",
            "                                                                 \n",
            " dropout_4 (Dropout)         (None, 64)                0         \n",
            "                                                                 \n",
            " dense_11 (Dense)            (None, 64)                4160      \n",
            "                                                                 \n",
            " dropout_5 (Dropout)         (None, 64)                0         \n",
            "                                                                 \n",
            " dense_12 (Dense)            (None, 8)                 520       \n",
            "                                                                 \n",
            "=================================================================\n",
            "Total params: 207,624\n",
            "Trainable params: 207,624\n",
            "Non-trainable params: 0\n",
            "_________________________________________________________________\n"
          ]
        }
      ]
    },
    {
      "cell_type": "code",
      "source": [
        "from keras.callbacks import EarlyStopping  # Import the EarlyStopping class\n",
        "\n",
        "early_stop_callback = EarlyStopping(monitor='val_accuracy', patience=7)  "
      ],
      "metadata": {
        "id": "K3gS3eybdKXL"
      },
      "execution_count": 143,
      "outputs": []
    },
    {
      "cell_type": "code",
      "source": [
        "hist = model.fit(x_train_oneHot, y_train, batch_size=128, epochs=100, validation_data=[x_val_oneHot, y_val], callbacks=[early_stop_callback])\n",
        "plot_history(hist)\n",
        "\n",
        "y_test_pred = model.predict(x_test_oneHot)\n",
        "y_test_pred = np.argmax(y_test_pred, axis=-1)\n",
        "print(classification_report(y_test, y_test_pred))"
      ],
      "metadata": {
        "colab": {
          "base_uri": "https://localhost:8080/",
          "height": 1000
        },
        "id": "D6wVxcWic3db",
        "outputId": "efc16679-2d3e-439d-b1bb-4083fac7ab07"
      },
      "execution_count": 144,
      "outputs": [
        {
          "output_type": "stream",
          "name": "stdout",
          "text": [
            "Epoch 1/100\n",
            "193/193 [==============================] - 2s 6ms/step - loss: 2.7318 - accuracy: 0.3993 - val_loss: 1.6094 - val_accuracy: 0.5028\n",
            "Epoch 2/100\n",
            "193/193 [==============================] - 1s 4ms/step - loss: 1.5417 - accuracy: 0.4987 - val_loss: 1.4619 - val_accuracy: 0.5153\n",
            "Epoch 3/100\n",
            "193/193 [==============================] - 1s 4ms/step - loss: 1.4658 - accuracy: 0.5062 - val_loss: 1.4398 - val_accuracy: 0.5066\n",
            "Epoch 4/100\n",
            "193/193 [==============================] - 1s 4ms/step - loss: 1.4426 - accuracy: 0.5103 - val_loss: 1.4226 - val_accuracy: 0.5164\n",
            "Epoch 5/100\n",
            "193/193 [==============================] - 1s 4ms/step - loss: 1.4274 - accuracy: 0.5137 - val_loss: 1.4036 - val_accuracy: 0.5232\n",
            "Epoch 6/100\n",
            "193/193 [==============================] - 1s 5ms/step - loss: 1.4219 - accuracy: 0.5122 - val_loss: 1.3998 - val_accuracy: 0.5249\n",
            "Epoch 7/100\n",
            "193/193 [==============================] - 1s 4ms/step - loss: 1.4126 - accuracy: 0.5174 - val_loss: 1.4017 - val_accuracy: 0.5151\n",
            "Epoch 8/100\n",
            "193/193 [==============================] - 1s 5ms/step - loss: 1.4072 - accuracy: 0.5187 - val_loss: 1.4038 - val_accuracy: 0.5177\n",
            "Epoch 9/100\n",
            "193/193 [==============================] - 1s 5ms/step - loss: 1.4044 - accuracy: 0.5172 - val_loss: 1.4117 - val_accuracy: 0.5188\n",
            "Epoch 10/100\n",
            "193/193 [==============================] - 1s 5ms/step - loss: 1.4017 - accuracy: 0.5171 - val_loss: 1.4091 - val_accuracy: 0.5190\n",
            "Epoch 11/100\n",
            "193/193 [==============================] - 1s 4ms/step - loss: 1.3987 - accuracy: 0.5188 - val_loss: 1.4028 - val_accuracy: 0.5208\n",
            "Epoch 12/100\n",
            "193/193 [==============================] - 1s 5ms/step - loss: 1.3960 - accuracy: 0.5217 - val_loss: 1.3989 - val_accuracy: 0.5205\n",
            "Epoch 13/100\n",
            "193/193 [==============================] - 1s 5ms/step - loss: 1.3916 - accuracy: 0.5204 - val_loss: 1.4039 - val_accuracy: 0.5188\n"
          ]
        },
        {
          "output_type": "stream",
          "name": "stderr",
          "text": [
            "/usr/local/lib/python3.7/dist-packages/sklearn/metrics/_classification.py:1318: UndefinedMetricWarning: Precision and F-score are ill-defined and being set to 0.0 in labels with no predicted samples. Use `zero_division` parameter to control this behavior.\n",
            "  _warn_prf(average, modifier, msg_start, len(result))\n",
            "/usr/local/lib/python3.7/dist-packages/sklearn/metrics/_classification.py:1318: UndefinedMetricWarning: Precision and F-score are ill-defined and being set to 0.0 in labels with no predicted samples. Use `zero_division` parameter to control this behavior.\n",
            "  _warn_prf(average, modifier, msg_start, len(result))\n",
            "/usr/local/lib/python3.7/dist-packages/sklearn/metrics/_classification.py:1318: UndefinedMetricWarning: Precision and F-score are ill-defined and being set to 0.0 in labels with no predicted samples. Use `zero_division` parameter to control this behavior.\n",
            "  _warn_prf(average, modifier, msg_start, len(result))\n"
          ]
        },
        {
          "output_type": "stream",
          "name": "stdout",
          "text": [
            "              precision    recall  f1-score   support\n",
            "\n",
            "           0       0.39      0.79      0.52      1648\n",
            "           1       0.00      0.00      0.00       572\n",
            "           2       0.00      0.00      0.00        81\n",
            "           3       0.00      0.00      0.00       677\n",
            "           4       0.68      0.71      0.70      1978\n",
            "           5       0.00      0.00      0.00       355\n",
            "           6       0.00      0.00      0.00       116\n",
            "\n",
            "    accuracy                           0.50      5427\n",
            "   macro avg       0.15      0.21      0.17      5427\n",
            "weighted avg       0.36      0.50      0.41      5427\n",
            "\n"
          ]
        },
        {
          "output_type": "display_data",
          "data": {
            "text/plain": [
              "<Figure size 432x288 with 1 Axes>"
            ],
            "image/png": "[encoded data removed]"
          },
          "metadata": {
            "needs_background": "light"
          }
        },
        {
          "output_type": "display_data",
          "data": {
            "text/plain": [
              "<Figure size 432x288 with 1 Axes>"
            ],
            "image/png": "[encoded data removed]"
          },
          "metadata": {
            "needs_background": "light"
          }
        }
      ]
    }
  ]
}