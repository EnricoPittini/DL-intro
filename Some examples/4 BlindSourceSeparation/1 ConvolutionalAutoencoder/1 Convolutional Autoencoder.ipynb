{
 "cells": [
  {
   "cell_type": "markdown",
   "metadata": {
    "id": "fW3n6RN6Fpn8"
   },
   "source": [
    "## DATASET"
   ]
  },
  {
   "cell_type": "code",
   "execution_count": 15,
   "metadata": {
    "id": "J6z_4Rq43c6S"
   },
   "outputs": [],
   "source": [
    "import numpy as np\n",
    "from tensorflow.keras.datasets import mnist, fashion_mnist\n",
    "import matplotlib.pyplot as plt"
   ]
  },
  {
   "cell_type": "markdown",
   "metadata": {
    "id": "0PvzcVDjFvGi"
   },
   "source": [
    "Loading the MNIST and Fashion MNIST dataset"
   ]
  },
  {
   "cell_type": "code",
   "execution_count": 3,
   "metadata": {
    "colab": {
     "base_uri": "https://localhost:8080/"
    },
    "id": "q9dfdA_d2lcE",
    "outputId": "6b509a38-e241-4587-8ce1-6bed4905ebd5"
   },
   "outputs": [
    {
     "name": "stdout",
     "output_type": "stream",
     "text": [
      "Shape MNIST train: (60000, 28, 28)\n",
      "Shape Fashion MNIST train: (60000, 28, 28)\n",
      "\n",
      "Shape MNIST train after padding: (60000, 32, 32)\n",
      "Shape Fashion MNIST train after padding: (60000, 32, 32)\n"
     ]
    }
   ],
   "source": [
    "(mnist_x_train, mnist_y_train), (mnist_x_test, mnist_y_test) = mnist.load_data()\n",
    "(fashion_mnist_x_train, fashion_mnist_y_train), (fashion_mnist_x_test, fashion_mnist_y_test) = fashion_mnist.load_data()\n",
    "print()\n",
    "\n",
    "print('Shape MNIST train:', np.shape(mnist_x_train))\n",
    "print('Shape Fashion MNIST train:', np.shape(fashion_mnist_x_train))\n",
    "print()\n",
    "\n",
    "# Normalization and Padding\n",
    "mnist_x_train = np.pad(mnist_x_train,((0,0),(2,2),(2,2)))/255.\n",
    "mnist_x_test = np.pad(mnist_x_test,((0,0),(2,2),(2,2)))/255.\n",
    "print('Shape MNIST train after padding:', np.shape(mnist_x_train))\n",
    "fashion_mnist_x_train = np.pad(fashion_mnist_x_train,((0,0),(2,2),(2,2)))/255.\n",
    "fashion_mnist_x_test = np.pad(fashion_mnist_x_test,((0,0),(2,2),(2,2)))/255.\n",
    "print('Shape Fashion MNIST train after padding:', np.shape(mnist_x_train))"
   ]
  },
  {
   "cell_type": "code",
   "execution_count": 4,
   "metadata": {
    "colab": {
     "base_uri": "https://localhost:8080/"
    },
    "id": "gTqEhsA_MWHJ",
    "outputId": "53897961-e9f0-4320-f990-b88ffa86d8b2"
   },
   "outputs": [
    {
     "name": "stdout",
     "output_type": "stream",
     "text": [
      "Number of MNIST/fashion MNIST training samples: 60000\n",
      "Number of MNIST/fashion MNIST test samples: 10000\n",
      "MNIST/fashion MNIST resolution: (32, 32)\n"
     ]
    }
   ],
   "source": [
    "print(f'Number of MNIST/fashion MNIST training samples: {np.shape(mnist_x_train)[0]}')\n",
    "print(f'Number of MNIST/fashion MNIST test samples: {np.shape(mnist_x_test)[0]}')\n",
    "print(f'MNIST/fashion MNIST resolution: {np.shape(mnist_x_test)[1:]}')"
   ]
  },
  {
   "cell_type": "markdown",
   "metadata": {
    "id": "td79ShTMP4K4"
   },
   "source": [
    "Only one channel (grey-scale images)."
   ]
  },
  {
   "cell_type": "code",
   "execution_count": 6,
   "metadata": {
    "id": "f0FRmeoh4hDd"
   },
   "outputs": [],
   "source": [
    "N_train, h, w = mnist_x_train.shape[0], mnist_x_train.shape[1], mnist_x_train.shape[2]\n",
    "N_test = mnist_x_test.shape[0]"
   ]
  },
  {
   "cell_type": "markdown",
   "metadata": {
    "id": "KB274CUpMv5R"
   },
   "source": [
    "### Data generator\n",
    "Generator which generates batches. A batch is a couple `x_batch, y_batch`, containing `batchsize` number of samples. `x_batch` represents the input, and it contains images `x`: each image `x` has spatial dimensions $32*32$ and it contains a pair of MNIST-fashion MNIST images added together. `y_batch` represents the ground truth, and it contains the images `y`: each image `y` has spatial dimensions $32*64$ and it contains the same pair of MNIST-fashion MNIST images concatenated along the width."
   ]
  },
  {
   "cell_type": "code",
   "execution_count": 7,
   "metadata": {
    "id": "qIplBB2szfu7"
   },
   "outputs": [],
   "source": [
    "def datagenerator(x1, x2, batchsize):\n",
    "    # x1: first dataset of images. In our case, MNIST dataset (either train or test)\n",
    "    # x2: second dataset of images. In our case, fashion MNIST dataset (either train or test)\n",
    "\n",
    "    n1 = x1.shape[0]\n",
    "    n2 = x2.shape[0]\n",
    "    while True:\n",
    "        num1 = np.random.randint(0, n1, batchsize)\n",
    "        num2 = np.random.randint(0, n2, batchsize)\n",
    "\n",
    "        x_batch = (x1[num1] + x2[num2]) / 2.0\n",
    "        y_batch = np.concatenate((x1[num1], x2[num2]), axis=2)\n",
    "\n",
    "        yield x_batch, y_batch "
   ]
  },
  {
   "cell_type": "code",
   "execution_count": 8,
   "metadata": {
    "id": "D11K763l6N9-"
   },
   "outputs": [],
   "source": [
    "batchsize = 64"
   ]
  },
  {
   "cell_type": "code",
   "execution_count": 10,
   "metadata": {
    "id": "Z-NnPXLW6RVb"
   },
   "outputs": [],
   "source": [
    "# Generator for creating the training batches\n",
    "train_generator = datagenerator(mnist_x_train, fashion_mnist_x_train, batchsize)\n",
    "\n",
    "# Generator for creating the validation batches\n",
    "test_generator = datagenerator(mnist_x_test, fashion_mnist_x_test, batchsize)"
   ]
  },
  {
   "cell_type": "markdown",
   "metadata": {
    "id": "B_HWmrN3O5TY"
   },
   "source": [
    "Example of a training batch"
   ]
  },
  {
   "cell_type": "code",
   "execution_count": 11,
   "metadata": {
    "colab": {
     "base_uri": "https://localhost:8080/"
    },
    "id": "nNIO8t0m6Xv6",
    "outputId": "78e60495-6568-4f61-8e92-295ab9fffa5d"
   },
   "outputs": [
    {
     "name": "stdout",
     "output_type": "stream",
     "text": [
      "Shape of the x_batch: (64, 32, 32)\n",
      "Shape of the y_batch: (64, 32, 64)\n"
     ]
    }
   ],
   "source": [
    "x_batch, y_batch = next(train_generator)\n",
    "print('Shape of the x_batch:', x_batch.shape)\n",
    "print('Shape of the y_batch:', y_batch.shape)"
   ]
  },
  {
   "cell_type": "markdown",
   "metadata": {
    "id": "vCbz5aukPNVG"
   },
   "source": [
    "The data is already normalized into $[0,1]$"
   ]
  },
  {
   "cell_type": "code",
   "execution_count": 12,
   "metadata": {
    "colab": {
     "base_uri": "https://localhost:8080/"
    },
    "id": "rLkLys5S9PtU",
    "outputId": "01a2bd6c-1150-4e73-a221-cc98120322e2"
   },
   "outputs": [
    {
     "data": {
      "text/plain": [
       "(0.0, 0.8313725490196078)"
      ]
     },
     "execution_count": 12,
     "metadata": {},
     "output_type": "execute_result"
    }
   ],
   "source": [
    "x_batch[0].min(), x_batch[0].max()"
   ]
  },
  {
   "cell_type": "code",
   "execution_count": 13,
   "metadata": {
    "colab": {
     "base_uri": "https://localhost:8080/"
    },
    "id": "FVN_Obg89sEf",
    "outputId": "7bd79b76-c150-4c34-d78c-e19e71f397ae"
   },
   "outputs": [
    {
     "data": {
      "text/plain": [
       "(0.0, 1.0)"
      ]
     },
     "execution_count": 13,
     "metadata": {},
     "output_type": "execute_result"
    }
   ],
   "source": [
    "y_batch[0].min(), y_batch[0].max()"
   ]
  },
  {
   "cell_type": "markdown",
   "metadata": {
    "id": "5nECVcliPTOM"
   },
   "source": [
    "Visualization of a sample in the batch"
   ]
  },
  {
   "cell_type": "code",
   "execution_count": 16,
   "metadata": {
    "colab": {
     "base_uri": "https://localhost:8080/",
     "height": 466
    },
    "id": "fT7UnUpbPX4D",
    "outputId": "79703945-11c8-47a1-ef2b-c0fe5e65c370"
   },
   "outputs": [
    {
     "data": {
      "image/png": "[encoded data removed]",
      "text/plain": [
       "<Figure size 432x288 with 1 Axes>"
      ]
     },
     "metadata": {
      "needs_background": "light"
     },
     "output_type": "display_data"
    },
    {
     "data": {
      "image/png": "[encoded data removed]",
      "text/plain": [
       "<Figure size 432x288 with 1 Axes>"
      ]
     },
     "metadata": {
      "needs_background": "light"
     },
     "output_type": "display_data"
    }
   ],
   "source": [
    "x = x_batch[0]  # Input\n",
    "y = y_batch[0]  # Ground truth\n",
    "plt.imshow(x,cmap='gray', interpolation='nearest')\n",
    "plt.show()\n",
    "plt.imshow(y, cmap='gray', interpolation='nearest')\n",
    "plt.show()"
   ]
  },
  {
   "cell_type": "markdown",
   "metadata": {
    "id": "VF6sXTafPspc"
   },
   "source": [
    "## MODEL\n",
    "Fully convolutional autoencoder. One single encoder and one single decoder. Input: $32*32*1$. Output: $32*64*1$."
   ]
  },
  {
   "cell_type": "code",
   "execution_count": 17,
   "metadata": {
    "id": "FHQOsTp846be"
   },
   "outputs": [],
   "source": [
    "from tensorflow.keras.layers import Input, Conv2D, Conv2DTranspose\n",
    "from tensorflow.keras import Model"
   ]
  },
  {
   "cell_type": "code",
   "execution_count": 18,
   "metadata": {
    "id": "d13xRGlE46m1"
   },
   "outputs": [],
   "source": [
    "# Dimensions of the input: 32*32*1=1024\n",
    "xin = Input(shape=(32, 32, 1))\n",
    "\n",
    "# ENCODER\n",
    "x = Conv2D(filters=16, kernel_size=3, strides=2, padding='same')(xin)\n",
    "x = Conv2D(filters=32, kernel_size=3, strides=2, padding='same')(x)\n",
    "# Latent encoding dimensions: 4*4*64=1024\n",
    "x = Conv2D(filters=64, kernel_size=3, strides=2, padding='same')(x)\n",
    "\n",
    "# DECODER\n",
    "x = Conv2DTranspose(filters=32, kernel_size=3, strides=2, padding='same')(x)\n",
    "x = Conv2DTranspose(filters=16, kernel_size=3, strides=2, padding='same')(x)\n",
    "x = Conv2DTranspose(filters=8, kernel_size=3, strides=2, padding='same')(x)\n",
    "\n",
    "# Dimensions of the output: 32*64*1\n",
    "y = Conv2DTranspose(filters=1, kernel_size=3, strides=(1,2), padding='same', activation='sigmoid')(x)\n",
    "\n",
    "nn = Model(inputs=xin, outputs=y)"
   ]
  },
  {
   "cell_type": "code",
   "execution_count": 19,
   "metadata": {
    "colab": {
     "base_uri": "https://localhost:8080/"
    },
    "id": "oqit76eL7s1r",
    "outputId": "e63eda32-5186-421d-8b08-f317c290a117"
   },
   "outputs": [
    {
     "name": "stdout",
     "output_type": "stream",
     "text": [
      "Model: \"model\"\n",
      "_________________________________________________________________\n",
      " Layer (type)                Output Shape              Param #   \n",
      "=================================================================\n",
      " input_1 (InputLayer)        [(None, 32, 32, 1)]       0         \n",
      "                                                                 \n",
      " conv2d (Conv2D)             (None, 16, 16, 16)        160       \n",
      "                                                                 \n",
      " conv2d_1 (Conv2D)           (None, 8, 8, 32)          4640      \n",
      "                                                                 \n",
      " conv2d_2 (Conv2D)           (None, 4, 4, 64)          18496     \n",
      "                                                                 \n",
      " conv2d_transpose (Conv2DTra  (None, 8, 8, 32)         18464     \n",
      " nspose)                                                         \n",
      "                                                                 \n",
      " conv2d_transpose_1 (Conv2DT  (None, 16, 16, 16)       4624      \n",
      " ranspose)                                                       \n",
      "                                                                 \n",
      " conv2d_transpose_2 (Conv2DT  (None, 32, 32, 8)        1160      \n",
      " ranspose)                                                       \n",
      "                                                                 \n",
      " conv2d_transpose_3 (Conv2DT  (None, 32, 64, 1)        73        \n",
      " ranspose)                                                       \n",
      "                                                                 \n",
      "=================================================================\n",
      "Total params: 47,617\n",
      "Trainable params: 47,617\n",
      "Non-trainable params: 0\n",
      "_________________________________________________________________\n"
     ]
    }
   ],
   "source": [
    "nn.summary()"
   ]
  },
  {
   "cell_type": "markdown",
   "metadata": {
    "id": "IcMJ9vA8Qcu_"
   },
   "source": [
    "### Training"
   ]
  },
  {
   "cell_type": "code",
   "execution_count": 20,
   "metadata": {
    "id": "TMYdTlVa46pz"
   },
   "outputs": [],
   "source": [
    "from tensorflow.keras.optimizers import Adam"
   ]
  },
  {
   "cell_type": "code",
   "execution_count": 21,
   "metadata": {
    "id": "09KjjmNN46vk"
   },
   "outputs": [],
   "source": [
    "nn.compile(optimizer=Adam(), loss='mse')"
   ]
  },
  {
   "cell_type": "code",
   "execution_count": 22,
   "metadata": {
    "id": "B6v2sMNM8EpV"
   },
   "outputs": [],
   "source": [
    "from tensorflow.keras.callbacks import ModelCheckpoint\n",
    "\n",
    "callback_checkpoint = ModelCheckpoint('CNN.{epoch:02d}-{val_loss:.4f}.hdf5', save_weights_only=True) "
   ]
  },
  {
   "cell_type": "code",
   "execution_count": 36,
   "metadata": {
    "id": "Zh6g2Lx98dgH"
   },
   "outputs": [],
   "source": [
    "steps_per_epoch = N_train // batchsize\n",
    "val_steps = N_test // batchsize"
   ]
  },
  {
   "cell_type": "code",
   "execution_count": 37,
   "metadata": {
    "colab": {
     "base_uri": "https://localhost:8080/"
    },
    "id": "xdv6ylq48JOG",
    "outputId": "3c0aafde-7789-4537-f81a-b8c3c01e94fa"
   },
   "outputs": [
    {
     "name": "stdout",
     "output_type": "stream",
     "text": [
      "Epoch 1/15\n",
      "937/937 [==============================] - 56s 59ms/step - loss: 0.0532 - val_loss: 0.0318\n",
      "Epoch 2/15\n",
      "937/937 [==============================] - 56s 60ms/step - loss: 0.0300 - val_loss: 0.0288\n",
      "Epoch 3/15\n",
      "937/937 [==============================] - 56s 60ms/step - loss: 0.0278 - val_loss: 0.0270\n",
      "Epoch 4/15\n",
      "937/937 [==============================] - 54s 58ms/step - loss: 0.0268 - val_loss: 0.0263\n",
      "Epoch 5/15\n",
      "937/937 [==============================] - 56s 59ms/step - loss: 0.0261 - val_loss: 0.0258\n",
      "Epoch 6/15\n",
      "937/937 [==============================] - 55s 59ms/step - loss: 0.0258 - val_loss: 0.0254\n",
      "Epoch 7/15\n",
      "937/937 [==============================] - 58s 62ms/step - loss: 0.0254 - val_loss: 0.0252\n",
      "Epoch 8/15\n",
      "937/937 [==============================] - 56s 60ms/step - loss: 0.0251 - val_loss: 0.0248\n",
      "Epoch 9/15\n",
      "937/937 [==============================] - 54s 58ms/step - loss: 0.0248 - val_loss: 0.0250\n",
      "Epoch 10/15\n",
      "937/937 [==============================] - 57s 61ms/step - loss: 0.0248 - val_loss: 0.0247\n",
      "Epoch 11/15\n",
      "937/937 [==============================] - 59s 63ms/step - loss: 0.0246 - val_loss: 0.0245\n",
      "Epoch 12/15\n",
      "937/937 [==============================] - 56s 60ms/step - loss: 0.0245 - val_loss: 0.0244\n",
      "Epoch 13/15\n",
      "937/937 [==============================] - 57s 61ms/step - loss: 0.0244 - val_loss: 0.0243\n",
      "Epoch 14/15\n",
      "937/937 [==============================] - 56s 60ms/step - loss: 0.0243 - val_loss: 0.0243\n",
      "Epoch 15/15\n",
      "937/937 [==============================] - 58s 62ms/step - loss: 0.0243 - val_loss: 0.0240\n"
     ]
    }
   ],
   "source": [
    "hist = nn.fit(train_generator, epochs=15, batch_size=batchsize, validation_data=test_generator, callbacks=[callback_checkpoint],\n",
    "              steps_per_epoch=steps_per_epoch, validation_steps=val_steps)"
   ]
  },
  {
   "cell_type": "markdown",
   "metadata": {
    "id": "gTJ0fn2ZRT47"
   },
   "source": [
    "Score: around $0.024$."
   ]
  },
  {
   "cell_type": "code",
   "execution_count": 39,
   "metadata": {
    "id": "FSbWpnpq-feJ"
   },
   "outputs": [],
   "source": [
    "def plot_history(training_history, n_epochs=None):\n",
    "    if not n_epochs:\n",
    "      n_epochs = len(training_history.history['loss'])\n",
    "\n",
    "    epochs = range(1,n_epochs+1)\n",
    "\n",
    "    plt.plot(epochs, training_history.history['loss'], label='train_loss')\n",
    "    plt.plot(epochs, training_history.history['val_loss'], label='val_loss')\n",
    "    plt.legend()\n",
    "    plt.grid()\n",
    "    plt.xlabel('Number of epochs')\n",
    "    plt.title('Loss')"
   ]
  },
  {
   "cell_type": "code",
   "execution_count": 40,
   "metadata": {
    "colab": {
     "base_uri": "https://localhost:8080/",
     "height": 295
    },
    "id": "nK6ji1ws-hJ6",
    "outputId": "7c8e926c-878e-4ddb-fc4d-46c54e18d9dd"
   },
   "outputs": [
    {
     "data": {
      "image/png": "[encoded data removed]",
      "text/plain": [
       "<Figure size 432x288 with 1 Axes>"
      ]
     },
     "metadata": {
      "needs_background": "light"
     },
     "output_type": "display_data"
    }
   ],
   "source": [
    "plot_history(hist)"
   ]
  },
  {
   "cell_type": "markdown",
   "metadata": {
    "id": "02wMuea5Q2W1"
   },
   "source": [
    "Very smooth curve: no overfitting"
   ]
  },
  {
   "cell_type": "markdown",
   "metadata": {
    "id": "1aURrf-_Q6ZP"
   },
   "source": [
    "### Visualization of some results"
   ]
  },
  {
   "cell_type": "code",
   "execution_count": 49,
   "metadata": {
    "colab": {
     "base_uri": "https://localhost:8080/",
     "height": 666
    },
    "id": "OOPPioAB-ktj",
    "outputId": "a5e455c5-0d1e-4767-9693-1170a8428a34"
   },
   "outputs": [
    {
     "data": {
      "image/png": "[encoded data removed]",
      "text/plain": [
       "<Figure size 432x288 with 1 Axes>"
      ]
     },
     "metadata": {
      "needs_background": "light"
     },
     "output_type": "display_data"
    },
    {
     "data": {
      "image/png": "[encoded data removed]",
      "text/plain": [
       "<Figure size 432x288 with 1 Axes>"
      ]
     },
     "metadata": {
      "needs_background": "light"
     },
     "output_type": "display_data"
    },
    {
     "data": {
      "image/png": "[encoded data removed]",
      "text/plain": [
       "<Figure size 432x288 with 1 Axes>"
      ]
     },
     "metadata": {
      "needs_background": "light"
     },
     "output_type": "display_data"
    }
   ],
   "source": [
    "x_batch, y_batch = next(test_generator)\n",
    "x = x_batch[0]  # Input\n",
    "y = y_batch[0]  # Ground truth\n",
    "y_pred = nn.predict(x.reshape((1,32,32)))  # Prediction\n",
    "\n",
    "plt.imshow(x,cmap='gray', interpolation='nearest')\n",
    "plt.show()\n",
    "plt.imshow(y, cmap='gray', interpolation='nearest')\n",
    "plt.show()\n",
    "plt.imshow(y_pred[0].reshape((32,64)), cmap='gray', interpolation='nearest')\n",
    "plt.show()"
   ]
  },
  {
   "cell_type": "code",
   "execution_count": 50,
   "metadata": {
    "colab": {
     "base_uri": "https://localhost:8080/",
     "height": 666
    },
    "id": "ebTw4xq_IeMw",
    "outputId": "d163187b-6f5d-436d-8de2-8a9f90434a2d"
   },
   "outputs": [
    {
     "data": {
      "image/png": "[encoded data removed]",
      "text/plain": [
       "<Figure size 432x288 with 1 Axes>"
      ]
     },
     "metadata": {
      "needs_background": "light"
     },
     "output_type": "display_data"
    },
    {
     "data": {
      "image/png": "[encoded data removed]",
      "text/plain": [
       "<Figure size 432x288 with 1 Axes>"
      ]
     },
     "metadata": {
      "needs_background": "light"
     },
     "output_type": "display_data"
    },
    {
     "data": {
      "image/png": "[encoded data removed]",
      "text/plain": [
       "<Figure size 432x288 with 1 Axes>"
      ]
     },
     "metadata": {
      "needs_background": "light"
     },
     "output_type": "display_data"
    }
   ],
   "source": [
    "x_batch, y_batch = next(test_generator)\n",
    "x = x_batch[0]  # Input\n",
    "y = y_batch[0]  # Ground truth\n",
    "y_pred = nn.predict(x.reshape((1,32,32)))  # Prediction\n",
    "\n",
    "plt.imshow(x,cmap='gray', interpolation='nearest')\n",
    "plt.show()\n",
    "plt.imshow(y, cmap='gray', interpolation='nearest')\n",
    "plt.show()\n",
    "plt.imshow(y_pred[0].reshape((32,64)), cmap='gray', interpolation='nearest')\n",
    "plt.show()"
   ]
  },
  {
   "cell_type": "code",
   "execution_count": 51,
   "metadata": {
    "colab": {
     "base_uri": "https://localhost:8080/",
     "height": 666
    },
    "id": "kjhRT-QgIiPP",
    "outputId": "6fe6dd10-24ef-4ea5-bf5d-cd185281ccb2"
   },
   "outputs": [
    {
     "data": {
      "image/png": "[encoded data removed]",
      "text/plain": [
       "<Figure size 432x288 with 1 Axes>"
      ]
     },
     "metadata": {
      "needs_background": "light"
     },
     "output_type": "display_data"
    },
    {
     "data": {
      "image/png": "[encoded data removed]",
      "text/plain": [
       "<Figure size 432x288 with 1 Axes>"
      ]
     },
     "metadata": {
      "needs_background": "light"
     },
     "output_type": "display_data"
    },
    {
     "data": {
      "image/png": "[encoded data removed]",
      "text/plain": [
       "<Figure size 432x288 with 1 Axes>"
      ]
     },
     "metadata": {
      "needs_background": "light"
     },
     "output_type": "display_data"
    }
   ],
   "source": [
    "x_batch, y_batch = next(test_generator)\n",
    "x = x_batch[0]  # Input\n",
    "y = y_batch[0]  # Ground truth\n",
    "y_pred = nn.predict(x.reshape((1,32,32)))  # Prediction\n",
    "\n",
    "plt.imshow(x,cmap='gray', interpolation='nearest')\n",
    "plt.show()\n",
    "plt.imshow(y, cmap='gray', interpolation='nearest')\n",
    "plt.show()\n",
    "plt.imshow(y_pred[0].reshape((32,64)), cmap='gray', interpolation='nearest')\n",
    "plt.show()"
   ]
  }
 ],
 "metadata": {
  "colab": {
   "collapsed_sections": [],
   "name": "1 Convolutional Autoencoder",
   "provenance": []
  },
  "gpuClass": "standard",
  "kernelspec": {
   "display_name": "Python 3",
   "language": "python",
   "name": "python3"
  },
  "language_info": {
   "codemirror_mode": {
    "name": "ipython",
    "version": 3
   },
   "file_extension": ".py",
   "mimetype": "text/x-python",
   "name": "python",
   "nbconvert_exporter": "python",
   "pygments_lexer": "ipython3",
   "version": "3.8.8"
  }
 },
 "nbformat": 4,
 "nbformat_minor": 1
}
