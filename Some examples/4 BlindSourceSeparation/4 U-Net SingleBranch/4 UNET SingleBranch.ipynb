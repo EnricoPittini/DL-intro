{
 "cells": [
  {
   "cell_type": "markdown",
   "metadata": {
    "id": "fW3n6RN6Fpn8"
   },
   "source": [
    "## DATASET"
   ]
  },
  {
   "cell_type": "code",
   "execution_count": null,
   "metadata": {
    "id": "JSa4gXMIRx2s"
   },
   "outputs": [],
   "source": [
    "import numpy as np\n",
    "from tensorflow.keras.datasets import mnist, fashion_mnist\n",
    "import matplotlib.pyplot as plt"
   ]
  },
  {
   "cell_type": "markdown",
   "metadata": {
    "id": "0PvzcVDjFvGi"
   },
   "source": [
    "Loading the MNIST and Fashion MNIST dataset"
   ]
  },
  {
   "cell_type": "code",
   "execution_count": null,
   "metadata": {
    "colab": {
     "base_uri": "https://localhost:8080/"
    },
    "id": "HligbBqGRx2s",
    "outputId": "bb05e827-6374-44e5-965b-b0fc879d6e8a"
   },
   "outputs": [
    {
     "name": "stdout",
     "output_type": "stream",
     "text": [
      "\n",
      "Shape MNIST train: (60000, 28, 28)\n",
      "Shape Fashion MNIST train: (60000, 28, 28)\n",
      "\n",
      "Shape MNIST train after padding: (60000, 32, 32)\n",
      "Shape Fashion MNIST train after padding: (60000, 32, 32)\n"
     ]
    }
   ],
   "source": [
    "(mnist_x_train, mnist_y_train), (mnist_x_test, mnist_y_test) = mnist.load_data()\n",
    "(fashion_mnist_x_train, fashion_mnist_y_train), (fashion_mnist_x_test, fashion_mnist_y_test) = fashion_mnist.load_data()\n",
    "print()\n",
    "\n",
    "print('Shape MNIST train:', np.shape(mnist_x_train))\n",
    "print('Shape Fashion MNIST train:', np.shape(fashion_mnist_x_train))\n",
    "print()\n",
    "\n",
    "# Normalization and Padding\n",
    "mnist_x_train = np.pad(mnist_x_train,((0,0),(2,2),(2,2)))/255.\n",
    "mnist_x_test = np.pad(mnist_x_test,((0,0),(2,2),(2,2)))/255.\n",
    "print('Shape MNIST train after padding:', np.shape(mnist_x_train))\n",
    "fashion_mnist_x_train = np.pad(fashion_mnist_x_train,((0,0),(2,2),(2,2)))/255.\n",
    "fashion_mnist_x_test = np.pad(fashion_mnist_x_test,((0,0),(2,2),(2,2)))/255.\n",
    "print('Shape Fashion MNIST train after padding:', np.shape(mnist_x_train))"
   ]
  },
  {
   "cell_type": "code",
   "execution_count": null,
   "metadata": {
    "colab": {
     "base_uri": "https://localhost:8080/"
    },
    "id": "gTqEhsA_MWHJ",
    "outputId": "53897961-e9f0-4320-f990-b88ffa86d8b2"
   },
   "outputs": [
    {
     "name": "stdout",
     "output_type": "stream",
     "text": [
      "Number of MNIST/fashion MNIST training samples: 60000\n",
      "Number of MNIST/fashion MNIST test samples: 10000\n",
      "MNIST/fashion MNIST resolution: (32, 32)\n"
     ]
    }
   ],
   "source": [
    "print(f'Number of MNIST/fashion MNIST training samples: {np.shape(mnist_x_train)[0]}')\n",
    "print(f'Number of MNIST/fashion MNIST test samples: {np.shape(mnist_x_test)[0]}')\n",
    "print(f'MNIST/fashion MNIST resolution: {np.shape(mnist_x_test)[1:]}')"
   ]
  },
  {
   "cell_type": "markdown",
   "metadata": {
    "id": "td79ShTMP4K4"
   },
   "source": [
    "Only one channel (grey-scale images)."
   ]
  },
  {
   "cell_type": "code",
   "execution_count": null,
   "metadata": {
    "id": "puyeUReORx2u"
   },
   "outputs": [],
   "source": [
    "N_train, h, w = mnist_x_train.shape[0], mnist_x_train.shape[1], mnist_x_train.shape[2]\n",
    "N_test = mnist_x_test.shape[0]"
   ]
  },
  {
   "cell_type": "markdown",
   "metadata": {
    "id": "KB274CUpMv5R"
   },
   "source": [
    "### Data generator\n",
    "Generator which generates batches. A batch is a couple `x_batch, y_batch`, containing `batchsize` number of samples. `x_batch` represents the input, and it contains images `x`: each image `x` has spatial dimensions $32*32$ and it contains a pair of MNIST-fashion MNIST images added together. `y_batch` represents the ground truth, and it contains the images `y`: each image `y` has spatial dimensions $32*64$ and it contains the same pair of MNIST-fashion MNIST images concatenated along the width."
   ]
  },
  {
   "cell_type": "code",
   "execution_count": null,
   "metadata": {
    "id": "pelzhL0uRx2u"
   },
   "outputs": [],
   "source": [
    "def datagenerator(x1, x2, batchsize):\n",
    "    # x1: first dataset of images. In our case, MNIST dataset (either train or test)\n",
    "    # x2: second dataset of images. In our case, fashion MNIST dataset (either train or test)\n",
    "\n",
    "    n1 = x1.shape[0]\n",
    "    n2 = x2.shape[0]\n",
    "    while True:\n",
    "        num1 = np.random.randint(0, n1, batchsize)\n",
    "        num2 = np.random.randint(0, n2, batchsize)\n",
    "\n",
    "        x_batch = (x1[num1] + x2[num2]) / 2.0\n",
    "        y_batch = np.concatenate((x1[num1], x2[num2]), axis=2)\n",
    "\n",
    "        yield x_batch, y_batch "
   ]
  },
  {
   "cell_type": "code",
   "execution_count": null,
   "metadata": {
    "id": "oMW8s3frRx2u"
   },
   "outputs": [],
   "source": [
    "batchsize = 64"
   ]
  },
  {
   "cell_type": "code",
   "execution_count": null,
   "metadata": {
    "id": "Pae00fk6Rx2v"
   },
   "outputs": [],
   "source": [
    "# Generator for creating the training batches\n",
    "train_generator = datagenerator(mnist_x_train, fashion_mnist_x_train, batchsize)\n",
    "\n",
    "# Generator for creating the validation batches\n",
    "test_generator = datagenerator(mnist_x_test, fashion_mnist_x_test, batchsize)"
   ]
  },
  {
   "cell_type": "markdown",
   "metadata": {
    "id": "B_HWmrN3O5TY"
   },
   "source": [
    "Example of a training batch"
   ]
  },
  {
   "cell_type": "code",
   "execution_count": null,
   "metadata": {
    "colab": {
     "base_uri": "https://localhost:8080/"
    },
    "id": "zZwwy43SRx2v",
    "outputId": "78e60495-6568-4f61-8e92-295ab9fffa5d"
   },
   "outputs": [
    {
     "name": "stdout",
     "output_type": "stream",
     "text": [
      "Shape of the x_batch: (64, 32, 32)\n",
      "Shape of the y_batch: (64, 32, 64)\n"
     ]
    }
   ],
   "source": [
    "x_batch, y_batch = next(train_generator)\n",
    "print('Shape of the x_batch:', x_batch.shape)\n",
    "print('Shape of the y_batch:', y_batch.shape)"
   ]
  },
  {
   "cell_type": "markdown",
   "metadata": {
    "id": "vCbz5aukPNVG"
   },
   "source": [
    "The data is already normalized into $[0,1]$"
   ]
  },
  {
   "cell_type": "code",
   "execution_count": null,
   "metadata": {
    "colab": {
     "base_uri": "https://localhost:8080/"
    },
    "id": "X1pc-nZKRx2v",
    "outputId": "01a2bd6c-1150-4e73-a221-cc98120322e2"
   },
   "outputs": [
    {
     "data": {
      "text/plain": [
       "(0.0, 0.8313725490196078)"
      ]
     },
     "execution_count": 12,
     "metadata": {},
     "output_type": "execute_result"
    }
   ],
   "source": [
    "x_batch[0].min(), x_batch[0].max()"
   ]
  },
  {
   "cell_type": "code",
   "execution_count": null,
   "metadata": {
    "colab": {
     "base_uri": "https://localhost:8080/"
    },
    "id": "2hpb20YqRx2w",
    "outputId": "7bd79b76-c150-4c34-d78c-e19e71f397ae"
   },
   "outputs": [
    {
     "data": {
      "text/plain": [
       "(0.0, 1.0)"
      ]
     },
     "execution_count": 13,
     "metadata": {},
     "output_type": "execute_result"
    }
   ],
   "source": [
    "y_batch[0].min(), y_batch[0].max()"
   ]
  },
  {
   "cell_type": "markdown",
   "metadata": {
    "id": "5nECVcliPTOM"
   },
   "source": [
    "Visualization of a sample in the batch"
   ]
  },
  {
   "cell_type": "code",
   "execution_count": null,
   "metadata": {
    "colab": {
     "base_uri": "https://localhost:8080/",
     "height": 466
    },
    "id": "fT7UnUpbPX4D",
    "outputId": "79703945-11c8-47a1-ef2b-c0fe5e65c370"
   },
   "outputs": [
    {
     "data": {
      "image/png": "[encoded data removed]",
      "text/plain": [
       "<Figure size 432x288 with 1 Axes>"
      ]
     },
     "metadata": {
      "needs_background": "light"
     },
     "output_type": "display_data"
    },
    {
     "data": {
      "image/png": "[encoded data removed]",
      "text/plain": [
       "<Figure size 432x288 with 1 Axes>"
      ]
     },
     "metadata": {
      "needs_background": "light"
     },
     "output_type": "display_data"
    }
   ],
   "source": [
    "x = x_batch[0]  # Input\n",
    "y = y_batch[0]  # Ground truth\n",
    "plt.imshow(x,cmap='gray', interpolation='nearest')\n",
    "plt.show()\n",
    "plt.imshow(y, cmap='gray', interpolation='nearest')\n",
    "plt.show()"
   ]
  },
  {
   "cell_type": "markdown",
   "metadata": {},
   "source": [
    "## MODEL\n",
    "U-Net (i.e. fully convolutional autoencoder with skip connections). One single encoder, and one decoder (single branch): classic U-net. It computes only a single image: the fashion MNIST image. Then, the MNIST image is obtained by simply subtracting the computed fashion MNIST image from the input image. Finally, the output of the network is the concatenation between the MNIST image and the fashion MNIST image, across the widht.\n",
    "\n",
    " Input: $32*32*1$. Two outputs $32*32*1$, which are concatenated together along the width, producing a single output $32*64*1$. U-net with one branch.\n",
    " \n",
    " The U-net computes the fashion MNIST image and not the MNIST image beacuse we have seen that it is easier to learn the fashion MNIST image."
   ]
  },
  {
   "cell_type": "code",
   "execution_count": 16,
   "metadata": {
    "id": "FHQOsTp846be"
   },
   "outputs": [],
   "source": [
    "from tensorflow.keras.layers import Input, Conv2D, Conv2DTranspose, ReLU, MaxPool2D, concatenate, Concatenate\n",
    "from tensorflow.keras import Model\n",
    "import tensorflow.keras as ks"
   ]
  },
  {
   "cell_type": "code",
   "execution_count": 61,
   "metadata": {
    "id": "PpTJS2CC55ch"
   },
   "outputs": [],
   "source": [
    "def build_unet(input_shape, n_ch=32, L=4, conv_per_L=2):\n",
    "    x = ks.layers.Input(shape=input_shape)\n",
    "\n",
    "    # DOWN\n",
    "    backup_layers = []\n",
    "    h = x\n",
    "    for l in range(L):\n",
    "\n",
    "        # Each floor in the descent phase\n",
    "        for c in range(conv_per_L):\n",
    "            h = ks.layers.Conv2D(n_ch, 3, 1, padding='same')(h)\n",
    "            h = ks.layers.ReLU()(h)\n",
    "\n",
    "        if l < L-1: # We don't want to downsample at the last level\n",
    "            # Downsample\n",
    "            backup_layers.append(h) # save for the skip connection \n",
    "            h = ks.layers.MaxPool2D(padding='same')(h)\n",
    "\n",
    "            # Update the channels\n",
    "            n_ch = n_ch * 2\n",
    "    \n",
    "    # UP (pay attention to do not double count the last level)\n",
    "    for l in range(L-1):\n",
    "        # Reduce the channels\n",
    "        n_ch = n_ch // 2\n",
    "\n",
    "        # Upsample\n",
    "        h = ks.layers.Conv2DTranspose(n_ch, 3, 2, padding='same')(h)\n",
    "\n",
    "        # Concatenate\n",
    "        h = ks.layers.concatenate([h, backup_layers.pop(-1)])\n",
    "\n",
    "        # Each floor in the up phase\n",
    "        for c in range(conv_per_L):\n",
    "            h = ks.layers.Conv2D(n_ch, 3, 1, padding='same')(h)\n",
    "            h = ks.layers.ReLU()(h)\n",
    "        \n",
    "    # Fashion MNIST image\n",
    "    y2 = ks.layers.Conv2D(1, 1, activation='sigmoid')(h)\n",
    "\n",
    "    # MIST image\n",
    "    y1 = 2*x - y2\n",
    "\n",
    "    # Actual output: concatenation along the width\n",
    "    y = concatenate([y1,y2], axis=2)\n",
    "\n",
    "    return ks.models.Model(x, outputs=y)"
   ]
  },
  {
   "cell_type": "code",
   "execution_count": 64,
   "metadata": {
    "id": "wrMzbOEq5_t6"
   },
   "outputs": [],
   "source": [
    "unet = build_unet((32,32,1), n_ch=32, L=4, conv_per_L=2)"
   ]
  },
  {
   "cell_type": "code",
   "execution_count": 65,
   "metadata": {
    "colab": {
     "base_uri": "https://localhost:8080/"
    },
    "id": "PaKHj37s6HIW",
    "outputId": "304d044e-dd41-4884-efa3-b6aba9086f22"
   },
   "outputs": [
    {
     "name": "stdout",
     "output_type": "stream",
     "text": [
      "Model: \"model_7\"\n",
      "__________________________________________________________________________________________________\n",
      " Layer (type)                   Output Shape         Param #     Connected to                     \n",
      "==================================================================================================\n",
      " input_8 (InputLayer)           [(None, 32, 32, 1)]  0           []                               \n",
      "                                                                                                  \n",
      " conv2d_99 (Conv2D)             (None, 32, 32, 32)   320         ['input_8[0][0]']                \n",
      "                                                                                                  \n",
      " re_lu_70 (ReLU)                (None, 32, 32, 32)   0           ['conv2d_99[0][0]']              \n",
      "                                                                                                  \n",
      " conv2d_100 (Conv2D)            (None, 32, 32, 32)   9248        ['re_lu_70[0][0]']               \n",
      "                                                                                                  \n",
      " re_lu_71 (ReLU)                (None, 32, 32, 32)   0           ['conv2d_100[0][0]']             \n",
      "                                                                                                  \n",
      " max_pooling2d_14 (MaxPooling2D  (None, 16, 16, 32)  0           ['re_lu_71[0][0]']               \n",
      " )                                                                                                \n",
      "                                                                                                  \n",
      " conv2d_101 (Conv2D)            (None, 16, 16, 64)   18496       ['max_pooling2d_14[0][0]']       \n",
      "                                                                                                  \n",
      " re_lu_72 (ReLU)                (None, 16, 16, 64)   0           ['conv2d_101[0][0]']             \n",
      "                                                                                                  \n",
      " conv2d_102 (Conv2D)            (None, 16, 16, 64)   36928       ['re_lu_72[0][0]']               \n",
      "                                                                                                  \n",
      " re_lu_73 (ReLU)                (None, 16, 16, 64)   0           ['conv2d_102[0][0]']             \n",
      "                                                                                                  \n",
      " max_pooling2d_15 (MaxPooling2D  (None, 8, 8, 64)    0           ['re_lu_73[0][0]']               \n",
      " )                                                                                                \n",
      "                                                                                                  \n",
      " conv2d_103 (Conv2D)            (None, 8, 8, 128)    73856       ['max_pooling2d_15[0][0]']       \n",
      "                                                                                                  \n",
      " re_lu_74 (ReLU)                (None, 8, 8, 128)    0           ['conv2d_103[0][0]']             \n",
      "                                                                                                  \n",
      " conv2d_104 (Conv2D)            (None, 8, 8, 128)    147584      ['re_lu_74[0][0]']               \n",
      "                                                                                                  \n",
      " re_lu_75 (ReLU)                (None, 8, 8, 128)    0           ['conv2d_104[0][0]']             \n",
      "                                                                                                  \n",
      " max_pooling2d_16 (MaxPooling2D  (None, 4, 4, 128)   0           ['re_lu_75[0][0]']               \n",
      " )                                                                                                \n",
      "                                                                                                  \n",
      " conv2d_105 (Conv2D)            (None, 4, 4, 256)    295168      ['max_pooling2d_16[0][0]']       \n",
      "                                                                                                  \n",
      " re_lu_76 (ReLU)                (None, 4, 4, 256)    0           ['conv2d_105[0][0]']             \n",
      "                                                                                                  \n",
      " conv2d_106 (Conv2D)            (None, 4, 4, 256)    590080      ['re_lu_76[0][0]']               \n",
      "                                                                                                  \n",
      " re_lu_77 (ReLU)                (None, 4, 4, 256)    0           ['conv2d_106[0][0]']             \n",
      "                                                                                                  \n",
      " conv2d_transpose_22 (Conv2DTra  (None, 8, 8, 128)   295040      ['re_lu_77[0][0]']               \n",
      " nspose)                                                                                          \n",
      "                                                                                                  \n",
      " concatenate_28 (Concatenate)   (None, 8, 8, 256)    0           ['conv2d_transpose_22[0][0]',    \n",
      "                                                                  're_lu_75[0][0]']               \n",
      "                                                                                                  \n",
      " conv2d_107 (Conv2D)            (None, 8, 8, 128)    295040      ['concatenate_28[0][0]']         \n",
      "                                                                                                  \n",
      " re_lu_78 (ReLU)                (None, 8, 8, 128)    0           ['conv2d_107[0][0]']             \n",
      "                                                                                                  \n",
      " conv2d_108 (Conv2D)            (None, 8, 8, 128)    147584      ['re_lu_78[0][0]']               \n",
      "                                                                                                  \n",
      " re_lu_79 (ReLU)                (None, 8, 8, 128)    0           ['conv2d_108[0][0]']             \n",
      "                                                                                                  \n",
      " conv2d_transpose_23 (Conv2DTra  (None, 16, 16, 64)  73792       ['re_lu_79[0][0]']               \n",
      " nspose)                                                                                          \n",
      "                                                                                                  \n",
      " concatenate_29 (Concatenate)   (None, 16, 16, 128)  0           ['conv2d_transpose_23[0][0]',    \n",
      "                                                                  're_lu_73[0][0]']               \n",
      "                                                                                                  \n",
      " conv2d_109 (Conv2D)            (None, 16, 16, 64)   73792       ['concatenate_29[0][0]']         \n",
      "                                                                                                  \n",
      " re_lu_80 (ReLU)                (None, 16, 16, 64)   0           ['conv2d_109[0][0]']             \n",
      "                                                                                                  \n",
      " conv2d_110 (Conv2D)            (None, 16, 16, 64)   36928       ['re_lu_80[0][0]']               \n",
      "                                                                                                  \n",
      " re_lu_81 (ReLU)                (None, 16, 16, 64)   0           ['conv2d_110[0][0]']             \n",
      "                                                                                                  \n",
      " conv2d_transpose_24 (Conv2DTra  (None, 32, 32, 32)  18464       ['re_lu_81[0][0]']               \n",
      " nspose)                                                                                          \n",
      "                                                                                                  \n",
      " concatenate_30 (Concatenate)   (None, 32, 32, 64)   0           ['conv2d_transpose_24[0][0]',    \n",
      "                                                                  're_lu_71[0][0]']               \n",
      "                                                                                                  \n",
      " conv2d_111 (Conv2D)            (None, 32, 32, 32)   18464       ['concatenate_30[0][0]']         \n",
      "                                                                                                  \n",
      " re_lu_82 (ReLU)                (None, 32, 32, 32)   0           ['conv2d_111[0][0]']             \n",
      "                                                                                                  \n",
      " conv2d_112 (Conv2D)            (None, 32, 32, 32)   9248        ['re_lu_82[0][0]']               \n",
      "                                                                                                  \n",
      " re_lu_83 (ReLU)                (None, 32, 32, 32)   0           ['conv2d_112[0][0]']             \n",
      "                                                                                                  \n",
      " tf.math.multiply_2 (TFOpLambda  (None, 32, 32, 1)   0           ['input_8[0][0]']                \n",
      " )                                                                                                \n",
      "                                                                                                  \n",
      " conv2d_113 (Conv2D)            (None, 32, 32, 1)    33          ['re_lu_83[0][0]']               \n",
      "                                                                                                  \n",
      " tf.math.subtract_3 (TFOpLambda  (None, 32, 32, 1)   0           ['tf.math.multiply_2[0][0]',     \n",
      " )                                                                'conv2d_113[0][0]']             \n",
      "                                                                                                  \n",
      " concatenate_31 (Concatenate)   (None, 32, 64, 1)    0           ['tf.math.subtract_3[0][0]',     \n",
      "                                                                  'conv2d_113[0][0]']             \n",
      "                                                                                                  \n",
      "==================================================================================================\n",
      "Total params: 2,140,065\n",
      "Trainable params: 2,140,065\n",
      "Non-trainable params: 0\n",
      "__________________________________________________________________________________________________\n"
     ]
    }
   ],
   "source": [
    "unet.summary()"
   ]
  },
  {
   "cell_type": "markdown",
   "metadata": {},
   "source": [
    "$2M$ parameters."
   ]
  },
  {
   "cell_type": "code",
   "execution_count": 66,
   "metadata": {
    "id": "zIa8XRQr6sFA"
   },
   "outputs": [],
   "source": [
    "from tensorflow.keras.optimizers import Adam"
   ]
  },
  {
   "cell_type": "code",
   "execution_count": 67,
   "metadata": {
    "id": "Le_FzUiH6sFS"
   },
   "outputs": [],
   "source": [
    "unet.compile(optimizer=Adam(), loss='mse')"
   ]
  },
  {
   "cell_type": "code",
   "execution_count": 68,
   "metadata": {
    "id": "N7scNdBq6sFS"
   },
   "outputs": [],
   "source": [
    "from tensorflow.keras.callbacks import ModelCheckpoint, ReduceLROnPlateau\n",
    "reduce_lr_callback = ReduceLROnPlateau(monitor='val_loss', min_lr=0.000009, min_delta=0.0001, factor=0.75, patience=3, verbose=1, mode='min')\n",
    "reduce_lr_callback = ReduceLROnPlateau(patience=3, min_delta=0.00001)\n",
    "\n",
    "callback_checkpoint = ModelCheckpoint('UNET_singBranch.{epoch:02d}-{val_loss:.4f}.hdf5', save_weights_only=True) "
   ]
  },
  {
   "cell_type": "code",
   "execution_count": 69,
   "metadata": {
    "id": "FtrtMI6p6sFT"
   },
   "outputs": [],
   "source": [
    "steps_per_epoch = 20000\n",
    "val_steps = N_test // batchsize"
   ]
  },
  {
   "cell_type": "code",
   "execution_count": 70,
   "metadata": {
    "colab": {
     "base_uri": "https://localhost:8080/",
     "height": 1000
    },
    "id": "cX3vtQic6sFT",
    "outputId": "3785109a-f40c-43ac-a080-48fa3b5e19e4"
   },
   "outputs": [
    {
     "name": "stdout",
     "output_type": "stream",
     "text": [
      "Epoch 1/50\n",
      "20000/20000 [==============================] - 443s 22ms/step - loss: 0.0015 - val_loss: 7.6863e-04 - lr: 0.0010\n",
      "Epoch 2/50\n",
      "20000/20000 [==============================] - 441s 22ms/step - loss: 7.3563e-04 - val_loss: 6.6719e-04 - lr: 0.0010\n",
      "Epoch 3/50\n",
      "20000/20000 [==============================] - 441s 22ms/step - loss: 6.4580e-04 - val_loss: 6.1713e-04 - lr: 0.0010\n",
      "Epoch 4/50\n",
      "20000/20000 [==============================] - 439s 22ms/step - loss: 6.0506e-04 - val_loss: 5.6588e-04 - lr: 0.0010\n",
      "Epoch 5/50\n",
      "20000/20000 [==============================] - 438s 22ms/step - loss: 5.8033e-04 - val_loss: 5.6312e-04 - lr: 0.0010\n",
      "Epoch 6/50\n",
      "20000/20000 [==============================] - 437s 22ms/step - loss: 5.6261e-04 - val_loss: 5.4125e-04 - lr: 0.0010\n",
      "Epoch 7/50\n",
      "20000/20000 [==============================] - 437s 22ms/step - loss: 5.4720e-04 - val_loss: 5.5716e-04 - lr: 0.0010\n",
      "Epoch 8/50\n",
      "20000/20000 [==============================] - 438s 22ms/step - loss: 5.3677e-04 - val_loss: 5.4220e-04 - lr: 0.0010\n",
      "Epoch 9/50\n",
      "20000/20000 [==============================] - 439s 22ms/step - loss: 5.2650e-04 - val_loss: 5.1086e-04 - lr: 0.0010\n",
      "Epoch 10/50\n",
      "20000/20000 [==============================] - 436s 22ms/step - loss: 5.2038e-04 - val_loss: 5.2532e-04 - lr: 0.0010\n",
      "Epoch 11/50\n",
      "20000/20000 [==============================] - 436s 22ms/step - loss: 5.1474e-04 - val_loss: 5.0755e-04 - lr: 0.0010\n",
      "Epoch 12/50\n",
      "20000/20000 [==============================] - 438s 22ms/step - loss: 5.0968e-04 - val_loss: 5.0347e-04 - lr: 0.0010\n",
      "Epoch 13/50\n",
      "20000/20000 [==============================] - 436s 22ms/step - loss: 4.5443e-04 - val_loss: 4.5458e-04 - lr: 1.0000e-04\n",
      "Epoch 14/50\n",
      "20000/20000 [==============================] - 436s 22ms/step - loss: 4.4512e-04 - val_loss: 4.4260e-04 - lr: 1.0000e-04\n",
      "Epoch 15/50\n",
      "20000/20000 [==============================] - 439s 22ms/step - loss: 4.4153e-04 - val_loss: 4.5289e-04 - lr: 1.0000e-04\n",
      "Epoch 16/50\n",
      "20000/20000 [==============================] - 440s 22ms/step - loss: 4.3738e-04 - val_loss: 4.4188e-04 - lr: 1.0000e-04\n",
      "Epoch 17/50\n",
      "20000/20000 [==============================] - 439s 22ms/step - loss: 4.3405e-04 - val_loss: 4.3760e-04 - lr: 1.0000e-04\n",
      "Epoch 18/50\n",
      "20000/20000 [==============================] - 439s 22ms/step - loss: 4.2934e-04 - val_loss: 4.4292e-04 - lr: 1.0000e-05\n",
      "Epoch 19/50\n",
      "20000/20000 [==============================] - 437s 22ms/step - loss: 4.2783e-04 - val_loss: 4.3840e-04 - lr: 1.0000e-05\n",
      "Epoch 20/50\n",
      "20000/20000 [==============================] - 438s 22ms/step - loss: 4.2751e-04 - val_loss: 4.3589e-04 - lr: 1.0000e-05\n",
      "Epoch 21/50\n",
      "  473/20000 [..............................] - ETA: 7:11 - loss: 4.2563e-04"
     ]
    },
    {
     "ename": "KeyboardInterrupt",
     "evalue": "ignored",
     "output_type": "error",
     "traceback": [
      "\u001b[0;31m---------------------------------------------------------------------------\u001b[0m",
      "\u001b[0;31mKeyboardInterrupt\u001b[0m                         Traceback (most recent call last)",
      "\u001b[0;32m<ipython-input-70-44c5dd12bd81>\u001b[0m in \u001b[0;36m<module>\u001b[0;34m()\u001b[0m\n\u001b[1;32m      1\u001b[0m hist = unet.fit(train_generator, epochs=50, batch_size=batchsize, validation_data=test_generator, callbacks=[callback_checkpoint,reduce_lr_callback],\n\u001b[0;32m----> 2\u001b[0;31m               steps_per_epoch=steps_per_epoch, validation_steps=val_steps)\n\u001b[0m",
      "\u001b[0;32m/usr/local/lib/python3.7/dist-packages/keras/utils/traceback_utils.py\u001b[0m in \u001b[0;36merror_handler\u001b[0;34m(*args, **kwargs)\u001b[0m\n\u001b[1;32m     62\u001b[0m     \u001b[0mfiltered_tb\u001b[0m \u001b[0;34m=\u001b[0m \u001b[0;32mNone\u001b[0m\u001b[0;34m\u001b[0m\u001b[0;34m\u001b[0m\u001b[0m\n\u001b[1;32m     63\u001b[0m     \u001b[0;32mtry\u001b[0m\u001b[0;34m:\u001b[0m\u001b[0;34m\u001b[0m\u001b[0;34m\u001b[0m\u001b[0m\n\u001b[0;32m---> 64\u001b[0;31m       \u001b[0;32mreturn\u001b[0m \u001b[0mfn\u001b[0m\u001b[0;34m(\u001b[0m\u001b[0;34m*\u001b[0m\u001b[0margs\u001b[0m\u001b[0;34m,\u001b[0m \u001b[0;34m**\u001b[0m\u001b[0mkwargs\u001b[0m\u001b[0;34m)\u001b[0m\u001b[0;34m\u001b[0m\u001b[0;34m\u001b[0m\u001b[0m\n\u001b[0m\u001b[1;32m     65\u001b[0m     \u001b[0;32mexcept\u001b[0m \u001b[0mException\u001b[0m \u001b[0;32mas\u001b[0m \u001b[0me\u001b[0m\u001b[0;34m:\u001b[0m  \u001b[0;31m# pylint: disable=broad-except\u001b[0m\u001b[0;34m\u001b[0m\u001b[0;34m\u001b[0m\u001b[0m\n\u001b[1;32m     66\u001b[0m       \u001b[0mfiltered_tb\u001b[0m \u001b[0;34m=\u001b[0m \u001b[0m_process_traceback_frames\u001b[0m\u001b[0;34m(\u001b[0m\u001b[0me\u001b[0m\u001b[0;34m.\u001b[0m\u001b[0m__traceback__\u001b[0m\u001b[0;34m)\u001b[0m\u001b[0;34m\u001b[0m\u001b[0;34m\u001b[0m\u001b[0m\n",
      "\u001b[0;32m/usr/local/lib/python3.7/dist-packages/keras/engine/training.py\u001b[0m in \u001b[0;36mfit\u001b[0;34m(self, x, y, batch_size, epochs, verbose, callbacks, validation_split, validation_data, shuffle, class_weight, sample_weight, initial_epoch, steps_per_epoch, validation_steps, validation_batch_size, validation_freq, max_queue_size, workers, use_multiprocessing)\u001b[0m\n\u001b[1;32m   1382\u001b[0m                 _r=1):\n\u001b[1;32m   1383\u001b[0m               \u001b[0mcallbacks\u001b[0m\u001b[0;34m.\u001b[0m\u001b[0mon_train_batch_begin\u001b[0m\u001b[0;34m(\u001b[0m\u001b[0mstep\u001b[0m\u001b[0;34m)\u001b[0m\u001b[0;34m\u001b[0m\u001b[0;34m\u001b[0m\u001b[0m\n\u001b[0;32m-> 1384\u001b[0;31m               \u001b[0mtmp_logs\u001b[0m \u001b[0;34m=\u001b[0m \u001b[0mself\u001b[0m\u001b[0;34m.\u001b[0m\u001b[0mtrain_function\u001b[0m\u001b[0;34m(\u001b[0m\u001b[0miterator\u001b[0m\u001b[0;34m)\u001b[0m\u001b[0;34m\u001b[0m\u001b[0;34m\u001b[0m\u001b[0m\n\u001b[0m\u001b[1;32m   1385\u001b[0m               \u001b[0;32mif\u001b[0m \u001b[0mdata_handler\u001b[0m\u001b[0;34m.\u001b[0m\u001b[0mshould_sync\u001b[0m\u001b[0;34m:\u001b[0m\u001b[0;34m\u001b[0m\u001b[0;34m\u001b[0m\u001b[0m\n\u001b[1;32m   1386\u001b[0m                 \u001b[0mcontext\u001b[0m\u001b[0;34m.\u001b[0m\u001b[0masync_wait\u001b[0m\u001b[0;34m(\u001b[0m\u001b[0;34m)\u001b[0m\u001b[0;34m\u001b[0m\u001b[0;34m\u001b[0m\u001b[0m\n",
      "\u001b[0;32m/usr/local/lib/python3.7/dist-packages/tensorflow/python/util/traceback_utils.py\u001b[0m in \u001b[0;36merror_handler\u001b[0;34m(*args, **kwargs)\u001b[0m\n\u001b[1;32m    148\u001b[0m     \u001b[0mfiltered_tb\u001b[0m \u001b[0;34m=\u001b[0m \u001b[0;32mNone\u001b[0m\u001b[0;34m\u001b[0m\u001b[0;34m\u001b[0m\u001b[0m\n\u001b[1;32m    149\u001b[0m     \u001b[0;32mtry\u001b[0m\u001b[0;34m:\u001b[0m\u001b[0;34m\u001b[0m\u001b[0;34m\u001b[0m\u001b[0m\n\u001b[0;32m--> 150\u001b[0;31m       \u001b[0;32mreturn\u001b[0m \u001b[0mfn\u001b[0m\u001b[0;34m(\u001b[0m\u001b[0;34m*\u001b[0m\u001b[0margs\u001b[0m\u001b[0;34m,\u001b[0m \u001b[0;34m**\u001b[0m\u001b[0mkwargs\u001b[0m\u001b[0;34m)\u001b[0m\u001b[0;34m\u001b[0m\u001b[0;34m\u001b[0m\u001b[0m\n\u001b[0m\u001b[1;32m    151\u001b[0m     \u001b[0;32mexcept\u001b[0m \u001b[0mException\u001b[0m \u001b[0;32mas\u001b[0m \u001b[0me\u001b[0m\u001b[0;34m:\u001b[0m\u001b[0;34m\u001b[0m\u001b[0;34m\u001b[0m\u001b[0m\n\u001b[1;32m    152\u001b[0m       \u001b[0mfiltered_tb\u001b[0m \u001b[0;34m=\u001b[0m \u001b[0m_process_traceback_frames\u001b[0m\u001b[0;34m(\u001b[0m\u001b[0me\u001b[0m\u001b[0;34m.\u001b[0m\u001b[0m__traceback__\u001b[0m\u001b[0;34m)\u001b[0m\u001b[0;34m\u001b[0m\u001b[0;34m\u001b[0m\u001b[0m\n",
      "\u001b[0;32m/usr/local/lib/python3.7/dist-packages/tensorflow/python/eager/def_function.py\u001b[0m in \u001b[0;36m__call__\u001b[0;34m(self, *args, **kwds)\u001b[0m\n\u001b[1;32m    913\u001b[0m \u001b[0;34m\u001b[0m\u001b[0m\n\u001b[1;32m    914\u001b[0m       \u001b[0;32mwith\u001b[0m \u001b[0mOptionalXlaContext\u001b[0m\u001b[0;34m(\u001b[0m\u001b[0mself\u001b[0m\u001b[0;34m.\u001b[0m\u001b[0m_jit_compile\u001b[0m\u001b[0;34m)\u001b[0m\u001b[0;34m:\u001b[0m\u001b[0;34m\u001b[0m\u001b[0;34m\u001b[0m\u001b[0m\n\u001b[0;32m--> 915\u001b[0;31m         \u001b[0mresult\u001b[0m \u001b[0;34m=\u001b[0m \u001b[0mself\u001b[0m\u001b[0;34m.\u001b[0m\u001b[0m_call\u001b[0m\u001b[0;34m(\u001b[0m\u001b[0;34m*\u001b[0m\u001b[0margs\u001b[0m\u001b[0;34m,\u001b[0m \u001b[0;34m**\u001b[0m\u001b[0mkwds\u001b[0m\u001b[0;34m)\u001b[0m\u001b[0;34m\u001b[0m\u001b[0;34m\u001b[0m\u001b[0m\n\u001b[0m\u001b[1;32m    916\u001b[0m \u001b[0;34m\u001b[0m\u001b[0m\n\u001b[1;32m    917\u001b[0m       \u001b[0mnew_tracing_count\u001b[0m \u001b[0;34m=\u001b[0m \u001b[0mself\u001b[0m\u001b[0;34m.\u001b[0m\u001b[0mexperimental_get_tracing_count\u001b[0m\u001b[0;34m(\u001b[0m\u001b[0;34m)\u001b[0m\u001b[0;34m\u001b[0m\u001b[0;34m\u001b[0m\u001b[0m\n",
      "\u001b[0;32m/usr/local/lib/python3.7/dist-packages/tensorflow/python/eager/def_function.py\u001b[0m in \u001b[0;36m_call\u001b[0;34m(self, *args, **kwds)\u001b[0m\n\u001b[1;32m    945\u001b[0m       \u001b[0;31m# In this case we have created variables on the first call, so we run the\u001b[0m\u001b[0;34m\u001b[0m\u001b[0;34m\u001b[0m\u001b[0;34m\u001b[0m\u001b[0m\n\u001b[1;32m    946\u001b[0m       \u001b[0;31m# defunned version which is guaranteed to never create variables.\u001b[0m\u001b[0;34m\u001b[0m\u001b[0;34m\u001b[0m\u001b[0;34m\u001b[0m\u001b[0m\n\u001b[0;32m--> 947\u001b[0;31m       \u001b[0;32mreturn\u001b[0m \u001b[0mself\u001b[0m\u001b[0;34m.\u001b[0m\u001b[0m_stateless_fn\u001b[0m\u001b[0;34m(\u001b[0m\u001b[0;34m*\u001b[0m\u001b[0margs\u001b[0m\u001b[0;34m,\u001b[0m \u001b[0;34m**\u001b[0m\u001b[0mkwds\u001b[0m\u001b[0;34m)\u001b[0m  \u001b[0;31m# pylint: disable=not-callable\u001b[0m\u001b[0;34m\u001b[0m\u001b[0;34m\u001b[0m\u001b[0m\n\u001b[0m\u001b[1;32m    948\u001b[0m     \u001b[0;32melif\u001b[0m \u001b[0mself\u001b[0m\u001b[0;34m.\u001b[0m\u001b[0m_stateful_fn\u001b[0m \u001b[0;32mis\u001b[0m \u001b[0;32mnot\u001b[0m \u001b[0;32mNone\u001b[0m\u001b[0;34m:\u001b[0m\u001b[0;34m\u001b[0m\u001b[0;34m\u001b[0m\u001b[0m\n\u001b[1;32m    949\u001b[0m       \u001b[0;31m# Release the lock early so that multiple threads can perform the call\u001b[0m\u001b[0;34m\u001b[0m\u001b[0;34m\u001b[0m\u001b[0;34m\u001b[0m\u001b[0m\n",
      "\u001b[0;32m/usr/local/lib/python3.7/dist-packages/tensorflow/python/eager/function.py\u001b[0m in \u001b[0;36m__call__\u001b[0;34m(self, *args, **kwargs)\u001b[0m\n\u001b[1;32m   2955\u001b[0m        filtered_flat_args) = self._maybe_define_function(args, kwargs)\n\u001b[1;32m   2956\u001b[0m     return graph_function._call_flat(\n\u001b[0;32m-> 2957\u001b[0;31m         filtered_flat_args, captured_inputs=graph_function.captured_inputs)  # pylint: disable=protected-access\n\u001b[0m\u001b[1;32m   2958\u001b[0m \u001b[0;34m\u001b[0m\u001b[0m\n\u001b[1;32m   2959\u001b[0m   \u001b[0;34m@\u001b[0m\u001b[0mproperty\u001b[0m\u001b[0;34m\u001b[0m\u001b[0;34m\u001b[0m\u001b[0m\n",
      "\u001b[0;32m/usr/local/lib/python3.7/dist-packages/tensorflow/python/eager/function.py\u001b[0m in \u001b[0;36m_call_flat\u001b[0;34m(self, args, captured_inputs, cancellation_manager)\u001b[0m\n\u001b[1;32m   1852\u001b[0m       \u001b[0;31m# No tape is watching; skip to running the function.\u001b[0m\u001b[0;34m\u001b[0m\u001b[0;34m\u001b[0m\u001b[0;34m\u001b[0m\u001b[0m\n\u001b[1;32m   1853\u001b[0m       return self._build_call_outputs(self._inference_function.call(\n\u001b[0;32m-> 1854\u001b[0;31m           ctx, args, cancellation_manager=cancellation_manager))\n\u001b[0m\u001b[1;32m   1855\u001b[0m     forward_backward = self._select_forward_and_backward_functions(\n\u001b[1;32m   1856\u001b[0m         \u001b[0margs\u001b[0m\u001b[0;34m,\u001b[0m\u001b[0;34m\u001b[0m\u001b[0;34m\u001b[0m\u001b[0m\n",
      "\u001b[0;32m/usr/local/lib/python3.7/dist-packages/tensorflow/python/eager/function.py\u001b[0m in \u001b[0;36m_build_call_outputs\u001b[0;34m(self, result)\u001b[0m\n\u001b[1;32m   2208\u001b[0m     \u001b[0;31m# Replace outputs with results, skipping over any 'None' values.\u001b[0m\u001b[0;34m\u001b[0m\u001b[0;34m\u001b[0m\u001b[0;34m\u001b[0m\u001b[0m\n\u001b[1;32m   2209\u001b[0m     outputs_list = nest.flatten(\n\u001b[0;32m-> 2210\u001b[0;31m         self._func_graph.structured_outputs, expand_composites=True)\n\u001b[0m\u001b[1;32m   2211\u001b[0m     \u001b[0mj\u001b[0m \u001b[0;34m=\u001b[0m \u001b[0;36m0\u001b[0m\u001b[0;34m\u001b[0m\u001b[0;34m\u001b[0m\u001b[0m\n\u001b[1;32m   2212\u001b[0m     \u001b[0;32mfor\u001b[0m \u001b[0mi\u001b[0m\u001b[0;34m,\u001b[0m \u001b[0mo\u001b[0m \u001b[0;32min\u001b[0m \u001b[0menumerate\u001b[0m\u001b[0;34m(\u001b[0m\u001b[0moutputs_list\u001b[0m\u001b[0;34m)\u001b[0m\u001b[0;34m:\u001b[0m\u001b[0;34m\u001b[0m\u001b[0;34m\u001b[0m\u001b[0m\n",
      "\u001b[0;32m/usr/local/lib/python3.7/dist-packages/tensorflow/python/util/nest.py\u001b[0m in \u001b[0;36mflatten\u001b[0;34m(structure, expand_composites)\u001b[0m\n\u001b[1;32m    449\u001b[0m     \u001b[0;32mreturn\u001b[0m \u001b[0;34m[\u001b[0m\u001b[0;32mNone\u001b[0m\u001b[0;34m]\u001b[0m\u001b[0;34m\u001b[0m\u001b[0;34m\u001b[0m\u001b[0m\n\u001b[1;32m    450\u001b[0m   \u001b[0mexpand_composites\u001b[0m \u001b[0;34m=\u001b[0m \u001b[0mbool\u001b[0m\u001b[0;34m(\u001b[0m\u001b[0mexpand_composites\u001b[0m\u001b[0;34m)\u001b[0m\u001b[0;34m\u001b[0m\u001b[0;34m\u001b[0m\u001b[0m\n\u001b[0;32m--> 451\u001b[0;31m   \u001b[0;32mreturn\u001b[0m \u001b[0m_pywrap_utils\u001b[0m\u001b[0;34m.\u001b[0m\u001b[0mFlatten\u001b[0m\u001b[0;34m(\u001b[0m\u001b[0mstructure\u001b[0m\u001b[0;34m,\u001b[0m \u001b[0mexpand_composites\u001b[0m\u001b[0;34m)\u001b[0m\u001b[0;34m\u001b[0m\u001b[0;34m\u001b[0m\u001b[0m\n\u001b[0m\u001b[1;32m    452\u001b[0m \u001b[0;34m\u001b[0m\u001b[0m\n\u001b[1;32m    453\u001b[0m \u001b[0;34m\u001b[0m\u001b[0m\n",
      "\u001b[0;31mKeyboardInterrupt\u001b[0m: "
     ]
    }
   ],
   "source": [
    "hist = unet.fit(train_generator, epochs=50, batch_size=batchsize, validation_data=test_generator, callbacks=[callback_checkpoint,reduce_lr_callback],\n",
    "              steps_per_epoch=steps_per_epoch, validation_steps=val_steps)"
   ]
  },
  {
   "cell_type": "code",
   "execution_count": 71,
   "metadata": {
    "colab": {
     "base_uri": "https://localhost:8080/"
    },
    "id": "Y2jzB5JFTsYK",
    "outputId": "1da60835-3382-4518-c3a3-4d413ea8a2b2"
   },
   "outputs": [
    {
     "name": "stdout",
     "output_type": "stream",
     "text": [
      "625/625 [==============================] - 4s 5ms/step - loss: 4.3183e-04\n",
      "625/625 [==============================] - 3s 5ms/step - loss: 4.3934e-04\n",
      "625/625 [==============================] - 3s 5ms/step - loss: 4.3420e-04\n",
      "625/625 [==============================] - 3s 5ms/step - loss: 4.3042e-04\n",
      "625/625 [==============================] - 3s 5ms/step - loss: 4.4289e-04\n",
      "625/625 [==============================] - 3s 5ms/step - loss: 4.3461e-04\n",
      "625/625 [==============================] - 3s 5ms/step - loss: 4.2904e-04\n",
      "625/625 [==============================] - 3s 5ms/step - loss: 4.3646e-04\n",
      "625/625 [==============================] - 3s 5ms/step - loss: 4.3677e-04\n",
      "625/625 [==============================] - 3s 5ms/step - loss: 4.3830e-04\n",
      "[0.00043183265370316803, 0.0004393371054902673, 0.0004342032771091908, 0.00043042254401370883, 0.0004428891115821898, 0.0004346093046478927, 0.00042903536814264953, 0.00043645757250487804, 0.0004367740184534341, 0.00043830095091834664]\n",
      "Min: 0.00042903536814264953\n",
      "Mean: 0.00043538619065657257\n",
      "Std: 4.038248366436228e-06\n"
     ]
    }
   ],
   "source": [
    "test_generator1 = datagenerator(mnist_x_test, fashion_mnist_x_test, 20000)\n",
    "mse_list = []\n",
    "for i in range(10):\n",
    "  x_batch, y_batch = next(test_generator1)\n",
    "  mse = unet.evaluate(x_batch, y_batch)\n",
    "  mse_list.append(mse)\n",
    "print(mse_list)\n",
    "print('Min:', min(mse_list))\n",
    "print('Mean:', np.mean(mse_list))\n",
    "print('Std:', np.std(mse_list))"
   ]
  },
  {
   "cell_type": "markdown",
   "metadata": {},
   "source": [
    "Min: $4.3e-4$. Mean: $4.3e-4$. Std: $4e-6$.\n",
    "\n",
    "**Better scores!!!**"
   ]
  },
  {
   "cell_type": "code",
   "execution_count": 75,
   "metadata": {
    "colab": {
     "base_uri": "https://localhost:8080/",
     "height": 666
    },
    "id": "A6ZaLJm5T5av",
    "outputId": "90f003d4-6b92-490b-8dd8-52782b09fa2a"
   },
   "outputs": [
    {
     "data": {
      "image/png": "[encoded data removed]",
      "text/plain": [
       "<Figure size 432x288 with 1 Axes>"
      ]
     },
     "metadata": {
      "needs_background": "light"
     },
     "output_type": "display_data"
    },
    {
     "data": {
      "image/png": "[encoded data removed]",
      "text/plain": [
       "<Figure size 432x288 with 1 Axes>"
      ]
     },
     "metadata": {
      "needs_background": "light"
     },
     "output_type": "display_data"
    },
    {
     "data": {
      "image/png": "[encoded data removed]",
      "text/plain": [
       "<Figure size 432x288 with 1 Axes>"
      ]
     },
     "metadata": {
      "needs_background": "light"
     },
     "output_type": "display_data"
    }
   ],
   "source": [
    "x_batch, y_batch = next(test_generator)\n",
    "x = x_batch[0]\n",
    "y = y_batch[0]\n",
    "y_pred = unet.predict(x.reshape((1,32,32)))\n",
    "plt.imshow(x,cmap='gray', interpolation='nearest')\n",
    "plt.show()\n",
    "plt.imshow(y, cmap='gray', interpolation='nearest')\n",
    "plt.show()\n",
    "plt.imshow(y_pred[0].reshape((32,64)), cmap='gray', interpolation='nearest')\n",
    "plt.show()"
   ]
  }
 ],
 "metadata": {
  "accelerator": "GPU",
  "colab": {
   "collapsed_sections": [],
   "name": "Image separation.ipynb",
   "provenance": []
  },
  "gpuClass": "standard",
  "kernelspec": {
   "display_name": "Python 3.10.0 64-bit",
   "language": "python",
   "name": "python3"
  },
  "language_info": {
   "codemirror_mode": {
    "name": "ipython",
    "version": 3
   },
   "file_extension": ".py",
   "mimetype": "text/x-python",
   "name": "python",
   "nbconvert_exporter": "python",
   "pygments_lexer": "ipython3",
   "version": "3.10.0"
  },
  "vscode": {
   "interpreter": {
    "hash": "d14990a399795653de35f1f5395269163893147857e74010bc072f6042c8e8da"
   }
  }
 },
 "nbformat": 4,
 "nbformat_minor": 1
}
