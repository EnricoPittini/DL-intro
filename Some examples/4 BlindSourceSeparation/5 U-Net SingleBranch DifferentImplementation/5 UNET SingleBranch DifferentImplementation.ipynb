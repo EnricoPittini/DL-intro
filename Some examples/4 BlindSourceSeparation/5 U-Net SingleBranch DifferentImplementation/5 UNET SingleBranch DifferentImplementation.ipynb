{
 "cells": [
  {
   "cell_type": "markdown",
   "metadata": {
    "id": "fW3n6RN6Fpn8"
   },
   "source": [
    "## DATASET"
   ]
  },
  {
   "cell_type": "code",
   "execution_count": null,
   "metadata": {
    "id": "JSa4gXMIRx2s"
   },
   "outputs": [],
   "source": [
    "import numpy as np\n",
    "from tensorflow.keras.datasets import mnist, fashion_mnist\n",
    "import matplotlib.pyplot as plt"
   ]
  },
  {
   "cell_type": "markdown",
   "metadata": {
    "id": "0PvzcVDjFvGi"
   },
   "source": [
    "Loading the MNIST and Fashion MNIST dataset"
   ]
  },
  {
   "cell_type": "code",
   "execution_count": null,
   "metadata": {
    "colab": {
     "base_uri": "https://localhost:8080/"
    },
    "id": "HligbBqGRx2s",
    "outputId": "bb05e827-6374-44e5-965b-b0fc879d6e8a"
   },
   "outputs": [
    {
     "name": "stdout",
     "output_type": "stream",
     "text": [
      "\n",
      "Shape MNIST train: (60000, 28, 28)\n",
      "Shape Fashion MNIST train: (60000, 28, 28)\n",
      "\n",
      "Shape MNIST train after padding: (60000, 32, 32)\n",
      "Shape Fashion MNIST train after padding: (60000, 32, 32)\n"
     ]
    }
   ],
   "source": [
    "(mnist_x_train, mnist_y_train), (mnist_x_test, mnist_y_test) = mnist.load_data()\n",
    "(fashion_mnist_x_train, fashion_mnist_y_train), (fashion_mnist_x_test, fashion_mnist_y_test) = fashion_mnist.load_data()\n",
    "print()\n",
    "\n",
    "print('Shape MNIST train:', np.shape(mnist_x_train))\n",
    "print('Shape Fashion MNIST train:', np.shape(fashion_mnist_x_train))\n",
    "print()\n",
    "\n",
    "# Normalization and Padding\n",
    "mnist_x_train = np.pad(mnist_x_train,((0,0),(2,2),(2,2)))/255.\n",
    "mnist_x_test = np.pad(mnist_x_test,((0,0),(2,2),(2,2)))/255.\n",
    "print('Shape MNIST train after padding:', np.shape(mnist_x_train))\n",
    "fashion_mnist_x_train = np.pad(fashion_mnist_x_train,((0,0),(2,2),(2,2)))/255.\n",
    "fashion_mnist_x_test = np.pad(fashion_mnist_x_test,((0,0),(2,2),(2,2)))/255.\n",
    "print('Shape Fashion MNIST train after padding:', np.shape(mnist_x_train))"
   ]
  },
  {
   "cell_type": "code",
   "execution_count": null,
   "metadata": {
    "colab": {
     "base_uri": "https://localhost:8080/"
    },
    "id": "gTqEhsA_MWHJ",
    "outputId": "53897961-e9f0-4320-f990-b88ffa86d8b2"
   },
   "outputs": [
    {
     "name": "stdout",
     "output_type": "stream",
     "text": [
      "Number of MNIST/fashion MNIST training samples: 60000\n",
      "Number of MNIST/fashion MNIST test samples: 10000\n",
      "MNIST/fashion MNIST resolution: (32, 32)\n"
     ]
    }
   ],
   "source": [
    "print(f'Number of MNIST/fashion MNIST training samples: {np.shape(mnist_x_train)[0]}')\n",
    "print(f'Number of MNIST/fashion MNIST test samples: {np.shape(mnist_x_test)[0]}')\n",
    "print(f'MNIST/fashion MNIST resolution: {np.shape(mnist_x_test)[1:]}')"
   ]
  },
  {
   "cell_type": "markdown",
   "metadata": {
    "id": "td79ShTMP4K4"
   },
   "source": [
    "Only one channel (grey-scale images)."
   ]
  },
  {
   "cell_type": "code",
   "execution_count": null,
   "metadata": {
    "id": "puyeUReORx2u"
   },
   "outputs": [],
   "source": [
    "N_train, h, w = mnist_x_train.shape[0], mnist_x_train.shape[1], mnist_x_train.shape[2]\n",
    "N_test = mnist_x_test.shape[0]"
   ]
  },
  {
   "cell_type": "markdown",
   "metadata": {
    "id": "KB274CUpMv5R"
   },
   "source": [
    "### Data generator\n",
    "Generator which generates batches. A batch is a couple `x_batch, y_batch`, containing `batchsize` number of samples. `x_batch` represents the input, and it contains images `x`: each image `x` has spatial dimensions $32*32$ and it contains a pair of MNIST-fashion MNIST images added together. `y_batch` represents the ground truth, and it contains the images `y`: each image `y` has spatial dimensions $32*64$ and it contains the same pair of MNIST-fashion MNIST images concatenated along the width."
   ]
  },
  {
   "cell_type": "code",
   "execution_count": null,
   "metadata": {
    "id": "pelzhL0uRx2u"
   },
   "outputs": [],
   "source": [
    "def datagenerator(x1, x2, batchsize):\n",
    "    # x1: first dataset of images. In our case, MNIST dataset (either train or test)\n",
    "    # x2: second dataset of images. In our case, fashion MNIST dataset (either train or test)\n",
    "\n",
    "    n1 = x1.shape[0]\n",
    "    n2 = x2.shape[0]\n",
    "    while True:\n",
    "        num1 = np.random.randint(0, n1, batchsize)\n",
    "        num2 = np.random.randint(0, n2, batchsize)\n",
    "\n",
    "        x_batch = (x1[num1] + x2[num2]) / 2.0\n",
    "        y_batch = np.concatenate((x1[num1], x2[num2]), axis=2)\n",
    "\n",
    "        yield x_batch, y_batch "
   ]
  },
  {
   "cell_type": "code",
   "execution_count": null,
   "metadata": {
    "id": "oMW8s3frRx2u"
   },
   "outputs": [],
   "source": [
    "batchsize = 64"
   ]
  },
  {
   "cell_type": "code",
   "execution_count": null,
   "metadata": {
    "id": "Pae00fk6Rx2v"
   },
   "outputs": [],
   "source": [
    "# Generator for creating the training batches\n",
    "train_generator = datagenerator(mnist_x_train, fashion_mnist_x_train, batchsize)\n",
    "\n",
    "# Generator for creating the validation batches\n",
    "test_generator = datagenerator(mnist_x_test, fashion_mnist_x_test, batchsize)"
   ]
  },
  {
   "cell_type": "markdown",
   "metadata": {
    "id": "B_HWmrN3O5TY"
   },
   "source": [
    "Example of a training batch"
   ]
  },
  {
   "cell_type": "code",
   "execution_count": null,
   "metadata": {
    "colab": {
     "base_uri": "https://localhost:8080/"
    },
    "id": "zZwwy43SRx2v",
    "outputId": "78e60495-6568-4f61-8e92-295ab9fffa5d"
   },
   "outputs": [
    {
     "name": "stdout",
     "output_type": "stream",
     "text": [
      "Shape of the x_batch: (64, 32, 32)\n",
      "Shape of the y_batch: (64, 32, 64)\n"
     ]
    }
   ],
   "source": [
    "x_batch, y_batch = next(train_generator)\n",
    "print('Shape of the x_batch:', x_batch.shape)\n",
    "print('Shape of the y_batch:', y_batch.shape)"
   ]
  },
  {
   "cell_type": "markdown",
   "metadata": {
    "id": "vCbz5aukPNVG"
   },
   "source": [
    "The data is already normalized into $[0,1]$"
   ]
  },
  {
   "cell_type": "code",
   "execution_count": null,
   "metadata": {
    "colab": {
     "base_uri": "https://localhost:8080/"
    },
    "id": "X1pc-nZKRx2v",
    "outputId": "01a2bd6c-1150-4e73-a221-cc98120322e2"
   },
   "outputs": [
    {
     "data": {
      "text/plain": [
       "(0.0, 0.8313725490196078)"
      ]
     },
     "execution_count": 12,
     "metadata": {},
     "output_type": "execute_result"
    }
   ],
   "source": [
    "x_batch[0].min(), x_batch[0].max()"
   ]
  },
  {
   "cell_type": "code",
   "execution_count": null,
   "metadata": {
    "colab": {
     "base_uri": "https://localhost:8080/"
    },
    "id": "2hpb20YqRx2w",
    "outputId": "7bd79b76-c150-4c34-d78c-e19e71f397ae"
   },
   "outputs": [
    {
     "data": {
      "text/plain": [
       "(0.0, 1.0)"
      ]
     },
     "execution_count": 13,
     "metadata": {},
     "output_type": "execute_result"
    }
   ],
   "source": [
    "y_batch[0].min(), y_batch[0].max()"
   ]
  },
  {
   "cell_type": "markdown",
   "metadata": {
    "id": "5nECVcliPTOM"
   },
   "source": [
    "Visualization of a sample in the batch"
   ]
  },
  {
   "cell_type": "code",
   "execution_count": null,
   "metadata": {
    "colab": {
     "base_uri": "https://localhost:8080/",
     "height": 466
    },
    "id": "fT7UnUpbPX4D",
    "outputId": "79703945-11c8-47a1-ef2b-c0fe5e65c370"
   },
   "outputs": [
    {
     "data": {
      "image/png": "[encoded data removed]",
      "text/plain": [
       "<Figure size 432x288 with 1 Axes>"
      ]
     },
     "metadata": {
      "needs_background": "light"
     },
     "output_type": "display_data"
    },
    {
     "data": {
      "image/png": "[encoded data removed]",
      "text/plain": [
       "<Figure size 432x288 with 1 Axes>"
      ]
     },
     "metadata": {
      "needs_background": "light"
     },
     "output_type": "display_data"
    }
   ],
   "source": [
    "x = x_batch[0]  # Input\n",
    "y = y_batch[0]  # Ground truth\n",
    "plt.imshow(x,cmap='gray', interpolation='nearest')\n",
    "plt.show()\n",
    "plt.imshow(y, cmap='gray', interpolation='nearest')\n",
    "plt.show()"
   ]
  },
  {
   "cell_type": "markdown",
   "metadata": {},
   "source": [
    "## MODEL\n",
    "U-net of the same structure of the previous notebook (single branch, producing only the fashion MNIST image, and then producing the other image by subtraction). But this time a different implementation of the U-net is used.\n",
    "\n",
    "The major difference is that strided convolution is used instead of MaxPooling. Also, BatchNormalization is used."
   ]
  },
  {
   "cell_type": "code",
   "execution_count": 11,
   "metadata": {
    "id": "kwyQE5u3Tz2r"
   },
   "outputs": [],
   "source": [
    "import tensorflow.keras as ks"
   ]
  },
  {
   "cell_type": "code",
   "execution_count": 12,
   "metadata": {
    "id": "iyWtvlSfSbTt"
   },
   "outputs": [],
   "source": [
    "def build_unet(input_shape, c0=32, L=4, conv_per_block=2):\n",
    "    \"\"\" Returns the U-Net model\n",
    "    \n",
    "    Arguments\n",
    "    ---------\n",
    "    input_shape : tuple of int\n",
    "        Tuple (w,h,c)\n",
    "    k : int\n",
    "        Number of possible different classes. \n",
    "        The output has shape (w,h,k)\n",
    "    c0 : int\n",
    "        Number of channels in the first floor of the network. It is equal to the number of channels in the last floor \n",
    "        of the network.\n",
    "    L : int\n",
    "        Number of levels, excluded the last one. Basically, number of corresponding pairs of downsampling-upsampling \n",
    "        floors.\n",
    "    conv_per_block : int\n",
    "        Number of Conv layers in each floor/block. Both downsampling and upsampling floor.\n",
    "        \n",
    "    \"\"\"\n",
    "    xin = ks.layers.Input(shape=input_shape)\n",
    "\n",
    "    # List storing the downsampling floors. It will be useful later for the skip connections.\n",
    "    # For being precise, this list contains the output of each downsampling floor.\n",
    "    downsampling_floors = []\n",
    "    \n",
    "    # Number of channels in each floor. At the beginning is `c0`\n",
    "    c = c0\n",
    "    \n",
    "    x = xin\n",
    "    \n",
    "    # DOWNSAMPLING PART\n",
    "    for i in range(L):\n",
    "        # Current iteration: block 'i' of the downsampling part\n",
    "        \n",
    "        # Sequence of Conv layers.\n",
    "        # These Conv layers have all the same dimensions (w,h,c). They don't decrease the spatial dimensions, and\n",
    "        # they don't increase the channels.\n",
    "        for _ in range(conv_per_block):\n",
    "            x = ks.layers.Conv2D(filters=c, kernel_size=3, strides=1, padding='same')(x)\n",
    "            x = ks.layers.BatchNormalization()(x)\n",
    "            x = ks.layers.ReLU()(x)\n",
    "\n",
    "        # Append this last layer\n",
    "        downsampling_floors.append(x)\n",
    "\n",
    "        # Downsampling\n",
    "        # We decrease the spatial dimensions by using a Conv layer with non-unitarian stride.\n",
    "        # We keep the same number of channels `c`\n",
    "        x = ks.layers.Conv2D(c, kernel_size=1, strides=2, padding='same')(x)\n",
    "\n",
    "        # We double the number of channels\n",
    "        c = 2*c\n",
    "\n",
    "    # UPSAMPLING PART\n",
    "    for i in range(L):\n",
    "        # Current iteration: block 'i' of the upsampling part\n",
    "        \n",
    "        # If it's not the first upsampling floor, we add the skip connection, deriving from the corresponding downsampling\n",
    "        # floor\n",
    "        if i>0:\n",
    "          x = ks.layers.concatenate([x,downsampling_floors[-i]])  # Concatenation across the channels dimension\n",
    "\n",
    "        \n",
    "        # Sequence of Conv layers.\n",
    "        # These Conv layers have all the same dimensions (w,h,c). They don't increase the spatial dimensions, and\n",
    "        # they don't increase the channels.\n",
    "        for _ in range(conv_per_block):\n",
    "            x = ks.layers.Conv2D(filters=c, kernel_size=3, strides=1, padding='same')(x)\n",
    "            x = ks.layers.BatchNormalization()(x)\n",
    "            x = ks.layers.ReLU()(x)\n",
    "\n",
    "        # We halve the number of channels\n",
    "        c = c/2\n",
    "\n",
    "        # Upsampling\n",
    "        # We increase the spatial dimensions by using a Transpose Conv layer with non-unitarian stride.\n",
    "        # We keep the same number of channels `c`\n",
    "        x = ks.layers.Conv2DTranspose(filters=c, kernel_size=1, strides=2, padding='same')(x)\n",
    "        \n",
    "\n",
    "    # LAST FLOOR\n",
    "    \n",
    "    # Adding the skip connection from the first downsampling floor\n",
    "    x = ks.layers.concatenate([x,downsampling_floors[0]])\n",
    "    \n",
    "    # Sequence of Conv layers.\n",
    "    # These Conv layers have all the same dimensions (w,h,c). They don't change the spatial dimensions, and\n",
    "    # they don't change the channels.\n",
    "    for _ in range(conv_per_block):\n",
    "        x = ks.layers.Conv2D(filters=c, kernel_size=3, strides=1, padding='same')(x)\n",
    "        x = ks.layers.BatchNormalization()(x)\n",
    "        x = ks.layers.ReLU()(x)\n",
    "        \n",
    "    # Fashion MNIST image\n",
    "    y2 = ks.layers.Conv2D(filters=1, kernel_size=1, activation='sigmoid')(x)\n",
    "    \n",
    "    # MIST image\n",
    "    y1 = 2*xin - y2\n",
    "\n",
    "    # Actual output: concatenation along the width\n",
    "    y = ks.layers.concatenate([y1,y2], axis=2)\n",
    "\n",
    "    return ks.models.Model(xin, outputs=y)"
   ]
  },
  {
   "cell_type": "code",
   "execution_count": 13,
   "metadata": {
    "id": "wrMzbOEq5_t6"
   },
   "outputs": [],
   "source": [
    "unet = build_unet((32,32,1), c0=32, L=4, conv_per_block=3)"
   ]
  },
  {
   "cell_type": "code",
   "execution_count": 14,
   "metadata": {
    "colab": {
     "base_uri": "https://localhost:8080/"
    },
    "id": "PaKHj37s6HIW",
    "outputId": "8944b880-7d54-487b-e233-accefa95090d"
   },
   "outputs": [
    {
     "name": "stdout",
     "output_type": "stream",
     "text": [
      "Model: \"model\"\n",
      "__________________________________________________________________________________________________\n",
      " Layer (type)                   Output Shape         Param #     Connected to                     \n",
      "==================================================================================================\n",
      " input_1 (InputLayer)           [(None, 32, 32, 1)]  0           []                               \n",
      "                                                                                                  \n",
      " conv2d (Conv2D)                (None, 32, 32, 32)   320         ['input_1[0][0]']                \n",
      "                                                                                                  \n",
      " batch_normalization (BatchNorm  (None, 32, 32, 32)  128         ['conv2d[0][0]']                 \n",
      " alization)                                                                                       \n",
      "                                                                                                  \n",
      " re_lu (ReLU)                   (None, 32, 32, 32)   0           ['batch_normalization[0][0]']    \n",
      "                                                                                                  \n",
      " conv2d_1 (Conv2D)              (None, 32, 32, 32)   9248        ['re_lu[0][0]']                  \n",
      "                                                                                                  \n",
      " batch_normalization_1 (BatchNo  (None, 32, 32, 32)  128         ['conv2d_1[0][0]']               \n",
      " rmalization)                                                                                     \n",
      "                                                                                                  \n",
      " re_lu_1 (ReLU)                 (None, 32, 32, 32)   0           ['batch_normalization_1[0][0]']  \n",
      "                                                                                                  \n",
      " conv2d_2 (Conv2D)              (None, 32, 32, 32)   9248        ['re_lu_1[0][0]']                \n",
      "                                                                                                  \n",
      " batch_normalization_2 (BatchNo  (None, 32, 32, 32)  128         ['conv2d_2[0][0]']               \n",
      " rmalization)                                                                                     \n",
      "                                                                                                  \n",
      " re_lu_2 (ReLU)                 (None, 32, 32, 32)   0           ['batch_normalization_2[0][0]']  \n",
      "                                                                                                  \n",
      " conv2d_3 (Conv2D)              (None, 16, 16, 32)   1056        ['re_lu_2[0][0]']                \n",
      "                                                                                                  \n",
      " conv2d_4 (Conv2D)              (None, 16, 16, 64)   18496       ['conv2d_3[0][0]']               \n",
      "                                                                                                  \n",
      " batch_normalization_3 (BatchNo  (None, 16, 16, 64)  256         ['conv2d_4[0][0]']               \n",
      " rmalization)                                                                                     \n",
      "                                                                                                  \n",
      " re_lu_3 (ReLU)                 (None, 16, 16, 64)   0           ['batch_normalization_3[0][0]']  \n",
      "                                                                                                  \n",
      " conv2d_5 (Conv2D)              (None, 16, 16, 64)   36928       ['re_lu_3[0][0]']                \n",
      "                                                                                                  \n",
      " batch_normalization_4 (BatchNo  (None, 16, 16, 64)  256         ['conv2d_5[0][0]']               \n",
      " rmalization)                                                                                     \n",
      "                                                                                                  \n",
      " re_lu_4 (ReLU)                 (None, 16, 16, 64)   0           ['batch_normalization_4[0][0]']  \n",
      "                                                                                                  \n",
      " conv2d_6 (Conv2D)              (None, 16, 16, 64)   36928       ['re_lu_4[0][0]']                \n",
      "                                                                                                  \n",
      " batch_normalization_5 (BatchNo  (None, 16, 16, 64)  256         ['conv2d_6[0][0]']               \n",
      " rmalization)                                                                                     \n",
      "                                                                                                  \n",
      " re_lu_5 (ReLU)                 (None, 16, 16, 64)   0           ['batch_normalization_5[0][0]']  \n",
      "                                                                                                  \n",
      " conv2d_7 (Conv2D)              (None, 8, 8, 64)     4160        ['re_lu_5[0][0]']                \n",
      "                                                                                                  \n",
      " conv2d_8 (Conv2D)              (None, 8, 8, 128)    73856       ['conv2d_7[0][0]']               \n",
      "                                                                                                  \n",
      " batch_normalization_6 (BatchNo  (None, 8, 8, 128)   512         ['conv2d_8[0][0]']               \n",
      " rmalization)                                                                                     \n",
      "                                                                                                  \n",
      " re_lu_6 (ReLU)                 (None, 8, 8, 128)    0           ['batch_normalization_6[0][0]']  \n",
      "                                                                                                  \n",
      " conv2d_9 (Conv2D)              (None, 8, 8, 128)    147584      ['re_lu_6[0][0]']                \n",
      "                                                                                                  \n",
      " batch_normalization_7 (BatchNo  (None, 8, 8, 128)   512         ['conv2d_9[0][0]']               \n",
      " rmalization)                                                                                     \n",
      "                                                                                                  \n",
      " re_lu_7 (ReLU)                 (None, 8, 8, 128)    0           ['batch_normalization_7[0][0]']  \n",
      "                                                                                                  \n",
      " conv2d_10 (Conv2D)             (None, 8, 8, 128)    147584      ['re_lu_7[0][0]']                \n",
      "                                                                                                  \n",
      " batch_normalization_8 (BatchNo  (None, 8, 8, 128)   512         ['conv2d_10[0][0]']              \n",
      " rmalization)                                                                                     \n",
      "                                                                                                  \n",
      " re_lu_8 (ReLU)                 (None, 8, 8, 128)    0           ['batch_normalization_8[0][0]']  \n",
      "                                                                                                  \n",
      " conv2d_11 (Conv2D)             (None, 4, 4, 128)    16512       ['re_lu_8[0][0]']                \n",
      "                                                                                                  \n",
      " conv2d_12 (Conv2D)             (None, 4, 4, 256)    295168      ['conv2d_11[0][0]']              \n",
      "                                                                                                  \n",
      " batch_normalization_9 (BatchNo  (None, 4, 4, 256)   1024        ['conv2d_12[0][0]']              \n",
      " rmalization)                                                                                     \n",
      "                                                                                                  \n",
      " re_lu_9 (ReLU)                 (None, 4, 4, 256)    0           ['batch_normalization_9[0][0]']  \n",
      "                                                                                                  \n",
      " conv2d_13 (Conv2D)             (None, 4, 4, 256)    590080      ['re_lu_9[0][0]']                \n",
      "                                                                                                  \n",
      " batch_normalization_10 (BatchN  (None, 4, 4, 256)   1024        ['conv2d_13[0][0]']              \n",
      " ormalization)                                                                                    \n",
      "                                                                                                  \n",
      " re_lu_10 (ReLU)                (None, 4, 4, 256)    0           ['batch_normalization_10[0][0]'] \n",
      "                                                                                                  \n",
      " conv2d_14 (Conv2D)             (None, 4, 4, 256)    590080      ['re_lu_10[0][0]']               \n",
      "                                                                                                  \n",
      " batch_normalization_11 (BatchN  (None, 4, 4, 256)   1024        ['conv2d_14[0][0]']              \n",
      " ormalization)                                                                                    \n",
      "                                                                                                  \n",
      " re_lu_11 (ReLU)                (None, 4, 4, 256)    0           ['batch_normalization_11[0][0]'] \n",
      "                                                                                                  \n",
      " conv2d_15 (Conv2D)             (None, 2, 2, 256)    65792       ['re_lu_11[0][0]']               \n",
      "                                                                                                  \n",
      " conv2d_16 (Conv2D)             (None, 2, 2, 512)    1180160     ['conv2d_15[0][0]']              \n",
      "                                                                                                  \n",
      " batch_normalization_12 (BatchN  (None, 2, 2, 512)   2048        ['conv2d_16[0][0]']              \n",
      " ormalization)                                                                                    \n",
      "                                                                                                  \n",
      " re_lu_12 (ReLU)                (None, 2, 2, 512)    0           ['batch_normalization_12[0][0]'] \n",
      "                                                                                                  \n",
      " conv2d_17 (Conv2D)             (None, 2, 2, 512)    2359808     ['re_lu_12[0][0]']               \n",
      "                                                                                                  \n",
      " batch_normalization_13 (BatchN  (None, 2, 2, 512)   2048        ['conv2d_17[0][0]']              \n",
      " ormalization)                                                                                    \n",
      "                                                                                                  \n",
      " re_lu_13 (ReLU)                (None, 2, 2, 512)    0           ['batch_normalization_13[0][0]'] \n",
      "                                                                                                  \n",
      " conv2d_18 (Conv2D)             (None, 2, 2, 512)    2359808     ['re_lu_13[0][0]']               \n",
      "                                                                                                  \n",
      " batch_normalization_14 (BatchN  (None, 2, 2, 512)   2048        ['conv2d_18[0][0]']              \n",
      " ormalization)                                                                                    \n",
      "                                                                                                  \n",
      " re_lu_14 (ReLU)                (None, 2, 2, 512)    0           ['batch_normalization_14[0][0]'] \n",
      "                                                                                                  \n",
      " conv2d_transpose (Conv2DTransp  (None, 4, 4, 256)   131328      ['re_lu_14[0][0]']               \n",
      " ose)                                                                                             \n",
      "                                                                                                  \n",
      " concatenate (Concatenate)      (None, 4, 4, 512)    0           ['conv2d_transpose[0][0]',       \n",
      "                                                                  're_lu_11[0][0]']               \n",
      "                                                                                                  \n",
      " conv2d_19 (Conv2D)             (None, 4, 4, 256)    1179904     ['concatenate[0][0]']            \n",
      "                                                                                                  \n",
      " batch_normalization_15 (BatchN  (None, 4, 4, 256)   1024        ['conv2d_19[0][0]']              \n",
      " ormalization)                                                                                    \n",
      "                                                                                                  \n",
      " re_lu_15 (ReLU)                (None, 4, 4, 256)    0           ['batch_normalization_15[0][0]'] \n",
      "                                                                                                  \n",
      " conv2d_20 (Conv2D)             (None, 4, 4, 256)    590080      ['re_lu_15[0][0]']               \n",
      "                                                                                                  \n",
      " batch_normalization_16 (BatchN  (None, 4, 4, 256)   1024        ['conv2d_20[0][0]']              \n",
      " ormalization)                                                                                    \n",
      "                                                                                                  \n",
      " re_lu_16 (ReLU)                (None, 4, 4, 256)    0           ['batch_normalization_16[0][0]'] \n",
      "                                                                                                  \n",
      " conv2d_21 (Conv2D)             (None, 4, 4, 256)    590080      ['re_lu_16[0][0]']               \n",
      "                                                                                                  \n",
      " batch_normalization_17 (BatchN  (None, 4, 4, 256)   1024        ['conv2d_21[0][0]']              \n",
      " ormalization)                                                                                    \n",
      "                                                                                                  \n",
      " re_lu_17 (ReLU)                (None, 4, 4, 256)    0           ['batch_normalization_17[0][0]'] \n",
      "                                                                                                  \n",
      " conv2d_transpose_1 (Conv2DTran  (None, 8, 8, 128)   32896       ['re_lu_17[0][0]']               \n",
      " spose)                                                                                           \n",
      "                                                                                                  \n",
      " concatenate_1 (Concatenate)    (None, 8, 8, 256)    0           ['conv2d_transpose_1[0][0]',     \n",
      "                                                                  're_lu_8[0][0]']                \n",
      "                                                                                                  \n",
      " conv2d_22 (Conv2D)             (None, 8, 8, 128)    295040      ['concatenate_1[0][0]']          \n",
      "                                                                                                  \n",
      " batch_normalization_18 (BatchN  (None, 8, 8, 128)   512         ['conv2d_22[0][0]']              \n",
      " ormalization)                                                                                    \n",
      "                                                                                                  \n",
      " re_lu_18 (ReLU)                (None, 8, 8, 128)    0           ['batch_normalization_18[0][0]'] \n",
      "                                                                                                  \n",
      " conv2d_23 (Conv2D)             (None, 8, 8, 128)    147584      ['re_lu_18[0][0]']               \n",
      "                                                                                                  \n",
      " batch_normalization_19 (BatchN  (None, 8, 8, 128)   512         ['conv2d_23[0][0]']              \n",
      " ormalization)                                                                                    \n",
      "                                                                                                  \n",
      " re_lu_19 (ReLU)                (None, 8, 8, 128)    0           ['batch_normalization_19[0][0]'] \n",
      "                                                                                                  \n",
      " conv2d_24 (Conv2D)             (None, 8, 8, 128)    147584      ['re_lu_19[0][0]']               \n",
      "                                                                                                  \n",
      " batch_normalization_20 (BatchN  (None, 8, 8, 128)   512         ['conv2d_24[0][0]']              \n",
      " ormalization)                                                                                    \n",
      "                                                                                                  \n",
      " re_lu_20 (ReLU)                (None, 8, 8, 128)    0           ['batch_normalization_20[0][0]'] \n",
      "                                                                                                  \n",
      " conv2d_transpose_2 (Conv2DTran  (None, 16, 16, 64)  8256        ['re_lu_20[0][0]']               \n",
      " spose)                                                                                           \n",
      "                                                                                                  \n",
      " concatenate_2 (Concatenate)    (None, 16, 16, 128)  0           ['conv2d_transpose_2[0][0]',     \n",
      "                                                                  're_lu_5[0][0]']                \n",
      "                                                                                                  \n",
      " conv2d_25 (Conv2D)             (None, 16, 16, 64)   73792       ['concatenate_2[0][0]']          \n",
      "                                                                                                  \n",
      " batch_normalization_21 (BatchN  (None, 16, 16, 64)  256         ['conv2d_25[0][0]']              \n",
      " ormalization)                                                                                    \n",
      "                                                                                                  \n",
      " re_lu_21 (ReLU)                (None, 16, 16, 64)   0           ['batch_normalization_21[0][0]'] \n",
      "                                                                                                  \n",
      " conv2d_26 (Conv2D)             (None, 16, 16, 64)   36928       ['re_lu_21[0][0]']               \n",
      "                                                                                                  \n",
      " batch_normalization_22 (BatchN  (None, 16, 16, 64)  256         ['conv2d_26[0][0]']              \n",
      " ormalization)                                                                                    \n",
      "                                                                                                  \n",
      " re_lu_22 (ReLU)                (None, 16, 16, 64)   0           ['batch_normalization_22[0][0]'] \n",
      "                                                                                                  \n",
      " conv2d_27 (Conv2D)             (None, 16, 16, 64)   36928       ['re_lu_22[0][0]']               \n",
      "                                                                                                  \n",
      " batch_normalization_23 (BatchN  (None, 16, 16, 64)  256         ['conv2d_27[0][0]']              \n",
      " ormalization)                                                                                    \n",
      "                                                                                                  \n",
      " re_lu_23 (ReLU)                (None, 16, 16, 64)   0           ['batch_normalization_23[0][0]'] \n",
      "                                                                                                  \n",
      " conv2d_transpose_3 (Conv2DTran  (None, 32, 32, 32)  2080        ['re_lu_23[0][0]']               \n",
      " spose)                                                                                           \n",
      "                                                                                                  \n",
      " concatenate_3 (Concatenate)    (None, 32, 32, 64)   0           ['conv2d_transpose_3[0][0]',     \n",
      "                                                                  're_lu_2[0][0]']                \n",
      "                                                                                                  \n",
      " conv2d_28 (Conv2D)             (None, 32, 32, 32)   18464       ['concatenate_3[0][0]']          \n",
      "                                                                                                  \n",
      " batch_normalization_24 (BatchN  (None, 32, 32, 32)  128         ['conv2d_28[0][0]']              \n",
      " ormalization)                                                                                    \n",
      "                                                                                                  \n",
      " re_lu_24 (ReLU)                (None, 32, 32, 32)   0           ['batch_normalization_24[0][0]'] \n",
      "                                                                                                  \n",
      " conv2d_29 (Conv2D)             (None, 32, 32, 32)   9248        ['re_lu_24[0][0]']               \n",
      "                                                                                                  \n",
      " batch_normalization_25 (BatchN  (None, 32, 32, 32)  128         ['conv2d_29[0][0]']              \n",
      " ormalization)                                                                                    \n",
      "                                                                                                  \n",
      " re_lu_25 (ReLU)                (None, 32, 32, 32)   0           ['batch_normalization_25[0][0]'] \n",
      "                                                                                                  \n",
      " conv2d_30 (Conv2D)             (None, 32, 32, 32)   9248        ['re_lu_25[0][0]']               \n",
      "                                                                                                  \n",
      " batch_normalization_26 (BatchN  (None, 32, 32, 32)  128         ['conv2d_30[0][0]']              \n",
      " ormalization)                                                                                    \n",
      "                                                                                                  \n",
      " re_lu_26 (ReLU)                (None, 32, 32, 32)   0           ['batch_normalization_26[0][0]'] \n",
      "                                                                                                  \n",
      " tf.math.multiply (TFOpLambda)  (None, 32, 32, 1)    0           ['input_1[0][0]']                \n",
      "                                                                                                  \n",
      " conv2d_31 (Conv2D)             (None, 32, 32, 1)    33          ['re_lu_26[0][0]']               \n",
      "                                                                                                  \n",
      " tf.math.subtract (TFOpLambda)  (None, 32, 32, 1)    0           ['tf.math.multiply[0][0]',       \n",
      "                                                                  'conv2d_31[0][0]']              \n",
      "                                                                                                  \n",
      " concatenate_4 (Concatenate)    (None, 32, 64, 1)    0           ['tf.math.subtract[0][0]',       \n",
      "                                                                  'conv2d_31[0][0]']              \n",
      "                                                                                                  \n",
      "==================================================================================================\n",
      "Total params: 11,269,953\n",
      "Trainable params: 11,261,121\n",
      "Non-trainable params: 8,832\n",
      "__________________________________________________________________________________________________\n"
     ]
    }
   ],
   "source": [
    "unet.summary()"
   ]
  },
  {
   "cell_type": "markdown",
   "metadata": {},
   "source": [
    "$11M$ parameters."
   ]
  },
  {
   "cell_type": "code",
   "execution_count": 15,
   "metadata": {
    "id": "zIa8XRQr6sFA"
   },
   "outputs": [],
   "source": [
    "from tensorflow.keras.optimizers import Adam"
   ]
  },
  {
   "cell_type": "code",
   "execution_count": 16,
   "metadata": {
    "id": "Le_FzUiH6sFS"
   },
   "outputs": [],
   "source": [
    "unet.compile(optimizer=Adam(), loss='mse')"
   ]
  },
  {
   "cell_type": "code",
   "execution_count": null,
   "metadata": {
    "id": "N7scNdBq6sFS"
   },
   "outputs": [],
   "source": [
    "from tensorflow.keras.callbacks import ModelCheckpoint, ReduceLROnPlateau\n",
    "reduce_lr_callback = ReduceLROnPlateau(monitor='val_loss', min_lr=0.000009, min_delta=0.0001, factor=0.75, patience=3, verbose=1, mode='min')\n",
    "reduce_lr_callback = ReduceLROnPlateau(patience=3, min_delta=0.00001)\n",
    "\n",
    "callback_checkpoint = ModelCheckpoint('UNET_diffImplementation.{epoch:02d}-{val_loss:.4f}.hdf5', save_weights_only=True) "
   ]
  },
  {
   "cell_type": "code",
   "execution_count": 17,
   "metadata": {
    "id": "FtrtMI6p6sFT"
   },
   "outputs": [],
   "source": [
    "steps_per_epoch = 10000\n",
    "val_steps = N_test // batchsize"
   ]
  },
  {
   "cell_type": "code",
   "execution_count": null,
   "metadata": {
    "colab": {
     "base_uri": "https://localhost:8080/"
    },
    "id": "cX3vtQic6sFT",
    "outputId": "73b44727-8bad-4b6d-ed58-96d0ec481736"
   },
   "outputs": [
    {
     "name": "stdout",
     "output_type": "stream",
     "text": [
      "Epoch 1/15\n",
      "10000/10000 [==============================] - 463s 46ms/step - loss: 0.0018 - val_loss: 8.9915e-04 - lr: 0.0010\n",
      "Epoch 2/15\n",
      "10000/10000 [==============================] - 459s 46ms/step - loss: 8.1225e-04 - val_loss: 9.2955e-04 - lr: 0.0010\n",
      "Epoch 3/15\n",
      "10000/10000 [==============================] - 458s 46ms/step - loss: 6.8265e-04 - val_loss: 6.1043e-04 - lr: 0.0010\n",
      "Epoch 4/15\n",
      "10000/10000 [==============================] - 457s 46ms/step - loss: 6.2159e-04 - val_loss: 6.2901e-04 - lr: 0.0010\n",
      "Epoch 5/15\n",
      "10000/10000 [==============================] - 459s 46ms/step - loss: 5.8137e-04 - val_loss: 5.2518e-04 - lr: 0.0010\n",
      "Epoch 6/15\n",
      "10000/10000 [==============================] - 467s 47ms/step - loss: 5.4830e-04 - val_loss: 5.5947e-04 - lr: 0.0010\n",
      "Epoch 7/15\n",
      "10000/10000 [==============================] - 467s 47ms/step - loss: 5.2370e-04 - val_loss: 5.4164e-04 - lr: 0.0010\n",
      "Epoch 8/15\n",
      "10000/10000 [==============================] - 464s 46ms/step - loss: 5.0543e-04 - val_loss: 4.8534e-04 - lr: 0.0010\n",
      "Epoch 9/15\n",
      "10000/10000 [==============================] - 462s 46ms/step - loss: 4.9366e-04 - val_loss: 5.0981e-04 - lr: 0.0010\n",
      "Epoch 10/15\n",
      "10000/10000 [==============================] - 461s 46ms/step - loss: 4.8024e-04 - val_loss: 4.6915e-04 - lr: 0.0010\n",
      "Epoch 11/15\n",
      "10000/10000 [==============================] - 460s 46ms/step - loss: 4.7035e-04 - val_loss: 4.9203e-04 - lr: 0.0010\n",
      "Epoch 12/15\n",
      "10000/10000 [==============================] - 461s 46ms/step - loss: 4.5967e-04 - val_loss: 4.6422e-04 - lr: 0.0010\n",
      "Epoch 13/15\n",
      " 5655/10000 [===============>..............] - ETA: 3:16 - loss: 4.5391e-04"
     ]
    }
   ],
   "source": [
    "hist = unet.fit(train_generator, epochs=15, batch_size=batchsize, validation_data=test_generator, callbacks=[callback_checkpoint,reduce_lr_callback],\n",
    "              steps_per_epoch=steps_per_epoch, validation_steps=val_steps)"
   ]
  },
  {
   "cell_type": "code",
   "execution_count": null,
   "metadata": {
    "colab": {
     "base_uri": "https://localhost:8080/"
    },
    "id": "Y2jzB5JFTsYK",
    "outputId": "d434d4d6-056d-47b8-a03d-a0e182a99aaa"
   },
   "outputs": [
    {
     "name": "stdout",
     "output_type": "stream",
     "text": [
      "625/625 [==============================] - 7s 10ms/step - loss: 4.0909e-04\n",
      "625/625 [==============================] - 6s 10ms/step - loss: 4.0910e-04\n",
      "625/625 [==============================] - 6s 10ms/step - loss: 4.0892e-04\n",
      "625/625 [==============================] - 6s 10ms/step - loss: 4.1107e-04\n",
      "625/625 [==============================] - 6s 10ms/step - loss: 4.0303e-04\n",
      "625/625 [==============================] - 6s 10ms/step - loss: 4.1750e-04\n",
      "625/625 [==============================] - 6s 10ms/step - loss: 4.1247e-04\n",
      "625/625 [==============================] - 6s 10ms/step - loss: 4.0908e-04\n",
      "625/625 [==============================] - 6s 10ms/step - loss: 4.1297e-04\n",
      "625/625 [==============================] - 6s 10ms/step - loss: 4.1269e-04\n",
      "[0.00040909333620220423, 0.00040909863309934735, 0.00040892171091400087, 0.0004110712034162134, 0.0004030285344924778, 0.00041750079253688455, 0.00041247077751904726, 0.00040907945367507637, 0.0004129732260480523, 0.00041269059875048697]\n",
      "Min: 0.0004030285344924778\n",
      "Mean: 0.0004105928266653791\n",
      "Std: 3.5822480783681933e-06\n"
     ]
    }
   ],
   "source": [
    "test_generator1 = datagenerator(mnist_x_test, fashion_mnist_x_test, 20000)\n",
    "mse_list = []\n",
    "for i in range(10):\n",
    "  x_batch, y_batch = next(test_generator1)\n",
    "  mse = unet.evaluate(x_batch, y_batch)\n",
    "  mse_list.append(mse)\n",
    "print(mse_list)\n",
    "print('Min:', min(mse_list))\n",
    "print('Mean:', np.mean(mse_list))\n",
    "print('Std:', np.std(mse_list))"
   ]
  },
  {
   "cell_type": "markdown",
   "metadata": {},
   "source": [
    "Min: $4.0e-4$. Mean: $4.1e-4$. Std: $3.6e-6$.\n",
    "\n",
    "**Better scores!!!**"
   ]
  },
  {
   "cell_type": "code",
   "execution_count": null,
   "metadata": {
    "id": "BT9jd0gXTAfq"
   },
   "outputs": [],
   "source": [
    "import matplotlib.pyplot as plt\n",
    "def plot_history(training_history, n_epochs=None):\n",
    "    \"\"\"Plot the training history\n",
    "  \n",
    "    Parameters\n",
    "    ----------\n",
    "    training_history : dict\n",
    "    n_epochs : int, optional\n",
    "\n",
    "    \"\"\"\n",
    "    if not n_epochs:\n",
    "      n_epochs = len(training_history.history['loss'])\n",
    "\n",
    "    epochs = range(1,n_epochs+1)\n",
    "\n",
    "    plt.plot(epochs, training_history.history['loss'], label='train_loss')\n",
    "    plt.plot(epochs, training_history.history['val_loss'], label='val_loss')\n",
    "    plt.legend()\n",
    "    plt.grid()\n",
    "    plt.xlabel('Number of epochs')\n",
    "    plt.title('Loss')"
   ]
  },
  {
   "cell_type": "code",
   "execution_count": null,
   "metadata": {
    "colab": {
     "base_uri": "https://localhost:8080/",
     "height": 295
    },
    "id": "d5byqhATTAfq",
    "outputId": "4417b591-91e9-48c7-84e5-9d9058c597f7"
   },
   "outputs": [
    {
     "data": {
      "image/png": "[encoded data removed]",
      "text/plain": [
       "<Figure size 432x288 with 1 Axes>"
      ]
     },
     "metadata": {
      "needs_background": "light"
     },
     "output_type": "display_data"
    }
   ],
   "source": [
    "plot_history(hist)"
   ]
  },
  {
   "cell_type": "code",
   "execution_count": null,
   "metadata": {
    "colab": {
     "base_uri": "https://localhost:8080/",
     "height": 666
    },
    "id": "A6ZaLJm5T5av",
    "outputId": "3ad97a51-520f-4f22-ac36-a96c972d11f2"
   },
   "outputs": [
    {
     "data": {
      "image/png": "[encoded data removed]",
      "text/plain": [
       "<Figure size 432x288 with 1 Axes>"
      ]
     },
     "metadata": {
      "needs_background": "light"
     },
     "output_type": "display_data"
    },
    {
     "data": {
      "image/png": "[encoded data removed]",
      "text/plain": [
       "<Figure size 432x288 with 1 Axes>"
      ]
     },
     "metadata": {
      "needs_background": "light"
     },
     "output_type": "display_data"
    },
    {
     "data": {
      "image/png": "[encoded data removed]",
      "text/plain": [
       "<Figure size 432x288 with 1 Axes>"
      ]
     },
     "metadata": {
      "needs_background": "light"
     },
     "output_type": "display_data"
    }
   ],
   "source": [
    "x_batch, y_batch = next(test_generator)\n",
    "x = x_batch[0]\n",
    "y = y_batch[0]\n",
    "y_pred = unet.predict(x.reshape((1,32,32)))\n",
    "plt.imshow(x,cmap='gray', interpolation='nearest')\n",
    "plt.show()\n",
    "plt.imshow(y, cmap='gray', interpolation='nearest')\n",
    "plt.show()\n",
    "plt.imshow(y_pred[0].reshape((32,64)), cmap='gray', interpolation='nearest')\n",
    "plt.show()"
   ]
  },
  {
   "cell_type": "markdown",
   "metadata": {
    "id": "3KYvG2KLlUzq"
   },
   "source": [
    "More training"
   ]
  },
  {
   "cell_type": "code",
   "execution_count": 18,
   "metadata": {
    "id": "XTaDGs8xlU4N"
   },
   "outputs": [],
   "source": [
    "from tensorflow.keras.callbacks import ModelCheckpoint, ReduceLROnPlateau\n",
    "reduce_lr_callback = ReduceLROnPlateau(monitor='val_loss', min_lr=0.000009, min_delta=0.0001, factor=0.75, patience=3, verbose=1, mode='min')\n",
    "reduce_lr_callback = ReduceLROnPlateau(patience=3, min_delta=0.00001)\n",
    "\n",
    "callback_checkpoint = ModelCheckpoint('UNET_diffImplementation.{epoch:02d}-{val_loss:.4f}.hdf5', save_weights_only=True) "
   ]
  },
  {
   "cell_type": "code",
   "execution_count": 24,
   "metadata": {
    "colab": {
     "base_uri": "https://localhost:8080/"
    },
    "id": "N01Y6viFwijt",
    "outputId": "60b4bdbe-b86c-4f1c-af60-6dde7d0043be"
   },
   "outputs": [
    {
     "name": "stdout",
     "output_type": "stream",
     "text": [
      "Epoch 1/10\n",
      "10000/10000 [==============================] - 443s 44ms/step - loss: 4.4324e-04 - val_loss: 4.6562e-04 - lr: 0.0010\n",
      "Epoch 2/10\n",
      "10000/10000 [==============================] - 443s 44ms/step - loss: 4.3691e-04 - val_loss: 4.3600e-04 - lr: 0.0010\n",
      "Epoch 3/10\n",
      "10000/10000 [==============================] - 443s 44ms/step - loss: 4.2948e-04 - val_loss: 4.2685e-04 - lr: 0.0010\n",
      "Epoch 4/10\n",
      "10000/10000 [==============================] - 442s 44ms/step - loss: 4.2429e-04 - val_loss: 4.4549e-04 - lr: 0.0010\n",
      "Epoch 5/10\n",
      "10000/10000 [==============================] - 443s 44ms/step - loss: 4.2182e-04 - val_loss: 4.3668e-04 - lr: 0.0010\n",
      "Epoch 6/10\n",
      "10000/10000 [==============================] - 443s 44ms/step - loss: 3.9255e-04 - val_loss: 3.8768e-04 - lr: 1.0000e-04\n",
      "Epoch 7/10\n",
      "10000/10000 [==============================] - 443s 44ms/step - loss: 3.8825e-04 - val_loss: 3.8504e-04 - lr: 1.0000e-04\n",
      "Epoch 8/10\n",
      "10000/10000 [==============================] - 443s 44ms/step - loss: 3.8444e-04 - val_loss: 3.8482e-04 - lr: 1.0000e-04\n",
      "Epoch 9/10\n",
      "10000/10000 [==============================] - 443s 44ms/step - loss: 3.8347e-04 - val_loss: 3.8609e-04 - lr: 1.0000e-04\n",
      "Epoch 10/10\n",
      "10000/10000 [==============================] - 443s 44ms/step - loss: 3.8139e-04 - val_loss: 3.8916e-04 - lr: 1.0000e-05\n"
     ]
    }
   ],
   "source": [
    "hist = unet.fit(train_generator, epochs=10, batch_size=batchsize, validation_data=test_generator, callbacks=[callback_checkpoint,reduce_lr_callback],\n",
    "              steps_per_epoch=steps_per_epoch, validation_steps=val_steps)"
   ]
  },
  {
   "cell_type": "code",
   "execution_count": 25,
   "metadata": {
    "colab": {
     "base_uri": "https://localhost:8080/"
    },
    "id": "ikNM3H6jBkCd",
    "outputId": "a3ad5b57-1e41-4270-eac4-1d48f649ad2a"
   },
   "outputs": [
    {
     "name": "stdout",
     "output_type": "stream",
     "text": [
      "625/625 [==============================] - 7s 9ms/step - loss: 3.8231e-04\n",
      "625/625 [==============================] - 6s 9ms/step - loss: 3.8314e-04\n",
      "625/625 [==============================] - 6s 9ms/step - loss: 3.8680e-04\n",
      "625/625 [==============================] - 6s 9ms/step - loss: 3.8196e-04\n",
      "625/625 [==============================] - 6s 9ms/step - loss: 3.8409e-04\n",
      "625/625 [==============================] - 6s 10ms/step - loss: 3.8691e-04\n",
      "625/625 [==============================] - 6s 10ms/step - loss: 3.8573e-04\n",
      "625/625 [==============================] - 6s 9ms/step - loss: 3.8442e-04\n",
      "625/625 [==============================] - 6s 9ms/step - loss: 3.8341e-04\n",
      "625/625 [==============================] - 6s 9ms/step - loss: 3.8799e-04\n",
      "[0.00038230890640988946, 0.00038314433186315, 0.00038679767749272287, 0.00038195919478312135, 0.0003840862773358822, 0.0003869114734698087, 0.0003857334377244115, 0.000384419021429494, 0.0003834088274743408, 0.0003879856667481363]\n",
      "Min: 0.00038195919478312135\n",
      "Mean: 0.0003846754814730957\n",
      "Std: 1.9728312092440505e-06\n"
     ]
    }
   ],
   "source": [
    "test_generator1 = datagenerator(mnist_x_test, fashion_mnist_x_test, 20000)\n",
    "mse_list = []\n",
    "for i in range(10):\n",
    "  x_batch, y_batch = next(test_generator1)\n",
    "  mse = unet.evaluate(x_batch, y_batch)\n",
    "  mse_list.append(mse)\n",
    "print(mse_list)\n",
    "print('Min:', min(mse_list))\n",
    "print('Mean:', np.mean(mse_list))\n",
    "print('Std:', np.std(mse_list))"
   ]
  },
  {
   "cell_type": "markdown",
   "metadata": {},
   "source": [
    "Min: $3.8e-4$. Mean: $3.8e-4$. Std: $1.9e-6$.\n",
    "\n",
    "**Better scores!!!**"
   ]
  },
  {
   "cell_type": "code",
   "execution_count": 26,
   "metadata": {
    "id": "1NxQikMNBkCg"
   },
   "outputs": [],
   "source": [
    "import matplotlib.pyplot as plt\n",
    "def plot_history(training_history, n_epochs=None):\n",
    "    if not n_epochs:\n",
    "      n_epochs = len(training_history.history['loss'])\n",
    "\n",
    "    epochs = range(1,n_epochs+1)\n",
    "\n",
    "    plt.plot(epochs, training_history.history['loss'], label='train_loss')\n",
    "    plt.plot(epochs, training_history.history['val_loss'], label='val_loss')\n",
    "    plt.legend()\n",
    "    plt.grid()\n",
    "    plt.xlabel('Number of epochs')\n",
    "    plt.title('Loss')"
   ]
  },
  {
   "cell_type": "code",
   "execution_count": 27,
   "metadata": {
    "colab": {
     "base_uri": "https://localhost:8080/",
     "height": 295
    },
    "id": "91R0vhc-BkCg",
    "outputId": "acd8a61c-9efd-4c6f-bde9-20c367aece79"
   },
   "outputs": [
    {
     "data": {
      "image/png": "[encoded data removed]",
      "text/plain": [
       "<Figure size 432x288 with 1 Axes>"
      ]
     },
     "metadata": {
      "needs_background": "light"
     },
     "output_type": "display_data"
    }
   ],
   "source": [
    "plot_history(hist)"
   ]
  }
 ],
 "metadata": {
  "accelerator": "GPU",
  "colab": {
   "collapsed_sections": [],
   "name": "Image_Segmentation_U_net_mine.ipynb",
   "provenance": []
  },
  "gpuClass": "standard",
  "kernelspec": {
   "display_name": "Python 3.10.0 64-bit",
   "language": "python",
   "name": "python3"
  },
  "language_info": {
   "codemirror_mode": {
    "name": "ipython",
    "version": 3
   },
   "file_extension": ".py",
   "mimetype": "text/x-python",
   "name": "python",
   "nbconvert_exporter": "python",
   "pygments_lexer": "ipython3",
   "version": "3.10.0"
  },
  "vscode": {
   "interpreter": {
    "hash": "d14990a399795653de35f1f5395269163893147857e74010bc072f6042c8e8da"
   }
  }
 },
 "nbformat": 4,
 "nbformat_minor": 1
}
