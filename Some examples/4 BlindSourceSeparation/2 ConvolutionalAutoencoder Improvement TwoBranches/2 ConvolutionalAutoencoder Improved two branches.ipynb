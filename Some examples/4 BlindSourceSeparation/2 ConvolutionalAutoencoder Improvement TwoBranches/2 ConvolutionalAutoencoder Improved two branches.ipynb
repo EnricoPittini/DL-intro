{
 "cells": [
  {
   "cell_type": "markdown",
   "metadata": {
    "id": "fW3n6RN6Fpn8"
   },
   "source": [
    "## DATASET"
   ]
  },
  {
   "cell_type": "code",
   "execution_count": 1,
   "metadata": {
    "id": "JSa4gXMIRx2s"
   },
   "outputs": [],
   "source": [
    "import numpy as np\n",
    "from tensorflow.keras.datasets import mnist, fashion_mnist\n",
    "import matplotlib.pyplot as plt"
   ]
  },
  {
   "cell_type": "markdown",
   "metadata": {
    "id": "0PvzcVDjFvGi"
   },
   "source": [
    "Loading the MNIST and Fashion MNIST dataset"
   ]
  },
  {
   "cell_type": "code",
   "execution_count": 3,
   "metadata": {
    "colab": {
     "base_uri": "https://localhost:8080/"
    },
    "id": "HligbBqGRx2s",
    "outputId": "bb05e827-6374-44e5-965b-b0fc879d6e8a"
   },
   "outputs": [
    {
     "name": "stdout",
     "output_type": "stream",
     "text": [
      "\n",
      "Shape MNIST train: (60000, 28, 28)\n",
      "Shape Fashion MNIST train: (60000, 28, 28)\n",
      "\n",
      "Shape MNIST train after padding: (60000, 32, 32)\n",
      "Shape Fashion MNIST train after padding: (60000, 32, 32)\n"
     ]
    }
   ],
   "source": [
    "(mnist_x_train, mnist_y_train), (mnist_x_test, mnist_y_test) = mnist.load_data()\n",
    "(fashion_mnist_x_train, fashion_mnist_y_train), (fashion_mnist_x_test, fashion_mnist_y_test) = fashion_mnist.load_data()\n",
    "print()\n",
    "\n",
    "print('Shape MNIST train:', np.shape(mnist_x_train))\n",
    "print('Shape Fashion MNIST train:', np.shape(fashion_mnist_x_train))\n",
    "print()\n",
    "\n",
    "# Normalization and Padding\n",
    "mnist_x_train = np.pad(mnist_x_train,((0,0),(2,2),(2,2)))/255.\n",
    "mnist_x_test = np.pad(mnist_x_test,((0,0),(2,2),(2,2)))/255.\n",
    "print('Shape MNIST train after padding:', np.shape(mnist_x_train))\n",
    "fashion_mnist_x_train = np.pad(fashion_mnist_x_train,((0,0),(2,2),(2,2)))/255.\n",
    "fashion_mnist_x_test = np.pad(fashion_mnist_x_test,((0,0),(2,2),(2,2)))/255.\n",
    "print('Shape Fashion MNIST train after padding:', np.shape(mnist_x_train))"
   ]
  },
  {
   "cell_type": "code",
   "execution_count": null,
   "metadata": {
    "colab": {
     "base_uri": "https://localhost:8080/"
    },
    "id": "gTqEhsA_MWHJ",
    "outputId": "53897961-e9f0-4320-f990-b88ffa86d8b2"
   },
   "outputs": [
    {
     "name": "stdout",
     "output_type": "stream",
     "text": [
      "Number of MNIST/fashion MNIST training samples: 60000\n",
      "Number of MNIST/fashion MNIST test samples: 10000\n",
      "MNIST/fashion MNIST resolution: (32, 32)\n"
     ]
    }
   ],
   "source": [
    "print(f'Number of MNIST/fashion MNIST training samples: {np.shape(mnist_x_train)[0]}')\n",
    "print(f'Number of MNIST/fashion MNIST test samples: {np.shape(mnist_x_test)[0]}')\n",
    "print(f'MNIST/fashion MNIST resolution: {np.shape(mnist_x_test)[1:]}')"
   ]
  },
  {
   "cell_type": "markdown",
   "metadata": {
    "id": "td79ShTMP4K4"
   },
   "source": [
    "Only one channel (grey-scale images)."
   ]
  },
  {
   "cell_type": "code",
   "execution_count": 4,
   "metadata": {
    "id": "puyeUReORx2u"
   },
   "outputs": [],
   "source": [
    "N_train, h, w = mnist_x_train.shape[0], mnist_x_train.shape[1], mnist_x_train.shape[2]\n",
    "N_test = mnist_x_test.shape[0]"
   ]
  },
  {
   "cell_type": "markdown",
   "metadata": {
    "id": "KB274CUpMv5R"
   },
   "source": [
    "### Data generator\n",
    "Generator which generates batches. A batch is a couple `x_batch, y_batch`, containing `batchsize` number of samples. `x_batch` represents the input, and it contains images `x`: each image `x` has spatial dimensions $32*32$ and it contains a pair of MNIST-fashion MNIST images added together. `y_batch` represents the ground truth, and it contains the images `y`: each image `y` has spatial dimensions $32*64$ and it contains the same pair of MNIST-fashion MNIST images concatenated along the width."
   ]
  },
  {
   "cell_type": "code",
   "execution_count": 5,
   "metadata": {
    "id": "pelzhL0uRx2u"
   },
   "outputs": [],
   "source": [
    "def datagenerator(x1, x2, batchsize):\n",
    "    # x1: first dataset of images. In our case, MNIST dataset (either train or test)\n",
    "    # x2: second dataset of images. In our case, fashion MNIST dataset (either train or test)\n",
    "\n",
    "    n1 = x1.shape[0]\n",
    "    n2 = x2.shape[0]\n",
    "    while True:\n",
    "        num1 = np.random.randint(0, n1, batchsize)\n",
    "        num2 = np.random.randint(0, n2, batchsize)\n",
    "\n",
    "        x_batch = (x1[num1] + x2[num2]) / 2.0\n",
    "        y_batch = np.concatenate((x1[num1], x2[num2]), axis=2)\n",
    "\n",
    "        yield x_batch, y_batch "
   ]
  },
  {
   "cell_type": "code",
   "execution_count": 6,
   "metadata": {
    "id": "oMW8s3frRx2u"
   },
   "outputs": [],
   "source": [
    "batchsize = 64"
   ]
  },
  {
   "cell_type": "code",
   "execution_count": 7,
   "metadata": {
    "id": "Pae00fk6Rx2v"
   },
   "outputs": [],
   "source": [
    "# Generator for creating the training batches\n",
    "train_generator = datagenerator(mnist_x_train, fashion_mnist_x_train, batchsize)\n",
    "\n",
    "# Generator for creating the validation batches\n",
    "test_generator = datagenerator(mnist_x_test, fashion_mnist_x_test, batchsize)"
   ]
  },
  {
   "cell_type": "markdown",
   "metadata": {
    "id": "B_HWmrN3O5TY"
   },
   "source": [
    "Example of a training batch"
   ]
  },
  {
   "cell_type": "code",
   "execution_count": null,
   "metadata": {
    "colab": {
     "base_uri": "https://localhost:8080/"
    },
    "id": "zZwwy43SRx2v",
    "outputId": "78e60495-6568-4f61-8e92-295ab9fffa5d"
   },
   "outputs": [
    {
     "name": "stdout",
     "output_type": "stream",
     "text": [
      "Shape of the x_batch: (64, 32, 32)\n",
      "Shape of the y_batch: (64, 32, 64)\n"
     ]
    }
   ],
   "source": [
    "x_batch, y_batch = next(train_generator)\n",
    "print('Shape of the x_batch:', x_batch.shape)\n",
    "print('Shape of the y_batch:', y_batch.shape)"
   ]
  },
  {
   "cell_type": "markdown",
   "metadata": {
    "id": "vCbz5aukPNVG"
   },
   "source": [
    "The data is already normalized into $[0,1]$"
   ]
  },
  {
   "cell_type": "code",
   "execution_count": null,
   "metadata": {
    "colab": {
     "base_uri": "https://localhost:8080/"
    },
    "id": "X1pc-nZKRx2v",
    "outputId": "01a2bd6c-1150-4e73-a221-cc98120322e2"
   },
   "outputs": [
    {
     "data": {
      "text/plain": [
       "(0.0, 0.8313725490196078)"
      ]
     },
     "execution_count": 12,
     "metadata": {},
     "output_type": "execute_result"
    }
   ],
   "source": [
    "x_batch[0].min(), x_batch[0].max()"
   ]
  },
  {
   "cell_type": "code",
   "execution_count": null,
   "metadata": {
    "colab": {
     "base_uri": "https://localhost:8080/"
    },
    "id": "2hpb20YqRx2w",
    "outputId": "7bd79b76-c150-4c34-d78c-e19e71f397ae"
   },
   "outputs": [
    {
     "data": {
      "text/plain": [
       "(0.0, 1.0)"
      ]
     },
     "execution_count": 13,
     "metadata": {},
     "output_type": "execute_result"
    }
   ],
   "source": [
    "y_batch[0].min(), y_batch[0].max()"
   ]
  },
  {
   "cell_type": "markdown",
   "metadata": {
    "id": "5nECVcliPTOM"
   },
   "source": [
    "Visualization of a sample in the batch"
   ]
  },
  {
   "cell_type": "code",
   "execution_count": null,
   "metadata": {
    "colab": {
     "base_uri": "https://localhost:8080/",
     "height": 466
    },
    "id": "fT7UnUpbPX4D",
    "outputId": "79703945-11c8-47a1-ef2b-c0fe5e65c370"
   },
   "outputs": [
    {
     "data": {
      "image/png": "[encoded data removed]",
      "text/plain": [
       "<Figure size 432x288 with 1 Axes>"
      ]
     },
     "metadata": {
      "needs_background": "light"
     },
     "output_type": "display_data"
    },
    {
     "data": {
      "image/png": "[encoded data removed]",
      "text/plain": [
       "<Figure size 432x288 with 1 Axes>"
      ]
     },
     "metadata": {
      "needs_background": "light"
     },
     "output_type": "display_data"
    }
   ],
   "source": [
    "x = x_batch[0]  # Input\n",
    "y = y_batch[0]  # Ground truth\n",
    "plt.imshow(x,cmap='gray', interpolation='nearest')\n",
    "plt.show()\n",
    "plt.imshow(y, cmap='gray', interpolation='nearest')\n",
    "plt.show()"
   ]
  },
  {
   "cell_type": "markdown",
   "metadata": {
    "id": "VF6sXTafPspc"
   },
   "source": [
    "## MODEL\n",
    "Fully convolutional autoencoder. One single encoder, and two decoder: one for producing the MNIST image, and one for producing the fashion MNIST image. Input: $32*32*1$. Two outputs $32*32*1$, which are concatenated together along the width, producing a single output $32*64*1$. Convolutional autoencoder with two branches."
   ]
  },
  {
   "cell_type": "code",
   "execution_count": 8,
   "metadata": {
    "id": "FHQOsTp846be"
   },
   "outputs": [],
   "source": [
    "from tensorflow.keras.layers import Input, Conv2D, Conv2DTranspose, Concatenate\n",
    "from tensorflow.keras import Model"
   ]
  },
  {
   "cell_type": "code",
   "execution_count": null,
   "metadata": {
    "id": "--L7ryeps1g2"
   },
   "outputs": [],
   "source": [
    "def build_model():\n",
    "  # Dimensions of the input: 32*32*1=1024\n",
    "  xin = Input(shape=(32,32,1))\n",
    "\n",
    "  # ENCODER\n",
    "  x = Conv2D(filters=16, kernel_size=3, strides=2, padding='same')(xin)\n",
    "  x = Conv2D(filters=32, kernel_size=3, strides=2, padding='same')(x)\n",
    "  # Latent encoding dimensions: 4*4*64=1024\n",
    "  x = Conv2D(filters=64, kernel_size=3, strides=2, padding='same')(x)\n",
    "\n",
    "  # FIRST DECODER, for prodcuing the MNIST image\n",
    "  x1 = Conv2DTranspose(filters=32, kernel_size=3, strides=2, padding='same')(x)\n",
    "  x1 = Conv2DTranspose(filters=16, kernel_size=3, strides=2, padding='same')(x1)\n",
    "  # Dimensions of the image: 32*32*1\n",
    "  x1 = Conv2DTranspose(filters=1, kernel_size=3, strides=2, padding='same', activation='sigmoid')(x1)\n",
    "\n",
    "  # SECOND DECODER, for prodcuing the fashion MNIST image\n",
    "  x2 = Conv2DTranspose(filters=32, kernel_size=3, strides=2, padding='same')(x)\n",
    "  x2 = Conv2DTranspose(filters=16, kernel_size=3, strides=2, padding='same')(x2)\n",
    "  # Dimensions of the image: 32*32*1\n",
    "  x2 = Conv2DTranspose(filters=1, kernel_size=3, strides=2, padding='same', activation='sigmoid')(x2)\n",
    "\n",
    "  # Dimensions of the output: 32*64*1. Concatenation along the width.\n",
    "  y = Concatenate(axis=2)([x1,x2])\n",
    "\n",
    "  nn = Model(inputs=xin, outputs=y)\n",
    "\n",
    "  return nn"
   ]
  },
  {
   "cell_type": "code",
   "execution_count": 10,
   "metadata": {
    "id": "d13xRGlE46m1"
   },
   "outputs": [],
   "source": [
    "nn = build_model()"
   ]
  },
  {
   "cell_type": "code",
   "execution_count": 10,
   "metadata": {
    "colab": {
     "base_uri": "https://localhost:8080/"
    },
    "id": "oqit76eL7s1r",
    "outputId": "581b6a5b-181e-46ef-e968-2c3511c43d27"
   },
   "outputs": [
    {
     "name": "stdout",
     "output_type": "stream",
     "text": [
      "Model: \"model\"\n",
      "__________________________________________________________________________________________________\n",
      " Layer (type)                   Output Shape         Param #     Connected to                     \n",
      "==================================================================================================\n",
      " input_1 (InputLayer)           [(None, 32, 32, 1)]  0           []                               \n",
      "                                                                                                  \n",
      " conv2d (Conv2D)                (None, 16, 16, 16)   160         ['input_1[0][0]']                \n",
      "                                                                                                  \n",
      " conv2d_1 (Conv2D)              (None, 8, 8, 32)     4640        ['conv2d[0][0]']                 \n",
      "                                                                                                  \n",
      " conv2d_2 (Conv2D)              (None, 4, 4, 64)     18496       ['conv2d_1[0][0]']               \n",
      "                                                                                                  \n",
      " conv2d_transpose (Conv2DTransp  (None, 8, 8, 32)    18464       ['conv2d_2[0][0]']               \n",
      " ose)                                                                                             \n",
      "                                                                                                  \n",
      " conv2d_transpose_3 (Conv2DTran  (None, 8, 8, 32)    18464       ['conv2d_2[0][0]']               \n",
      " spose)                                                                                           \n",
      "                                                                                                  \n",
      " conv2d_transpose_1 (Conv2DTran  (None, 16, 16, 16)  4624        ['conv2d_transpose[0][0]']       \n",
      " spose)                                                                                           \n",
      "                                                                                                  \n",
      " conv2d_transpose_4 (Conv2DTran  (None, 16, 16, 16)  4624        ['conv2d_transpose_3[0][0]']     \n",
      " spose)                                                                                           \n",
      "                                                                                                  \n",
      " conv2d_transpose_2 (Conv2DTran  (None, 32, 32, 1)   145         ['conv2d_transpose_1[0][0]']     \n",
      " spose)                                                                                           \n",
      "                                                                                                  \n",
      " conv2d_transpose_5 (Conv2DTran  (None, 32, 32, 1)   145         ['conv2d_transpose_4[0][0]']     \n",
      " spose)                                                                                           \n",
      "                                                                                                  \n",
      " concatenate (Concatenate)      (None, 32, 64, 1)    0           ['conv2d_transpose_2[0][0]',     \n",
      "                                                                  'conv2d_transpose_5[0][0]']     \n",
      "                                                                                                  \n",
      "==================================================================================================\n",
      "Total params: 69,762\n",
      "Trainable params: 69,762\n",
      "Non-trainable params: 0\n",
      "__________________________________________________________________________________________________\n"
     ]
    }
   ],
   "source": [
    "nn.summary()"
   ]
  },
  {
   "cell_type": "markdown",
   "metadata": {
    "id": "-3DUBKHxTC_M"
   },
   "source": [
    "### Training"
   ]
  },
  {
   "cell_type": "code",
   "execution_count": 10,
   "metadata": {
    "id": "TMYdTlVa46pz"
   },
   "outputs": [],
   "source": [
    "from tensorflow.keras.optimizers import Adam"
   ]
  },
  {
   "cell_type": "code",
   "execution_count": 12,
   "metadata": {
    "id": "09KjjmNN46vk"
   },
   "outputs": [],
   "source": [
    "nn.compile(optimizer=Adam(), loss='mse')"
   ]
  },
  {
   "cell_type": "code",
   "execution_count": 13,
   "metadata": {
    "id": "B6v2sMNM8EpV"
   },
   "outputs": [],
   "source": [
    "from tensorflow.keras.callbacks import ModelCheckpoint\n",
    "\n",
    "callback_checkpoint = ModelCheckpoint('CNN_improved.{epoch:02d}-{val_loss:.4f}.hdf5', save_weights_only=True) "
   ]
  },
  {
   "cell_type": "code",
   "execution_count": 115,
   "metadata": {
    "id": "Zh6g2Lx98dgH"
   },
   "outputs": [],
   "source": [
    "steps_per_epoch = math.floor(N_train / batchsize)\n",
    "val_steps = math.floor(N_test / batchsize)"
   ]
  },
  {
   "cell_type": "code",
   "execution_count": 15,
   "metadata": {
    "colab": {
     "base_uri": "https://localhost:8080/"
    },
    "id": "xdv6ylq48JOG",
    "outputId": "5292bb62-b522-410d-b895-ce7cf437a3ac"
   },
   "outputs": [
    {
     "name": "stdout",
     "output_type": "stream",
     "text": [
      "Epoch 1/15\n",
      "937/937 [==============================] - 18s 7ms/step - loss: 0.0462 - val_loss: 0.0191\n",
      "Epoch 2/15\n",
      "937/937 [==============================] - 6s 6ms/step - loss: 0.0170 - val_loss: 0.0159\n",
      "Epoch 3/15\n",
      "937/937 [==============================] - 6s 6ms/step - loss: 0.0153 - val_loss: 0.0148\n",
      "Epoch 4/15\n",
      "937/937 [==============================] - 6s 6ms/step - loss: 0.0143 - val_loss: 0.0141\n",
      "Epoch 5/15\n",
      "937/937 [==============================] - 6s 6ms/step - loss: 0.0139 - val_loss: 0.0138\n",
      "Epoch 6/15\n",
      "937/937 [==============================] - 6s 6ms/step - loss: 0.0136 - val_loss: 0.0136\n",
      "Epoch 7/15\n",
      "937/937 [==============================] - 7s 7ms/step - loss: 0.0134 - val_loss: 0.0133\n",
      "Epoch 8/15\n",
      "937/937 [==============================] - 6s 6ms/step - loss: 0.0132 - val_loss: 0.0132\n",
      "Epoch 9/15\n",
      "937/937 [==============================] - 6s 6ms/step - loss: 0.0131 - val_loss: 0.0129\n",
      "Epoch 10/15\n",
      "937/937 [==============================] - 6s 6ms/step - loss: 0.0129 - val_loss: 0.0131\n",
      "Epoch 11/15\n",
      "937/937 [==============================] - 6s 6ms/step - loss: 0.0129 - val_loss: 0.0127\n",
      "Epoch 12/15\n",
      "937/937 [==============================] - 6s 6ms/step - loss: 0.0128 - val_loss: 0.0128\n",
      "Epoch 13/15\n",
      "937/937 [==============================] - 6s 6ms/step - loss: 0.0128 - val_loss: 0.0126\n",
      "Epoch 14/15\n",
      "937/937 [==============================] - 6s 6ms/step - loss: 0.0126 - val_loss: 0.0127\n",
      "Epoch 15/15\n",
      "937/937 [==============================] - 6s 6ms/step - loss: 0.0126 - val_loss: 0.0125\n"
     ]
    }
   ],
   "source": [
    "hist = nn.fit(train_generator, epochs=15, batch_size=batchsize, validation_data=test_generator, callbacks=[callback_checkpoint],\n",
    "              steps_per_epoch=steps_per_epoch, validation_steps=val_steps)"
   ]
  },
  {
   "cell_type": "markdown",
   "metadata": {
    "id": "5No6weHpTPW5"
   },
   "source": [
    "Score: around $0.0125$. Better than before."
   ]
  },
  {
   "cell_type": "code",
   "execution_count": 53,
   "metadata": {
    "id": "FSbWpnpq-feJ"
   },
   "outputs": [],
   "source": [
    "import matplotlib.pyplot as plt\n",
    "def plot_history(training_history, n_epochs=None):\n",
    "    if not n_epochs:\n",
    "      n_epochs = len(training_history.history['loss'])\n",
    "\n",
    "    epochs = range(1,n_epochs+1)\n",
    "\n",
    "    plt.plot(epochs, training_history.history['loss'], label='train_loss')\n",
    "    plt.plot(epochs, training_history.history['val_loss'], label='val_loss')\n",
    "    plt.legend()\n",
    "    plt.grid()\n",
    "    plt.xlabel('Number of epochs')\n",
    "    plt.title('Loss')"
   ]
  },
  {
   "cell_type": "code",
   "execution_count": 19,
   "metadata": {
    "colab": {
     "base_uri": "https://localhost:8080/",
     "height": 295
    },
    "id": "nK6ji1ws-hJ6",
    "outputId": "bb460819-b62e-4127-cc73-6ced4001a76e"
   },
   "outputs": [
    {
     "data": {
      "image/png": "[encoded data removed]",
      "text/plain": [
       "<Figure size 432x288 with 1 Axes>"
      ]
     },
     "metadata": {
      "needs_background": "light"
     },
     "output_type": "display_data"
    }
   ],
   "source": [
    "plot_history(hist)"
   ]
  },
  {
   "cell_type": "markdown",
   "metadata": {
    "id": "02wMuea5Q2W1"
   },
   "source": [
    "Very smooth curve: no overfitting"
   ]
  },
  {
   "cell_type": "markdown",
   "metadata": {
    "id": "1aURrf-_Q6ZP"
   },
   "source": [
    "### Visualization of some results"
   ]
  },
  {
   "cell_type": "code",
   "execution_count": 27,
   "metadata": {
    "colab": {
     "base_uri": "https://localhost:8080/",
     "height": 666
    },
    "id": "4-rdHq_lHg1s",
    "outputId": "92cc11bb-d91f-4948-defb-b478ff527f15"
   },
   "outputs": [
    {
     "data": {
      "image/png": "[encoded data removed]",
      "text/plain": [
       "<Figure size 432x288 with 1 Axes>"
      ]
     },
     "metadata": {
      "needs_background": "light"
     },
     "output_type": "display_data"
    },
    {
     "data": {
      "image/png": "[encoded data removed]",
      "text/plain": [
       "<Figure size 432x288 with 1 Axes>"
      ]
     },
     "metadata": {
      "needs_background": "light"
     },
     "output_type": "display_data"
    },
    {
     "data": {
      "image/png": "[encoded data removed]",
      "text/plain": [
       "<Figure size 432x288 with 1 Axes>"
      ]
     },
     "metadata": {
      "needs_background": "light"
     },
     "output_type": "display_data"
    }
   ],
   "source": [
    "x_batch, y_batch = next(test_generator)\n",
    "x = x_batch[0]  # Input\n",
    "y = y_batch[0]  # Ground truth\n",
    "y_pred = nn.predict(x.reshape((1,32,32)))  # Prediction\n",
    "\n",
    "plt.imshow(x,cmap='gray', interpolation='nearest')\n",
    "plt.show()\n",
    "plt.imshow(y, cmap='gray', interpolation='nearest')\n",
    "plt.show()\n",
    "plt.imshow(y_pred[0].reshape((32,64)), cmap='gray', interpolation='nearest')\n",
    "plt.show()"
   ]
  },
  {
   "cell_type": "code",
   "execution_count": 28,
   "metadata": {
    "colab": {
     "base_uri": "https://localhost:8080/",
     "height": 666
    },
    "id": "3JhBlJeNHg_S",
    "outputId": "66581b42-9a9e-485e-9c5f-b18be01e0dcb"
   },
   "outputs": [
    {
     "data": {
      "image/png": "[encoded data removed]",
      "text/plain": [
       "<Figure size 432x288 with 1 Axes>"
      ]
     },
     "metadata": {
      "needs_background": "light"
     },
     "output_type": "display_data"
    },
    {
     "data": {
      "image/png": "[encoded data removed]",
      "text/plain": [
       "<Figure size 432x288 with 1 Axes>"
      ]
     },
     "metadata": {
      "needs_background": "light"
     },
     "output_type": "display_data"
    },
    {
     "data": {
      "image/png": "[encoded data removed]",
      "text/plain": [
       "<Figure size 432x288 with 1 Axes>"
      ]
     },
     "metadata": {
      "needs_background": "light"
     },
     "output_type": "display_data"
    }
   ],
   "source": [
    "x_batch, y_batch = next(test_generator)\n",
    "x = x_batch[0]  # Input\n",
    "y = y_batch[0]  # Ground truth\n",
    "y_pred = nn.predict(x.reshape((1,32,32)))  # Prediction\n",
    "\n",
    "plt.imshow(x,cmap='gray', interpolation='nearest')\n",
    "plt.show()\n",
    "plt.imshow(y, cmap='gray', interpolation='nearest')\n",
    "plt.show()\n",
    "plt.imshow(y_pred[0].reshape((32,64)), cmap='gray', interpolation='nearest')\n",
    "plt.show()"
   ]
  },
  {
   "cell_type": "code",
   "execution_count": 29,
   "metadata": {
    "colab": {
     "base_uri": "https://localhost:8080/",
     "height": 666
    },
    "id": "aeAN67l3HhJa",
    "outputId": "841b1fdd-a773-49f0-e6d8-8646da1772af"
   },
   "outputs": [
    {
     "data": {
      "image/png": "[encoded data removed]",
      "text/plain": [
       "<Figure size 432x288 with 1 Axes>"
      ]
     },
     "metadata": {
      "needs_background": "light"
     },
     "output_type": "display_data"
    },
    {
     "data": {
      "image/png": "[encoded data removed]",
      "text/plain": [
       "<Figure size 432x288 with 1 Axes>"
      ]
     },
     "metadata": {
      "needs_background": "light"
     },
     "output_type": "display_data"
    },
    {
     "data": {
      "image/png": "[encoded data removed]",
      "text/plain": [
       "<Figure size 432x288 with 1 Axes>"
      ]
     },
     "metadata": {
      "needs_background": "light"
     },
     "output_type": "display_data"
    }
   ],
   "source": [
    "x_batch, y_batch = next(test_generator)\n",
    "x = x_batch[0]  # Input\n",
    "y = y_batch[0]  # Ground truth\n",
    "y_pred = nn.predict(x.reshape((1,32,32)))  # Prediction\n",
    "\n",
    "plt.imshow(x,cmap='gray', interpolation='nearest')\n",
    "plt.show()\n",
    "plt.imshow(y, cmap='gray', interpolation='nearest')\n",
    "plt.show()\n",
    "plt.imshow(y_pred[0].reshape((32,64)), cmap='gray', interpolation='nearest')\n",
    "plt.show()"
   ]
  },
  {
   "cell_type": "markdown",
   "metadata": {
    "id": "SubYFw8Vq5KS"
   },
   "source": [
    "### More training"
   ]
  },
  {
   "cell_type": "code",
   "execution_count": null,
   "metadata": {
    "id": "usOXFU1Gsy-k"
   },
   "outputs": [],
   "source": [
    "nn = build_model()"
   ]
  },
  {
   "cell_type": "code",
   "execution_count": 11,
   "metadata": {
    "id": "JiIQRNoqq7hT"
   },
   "outputs": [],
   "source": [
    "from tensorflow.keras.optimizers import Adam"
   ]
  },
  {
   "cell_type": "code",
   "execution_count": 12,
   "metadata": {
    "id": "MtDP7F5nq7hU"
   },
   "outputs": [],
   "source": [
    "nn.compile(optimizer=Adam(), loss='mse')"
   ]
  },
  {
   "cell_type": "code",
   "execution_count": 13,
   "metadata": {
    "id": "ojs0_uWqq7hU"
   },
   "outputs": [],
   "source": [
    "from tensorflow.keras.callbacks import ModelCheckpoint\n",
    "callback_checkpoint = ModelCheckpoint('CNN_improved.{epoch:02d}-{val_loss:.4f}.hdf5', save_weights_only=True) "
   ]
  },
  {
   "cell_type": "code",
   "execution_count": 14,
   "metadata": {
    "id": "9plPKp4Sq7hV"
   },
   "outputs": [],
   "source": [
    "steps_per_epoch = N_train // batchsize\n",
    "val_steps = N_test // batchsize"
   ]
  },
  {
   "cell_type": "code",
   "execution_count": 15,
   "metadata": {
    "colab": {
     "base_uri": "https://localhost:8080/"
    },
    "id": "4jDal5zyq7hV",
    "outputId": "249e5f9c-532d-450e-ca1c-9b1dd2d80bd4"
   },
   "outputs": [
    {
     "name": "stdout",
     "output_type": "stream",
     "text": [
      "Epoch 1/50\n",
      "937/937 [==============================] - 18s 7ms/step - loss: 0.0524 - val_loss: 0.0195\n",
      "Epoch 2/50\n",
      "937/937 [==============================] - 7s 7ms/step - loss: 0.0174 - val_loss: 0.0160\n",
      "Epoch 3/50\n",
      "937/937 [==============================] - 6s 7ms/step - loss: 0.0154 - val_loss: 0.0147\n",
      "Epoch 4/50\n",
      "937/937 [==============================] - 6s 6ms/step - loss: 0.0145 - val_loss: 0.0140\n",
      "Epoch 5/50\n",
      "937/937 [==============================] - 6s 7ms/step - loss: 0.0139 - val_loss: 0.0138\n",
      "Epoch 6/50\n",
      "937/937 [==============================] - 6s 7ms/step - loss: 0.0136 - val_loss: 0.0136\n",
      "Epoch 7/50\n",
      "937/937 [==============================] - 6s 7ms/step - loss: 0.0134 - val_loss: 0.0133\n",
      "Epoch 8/50\n",
      "937/937 [==============================] - 6s 7ms/step - loss: 0.0132 - val_loss: 0.0131\n",
      "Epoch 9/50\n",
      "937/937 [==============================] - 7s 7ms/step - loss: 0.0131 - val_loss: 0.0131\n",
      "Epoch 10/50\n",
      "937/937 [==============================] - 6s 7ms/step - loss: 0.0130 - val_loss: 0.0129\n",
      "Epoch 11/50\n",
      "937/937 [==============================] - 6s 7ms/step - loss: 0.0129 - val_loss: 0.0129\n",
      "Epoch 12/50\n",
      "937/937 [==============================] - 6s 7ms/step - loss: 0.0128 - val_loss: 0.0128\n",
      "Epoch 13/50\n",
      "937/937 [==============================] - 7s 8ms/step - loss: 0.0128 - val_loss: 0.0127\n",
      "Epoch 14/50\n",
      "937/937 [==============================] - 6s 6ms/step - loss: 0.0127 - val_loss: 0.0128\n",
      "Epoch 15/50\n",
      "937/937 [==============================] - 6s 7ms/step - loss: 0.0127 - val_loss: 0.0127\n",
      "Epoch 16/50\n",
      "937/937 [==============================] - 6s 6ms/step - loss: 0.0126 - val_loss: 0.0126\n",
      "Epoch 17/50\n",
      "937/937 [==============================] - 6s 7ms/step - loss: 0.0126 - val_loss: 0.0126\n",
      "Epoch 18/50\n",
      "937/937 [==============================] - 6s 6ms/step - loss: 0.0125 - val_loss: 0.0124\n",
      "Epoch 19/50\n",
      "937/937 [==============================] - 6s 6ms/step - loss: 0.0126 - val_loss: 0.0125\n",
      "Epoch 20/50\n",
      "937/937 [==============================] - 6s 6ms/step - loss: 0.0125 - val_loss: 0.0124\n",
      "Epoch 21/50\n",
      "937/937 [==============================] - 6s 7ms/step - loss: 0.0125 - val_loss: 0.0124\n",
      "Epoch 22/50\n",
      "937/937 [==============================] - 6s 6ms/step - loss: 0.0125 - val_loss: 0.0125\n",
      "Epoch 23/50\n",
      "937/937 [==============================] - 6s 6ms/step - loss: 0.0125 - val_loss: 0.0126\n",
      "Epoch 24/50\n",
      "937/937 [==============================] - 6s 6ms/step - loss: 0.0125 - val_loss: 0.0125\n",
      "Epoch 25/50\n",
      "937/937 [==============================] - 6s 7ms/step - loss: 0.0125 - val_loss: 0.0125\n",
      "Epoch 26/50\n",
      "937/937 [==============================] - 6s 7ms/step - loss: 0.0124 - val_loss: 0.0124\n",
      "Epoch 27/50\n",
      "937/937 [==============================] - 6s 7ms/step - loss: 0.0124 - val_loss: 0.0125\n",
      "Epoch 28/50\n",
      "937/937 [==============================] - 6s 7ms/step - loss: 0.0124 - val_loss: 0.0125\n",
      "Epoch 29/50\n",
      "937/937 [==============================] - 6s 7ms/step - loss: 0.0124 - val_loss: 0.0125\n",
      "Epoch 30/50\n",
      "937/937 [==============================] - 6s 7ms/step - loss: 0.0124 - val_loss: 0.0123\n",
      "Epoch 31/50\n",
      "937/937 [==============================] - 6s 7ms/step - loss: 0.0125 - val_loss: 0.0125\n",
      "Epoch 32/50\n",
      "937/937 [==============================] - 6s 7ms/step - loss: 0.0124 - val_loss: 0.0123\n",
      "Epoch 33/50\n",
      "937/937 [==============================] - 6s 7ms/step - loss: 0.0124 - val_loss: 0.0124\n",
      "Epoch 34/50\n",
      "937/937 [==============================] - 6s 7ms/step - loss: 0.0123 - val_loss: 0.0124\n",
      "Epoch 35/50\n",
      "937/937 [==============================] - 6s 7ms/step - loss: 0.0124 - val_loss: 0.0124\n",
      "Epoch 36/50\n",
      "937/937 [==============================] - 6s 7ms/step - loss: 0.0123 - val_loss: 0.0124\n",
      "Epoch 37/50\n",
      "937/937 [==============================] - 6s 7ms/step - loss: 0.0124 - val_loss: 0.0123\n",
      "Epoch 38/50\n",
      "937/937 [==============================] - 6s 7ms/step - loss: 0.0123 - val_loss: 0.0124\n",
      "Epoch 39/50\n",
      "937/937 [==============================] - 6s 6ms/step - loss: 0.0123 - val_loss: 0.0124\n",
      "Epoch 40/50\n",
      "937/937 [==============================] - 6s 6ms/step - loss: 0.0123 - val_loss: 0.0123\n",
      "Epoch 41/50\n",
      "937/937 [==============================] - 6s 7ms/step - loss: 0.0123 - val_loss: 0.0123\n",
      "Epoch 42/50\n",
      "937/937 [==============================] - 6s 7ms/step - loss: 0.0123 - val_loss: 0.0124\n",
      "Epoch 43/50\n",
      "937/937 [==============================] - 7s 8ms/step - loss: 0.0123 - val_loss: 0.0123\n",
      "Epoch 44/50\n",
      "937/937 [==============================] - 7s 8ms/step - loss: 0.0122 - val_loss: 0.0123\n",
      "Epoch 45/50\n",
      "937/937 [==============================] - 6s 7ms/step - loss: 0.0123 - val_loss: 0.0123\n",
      "Epoch 46/50\n",
      "937/937 [==============================] - 6s 6ms/step - loss: 0.0123 - val_loss: 0.0124\n",
      "Epoch 47/50\n",
      "937/937 [==============================] - 6s 6ms/step - loss: 0.0123 - val_loss: 0.0123\n",
      "Epoch 48/50\n",
      "937/937 [==============================] - 6s 7ms/step - loss: 0.0122 - val_loss: 0.0124\n",
      "Epoch 49/50\n",
      "937/937 [==============================] - 6s 7ms/step - loss: 0.0123 - val_loss: 0.0123\n",
      "Epoch 50/50\n",
      "937/937 [==============================] - 6s 7ms/step - loss: 0.0123 - val_loss: 0.0124\n"
     ]
    }
   ],
   "source": [
    "hist = nn.fit(train_generator, epochs=50, batch_size=batchsize, validation_data=test_generator, callbacks=[callback_checkpoint],\n",
    "              steps_per_epoch=steps_per_epoch, validation_steps=val_steps)"
   ]
  },
  {
   "cell_type": "markdown",
   "metadata": {
    "id": "RTUPH5e7T2bl"
   },
   "source": [
    "No improvement..."
   ]
  },
  {
   "cell_type": "code",
   "execution_count": 18,
   "metadata": {
    "colab": {
     "base_uri": "https://localhost:8080/",
     "height": 295
    },
    "id": "9KA8wRPRq7hW",
    "outputId": "ee34bca4-b672-4720-b65e-c20da590208e"
   },
   "outputs": [
    {
     "data": {
      "image/png": "[encoded data removed]",
      "text/plain": [
       "<Figure size 432x288 with 1 Axes>"
      ]
     },
     "metadata": {
      "needs_background": "light"
     },
     "output_type": "display_data"
    }
   ],
   "source": [
    "plot_history(hist)"
   ]
  },
  {
   "cell_type": "markdown",
   "metadata": {
    "id": "40iiIc-3UEkM"
   },
   "source": [
    "We have reached a plateau..."
   ]
  },
  {
   "cell_type": "code",
   "execution_count": 19,
   "metadata": {
    "colab": {
     "base_uri": "https://localhost:8080/",
     "height": 666
    },
    "id": "XnDvp3h2q7hW",
    "outputId": "fce19760-36a8-4b9f-c87e-1dc2f4591fdf"
   },
   "outputs": [
    {
     "data": {
      "image/png": "[encoded data removed]",
      "text/plain": [
       "<Figure size 432x288 with 1 Axes>"
      ]
     },
     "metadata": {
      "needs_background": "light"
     },
     "output_type": "display_data"
    },
    {
     "data": {
      "image/png": "[encoded data removed]",
      "text/plain": [
       "<Figure size 432x288 with 1 Axes>"
      ]
     },
     "metadata": {
      "needs_background": "light"
     },
     "output_type": "display_data"
    },
    {
     "data": {
      "image/png": "[encoded data removed]",
      "text/plain": [
       "<Figure size 432x288 with 1 Axes>"
      ]
     },
     "metadata": {
      "needs_background": "light"
     },
     "output_type": "display_data"
    }
   ],
   "source": [
    "x_batch, y_batch = next(test_generator)\n",
    "x = x_batch[0]  # Input\n",
    "y = y_batch[0]  # Ground truth\n",
    "y_pred = nn.predict(x.reshape((1,32,32)))  # Prediction\n",
    "\n",
    "plt.imshow(x,cmap='gray', interpolation='nearest')\n",
    "plt.show()\n",
    "plt.imshow(y, cmap='gray', interpolation='nearest')\n",
    "plt.show()\n",
    "plt.imshow(y_pred[0].reshape((32,64)), cmap='gray', interpolation='nearest')\n",
    "plt.show()"
   ]
  },
  {
   "cell_type": "markdown",
   "metadata": {
    "id": "3-IysVyOT_nv"
   },
   "source": [
    "### More training, with `reduceLRonPlateau`"
   ]
  },
  {
   "cell_type": "code",
   "execution_count": null,
   "metadata": {
    "id": "LQ53tF1uUo5u"
   },
   "outputs": [],
   "source": [
    "nn = build_model()"
   ]
  },
  {
   "cell_type": "code",
   "execution_count": 23,
   "metadata": {
    "id": "rTApNUxvs1g2"
   },
   "outputs": [],
   "source": [
    "from tensorflow.keras.optimizers import Adam"
   ]
  },
  {
   "cell_type": "code",
   "execution_count": 24,
   "metadata": {
    "id": "xmVBE8zBs1g3"
   },
   "outputs": [],
   "source": [
    "nn.compile(optimizer=Adam(), loss='mse')"
   ]
  },
  {
   "cell_type": "code",
   "execution_count": 25,
   "metadata": {
    "id": "HI69lSmys1g3"
   },
   "outputs": [],
   "source": [
    "from tensorflow.keras.callbacks import ModelCheckpoint, ReduceLROnPlateau\n",
    "reduce_lr_callback = ReduceLROnPlateau(patiente=3)\n",
    "callback_checkpoint = ModelCheckpoint('CNN_improved.{epoch:02d}-{val_loss:.4f}.hdf5', save_weights_only=True) "
   ]
  },
  {
   "cell_type": "code",
   "execution_count": 26,
   "metadata": {
    "id": "Yia1Mofes1g3"
   },
   "outputs": [],
   "source": [
    "steps_per_epoch = N_train // batchsize\n",
    "val_steps = N_test // batchsize"
   ]
  },
  {
   "cell_type": "code",
   "execution_count": 27,
   "metadata": {
    "colab": {
     "base_uri": "https://localhost:8080/"
    },
    "id": "wNAsY6sIs1g3",
    "outputId": "bc5c8593-e924-49be-bfb4-e8728db7fd1c"
   },
   "outputs": [
    {
     "name": "stdout",
     "output_type": "stream",
     "text": [
      "Epoch 1/50\n",
      "937/937 [==============================] - 8s 7ms/step - loss: 0.0516 - val_loss: 0.0195 - lr: 0.0010\n",
      "Epoch 2/50\n",
      "937/937 [==============================] - 6s 6ms/step - loss: 0.0175 - val_loss: 0.0161 - lr: 0.0010\n",
      "Epoch 3/50\n",
      "937/937 [==============================] - 6s 7ms/step - loss: 0.0155 - val_loss: 0.0150 - lr: 0.0010\n",
      "Epoch 4/50\n",
      "937/937 [==============================] - 6s 7ms/step - loss: 0.0145 - val_loss: 0.0142 - lr: 0.0010\n",
      "Epoch 5/50\n",
      "937/937 [==============================] - 6s 6ms/step - loss: 0.0139 - val_loss: 0.0137 - lr: 0.0010\n",
      "Epoch 6/50\n",
      "937/937 [==============================] - 6s 6ms/step - loss: 0.0136 - val_loss: 0.0135 - lr: 0.0010\n",
      "Epoch 7/50\n",
      "937/937 [==============================] - 6s 7ms/step - loss: 0.0134 - val_loss: 0.0132 - lr: 0.0010\n",
      "Epoch 8/50\n",
      "937/937 [==============================] - 6s 7ms/step - loss: 0.0132 - val_loss: 0.0131 - lr: 0.0010\n",
      "Epoch 9/50\n",
      "937/937 [==============================] - 6s 7ms/step - loss: 0.0131 - val_loss: 0.0130 - lr: 0.0010\n",
      "Epoch 10/50\n",
      "937/937 [==============================] - 6s 7ms/step - loss: 0.0130 - val_loss: 0.0129 - lr: 0.0010\n",
      "Epoch 11/50\n",
      "937/937 [==============================] - 6s 7ms/step - loss: 0.0129 - val_loss: 0.0129 - lr: 0.0010\n",
      "Epoch 12/50\n",
      "937/937 [==============================] - 6s 7ms/step - loss: 0.0128 - val_loss: 0.0129 - lr: 0.0010\n",
      "Epoch 13/50\n",
      "937/937 [==============================] - 6s 7ms/step - loss: 0.0127 - val_loss: 0.0127 - lr: 0.0010\n",
      "Epoch 14/50\n",
      "937/937 [==============================] - 6s 7ms/step - loss: 0.0127 - val_loss: 0.0127 - lr: 0.0010\n",
      "Epoch 15/50\n",
      "937/937 [==============================] - 6s 7ms/step - loss: 0.0127 - val_loss: 0.0128 - lr: 0.0010\n",
      "Epoch 16/50\n",
      "937/937 [==============================] - 6s 7ms/step - loss: 0.0126 - val_loss: 0.0125 - lr: 0.0010\n",
      "Epoch 17/50\n",
      "937/937 [==============================] - 6s 6ms/step - loss: 0.0126 - val_loss: 0.0125 - lr: 0.0010\n",
      "Epoch 18/50\n",
      "937/937 [==============================] - 6s 7ms/step - loss: 0.0126 - val_loss: 0.0127 - lr: 0.0010\n",
      "Epoch 19/50\n",
      "937/937 [==============================] - 6s 6ms/step - loss: 0.0126 - val_loss: 0.0125 - lr: 0.0010\n",
      "Epoch 20/50\n",
      "937/937 [==============================] - 6s 7ms/step - loss: 0.0125 - val_loss: 0.0126 - lr: 0.0010\n",
      "Epoch 21/50\n",
      "937/937 [==============================] - 6s 7ms/step - loss: 0.0125 - val_loss: 0.0126 - lr: 0.0010\n",
      "Epoch 22/50\n",
      "937/937 [==============================] - 6s 6ms/step - loss: 0.0125 - val_loss: 0.0124 - lr: 0.0010\n",
      "Epoch 23/50\n",
      "937/937 [==============================] - 6s 6ms/step - loss: 0.0125 - val_loss: 0.0125 - lr: 0.0010\n",
      "Epoch 24/50\n",
      "937/937 [==============================] - 6s 6ms/step - loss: 0.0124 - val_loss: 0.0123 - lr: 0.0010\n",
      "Epoch 25/50\n",
      "937/937 [==============================] - 6s 7ms/step - loss: 0.0124 - val_loss: 0.0123 - lr: 0.0010\n",
      "Epoch 26/50\n",
      "937/937 [==============================] - 6s 7ms/step - loss: 0.0124 - val_loss: 0.0124 - lr: 0.0010\n",
      "Epoch 27/50\n",
      "937/937 [==============================] - 6s 6ms/step - loss: 0.0124 - val_loss: 0.0126 - lr: 0.0010\n",
      "Epoch 28/50\n",
      "937/937 [==============================] - 6s 6ms/step - loss: 0.0123 - val_loss: 0.0124 - lr: 0.0010\n",
      "Epoch 29/50\n",
      "937/937 [==============================] - 6s 7ms/step - loss: 0.0124 - val_loss: 0.0125 - lr: 0.0010\n",
      "Epoch 30/50\n",
      "937/937 [==============================] - 6s 7ms/step - loss: 0.0123 - val_loss: 0.0124 - lr: 0.0010\n",
      "Epoch 31/50\n",
      "937/937 [==============================] - 6s 6ms/step - loss: 0.0124 - val_loss: 0.0123 - lr: 0.0010\n",
      "Epoch 32/50\n",
      "937/937 [==============================] - 6s 7ms/step - loss: 0.0123 - val_loss: 0.0124 - lr: 0.0010\n",
      "Epoch 33/50\n",
      "937/937 [==============================] - 6s 7ms/step - loss: 0.0123 - val_loss: 0.0123 - lr: 1.0000e-04\n",
      "Epoch 34/50\n",
      "937/937 [==============================] - 6s 7ms/step - loss: 0.0122 - val_loss: 0.0122 - lr: 1.0000e-04\n",
      "Epoch 35/50\n",
      "937/937 [==============================] - 6s 6ms/step - loss: 0.0122 - val_loss: 0.0122 - lr: 1.0000e-04\n",
      "Epoch 36/50\n",
      "937/937 [==============================] - 6s 6ms/step - loss: 0.0121 - val_loss: 0.0122 - lr: 1.0000e-04\n",
      "Epoch 37/50\n",
      "937/937 [==============================] - 6s 6ms/step - loss: 0.0122 - val_loss: 0.0122 - lr: 1.0000e-04\n",
      "Epoch 38/50\n",
      "937/937 [==============================] - 6s 6ms/step - loss: 0.0121 - val_loss: 0.0121 - lr: 1.0000e-04\n",
      "Epoch 39/50\n",
      "937/937 [==============================] - 6s 7ms/step - loss: 0.0122 - val_loss: 0.0122 - lr: 1.0000e-04\n",
      "Epoch 40/50\n",
      "937/937 [==============================] - 6s 7ms/step - loss: 0.0122 - val_loss: 0.0122 - lr: 1.0000e-04\n",
      "Epoch 41/50\n",
      "937/937 [==============================] - 6s 7ms/step - loss: 0.0122 - val_loss: 0.0122 - lr: 1.0000e-04\n",
      "Epoch 42/50\n",
      "937/937 [==============================] - 6s 7ms/step - loss: 0.0121 - val_loss: 0.0121 - lr: 1.0000e-04\n",
      "Epoch 43/50\n",
      "937/937 [==============================] - 6s 7ms/step - loss: 0.0122 - val_loss: 0.0121 - lr: 1.0000e-04\n",
      "Epoch 44/50\n",
      "937/937 [==============================] - 6s 6ms/step - loss: 0.0122 - val_loss: 0.0121 - lr: 1.0000e-04\n",
      "Epoch 45/50\n",
      "937/937 [==============================] - 6s 7ms/step - loss: 0.0122 - val_loss: 0.0122 - lr: 1.0000e-04\n",
      "Epoch 46/50\n",
      "937/937 [==============================] - 6s 6ms/step - loss: 0.0121 - val_loss: 0.0122 - lr: 1.0000e-04\n",
      "Epoch 47/50\n",
      "937/937 [==============================] - 6s 7ms/step - loss: 0.0122 - val_loss: 0.0122 - lr: 1.0000e-04\n",
      "Epoch 48/50\n",
      "937/937 [==============================] - 6s 6ms/step - loss: 0.0121 - val_loss: 0.0121 - lr: 1.0000e-04\n",
      "Epoch 49/50\n",
      "937/937 [==============================] - 6s 7ms/step - loss: 0.0122 - val_loss: 0.0121 - lr: 1.0000e-05\n",
      "Epoch 50/50\n",
      "937/937 [==============================] - 6s 7ms/step - loss: 0.0121 - val_loss: 0.0122 - lr: 1.0000e-05\n"
     ]
    }
   ],
   "source": [
    "hist = nn.fit(train_generator, epochs=50, batch_size=batchsize, validation_data=test_generator, callbacks=[callback_checkpoint, reduce_lr_callback],\n",
    "              steps_per_epoch=steps_per_epoch, validation_steps=val_steps)"
   ]
  },
  {
   "cell_type": "markdown",
   "metadata": {
    "id": "b9FE92gqUNmX"
   },
   "source": [
    "Little improvement: score $0.0122$. Let's train more."
   ]
  },
  {
   "cell_type": "code",
   "execution_count": 33,
   "metadata": {
    "colab": {
     "base_uri": "https://localhost:8080/"
    },
    "id": "qtJNrVSGuZQj",
    "outputId": "ce3db276-2cf5-418c-b499-a41d521ac4c1"
   },
   "outputs": [
    {
     "name": "stdout",
     "output_type": "stream",
     "text": [
      "Epoch 1/15\n",
      "937/937 [==============================] - 6s 7ms/step - loss: 0.0122 - val_loss: 0.0122 - lr: 1.0000e-05\n",
      "Epoch 2/15\n",
      "937/937 [==============================] - 6s 7ms/step - loss: 0.0121 - val_loss: 0.0122 - lr: 1.0000e-05\n",
      "Epoch 3/15\n",
      "937/937 [==============================] - 6s 6ms/step - loss: 0.0121 - val_loss: 0.0122 - lr: 1.0000e-05\n",
      "Epoch 4/15\n",
      "937/937 [==============================] - 6s 7ms/step - loss: 0.0121 - val_loss: 0.0121 - lr: 1.0000e-05\n",
      "Epoch 5/15\n",
      "937/937 [==============================] - 6s 7ms/step - loss: 0.0122 - val_loss: 0.0122 - lr: 1.0000e-05\n",
      "Epoch 6/15\n",
      "937/937 [==============================] - 6s 7ms/step - loss: 0.0121 - val_loss: 0.0122 - lr: 1.0000e-05\n",
      "Epoch 7/15\n",
      "937/937 [==============================] - 6s 6ms/step - loss: 0.0121 - val_loss: 0.0121 - lr: 1.0000e-05\n",
      "Epoch 8/15\n",
      "937/937 [==============================] - 6s 7ms/step - loss: 0.0122 - val_loss: 0.0122 - lr: 1.0000e-05\n",
      "Epoch 9/15\n",
      "937/937 [==============================] - 6s 7ms/step - loss: 0.0121 - val_loss: 0.0122 - lr: 1.0000e-05\n",
      "Epoch 10/15\n",
      "937/937 [==============================] - 7s 7ms/step - loss: 0.0121 - val_loss: 0.0121 - lr: 1.0000e-05\n",
      "Epoch 11/15\n",
      "937/937 [==============================] - 6s 7ms/step - loss: 0.0121 - val_loss: 0.0123 - lr: 1.0000e-05\n",
      "Epoch 12/15\n",
      "937/937 [==============================] - 6s 7ms/step - loss: 0.0121 - val_loss: 0.0122 - lr: 1.0000e-05\n",
      "Epoch 13/15\n",
      "937/937 [==============================] - 6s 7ms/step - loss: 0.0122 - val_loss: 0.0122 - lr: 1.0000e-05\n",
      "Epoch 14/15\n",
      "937/937 [==============================] - 6s 7ms/step - loss: 0.0121 - val_loss: 0.0122 - lr: 1.0000e-05\n",
      "Epoch 15/15\n",
      "937/937 [==============================] - 6s 7ms/step - loss: 0.0121 - val_loss: 0.0122 - lr: 1.0000e-06\n"
     ]
    }
   ],
   "source": [
    "hist = nn.fit(train_generator, epochs=15, batch_size=batchsize, validation_data=test_generator, callbacks=[callback_checkpoint, reduce_lr_callback],\n",
    "              steps_per_epoch=steps_per_epoch, validation_steps=val_steps)"
   ]
  },
  {
   "cell_type": "code",
   "execution_count": 29,
   "metadata": {
    "colab": {
     "base_uri": "https://localhost:8080/",
     "height": 295
    },
    "id": "mLzVsNkNs1g4",
    "outputId": "d9554ec6-028c-45c2-c421-1b28bd8eb9d2"
   },
   "outputs": [
    {
     "data": {
      "image/png": "[encoded data removed]",
      "text/plain": [
       "<Figure size 432x288 with 1 Axes>"
      ]
     },
     "metadata": {
      "needs_background": "light"
     },
     "output_type": "display_data"
    }
   ],
   "source": [
    "plot_history(hist)"
   ]
  },
  {
   "cell_type": "code",
   "execution_count": 30,
   "metadata": {
    "colab": {
     "base_uri": "https://localhost:8080/",
     "height": 666
    },
    "id": "mPWhO5cos1g5",
    "outputId": "92e543ce-f249-492b-d850-82faf8f01f20"
   },
   "outputs": [
    {
     "data": {
      "image/png": "[encoded data removed]",
      "text/plain": [
       "<Figure size 432x288 with 1 Axes>"
      ]
     },
     "metadata": {
      "needs_background": "light"
     },
     "output_type": "display_data"
    },
    {
     "data": {
      "image/png": "[encoded data removed]",
      "text/plain": [
       "<Figure size 432x288 with 1 Axes>"
      ]
     },
     "metadata": {
      "needs_background": "light"
     },
     "output_type": "display_data"
    },
    {
     "data": {
      "image/png": "[encoded data removed]",
      "text/plain": [
       "<Figure size 432x288 with 1 Axes>"
      ]
     },
     "metadata": {
      "needs_background": "light"
     },
     "output_type": "display_data"
    }
   ],
   "source": [
    "x_batch, y_batch = next(test_generator)\n",
    "x = x_batch[0]  # Input\n",
    "y = y_batch[0]  # Ground truth\n",
    "y_pred = nn.predict(x.reshape((1,32,32)))  # Prediction\n",
    "\n",
    "plt.imshow(x,cmap='gray', interpolation='nearest')\n",
    "plt.show()\n",
    "plt.imshow(y, cmap='gray', interpolation='nearest')\n",
    "plt.show()\n",
    "plt.imshow(y_pred[0].reshape((32,64)), cmap='gray', interpolation='nearest')\n",
    "plt.show()"
   ]
  },
  {
   "cell_type": "markdown",
   "metadata": {
    "id": "NKBb8EPru9e0"
   },
   "source": [
    "### Let's try a different `reduceLRonPlateau` strategy."
   ]
  },
  {
   "cell_type": "code",
   "execution_count": 34,
   "metadata": {
    "id": "52fs6aw2u9e2"
   },
   "outputs": [],
   "source": [
    "nn = build_model()"
   ]
  },
  {
   "cell_type": "code",
   "execution_count": 35,
   "metadata": {
    "id": "A-mVDKaju9e2"
   },
   "outputs": [],
   "source": [
    "from tensorflow.keras.optimizers import Adam"
   ]
  },
  {
   "cell_type": "code",
   "execution_count": 36,
   "metadata": {
    "id": "XxpgI8IHu9e2"
   },
   "outputs": [],
   "source": [
    "nn.compile(optimizer=Adam(), loss='mse')"
   ]
  },
  {
   "cell_type": "code",
   "execution_count": 37,
   "metadata": {
    "id": "KdmwEBVUu9e3"
   },
   "outputs": [],
   "source": [
    "from tensorflow.keras.callbacks import ModelCheckpoint, ReduceLROnPlateau\n",
    "reduce_lr_callback = ReduceLROnPlateau(monitor='val_loss', min_lr=0.000009, min_delta=0.0001, factor=0.75, patience=3, verbose=1, mode='min')\n",
    "callback_checkpoint = ModelCheckpoint('CNN_improved.{epoch:02d}-{val_loss:.4f}.hdf5', save_weights_only=True) "
   ]
  },
  {
   "cell_type": "code",
   "execution_count": 38,
   "metadata": {
    "id": "Lhoikbw5u9e3"
   },
   "outputs": [],
   "source": [
    "steps_per_epoch = N_train // batchsize\n",
    "val_steps = N_test // batchsize"
   ]
  },
  {
   "cell_type": "code",
   "execution_count": 39,
   "metadata": {
    "colab": {
     "base_uri": "https://localhost:8080/"
    },
    "id": "501XrlZ4u9e3",
    "outputId": "e14e43cb-53b8-4adf-a43a-8cee5af67bbf"
   },
   "outputs": [
    {
     "name": "stdout",
     "output_type": "stream",
     "text": [
      "Epoch 1/50\n",
      "937/937 [==============================] - 7s 7ms/step - loss: 0.0467 - val_loss: 0.0194 - lr: 0.0010\n",
      "Epoch 2/50\n",
      "937/937 [==============================] - 6s 6ms/step - loss: 0.0173 - val_loss: 0.0160 - lr: 0.0010\n",
      "Epoch 3/50\n",
      "937/937 [==============================] - 6s 6ms/step - loss: 0.0155 - val_loss: 0.0148 - lr: 0.0010\n",
      "Epoch 4/50\n",
      "937/937 [==============================] - 6s 6ms/step - loss: 0.0144 - val_loss: 0.0143 - lr: 0.0010\n",
      "Epoch 5/50\n",
      "937/937 [==============================] - 6s 6ms/step - loss: 0.0139 - val_loss: 0.0137 - lr: 0.0010\n",
      "Epoch 6/50\n",
      "937/937 [==============================] - 6s 6ms/step - loss: 0.0136 - val_loss: 0.0135 - lr: 0.0010\n",
      "Epoch 7/50\n",
      "937/937 [==============================] - 6s 6ms/step - loss: 0.0133 - val_loss: 0.0134 - lr: 0.0010\n",
      "Epoch 8/50\n",
      "937/937 [==============================] - 7s 7ms/step - loss: 0.0131 - val_loss: 0.0132 - lr: 0.0010\n",
      "Epoch 9/50\n",
      "937/937 [==============================] - 6s 6ms/step - loss: 0.0130 - val_loss: 0.0130 - lr: 0.0010\n",
      "Epoch 10/50\n",
      "937/937 [==============================] - 6s 6ms/step - loss: 0.0129 - val_loss: 0.0130 - lr: 0.0010\n",
      "Epoch 11/50\n",
      "937/937 [==============================] - 6s 7ms/step - loss: 0.0129 - val_loss: 0.0128 - lr: 0.0010\n",
      "Epoch 12/50\n",
      "937/937 [==============================] - 6s 7ms/step - loss: 0.0128 - val_loss: 0.0128 - lr: 0.0010\n",
      "Epoch 13/50\n",
      "937/937 [==============================] - 6s 7ms/step - loss: 0.0127 - val_loss: 0.0126 - lr: 0.0010\n",
      "Epoch 14/50\n",
      "937/937 [==============================] - 6s 7ms/step - loss: 0.0127 - val_loss: 0.0126 - lr: 0.0010\n",
      "Epoch 15/50\n",
      "937/937 [==============================] - 7s 7ms/step - loss: 0.0127 - val_loss: 0.0125 - lr: 0.0010\n",
      "Epoch 16/50\n",
      "929/937 [============================>.] - ETA: 0s - loss: 0.0126\n",
      "Epoch 16: ReduceLROnPlateau reducing learning rate to 0.0007500000356230885.\n",
      "937/937 [==============================] - 6s 7ms/step - loss: 0.0126 - val_loss: 0.0126 - lr: 0.0010\n",
      "Epoch 17/50\n",
      "937/937 [==============================] - 6s 7ms/step - loss: 0.0125 - val_loss: 0.0126 - lr: 7.5000e-04\n",
      "Epoch 18/50\n",
      "937/937 [==============================] - 6s 6ms/step - loss: 0.0125 - val_loss: 0.0125 - lr: 7.5000e-04\n",
      "Epoch 19/50\n",
      "937/937 [==============================] - 6s 6ms/step - loss: 0.0125 - val_loss: 0.0126 - lr: 7.5000e-04\n",
      "Epoch 20/50\n",
      "937/937 [==============================] - 7s 7ms/step - loss: 0.0125 - val_loss: 0.0125 - lr: 7.5000e-04\n",
      "Epoch 21/50\n",
      "937/937 [==============================] - ETA: 0s - loss: 0.0124\n",
      "Epoch 21: ReduceLROnPlateau reducing learning rate to 0.0005625000048894435.\n",
      "937/937 [==============================] - 6s 7ms/step - loss: 0.0124 - val_loss: 0.0124 - lr: 7.5000e-04\n",
      "Epoch 22/50\n",
      "937/937 [==============================] - 7s 7ms/step - loss: 0.0124 - val_loss: 0.0124 - lr: 5.6250e-04\n",
      "Epoch 23/50\n",
      "937/937 [==============================] - 10s 10ms/step - loss: 0.0123 - val_loss: 0.0124 - lr: 5.6250e-04\n",
      "Epoch 24/50\n",
      "937/937 [==============================] - 8s 9ms/step - loss: 0.0124 - val_loss: 0.0124 - lr: 5.6250e-04\n",
      "Epoch 25/50\n",
      "937/937 [==============================] - 6s 7ms/step - loss: 0.0124 - val_loss: 0.0124 - lr: 5.6250e-04\n",
      "Epoch 26/50\n",
      "930/937 [============================>.] - ETA: 0s - loss: 0.0124\n",
      "Epoch 26: ReduceLROnPlateau reducing learning rate to 0.0004218749818392098.\n",
      "937/937 [==============================] - 6s 6ms/step - loss: 0.0124 - val_loss: 0.0125 - lr: 5.6250e-04\n",
      "Epoch 27/50\n",
      "937/937 [==============================] - 6s 6ms/step - loss: 0.0123 - val_loss: 0.0124 - lr: 4.2187e-04\n",
      "Epoch 28/50\n",
      "937/937 [==============================] - 6s 7ms/step - loss: 0.0124 - val_loss: 0.0123 - lr: 4.2187e-04\n",
      "Epoch 29/50\n",
      "937/937 [==============================] - 6s 7ms/step - loss: 0.0123 - val_loss: 0.0122 - lr: 4.2187e-04\n",
      "Epoch 30/50\n",
      "937/937 [==============================] - 6s 7ms/step - loss: 0.0123 - val_loss: 0.0124 - lr: 4.2187e-04\n",
      "Epoch 31/50\n",
      "932/937 [============================>.] - ETA: 0s - loss: 0.0123\n",
      "Epoch 31: ReduceLROnPlateau reducing learning rate to 0.00031640623637940735.\n",
      "937/937 [==============================] - 6s 7ms/step - loss: 0.0123 - val_loss: 0.0123 - lr: 4.2187e-04\n",
      "Epoch 32/50\n",
      "937/937 [==============================] - 6s 6ms/step - loss: 0.0122 - val_loss: 0.0123 - lr: 3.1641e-04\n",
      "Epoch 33/50\n",
      "937/937 [==============================] - 6s 7ms/step - loss: 0.0122 - val_loss: 0.0123 - lr: 3.1641e-04\n",
      "Epoch 34/50\n",
      "933/937 [============================>.] - ETA: 0s - loss: 0.0122\n",
      "Epoch 34: ReduceLROnPlateau reducing learning rate to 0.00023730468819849193.\n",
      "937/937 [==============================] - 9s 9ms/step - loss: 0.0122 - val_loss: 0.0123 - lr: 3.1641e-04\n",
      "Epoch 35/50\n",
      "937/937 [==============================] - 8s 8ms/step - loss: 0.0123 - val_loss: 0.0121 - lr: 2.3730e-04\n",
      "Epoch 36/50\n",
      "937/937 [==============================] - 6s 7ms/step - loss: 0.0122 - val_loss: 0.0123 - lr: 2.3730e-04\n",
      "Epoch 37/50\n",
      "937/937 [==============================] - 6s 6ms/step - loss: 0.0122 - val_loss: 0.0122 - lr: 2.3730e-04\n",
      "Epoch 38/50\n",
      "933/937 [============================>.] - ETA: 0s - loss: 0.0122\n",
      "Epoch 38: ReduceLROnPlateau reducing learning rate to 0.00017797851614886895.\n",
      "937/937 [==============================] - 6s 7ms/step - loss: 0.0122 - val_loss: 0.0122 - lr: 2.3730e-04\n",
      "Epoch 39/50\n",
      "937/937 [==============================] - 6s 7ms/step - loss: 0.0122 - val_loss: 0.0122 - lr: 1.7798e-04\n",
      "Epoch 40/50\n",
      "937/937 [==============================] - 6s 7ms/step - loss: 0.0122 - val_loss: 0.0122 - lr: 1.7798e-04\n",
      "Epoch 41/50\n",
      "930/937 [============================>.] - ETA: 0s - loss: 0.0122\n",
      "Epoch 41: ReduceLROnPlateau reducing learning rate to 0.0001334838816546835.\n",
      "937/937 [==============================] - 6s 7ms/step - loss: 0.0122 - val_loss: 0.0122 - lr: 1.7798e-04\n",
      "Epoch 42/50\n",
      "937/937 [==============================] - 6s 7ms/step - loss: 0.0122 - val_loss: 0.0122 - lr: 1.3348e-04\n",
      "Epoch 43/50\n",
      "937/937 [==============================] - 6s 7ms/step - loss: 0.0122 - val_loss: 0.0121 - lr: 1.3348e-04\n",
      "Epoch 44/50\n",
      "936/937 [============================>.] - ETA: 0s - loss: 0.0121\n",
      "Epoch 44: ReduceLROnPlateau reducing learning rate to 0.00010011290578404441.\n",
      "937/937 [==============================] - 6s 7ms/step - loss: 0.0121 - val_loss: 0.0122 - lr: 1.3348e-04\n",
      "Epoch 45/50\n",
      "937/937 [==============================] - 6s 7ms/step - loss: 0.0122 - val_loss: 0.0122 - lr: 1.0011e-04\n",
      "Epoch 46/50\n",
      "937/937 [==============================] - 6s 7ms/step - loss: 0.0121 - val_loss: 0.0123 - lr: 1.0011e-04\n",
      "Epoch 47/50\n",
      "931/937 [============================>.] - ETA: 0s - loss: 0.0121\n",
      "Epoch 47: ReduceLROnPlateau reducing learning rate to 7.508467933803331e-05.\n",
      "937/937 [==============================] - 6s 7ms/step - loss: 0.0121 - val_loss: 0.0122 - lr: 1.0011e-04\n",
      "Epoch 48/50\n",
      "937/937 [==============================] - 6s 7ms/step - loss: 0.0122 - val_loss: 0.0122 - lr: 7.5085e-05\n",
      "Epoch 49/50\n",
      "937/937 [==============================] - 6s 7ms/step - loss: 0.0122 - val_loss: 0.0122 - lr: 7.5085e-05\n",
      "Epoch 50/50\n",
      "934/937 [============================>.] - ETA: 0s - loss: 0.0122\n",
      "Epoch 50: ReduceLROnPlateau reducing learning rate to 5.6313510867767036e-05.\n",
      "937/937 [==============================] - 6s 7ms/step - loss: 0.0122 - val_loss: 0.0123 - lr: 7.5085e-05\n"
     ]
    }
   ],
   "source": [
    "hist = nn.fit(train_generator, epochs=50, batch_size=batchsize, validation_data=test_generator, callbacks=[callback_checkpoint, reduce_lr_callback],\n",
    "              steps_per_epoch=steps_per_epoch, validation_steps=val_steps)"
   ]
  },
  {
   "cell_type": "markdown",
   "metadata": {
    "id": "aJO53xiiVCTY"
   },
   "source": [
    "No improvement"
   ]
  },
  {
   "cell_type": "code",
   "execution_count": 42,
   "metadata": {
    "colab": {
     "base_uri": "https://localhost:8080/",
     "height": 295
    },
    "id": "585p4WjCu9e5",
    "outputId": "cedf2048-3dad-489e-debc-9dd358ce1ba4"
   },
   "outputs": [
    {
     "data": {
      "image/png": "[encoded data removed]",
      "text/plain": [
       "<Figure size 432x288 with 1 Axes>"
      ]
     },
     "metadata": {
      "needs_background": "light"
     },
     "output_type": "display_data"
    }
   ],
   "source": [
    "plot_history(hist)"
   ]
  },
  {
   "cell_type": "markdown",
   "metadata": {
    "id": "-glC2Z5MvS02"
   },
   "source": [
    "## MORE COMPLEX NETWORK (under 400k parameters)"
   ]
  },
  {
   "cell_type": "code",
   "execution_count": 9,
   "metadata": {
    "id": "xOKvbARcViQb"
   },
   "outputs": [],
   "source": [
    "# Dimensions of the input: 32*32*1=1024\n",
    "xin = Input(shape=(32,32,1))\n",
    "\n",
    "# ENCODER\n",
    "x = Conv2D(filters=8, kernel_size=3, strides=2, padding='same')(xin)\n",
    "x = Conv2D(filters=16, kernel_size=3, strides=2, padding='same')(x)\n",
    "x = Conv2D(filters=32, kernel_size=3, strides=2, padding='same')(x)\n",
    "# Latent encoding dimensions: 2*2*64=512\n",
    "x = Conv2D(filters=64, kernel_size=3, strides=2, padding='same')(x)\n",
    "\n",
    "# FIRST DECODER, for prodcuing the MNIST image\n",
    "x1 = Conv2DTranspose(filters=32, kernel_size=3, strides=2, padding='same')(x)\n",
    "x1 = Conv2DTranspose(filters=16, kernel_size=3, strides=2, padding='same')(x1)\n",
    "x1 = Conv2DTranspose(filters=8, kernel_size=3, strides=2, padding='same')(x1)\n",
    "# Dimensions of the image: 32*32*1\n",
    "x1 = Conv2DTranspose(filters=1, kernel_size=3, strides=2, padding='same', activation='sigmoid')(x1)\n",
    "\n",
    "# SECOND DECODER, for prodcuing the fashion MNIST image\n",
    "x2 = Conv2DTranspose(filters=32, kernel_size=3, strides=2, padding='same')(x)\n",
    "x2 = Conv2DTranspose(filters=16, kernel_size=3, strides=2, padding='same')(x2)\n",
    "x2 = Conv2DTranspose(filters=8, kernel_size=3, strides=2, padding='same')(x2)\n",
    "# Dimensions of the image: 32*32*1\n",
    "x2 = Conv2DTranspose(filters=1, kernel_size=3, strides=2, padding='same', activation='sigmoid')(x2)\n",
    "\n",
    "# Dimensions of the output: 32*64*1. Concatenation along the width.\n",
    "y = Concatenate(axis=2)([x1,x2])\n",
    "\n",
    "nn = Model(inputs=xin, outputs=y)"
   ]
  },
  {
   "cell_type": "code",
   "execution_count": 10,
   "metadata": {
    "colab": {
     "base_uri": "https://localhost:8080/"
    },
    "id": "56OXu2XBZnJL",
    "outputId": "b3e92b38-cfe1-4b41-c91e-8b058f65f3fd"
   },
   "outputs": [
    {
     "name": "stdout",
     "output_type": "stream",
     "text": [
      "Model: \"model\"\n",
      "__________________________________________________________________________________________________\n",
      " Layer (type)                   Output Shape         Param #     Connected to                     \n",
      "==================================================================================================\n",
      " input_1 (InputLayer)           [(None, 32, 32, 1)]  0           []                               \n",
      "                                                                                                  \n",
      " conv2d (Conv2D)                (None, 16, 16, 8)    80          ['input_1[0][0]']                \n",
      "                                                                                                  \n",
      " conv2d_1 (Conv2D)              (None, 8, 8, 16)     1168        ['conv2d[0][0]']                 \n",
      "                                                                                                  \n",
      " conv2d_2 (Conv2D)              (None, 4, 4, 32)     4640        ['conv2d_1[0][0]']               \n",
      "                                                                                                  \n",
      " conv2d_3 (Conv2D)              (None, 2, 2, 64)     18496       ['conv2d_2[0][0]']               \n",
      "                                                                                                  \n",
      " conv2d_transpose (Conv2DTransp  (None, 4, 4, 32)    18464       ['conv2d_3[0][0]']               \n",
      " ose)                                                                                             \n",
      "                                                                                                  \n",
      " conv2d_transpose_4 (Conv2DTran  (None, 4, 4, 32)    18464       ['conv2d_3[0][0]']               \n",
      " spose)                                                                                           \n",
      "                                                                                                  \n",
      " conv2d_transpose_1 (Conv2DTran  (None, 8, 8, 16)    4624        ['conv2d_transpose[0][0]']       \n",
      " spose)                                                                                           \n",
      "                                                                                                  \n",
      " conv2d_transpose_5 (Conv2DTran  (None, 8, 8, 16)    4624        ['conv2d_transpose_4[0][0]']     \n",
      " spose)                                                                                           \n",
      "                                                                                                  \n",
      " conv2d_transpose_2 (Conv2DTran  (None, 16, 16, 8)   1160        ['conv2d_transpose_1[0][0]']     \n",
      " spose)                                                                                           \n",
      "                                                                                                  \n",
      " conv2d_transpose_6 (Conv2DTran  (None, 16, 16, 8)   1160        ['conv2d_transpose_5[0][0]']     \n",
      " spose)                                                                                           \n",
      "                                                                                                  \n",
      " conv2d_transpose_3 (Conv2DTran  (None, 32, 32, 1)   73          ['conv2d_transpose_2[0][0]']     \n",
      " spose)                                                                                           \n",
      "                                                                                                  \n",
      " conv2d_transpose_7 (Conv2DTran  (None, 32, 32, 1)   73          ['conv2d_transpose_6[0][0]']     \n",
      " spose)                                                                                           \n",
      "                                                                                                  \n",
      " concatenate (Concatenate)      (None, 32, 64, 1)    0           ['conv2d_transpose_3[0][0]',     \n",
      "                                                                  'conv2d_transpose_7[0][0]']     \n",
      "                                                                                                  \n",
      "==================================================================================================\n",
      "Total params: 73,026\n",
      "Trainable params: 73,026\n",
      "Non-trainable params: 0\n",
      "__________________________________________________________________________________________________\n"
     ]
    }
   ],
   "source": [
    "nn.summary()"
   ]
  },
  {
   "cell_type": "code",
   "execution_count": 48,
   "metadata": {
    "id": "3SRj98jcvmE9"
   },
   "outputs": [],
   "source": [
    "from tensorflow.keras.optimizers import Adam"
   ]
  },
  {
   "cell_type": "code",
   "execution_count": 49,
   "metadata": {
    "id": "SqDqH9HZvmE9"
   },
   "outputs": [],
   "source": [
    "nn.compile(optimizer=Adam(), loss='mse')"
   ]
  },
  {
   "cell_type": "code",
   "execution_count": 50,
   "metadata": {
    "id": "Dx-V1VcwvmE9"
   },
   "outputs": [],
   "source": [
    "from tensorflow.keras.callbacks import ModelCheckpoint, ReduceLROnPlateau\n",
    "reduce_lr_callback = ReduceLROnPlateau(monitor='val_loss', min_lr=0.000009, min_delta=0.0001, factor=0.75, patience=3, verbose=1, mode='min')\n",
    "callback_checkpoint = ModelCheckpoint('CNN_improved1.{epoch:02d}-{val_loss:.4f}.hdf5', save_weights_only=True) "
   ]
  },
  {
   "cell_type": "code",
   "execution_count": 51,
   "metadata": {
    "id": "L2qKIVrevmE-"
   },
   "outputs": [],
   "source": [
    "steps_per_epoch = N_train // batchsize\n",
    "val_steps = N_test // batchsize"
   ]
  },
  {
   "cell_type": "code",
   "execution_count": 52,
   "metadata": {
    "colab": {
     "base_uri": "https://localhost:8080/"
    },
    "id": "P47Oa0ajvmE-",
    "outputId": "c852182b-6b7c-4bbb-d7d5-1c77322d7d3c"
   },
   "outputs": [
    {
     "name": "stdout",
     "output_type": "stream",
     "text": [
      "Epoch 1/50\n",
      "937/937 [==============================] - 8s 7ms/step - loss: 0.0371 - val_loss: 0.0200 - lr: 0.0010\n",
      "Epoch 2/50\n",
      "937/937 [==============================] - 7s 7ms/step - loss: 0.0171 - val_loss: 0.0150 - lr: 0.0010\n",
      "Epoch 3/50\n",
      "937/937 [==============================] - 7s 7ms/step - loss: 0.0142 - val_loss: 0.0133 - lr: 0.0010\n",
      "Epoch 4/50\n",
      "937/937 [==============================] - 7s 7ms/step - loss: 0.0129 - val_loss: 0.0125 - lr: 0.0010\n",
      "Epoch 5/50\n",
      "937/937 [==============================] - 7s 7ms/step - loss: 0.0123 - val_loss: 0.0119 - lr: 0.0010\n",
      "Epoch 6/50\n",
      "937/937 [==============================] - 7s 7ms/step - loss: 0.0118 - val_loss: 0.0116 - lr: 0.0010\n",
      "Epoch 7/50\n",
      "937/937 [==============================] - 7s 7ms/step - loss: 0.0115 - val_loss: 0.0113 - lr: 0.0010\n",
      "Epoch 8/50\n",
      "937/937 [==============================] - 7s 7ms/step - loss: 0.0111 - val_loss: 0.0108 - lr: 0.0010\n",
      "Epoch 9/50\n",
      "937/937 [==============================] - 7s 7ms/step - loss: 0.0109 - val_loss: 0.0107 - lr: 0.0010\n",
      "Epoch 10/50\n",
      "937/937 [==============================] - 7s 7ms/step - loss: 0.0108 - val_loss: 0.0106 - lr: 0.0010\n",
      "Epoch 11/50\n",
      "937/937 [==============================] - 7s 7ms/step - loss: 0.0107 - val_loss: 0.0105 - lr: 0.0010\n",
      "Epoch 12/50\n",
      "937/937 [==============================] - 7s 8ms/step - loss: 0.0105 - val_loss: 0.0104 - lr: 0.0010\n",
      "Epoch 13/50\n",
      "937/937 [==============================] - 7s 7ms/step - loss: 0.0104 - val_loss: 0.0101 - lr: 0.0010\n",
      "Epoch 14/50\n",
      "937/937 [==============================] - 7s 7ms/step - loss: 0.0103 - val_loss: 0.0103 - lr: 0.0010\n",
      "Epoch 15/50\n",
      "937/937 [==============================] - 7s 7ms/step - loss: 0.0102 - val_loss: 0.0101 - lr: 0.0010\n",
      "Epoch 16/50\n",
      "934/937 [============================>.] - ETA: 0s - loss: 0.0101\n",
      "Epoch 16: ReduceLROnPlateau reducing learning rate to 0.0007500000356230885.\n",
      "937/937 [==============================] - 7s 7ms/step - loss: 0.0101 - val_loss: 0.0101 - lr: 0.0010\n",
      "Epoch 17/50\n",
      "937/937 [==============================] - 7s 7ms/step - loss: 0.0100 - val_loss: 0.0100 - lr: 7.5000e-04\n",
      "Epoch 18/50\n",
      "937/937 [==============================] - 7s 7ms/step - loss: 0.0100 - val_loss: 0.0098 - lr: 7.5000e-04\n",
      "Epoch 19/50\n",
      "937/937 [==============================] - 7s 7ms/step - loss: 0.0099 - val_loss: 0.0099 - lr: 7.5000e-04\n",
      "Epoch 20/50\n",
      "937/937 [==============================] - 7s 7ms/step - loss: 0.0099 - val_loss: 0.0098 - lr: 7.5000e-04\n",
      "Epoch 21/50\n",
      "933/937 [============================>.] - ETA: 0s - loss: 0.0098\n",
      "Epoch 21: ReduceLROnPlateau reducing learning rate to 0.0005625000048894435.\n",
      "937/937 [==============================] - 7s 7ms/step - loss: 0.0098 - val_loss: 0.0098 - lr: 7.5000e-04\n",
      "Epoch 22/50\n",
      "937/937 [==============================] - 7s 7ms/step - loss: 0.0097 - val_loss: 0.0096 - lr: 5.6250e-04\n",
      "Epoch 23/50\n",
      "937/937 [==============================] - 7s 7ms/step - loss: 0.0097 - val_loss: 0.0097 - lr: 5.6250e-04\n",
      "Epoch 24/50\n",
      "937/937 [==============================] - 7s 7ms/step - loss: 0.0098 - val_loss: 0.0097 - lr: 5.6250e-04\n",
      "Epoch 25/50\n",
      "933/937 [============================>.] - ETA: 0s - loss: 0.0097\n",
      "Epoch 25: ReduceLROnPlateau reducing learning rate to 0.0004218749818392098.\n",
      "937/937 [==============================] - 7s 7ms/step - loss: 0.0097 - val_loss: 0.0097 - lr: 5.6250e-04\n",
      "Epoch 26/50\n",
      "937/937 [==============================] - 7s 7ms/step - loss: 0.0097 - val_loss: 0.0095 - lr: 4.2187e-04\n",
      "Epoch 27/50\n",
      "937/937 [==============================] - 7s 7ms/step - loss: 0.0096 - val_loss: 0.0096 - lr: 4.2187e-04\n",
      "Epoch 28/50\n",
      "937/937 [==============================] - 7s 7ms/step - loss: 0.0096 - val_loss: 0.0096 - lr: 4.2187e-04\n",
      "Epoch 29/50\n",
      "935/937 [============================>.] - ETA: 0s - loss: 0.0096\n",
      "Epoch 29: ReduceLROnPlateau reducing learning rate to 0.00031640623637940735.\n",
      "937/937 [==============================] - 7s 7ms/step - loss: 0.0096 - val_loss: 0.0095 - lr: 4.2187e-04\n",
      "Epoch 30/50\n",
      "937/937 [==============================] - 7s 7ms/step - loss: 0.0095 - val_loss: 0.0095 - lr: 3.1641e-04\n",
      "Epoch 31/50\n",
      "937/937 [==============================] - 7s 7ms/step - loss: 0.0095 - val_loss: 0.0095 - lr: 3.1641e-04\n",
      "Epoch 32/50\n",
      "937/937 [==============================] - 7s 7ms/step - loss: 0.0095 - val_loss: 0.0094 - lr: 3.1641e-04\n",
      "Epoch 33/50\n",
      "937/937 [==============================] - 7s 7ms/step - loss: 0.0095 - val_loss: 0.0095 - lr: 3.1641e-04\n",
      "Epoch 34/50\n",
      "937/937 [==============================] - 7s 7ms/step - loss: 0.0095 - val_loss: 0.0094 - lr: 3.1641e-04\n",
      "Epoch 35/50\n",
      "930/937 [============================>.] - ETA: 0s - loss: 0.0095\n",
      "Epoch 35: ReduceLROnPlateau reducing learning rate to 0.00023730468819849193.\n",
      "937/937 [==============================] - 7s 7ms/step - loss: 0.0095 - val_loss: 0.0095 - lr: 3.1641e-04\n",
      "Epoch 36/50\n",
      "937/937 [==============================] - 7s 7ms/step - loss: 0.0095 - val_loss: 0.0094 - lr: 2.3730e-04\n",
      "Epoch 37/50\n",
      "937/937 [==============================] - 7s 7ms/step - loss: 0.0095 - val_loss: 0.0094 - lr: 2.3730e-04\n",
      "Epoch 38/50\n",
      "930/937 [============================>.] - ETA: 0s - loss: 0.0094\n",
      "Epoch 38: ReduceLROnPlateau reducing learning rate to 0.00017797851614886895.\n",
      "937/937 [==============================] - 7s 7ms/step - loss: 0.0094 - val_loss: 0.0095 - lr: 2.3730e-04\n",
      "Epoch 39/50\n",
      "937/937 [==============================] - 7s 7ms/step - loss: 0.0094 - val_loss: 0.0093 - lr: 1.7798e-04\n",
      "Epoch 40/50\n",
      "937/937 [==============================] - 7s 7ms/step - loss: 0.0094 - val_loss: 0.0094 - lr: 1.7798e-04\n",
      "Epoch 41/50\n",
      "932/937 [============================>.] - ETA: 0s - loss: 0.0094\n",
      "Epoch 41: ReduceLROnPlateau reducing learning rate to 0.0001334838816546835.\n",
      "937/937 [==============================] - 7s 7ms/step - loss: 0.0094 - val_loss: 0.0093 - lr: 1.7798e-04\n",
      "Epoch 42/50\n",
      "937/937 [==============================] - 7s 7ms/step - loss: 0.0094 - val_loss: 0.0095 - lr: 1.3348e-04\n",
      "Epoch 43/50\n",
      "937/937 [==============================] - 7s 7ms/step - loss: 0.0093 - val_loss: 0.0093 - lr: 1.3348e-04\n",
      "Epoch 44/50\n",
      "930/937 [============================>.] - ETA: 0s - loss: 0.0094\n",
      "Epoch 44: ReduceLROnPlateau reducing learning rate to 0.00010011290578404441.\n",
      "937/937 [==============================] - 7s 7ms/step - loss: 0.0094 - val_loss: 0.0094 - lr: 1.3348e-04\n",
      "Epoch 45/50\n",
      "937/937 [==============================] - 7s 7ms/step - loss: 0.0093 - val_loss: 0.0093 - lr: 1.0011e-04\n",
      "Epoch 46/50\n",
      "937/937 [==============================] - 7s 7ms/step - loss: 0.0093 - val_loss: 0.0093 - lr: 1.0011e-04\n",
      "Epoch 47/50\n",
      "935/937 [============================>.] - ETA: 0s - loss: 0.0094\n",
      "Epoch 47: ReduceLROnPlateau reducing learning rate to 7.508467933803331e-05.\n",
      "937/937 [==============================] - 9s 9ms/step - loss: 0.0094 - val_loss: 0.0094 - lr: 1.0011e-04\n",
      "Epoch 48/50\n",
      "937/937 [==============================] - 7s 7ms/step - loss: 0.0094 - val_loss: 0.0093 - lr: 7.5085e-05\n",
      "Epoch 49/50\n",
      "937/937 [==============================] - 7s 7ms/step - loss: 0.0094 - val_loss: 0.0093 - lr: 7.5085e-05\n",
      "Epoch 50/50\n",
      "937/937 [==============================] - 7s 7ms/step - loss: 0.0093 - val_loss: 0.0093 - lr: 7.5085e-05\n"
     ]
    }
   ],
   "source": [
    "hist = nn.fit(train_generator, epochs=50, batch_size=batchsize, validation_data=test_generator, callbacks=[callback_checkpoint, reduce_lr_callback],\n",
    "              steps_per_epoch=steps_per_epoch, validation_steps=val_steps)"
   ]
  },
  {
   "cell_type": "markdown",
   "metadata": {
    "id": "3bvBxbdRV6iX"
   },
   "source": [
    "Improvement: score $0.0093$."
   ]
  },
  {
   "cell_type": "code",
   "execution_count": 54,
   "metadata": {
    "colab": {
     "base_uri": "https://localhost:8080/",
     "height": 295
    },
    "id": "5piUCJnUvmE_",
    "outputId": "4b49209e-75ce-4912-cdee-bb7a9cd0b73c"
   },
   "outputs": [
    {
     "data": {
      "image/png": "[encoded data removed]",
      "text/plain": [
       "<Figure size 432x288 with 1 Axes>"
      ]
     },
     "metadata": {
      "needs_background": "light"
     },
     "output_type": "display_data"
    }
   ],
   "source": [
    "plot_history(hist)"
   ]
  },
  {
   "cell_type": "code",
   "execution_count": 55,
   "metadata": {
    "colab": {
     "base_uri": "https://localhost:8080/",
     "height": 666
    },
    "id": "xJeu93rJvmFA",
    "outputId": "3de55746-fa51-43f5-ca4f-eb9bd41351a5"
   },
   "outputs": [
    {
     "data": {
      "image/png": "[encoded data removed]",
      "text/plain": [
       "<Figure size 432x288 with 1 Axes>"
      ]
     },
     "metadata": {
      "needs_background": "light"
     },
     "output_type": "display_data"
    },
    {
     "data": {
      "image/png": "[encoded data removed]",
      "text/plain": [
       "<Figure size 432x288 with 1 Axes>"
      ]
     },
     "metadata": {
      "needs_background": "light"
     },
     "output_type": "display_data"
    },
    {
     "data": {
      "image/png": "[encoded data removed]",
      "text/plain": [
       "<Figure size 432x288 with 1 Axes>"
      ]
     },
     "metadata": {
      "needs_background": "light"
     },
     "output_type": "display_data"
    }
   ],
   "source": [
    "x_batch, y_batch = next(test_generator)\n",
    "x = x_batch[0]  # Input\n",
    "y = y_batch[0]  # Ground truth\n",
    "y_pred = nn.predict(x.reshape((1,32,32)))  # Prediction\n",
    "\n",
    "plt.imshow(x,cmap='gray', interpolation='nearest')\n",
    "plt.show()\n",
    "plt.imshow(y, cmap='gray', interpolation='nearest')\n",
    "plt.show()\n",
    "plt.imshow(y_pred[0].reshape((32,64)), cmap='gray', interpolation='nearest')\n",
    "plt.show()"
   ]
  },
  {
   "cell_type": "code",
   "execution_count": 56,
   "metadata": {
    "colab": {
     "base_uri": "https://localhost:8080/",
     "height": 666
    },
    "id": "CfMSUzzIvmFA",
    "outputId": "94b466f9-cf63-4e79-dd6a-b29c4e46cb17"
   },
   "outputs": [
    {
     "data": {
      "image/png": "[encoded data removed]",
      "text/plain": [
       "<Figure size 432x288 with 1 Axes>"
      ]
     },
     "metadata": {
      "needs_background": "light"
     },
     "output_type": "display_data"
    },
    {
     "data": {
      "image/png": "[encoded data removed]",
      "text/plain": [
       "<Figure size 432x288 with 1 Axes>"
      ]
     },
     "metadata": {
      "needs_background": "light"
     },
     "output_type": "display_data"
    },
    {
     "data": {
      "image/png": "[encoded data removed]",
      "text/plain": [
       "<Figure size 432x288 with 1 Axes>"
      ]
     },
     "metadata": {
      "needs_background": "light"
     },
     "output_type": "display_data"
    }
   ],
   "source": [
    "x_batch, y_batch = next(test_generator)\n",
    "x = x_batch[0]  # Input\n",
    "y = y_batch[0]  # Ground truth\n",
    "y_pred = nn.predict(x.reshape((1,32,32)))  # Prediction\n",
    "\n",
    "plt.imshow(x,cmap='gray', interpolation='nearest')\n",
    "plt.show()\n",
    "plt.imshow(y, cmap='gray', interpolation='nearest')\n",
    "plt.show()\n",
    "plt.imshow(y_pred[0].reshape((32,64)), cmap='gray', interpolation='nearest')\n",
    "plt.show()"
   ]
  },
  {
   "cell_type": "markdown",
   "metadata": {
    "id": "0KtBSG9cvmFB"
   },
   "source": [
    "### Further more complex network: adding skip connections"
   ]
  },
  {
   "cell_type": "code",
   "execution_count": 11,
   "metadata": {
    "id": "OjbxEYII0T3e"
   },
   "outputs": [],
   "source": [
    "from tensorflow.keras.layers import concatenate"
   ]
  },
  {
   "cell_type": "code",
   "execution_count": 12,
   "metadata": {
    "id": "hVUGCA_JzmIv"
   },
   "outputs": [],
   "source": [
    "# Dimensions of the input: 32*32*1=1024\n",
    "xin = Input(shape=(w,h,1))\n",
    "\n",
    "# ENCODER\n",
    "xa = Conv2D(filters=16, kernel_size=3, strides=2, padding='same')(xin)\n",
    "xb = Conv2D(filters=32, kernel_size=3, strides=2, padding='same')(xa)\n",
    "xc = Conv2D(filters=64, kernel_size=3, strides=2, padding='same')(xb)\n",
    "# Latent encoding dimensions: 2*2*128=1024\n",
    "x = Conv2D(filters=128, kernel_size=3, strides=2, padding='same')(xc)\n",
    "\n",
    "# FIRST DECODER, for prodcuing the MNIST image\n",
    "x1 = Conv2DTranspose(filters=64, kernel_size=3, strides=2, padding='same')(x)\n",
    "x1 = concatenate([x1,xc])  # Skip connection\n",
    "x1 = Conv2DTranspose(filters=32, kernel_size=3, strides=2, padding='same')(x1)\n",
    "x1 = concatenate([x1,xb])  # Skip connection\n",
    "x1 = Conv2DTranspose(filters=16, kernel_size=3, strides=2, padding='same')(x1)\n",
    "x1 = concatenate([x1,xa])  # Skip connection\n",
    "# Dimensions of the image: 32*32*1\n",
    "x1 = Conv2DTranspose(filters=1, kernel_size=3, strides=2, padding='same', activation='sigmoid')(x1)\n",
    "\n",
    "# SECOND DECODER, for prodcuing the fashion MNIST image\n",
    "x2 = Conv2DTranspose(filters=64, kernel_size=3, strides=2, padding='same')(x)\n",
    "x2 = concatenate([x2,xc])  # Skip connection\n",
    "x2 = Conv2DTranspose(filters=32, kernel_size=3, strides=2, padding='same')(x2)\n",
    "x2 = concatenate([x2,xb])  # Skip connection\n",
    "x2 = Conv2DTranspose(filters=16, kernel_size=3, strides=2, padding='same')(x2)\n",
    "x2 = concatenate([x2,xa])  # Skip connection\n",
    "# Dimensions of the image: 32*32*1\n",
    "x2 = Conv2DTranspose(filters=1, kernel_size=3, strides=2, padding='same', activation='sigmoid')(x2)\n",
    "\n",
    "# Dimensions of the output: 32*64*1. Concatenation along the width.\n",
    "y = Concatenate(axis=2)([x1,x2])\n",
    "\n",
    "nn = Model(inputs=xin, outputs=y)"
   ]
  },
  {
   "cell_type": "code",
   "execution_count": 13,
   "metadata": {
    "colab": {
     "base_uri": "https://localhost:8080/"
    },
    "id": "8k4ZwhWg15P5",
    "outputId": "1da686cb-6d3c-405e-e644-f253a7238518"
   },
   "outputs": [
    {
     "name": "stdout",
     "output_type": "stream",
     "text": [
      "Model: \"model_1\"\n",
      "__________________________________________________________________________________________________\n",
      " Layer (type)                   Output Shape         Param #     Connected to                     \n",
      "==================================================================================================\n",
      " input_2 (InputLayer)           [(None, 32, 32, 1)]  0           []                               \n",
      "                                                                                                  \n",
      " conv2d_4 (Conv2D)              (None, 16, 16, 16)   160         ['input_2[0][0]']                \n",
      "                                                                                                  \n",
      " conv2d_5 (Conv2D)              (None, 8, 8, 32)     4640        ['conv2d_4[0][0]']               \n",
      "                                                                                                  \n",
      " conv2d_6 (Conv2D)              (None, 4, 4, 64)     18496       ['conv2d_5[0][0]']               \n",
      "                                                                                                  \n",
      " conv2d_7 (Conv2D)              (None, 2, 2, 128)    73856       ['conv2d_6[0][0]']               \n",
      "                                                                                                  \n",
      " conv2d_transpose_8 (Conv2DTran  (None, 4, 4, 64)    73792       ['conv2d_7[0][0]']               \n",
      " spose)                                                                                           \n",
      "                                                                                                  \n",
      " conv2d_transpose_12 (Conv2DTra  (None, 4, 4, 64)    73792       ['conv2d_7[0][0]']               \n",
      " nspose)                                                                                          \n",
      "                                                                                                  \n",
      " concatenate_1 (Concatenate)    (None, 4, 4, 128)    0           ['conv2d_transpose_8[0][0]',     \n",
      "                                                                  'conv2d_6[0][0]']               \n",
      "                                                                                                  \n",
      " concatenate_4 (Concatenate)    (None, 4, 4, 128)    0           ['conv2d_transpose_12[0][0]',    \n",
      "                                                                  'conv2d_6[0][0]']               \n",
      "                                                                                                  \n",
      " conv2d_transpose_9 (Conv2DTran  (None, 8, 8, 32)    36896       ['concatenate_1[0][0]']          \n",
      " spose)                                                                                           \n",
      "                                                                                                  \n",
      " conv2d_transpose_13 (Conv2DTra  (None, 8, 8, 32)    36896       ['concatenate_4[0][0]']          \n",
      " nspose)                                                                                          \n",
      "                                                                                                  \n",
      " concatenate_2 (Concatenate)    (None, 8, 8, 64)     0           ['conv2d_transpose_9[0][0]',     \n",
      "                                                                  'conv2d_5[0][0]']               \n",
      "                                                                                                  \n",
      " concatenate_5 (Concatenate)    (None, 8, 8, 64)     0           ['conv2d_transpose_13[0][0]',    \n",
      "                                                                  'conv2d_5[0][0]']               \n",
      "                                                                                                  \n",
      " conv2d_transpose_10 (Conv2DTra  (None, 16, 16, 16)  9232        ['concatenate_2[0][0]']          \n",
      " nspose)                                                                                          \n",
      "                                                                                                  \n",
      " conv2d_transpose_14 (Conv2DTra  (None, 16, 16, 16)  9232        ['concatenate_5[0][0]']          \n",
      " nspose)                                                                                          \n",
      "                                                                                                  \n",
      " concatenate_3 (Concatenate)    (None, 16, 16, 32)   0           ['conv2d_transpose_10[0][0]',    \n",
      "                                                                  'conv2d_4[0][0]']               \n",
      "                                                                                                  \n",
      " concatenate_6 (Concatenate)    (None, 16, 16, 32)   0           ['conv2d_transpose_14[0][0]',    \n",
      "                                                                  'conv2d_4[0][0]']               \n",
      "                                                                                                  \n",
      " conv2d_transpose_11 (Conv2DTra  (None, 32, 32, 1)   289         ['concatenate_3[0][0]']          \n",
      " nspose)                                                                                          \n",
      "                                                                                                  \n",
      " conv2d_transpose_15 (Conv2DTra  (None, 32, 32, 1)   289         ['concatenate_6[0][0]']          \n",
      " nspose)                                                                                          \n",
      "                                                                                                  \n",
      " concatenate_7 (Concatenate)    (None, 32, 64, 1)    0           ['conv2d_transpose_11[0][0]',    \n",
      "                                                                  'conv2d_transpose_15[0][0]']    \n",
      "                                                                                                  \n",
      "==================================================================================================\n",
      "Total params: 337,570\n",
      "Trainable params: 337,570\n",
      "Non-trainable params: 0\n",
      "__________________________________________________________________________________________________\n"
     ]
    }
   ],
   "source": [
    "nn.summary()"
   ]
  },
  {
   "cell_type": "code",
   "execution_count": 14,
   "metadata": {
    "id": "8MiaHfFy06zR"
   },
   "outputs": [],
   "source": [
    "from tensorflow.keras.optimizers import Adam"
   ]
  },
  {
   "cell_type": "code",
   "execution_count": 15,
   "metadata": {
    "id": "A4XyOUHw06zj"
   },
   "outputs": [],
   "source": [
    "nn.compile(optimizer=Adam(), loss='mse')"
   ]
  },
  {
   "cell_type": "code",
   "execution_count": 16,
   "metadata": {
    "id": "MIlFZCY306zk"
   },
   "outputs": [],
   "source": [
    "from tensorflow.keras.callbacks import ModelCheckpoint, ReduceLROnPlateau\n",
    "reduce_lr_callback = ReduceLROnPlateau(monitor='val_loss', min_lr=0.000009, min_delta=0.0001, factor=0.75, patience=3, verbose=1, mode='min')\n",
    "callback_checkpoint = ModelCheckpoint('CNN_improved2.{epoch:02d}-{val_loss:.4f}.hdf5', save_weights_only=True) "
   ]
  },
  {
   "cell_type": "code",
   "execution_count": 130,
   "metadata": {
    "id": "a73Fztip06zk"
   },
   "outputs": [],
   "source": [
    "steps_per_epoch = N_train // batchsize\n",
    "val_steps = N_test // batchsize"
   ]
  },
  {
   "cell_type": "code",
   "execution_count": 65,
   "metadata": {
    "colab": {
     "base_uri": "https://localhost:8080/"
    },
    "id": "Kzq5WCWR06zk",
    "outputId": "0e752537-6a9f-4312-ced0-740934b95f5e"
   },
   "outputs": [
    {
     "name": "stdout",
     "output_type": "stream",
     "text": [
      "Epoch 1/50\n",
      "937/937 [==============================] - 10s 10ms/step - loss: 0.0268 - val_loss: 0.0100 - lr: 0.0010\n",
      "Epoch 2/50\n",
      "937/937 [==============================] - 9s 10ms/step - loss: 0.0089 - val_loss: 0.0081 - lr: 0.0010\n",
      "Epoch 3/50\n",
      "937/937 [==============================] - 8s 9ms/step - loss: 0.0078 - val_loss: 0.0075 - lr: 0.0010\n",
      "Epoch 4/50\n",
      "937/937 [==============================] - 8s 9ms/step - loss: 0.0074 - val_loss: 0.0072 - lr: 0.0010\n",
      "Epoch 5/50\n",
      "937/937 [==============================] - 8s 9ms/step - loss: 0.0072 - val_loss: 0.0071 - lr: 0.0010\n",
      "Epoch 6/50\n",
      "937/937 [==============================] - 8s 9ms/step - loss: 0.0071 - val_loss: 0.0070 - lr: 0.0010\n",
      "Epoch 7/50\n",
      "937/937 [==============================] - 8s 9ms/step - loss: 0.0070 - val_loss: 0.0069 - lr: 0.0010\n",
      "Epoch 8/50\n",
      "937/937 [==============================] - 8s 9ms/step - loss: 0.0069 - val_loss: 0.0069 - lr: 0.0010\n",
      "Epoch 9/50\n",
      "937/937 [==============================] - 8s 9ms/step - loss: 0.0068 - val_loss: 0.0069 - lr: 0.0010\n",
      "Epoch 10/50\n",
      "937/937 [==============================] - 8s 9ms/step - loss: 0.0068 - val_loss: 0.0068 - lr: 0.0010\n",
      "Epoch 11/50\n",
      "937/937 [==============================] - 9s 9ms/step - loss: 0.0068 - val_loss: 0.0067 - lr: 0.0010\n",
      "Epoch 12/50\n",
      "937/937 [==============================] - 8s 9ms/step - loss: 0.0067 - val_loss: 0.0067 - lr: 0.0010\n",
      "Epoch 13/50\n",
      "937/937 [==============================] - 8s 9ms/step - loss: 0.0067 - val_loss: 0.0067 - lr: 0.0010\n",
      "Epoch 14/50\n",
      "937/937 [==============================] - 8s 9ms/step - loss: 0.0067 - val_loss: 0.0067 - lr: 0.0010\n",
      "Epoch 15/50\n",
      "935/937 [============================>.] - ETA: 0s - loss: 0.0067\n",
      "Epoch 15: ReduceLROnPlateau reducing learning rate to 0.0007500000356230885.\n",
      "937/937 [==============================] - 8s 9ms/step - loss: 0.0067 - val_loss: 0.0066 - lr: 0.0010\n",
      "Epoch 16/50\n",
      "937/937 [==============================] - 8s 9ms/step - loss: 0.0066 - val_loss: 0.0065 - lr: 7.5000e-04\n",
      "Epoch 17/50\n",
      "937/937 [==============================] - 8s 9ms/step - loss: 0.0065 - val_loss: 0.0065 - lr: 7.5000e-04\n",
      "Epoch 18/50\n",
      "937/937 [==============================] - 8s 9ms/step - loss: 0.0065 - val_loss: 0.0066 - lr: 7.5000e-04\n",
      "Epoch 19/50\n",
      "935/937 [============================>.] - ETA: 0s - loss: 0.0066\n",
      "Epoch 19: ReduceLROnPlateau reducing learning rate to 0.0005625000048894435.\n",
      "937/937 [==============================] - 9s 9ms/step - loss: 0.0066 - val_loss: 0.0066 - lr: 7.5000e-04\n",
      "Epoch 20/50\n",
      "937/937 [==============================] - 9s 9ms/step - loss: 0.0065 - val_loss: 0.0065 - lr: 5.6250e-04\n",
      "Epoch 21/50\n",
      "937/937 [==============================] - 8s 9ms/step - loss: 0.0065 - val_loss: 0.0065 - lr: 5.6250e-04\n",
      "Epoch 22/50\n",
      "934/937 [============================>.] - ETA: 0s - loss: 0.0064\n",
      "Epoch 22: ReduceLROnPlateau reducing learning rate to 0.0004218749818392098.\n",
      "937/937 [==============================] - 9s 9ms/step - loss: 0.0064 - val_loss: 0.0065 - lr: 5.6250e-04\n",
      "Epoch 23/50\n",
      "937/937 [==============================] - 9s 9ms/step - loss: 0.0064 - val_loss: 0.0064 - lr: 4.2187e-04\n",
      "Epoch 24/50\n",
      "937/937 [==============================] - 9s 9ms/step - loss: 0.0064 - val_loss: 0.0065 - lr: 4.2187e-04\n",
      "Epoch 25/50\n",
      "937/937 [==============================] - 10s 11ms/step - loss: 0.0064 - val_loss: 0.0064 - lr: 4.2187e-04\n",
      "Epoch 26/50\n",
      "933/937 [============================>.] - ETA: 0s - loss: 0.0064\n",
      "Epoch 26: ReduceLROnPlateau reducing learning rate to 0.00031640623637940735.\n",
      "937/937 [==============================] - 10s 10ms/step - loss: 0.0064 - val_loss: 0.0064 - lr: 4.2187e-04\n",
      "Epoch 27/50\n",
      "937/937 [==============================] - 8s 9ms/step - loss: 0.0064 - val_loss: 0.0064 - lr: 3.1641e-04\n",
      "Epoch 28/50\n",
      "937/937 [==============================] - 8s 9ms/step - loss: 0.0063 - val_loss: 0.0064 - lr: 3.1641e-04\n",
      "Epoch 29/50\n",
      "934/937 [============================>.] - ETA: 0s - loss: 0.0064\n",
      "Epoch 29: ReduceLROnPlateau reducing learning rate to 0.00023730468819849193.\n",
      "937/937 [==============================] - 8s 9ms/step - loss: 0.0064 - val_loss: 0.0063 - lr: 3.1641e-04\n",
      "Epoch 30/50\n",
      "937/937 [==============================] - 8s 9ms/step - loss: 0.0063 - val_loss: 0.0064 - lr: 2.3730e-04\n",
      "Epoch 31/50\n",
      "937/937 [==============================] - 9s 9ms/step - loss: 0.0063 - val_loss: 0.0064 - lr: 2.3730e-04\n",
      "Epoch 32/50\n",
      "937/937 [==============================] - 8s 9ms/step - loss: 0.0063 - val_loss: 0.0063 - lr: 2.3730e-04\n",
      "Epoch 33/50\n",
      "937/937 [==============================] - 8s 9ms/step - loss: 0.0063 - val_loss: 0.0064 - lr: 2.3730e-04\n",
      "Epoch 34/50\n",
      "937/937 [==============================] - 8s 9ms/step - loss: 0.0063 - val_loss: 0.0063 - lr: 2.3730e-04\n",
      "Epoch 35/50\n",
      "933/937 [============================>.] - ETA: 0s - loss: 0.0063\n",
      "Epoch 35: ReduceLROnPlateau reducing learning rate to 0.00017797851614886895.\n",
      "937/937 [==============================] - 8s 9ms/step - loss: 0.0063 - val_loss: 0.0063 - lr: 2.3730e-04\n",
      "Epoch 36/50\n",
      "937/937 [==============================] - 8s 9ms/step - loss: 0.0063 - val_loss: 0.0064 - lr: 1.7798e-04\n",
      "Epoch 37/50\n",
      "937/937 [==============================] - 8s 9ms/step - loss: 0.0063 - val_loss: 0.0063 - lr: 1.7798e-04\n",
      "Epoch 38/50\n",
      "934/937 [============================>.] - ETA: 0s - loss: 0.0063\n",
      "Epoch 38: ReduceLROnPlateau reducing learning rate to 0.0001334838816546835.\n",
      "937/937 [==============================] - 9s 9ms/step - loss: 0.0063 - val_loss: 0.0064 - lr: 1.7798e-04\n",
      "Epoch 39/50\n",
      "937/937 [==============================] - 8s 9ms/step - loss: 0.0063 - val_loss: 0.0063 - lr: 1.3348e-04\n",
      "Epoch 40/50\n",
      "937/937 [==============================] - 8s 9ms/step - loss: 0.0063 - val_loss: 0.0063 - lr: 1.3348e-04\n",
      "Epoch 41/50\n",
      "934/937 [============================>.] - ETA: 0s - loss: 0.0063\n",
      "Epoch 41: ReduceLROnPlateau reducing learning rate to 0.00010011290578404441.\n",
      "937/937 [==============================] - 8s 9ms/step - loss: 0.0063 - val_loss: 0.0064 - lr: 1.3348e-04\n",
      "Epoch 42/50\n",
      "937/937 [==============================] - 8s 9ms/step - loss: 0.0063 - val_loss: 0.0063 - lr: 1.0011e-04\n",
      "Epoch 43/50\n",
      "937/937 [==============================] - 8s 9ms/step - loss: 0.0062 - val_loss: 0.0064 - lr: 1.0011e-04\n",
      "Epoch 44/50\n",
      "937/937 [==============================] - ETA: 0s - loss: 0.0063\n",
      "Epoch 44: ReduceLROnPlateau reducing learning rate to 7.508467933803331e-05.\n",
      "937/937 [==============================] - 8s 9ms/step - loss: 0.0063 - val_loss: 0.0063 - lr: 1.0011e-04\n",
      "Epoch 45/50\n",
      "937/937 [==============================] - 8s 9ms/step - loss: 0.0063 - val_loss: 0.0063 - lr: 7.5085e-05\n",
      "Epoch 46/50\n",
      "937/937 [==============================] - 9s 10ms/step - loss: 0.0063 - val_loss: 0.0062 - lr: 7.5085e-05\n",
      "Epoch 47/50\n",
      "936/937 [============================>.] - ETA: 0s - loss: 0.0063\n",
      "Epoch 47: ReduceLROnPlateau reducing learning rate to 5.6313510867767036e-05.\n",
      "937/937 [==============================] - 8s 9ms/step - loss: 0.0063 - val_loss: 0.0063 - lr: 7.5085e-05\n",
      "Epoch 48/50\n",
      "937/937 [==============================] - 8s 9ms/step - loss: 0.0062 - val_loss: 0.0063 - lr: 5.6314e-05\n",
      "Epoch 49/50\n",
      "937/937 [==============================] - 8s 9ms/step - loss: 0.0062 - val_loss: 0.0063 - lr: 5.6314e-05\n",
      "Epoch 50/50\n",
      "932/937 [============================>.] - ETA: 0s - loss: 0.0062\n",
      "Epoch 50: ReduceLROnPlateau reducing learning rate to 4.223513315082528e-05.\n",
      "937/937 [==============================] - 8s 9ms/step - loss: 0.0062 - val_loss: 0.0062 - lr: 5.6314e-05\n"
     ]
    }
   ],
   "source": [
    "hist = nn.fit(train_generator, epochs=50, batch_size=batchsize, validation_data=test_generator, callbacks=[callback_checkpoint, reduce_lr_callback],\n",
    "              steps_per_epoch=steps_per_epoch, validation_steps=val_steps)"
   ]
  },
  {
   "cell_type": "markdown",
   "metadata": {
    "id": "jHDLrJWAXMp_"
   },
   "source": [
    "Improvement: $0.0062$."
   ]
  },
  {
   "cell_type": "code",
   "execution_count": 67,
   "metadata": {
    "colab": {
     "base_uri": "https://localhost:8080/",
     "height": 295
    },
    "id": "dlmYwB5V06zl",
    "outputId": "d4ed67e5-5a00-4e8d-f0b2-e4acb79d3923"
   },
   "outputs": [
    {
     "data": {
      "image/png": "[encoded data removed]",
      "text/plain": [
       "<Figure size 432x288 with 1 Axes>"
      ]
     },
     "metadata": {
      "needs_background": "light"
     },
     "output_type": "display_data"
    }
   ],
   "source": [
    "plot_history(hist)"
   ]
  },
  {
   "cell_type": "code",
   "execution_count": 68,
   "metadata": {
    "colab": {
     "base_uri": "https://localhost:8080/",
     "height": 666
    },
    "id": "xHKkG9Oj06zl",
    "outputId": "baaf0a6c-324a-4b49-83e5-7ec5fc7b6ae8"
   },
   "outputs": [
    {
     "data": {
      "image/png": "[encoded data removed]",
      "text/plain": [
       "<Figure size 432x288 with 1 Axes>"
      ]
     },
     "metadata": {
      "needs_background": "light"
     },
     "output_type": "display_data"
    },
    {
     "data": {
      "image/png": "[encoded data removed]",
      "text/plain": [
       "<Figure size 432x288 with 1 Axes>"
      ]
     },
     "metadata": {
      "needs_background": "light"
     },
     "output_type": "display_data"
    },
    {
     "data": {
      "image/png": "[encoded data removed]",
      "text/plain": [
       "<Figure size 432x288 with 1 Axes>"
      ]
     },
     "metadata": {
      "needs_background": "light"
     },
     "output_type": "display_data"
    }
   ],
   "source": [
    "x_batch, y_batch = next(test_generator)\n",
    "x = x_batch[0]  # Input\n",
    "y = y_batch[0]  # Ground truth\n",
    "y_pred = nn.predict(x.reshape((1,32,32)))  # Prediction\n",
    "\n",
    "plt.imshow(x,cmap='gray', interpolation='nearest')\n",
    "plt.show()\n",
    "plt.imshow(y, cmap='gray', interpolation='nearest')\n",
    "plt.show()\n",
    "plt.imshow(y_pred[0].reshape((32,64)), cmap='gray', interpolation='nearest')\n",
    "plt.show()"
   ]
  },
  {
   "cell_type": "code",
   "execution_count": 69,
   "metadata": {
    "colab": {
     "base_uri": "https://localhost:8080/",
     "height": 666
    },
    "id": "2Ve-3rd406zm",
    "outputId": "8759468e-2aba-4a7b-8b70-4093d8bdb454"
   },
   "outputs": [
    {
     "data": {
      "image/png": "[encoded data removed]",
      "text/plain": [
       "<Figure size 432x288 with 1 Axes>"
      ]
     },
     "metadata": {
      "needs_background": "light"
     },
     "output_type": "display_data"
    },
    {
     "data": {
      "image/png": "[encoded data removed]",
      "text/plain": [
       "<Figure size 432x288 with 1 Axes>"
      ]
     },
     "metadata": {
      "needs_background": "light"
     },
     "output_type": "display_data"
    },
    {
     "data": {
      "image/png": "[encoded data removed]",
      "text/plain": [
       "<Figure size 432x288 with 1 Axes>"
      ]
     },
     "metadata": {
      "needs_background": "light"
     },
     "output_type": "display_data"
    }
   ],
   "source": [
    "x_batch, y_batch = next(test_generator)\n",
    "x = x_batch[0]  # Input\n",
    "y = y_batch[0]  # Ground truth\n",
    "y_pred = nn.predict(x.reshape((1,32,32)))  # Prediction\n",
    "\n",
    "plt.imshow(x,cmap='gray', interpolation='nearest')\n",
    "plt.show()\n",
    "plt.imshow(y, cmap='gray', interpolation='nearest')\n",
    "plt.show()\n",
    "plt.imshow(y_pred[0].reshape((32,64)), cmap='gray', interpolation='nearest')\n",
    "plt.show()"
   ]
  },
  {
   "cell_type": "markdown",
   "metadata": {
    "id": "CizB6V-O3nI9"
   },
   "source": [
    "## FURTHER MORE COMPLEX NETWORK (over 400k parameters)"
   ]
  },
  {
   "cell_type": "code",
   "execution_count": 20,
   "metadata": {
    "id": "Xd3p7wMi3nJO"
   },
   "outputs": [],
   "source": [
    "from tensorflow.keras.layers import concatenate, Dropout\n",
    "from tensorflow.keras import regularizers"
   ]
  },
  {
   "cell_type": "code",
   "execution_count": 46,
   "metadata": {
    "id": "D2oHQUeO3nJO"
   },
   "outputs": [],
   "source": [
    "# 32*32*1=1024\n",
    "xin = Input(shape=(w,h,1))\n",
    "\n",
    "xa = Conv2D(filters=16, kernel_size=3, strides=2, padding='same')(xin)\n",
    "xa = Conv2D(filters=16, kernel_size=3, strides=1, padding='same')(xa)\n",
    "xa = Dropout(0.2)(xa)\n",
    "xb = Conv2D(filters=32, kernel_size=3, strides=2, padding='same')(xa)\n",
    "xb = Conv2D(filters=32, kernel_size=3, strides=1, padding='same')(xb)\n",
    "xb = Dropout(0.2)(xb)\n",
    "xc = Conv2D(filters=64, kernel_size=3, strides=2, padding='same')(xb)\n",
    "xc = Conv2D(filters=64, kernel_size=3, strides=1, padding='same')(xc)\n",
    "xc = Dropout(0.2)(xc)\n",
    "# 2*2*128=2048\n",
    "x = Conv2D(filters=128, kernel_size=3, strides=2, padding='same')(xc)\n",
    "\n",
    "x1 = Conv2DTranspose(filters=64, kernel_size=3, strides=2, padding='same')(x)\n",
    "x1 = Conv2DTranspose(filters=64, kernel_size=3, strides=1, padding='same')(x1)\n",
    "#x1 = Dropout(0.2)(x1)\n",
    "x1 = concatenate([x1,xc])\n",
    "x1 = Conv2DTranspose(filters=32, kernel_size=3, strides=2, padding='same')(x1)\n",
    "x1 = Conv2DTranspose(filters=32, kernel_size=3, strides=1, padding='same')(x1)\n",
    "#x1 = Dropout(0.2)(x1)\n",
    "x1 = concatenate([x1,xb])\n",
    "x1 = Conv2DTranspose(filters=16, kernel_size=3, strides=2, padding='same')(x1)\n",
    "x1 = Conv2DTranspose(filters=16, kernel_size=3, strides=1, padding='same')(x1)\n",
    "#x1 = Dropout(0.2)(x1)\n",
    "x1 = concatenate([x1,xa])\n",
    "x1 = Conv2DTranspose(filters=1, kernel_size=3, strides=2, padding='same', activation='sigmoid')(x1)\n",
    "\n",
    "x2 = Conv2DTranspose(filters=64, kernel_size=3, strides=2, padding='same', kernel_regularizer=regularizers.l2(0.001))(x)\n",
    "x2 = Conv2DTranspose(filters=64, kernel_size=3, strides=1, padding='same')(x2)\n",
    "x2 = Dropout(0.2)(x2)\n",
    "x2 = concatenate([x2,xc])\n",
    "x2 = Conv2DTranspose(filters=32, kernel_size=3, strides=2, padding='same', kernel_regularizer=regularizers.l2(0.001))(x2)\n",
    "x2 = Conv2DTranspose(filters=32, kernel_size=3, strides=1, padding='same')(x2)\n",
    "x2 = Dropout(0.2)(x2)\n",
    "x2 = concatenate([x2,xb])\n",
    "x2 = Conv2DTranspose(filters=16, kernel_size=3, strides=2, padding='same', kernel_regularizer=regularizers.l2(0.001))(x2)\n",
    "x2 = Conv2DTranspose(filters=16, kernel_size=3, strides=1, padding='same')(x2)\n",
    "x2 = Dropout(0.2)(x2)\n",
    "x2 = concatenate([x2,xa])\n",
    "x2 = Conv2DTranspose(filters=1, kernel_size=3, strides=2, padding='same', activation='sigmoid')(x2)\n",
    "\n",
    "# 32*64*1\n",
    "y = Concatenate(axis=2)([x1,x2])\n",
    "\n",
    "nn = Model(inputs=xin, outputs=y)"
   ]
  },
  {
   "cell_type": "code",
   "execution_count": 22,
   "metadata": {
    "colab": {
     "base_uri": "https://localhost:8080/"
    },
    "id": "1tLiG1E73nJP",
    "outputId": "7cf4422d-fbe3-41e6-c83d-b3f8b47cc5cd"
   },
   "outputs": [
    {
     "name": "stdout",
     "output_type": "stream",
     "text": [
      "Model: \"model_2\"\n",
      "__________________________________________________________________________________________________\n",
      " Layer (type)                   Output Shape         Param #     Connected to                     \n",
      "==================================================================================================\n",
      " input_3 (InputLayer)           [(None, 32, 32, 1)]  0           []                               \n",
      "                                                                                                  \n",
      " conv2d_8 (Conv2D)              (None, 16, 16, 16)   160         ['input_3[0][0]']                \n",
      "                                                                                                  \n",
      " conv2d_9 (Conv2D)              (None, 16, 16, 16)   2320        ['conv2d_8[0][0]']               \n",
      "                                                                                                  \n",
      " dropout (Dropout)              (None, 16, 16, 16)   0           ['conv2d_9[0][0]']               \n",
      "                                                                                                  \n",
      " conv2d_10 (Conv2D)             (None, 8, 8, 32)     4640        ['dropout[0][0]']                \n",
      "                                                                                                  \n",
      " conv2d_11 (Conv2D)             (None, 8, 8, 32)     9248        ['conv2d_10[0][0]']              \n",
      "                                                                                                  \n",
      " dropout_1 (Dropout)            (None, 8, 8, 32)     0           ['conv2d_11[0][0]']              \n",
      "                                                                                                  \n",
      " conv2d_12 (Conv2D)             (None, 4, 4, 64)     18496       ['dropout_1[0][0]']              \n",
      "                                                                                                  \n",
      " conv2d_13 (Conv2D)             (None, 4, 4, 64)     36928       ['conv2d_12[0][0]']              \n",
      "                                                                                                  \n",
      " dropout_2 (Dropout)            (None, 4, 4, 64)     0           ['conv2d_13[0][0]']              \n",
      "                                                                                                  \n",
      " conv2d_14 (Conv2D)             (None, 2, 2, 128)    73856       ['dropout_2[0][0]']              \n",
      "                                                                                                  \n",
      " conv2d_transpose_23 (Conv2DTra  (None, 4, 4, 64)    73792       ['conv2d_14[0][0]']              \n",
      " nspose)                                                                                          \n",
      "                                                                                                  \n",
      " conv2d_transpose_24 (Conv2DTra  (None, 4, 4, 64)    36928       ['conv2d_transpose_23[0][0]']    \n",
      " nspose)                                                                                          \n",
      "                                                                                                  \n",
      " dropout_3 (Dropout)            (None, 4, 4, 64)     0           ['conv2d_transpose_24[0][0]']    \n",
      "                                                                                                  \n",
      " conv2d_transpose_16 (Conv2DTra  (None, 4, 4, 64)    73792       ['conv2d_14[0][0]']              \n",
      " nspose)                                                                                          \n",
      "                                                                                                  \n",
      " concatenate_11 (Concatenate)   (None, 4, 4, 128)    0           ['dropout_3[0][0]',              \n",
      "                                                                  'dropout_2[0][0]']              \n",
      "                                                                                                  \n",
      " conv2d_transpose_17 (Conv2DTra  (None, 4, 4, 64)    36928       ['conv2d_transpose_16[0][0]']    \n",
      " nspose)                                                                                          \n",
      "                                                                                                  \n",
      " conv2d_transpose_25 (Conv2DTra  (None, 8, 8, 32)    36896       ['concatenate_11[0][0]']         \n",
      " nspose)                                                                                          \n",
      "                                                                                                  \n",
      " concatenate_8 (Concatenate)    (None, 4, 4, 128)    0           ['conv2d_transpose_17[0][0]',    \n",
      "                                                                  'dropout_2[0][0]']              \n",
      "                                                                                                  \n",
      " conv2d_transpose_26 (Conv2DTra  (None, 8, 8, 32)    9248        ['conv2d_transpose_25[0][0]']    \n",
      " nspose)                                                                                          \n",
      "                                                                                                  \n",
      " conv2d_transpose_18 (Conv2DTra  (None, 8, 8, 32)    36896       ['concatenate_8[0][0]']          \n",
      " nspose)                                                                                          \n",
      "                                                                                                  \n",
      " dropout_4 (Dropout)            (None, 8, 8, 32)     0           ['conv2d_transpose_26[0][0]']    \n",
      "                                                                                                  \n",
      " conv2d_transpose_19 (Conv2DTra  (None, 8, 8, 32)    9248        ['conv2d_transpose_18[0][0]']    \n",
      " nspose)                                                                                          \n",
      "                                                                                                  \n",
      " concatenate_12 (Concatenate)   (None, 8, 8, 64)     0           ['dropout_4[0][0]',              \n",
      "                                                                  'dropout_1[0][0]']              \n",
      "                                                                                                  \n",
      " concatenate_9 (Concatenate)    (None, 8, 8, 64)     0           ['conv2d_transpose_19[0][0]',    \n",
      "                                                                  'dropout_1[0][0]']              \n",
      "                                                                                                  \n",
      " conv2d_transpose_27 (Conv2DTra  (None, 16, 16, 16)  9232        ['concatenate_12[0][0]']         \n",
      " nspose)                                                                                          \n",
      "                                                                                                  \n",
      " conv2d_transpose_20 (Conv2DTra  (None, 16, 16, 16)  9232        ['concatenate_9[0][0]']          \n",
      " nspose)                                                                                          \n",
      "                                                                                                  \n",
      " conv2d_transpose_28 (Conv2DTra  (None, 16, 16, 16)  2320        ['conv2d_transpose_27[0][0]']    \n",
      " nspose)                                                                                          \n",
      "                                                                                                  \n",
      " conv2d_transpose_21 (Conv2DTra  (None, 16, 16, 16)  2320        ['conv2d_transpose_20[0][0]']    \n",
      " nspose)                                                                                          \n",
      "                                                                                                  \n",
      " dropout_5 (Dropout)            (None, 16, 16, 16)   0           ['conv2d_transpose_28[0][0]']    \n",
      "                                                                                                  \n",
      " concatenate_10 (Concatenate)   (None, 16, 16, 32)   0           ['conv2d_transpose_21[0][0]',    \n",
      "                                                                  'dropout[0][0]']                \n",
      "                                                                                                  \n",
      " concatenate_13 (Concatenate)   (None, 16, 16, 32)   0           ['dropout_5[0][0]',              \n",
      "                                                                  'dropout[0][0]']                \n",
      "                                                                                                  \n",
      " conv2d_transpose_22 (Conv2DTra  (None, 32, 32, 1)   289         ['concatenate_10[0][0]']         \n",
      " nspose)                                                                                          \n",
      "                                                                                                  \n",
      " conv2d_transpose_29 (Conv2DTra  (None, 32, 32, 1)   289         ['concatenate_13[0][0]']         \n",
      " nspose)                                                                                          \n",
      "                                                                                                  \n",
      " concatenate_14 (Concatenate)   (None, 32, 64, 1)    0           ['conv2d_transpose_22[0][0]',    \n",
      "                                                                  'conv2d_transpose_29[0][0]']    \n",
      "                                                                                                  \n",
      "==================================================================================================\n",
      "Total params: 483,058\n",
      "Trainable params: 483,058\n",
      "Non-trainable params: 0\n",
      "__________________________________________________________________________________________________\n"
     ]
    }
   ],
   "source": [
    "nn.summary()"
   ]
  },
  {
   "cell_type": "code",
   "execution_count": 23,
   "metadata": {
    "id": "cPU_ysFX3nJP"
   },
   "outputs": [],
   "source": [
    "from tensorflow.keras.optimizers import Adam"
   ]
  },
  {
   "cell_type": "code",
   "execution_count": 47,
   "metadata": {
    "id": "kfDzXaN1a5e6"
   },
   "outputs": [],
   "source": [
    "nn.compile(optimizer=Adam(), loss='mse')"
   ]
  },
  {
   "cell_type": "code",
   "execution_count": 48,
   "metadata": {
    "id": "rPtpnymr3nJQ"
   },
   "outputs": [],
   "source": [
    "from tensorflow.keras.callbacks import ModelCheckpoint, ReduceLROnPlateau\n",
    "reduce_lr_callback = ReduceLROnPlateau(monitor='val_loss', min_lr=0.000009, min_delta=0.0001, factor=0.75, patience=3, verbose=1, mode='min')\n",
    "callback_checkpoint = ModelCheckpoint('CNN_improved3.{epoch:02d}-{val_loss:.4f}.hdf5', save_weights_only=True) "
   ]
  },
  {
   "cell_type": "code",
   "execution_count": 49,
   "metadata": {
    "id": "liI-k5TQawhN"
   },
   "outputs": [],
   "source": [
    "steps_per_epoch = N_train // batchsize\n",
    "val_steps = N_test // batchsize"
   ]
  },
  {
   "cell_type": "code",
   "execution_count": 50,
   "metadata": {
    "colab": {
     "base_uri": "https://localhost:8080/"
    },
    "id": "9kkPWBR8a3Is",
    "outputId": "e6449450-ad64-4b1c-e0bf-6780be7b02ed"
   },
   "outputs": [
    {
     "name": "stdout",
     "output_type": "stream",
     "text": [
      "Epoch 1/50\n",
      "937/937 [==============================] - 13s 12ms/step - loss: 0.0648 - val_loss: 0.0537 - lr: 0.0010\n",
      "Epoch 2/50\n",
      "937/937 [==============================] - 11s 12ms/step - loss: 0.0526 - val_loss: 0.0530 - lr: 0.0010\n",
      "Epoch 3/50\n",
      "937/937 [==============================] - 12s 13ms/step - loss: 0.0513 - val_loss: 0.0512 - lr: 0.0010\n",
      "Epoch 4/50\n",
      "937/937 [==============================] - 11s 12ms/step - loss: 0.0514 - val_loss: 0.0510 - lr: 0.0010\n",
      "Epoch 5/50\n",
      "937/937 [==============================] - 11s 12ms/step - loss: 0.0506 - val_loss: 0.0505 - lr: 0.0010\n",
      "Epoch 6/50\n",
      "937/937 [==============================] - 11s 12ms/step - loss: 0.0505 - val_loss: 0.0512 - lr: 0.0010\n",
      "Epoch 7/50\n",
      "937/937 [==============================] - 11s 11ms/step - loss: 0.0503 - val_loss: 0.0502 - lr: 0.0010\n",
      "Epoch 8/50\n",
      "937/937 [==============================] - 11s 11ms/step - loss: 0.0502 - val_loss: 0.0499 - lr: 0.0010\n",
      "Epoch 9/50\n",
      "937/937 [==============================] - 11s 12ms/step - loss: 0.0503 - val_loss: 0.0502 - lr: 0.0010\n",
      "Epoch 10/50\n",
      "937/937 [==============================] - 11s 12ms/step - loss: 0.0505 - val_loss: 0.0501 - lr: 0.0010\n",
      "Epoch 11/50\n",
      "935/937 [============================>.] - ETA: 0s - loss: 0.0587\n",
      "Epoch 11: ReduceLROnPlateau reducing learning rate to 0.0007500000356230885.\n",
      "937/937 [==============================] - 11s 12ms/step - loss: 0.0587 - val_loss: 0.0945 - lr: 0.0010\n",
      "Epoch 12/50\n",
      "937/937 [==============================] - 11s 12ms/step - loss: 0.0614 - val_loss: 0.0508 - lr: 7.5000e-04\n",
      "Epoch 13/50\n",
      "937/937 [==============================] - 11s 12ms/step - loss: 0.0503 - val_loss: 0.0502 - lr: 7.5000e-04\n",
      "Epoch 14/50\n",
      "936/937 [============================>.] - ETA: 0s - loss: 0.0500\n",
      "Epoch 14: ReduceLROnPlateau reducing learning rate to 0.0005625000048894435.\n",
      "937/937 [==============================] - 19s 20ms/step - loss: 0.0500 - val_loss: 0.0500 - lr: 7.5000e-04\n",
      "Epoch 15/50\n",
      "937/937 [==============================] - 14s 15ms/step - loss: 0.0498 - val_loss: 0.0499 - lr: 5.6250e-04\n",
      "Epoch 16/50\n",
      "937/937 [==============================] - 11s 12ms/step - loss: 0.0498 - val_loss: 0.0498 - lr: 5.6250e-04\n",
      "Epoch 17/50\n",
      "937/937 [==============================] - 11s 12ms/step - loss: 0.0497 - val_loss: 0.0497 - lr: 5.6250e-04\n",
      "Epoch 18/50\n",
      "937/937 [==============================] - 11s 12ms/step - loss: 0.0497 - val_loss: 0.0493 - lr: 5.6250e-04\n",
      "Epoch 19/50\n",
      "937/937 [==============================] - 11s 12ms/step - loss: 0.0504 - val_loss: 0.0502 - lr: 5.6250e-04\n",
      "Epoch 20/50\n",
      "937/937 [==============================] - 11s 12ms/step - loss: 0.0499 - val_loss: 0.0498 - lr: 5.6250e-04\n",
      "Epoch 21/50\n",
      "937/937 [==============================] - 11s 12ms/step - loss: 0.0499 - val_loss: 0.0492 - lr: 5.6250e-04\n",
      "Epoch 22/50\n",
      "937/937 [==============================] - 11s 12ms/step - loss: 0.0497 - val_loss: 0.0497 - lr: 5.6250e-04\n",
      "Epoch 23/50\n",
      "937/937 [==============================] - 11s 12ms/step - loss: 0.0502 - val_loss: 0.0497 - lr: 5.6250e-04\n",
      "Epoch 24/50\n",
      "934/937 [============================>.] - ETA: 0s - loss: 0.0498\n",
      "Epoch 24: ReduceLROnPlateau reducing learning rate to 0.0004218749818392098.\n",
      "937/937 [==============================] - 11s 12ms/step - loss: 0.0498 - val_loss: 0.0497 - lr: 5.6250e-04\n",
      "Epoch 25/50\n",
      "937/937 [==============================] - 11s 12ms/step - loss: 0.0496 - val_loss: 0.0495 - lr: 4.2187e-04\n",
      "Epoch 26/50\n",
      "937/937 [==============================] - 15s 16ms/step - loss: 0.0495 - val_loss: 0.0495 - lr: 4.2187e-04\n",
      "Epoch 27/50\n",
      "934/937 [============================>.] - ETA: 0s - loss: 0.0494\n",
      "Epoch 27: ReduceLROnPlateau reducing learning rate to 0.00031640623637940735.\n",
      "937/937 [==============================] - 15s 16ms/step - loss: 0.0494 - val_loss: 0.0496 - lr: 4.2187e-04\n",
      "Epoch 28/50\n",
      "937/937 [==============================] - 13s 13ms/step - loss: 0.0493 - val_loss: 0.0493 - lr: 3.1641e-04\n",
      "Epoch 29/50\n",
      "937/937 [==============================] - 14s 15ms/step - loss: 0.0494 - val_loss: 0.0492 - lr: 3.1641e-04\n",
      "Epoch 30/50\n",
      "937/937 [==============================] - 14s 15ms/step - loss: 0.0494 - val_loss: 0.0489 - lr: 3.1641e-04\n",
      "Epoch 31/50\n",
      "937/937 [==============================] - 15s 16ms/step - loss: 0.0494 - val_loss: 0.0491 - lr: 3.1641e-04\n",
      "Epoch 32/50\n",
      "937/937 [==============================] - 15s 16ms/step - loss: 0.0493 - val_loss: 0.0496 - lr: 3.1641e-04\n",
      "Epoch 33/50\n",
      "936/937 [============================>.] - ETA: 0s - loss: 0.0493\n",
      "Epoch 33: ReduceLROnPlateau reducing learning rate to 0.00023730468819849193.\n",
      "937/937 [==============================] - 11s 12ms/step - loss: 0.0493 - val_loss: 0.0492 - lr: 3.1641e-04\n",
      "Epoch 34/50\n",
      "937/937 [==============================] - 12s 13ms/step - loss: 0.0491 - val_loss: 0.0491 - lr: 2.3730e-04\n",
      "Epoch 35/50\n",
      "937/937 [==============================] - 12s 13ms/step - loss: 0.0492 - val_loss: 0.0491 - lr: 2.3730e-04\n",
      "Epoch 36/50\n",
      "936/937 [============================>.] - ETA: 0s - loss: 0.0491\n",
      "Epoch 36: ReduceLROnPlateau reducing learning rate to 0.00017797851614886895.\n",
      "937/937 [==============================] - 11s 12ms/step - loss: 0.0491 - val_loss: 0.0493 - lr: 2.3730e-04\n",
      "Epoch 37/50\n",
      "937/937 [==============================] - 11s 12ms/step - loss: 0.0492 - val_loss: 0.0488 - lr: 1.7798e-04\n",
      "Epoch 38/50\n",
      "937/937 [==============================] - 11s 12ms/step - loss: 0.0491 - val_loss: 0.0488 - lr: 1.7798e-04\n",
      "Epoch 39/50\n",
      "933/937 [============================>.] - ETA: 0s - loss: 0.0490\n",
      "Epoch 39: ReduceLROnPlateau reducing learning rate to 0.0001334838816546835.\n",
      "937/937 [==============================] - 11s 12ms/step - loss: 0.0490 - val_loss: 0.0491 - lr: 1.7798e-04\n",
      "Epoch 40/50\n",
      "937/937 [==============================] - 11s 12ms/step - loss: 0.0490 - val_loss: 0.0488 - lr: 1.3348e-04\n",
      "Epoch 41/50\n",
      "937/937 [==============================] - 13s 14ms/step - loss: 0.0490 - val_loss: 0.0491 - lr: 1.3348e-04\n",
      "Epoch 42/50\n",
      "937/937 [==============================] - 11s 12ms/step - loss: 0.0490 - val_loss: 0.0485 - lr: 1.3348e-04\n",
      "Epoch 43/50\n",
      "937/937 [==============================] - 13s 14ms/step - loss: 0.0488 - val_loss: 0.0487 - lr: 1.3348e-04\n",
      "Epoch 44/50\n",
      "937/937 [==============================] - 11s 12ms/step - loss: 0.0490 - val_loss: 0.0490 - lr: 1.3348e-04\n",
      "Epoch 45/50\n",
      "937/937 [==============================] - ETA: 0s - loss: 0.0489\n",
      "Epoch 45: ReduceLROnPlateau reducing learning rate to 0.00010011290578404441.\n",
      "937/937 [==============================] - 11s 12ms/step - loss: 0.0489 - val_loss: 0.0492 - lr: 1.3348e-04\n",
      "Epoch 46/50\n",
      "937/937 [==============================] - 11s 12ms/step - loss: 0.0489 - val_loss: 0.0486 - lr: 1.0011e-04\n",
      "Epoch 47/50\n",
      "937/937 [==============================] - 11s 12ms/step - loss: 0.0488 - val_loss: 0.0487 - lr: 1.0011e-04\n",
      "Epoch 48/50\n",
      "934/937 [============================>.] - ETA: 0s - loss: 0.0488\n",
      "Epoch 48: ReduceLROnPlateau reducing learning rate to 7.508467933803331e-05.\n",
      "937/937 [==============================] - 11s 12ms/step - loss: 0.0488 - val_loss: 0.0486 - lr: 1.0011e-04\n",
      "Epoch 49/50\n",
      "937/937 [==============================] - 11s 12ms/step - loss: 0.0488 - val_loss: 0.0489 - lr: 7.5085e-05\n",
      "Epoch 50/50\n",
      "937/937 [==============================] - 11s 12ms/step - loss: 0.0488 - val_loss: 0.0488 - lr: 7.5085e-05\n"
     ]
    }
   ],
   "source": [
    "hist = nn.fit(train_generator, epochs=50, batch_size=batchsize, validation_data=test_generator, callbacks=[callback_checkpoint, reduce_lr_callback],\n",
    "              steps_per_epoch=steps_per_epoch, validation_steps=val_steps)"
   ]
  },
  {
   "cell_type": "markdown",
   "metadata": {
    "id": "YwJ2ZD-zfTtj"
   },
   "source": [
    "The MSE remains stucked at $0.049$..."
   ]
  },
  {
   "cell_type": "code",
   "execution_count": 54,
   "metadata": {
    "colab": {
     "base_uri": "https://localhost:8080/",
     "height": 295
    },
    "id": "61crn80ydlp2",
    "outputId": "5aad16f5-ffb4-4058-ab21-29a6eb127ba6"
   },
   "outputs": [
    {
     "data": {
      "image/png": "[encoded data removed]",
      "text/plain": [
       "<Figure size 432x288 with 1 Axes>"
      ]
     },
     "metadata": {
      "needs_background": "light"
     },
     "output_type": "display_data"
    }
   ],
   "source": [
    "plot_history(hist)"
   ]
  },
  {
   "cell_type": "code",
   "execution_count": 52,
   "metadata": {
    "colab": {
     "base_uri": "https://localhost:8080/",
     "height": 666
    },
    "id": "eZ-qVOVPdlqI",
    "outputId": "67ac2ba0-5c75-48dd-c129-dca8c5b83ea4"
   },
   "outputs": [
    {
     "data": {
      "image/png": "[encoded data removed]",
      "text/plain": [
       "<Figure size 432x288 with 1 Axes>"
      ]
     },
     "metadata": {
      "needs_background": "light"
     },
     "output_type": "display_data"
    },
    {
     "data": {
      "image/png": "[encoded data removed]",
      "text/plain": [
       "<Figure size 432x288 with 1 Axes>"
      ]
     },
     "metadata": {
      "needs_background": "light"
     },
     "output_type": "display_data"
    },
    {
     "data": {
      "image/png": "[encoded data removed]",
      "text/plain": [
       "<Figure size 432x288 with 1 Axes>"
      ]
     },
     "metadata": {
      "needs_background": "light"
     },
     "output_type": "display_data"
    }
   ],
   "source": [
    "x_batch, y_batch = next(test_generator)\n",
    "x = x_batch[0]  # Input\n",
    "y = y_batch[0]  # Ground truth\n",
    "y_pred = nn.predict(x.reshape((1,32,32)))  # Prediction\n",
    "\n",
    "plt.imshow(x,cmap='gray', interpolation='nearest')\n",
    "plt.show()\n",
    "plt.imshow(y, cmap='gray', interpolation='nearest')\n",
    "plt.show()\n",
    "plt.imshow(y_pred[0].reshape((32,64)), cmap='gray', interpolation='nearest')\n",
    "plt.show()"
   ]
  },
  {
   "cell_type": "markdown",
   "metadata": {
    "id": "sAVVnsvlfafB"
   },
   "source": [
    "The fashion MNIST image is well generated, while the MNIST image is completely balck!!! Very bad!!!"
   ]
  },
  {
   "cell_type": "markdown",
   "metadata": {
    "id": "3rL59OJKgC4q"
   },
   "source": [
    "### Trying a custom loss function"
   ]
  },
  {
   "cell_type": "code",
   "execution_count": 66,
   "metadata": {
    "id": "uwz8AVev3nJQ"
   },
   "outputs": [],
   "source": [
    "# 32*32*1=1024\n",
    "xin = Input(shape=(w,h,1))\n",
    "\n",
    "xa = Conv2D(filters=16, kernel_size=3, strides=2, padding='same')(xin)\n",
    "xa = Conv2D(filters=16, kernel_size=3, strides=1, padding='same')(xa)\n",
    "xa = Dropout(0.2)(xa)\n",
    "xb = Conv2D(filters=32, kernel_size=3, strides=2, padding='same')(xa)\n",
    "xb = Conv2D(filters=32, kernel_size=3, strides=1, padding='same')(xb)\n",
    "xb = Dropout(0.2)(xb)\n",
    "xc = Conv2D(filters=64, kernel_size=3, strides=2, padding='same')(xb)\n",
    "xc = Conv2D(filters=64, kernel_size=3, strides=1, padding='same')(xc)\n",
    "xc = Dropout(0.2)(xc)\n",
    "# 2*2*128=2048\n",
    "x = Conv2D(filters=128, kernel_size=3, strides=2, padding='same')(xc)\n",
    "\n",
    "x1 = Conv2DTranspose(filters=64, kernel_size=3, strides=2, padding='same')(x)\n",
    "x1 = Conv2DTranspose(filters=64, kernel_size=3, strides=1, padding='same')(x1)\n",
    "#x1 = Dropout(0.2)(x1)\n",
    "x1 = concatenate([x1,xc])\n",
    "x1 = Conv2DTranspose(filters=32, kernel_size=3, strides=2, padding='same')(x1)\n",
    "x1 = Conv2DTranspose(filters=32, kernel_size=3, strides=1, padding='same')(x1)\n",
    "#x1 = Dropout(0.2)(x1)\n",
    "x1 = concatenate([x1,xb])\n",
    "x1 = Conv2DTranspose(filters=16, kernel_size=3, strides=2, padding='same')(x1)\n",
    "x1 = Conv2DTranspose(filters=16, kernel_size=3, strides=1, padding='same')(x1)\n",
    "#x1 = Dropout(0.2)(x1)\n",
    "x1 = concatenate([x1,xa])\n",
    "x1 = Conv2DTranspose(filters=1, kernel_size=3, strides=2, padding='same', activation='sigmoid')(x1)\n",
    "\n",
    "x2 = Conv2DTranspose(filters=64, kernel_size=3, strides=2, padding='same', kernel_regularizer=regularizers.l2(0.001))(x)\n",
    "x2 = Conv2DTranspose(filters=64, kernel_size=3, strides=1, padding='same')(x2)\n",
    "x2 = Dropout(0.2)(x2)\n",
    "x2 = concatenate([x2,xc])\n",
    "x2 = Conv2DTranspose(filters=32, kernel_size=3, strides=2, padding='same', kernel_regularizer=regularizers.l2(0.001))(x2)\n",
    "x2 = Conv2DTranspose(filters=32, kernel_size=3, strides=1, padding='same')(x2)\n",
    "x2 = Dropout(0.2)(x2)\n",
    "x2 = concatenate([x2,xb])\n",
    "x2 = Conv2DTranspose(filters=16, kernel_size=3, strides=2, padding='same', kernel_regularizer=regularizers.l2(0.001))(x2)\n",
    "x2 = Conv2DTranspose(filters=16, kernel_size=3, strides=1, padding='same')(x2)\n",
    "x2 = Dropout(0.2)(x2)\n",
    "x2 = concatenate([x2,xa])\n",
    "x2 = Conv2DTranspose(filters=1, kernel_size=3, strides=2, padding='same', activation='sigmoid')(x2)\n",
    "\n",
    "# 32*64*1\n",
    "y = Concatenate(axis=2)([x1,x2])\n",
    "\n",
    "nn = Model(inputs=xin, outputs=y)"
   ]
  },
  {
   "cell_type": "code",
   "execution_count": 55,
   "metadata": {
    "id": "BbOwnUGkJf9C"
   },
   "outputs": [],
   "source": [
    "from tensorflow.keras.losses import MeanSquaredError\n",
    "import tensorflow as tf\n",
    "import numpy as np"
   ]
  },
  {
   "cell_type": "code",
   "execution_count": 67,
   "metadata": {
    "id": "bN0yG2MOz-kN"
   },
   "outputs": [],
   "source": [
    "def custom_loss(y_true, y_pred):\n",
    "  y1_batch = y_true[:, :, :32]\n",
    "  y2_batch = y_true[:, :, 32:]\n",
    "  y1_pred_batch = y_pred[:, :, :32]\n",
    "  y2_pred_batch = y_pred[:, :, 32:]\n",
    "\n",
    "  #mse1_batch = tf.math.reduce_mean(mean_squared_error(y1_batch, y1_pred_batch), axis=-1)\n",
    "  #mse2_batch = tf.math.reduce_mean(mean_squared_error(y2_batch, y2_pred_batch), axis=-1)\n",
    "\n",
    "  mse1_batch = MeanSquaredError()(y1_batch, y1_pred_batch)\n",
    "  mse2_batch = MeanSquaredError()(y2_batch, y2_pred_batch)\n",
    "\n",
    "  return tf.math.maximum(mse1_batch, mse2_batch)"
   ]
  },
  {
   "cell_type": "code",
   "execution_count": 68,
   "metadata": {
    "id": "5YpIHsCp3nJQ"
   },
   "outputs": [],
   "source": [
    "nn.compile(optimizer=Adam(), loss=custom_loss, metrics='mse', run_eagerly=True)"
   ]
  },
  {
   "cell_type": "code",
   "execution_count": 69,
   "metadata": {
    "id": "VVk5kaZdgy_G"
   },
   "outputs": [],
   "source": [
    "from tensorflow.keras.callbacks import ModelCheckpoint, ReduceLROnPlateau\n",
    "reduce_lr_callback = ReduceLROnPlateau(monitor='val_loss', min_lr=0.000009, min_delta=0.0001, factor=0.75, patience=3, verbose=1, mode='min')\n",
    "callback_checkpoint = ModelCheckpoint('CNN_improved4.{epoch:02d}-{val_loss:.4f}.hdf5', save_weights_only=True) "
   ]
  },
  {
   "cell_type": "code",
   "execution_count": 70,
   "metadata": {
    "id": "IwBVPUFAgy_H"
   },
   "outputs": [],
   "source": [
    "steps_per_epoch = N_train // batchsize\n",
    "val_steps = N_test // batchsize"
   ]
  },
  {
   "cell_type": "code",
   "execution_count": 71,
   "metadata": {
    "colab": {
     "base_uri": "https://localhost:8080/"
    },
    "id": "xJtW_tktKEqZ",
    "outputId": "a6d99ea8-dad0-4ea1-f7a1-5167a92e6d32"
   },
   "outputs": [
    {
     "name": "stdout",
     "output_type": "stream",
     "text": [
      "Epoch 1/15\n",
      "937/937 [==============================] - 69s 74ms/step - loss: 0.0942 - mse: 0.0773 - val_loss: 0.0871 - val_mse: 0.0675 - lr: 0.0010\n",
      "Epoch 2/15\n",
      "937/937 [==============================] - 67s 72ms/step - loss: 0.0858 - mse: 0.0768 - val_loss: 0.0868 - val_mse: 0.0805 - lr: 0.0010\n",
      "Epoch 3/15\n",
      "937/937 [==============================] - 68s 72ms/step - loss: 0.0860 - mse: 0.0695 - val_loss: 0.0875 - val_mse: 0.0699 - lr: 0.0010\n",
      "Epoch 4/15\n",
      "937/937 [==============================] - 68s 72ms/step - loss: 0.0858 - mse: 0.0698 - val_loss: 0.0867 - val_mse: 0.0697 - lr: 0.0010\n",
      "Epoch 5/15\n",
      "937/937 [==============================] - 68s 72ms/step - loss: 0.0859 - mse: 0.0699 - val_loss: 0.0873 - val_mse: 0.0701 - lr: 0.0010\n",
      "Epoch 6/15\n",
      "937/937 [==============================] - 67s 72ms/step - loss: 0.2606 - mse: 0.1584 - val_loss: 0.1841 - val_mse: 0.1236 - lr: 0.0010\n",
      "Epoch 7/15\n",
      "937/937 [==============================] - ETA: 0s - loss: 0.1795 - mse: 0.1238\n",
      "Epoch 7: ReduceLROnPlateau reducing learning rate to 0.0007500000356230885.\n",
      "937/937 [==============================] - 67s 72ms/step - loss: 0.1795 - mse: 0.1238 - val_loss: 0.1651 - val_mse: 0.1223 - lr: 0.0010\n",
      "Epoch 8/15\n",
      "937/937 [==============================] - 67s 72ms/step - loss: 0.1654 - mse: 0.1219 - val_loss: 0.1614 - val_mse: 0.1230 - lr: 7.5000e-04\n",
      "Epoch 9/15\n",
      "937/937 [==============================] - 67s 72ms/step - loss: 0.1600 - mse: 0.1220 - val_loss: 0.1586 - val_mse: 0.1227 - lr: 7.5000e-04\n",
      "Epoch 10/15\n",
      "937/937 [==============================] - ETA: 0s - loss: 0.1750 - mse: 0.1241\n",
      "Epoch 10: ReduceLROnPlateau reducing learning rate to 0.0005625000048894435.\n",
      "937/937 [==============================] - 67s 71ms/step - loss: 0.1750 - mse: 0.1241 - val_loss: 0.1653 - val_mse: 0.1228 - lr: 7.5000e-04\n",
      "Epoch 11/15\n",
      "937/937 [==============================] - 67s 72ms/step - loss: 0.1623 - mse: 0.1221 - val_loss: 0.1612 - val_mse: 0.1234 - lr: 5.6250e-04\n",
      "Epoch 12/15\n",
      "937/937 [==============================] - 67s 72ms/step - loss: 0.1593 - mse: 0.1222 - val_loss: 0.1580 - val_mse: 0.1224 - lr: 5.6250e-04\n",
      "Epoch 13/15\n",
      "937/937 [==============================] - ETA: 0s - loss: 0.1599 - mse: 0.1221\n",
      "Epoch 13: ReduceLROnPlateau reducing learning rate to 0.0004218749818392098.\n",
      "937/937 [==============================] - 67s 72ms/step - loss: 0.1599 - mse: 0.1221 - val_loss: 0.1601 - val_mse: 0.1232 - lr: 5.6250e-04\n",
      "Epoch 14/15\n",
      "937/937 [==============================] - 67s 72ms/step - loss: 0.1592 - mse: 0.1222 - val_loss: 0.1580 - val_mse: 0.1224 - lr: 4.2187e-04\n",
      "Epoch 15/15\n",
      "937/937 [==============================] - 67s 71ms/step - loss: 0.1624 - mse: 0.1226 - val_loss: 0.1629 - val_mse: 0.1232 - lr: 4.2187e-04\n"
     ]
    }
   ],
   "source": [
    "hist = nn.fit(train_generator, epochs=15, batch_size=batchsize, validation_data=test_generator, callbacks=[callback_checkpoint, reduce_lr_callback],\n",
    "              steps_per_epoch=steps_per_epoch, validation_steps=val_steps)"
   ]
  },
  {
   "cell_type": "code",
   "execution_count": 72,
   "metadata": {
    "colab": {
     "base_uri": "https://localhost:8080/",
     "height": 295
    },
    "id": "hPj3DMQF3nJR",
    "outputId": "a7dc45d9-a1c8-44bb-c8d3-b1a5f5e928f3"
   },
   "outputs": [
    {
     "data": {
      "image/png": "[encoded data removed]",
      "text/plain": [
       "<Figure size 432x288 with 1 Axes>"
      ]
     },
     "metadata": {
      "needs_background": "light"
     },
     "output_type": "display_data"
    }
   ],
   "source": [
    "plot_history(hist)"
   ]
  },
  {
   "cell_type": "code",
   "execution_count": 73,
   "metadata": {
    "colab": {
     "base_uri": "https://localhost:8080/",
     "height": 666
    },
    "id": "9B8X3Qvg3nJR",
    "outputId": "ea15f4f1-eba9-43cf-c76b-82af7812508c"
   },
   "outputs": [
    {
     "data": {
      "image/png": "[encoded data removed]",
      "text/plain": [
       "<Figure size 432x288 with 1 Axes>"
      ]
     },
     "metadata": {
      "needs_background": "light"
     },
     "output_type": "display_data"
    },
    {
     "data": {
      "image/png": "[encoded data removed]",
      "text/plain": [
       "<Figure size 432x288 with 1 Axes>"
      ]
     },
     "metadata": {
      "needs_background": "light"
     },
     "output_type": "display_data"
    },
    {
     "data": {
      "image/png": "[encoded data removed]",
      "text/plain": [
       "<Figure size 432x288 with 1 Axes>"
      ]
     },
     "metadata": {
      "needs_background": "light"
     },
     "output_type": "display_data"
    }
   ],
   "source": [
    "x_batch, y_batch = next(test_generator)\n",
    "x = x_batch[0]  # Input\n",
    "y = y_batch[0]  # Ground truth\n",
    "y_pred = nn.predict(x.reshape((1,32,32)))  # Prediction\n",
    "\n",
    "plt.imshow(x,cmap='gray', interpolation='nearest')\n",
    "plt.show()\n",
    "plt.imshow(y, cmap='gray', interpolation='nearest')\n",
    "plt.show()\n",
    "plt.imshow(y_pred[0].reshape((32,64)), cmap='gray', interpolation='nearest')\n",
    "plt.show()"
   ]
  },
  {
   "cell_type": "markdown",
   "metadata": {
    "id": "vNd7O6D2rR1I"
   },
   "source": [
    "No good"
   ]
  },
  {
   "cell_type": "markdown",
   "metadata": {
    "id": "hTuIksbe5N0b"
   },
   "source": [
    "### Further more complex network\n",
    "Since now we have used a CNN autoencoder with one encoding part and two decoding parts. Now we use two completely separate CNN autoencoders."
   ]
  },
  {
   "cell_type": "code",
   "execution_count": 86,
   "metadata": {
    "id": "TbpCnpve5N0u"
   },
   "outputs": [],
   "source": [
    "from tensorflow.keras.layers import concatenate"
   ]
  },
  {
   "cell_type": "code",
   "execution_count": 87,
   "metadata": {
    "id": "figGJd4U5Q6A"
   },
   "outputs": [],
   "source": [
    "def build_cnn_autoencoder(input):\n",
    "  # Shape 32*32*1\n",
    "  xin = input\n",
    "\n",
    "  xa = Conv2D(filters=16, kernel_size=3, strides=2, padding='same')(xin)\n",
    "  xb = Conv2D(filters=32, kernel_size=3, strides=2, padding='same')(xa)\n",
    "  xc = Conv2D(filters=64, kernel_size=3, strides=2, padding='same')(xb)\n",
    "  # Encoding: shape 2*2*128=2048\n",
    "  x = Conv2D(filters=128, kernel_size=3, strides=2, padding='same')(xc)\n",
    "\n",
    "  y = Conv2DTranspose(filters=64, kernel_size=3, strides=2, padding='same')(x)\n",
    "  y = concatenate([y,xc])  # Skip connection\n",
    "  y = Conv2DTranspose(filters=32, kernel_size=3, strides=2, padding='same')(y)\n",
    "  y = concatenate([y,xb])  # Skip connection\n",
    "  y = Conv2DTranspose(filters=16, kernel_size=3, strides=2, padding='same')(y)\n",
    "  y = concatenate([y,xa])  # Skip connection\n",
    "  y = Conv2DTranspose(filters=1, kernel_size=3, strides=2, padding='same', activation='sigmoid')(y)\n",
    "\n",
    "  # Shape 32*32*1\n",
    "  return y"
   ]
  },
  {
   "cell_type": "code",
   "execution_count": 88,
   "metadata": {
    "id": "RKNQ4TLj5N0v"
   },
   "outputs": [],
   "source": [
    "# Input: 32*32*1=1024\n",
    "xin = Input(shape=(w,h,1))\n",
    "\n",
    "# CNN autoencoder for generating the MNIST image\n",
    "x1 = build_cnn_autoencoder(input=xin)\n",
    "\n",
    "# CNN autoencoder for generating the fashion MNIST image\n",
    "x2 = build_cnn_autoencoder(input=xin)\n",
    "\n",
    "# Output: 32*64*1\n",
    "y = Concatenate(axis=2)([x1,x2])\n",
    "\n",
    "nn = Model(inputs=xin, outputs=y)"
   ]
  },
  {
   "cell_type": "code",
   "execution_count": 89,
   "metadata": {
    "colab": {
     "base_uri": "https://localhost:8080/"
    },
    "id": "lMjMbj-s5N0v",
    "outputId": "0593d3af-1330-48ae-e738-fd2c8dd03cf2"
   },
   "outputs": [
    {
     "name": "stdout",
     "output_type": "stream",
     "text": [
      "Model: \"model_8\"\n",
      "__________________________________________________________________________________________________\n",
      " Layer (type)                   Output Shape         Param #     Connected to                     \n",
      "==================================================================================================\n",
      " input_10 (InputLayer)          [(None, 32, 32, 1)]  0           []                               \n",
      "                                                                                                  \n",
      " conv2d_31 (Conv2D)             (None, 16, 16, 16)   160         ['input_10[0][0]']               \n",
      "                                                                                                  \n",
      " conv2d_35 (Conv2D)             (None, 16, 16, 16)   160         ['input_10[0][0]']               \n",
      "                                                                                                  \n",
      " conv2d_32 (Conv2D)             (None, 8, 8, 32)     4640        ['conv2d_31[0][0]']              \n",
      "                                                                                                  \n",
      " conv2d_36 (Conv2D)             (None, 8, 8, 32)     4640        ['conv2d_35[0][0]']              \n",
      "                                                                                                  \n",
      " conv2d_33 (Conv2D)             (None, 4, 4, 64)     18496       ['conv2d_32[0][0]']              \n",
      "                                                                                                  \n",
      " conv2d_37 (Conv2D)             (None, 4, 4, 64)     18496       ['conv2d_36[0][0]']              \n",
      "                                                                                                  \n",
      " conv2d_34 (Conv2D)             (None, 2, 2, 128)    73856       ['conv2d_33[0][0]']              \n",
      "                                                                                                  \n",
      " conv2d_38 (Conv2D)             (None, 2, 2, 128)    73856       ['conv2d_37[0][0]']              \n",
      "                                                                                                  \n",
      " conv2d_transpose_62 (Conv2DTra  (None, 4, 4, 64)    73792       ['conv2d_34[0][0]']              \n",
      " nspose)                                                                                          \n",
      "                                                                                                  \n",
      " conv2d_transpose_66 (Conv2DTra  (None, 4, 4, 64)    73792       ['conv2d_38[0][0]']              \n",
      " nspose)                                                                                          \n",
      "                                                                                                  \n",
      " concatenate_20 (Concatenate)   (None, 4, 4, 128)    0           ['conv2d_transpose_62[0][0]',    \n",
      "                                                                  'conv2d_33[0][0]']              \n",
      "                                                                                                  \n",
      " concatenate_23 (Concatenate)   (None, 4, 4, 128)    0           ['conv2d_transpose_66[0][0]',    \n",
      "                                                                  'conv2d_37[0][0]']              \n",
      "                                                                                                  \n",
      " conv2d_transpose_63 (Conv2DTra  (None, 8, 8, 32)    36896       ['concatenate_20[0][0]']         \n",
      " nspose)                                                                                          \n",
      "                                                                                                  \n",
      " conv2d_transpose_67 (Conv2DTra  (None, 8, 8, 32)    36896       ['concatenate_23[0][0]']         \n",
      " nspose)                                                                                          \n",
      "                                                                                                  \n",
      " concatenate_21 (Concatenate)   (None, 8, 8, 64)     0           ['conv2d_transpose_63[0][0]',    \n",
      "                                                                  'conv2d_32[0][0]']              \n",
      "                                                                                                  \n",
      " concatenate_24 (Concatenate)   (None, 8, 8, 64)     0           ['conv2d_transpose_67[0][0]',    \n",
      "                                                                  'conv2d_36[0][0]']              \n",
      "                                                                                                  \n",
      " conv2d_transpose_64 (Conv2DTra  (None, 16, 16, 16)  9232        ['concatenate_21[0][0]']         \n",
      " nspose)                                                                                          \n",
      "                                                                                                  \n",
      " conv2d_transpose_68 (Conv2DTra  (None, 16, 16, 16)  9232        ['concatenate_24[0][0]']         \n",
      " nspose)                                                                                          \n",
      "                                                                                                  \n",
      " concatenate_22 (Concatenate)   (None, 16, 16, 32)   0           ['conv2d_transpose_64[0][0]',    \n",
      "                                                                  'conv2d_31[0][0]']              \n",
      "                                                                                                  \n",
      " concatenate_25 (Concatenate)   (None, 16, 16, 32)   0           ['conv2d_transpose_68[0][0]',    \n",
      "                                                                  'conv2d_35[0][0]']              \n",
      "                                                                                                  \n",
      " conv2d_transpose_65 (Conv2DTra  (None, 32, 32, 1)   289         ['concatenate_22[0][0]']         \n",
      " nspose)                                                                                          \n",
      "                                                                                                  \n",
      " conv2d_transpose_69 (Conv2DTra  (None, 32, 32, 1)   289         ['concatenate_25[0][0]']         \n",
      " nspose)                                                                                          \n",
      "                                                                                                  \n",
      " concatenate_26 (Concatenate)   (None, 32, 64, 1)    0           ['conv2d_transpose_65[0][0]',    \n",
      "                                                                  'conv2d_transpose_69[0][0]']    \n",
      "                                                                                                  \n",
      "==================================================================================================\n",
      "Total params: 434,722\n",
      "Trainable params: 434,722\n",
      "Non-trainable params: 0\n",
      "__________________________________________________________________________________________________\n"
     ]
    }
   ],
   "source": [
    "nn.summary()"
   ]
  },
  {
   "cell_type": "code",
   "execution_count": 90,
   "metadata": {
    "id": "oxB_gH2v5N0w"
   },
   "outputs": [],
   "source": [
    "from tensorflow.keras.optimizers import Adam"
   ]
  },
  {
   "cell_type": "code",
   "execution_count": 91,
   "metadata": {
    "id": "9onB0w3I5N0w"
   },
   "outputs": [],
   "source": [
    "nn.compile(optimizer=Adam(), loss='mse')"
   ]
  },
  {
   "cell_type": "code",
   "execution_count": 92,
   "metadata": {
    "id": "_sZRpiu95N0x"
   },
   "outputs": [],
   "source": [
    "from tensorflow.keras.callbacks import ModelCheckpoint, ReduceLROnPlateau\n",
    "reduce_lr_callback = ReduceLROnPlateau(monitor='val_loss', min_lr=0.000009, min_delta=0.0001, factor=0.75, patience=3, verbose=1, mode='min')\n",
    "callback_checkpoint = ModelCheckpoint('CNN_improved5.{epoch:02d}-{val_loss:.4f}.hdf5', save_weights_only=True) "
   ]
  },
  {
   "cell_type": "code",
   "execution_count": 93,
   "metadata": {
    "id": "DxNAlT8_5N0x"
   },
   "outputs": [],
   "source": [
    "steps_per_epoch = N_train // batchsize\n",
    "val_steps = N_test // batchsize"
   ]
  },
  {
   "cell_type": "code",
   "execution_count": 94,
   "metadata": {
    "colab": {
     "base_uri": "https://localhost:8080/",
     "height": 588
    },
    "id": "xu7cH3415N0x",
    "outputId": "167dcb2a-69b4-49fa-ef04-7d34e84be3e0"
   },
   "outputs": [
    {
     "name": "stdout",
     "output_type": "stream",
     "text": [
      "Epoch 1/50\n",
      "937/937 [==============================] - 11s 11ms/step - loss: 0.0547 - val_loss: 0.0498 - lr: 0.0010\n",
      "Epoch 2/50\n",
      "937/937 [==============================] - 10s 10ms/step - loss: 0.0486 - val_loss: 0.0492 - lr: 0.0010\n",
      "Epoch 3/50\n",
      "937/937 [==============================] - 10s 10ms/step - loss: 0.0480 - val_loss: 0.0490 - lr: 0.0010\n",
      "Epoch 4/50\n",
      "937/937 [==============================] - 10s 10ms/step - loss: 0.0477 - val_loss: 0.0483 - lr: 0.0010\n",
      "Epoch 5/50\n",
      "937/937 [==============================] - 10s 10ms/step - loss: 0.0476 - val_loss: 0.0480 - lr: 0.0010\n",
      "Epoch 6/50\n",
      "937/937 [==============================] - 10s 10ms/step - loss: 0.0475 - val_loss: 0.0481 - lr: 0.0010\n",
      "Epoch 7/50\n",
      "704/937 [=====================>........] - ETA: 2s - loss: 0.0474"
     ]
    },
    {
     "ename": "KeyboardInterrupt",
     "evalue": "ignored",
     "output_type": "error",
     "traceback": [
      "\u001b[0;31m---------------------------------------------------------------------------\u001b[0m",
      "\u001b[0;31mKeyboardInterrupt\u001b[0m                         Traceback (most recent call last)",
      "\u001b[0;32m<ipython-input-94-db28e3d20cc5>\u001b[0m in \u001b[0;36m<module>\u001b[0;34m()\u001b[0m\n\u001b[1;32m      1\u001b[0m hist = nn.fit(train_generator, epochs=50, batch_size=batchsize, validation_data=test_generator, callbacks=[callback_checkpoint, reduce_lr_callback],\n\u001b[0;32m----> 2\u001b[0;31m               steps_per_epoch=steps_per_epoch, validation_steps=val_steps)\n\u001b[0m",
      "\u001b[0;32m/usr/local/lib/python3.7/dist-packages/keras/utils/traceback_utils.py\u001b[0m in \u001b[0;36merror_handler\u001b[0;34m(*args, **kwargs)\u001b[0m\n\u001b[1;32m     62\u001b[0m     \u001b[0mfiltered_tb\u001b[0m \u001b[0;34m=\u001b[0m \u001b[0;32mNone\u001b[0m\u001b[0;34m\u001b[0m\u001b[0;34m\u001b[0m\u001b[0m\n\u001b[1;32m     63\u001b[0m     \u001b[0;32mtry\u001b[0m\u001b[0;34m:\u001b[0m\u001b[0;34m\u001b[0m\u001b[0;34m\u001b[0m\u001b[0m\n\u001b[0;32m---> 64\u001b[0;31m       \u001b[0;32mreturn\u001b[0m \u001b[0mfn\u001b[0m\u001b[0;34m(\u001b[0m\u001b[0;34m*\u001b[0m\u001b[0margs\u001b[0m\u001b[0;34m,\u001b[0m \u001b[0;34m**\u001b[0m\u001b[0mkwargs\u001b[0m\u001b[0;34m)\u001b[0m\u001b[0;34m\u001b[0m\u001b[0;34m\u001b[0m\u001b[0m\n\u001b[0m\u001b[1;32m     65\u001b[0m     \u001b[0;32mexcept\u001b[0m \u001b[0mException\u001b[0m \u001b[0;32mas\u001b[0m \u001b[0me\u001b[0m\u001b[0;34m:\u001b[0m  \u001b[0;31m# pylint: disable=broad-except\u001b[0m\u001b[0;34m\u001b[0m\u001b[0;34m\u001b[0m\u001b[0m\n\u001b[1;32m     66\u001b[0m       \u001b[0mfiltered_tb\u001b[0m \u001b[0;34m=\u001b[0m \u001b[0m_process_traceback_frames\u001b[0m\u001b[0;34m(\u001b[0m\u001b[0me\u001b[0m\u001b[0;34m.\u001b[0m\u001b[0m__traceback__\u001b[0m\u001b[0;34m)\u001b[0m\u001b[0;34m\u001b[0m\u001b[0;34m\u001b[0m\u001b[0m\n",
      "\u001b[0;32m/usr/local/lib/python3.7/dist-packages/keras/engine/training.py\u001b[0m in \u001b[0;36mfit\u001b[0;34m(self, x, y, batch_size, epochs, verbose, callbacks, validation_split, validation_data, shuffle, class_weight, sample_weight, initial_epoch, steps_per_epoch, validation_steps, validation_batch_size, validation_freq, max_queue_size, workers, use_multiprocessing)\u001b[0m\n\u001b[1;32m   1382\u001b[0m                 _r=1):\n\u001b[1;32m   1383\u001b[0m               \u001b[0mcallbacks\u001b[0m\u001b[0;34m.\u001b[0m\u001b[0mon_train_batch_begin\u001b[0m\u001b[0;34m(\u001b[0m\u001b[0mstep\u001b[0m\u001b[0;34m)\u001b[0m\u001b[0;34m\u001b[0m\u001b[0;34m\u001b[0m\u001b[0m\n\u001b[0;32m-> 1384\u001b[0;31m               \u001b[0mtmp_logs\u001b[0m \u001b[0;34m=\u001b[0m \u001b[0mself\u001b[0m\u001b[0;34m.\u001b[0m\u001b[0mtrain_function\u001b[0m\u001b[0;34m(\u001b[0m\u001b[0miterator\u001b[0m\u001b[0;34m)\u001b[0m\u001b[0;34m\u001b[0m\u001b[0;34m\u001b[0m\u001b[0m\n\u001b[0m\u001b[1;32m   1385\u001b[0m               \u001b[0;32mif\u001b[0m \u001b[0mdata_handler\u001b[0m\u001b[0;34m.\u001b[0m\u001b[0mshould_sync\u001b[0m\u001b[0;34m:\u001b[0m\u001b[0;34m\u001b[0m\u001b[0;34m\u001b[0m\u001b[0m\n\u001b[1;32m   1386\u001b[0m                 \u001b[0mcontext\u001b[0m\u001b[0;34m.\u001b[0m\u001b[0masync_wait\u001b[0m\u001b[0;34m(\u001b[0m\u001b[0;34m)\u001b[0m\u001b[0;34m\u001b[0m\u001b[0;34m\u001b[0m\u001b[0m\n",
      "\u001b[0;32m/usr/local/lib/python3.7/dist-packages/tensorflow/python/util/traceback_utils.py\u001b[0m in \u001b[0;36merror_handler\u001b[0;34m(*args, **kwargs)\u001b[0m\n\u001b[1;32m    148\u001b[0m     \u001b[0mfiltered_tb\u001b[0m \u001b[0;34m=\u001b[0m \u001b[0;32mNone\u001b[0m\u001b[0;34m\u001b[0m\u001b[0;34m\u001b[0m\u001b[0m\n\u001b[1;32m    149\u001b[0m     \u001b[0;32mtry\u001b[0m\u001b[0;34m:\u001b[0m\u001b[0;34m\u001b[0m\u001b[0;34m\u001b[0m\u001b[0m\n\u001b[0;32m--> 150\u001b[0;31m       \u001b[0;32mreturn\u001b[0m \u001b[0mfn\u001b[0m\u001b[0;34m(\u001b[0m\u001b[0;34m*\u001b[0m\u001b[0margs\u001b[0m\u001b[0;34m,\u001b[0m \u001b[0;34m**\u001b[0m\u001b[0mkwargs\u001b[0m\u001b[0;34m)\u001b[0m\u001b[0;34m\u001b[0m\u001b[0;34m\u001b[0m\u001b[0m\n\u001b[0m\u001b[1;32m    151\u001b[0m     \u001b[0;32mexcept\u001b[0m \u001b[0mException\u001b[0m \u001b[0;32mas\u001b[0m \u001b[0me\u001b[0m\u001b[0;34m:\u001b[0m\u001b[0;34m\u001b[0m\u001b[0;34m\u001b[0m\u001b[0m\n\u001b[1;32m    152\u001b[0m       \u001b[0mfiltered_tb\u001b[0m \u001b[0;34m=\u001b[0m \u001b[0m_process_traceback_frames\u001b[0m\u001b[0;34m(\u001b[0m\u001b[0me\u001b[0m\u001b[0;34m.\u001b[0m\u001b[0m__traceback__\u001b[0m\u001b[0;34m)\u001b[0m\u001b[0;34m\u001b[0m\u001b[0;34m\u001b[0m\u001b[0m\n",
      "\u001b[0;32m/usr/local/lib/python3.7/dist-packages/tensorflow/python/eager/def_function.py\u001b[0m in \u001b[0;36m__call__\u001b[0;34m(self, *args, **kwds)\u001b[0m\n\u001b[1;32m    913\u001b[0m \u001b[0;34m\u001b[0m\u001b[0m\n\u001b[1;32m    914\u001b[0m       \u001b[0;32mwith\u001b[0m \u001b[0mOptionalXlaContext\u001b[0m\u001b[0;34m(\u001b[0m\u001b[0mself\u001b[0m\u001b[0;34m.\u001b[0m\u001b[0m_jit_compile\u001b[0m\u001b[0;34m)\u001b[0m\u001b[0;34m:\u001b[0m\u001b[0;34m\u001b[0m\u001b[0;34m\u001b[0m\u001b[0m\n\u001b[0;32m--> 915\u001b[0;31m         \u001b[0mresult\u001b[0m \u001b[0;34m=\u001b[0m \u001b[0mself\u001b[0m\u001b[0;34m.\u001b[0m\u001b[0m_call\u001b[0m\u001b[0;34m(\u001b[0m\u001b[0;34m*\u001b[0m\u001b[0margs\u001b[0m\u001b[0;34m,\u001b[0m \u001b[0;34m**\u001b[0m\u001b[0mkwds\u001b[0m\u001b[0;34m)\u001b[0m\u001b[0;34m\u001b[0m\u001b[0;34m\u001b[0m\u001b[0m\n\u001b[0m\u001b[1;32m    916\u001b[0m \u001b[0;34m\u001b[0m\u001b[0m\n\u001b[1;32m    917\u001b[0m       \u001b[0mnew_tracing_count\u001b[0m \u001b[0;34m=\u001b[0m \u001b[0mself\u001b[0m\u001b[0;34m.\u001b[0m\u001b[0mexperimental_get_tracing_count\u001b[0m\u001b[0;34m(\u001b[0m\u001b[0;34m)\u001b[0m\u001b[0;34m\u001b[0m\u001b[0;34m\u001b[0m\u001b[0m\n",
      "\u001b[0;32m/usr/local/lib/python3.7/dist-packages/tensorflow/python/eager/def_function.py\u001b[0m in \u001b[0;36m_call\u001b[0;34m(self, *args, **kwds)\u001b[0m\n\u001b[1;32m    945\u001b[0m       \u001b[0;31m# In this case we have created variables on the first call, so we run the\u001b[0m\u001b[0;34m\u001b[0m\u001b[0;34m\u001b[0m\u001b[0;34m\u001b[0m\u001b[0m\n\u001b[1;32m    946\u001b[0m       \u001b[0;31m# defunned version which is guaranteed to never create variables.\u001b[0m\u001b[0;34m\u001b[0m\u001b[0;34m\u001b[0m\u001b[0;34m\u001b[0m\u001b[0m\n\u001b[0;32m--> 947\u001b[0;31m       \u001b[0;32mreturn\u001b[0m \u001b[0mself\u001b[0m\u001b[0;34m.\u001b[0m\u001b[0m_stateless_fn\u001b[0m\u001b[0;34m(\u001b[0m\u001b[0;34m*\u001b[0m\u001b[0margs\u001b[0m\u001b[0;34m,\u001b[0m \u001b[0;34m**\u001b[0m\u001b[0mkwds\u001b[0m\u001b[0;34m)\u001b[0m  \u001b[0;31m# pylint: disable=not-callable\u001b[0m\u001b[0;34m\u001b[0m\u001b[0;34m\u001b[0m\u001b[0m\n\u001b[0m\u001b[1;32m    948\u001b[0m     \u001b[0;32melif\u001b[0m \u001b[0mself\u001b[0m\u001b[0;34m.\u001b[0m\u001b[0m_stateful_fn\u001b[0m \u001b[0;32mis\u001b[0m \u001b[0;32mnot\u001b[0m \u001b[0;32mNone\u001b[0m\u001b[0;34m:\u001b[0m\u001b[0;34m\u001b[0m\u001b[0;34m\u001b[0m\u001b[0m\n\u001b[1;32m    949\u001b[0m       \u001b[0;31m# Release the lock early so that multiple threads can perform the call\u001b[0m\u001b[0;34m\u001b[0m\u001b[0;34m\u001b[0m\u001b[0;34m\u001b[0m\u001b[0m\n",
      "\u001b[0;32m/usr/local/lib/python3.7/dist-packages/tensorflow/python/eager/function.py\u001b[0m in \u001b[0;36m__call__\u001b[0;34m(self, *args, **kwargs)\u001b[0m\n\u001b[1;32m   2955\u001b[0m        filtered_flat_args) = self._maybe_define_function(args, kwargs)\n\u001b[1;32m   2956\u001b[0m     return graph_function._call_flat(\n\u001b[0;32m-> 2957\u001b[0;31m         filtered_flat_args, captured_inputs=graph_function.captured_inputs)  # pylint: disable=protected-access\n\u001b[0m\u001b[1;32m   2958\u001b[0m \u001b[0;34m\u001b[0m\u001b[0m\n\u001b[1;32m   2959\u001b[0m   \u001b[0;34m@\u001b[0m\u001b[0mproperty\u001b[0m\u001b[0;34m\u001b[0m\u001b[0;34m\u001b[0m\u001b[0m\n",
      "\u001b[0;32m/usr/local/lib/python3.7/dist-packages/tensorflow/python/eager/function.py\u001b[0m in \u001b[0;36m_call_flat\u001b[0;34m(self, args, captured_inputs, cancellation_manager)\u001b[0m\n\u001b[1;32m   1852\u001b[0m       \u001b[0;31m# No tape is watching; skip to running the function.\u001b[0m\u001b[0;34m\u001b[0m\u001b[0;34m\u001b[0m\u001b[0;34m\u001b[0m\u001b[0m\n\u001b[1;32m   1853\u001b[0m       return self._build_call_outputs(self._inference_function.call(\n\u001b[0;32m-> 1854\u001b[0;31m           ctx, args, cancellation_manager=cancellation_manager))\n\u001b[0m\u001b[1;32m   1855\u001b[0m     forward_backward = self._select_forward_and_backward_functions(\n\u001b[1;32m   1856\u001b[0m         \u001b[0margs\u001b[0m\u001b[0;34m,\u001b[0m\u001b[0;34m\u001b[0m\u001b[0;34m\u001b[0m\u001b[0m\n",
      "\u001b[0;32m/usr/local/lib/python3.7/dist-packages/tensorflow/python/eager/function.py\u001b[0m in \u001b[0;36mcall\u001b[0;34m(self, ctx, args, cancellation_manager)\u001b[0m\n\u001b[1;32m    502\u001b[0m               \u001b[0minputs\u001b[0m\u001b[0;34m=\u001b[0m\u001b[0margs\u001b[0m\u001b[0;34m,\u001b[0m\u001b[0;34m\u001b[0m\u001b[0;34m\u001b[0m\u001b[0m\n\u001b[1;32m    503\u001b[0m               \u001b[0mattrs\u001b[0m\u001b[0;34m=\u001b[0m\u001b[0mattrs\u001b[0m\u001b[0;34m,\u001b[0m\u001b[0;34m\u001b[0m\u001b[0;34m\u001b[0m\u001b[0m\n\u001b[0;32m--> 504\u001b[0;31m               ctx=ctx)\n\u001b[0m\u001b[1;32m    505\u001b[0m         \u001b[0;32melse\u001b[0m\u001b[0;34m:\u001b[0m\u001b[0;34m\u001b[0m\u001b[0;34m\u001b[0m\u001b[0m\n\u001b[1;32m    506\u001b[0m           outputs = execute.execute_with_cancellation(\n",
      "\u001b[0;32m/usr/local/lib/python3.7/dist-packages/tensorflow/python/eager/execute.py\u001b[0m in \u001b[0;36mquick_execute\u001b[0;34m(op_name, num_outputs, inputs, attrs, ctx, name)\u001b[0m\n\u001b[1;32m     53\u001b[0m     \u001b[0mctx\u001b[0m\u001b[0;34m.\u001b[0m\u001b[0mensure_initialized\u001b[0m\u001b[0;34m(\u001b[0m\u001b[0;34m)\u001b[0m\u001b[0;34m\u001b[0m\u001b[0;34m\u001b[0m\u001b[0m\n\u001b[1;32m     54\u001b[0m     tensors = pywrap_tfe.TFE_Py_Execute(ctx._handle, device_name, op_name,\n\u001b[0;32m---> 55\u001b[0;31m                                         inputs, attrs, num_outputs)\n\u001b[0m\u001b[1;32m     56\u001b[0m   \u001b[0;32mexcept\u001b[0m \u001b[0mcore\u001b[0m\u001b[0;34m.\u001b[0m\u001b[0m_NotOkStatusException\u001b[0m \u001b[0;32mas\u001b[0m \u001b[0me\u001b[0m\u001b[0;34m:\u001b[0m\u001b[0;34m\u001b[0m\u001b[0;34m\u001b[0m\u001b[0m\n\u001b[1;32m     57\u001b[0m     \u001b[0;32mif\u001b[0m \u001b[0mname\u001b[0m \u001b[0;32mis\u001b[0m \u001b[0;32mnot\u001b[0m \u001b[0;32mNone\u001b[0m\u001b[0;34m:\u001b[0m\u001b[0;34m\u001b[0m\u001b[0;34m\u001b[0m\u001b[0m\n",
      "\u001b[0;31mKeyboardInterrupt\u001b[0m: "
     ]
    }
   ],
   "source": [
    "hist = nn.fit(train_generator, epochs=50, batch_size=batchsize, validation_data=test_generator, callbacks=[callback_checkpoint, reduce_lr_callback],\n",
    "              steps_per_epoch=steps_per_epoch, validation_steps=val_steps)"
   ]
  },
  {
   "cell_type": "code",
   "execution_count": 96,
   "metadata": {
    "colab": {
     "base_uri": "https://localhost:8080/",
     "height": 295
    },
    "id": "ouQvfH1K5N0y",
    "outputId": "534022bb-5f25-45a8-8e9e-ed4be7a6aaf8"
   },
   "outputs": [
    {
     "data": {
      "image/png": "[encoded data removed]",
      "text/plain": [
       "<Figure size 432x288 with 1 Axes>"
      ]
     },
     "metadata": {
      "needs_background": "light"
     },
     "output_type": "display_data"
    }
   ],
   "source": [
    "plot_history(hist)"
   ]
  },
  {
   "cell_type": "code",
   "execution_count": 98,
   "metadata": {
    "colab": {
     "base_uri": "https://localhost:8080/",
     "height": 666
    },
    "id": "V4nXRmyE5N0y",
    "outputId": "b3039e87-6726-45c4-c750-f194cb1a87d5"
   },
   "outputs": [
    {
     "data": {
      "image/png": "[encoded data removed]",
      "text/plain": [
       "<Figure size 432x288 with 1 Axes>"
      ]
     },
     "metadata": {
      "needs_background": "light"
     },
     "output_type": "display_data"
    },
    {
     "data": {
      "image/png": "[encoded data removed]",
      "text/plain": [
       "<Figure size 432x288 with 1 Axes>"
      ]
     },
     "metadata": {
      "needs_background": "light"
     },
     "output_type": "display_data"
    },
    {
     "data": {
      "image/png": "[encoded data removed]",
      "text/plain": [
       "<Figure size 432x288 with 1 Axes>"
      ]
     },
     "metadata": {
      "needs_background": "light"
     },
     "output_type": "display_data"
    }
   ],
   "source": [
    "x_batch, y_batch = next(test_generator)\n",
    "x = x_batch[0]  # Input\n",
    "y = y_batch[0]  # Ground truth\n",
    "y_pred = nn.predict(x.reshape((1,32,32)))  # Prediction\n",
    "\n",
    "plt.imshow(x,cmap='gray', interpolation='nearest')\n",
    "plt.show()\n",
    "plt.imshow(y, cmap='gray', interpolation='nearest')\n",
    "plt.show()\n",
    "plt.imshow(y_pred[0].reshape((32,64)), cmap='gray', interpolation='nearest')\n",
    "plt.show()"
   ]
  },
  {
   "cell_type": "markdown",
   "metadata": {
    "id": "Ssx9OZzGrV8A"
   },
   "source": [
    "No good"
   ]
  },
  {
   "cell_type": "markdown",
   "metadata": {
    "id": "sPNimy5eB_ZI"
   },
   "source": [
    "### Different number of batch iterations "
   ]
  },
  {
   "cell_type": "code",
   "execution_count": 116,
   "metadata": {
    "id": "K582zIRNB_Za"
   },
   "outputs": [],
   "source": [
    "from tensorflow.keras.layers import concatenate"
   ]
  },
  {
   "cell_type": "code",
   "execution_count": 117,
   "metadata": {
    "id": "G1H4KLhOB_Zb"
   },
   "outputs": [],
   "source": [
    "def build_cnn(input):\n",
    "  xin = input\n",
    "\n",
    "  xa = Conv2D(filters=16, kernel_size=3, strides=2, padding='same')(xin)\n",
    "  xb = Conv2D(filters=32, kernel_size=3, strides=2, padding='same')(xa)\n",
    "  xc = Conv2D(filters=64, kernel_size=3, strides=2, padding='same')(xb)\n",
    "  # 2*2*128=2048\n",
    "  x = Conv2D(filters=128, kernel_size=3, strides=2, padding='same')(xc)\n",
    "\n",
    "  y = Conv2DTranspose(filters=64, kernel_size=3, strides=2, padding='same')(x)\n",
    "  y = concatenate([y,xc])\n",
    "  y = Conv2DTranspose(filters=32, kernel_size=3, strides=2, padding='same')(y)\n",
    "  y = concatenate([y,xb])\n",
    "  y = Conv2DTranspose(filters=16, kernel_size=3, strides=2, padding='same')(y)\n",
    "  y = concatenate([y,xa])\n",
    "  y = Conv2DTranspose(filters=1, kernel_size=3, strides=2, padding='same', activation='sigmoid')(y)\n",
    "\n",
    "  return y"
   ]
  },
  {
   "cell_type": "code",
   "execution_count": 118,
   "metadata": {
    "id": "jSJwz6yfB_Zb"
   },
   "outputs": [],
   "source": [
    "# 32*32*1=1024\n",
    "xin = Input(shape=(w,h,1))\n",
    "\n",
    "x1 = build_cnn(input=xin)\n",
    "\n",
    "x2 = build_cnn(input=xin)\n",
    "\n",
    "# 32*64*1\n",
    "y = Concatenate(axis=2)([x1,x2])\n",
    "\n",
    "nn = Model(inputs=xin, outputs=y)"
   ]
  },
  {
   "cell_type": "code",
   "execution_count": 119,
   "metadata": {
    "colab": {
     "base_uri": "https://localhost:8080/"
    },
    "id": "pnFYMtZTB_Zb",
    "outputId": "bec482a0-d333-4005-afb7-47ad79aa45e3"
   },
   "outputs": [
    {
     "name": "stdout",
     "output_type": "stream",
     "text": [
      "Model: \"model_11\"\n",
      "__________________________________________________________________________________________________\n",
      " Layer (type)                   Output Shape         Param #     Connected to                     \n",
      "==================================================================================================\n",
      " input_14 (InputLayer)          [(None, 32, 32, 1)]  0           []                               \n",
      "                                                                                                  \n",
      " conv2d_55 (Conv2D)             (None, 16, 16, 16)   160         ['input_14[0][0]']               \n",
      "                                                                                                  \n",
      " conv2d_59 (Conv2D)             (None, 16, 16, 16)   160         ['input_14[0][0]']               \n",
      "                                                                                                  \n",
      " conv2d_56 (Conv2D)             (None, 8, 8, 32)     4640        ['conv2d_55[0][0]']              \n",
      "                                                                                                  \n",
      " conv2d_60 (Conv2D)             (None, 8, 8, 32)     4640        ['conv2d_59[0][0]']              \n",
      "                                                                                                  \n",
      " conv2d_57 (Conv2D)             (None, 4, 4, 64)     18496       ['conv2d_56[0][0]']              \n",
      "                                                                                                  \n",
      " conv2d_61 (Conv2D)             (None, 4, 4, 64)     18496       ['conv2d_60[0][0]']              \n",
      "                                                                                                  \n",
      " conv2d_58 (Conv2D)             (None, 2, 2, 128)    73856       ['conv2d_57[0][0]']              \n",
      "                                                                                                  \n",
      " conv2d_62 (Conv2D)             (None, 2, 2, 128)    73856       ['conv2d_61[0][0]']              \n",
      "                                                                                                  \n",
      " conv2d_transpose_98 (Conv2DTra  (None, 4, 4, 64)    73792       ['conv2d_58[0][0]']              \n",
      " nspose)                                                                                          \n",
      "                                                                                                  \n",
      " conv2d_transpose_102 (Conv2DTr  (None, 4, 4, 64)    73792       ['conv2d_62[0][0]']              \n",
      " anspose)                                                                                         \n",
      "                                                                                                  \n",
      " concatenate_41 (Concatenate)   (None, 4, 4, 128)    0           ['conv2d_transpose_98[0][0]',    \n",
      "                                                                  'conv2d_57[0][0]']              \n",
      "                                                                                                  \n",
      " concatenate_44 (Concatenate)   (None, 4, 4, 128)    0           ['conv2d_transpose_102[0][0]',   \n",
      "                                                                  'conv2d_61[0][0]']              \n",
      "                                                                                                  \n",
      " conv2d_transpose_99 (Conv2DTra  (None, 8, 8, 32)    36896       ['concatenate_41[0][0]']         \n",
      " nspose)                                                                                          \n",
      "                                                                                                  \n",
      " conv2d_transpose_103 (Conv2DTr  (None, 8, 8, 32)    36896       ['concatenate_44[0][0]']         \n",
      " anspose)                                                                                         \n",
      "                                                                                                  \n",
      " concatenate_42 (Concatenate)   (None, 8, 8, 64)     0           ['conv2d_transpose_99[0][0]',    \n",
      "                                                                  'conv2d_56[0][0]']              \n",
      "                                                                                                  \n",
      " concatenate_45 (Concatenate)   (None, 8, 8, 64)     0           ['conv2d_transpose_103[0][0]',   \n",
      "                                                                  'conv2d_60[0][0]']              \n",
      "                                                                                                  \n",
      " conv2d_transpose_100 (Conv2DTr  (None, 16, 16, 16)  9232        ['concatenate_42[0][0]']         \n",
      " anspose)                                                                                         \n",
      "                                                                                                  \n",
      " conv2d_transpose_104 (Conv2DTr  (None, 16, 16, 16)  9232        ['concatenate_45[0][0]']         \n",
      " anspose)                                                                                         \n",
      "                                                                                                  \n",
      " concatenate_43 (Concatenate)   (None, 16, 16, 32)   0           ['conv2d_transpose_100[0][0]',   \n",
      "                                                                  'conv2d_55[0][0]']              \n",
      "                                                                                                  \n",
      " concatenate_46 (Concatenate)   (None, 16, 16, 32)   0           ['conv2d_transpose_104[0][0]',   \n",
      "                                                                  'conv2d_59[0][0]']              \n",
      "                                                                                                  \n",
      " conv2d_transpose_101 (Conv2DTr  (None, 32, 32, 1)   289         ['concatenate_43[0][0]']         \n",
      " anspose)                                                                                         \n",
      "                                                                                                  \n",
      " conv2d_transpose_105 (Conv2DTr  (None, 32, 32, 1)   289         ['concatenate_46[0][0]']         \n",
      " anspose)                                                                                         \n",
      "                                                                                                  \n",
      " concatenate_47 (Concatenate)   (None, 32, 64, 1)    0           ['conv2d_transpose_101[0][0]',   \n",
      "                                                                  'conv2d_transpose_105[0][0]']   \n",
      "                                                                                                  \n",
      "==================================================================================================\n",
      "Total params: 434,722\n",
      "Trainable params: 434,722\n",
      "Non-trainable params: 0\n",
      "__________________________________________________________________________________________________\n"
     ]
    }
   ],
   "source": [
    "nn.summary()"
   ]
  },
  {
   "cell_type": "code",
   "execution_count": 120,
   "metadata": {
    "id": "UTa4leEkB_Zc"
   },
   "outputs": [],
   "source": [
    "from tensorflow.keras.optimizers import Adam"
   ]
  },
  {
   "cell_type": "code",
   "execution_count": 121,
   "metadata": {
    "id": "-73A95S7B_Zc"
   },
   "outputs": [],
   "source": [
    "nn.compile(optimizer=Adam(), loss='mse')"
   ]
  },
  {
   "cell_type": "code",
   "execution_count": 122,
   "metadata": {
    "id": "n8zZ8DfOB_Zd"
   },
   "outputs": [],
   "source": [
    "from tensorflow.keras.callbacks import ModelCheckpoint, ReduceLROnPlateau\n",
    "reduce_lr_callback = ReduceLROnPlateau(monitor='val_loss', min_lr=0.000009, min_delta=0.0001, factor=0.75, patience=3, verbose=1, mode='min')\n",
    "callback_checkpoint = ModelCheckpoint('CNN_improved5.{epoch:02d}-{val_loss:.4f}.hdf5', save_weights_only=True) "
   ]
  },
  {
   "cell_type": "code",
   "execution_count": 123,
   "metadata": {
    "id": "r2I7iDQeB_Zd"
   },
   "outputs": [],
   "source": [
    "steps_per_epoch = 1000\n",
    "val_steps = 1000"
   ]
  },
  {
   "cell_type": "code",
   "execution_count": null,
   "metadata": {
    "colab": {
     "base_uri": "https://localhost:8080/",
     "height": 588
    },
    "id": "3a_l-jfLB_Ze",
    "outputId": "167dcb2a-69b4-49fa-ef04-7d34e84be3e0"
   },
   "outputs": [
    {
     "name": "stdout",
     "output_type": "stream",
     "text": [
      "Epoch 1/50\n",
      "937/937 [==============================] - 11s 11ms/step - loss: 0.0547 - val_loss: 0.0498 - lr: 0.0010\n",
      "Epoch 2/50\n",
      "937/937 [==============================] - 10s 10ms/step - loss: 0.0486 - val_loss: 0.0492 - lr: 0.0010\n",
      "Epoch 3/50\n",
      "937/937 [==============================] - 10s 10ms/step - loss: 0.0480 - val_loss: 0.0490 - lr: 0.0010\n",
      "Epoch 4/50\n",
      "937/937 [==============================] - 10s 10ms/step - loss: 0.0477 - val_loss: 0.0483 - lr: 0.0010\n",
      "Epoch 5/50\n",
      "937/937 [==============================] - 10s 10ms/step - loss: 0.0476 - val_loss: 0.0480 - lr: 0.0010\n",
      "Epoch 6/50\n",
      "937/937 [==============================] - 10s 10ms/step - loss: 0.0475 - val_loss: 0.0481 - lr: 0.0010\n",
      "Epoch 7/50\n",
      "704/937 [=====================>........] - ETA: 2s - loss: 0.0474"
     ]
    },
    {
     "ename": "KeyboardInterrupt",
     "evalue": "ignored",
     "output_type": "error",
     "traceback": [
      "\u001b[0;31m---------------------------------------------------------------------------\u001b[0m",
      "\u001b[0;31mKeyboardInterrupt\u001b[0m                         Traceback (most recent call last)",
      "\u001b[0;32m<ipython-input-94-db28e3d20cc5>\u001b[0m in \u001b[0;36m<module>\u001b[0;34m()\u001b[0m\n\u001b[1;32m      1\u001b[0m hist = nn.fit(train_generator, epochs=50, batch_size=batchsize, validation_data=test_generator, callbacks=[callback_checkpoint, reduce_lr_callback],\n\u001b[0;32m----> 2\u001b[0;31m               steps_per_epoch=steps_per_epoch, validation_steps=val_steps)\n\u001b[0m",
      "\u001b[0;32m/usr/local/lib/python3.7/dist-packages/keras/utils/traceback_utils.py\u001b[0m in \u001b[0;36merror_handler\u001b[0;34m(*args, **kwargs)\u001b[0m\n\u001b[1;32m     62\u001b[0m     \u001b[0mfiltered_tb\u001b[0m \u001b[0;34m=\u001b[0m \u001b[0;32mNone\u001b[0m\u001b[0;34m\u001b[0m\u001b[0;34m\u001b[0m\u001b[0m\n\u001b[1;32m     63\u001b[0m     \u001b[0;32mtry\u001b[0m\u001b[0;34m:\u001b[0m\u001b[0;34m\u001b[0m\u001b[0;34m\u001b[0m\u001b[0m\n\u001b[0;32m---> 64\u001b[0;31m       \u001b[0;32mreturn\u001b[0m \u001b[0mfn\u001b[0m\u001b[0;34m(\u001b[0m\u001b[0;34m*\u001b[0m\u001b[0margs\u001b[0m\u001b[0;34m,\u001b[0m \u001b[0;34m**\u001b[0m\u001b[0mkwargs\u001b[0m\u001b[0;34m)\u001b[0m\u001b[0;34m\u001b[0m\u001b[0;34m\u001b[0m\u001b[0m\n\u001b[0m\u001b[1;32m     65\u001b[0m     \u001b[0;32mexcept\u001b[0m \u001b[0mException\u001b[0m \u001b[0;32mas\u001b[0m \u001b[0me\u001b[0m\u001b[0;34m:\u001b[0m  \u001b[0;31m# pylint: disable=broad-except\u001b[0m\u001b[0;34m\u001b[0m\u001b[0;34m\u001b[0m\u001b[0m\n\u001b[1;32m     66\u001b[0m       \u001b[0mfiltered_tb\u001b[0m \u001b[0;34m=\u001b[0m \u001b[0m_process_traceback_frames\u001b[0m\u001b[0;34m(\u001b[0m\u001b[0me\u001b[0m\u001b[0;34m.\u001b[0m\u001b[0m__traceback__\u001b[0m\u001b[0;34m)\u001b[0m\u001b[0;34m\u001b[0m\u001b[0;34m\u001b[0m\u001b[0m\n",
      "\u001b[0;32m/usr/local/lib/python3.7/dist-packages/keras/engine/training.py\u001b[0m in \u001b[0;36mfit\u001b[0;34m(self, x, y, batch_size, epochs, verbose, callbacks, validation_split, validation_data, shuffle, class_weight, sample_weight, initial_epoch, steps_per_epoch, validation_steps, validation_batch_size, validation_freq, max_queue_size, workers, use_multiprocessing)\u001b[0m\n\u001b[1;32m   1382\u001b[0m                 _r=1):\n\u001b[1;32m   1383\u001b[0m               \u001b[0mcallbacks\u001b[0m\u001b[0;34m.\u001b[0m\u001b[0mon_train_batch_begin\u001b[0m\u001b[0;34m(\u001b[0m\u001b[0mstep\u001b[0m\u001b[0;34m)\u001b[0m\u001b[0;34m\u001b[0m\u001b[0;34m\u001b[0m\u001b[0m\n\u001b[0;32m-> 1384\u001b[0;31m               \u001b[0mtmp_logs\u001b[0m \u001b[0;34m=\u001b[0m \u001b[0mself\u001b[0m\u001b[0;34m.\u001b[0m\u001b[0mtrain_function\u001b[0m\u001b[0;34m(\u001b[0m\u001b[0miterator\u001b[0m\u001b[0;34m)\u001b[0m\u001b[0;34m\u001b[0m\u001b[0;34m\u001b[0m\u001b[0m\n\u001b[0m\u001b[1;32m   1385\u001b[0m               \u001b[0;32mif\u001b[0m \u001b[0mdata_handler\u001b[0m\u001b[0;34m.\u001b[0m\u001b[0mshould_sync\u001b[0m\u001b[0;34m:\u001b[0m\u001b[0;34m\u001b[0m\u001b[0;34m\u001b[0m\u001b[0m\n\u001b[1;32m   1386\u001b[0m                 \u001b[0mcontext\u001b[0m\u001b[0;34m.\u001b[0m\u001b[0masync_wait\u001b[0m\u001b[0;34m(\u001b[0m\u001b[0;34m)\u001b[0m\u001b[0;34m\u001b[0m\u001b[0;34m\u001b[0m\u001b[0m\n",
      "\u001b[0;32m/usr/local/lib/python3.7/dist-packages/tensorflow/python/util/traceback_utils.py\u001b[0m in \u001b[0;36merror_handler\u001b[0;34m(*args, **kwargs)\u001b[0m\n\u001b[1;32m    148\u001b[0m     \u001b[0mfiltered_tb\u001b[0m \u001b[0;34m=\u001b[0m \u001b[0;32mNone\u001b[0m\u001b[0;34m\u001b[0m\u001b[0;34m\u001b[0m\u001b[0m\n\u001b[1;32m    149\u001b[0m     \u001b[0;32mtry\u001b[0m\u001b[0;34m:\u001b[0m\u001b[0;34m\u001b[0m\u001b[0;34m\u001b[0m\u001b[0m\n\u001b[0;32m--> 150\u001b[0;31m       \u001b[0;32mreturn\u001b[0m \u001b[0mfn\u001b[0m\u001b[0;34m(\u001b[0m\u001b[0;34m*\u001b[0m\u001b[0margs\u001b[0m\u001b[0;34m,\u001b[0m \u001b[0;34m**\u001b[0m\u001b[0mkwargs\u001b[0m\u001b[0;34m)\u001b[0m\u001b[0;34m\u001b[0m\u001b[0;34m\u001b[0m\u001b[0m\n\u001b[0m\u001b[1;32m    151\u001b[0m     \u001b[0;32mexcept\u001b[0m \u001b[0mException\u001b[0m \u001b[0;32mas\u001b[0m \u001b[0me\u001b[0m\u001b[0;34m:\u001b[0m\u001b[0;34m\u001b[0m\u001b[0;34m\u001b[0m\u001b[0m\n\u001b[1;32m    152\u001b[0m       \u001b[0mfiltered_tb\u001b[0m \u001b[0;34m=\u001b[0m \u001b[0m_process_traceback_frames\u001b[0m\u001b[0;34m(\u001b[0m\u001b[0me\u001b[0m\u001b[0;34m.\u001b[0m\u001b[0m__traceback__\u001b[0m\u001b[0;34m)\u001b[0m\u001b[0;34m\u001b[0m\u001b[0;34m\u001b[0m\u001b[0m\n",
      "\u001b[0;32m/usr/local/lib/python3.7/dist-packages/tensorflow/python/eager/def_function.py\u001b[0m in \u001b[0;36m__call__\u001b[0;34m(self, *args, **kwds)\u001b[0m\n\u001b[1;32m    913\u001b[0m \u001b[0;34m\u001b[0m\u001b[0m\n\u001b[1;32m    914\u001b[0m       \u001b[0;32mwith\u001b[0m \u001b[0mOptionalXlaContext\u001b[0m\u001b[0;34m(\u001b[0m\u001b[0mself\u001b[0m\u001b[0;34m.\u001b[0m\u001b[0m_jit_compile\u001b[0m\u001b[0;34m)\u001b[0m\u001b[0;34m:\u001b[0m\u001b[0;34m\u001b[0m\u001b[0;34m\u001b[0m\u001b[0m\n\u001b[0;32m--> 915\u001b[0;31m         \u001b[0mresult\u001b[0m \u001b[0;34m=\u001b[0m \u001b[0mself\u001b[0m\u001b[0;34m.\u001b[0m\u001b[0m_call\u001b[0m\u001b[0;34m(\u001b[0m\u001b[0;34m*\u001b[0m\u001b[0margs\u001b[0m\u001b[0;34m,\u001b[0m \u001b[0;34m**\u001b[0m\u001b[0mkwds\u001b[0m\u001b[0;34m)\u001b[0m\u001b[0;34m\u001b[0m\u001b[0;34m\u001b[0m\u001b[0m\n\u001b[0m\u001b[1;32m    916\u001b[0m \u001b[0;34m\u001b[0m\u001b[0m\n\u001b[1;32m    917\u001b[0m       \u001b[0mnew_tracing_count\u001b[0m \u001b[0;34m=\u001b[0m \u001b[0mself\u001b[0m\u001b[0;34m.\u001b[0m\u001b[0mexperimental_get_tracing_count\u001b[0m\u001b[0;34m(\u001b[0m\u001b[0;34m)\u001b[0m\u001b[0;34m\u001b[0m\u001b[0;34m\u001b[0m\u001b[0m\n",
      "\u001b[0;32m/usr/local/lib/python3.7/dist-packages/tensorflow/python/eager/def_function.py\u001b[0m in \u001b[0;36m_call\u001b[0;34m(self, *args, **kwds)\u001b[0m\n\u001b[1;32m    945\u001b[0m       \u001b[0;31m# In this case we have created variables on the first call, so we run the\u001b[0m\u001b[0;34m\u001b[0m\u001b[0;34m\u001b[0m\u001b[0;34m\u001b[0m\u001b[0m\n\u001b[1;32m    946\u001b[0m       \u001b[0;31m# defunned version which is guaranteed to never create variables.\u001b[0m\u001b[0;34m\u001b[0m\u001b[0;34m\u001b[0m\u001b[0;34m\u001b[0m\u001b[0m\n\u001b[0;32m--> 947\u001b[0;31m       \u001b[0;32mreturn\u001b[0m \u001b[0mself\u001b[0m\u001b[0;34m.\u001b[0m\u001b[0m_stateless_fn\u001b[0m\u001b[0;34m(\u001b[0m\u001b[0;34m*\u001b[0m\u001b[0margs\u001b[0m\u001b[0;34m,\u001b[0m \u001b[0;34m**\u001b[0m\u001b[0mkwds\u001b[0m\u001b[0;34m)\u001b[0m  \u001b[0;31m# pylint: disable=not-callable\u001b[0m\u001b[0;34m\u001b[0m\u001b[0;34m\u001b[0m\u001b[0m\n\u001b[0m\u001b[1;32m    948\u001b[0m     \u001b[0;32melif\u001b[0m \u001b[0mself\u001b[0m\u001b[0;34m.\u001b[0m\u001b[0m_stateful_fn\u001b[0m \u001b[0;32mis\u001b[0m \u001b[0;32mnot\u001b[0m \u001b[0;32mNone\u001b[0m\u001b[0;34m:\u001b[0m\u001b[0;34m\u001b[0m\u001b[0;34m\u001b[0m\u001b[0m\n\u001b[1;32m    949\u001b[0m       \u001b[0;31m# Release the lock early so that multiple threads can perform the call\u001b[0m\u001b[0;34m\u001b[0m\u001b[0;34m\u001b[0m\u001b[0;34m\u001b[0m\u001b[0m\n",
      "\u001b[0;32m/usr/local/lib/python3.7/dist-packages/tensorflow/python/eager/function.py\u001b[0m in \u001b[0;36m__call__\u001b[0;34m(self, *args, **kwargs)\u001b[0m\n\u001b[1;32m   2955\u001b[0m        filtered_flat_args) = self._maybe_define_function(args, kwargs)\n\u001b[1;32m   2956\u001b[0m     return graph_function._call_flat(\n\u001b[0;32m-> 2957\u001b[0;31m         filtered_flat_args, captured_inputs=graph_function.captured_inputs)  # pylint: disable=protected-access\n\u001b[0m\u001b[1;32m   2958\u001b[0m \u001b[0;34m\u001b[0m\u001b[0m\n\u001b[1;32m   2959\u001b[0m   \u001b[0;34m@\u001b[0m\u001b[0mproperty\u001b[0m\u001b[0;34m\u001b[0m\u001b[0;34m\u001b[0m\u001b[0m\n",
      "\u001b[0;32m/usr/local/lib/python3.7/dist-packages/tensorflow/python/eager/function.py\u001b[0m in \u001b[0;36m_call_flat\u001b[0;34m(self, args, captured_inputs, cancellation_manager)\u001b[0m\n\u001b[1;32m   1852\u001b[0m       \u001b[0;31m# No tape is watching; skip to running the function.\u001b[0m\u001b[0;34m\u001b[0m\u001b[0;34m\u001b[0m\u001b[0;34m\u001b[0m\u001b[0m\n\u001b[1;32m   1853\u001b[0m       return self._build_call_outputs(self._inference_function.call(\n\u001b[0;32m-> 1854\u001b[0;31m           ctx, args, cancellation_manager=cancellation_manager))\n\u001b[0m\u001b[1;32m   1855\u001b[0m     forward_backward = self._select_forward_and_backward_functions(\n\u001b[1;32m   1856\u001b[0m         \u001b[0margs\u001b[0m\u001b[0;34m,\u001b[0m\u001b[0;34m\u001b[0m\u001b[0;34m\u001b[0m\u001b[0m\n",
      "\u001b[0;32m/usr/local/lib/python3.7/dist-packages/tensorflow/python/eager/function.py\u001b[0m in \u001b[0;36mcall\u001b[0;34m(self, ctx, args, cancellation_manager)\u001b[0m\n\u001b[1;32m    502\u001b[0m               \u001b[0minputs\u001b[0m\u001b[0;34m=\u001b[0m\u001b[0margs\u001b[0m\u001b[0;34m,\u001b[0m\u001b[0;34m\u001b[0m\u001b[0;34m\u001b[0m\u001b[0m\n\u001b[1;32m    503\u001b[0m               \u001b[0mattrs\u001b[0m\u001b[0;34m=\u001b[0m\u001b[0mattrs\u001b[0m\u001b[0;34m,\u001b[0m\u001b[0;34m\u001b[0m\u001b[0;34m\u001b[0m\u001b[0m\n\u001b[0;32m--> 504\u001b[0;31m               ctx=ctx)\n\u001b[0m\u001b[1;32m    505\u001b[0m         \u001b[0;32melse\u001b[0m\u001b[0;34m:\u001b[0m\u001b[0;34m\u001b[0m\u001b[0;34m\u001b[0m\u001b[0m\n\u001b[1;32m    506\u001b[0m           outputs = execute.execute_with_cancellation(\n",
      "\u001b[0;32m/usr/local/lib/python3.7/dist-packages/tensorflow/python/eager/execute.py\u001b[0m in \u001b[0;36mquick_execute\u001b[0;34m(op_name, num_outputs, inputs, attrs, ctx, name)\u001b[0m\n\u001b[1;32m     53\u001b[0m     \u001b[0mctx\u001b[0m\u001b[0;34m.\u001b[0m\u001b[0mensure_initialized\u001b[0m\u001b[0;34m(\u001b[0m\u001b[0;34m)\u001b[0m\u001b[0;34m\u001b[0m\u001b[0;34m\u001b[0m\u001b[0m\n\u001b[1;32m     54\u001b[0m     tensors = pywrap_tfe.TFE_Py_Execute(ctx._handle, device_name, op_name,\n\u001b[0;32m---> 55\u001b[0;31m                                         inputs, attrs, num_outputs)\n\u001b[0m\u001b[1;32m     56\u001b[0m   \u001b[0;32mexcept\u001b[0m \u001b[0mcore\u001b[0m\u001b[0;34m.\u001b[0m\u001b[0m_NotOkStatusException\u001b[0m \u001b[0;32mas\u001b[0m \u001b[0me\u001b[0m\u001b[0;34m:\u001b[0m\u001b[0;34m\u001b[0m\u001b[0;34m\u001b[0m\u001b[0m\n\u001b[1;32m     57\u001b[0m     \u001b[0;32mif\u001b[0m \u001b[0mname\u001b[0m \u001b[0;32mis\u001b[0m \u001b[0;32mnot\u001b[0m \u001b[0;32mNone\u001b[0m\u001b[0;34m:\u001b[0m\u001b[0;34m\u001b[0m\u001b[0;34m\u001b[0m\u001b[0m\n",
      "\u001b[0;31mKeyboardInterrupt\u001b[0m: "
     ]
    }
   ],
   "source": [
    "hist = nn.fit(train_generator, epochs=50, batch_size=batchsize, validation_data=test_generator, callbacks=[callback_checkpoint, reduce_lr_callback],\n",
    "              steps_per_epoch=steps_per_epoch, validation_steps=val_steps)"
   ]
  },
  {
   "cell_type": "code",
   "execution_count": null,
   "metadata": {
    "id": "g90XaLMuB_Ze"
   },
   "outputs": [],
   "source": [
    "import matplotlib.pyplot as plt\n",
    "def plot_history(training_history, n_epochs=None):\n",
    "    if not n_epochs:\n",
    "      n_epochs = len(training_history.history['loss'])\n",
    "\n",
    "    epochs = range(1,n_epochs+1)\n",
    "\n",
    "    plt.plot(epochs, training_history.history['loss'], label='train_loss')\n",
    "    plt.plot(epochs, training_history.history['val_loss'], label='val_loss')\n",
    "    plt.legend()\n",
    "    plt.grid()\n",
    "    plt.xlabel('Number of epochs')\n",
    "    plt.title('Loss')"
   ]
  },
  {
   "cell_type": "code",
   "execution_count": null,
   "metadata": {
    "colab": {
     "base_uri": "https://localhost:8080/",
     "height": 295
    },
    "id": "16lCxXrYB_Ze",
    "outputId": "534022bb-5f25-45a8-8e9e-ed4be7a6aaf8"
   },
   "outputs": [
    {
     "data": {
      "image/png": "[encoded data removed]",
      "text/plain": [
       "<Figure size 432x288 with 1 Axes>"
      ]
     },
     "metadata": {
      "needs_background": "light"
     },
     "output_type": "display_data"
    }
   ],
   "source": [
    "plot_history(hist)"
   ]
  },
  {
   "cell_type": "code",
   "execution_count": null,
   "metadata": {
    "colab": {
     "base_uri": "https://localhost:8080/",
     "height": 721
    },
    "id": "XgJ3PJTCB_Zf",
    "outputId": "f5ea210f-299d-49e7-d29d-d1f39ebd80d7"
   },
   "outputs": [
    {
     "name": "stdout",
     "output_type": "stream",
     "text": [
      "WARNING:tensorflow:5 out of the last 14 calls to <function Model.make_predict_function.<locals>.predict_function at 0x7f3ccca6f830> triggered tf.function retracing. Tracing is expensive and the excessive number of tracings could be due to (1) creating @tf.function repeatedly in a loop, (2) passing tensors with different shapes, (3) passing Python objects instead of tensors. For (1), please define your @tf.function outside of the loop. For (2), @tf.function has experimental_relax_shapes=True option that relaxes argument shapes that can avoid unnecessary retracing. For (3), please refer to https://www.tensorflow.org/guide/function#controlling_retracing and https://www.tensorflow.org/api_docs/python/tf/function for  more details.\n"
     ]
    },
    {
     "name": "stderr",
     "output_type": "stream",
     "text": [
      "WARNING:tensorflow:5 out of the last 14 calls to <function Model.make_predict_function.<locals>.predict_function at 0x7f3ccca6f830> triggered tf.function retracing. Tracing is expensive and the excessive number of tracings could be due to (1) creating @tf.function repeatedly in a loop, (2) passing tensors with different shapes, (3) passing Python objects instead of tensors. For (1), please define your @tf.function outside of the loop. For (2), @tf.function has experimental_relax_shapes=True option that relaxes argument shapes that can avoid unnecessary retracing. For (3), please refer to https://www.tensorflow.org/guide/function#controlling_retracing and https://www.tensorflow.org/api_docs/python/tf/function for  more details.\n"
     ]
    },
    {
     "data": {
      "image/png": "[encoded data removed]",
      "text/plain": [
       "<Figure size 432x288 with 1 Axes>"
      ]
     },
     "metadata": {
      "needs_background": "light"
     },
     "output_type": "display_data"
    },
    {
     "data": {
      "image/png": "[encoded data removed]",
      "text/plain": [
       "<Figure size 432x288 with 1 Axes>"
      ]
     },
     "metadata": {
      "needs_background": "light"
     },
     "output_type": "display_data"
    },
    {
     "data": {
      "image/png": "[encoded data removed]",
      "text/plain": [
       "<Figure size 432x288 with 1 Axes>"
      ]
     },
     "metadata": {
      "needs_background": "light"
     },
     "output_type": "display_data"
    }
   ],
   "source": [
    "x_batch, y_batch = next(test_generator)\n",
    "x = x_batch[0]\n",
    "y = y_batch[0]\n",
    "y_pred = nn.predict(x.reshape((1,32,32)))\n",
    "plt.imshow(x,cmap='gray', interpolation='nearest')\n",
    "plt.show()\n",
    "plt.imshow(y, cmap='gray', interpolation='nearest')\n",
    "plt.show()\n",
    "plt.imshow(y_pred[0].reshape((32,64)), cmap='gray', interpolation='nearest')\n",
    "plt.show()"
   ]
  }
 ],
 "metadata": {
  "accelerator": "GPU",
  "colab": {
   "collapsed_sections": [],
   "name": "2 Convolutional Autoencoder improved",
   "provenance": []
  },
  "gpuClass": "standard",
  "kernelspec": {
   "display_name": "Python 3",
   "language": "python",
   "name": "python3"
  },
  "language_info": {
   "codemirror_mode": {
    "name": "ipython",
    "version": 3
   },
   "file_extension": ".py",
   "mimetype": "text/x-python",
   "name": "python",
   "nbconvert_exporter": "python",
   "pygments_lexer": "ipython3",
   "version": "3.8.8"
  }
 },
 "nbformat": 4,
 "nbformat_minor": 1
}
