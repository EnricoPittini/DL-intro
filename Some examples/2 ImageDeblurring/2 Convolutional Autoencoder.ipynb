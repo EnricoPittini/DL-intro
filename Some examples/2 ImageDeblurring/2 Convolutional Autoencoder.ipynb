{
  "nbformat": 4,
  "nbformat_minor": 0,
  "metadata": {
    "colab": {
      "name": "2 Convolutional Autoencoder",
      "provenance": [],
      "collapsed_sections": []
    },
    "kernelspec": {
      "name": "python3",
      "display_name": "Python 3"
    },
    "language_info": {
      "name": "python"
    }
  },
  "cells": [
    {
      "cell_type": "markdown",
      "source": [
        "## DATASET"
      ],
      "metadata": {
        "id": "L166tKhOKzPQ"
      }
    },
    {
      "cell_type": "code",
      "execution_count": 4,
      "metadata": {
        "id": "HyDgz5KwbJR3"
      },
      "outputs": [],
      "source": [
        "from dataset_creation import getDataset\n",
        "import matplotlib.pyplot as plt\n",
        "import numpy as np"
      ]
    },
    {
      "cell_type": "code",
      "source": [
        "(x_train_blurred, x_train), (x_test_blurred, x_test)  = getDataset()"
      ],
      "metadata": {
        "id": "PUvabL9ngq6k"
      },
      "execution_count": null,
      "outputs": []
    },
    {
      "cell_type": "markdown",
      "source": [
        "Resolution $32*32$"
      ],
      "metadata": {
        "id": "uxBWqXNIhzhS"
      }
    },
    {
      "cell_type": "code",
      "source": [
        "x_train.shape"
      ],
      "metadata": {
        "colab": {
          "base_uri": "https://localhost:8080/"
        },
        "id": "nu2Am3A9hvdS",
        "outputId": "d4c6305f-0c19-4911-98b2-a8c001e11b3a"
      },
      "execution_count": 6,
      "outputs": [
        {
          "output_type": "execute_result",
          "data": {
            "text/plain": [
              "(50000, 32, 32, 3)"
            ]
          },
          "metadata": {},
          "execution_count": 6
        }
      ]
    },
    {
      "cell_type": "code",
      "source": [
        "# The dataset is already normalized\n",
        "x_train[0].min(), x_train[0].max()"
      ],
      "metadata": {
        "colab": {
          "base_uri": "https://localhost:8080/"
        },
        "id": "bwspKPVlskuW",
        "outputId": "9b241f3c-8883-4e67-cab0-303658c16ecf"
      },
      "execution_count": null,
      "outputs": [
        {
          "output_type": "execute_result",
          "data": {
            "text/plain": [
              "(0.0, 1.0)"
            ]
          },
          "metadata": {},
          "execution_count": 14
        }
      ]
    },
    {
      "cell_type": "markdown",
      "source": [
        "Let's see some examples"
      ],
      "metadata": {
        "id": "-KimYowyLClK"
      }
    },
    {
      "cell_type": "code",
      "source": [
        "plt.imshow(x_train[0])"
      ],
      "metadata": {
        "colab": {
          "base_uri": "https://localhost:8080/",
          "height": 283
        },
        "id": "KWFYkwJUgq9L",
        "outputId": "e7d5f203-64be-468a-f93b-8797b1499f35"
      },
      "execution_count": 7,
      "outputs": [
        {
          "output_type": "execute_result",
          "data": {
            "text/plain": [
              "<matplotlib.image.AxesImage at 0x7f985d581c90>"
            ]
          },
          "metadata": {},
          "execution_count": 7
        },
        {
          "output_type": "display_data",
          "data": {
            "text/plain": [
              "<Figure size 432x288 with 1 Axes>"
            ],
            "image/png": "[encoded data removed]"
          },
          "metadata": {
            "needs_background": "light"
          }
        }
      ]
    },
    {
      "cell_type": "code",
      "source": [
        "plt.imshow(x_train_blurred[0])"
      ],
      "metadata": {
        "colab": {
          "base_uri": "https://localhost:8080/",
          "height": 283
        },
        "id": "AYai94P_hf9o",
        "outputId": "b448a754-1b0f-45cd-e919-7590511f86c6"
      },
      "execution_count": 8,
      "outputs": [
        {
          "output_type": "execute_result",
          "data": {
            "text/plain": [
              "<matplotlib.image.AxesImage at 0x7f985d22ee90>"
            ]
          },
          "metadata": {},
          "execution_count": 8
        },
        {
          "output_type": "display_data",
          "data": {
            "text/plain": [
              "<Figure size 432x288 with 1 Axes>"
            ],
            "image/png": "[encoded data removed]"
          },
          "metadata": {
            "needs_background": "light"
          }
        }
      ]
    },
    {
      "cell_type": "code",
      "source": [
        "plt.imshow(x_train[1])"
      ],
      "metadata": {
        "colab": {
          "base_uri": "https://localhost:8080/",
          "height": 283
        },
        "outputId": "a2cceae9-122f-471d-9464-3353ea8922fc",
        "id": "rJOzmNNshpmD"
      },
      "execution_count": null,
      "outputs": [
        {
          "output_type": "execute_result",
          "data": {
            "text/plain": [
              "<matplotlib.image.AxesImage at 0x7fa047ad4510>"
            ]
          },
          "metadata": {},
          "execution_count": 7
        },
        {
          "output_type": "display_data",
          "data": {
            "text/plain": [
              "<Figure size 432x288 with 1 Axes>"
            ],
            "image/png": "[encoded data removed]"
          },
          "metadata": {
            "needs_background": "light"
          }
        }
      ]
    },
    {
      "cell_type": "code",
      "source": [
        "plt.imshow(x_train_blurred[1])"
      ],
      "metadata": {
        "colab": {
          "base_uri": "https://localhost:8080/",
          "height": 283
        },
        "outputId": "75263a34-e8fa-4c36-89ef-c925475d03bb",
        "id": "snAsX_Z3hpmU"
      },
      "execution_count": null,
      "outputs": [
        {
          "output_type": "execute_result",
          "data": {
            "text/plain": [
              "<matplotlib.image.AxesImage at 0x7fa047a42810>"
            ]
          },
          "metadata": {},
          "execution_count": 8
        },
        {
          "output_type": "display_data",
          "data": {
            "text/plain": [
              "<Figure size 432x288 with 1 Axes>"
            ],
            "image/png": "[encoded data removed]"
          },
          "metadata": {
            "needs_background": "light"
          }
        }
      ]
    },
    {
      "cell_type": "markdown",
      "source": [
        "## MODEL"
      ],
      "metadata": {
        "id": "juMTnay4LE9O"
      }
    },
    {
      "cell_type": "code",
      "source": [
        "from tensorflow.keras.layers import Input, Conv2D, Conv2DTranspose\n",
        "from tensorflow.keras import Model"
      ],
      "metadata": {
        "id": "M0iWVYp6htdH"
      },
      "execution_count": 10,
      "outputs": []
    },
    {
      "cell_type": "code",
      "source": [
        "# 32*32*3 = 3072\n",
        "xin = Input(shape=(32,32,3))\n",
        "\n",
        "x = Conv2D(filters=16, kernel_size=3, strides=2, padding='same')(xin)\n",
        "\n",
        "x = Conv2D(filters=32, kernel_size=3, strides=2, padding='same')(x)\n",
        "\n",
        "# 4*4*64 = 576. This is the encoding.\n",
        "x = Conv2D(filters=64, kernel_size=3, strides=2, padding='same')(x)\n",
        "\n",
        "#x = Conv2D(filters=128, kernel_size=3, strides=2, padding='valid')(x)\n",
        "\n",
        "#x = Conv2DTranspose(filters=64, kernel_size=3, strides=2, padding='valid')(x)\n",
        "\n",
        "x = Conv2DTranspose(filters=32, kernel_size=3, strides=2, padding='same')(x)\n",
        "\n",
        "x = Conv2DTranspose(filters=16, kernel_size=3, strides=2, padding='same')(x)\n",
        "\n",
        "y = Conv2DTranspose(filters=3, kernel_size=3, strides=2, padding='same', activation='sigmoid')(x)\n",
        "\n",
        "model = Model(inputs=xin, outputs=y)"
      ],
      "metadata": {
        "id": "Hh5JzMcyiHRj"
      },
      "execution_count": 31,
      "outputs": []
    },
    {
      "cell_type": "code",
      "source": [
        "model.summary()"
      ],
      "metadata": {
        "colab": {
          "base_uri": "https://localhost:8080/"
        },
        "id": "5OpZmhaVjYI-",
        "outputId": "75829f6e-6eb8-44cb-9ffd-fd80fd97408d"
      },
      "execution_count": 26,
      "outputs": [
        {
          "output_type": "stream",
          "name": "stdout",
          "text": [
            "Model: \"model_4\"\n",
            "_________________________________________________________________\n",
            " Layer (type)                Output Shape              Param #   \n",
            "=================================================================\n",
            " input_7 (InputLayer)        [(None, 32, 32, 3)]       0         \n",
            "                                                                 \n",
            " conv2d_21 (Conv2D)          (None, 16, 16, 16)        448       \n",
            "                                                                 \n",
            " conv2d_22 (Conv2D)          (None, 8, 8, 32)          4640      \n",
            "                                                                 \n",
            " conv2d_23 (Conv2D)          (None, 4, 4, 64)          18496     \n",
            "                                                                 \n",
            " conv2d_transpose_13 (Conv2D  (None, 8, 8, 32)         18464     \n",
            " Transpose)                                                      \n",
            "                                                                 \n",
            " conv2d_transpose_14 (Conv2D  (None, 16, 16, 16)       4624      \n",
            " Transpose)                                                      \n",
            "                                                                 \n",
            " conv2d_transpose_15 (Conv2D  (None, 32, 32, 3)        435       \n",
            " Transpose)                                                      \n",
            "                                                                 \n",
            "=================================================================\n",
            "Total params: 47,107\n",
            "Trainable params: 47,107\n",
            "Non-trainable params: 0\n",
            "_________________________________________________________________\n"
          ]
        }
      ]
    },
    {
      "cell_type": "markdown",
      "source": [
        "## TRAINING"
      ],
      "metadata": {
        "id": "PwnOZrU9LPhh"
      }
    },
    {
      "cell_type": "code",
      "source": [
        "from tensorflow.keras.optimizers import Adam"
      ],
      "metadata": {
        "id": "u9R_VPWwkctR"
      },
      "execution_count": 27,
      "outputs": []
    },
    {
      "cell_type": "code",
      "source": [
        "model.compile(optimizer=Adam(), loss='mse')"
      ],
      "metadata": {
        "id": "KTnadHZkkZsR"
      },
      "execution_count": 32,
      "outputs": []
    },
    {
      "cell_type": "code",
      "source": [
        "from tensorflow.keras.callbacks import ModelCheckpoint\n",
        "\n",
        "callback_checkpoint = ModelCheckpoint('ConvAutoencoder.{epoch:02d}-{val_loss:.4f}.hdf5', save_weights_only=True) "
      ],
      "metadata": {
        "id": "u5xAyIN_k3iT"
      },
      "execution_count": 33,
      "outputs": []
    },
    {
      "cell_type": "code",
      "source": [
        "hist = model.fit(x_train_blurred, x_train, epochs=15, validation_split=0.2, callbacks=[callback_checkpoint])"
      ],
      "metadata": {
        "colab": {
          "base_uri": "https://localhost:8080/"
        },
        "id": "_7QF9Vn4k3n6",
        "outputId": "84ecee9d-76bf-47bf-dccf-88836a134ad4"
      },
      "execution_count": 34,
      "outputs": [
        {
          "output_type": "stream",
          "name": "stdout",
          "text": [
            "Epoch 1/15\n",
            "1250/1250 [==============================] - 28s 22ms/step - loss: 0.0093 - val_loss: 0.0053\n",
            "Epoch 2/15\n",
            "1250/1250 [==============================] - 28s 22ms/step - loss: 0.0051 - val_loss: 0.0048\n",
            "Epoch 3/15\n",
            "1250/1250 [==============================] - 28s 22ms/step - loss: 0.0047 - val_loss: 0.0046\n",
            "Epoch 4/15\n",
            "1250/1250 [==============================] - 28s 22ms/step - loss: 0.0045 - val_loss: 0.0044\n",
            "Epoch 5/15\n",
            "1250/1250 [==============================] - 29s 23ms/step - loss: 0.0044 - val_loss: 0.0043\n",
            "Epoch 6/15\n",
            "1250/1250 [==============================] - 28s 22ms/step - loss: 0.0043 - val_loss: 0.0043\n",
            "Epoch 7/15\n",
            "1250/1250 [==============================] - 28s 22ms/step - loss: 0.0043 - val_loss: 0.0042\n",
            "Epoch 8/15\n",
            "1250/1250 [==============================] - 28s 22ms/step - loss: 0.0043 - val_loss: 0.0042\n",
            "Epoch 9/15\n",
            "1250/1250 [==============================] - 28s 22ms/step - loss: 0.0042 - val_loss: 0.0042\n",
            "Epoch 10/15\n",
            "1250/1250 [==============================] - 28s 22ms/step - loss: 0.0042 - val_loss: 0.0042\n",
            "Epoch 11/15\n",
            "1250/1250 [==============================] - 29s 23ms/step - loss: 0.0042 - val_loss: 0.0042\n",
            "Epoch 12/15\n",
            "1250/1250 [==============================] - 28s 22ms/step - loss: 0.0042 - val_loss: 0.0041\n",
            "Epoch 13/15\n",
            "1250/1250 [==============================] - 27s 22ms/step - loss: 0.0042 - val_loss: 0.0041\n",
            "Epoch 14/15\n",
            "1250/1250 [==============================] - 28s 22ms/step - loss: 0.0042 - val_loss: 0.0041\n",
            "Epoch 15/15\n",
            "1250/1250 [==============================] - 28s 22ms/step - loss: 0.0042 - val_loss: 0.0042\n"
          ]
        }
      ]
    },
    {
      "cell_type": "code",
      "source": [
        "def plot_history(training_history, n_epochs=None):\n",
        "    if not n_epochs:\n",
        "      n_epochs = len(training_history.history['loss'])\n",
        "\n",
        "    epochs = range(1,n_epochs+1)\n",
        "\n",
        "    plt.plot(epochs, training_history.history['loss'], label='train_loss')\n",
        "    plt.plot(epochs, training_history.history['val_loss'], label='val_loss')\n",
        "    plt.legend()\n",
        "    plt.grid()\n",
        "    plt.xlabel('Number of epochs')\n",
        "    plt.title('Loss')"
      ],
      "metadata": {
        "id": "HGEB3mYbrLbA"
      },
      "execution_count": 37,
      "outputs": []
    },
    {
      "cell_type": "code",
      "source": [
        "plot_history(hist)"
      ],
      "metadata": {
        "colab": {
          "base_uri": "https://localhost:8080/",
          "height": 295
        },
        "id": "IY4Q0F_VwKJZ",
        "outputId": "e5871a2a-af65-43c7-877c-ca6268b97b0b"
      },
      "execution_count": 38,
      "outputs": [
        {
          "output_type": "display_data",
          "data": {
            "text/plain": [
              "<Figure size 432x288 with 1 Axes>"
            ],
            "image/png": "[encoded data removed]"
          },
          "metadata": {
            "needs_background": "light"
          }
        }
      ]
    },
    {
      "cell_type": "markdown",
      "source": [
        "Final score on the test set. Better than the Dense autoencoder."
      ],
      "metadata": {
        "id": "y7y8q3W3KsmD"
      }
    },
    {
      "cell_type": "code",
      "source": [
        "from tensorflow.keras.losses import MeanSquaredError\n",
        "mse = MeanSquaredError()\n",
        "mse(x_test, model.predict(x_test_blurred)).numpy()"
      ],
      "metadata": {
        "id": "TFeiz42lo9uy",
        "colab": {
          "base_uri": "https://localhost:8080/"
        },
        "outputId": "812a0923-5e9a-426c-8179-c3e6077cd7fe"
      },
      "execution_count": 40,
      "outputs": [
        {
          "output_type": "execute_result",
          "data": {
            "text/plain": [
              "0.004173997"
            ]
          },
          "metadata": {},
          "execution_count": 40
        }
      ]
    }
  ]
}