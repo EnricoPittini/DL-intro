{
  "nbformat": 4,
  "nbformat_minor": 0,
  "metadata": {
    "colab": {
      "name": "1 Dense Autoencoder",
      "provenance": [],
      "collapsed_sections": []
    },
    "kernelspec": {
      "name": "python3",
      "display_name": "Python 3"
    },
    "language_info": {
      "name": "python"
    }
  },
  "cells": [
    {
      "cell_type": "markdown",
      "source": [
        "## DATASET"
      ],
      "metadata": {
        "id": "25bOHWV4KniT"
      }
    },
    {
      "cell_type": "code",
      "execution_count": 4,
      "metadata": {
        "id": "HyDgz5KwbJR3"
      },
      "outputs": [],
      "source": [
        "from dataset_creation import getDataset\n",
        "import matplotlib.pyplot as plt\n",
        "import numpy as np"
      ]
    },
    {
      "cell_type": "code",
      "source": [
        "(x_train_blurred, x_train), (x_test_blurred, x_test)  = getDataset()"
      ],
      "metadata": {
        "colab": {
          "base_uri": "https://localhost:8080/"
        },
        "id": "PUvabL9ngq6k",
        "outputId": "496addce-673d-4832-84ab-c96a1735f603"
      },
      "execution_count": 3,
      "outputs": [
        {
          "output_type": "stream",
          "name": "stdout",
          "text": [
            "Downloading data from https://www.cs.toronto.edu/~kriz/cifar-10-python.tar.gz\n",
            "170500096/170498071 [==============================] - 2s 0us/step\n",
            "170508288/170498071 [==============================] - 2s 0us/step\n"
          ]
        }
      ]
    },
    {
      "cell_type": "markdown",
      "source": [
        "Resolution $32*32$"
      ],
      "metadata": {
        "id": "uxBWqXNIhzhS"
      }
    },
    {
      "cell_type": "code",
      "source": [
        "x_train.shape"
      ],
      "metadata": {
        "colab": {
          "base_uri": "https://localhost:8080/"
        },
        "id": "nu2Am3A9hvdS",
        "outputId": "77e4e3bb-b7a0-479c-bcb4-a9ca5c63dca2"
      },
      "execution_count": 9,
      "outputs": [
        {
          "output_type": "execute_result",
          "data": {
            "text/plain": [
              "(50000, 32, 32, 3)"
            ]
          },
          "metadata": {},
          "execution_count": 9
        }
      ]
    },
    {
      "cell_type": "code",
      "source": [
        "# The dataset is already normalized\n",
        "x_train[0].min(), x_train[0].max()"
      ],
      "metadata": {
        "colab": {
          "base_uri": "https://localhost:8080/"
        },
        "id": "bwspKPVlskuW",
        "outputId": "9b241f3c-8883-4e67-cab0-303658c16ecf"
      },
      "execution_count": null,
      "outputs": [
        {
          "output_type": "execute_result",
          "data": {
            "text/plain": [
              "(0.0, 1.0)"
            ]
          },
          "metadata": {},
          "execution_count": 14
        }
      ]
    },
    {
      "cell_type": "markdown",
      "source": [
        "Let's see some examples."
      ],
      "metadata": {
        "id": "a_a4ymYkKdez"
      }
    },
    {
      "cell_type": "code",
      "source": [
        "plt.imshow(x_train[0])"
      ],
      "metadata": {
        "colab": {
          "base_uri": "https://localhost:8080/",
          "height": 283
        },
        "id": "KWFYkwJUgq9L",
        "outputId": "c5cef3cf-54be-495b-8813-baa9d363fe3f"
      },
      "execution_count": 5,
      "outputs": [
        {
          "output_type": "execute_result",
          "data": {
            "text/plain": [
              "<matplotlib.image.AxesImage at 0x7fa04806b390>"
            ]
          },
          "metadata": {},
          "execution_count": 5
        },
        {
          "output_type": "display_data",
          "data": {
            "text/plain": [
              "<Figure size 432x288 with 1 Axes>"
            ],
            "image/png": "[encoded data removed]"
          },
          "metadata": {
            "needs_background": "light"
          }
        }
      ]
    },
    {
      "cell_type": "code",
      "source": [
        "plt.imshow(x_train_blurred[0])"
      ],
      "metadata": {
        "colab": {
          "base_uri": "https://localhost:8080/",
          "height": 283
        },
        "id": "AYai94P_hf9o",
        "outputId": "efbef510-6b47-46b5-9ea4-5de0565f5981"
      },
      "execution_count": 6,
      "outputs": [
        {
          "output_type": "execute_result",
          "data": {
            "text/plain": [
              "<matplotlib.image.AxesImage at 0x7fa047b52ed0>"
            ]
          },
          "metadata": {},
          "execution_count": 6
        },
        {
          "output_type": "display_data",
          "data": {
            "text/plain": [
              "<Figure size 432x288 with 1 Axes>"
            ],
            "image/png": "[encoded data removed]"
          },
          "metadata": {
            "needs_background": "light"
          }
        }
      ]
    },
    {
      "cell_type": "code",
      "source": [
        "plt.imshow(x_train[1])"
      ],
      "metadata": {
        "colab": {
          "base_uri": "https://localhost:8080/",
          "height": 283
        },
        "outputId": "a2cceae9-122f-471d-9464-3353ea8922fc",
        "id": "rJOzmNNshpmD"
      },
      "execution_count": 7,
      "outputs": [
        {
          "output_type": "execute_result",
          "data": {
            "text/plain": [
              "<matplotlib.image.AxesImage at 0x7fa047ad4510>"
            ]
          },
          "metadata": {},
          "execution_count": 7
        },
        {
          "output_type": "display_data",
          "data": {
            "text/plain": [
              "<Figure size 432x288 with 1 Axes>"
            ],
            "image/png": "[encoded data removed]"
          },
          "metadata": {
            "needs_background": "light"
          }
        }
      ]
    },
    {
      "cell_type": "code",
      "source": [
        "plt.imshow(x_train_blurred[1])"
      ],
      "metadata": {
        "colab": {
          "base_uri": "https://localhost:8080/",
          "height": 283
        },
        "outputId": "75263a34-e8fa-4c36-89ef-c925475d03bb",
        "id": "snAsX_Z3hpmU"
      },
      "execution_count": 8,
      "outputs": [
        {
          "output_type": "execute_result",
          "data": {
            "text/plain": [
              "<matplotlib.image.AxesImage at 0x7fa047a42810>"
            ]
          },
          "metadata": {},
          "execution_count": 8
        },
        {
          "output_type": "display_data",
          "data": {
            "text/plain": [
              "<Figure size 432x288 with 1 Axes>"
            ],
            "image/png": "[encoded data removed]"
          },
          "metadata": {
            "needs_background": "light"
          }
        }
      ]
    },
    {
      "cell_type": "markdown",
      "source": [
        "## MODEL"
      ],
      "metadata": {
        "id": "KFuc9HrrKgSb"
      }
    },
    {
      "cell_type": "code",
      "source": [
        "from tensorflow.keras.layers import Input, Dense, Flatten, Reshape\n",
        "from tensorflow.keras import Model"
      ],
      "metadata": {
        "id": "M0iWVYp6htdH"
      },
      "execution_count": 13,
      "outputs": []
    },
    {
      "cell_type": "code",
      "source": [
        "encoding_dim = 32"
      ],
      "metadata": {
        "id": "yjBNIdbGidjm"
      },
      "execution_count": 11,
      "outputs": []
    },
    {
      "cell_type": "code",
      "source": [
        "xin = Input(shape=(32,32,3))\n",
        "\n",
        "# 32*32*3 =3072\n",
        "x = Flatten()(xin)\n",
        "\n",
        "x = Dense(units=512)(x)\n",
        "\n",
        "# x = Dense(units=256)(x)\n",
        "\n",
        "x = Dense(units=128)(x)\n",
        "\n",
        "# x = Dense(units=64)(x)\n",
        "\n",
        "x = Dense(units=encoding_dim)(x)\n",
        "\n",
        "x = Dense(units=128)(x)\n",
        "\n",
        "x = Dense(units=512)(x)\n",
        "\n",
        "x = Dense(units=3072, activation='sigmoid')(x)\n",
        "\n",
        "y = Reshape(target_shape=(32,32,3))(x)\n",
        "\n",
        "model = Model(inputs=xin, outputs=y)"
      ],
      "metadata": {
        "id": "Hh5JzMcyiHRj"
      },
      "execution_count": 41,
      "outputs": []
    },
    {
      "cell_type": "code",
      "source": [
        "model.summary()"
      ],
      "metadata": {
        "colab": {
          "base_uri": "https://localhost:8080/"
        },
        "id": "5OpZmhaVjYI-",
        "outputId": "659600e8-94a4-48cf-a2c4-66715c0790fe"
      },
      "execution_count": 36,
      "outputs": [
        {
          "output_type": "stream",
          "name": "stdout",
          "text": [
            "Model: \"model_2\"\n",
            "_________________________________________________________________\n",
            " Layer (type)                Output Shape              Param #   \n",
            "=================================================================\n",
            " input_6 (InputLayer)        [(None, 32, 32, 3)]       0         \n",
            "                                                                 \n",
            " flatten_5 (Flatten)         (None, 3072)              0         \n",
            "                                                                 \n",
            " dense_18 (Dense)            (None, 512)               1573376   \n",
            "                                                                 \n",
            " dense_19 (Dense)            (None, 128)               65664     \n",
            "                                                                 \n",
            " dense_20 (Dense)            (None, 32)                4128      \n",
            "                                                                 \n",
            " dense_21 (Dense)            (None, 128)               4224      \n",
            "                                                                 \n",
            " dense_22 (Dense)            (None, 512)               66048     \n",
            "                                                                 \n",
            " dense_23 (Dense)            (None, 3072)              1575936   \n",
            "                                                                 \n",
            " reshape_2 (Reshape)         (None, 32, 32, 3)         0         \n",
            "                                                                 \n",
            "=================================================================\n",
            "Total params: 3,289,376\n",
            "Trainable params: 3,289,376\n",
            "Non-trainable params: 0\n",
            "_________________________________________________________________\n"
          ]
        }
      ]
    },
    {
      "cell_type": "markdown",
      "source": [
        "## TRAINING"
      ],
      "metadata": {
        "id": "0K-uRuCuKl81"
      }
    },
    {
      "cell_type": "code",
      "source": [
        "from tensorflow.keras.optimizers import Adam"
      ],
      "metadata": {
        "id": "u9R_VPWwkctR"
      },
      "execution_count": 37,
      "outputs": []
    },
    {
      "cell_type": "code",
      "source": [
        "model.compile(optimizer=Adam(), loss='mse')"
      ],
      "metadata": {
        "id": "KTnadHZkkZsR"
      },
      "execution_count": 42,
      "outputs": []
    },
    {
      "cell_type": "code",
      "source": [
        "from tensorflow.keras.callbacks import ModelCheckpoint\n",
        "\n",
        "callback_checkpoint = ModelCheckpoint('DenseAutoencoder1.{epoch:02d}-{val_loss:.4f}.hdf5', save_weights_only=True) "
      ],
      "metadata": {
        "id": "u5xAyIN_k3iT"
      },
      "execution_count": 43,
      "outputs": []
    },
    {
      "cell_type": "code",
      "source": [
        "hist = model.fit(x_train_blurred, x_train, epochs=15, validation_split=0.2, callbacks=[callback_checkpoint])"
      ],
      "metadata": {
        "colab": {
          "base_uri": "https://localhost:8080/"
        },
        "id": "_7QF9Vn4k3n6",
        "outputId": "a8c16264-8915-4ab4-fc93-a5390fa71c7e"
      },
      "execution_count": 44,
      "outputs": [
        {
          "output_type": "stream",
          "name": "stdout",
          "text": [
            "Epoch 1/15\n",
            "1250/1250 [==============================] - 102s 53ms/step - loss: 0.0212 - val_loss: 0.0138\n",
            "Epoch 2/15\n",
            "1250/1250 [==============================] - 64s 52ms/step - loss: 0.0136 - val_loss: 0.0133\n",
            "Epoch 3/15\n",
            "1250/1250 [==============================] - 63s 51ms/step - loss: 0.0135 - val_loss: 0.0133\n",
            "Epoch 4/15\n",
            "1250/1250 [==============================] - 64s 51ms/step - loss: 0.0134 - val_loss: 0.0133\n",
            "Epoch 5/15\n",
            "1250/1250 [==============================] - 64s 52ms/step - loss: 0.0134 - val_loss: 0.0133\n",
            "Epoch 6/15\n",
            "1250/1250 [==============================] - 63s 50ms/step - loss: 0.0133 - val_loss: 0.0131\n",
            "Epoch 7/15\n",
            "1250/1250 [==============================] - 62s 50ms/step - loss: 0.0132 - val_loss: 0.0129\n",
            "Epoch 8/15\n",
            "1250/1250 [==============================] - 64s 51ms/step - loss: 0.0131 - val_loss: 0.0129\n",
            "Epoch 9/15\n",
            "1250/1250 [==============================] - 63s 51ms/step - loss: 0.0170 - val_loss: 0.0130\n",
            "Epoch 10/15\n",
            "1250/1250 [==============================] - 63s 51ms/step - loss: 0.0128 - val_loss: 0.0127\n",
            "Epoch 11/15\n",
            "1250/1250 [==============================] - 65s 52ms/step - loss: 0.0129 - val_loss: 0.0129\n",
            "Epoch 12/15\n",
            "1250/1250 [==============================] - 64s 51ms/step - loss: 0.0130 - val_loss: 0.0129\n",
            "Epoch 13/15\n",
            "1250/1250 [==============================] - 63s 51ms/step - loss: 0.0130 - val_loss: 0.0129\n",
            "Epoch 14/15\n",
            "1250/1250 [==============================] - 64s 51ms/step - loss: 0.0130 - val_loss: 0.0129\n",
            "Epoch 15/15\n",
            "1250/1250 [==============================] - 65s 52ms/step - loss: 0.0130 - val_loss: 0.0129\n"
          ]
        }
      ]
    },
    {
      "cell_type": "code",
      "source": [
        "def plot_history(training_history, n_epochs=None):\n",
        "    if not n_epochs:\n",
        "      n_epochs = len(training_history.history['loss'])\n",
        "\n",
        "    epochs = range(1,n_epochs+1)\n",
        "\n",
        "    plt.plot(epochs, training_history.history['loss'], label='train_loss')\n",
        "    plt.plot(epochs, training_history.history['val_loss'], label='val_loss')\n",
        "    plt.legend()\n",
        "    plt.grid()\n",
        "    plt.xlabel('Number of epochs')\n",
        "    plt.title('Loss')"
      ],
      "metadata": {
        "id": "rf9nugv9rCmy"
      },
      "execution_count": 45,
      "outputs": []
    },
    {
      "cell_type": "code",
      "source": [
        "plot_history(hist)"
      ],
      "metadata": {
        "colab": {
          "base_uri": "https://localhost:8080/",
          "height": 295
        },
        "id": "NrCwy8gxtS6x",
        "outputId": "27480306-222f-4b24-805c-8930ce3fd572"
      },
      "execution_count": 46,
      "outputs": [
        {
          "output_type": "display_data",
          "data": {
            "text/plain": [
              "<Figure size 432x288 with 1 Axes>"
            ],
            "image/png": "[encoded data removed]"
          },
          "metadata": {
            "needs_background": "light"
          }
        }
      ]
    },
    {
      "cell_type": "markdown",
      "source": [
        "Final score on the test set"
      ],
      "metadata": {
        "id": "y7y8q3W3KsmD"
      }
    },
    {
      "cell_type": "code",
      "source": [
        "from tensorflow.keras.losses import MeanSquaredError\n",
        "mse = MeanSquaredError()\n",
        "mse(x_test, model.predict(x_test_blurred)).numpy()"
      ],
      "metadata": {
        "colab": {
          "base_uri": "https://localhost:8080/"
        },
        "id": "TFeiz42lo9uy",
        "outputId": "75b37668-34cc-4fcc-f080-45b6eaa37e97"
      },
      "execution_count": 47,
      "outputs": [
        {
          "output_type": "execute_result",
          "data": {
            "text/plain": [
              "0.012976035"
            ]
          },
          "metadata": {},
          "execution_count": 47
        }
      ]
    }
  ]
}