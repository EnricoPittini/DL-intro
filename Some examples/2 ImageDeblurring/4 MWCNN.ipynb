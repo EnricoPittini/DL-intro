{
  "nbformat": 4,
  "nbformat_minor": 0,
  "metadata": {
    "colab": {
      "name": "3_MWCNN.ipynb",
      "provenance": [],
      "collapsed_sections": []
    },
    "kernelspec": {
      "name": "python3",
      "display_name": "Python 3"
    },
    "language_info": {
      "name": "python"
    },
    "gpuClass": "standard"
  },
  "cells": [
    {
      "cell_type": "markdown",
      "source": [
        "## DATASET"
      ],
      "metadata": {
        "id": "hqgdq4L6WzSx"
      }
    },
    {
      "cell_type": "code",
      "execution_count": null,
      "metadata": {
        "id": "HyDgz5KwbJR3"
      },
      "outputs": [],
      "source": [
        "from dataset_creation import getDataset\n",
        "import matplotlib.pyplot as plt\n",
        "import numpy as np"
      ]
    },
    {
      "cell_type": "code",
      "source": [
        "(x_train_blurred, x_train), (x_test_blurred, x_test)  = getDataset()"
      ],
      "metadata": {
        "id": "PUvabL9ngq6k"
      },
      "execution_count": null,
      "outputs": []
    },
    {
      "cell_type": "markdown",
      "source": [
        "Resolution $32*32$"
      ],
      "metadata": {
        "id": "uxBWqXNIhzhS"
      }
    },
    {
      "cell_type": "code",
      "source": [
        "x_train.shape"
      ],
      "metadata": {
        "colab": {
          "base_uri": "https://localhost:8080/"
        },
        "id": "nu2Am3A9hvdS",
        "outputId": "4205b5f6-f2b8-486b-b686-e1df90ae4b76"
      },
      "execution_count": null,
      "outputs": [
        {
          "output_type": "execute_result",
          "data": {
            "text/plain": [
              "(50000, 32, 32, 3)"
            ]
          },
          "metadata": {},
          "execution_count": 5
        }
      ]
    },
    {
      "cell_type": "code",
      "source": [
        "# The dataset is already normalized\n",
        "x_train[0].min(), x_train[0].max()"
      ],
      "metadata": {
        "colab": {
          "base_uri": "https://localhost:8080/"
        },
        "outputId": "9b241f3c-8883-4e67-cab0-303658c16ecf",
        "id": "XPn5r0CEMMsv"
      },
      "execution_count": null,
      "outputs": [
        {
          "output_type": "execute_result",
          "data": {
            "text/plain": [
              "(0.0, 1.0)"
            ]
          },
          "metadata": {},
          "execution_count": 14
        }
      ]
    },
    {
      "cell_type": "markdown",
      "source": [
        "Let's see some examples"
      ],
      "metadata": {
        "id": "-KimYowyLClK"
      }
    },
    {
      "cell_type": "code",
      "source": [
        "plt.imshow(x_train[0])"
      ],
      "metadata": {
        "colab": {
          "base_uri": "https://localhost:8080/",
          "height": 283
        },
        "id": "KWFYkwJUgq9L",
        "outputId": "e7d5f203-64be-468a-f93b-8797b1499f35"
      },
      "execution_count": null,
      "outputs": [
        {
          "output_type": "execute_result",
          "data": {
            "text/plain": [
              "<matplotlib.image.AxesImage at 0x7f985d581c90>"
            ]
          },
          "metadata": {},
          "execution_count": 7
        },
        {
          "output_type": "display_data",
          "data": {
            "text/plain": [
              "<Figure size 432x288 with 1 Axes>"
            ],
            "image/png": "[encoded data removed]"
          },
          "metadata": {
            "needs_background": "light"
          }
        }
      ]
    },
    {
      "cell_type": "code",
      "source": [
        "plt.imshow(x_train_blurred[0])"
      ],
      "metadata": {
        "colab": {
          "base_uri": "https://localhost:8080/",
          "height": 283
        },
        "id": "AYai94P_hf9o",
        "outputId": "b448a754-1b0f-45cd-e919-7590511f86c6"
      },
      "execution_count": null,
      "outputs": [
        {
          "output_type": "execute_result",
          "data": {
            "text/plain": [
              "<matplotlib.image.AxesImage at 0x7f985d22ee90>"
            ]
          },
          "metadata": {},
          "execution_count": 8
        },
        {
          "output_type": "display_data",
          "data": {
            "text/plain": [
              "<Figure size 432x288 with 1 Axes>"
            ],
            "image/png": "[encoded data removed]"
          },
          "metadata": {
            "needs_background": "light"
          }
        }
      ]
    },
    {
      "cell_type": "code",
      "source": [
        "plt.imshow(x_train[1])"
      ],
      "metadata": {
        "colab": {
          "base_uri": "https://localhost:8080/",
          "height": 283
        },
        "outputId": "a2cceae9-122f-471d-9464-3353ea8922fc",
        "id": "rJOzmNNshpmD"
      },
      "execution_count": null,
      "outputs": [
        {
          "output_type": "execute_result",
          "data": {
            "text/plain": [
              "<matplotlib.image.AxesImage at 0x7fa047ad4510>"
            ]
          },
          "metadata": {},
          "execution_count": 7
        },
        {
          "output_type": "display_data",
          "data": {
            "text/plain": [
              "<Figure size 432x288 with 1 Axes>"
            ],
            "image/png": "[encoded data removed]"
          },
          "metadata": {
            "needs_background": "light"
          }
        }
      ]
    },
    {
      "cell_type": "code",
      "source": [
        "plt.imshow(x_train_blurred[1])"
      ],
      "metadata": {
        "colab": {
          "base_uri": "https://localhost:8080/",
          "height": 283
        },
        "outputId": "75263a34-e8fa-4c36-89ef-c925475d03bb",
        "id": "snAsX_Z3hpmU"
      },
      "execution_count": null,
      "outputs": [
        {
          "output_type": "execute_result",
          "data": {
            "text/plain": [
              "<matplotlib.image.AxesImage at 0x7fa047a42810>"
            ]
          },
          "metadata": {},
          "execution_count": 8
        },
        {
          "output_type": "display_data",
          "data": {
            "text/plain": [
              "<Figure size 432x288 with 1 Axes>"
            ],
            "image/png": "[encoded data removed]"
          },
          "metadata": {
            "needs_background": "light"
          }
        }
      ]
    },
    {
      "cell_type": "markdown",
      "source": [
        "## MODEL\n",
        "Multi-level Wavelet CNN\n",
        "\n",
        "https://towardsai.net/p/deep-learning/image-de-noising-using-deep-learning"
      ],
      "metadata": {
        "id": "nqtl5HWUXAeY"
      }
    },
    {
      "cell_type": "code",
      "source": [
        "import tensorflow as tf\n",
        "from tensorflow.keras import models, layers\n",
        "from tensorflow.keras.models import Model\n",
        "from tensorflow.keras.layers import Conv2D, Conv2DTranspose,\\\n",
        "                                    GlobalAveragePooling2D, AveragePooling2D, MaxPool2D, UpSampling2D,\\\n",
        "                                    BatchNormalization, Activation, ReLU, Flatten, Dense, Input,\\\n",
        "                                    Add, Multiply, Concatenate, Softmax\n",
        "from tensorflow.keras import initializers, regularizers\n",
        "from tensorflow.keras.optimizers import Adam\n",
        "from tensorflow.keras.activations import softmax\n",
        "\n",
        "tf.keras.backend.set_image_data_format('channels_last')\n",
        "import keras.backend as K"
      ],
      "metadata": {
        "id": "BV5mA1i13K3w"
      },
      "execution_count": null,
      "outputs": []
    },
    {
      "cell_type": "code",
      "source": [
        "class Conv_block(tf.keras.layers.Layer):\n",
        "    def  __init__(self, num_filters=200, kernel_size=3, **kwargs):\n",
        "        super().__init__(**kwargs)\n",
        "        self.num_filters=num_filters\n",
        "        self.kernel_size=kernel_size\n",
        "        self.conv_1 = Conv2D(filters=self.num_filters, kernel_size=self.kernel_size, padding='same')\n",
        "        self.conv_2 = Conv2D(filters=self.num_filters, kernel_size=self.kernel_size, padding='same')\n",
        "        self.conv_3 = Conv2D(filters=self.num_filters, kernel_size=self.kernel_size, padding='same')\n",
        "        self.conv_4 = Conv2D(filters=self.num_filters, kernel_size=self.kernel_size, padding='same')\n",
        "\n",
        "        self.bn_1 = BatchNormalization()\n",
        "        self.bn_2 = BatchNormalization()\n",
        "        self.bn_3 = BatchNormalization()\n",
        "        self.bn_4 = BatchNormalization()\n",
        "    \n",
        "    def get_config(self):\n",
        "        config = super().get_config().copy()\n",
        "        config.update({\n",
        "            'num_filters': self.num_filters,\n",
        "            'kernel_size':self.kernel_size\n",
        "        })\n",
        "        return config\n",
        "\n",
        "    def call(self, X):\n",
        "        X = self.conv_1(X)\n",
        "        # X = self.bn_1(X)\n",
        "        X = ReLU()(X)\n",
        "        X = self.conv_2(X)\n",
        "        # X = self.bn_2(X)\n",
        "        X = ReLU()(X)\n",
        "        X = self.conv_3(X)\n",
        "        # X = self.bn_3(X)\n",
        "        X = ReLU()(X)\n",
        "        # X = self.conv_4(X)\n",
        "        # # X = self.bn_4(X)\n",
        "        # X = ReLU()(X)\n",
        "\n",
        "        return X"
      ],
      "metadata": {
        "id": "zkn9yTvi3QOA"
      },
      "execution_count": null,
      "outputs": []
    },
    {
      "cell_type": "code",
      "source": [
        "class DWT_downsampling(tf.keras.layers.Layer):\n",
        "    def __init__(self, **kwargs):\n",
        "        super().__init__(**kwargs)\n",
        "        \n",
        "    def call(self, x):\n",
        "        \"\"\"\n",
        "        The following calculations for DWT are inspired from,\n",
        "        https://github.com/AureliePeng/Keras-WaveletTransform/blob/master/models/DWT.py\n",
        "        \"\"\"\n",
        "        x1 = x[:, 0::2, 0::2, :] #x(2i−1, 2j−1)\n",
        "        x2 = x[:, 1::2, 0::2, :] #x(2i, 2j-1)\n",
        "        x3 = x[:, 0::2, 1::2, :] #x(2i−1, 2j)\n",
        "        x4 = x[:, 1::2, 1::2, :] #x(2i, 2j)   \n",
        "\n",
        "        x_LL = x1 + x2 + x3 + x4\n",
        "        x_LH = -x1 - x3 + x2 + x4\n",
        "        x_HL = -x1 + x3 - x2 + x4\n",
        "        x_HH = x1 - x3 - x2 + x4\n",
        "\n",
        "        return Concatenate(axis=-1)([x_LL, x_LH, x_HL, x_HH])"
      ],
      "metadata": {
        "id": "l8lfROab3TZs"
      },
      "execution_count": null,
      "outputs": []
    },
    {
      "cell_type": "code",
      "source": [
        "class IWT_upsampling(tf.keras.layers.Layer):\n",
        "    def __init__(self, **kwargs):\n",
        "        super().__init__(**kwargs)\n",
        "        \n",
        "    def call(self, x):\n",
        "        \"\"\"\n",
        "        The following calculations for IWT are inspired from,\n",
        "        https://github.com/AureliePeng/Keras-WaveletTransform/blob/master/models/DWT.py\n",
        "        \"\"\"\n",
        "        x_LL = x[:, :, :, 0:x.shape[3]//4]\n",
        "        x_LH = x[:, :, :, x.shape[3]//4:x.shape[3]//4*2]\n",
        "        x_HL = x[:, :, :, x.shape[3]//4*2:x.shape[3]//4*3]\n",
        "        x_HH = x[:, :, :, x.shape[3]//4*3:]\n",
        "\n",
        "        x1 = (x_LL - x_LH - x_HL + x_HH)/4\n",
        "        x2 = (x_LL - x_LH + x_HL - x_HH)/4\n",
        "        x3 = (x_LL + x_LH - x_HL - x_HH)/4\n",
        "        x4 = (x_LL + x_LH + x_HL + x_HH)/4 \n",
        "\n",
        "        y1 = K.stack([x1,x3], axis=2)\n",
        "        y2 = K.stack([x2,x4], axis=2)\n",
        "        shape = K.shape(x)\n",
        "        return K.reshape(K.concatenate([y1,y2], axis=-1), K.stack([shape[0], shape[1]*2, shape[2]*2, shape[3]//4]))"
      ],
      "metadata": {
        "id": "o_mj5tfW3ViY"
      },
      "execution_count": null,
      "outputs": []
    },
    {
      "cell_type": "code",
      "source": [
        "def create_model():\n",
        "    tf.keras.backend.clear_session()\n",
        "\n",
        "    input = Input(shape=(32,32,3))\n",
        "\n",
        "    cb_1 = Conv_block(num_filters=16)(input)\n",
        "    dwt_1 = DWT_downsampling()(cb_1)\n",
        "\n",
        "    cb_2 = Conv_block(num_filters=32)(dwt_1)\n",
        "    dwt_2 = DWT_downsampling()(cb_2)\n",
        "\n",
        "    cb_3 = Conv_block(num_filters=64)(dwt_2)\n",
        "    dwt_3 = DWT_downsampling()(cb_3)\n",
        "\n",
        "    cb_4 = Conv_block(num_filters=128)(dwt_3)\n",
        "    dwt_4 = DWT_downsampling()(cb_4)\n",
        "\n",
        "    cb_5 = Conv_block(num_filters=128)(dwt_4)\n",
        "    cb_5 = BatchNormalization()(cb_5)\n",
        "    cb_5 = Conv_block(num_filters=128)(cb_5)\n",
        "    cb_5 = Conv2D(filters=512, kernel_size=3, strides=1, padding='same')(cb_5)\n",
        "\n",
        "    up = IWT_upsampling()(cb_5)\n",
        "    up = Conv_block(num_filters=128)(Add()([up, cb_4]))\n",
        "    up = Conv2D(filters=256, kernel_size=3, strides=1, padding='same')(up)\n",
        "\n",
        "    up = IWT_upsampling()(up)\n",
        "    up = Conv_block(num_filters=64)(Add()([up, cb_3]))\n",
        "    up = Conv2D(filters=128, kernel_size=3, strides=1, padding='same')(up)\n",
        "    \n",
        "    up = IWT_upsampling()(up)\n",
        "    up = Conv_block(num_filters=32)(Add()([up, cb_2]))\n",
        "    up = Conv2D(filters=64, kernel_size=3, strides=1, padding='same')(up)\n",
        "    \n",
        "    up = IWT_upsampling()(up)\n",
        "    up = Conv_block(num_filters=16)(Add()([up, cb_1]))\n",
        "    up = Conv2D(filters=32, kernel_size=3, strides=1, padding='same')(up)\n",
        "\n",
        "    out = Conv2D(filters=3, kernel_size=(1, 1), padding=\"same\", activation='sigmoid')(up)\n",
        "\n",
        "    return Model(inputs=[input], outputs=[out])"
      ],
      "metadata": {
        "id": "IJhbJfhv3XwM"
      },
      "execution_count": null,
      "outputs": []
    },
    {
      "cell_type": "code",
      "source": [
        "model = create_model()\n",
        "model.summary()"
      ],
      "metadata": {
        "colab": {
          "base_uri": "https://localhost:8080/"
        },
        "id": "-a7LY4m4HiTM",
        "outputId": "ab6da2ec-9ddb-417e-b2e4-24251a22b4d2"
      },
      "execution_count": null,
      "outputs": [
        {
          "output_type": "stream",
          "name": "stdout",
          "text": [
            "Model: \"model\"\n",
            "__________________________________________________________________________________________________\n",
            " Layer (type)                   Output Shape         Param #     Connected to                     \n",
            "==================================================================================================\n",
            " input_1 (InputLayer)           [(None, 32, 32, 3)]  0           []                               \n",
            "                                                                                                  \n",
            " conv_block (Conv_block)        (None, 32, 32, 16)   5088        ['input_1[0][0]']                \n",
            "                                                                                                  \n",
            " dwt_downsampling (DWT_downsamp  (None, 16, 16, 64)  0           ['conv_block[0][0]']             \n",
            " ling)                                                                                            \n",
            "                                                                                                  \n",
            " conv_block_1 (Conv_block)      (None, 16, 16, 32)   36960       ['dwt_downsampling[0][0]']       \n",
            "                                                                                                  \n",
            " dwt_downsampling_1 (DWT_downsa  (None, 8, 8, 128)   0           ['conv_block_1[0][0]']           \n",
            " mpling)                                                                                          \n",
            "                                                                                                  \n",
            " conv_block_2 (Conv_block)      (None, 8, 8, 64)     147648      ['dwt_downsampling_1[0][0]']     \n",
            "                                                                                                  \n",
            " dwt_downsampling_2 (DWT_downsa  (None, 4, 4, 256)   0           ['conv_block_2[0][0]']           \n",
            " mpling)                                                                                          \n",
            "                                                                                                  \n",
            " conv_block_3 (Conv_block)      (None, 4, 4, 128)    590208      ['dwt_downsampling_2[0][0]']     \n",
            "                                                                                                  \n",
            " dwt_downsampling_3 (DWT_downsa  (None, 2, 2, 512)   0           ['conv_block_3[0][0]']           \n",
            " mpling)                                                                                          \n",
            "                                                                                                  \n",
            " conv_block_4 (Conv_block)      (None, 2, 2, 128)    885120      ['dwt_downsampling_3[0][0]']     \n",
            "                                                                                                  \n",
            " batch_normalization_20 (BatchN  (None, 2, 2, 128)   512         ['conv_block_4[0][0]']           \n",
            " ormalization)                                                                                    \n",
            "                                                                                                  \n",
            " conv_block_5 (Conv_block)      (None, 2, 2, 128)    442752      ['batch_normalization_20[0][0]'] \n",
            "                                                                                                  \n",
            " conv2d_24 (Conv2D)             (None, 2, 2, 512)    590336      ['conv_block_5[0][0]']           \n",
            "                                                                                                  \n",
            " iwt_upsampling (IWT_upsampling  (None, 4, 4, 128)   0           ['conv2d_24[0][0]']              \n",
            " )                                                                                                \n",
            "                                                                                                  \n",
            " add (Add)                      (None, 4, 4, 128)    0           ['iwt_upsampling[0][0]',         \n",
            "                                                                  'conv_block_3[0][0]']           \n",
            "                                                                                                  \n",
            " conv_block_6 (Conv_block)      (None, 4, 4, 128)    442752      ['add[0][0]']                    \n",
            "                                                                                                  \n",
            " conv2d_29 (Conv2D)             (None, 4, 4, 256)    295168      ['conv_block_6[0][0]']           \n",
            "                                                                                                  \n",
            " iwt_upsampling_1 (IWT_upsampli  (None, 8, 8, 64)    0           ['conv2d_29[0][0]']              \n",
            " ng)                                                                                              \n",
            "                                                                                                  \n",
            " add_1 (Add)                    (None, 8, 8, 64)     0           ['iwt_upsampling_1[0][0]',       \n",
            "                                                                  'conv_block_2[0][0]']           \n",
            "                                                                                                  \n",
            " conv_block_7 (Conv_block)      (None, 8, 8, 64)     110784      ['add_1[0][0]']                  \n",
            "                                                                                                  \n",
            " conv2d_34 (Conv2D)             (None, 8, 8, 128)    73856       ['conv_block_7[0][0]']           \n",
            "                                                                                                  \n",
            " iwt_upsampling_2 (IWT_upsampli  (None, 16, 16, 32)  0           ['conv2d_34[0][0]']              \n",
            " ng)                                                                                              \n",
            "                                                                                                  \n",
            " add_2 (Add)                    (None, 16, 16, 32)   0           ['iwt_upsampling_2[0][0]',       \n",
            "                                                                  'conv_block_1[0][0]']           \n",
            "                                                                                                  \n",
            " conv_block_8 (Conv_block)      (None, 16, 16, 32)   27744       ['add_2[0][0]']                  \n",
            "                                                                                                  \n",
            " conv2d_39 (Conv2D)             (None, 16, 16, 64)   18496       ['conv_block_8[0][0]']           \n",
            "                                                                                                  \n",
            " iwt_upsampling_3 (IWT_upsampli  (None, 32, 32, 16)  0           ['conv2d_39[0][0]']              \n",
            " ng)                                                                                              \n",
            "                                                                                                  \n",
            " add_3 (Add)                    (None, 32, 32, 16)   0           ['iwt_upsampling_3[0][0]',       \n",
            "                                                                  'conv_block[0][0]']             \n",
            "                                                                                                  \n",
            " conv_block_9 (Conv_block)      (None, 32, 32, 16)   6960        ['add_3[0][0]']                  \n",
            "                                                                                                  \n",
            " conv2d_44 (Conv2D)             (None, 32, 32, 32)   4640        ['conv_block_9[0][0]']           \n",
            "                                                                                                  \n",
            " conv2d_45 (Conv2D)             (None, 32, 32, 3)    99          ['conv2d_44[0][0]']              \n",
            "                                                                                                  \n",
            "==================================================================================================\n",
            "Total params: 3,679,123\n",
            "Trainable params: 3,678,867\n",
            "Non-trainable params: 256\n",
            "__________________________________________________________________________________________________\n"
          ]
        }
      ]
    },
    {
      "cell_type": "markdown",
      "source": [
        "## TRAINING"
      ],
      "metadata": {
        "id": "mJ7UI-u1XHTt"
      }
    },
    {
      "cell_type": "code",
      "source": [
        "from tensorflow.keras.optimizers import Adam"
      ],
      "metadata": {
        "id": "u9R_VPWwkctR"
      },
      "execution_count": null,
      "outputs": []
    },
    {
      "cell_type": "code",
      "source": [
        "model.compile(optimizer=Adam(), loss='mse')"
      ],
      "metadata": {
        "id": "KTnadHZkkZsR"
      },
      "execution_count": null,
      "outputs": []
    },
    {
      "cell_type": "code",
      "source": [
        "from tensorflow.keras.callbacks import ModelCheckpoint\n",
        "\n",
        "callback_checkpoint = ModelCheckpoint('MWCNN.{epoch:02d}-{val_loss:.4f}.hdf5', save_weights_only=True) "
      ],
      "metadata": {
        "id": "u5xAyIN_k3iT"
      },
      "execution_count": null,
      "outputs": []
    },
    {
      "cell_type": "code",
      "source": [
        "hist = model.fit(x_train_blurred, x_train, epochs=15, validation_split=0.2, callbacks=[callback_checkpoint])"
      ],
      "metadata": {
        "colab": {
          "base_uri": "https://localhost:8080/"
        },
        "id": "_7QF9Vn4k3n6",
        "outputId": "89934ecb-a8dd-46a7-d08f-e0d1370a1219"
      },
      "execution_count": null,
      "outputs": [
        {
          "output_type": "stream",
          "name": "stdout",
          "text": [
            "Epoch 1/15\n",
            "1250/1250 [==============================] - 38s 18ms/step - loss: 0.0060 - val_loss: 0.0033\n",
            "Epoch 2/15\n",
            "1250/1250 [==============================] - 21s 17ms/step - loss: 0.0031 - val_loss: 0.0029\n",
            "Epoch 3/15\n",
            "1250/1250 [==============================] - 22s 18ms/step - loss: 0.0028 - val_loss: 0.0027\n",
            "Epoch 4/15\n",
            "1250/1250 [==============================] - 22s 18ms/step - loss: 0.0027 - val_loss: 0.0026\n",
            "Epoch 5/15\n",
            "1250/1250 [==============================] - 21s 17ms/step - loss: 0.0026 - val_loss: 0.0025\n",
            "Epoch 6/15\n",
            "1250/1250 [==============================] - 21s 17ms/step - loss: 0.0026 - val_loss: 0.0025\n",
            "Epoch 7/15\n",
            "1250/1250 [==============================] - 21s 17ms/step - loss: 0.0025 - val_loss: 0.0027\n",
            "Epoch 8/15\n",
            "1250/1250 [==============================] - 21s 17ms/step - loss: 0.0025 - val_loss: 0.0025\n",
            "Epoch 9/15\n",
            "1250/1250 [==============================] - 21s 17ms/step - loss: 0.0024 - val_loss: 0.0025\n",
            "Epoch 10/15\n",
            "1250/1250 [==============================] - 21s 17ms/step - loss: 0.0024 - val_loss: 0.0024\n",
            "Epoch 11/15\n",
            "1250/1250 [==============================] - 21s 17ms/step - loss: 0.0024 - val_loss: 0.0024\n",
            "Epoch 12/15\n",
            "1250/1250 [==============================] - 21s 17ms/step - loss: 0.0024 - val_loss: 0.0024\n",
            "Epoch 13/15\n",
            "1250/1250 [==============================] - 21s 17ms/step - loss: 0.0024 - val_loss: 0.0024\n",
            "Epoch 14/15\n",
            "1250/1250 [==============================] - 21s 17ms/step - loss: 0.0024 - val_loss: 0.0024\n",
            "Epoch 15/15\n",
            "1250/1250 [==============================] - 27s 22ms/step - loss: 0.0023 - val_loss: 0.0024\n"
          ]
        }
      ]
    },
    {
      "cell_type": "code",
      "source": [
        "def plot_history(training_history, n_epochs=None):\n",
        "    if not n_epochs:\n",
        "      n_epochs = len(training_history.history['loss'])\n",
        "\n",
        "    epochs = range(1,n_epochs+1)\n",
        "\n",
        "    plt.plot(epochs, training_history.history['loss'], label='train_loss')\n",
        "    plt.plot(epochs, training_history.history['val_loss'], label='val_loss')\n",
        "    plt.legend()\n",
        "    plt.grid()\n",
        "    plt.xlabel('Number of epochs')\n",
        "    plt.title('Loss')"
      ],
      "metadata": {
        "id": "HGEB3mYbrLbA"
      },
      "execution_count": null,
      "outputs": []
    },
    {
      "cell_type": "code",
      "source": [
        "plot_history(hist)"
      ],
      "metadata": {
        "colab": {
          "base_uri": "https://localhost:8080/",
          "height": 295
        },
        "id": "mTkFBbaCxULA",
        "outputId": "70f07d46-3610-4030-8a81-6a79140cbd52"
      },
      "execution_count": null,
      "outputs": [
        {
          "output_type": "display_data",
          "data": {
            "text/plain": [
              "<Figure size 432x288 with 1 Axes>"
            ],
            "image/png": "[encoded data removed]"
          },
          "metadata": {
            "needs_background": "light"
          }
        }
      ]
    },
    {
      "cell_type": "markdown",
      "source": [
        "Final score on the test set. Better than Convolutional autoencoder."
      ],
      "metadata": {
        "id": "f7Eo1Ukpd3_F"
      }
    },
    {
      "cell_type": "code",
      "source": [
        "from tensorflow.keras.losses import MeanSquaredError\n",
        "mse = MeanSquaredError()\n",
        "mse(x_test, model.predict(x_test_blurred)).numpy()"
      ],
      "metadata": {
        "id": "TFeiz42lo9uy",
        "colab": {
          "base_uri": "https://localhost:8080/"
        },
        "outputId": "fcd3b78b-2e1c-412e-dc6c-d964aecbdef2"
      },
      "execution_count": null,
      "outputs": [
        {
          "output_type": "execute_result",
          "data": {
            "text/plain": [
              "0.0023708928"
            ]
          },
          "metadata": {},
          "execution_count": 17
        }
      ]
    },
    {
      "cell_type": "markdown",
      "source": [
        "## DATA AUGMENTATION AND MORE TRAINING"
      ],
      "metadata": {
        "id": "sjg6IiVZXL4I"
      }
    },
    {
      "cell_type": "code",
      "source": [
        "import tensorflow as tf\n",
        "import random"
      ],
      "metadata": {
        "id": "DdM18icU0UZa"
      },
      "execution_count": null,
      "outputs": []
    },
    {
      "cell_type": "code",
      "source": [
        "def _up_down_flip(image, label):\n",
        "    image = tf.image.flip_up_down(image)\n",
        "    label = tf.image.flip_up_down(label)\n",
        "    return image, label\n",
        "\n",
        "def _left_right_flip(image, label):\n",
        "    image = tf.image.flip_left_right(image)\n",
        "    label = tf.image.flip_left_right(label)\n",
        "    return image, label\n",
        "\n",
        "def _rotate(image, label):\n",
        "    random_angle = tf.random.uniform(shape=[], minval=0, maxval=4, dtype=tf.int32)\n",
        "    image = tf.image.rot90(image, random_angle)\n",
        "    label = tf.image.rot90(label, random_angle)\n",
        "    return image, label\n",
        "\n",
        "def _hue(image, label):\n",
        "    rand_value = random.uniform(-1,1)\n",
        "    image = tf.image.adjust_hue(image, rand_value)\n",
        "    label = tf.image.adjust_hue(label, rand_value)\n",
        "    return image, label\n",
        "\n",
        "def _brightness(image, label):\n",
        "    rand_value = random.uniform(-0.08,0.25)\n",
        "    image = tf.image.adjust_brightness(image, rand_value)\n",
        "    label = tf.image.adjust_brightness(label, rand_value)\n",
        "    return image, label\n",
        "\n",
        "def _saturation(image, label):\n",
        "    rand_value = random.uniform(1, 5)\n",
        "    image = tf.image.adjust_saturation(image, rand_value)\n",
        "    label = tf.image.adjust_saturation(label, rand_value)\n",
        "    return image, label\n",
        "\n",
        "def _contrast(image, label):\n",
        "    rand_value = random.uniform(1, 3)\n",
        "    image = tf.image.adjust_contrast(image, rand_value)\n",
        "    label = tf.image.adjust_contrast(label, rand_value)\n",
        "    return image, label\n",
        "\n",
        "# What does batch, repeat, and shuffle do with TensorFlow Dataset?\n",
        "# https://stackoverflow.com/q/53514495/7697658\n",
        "def tf_data_generator(X, y, batch_size=32, augmentations=None):\n",
        "    dataset = tf.data.Dataset.from_tensor_slices((X, y)) # This is the main step for data generation\n",
        "    dataset = dataset.shuffle(1000, reshuffle_each_iteration=True)\n",
        "\n",
        "    if augmentations:\n",
        "        for f in augmentations:\n",
        "            if np.random.uniform(0,1)<0.5:\n",
        "                dataset = dataset.map(f, num_parallel_calls=2)\n",
        "\n",
        "    dataset = dataset.repeat()\n",
        "    dataset = dataset.batch(batch_size=batch_size, drop_remainder=True)\n",
        "    dataset = dataset.prefetch(tf.data.experimental.AUTOTUNE)\n",
        "    return dataset\n",
        "\n",
        "BATCH_SIZE=32\n",
        "#augmentation_lst = [_up_down_flip, _left_right_flip, _rotate, _hue, _brightness, _saturation, _contrast]\n",
        "augmentation_lst = [_up_down_flip, _left_right_flip, _rotate]\n",
        "image_generator_train = tf_data_generator(X=x_train_blurred, y=x_train, batch_size=BATCH_SIZE, augmentations=augmentation_lst)"
      ],
      "metadata": {
        "id": "D_NONTJ4rAip"
      },
      "execution_count": null,
      "outputs": []
    },
    {
      "cell_type": "code",
      "source": [
        "model = create_model()"
      ],
      "metadata": {
        "id": "Vc1ogwQJHHUo"
      },
      "execution_count": null,
      "outputs": []
    },
    {
      "cell_type": "code",
      "source": [
        "model.compile(optimizer=Adam(), loss='mse')"
      ],
      "metadata": {
        "id": "bF1qmUu8HY-4"
      },
      "execution_count": null,
      "outputs": []
    },
    {
      "cell_type": "code",
      "source": [
        "from tensorflow.keras.callbacks import ModelCheckpoint, ReduceLROnPlateau\n",
        "callback_checkpoint = ModelCheckpoint('WCNN_Augmentation1.{epoch:02d}-{val_loss:.4f}.hdf5', save_weights_only=True) \n",
        "reduce_lr_callback = ReduceLROnPlateau(patiente=3)"
      ],
      "metadata": {
        "id": "tTDcS4vu14od"
      },
      "execution_count": null,
      "outputs": []
    },
    {
      "cell_type": "code",
      "source": [
        "steps_per_epoch_train = len(x_train)//BATCH_SIZE\n",
        "#steps_per_epoch_validation = len(x_test)"
      ],
      "metadata": {
        "id": "_N8Ouys1t1c9"
      },
      "execution_count": null,
      "outputs": []
    },
    {
      "cell_type": "code",
      "source": [
        "hist = model.fit(image_generator_train, epochs=50, validation_data=(x_test_blurred,x_test),\n",
        "                     callbacks=[callback_checkpoint,reduce_lr_callback],\n",
        "                     steps_per_epoch=steps_per_epoch_train)"
      ],
      "metadata": {
        "colab": {
          "base_uri": "https://localhost:8080/"
        },
        "outputId": "cb3de14e-522f-4236-ee14-25e561b75ce3",
        "id": "d6l6s9TG14od"
      },
      "execution_count": null,
      "outputs": [
        {
          "output_type": "stream",
          "name": "stdout",
          "text": [
            "Epoch 1/50\n",
            "1562/1562 [==============================] - 48s 20ms/step - loss: 0.0055 - val_loss: 0.0032 - lr: 0.0010\n",
            "Epoch 2/50\n",
            "1562/1562 [==============================] - 29s 19ms/step - loss: 0.0030 - val_loss: 0.0028 - lr: 0.0010\n",
            "Epoch 3/50\n",
            "1562/1562 [==============================] - 29s 18ms/step - loss: 0.0027 - val_loss: 0.0027 - lr: 0.0010\n",
            "Epoch 4/50\n",
            "1562/1562 [==============================] - 30s 19ms/step - loss: 0.0026 - val_loss: 0.0026 - lr: 0.0010\n",
            "Epoch 5/50\n",
            "1562/1562 [==============================] - 29s 18ms/step - loss: 0.0026 - val_loss: 0.0025 - lr: 0.0010\n",
            "Epoch 6/50\n",
            "1562/1562 [==============================] - 30s 19ms/step - loss: 0.0025 - val_loss: 0.0025 - lr: 0.0010\n",
            "Epoch 7/50\n",
            "1562/1562 [==============================] - 30s 19ms/step - loss: 0.0025 - val_loss: 0.0025 - lr: 0.0010\n",
            "Epoch 8/50\n",
            "1562/1562 [==============================] - 30s 19ms/step - loss: 0.0024 - val_loss: 0.0024 - lr: 0.0010\n",
            "Epoch 9/50\n",
            "1562/1562 [==============================] - 29s 19ms/step - loss: 0.0024 - val_loss: 0.0026 - lr: 0.0010\n",
            "Epoch 10/50\n",
            "1562/1562 [==============================] - 30s 19ms/step - loss: 0.0024 - val_loss: 0.0024 - lr: 0.0010\n",
            "Epoch 11/50\n",
            "1562/1562 [==============================] - 29s 19ms/step - loss: 0.0024 - val_loss: 0.0024 - lr: 0.0010\n",
            "Epoch 12/50\n",
            "1562/1562 [==============================] - 29s 19ms/step - loss: 0.0023 - val_loss: 0.0023 - lr: 0.0010\n",
            "Epoch 13/50\n",
            "1562/1562 [==============================] - 29s 19ms/step - loss: 0.0023 - val_loss: 0.0024 - lr: 0.0010\n",
            "Epoch 14/50\n",
            "1562/1562 [==============================] - 31s 20ms/step - loss: 0.0023 - val_loss: 0.0024 - lr: 0.0010\n",
            "Epoch 15/50\n",
            "1562/1562 [==============================] - 29s 19ms/step - loss: 0.0023 - val_loss: 0.0023 - lr: 0.0010\n",
            "Epoch 16/50\n",
            "1562/1562 [==============================] - 29s 18ms/step - loss: 0.0023 - val_loss: 0.0023 - lr: 0.0010\n",
            "Epoch 17/50\n",
            "1562/1562 [==============================] - 30s 19ms/step - loss: 0.0023 - val_loss: 0.0024 - lr: 0.0010\n",
            "Epoch 18/50\n",
            "1562/1562 [==============================] - 31s 20ms/step - loss: 0.0023 - val_loss: 0.0024 - lr: 0.0010\n",
            "Epoch 19/50\n",
            "1562/1562 [==============================] - 31s 20ms/step - loss: 0.0023 - val_loss: 0.0023 - lr: 0.0010\n",
            "Epoch 20/50\n",
            "1562/1562 [==============================] - 31s 20ms/step - loss: 0.0023 - val_loss: 0.0023 - lr: 0.0010\n",
            "Epoch 21/50\n",
            "1562/1562 [==============================] - 31s 20ms/step - loss: 0.0023 - val_loss: 0.0023 - lr: 0.0010\n",
            "Epoch 22/50\n",
            "1562/1562 [==============================] - 31s 20ms/step - loss: 0.0023 - val_loss: 0.0023 - lr: 0.0010\n",
            "Epoch 23/50\n",
            "1562/1562 [==============================] - 31s 20ms/step - loss: 0.0021 - val_loss: 0.0022 - lr: 1.0000e-04\n",
            "Epoch 24/50\n",
            "1562/1562 [==============================] - 31s 20ms/step - loss: 0.0021 - val_loss: 0.0022 - lr: 1.0000e-04\n",
            "Epoch 25/50\n",
            "1562/1562 [==============================] - 31s 20ms/step - loss: 0.0021 - val_loss: 0.0022 - lr: 1.0000e-04\n",
            "Epoch 26/50\n",
            "1562/1562 [==============================] - 30s 19ms/step - loss: 0.0021 - val_loss: 0.0022 - lr: 1.0000e-04\n",
            "Epoch 27/50\n",
            "1562/1562 [==============================] - 31s 20ms/step - loss: 0.0021 - val_loss: 0.0022 - lr: 1.0000e-04\n",
            "Epoch 28/50\n",
            "1562/1562 [==============================] - 31s 20ms/step - loss: 0.0021 - val_loss: 0.0022 - lr: 1.0000e-04\n",
            "Epoch 29/50\n",
            "1562/1562 [==============================] - 31s 20ms/step - loss: 0.0021 - val_loss: 0.0022 - lr: 1.0000e-04\n",
            "Epoch 30/50\n",
            "1562/1562 [==============================] - 31s 20ms/step - loss: 0.0021 - val_loss: 0.0022 - lr: 1.0000e-04\n",
            "Epoch 31/50\n",
            "1562/1562 [==============================] - 31s 20ms/step - loss: 0.0021 - val_loss: 0.0022 - lr: 1.0000e-04\n",
            "Epoch 32/50\n",
            "1562/1562 [==============================] - 31s 20ms/step - loss: 0.0021 - val_loss: 0.0022 - lr: 1.0000e-04\n",
            "Epoch 33/50\n",
            "1562/1562 [==============================] - 31s 20ms/step - loss: 0.0021 - val_loss: 0.0022 - lr: 1.0000e-04\n",
            "Epoch 34/50\n",
            "1562/1562 [==============================] - 31s 20ms/step - loss: 0.0021 - val_loss: 0.0022 - lr: 1.0000e-05\n",
            "Epoch 35/50\n",
            "1562/1562 [==============================] - 31s 20ms/step - loss: 0.0020 - val_loss: 0.0022 - lr: 1.0000e-05\n",
            "Epoch 36/50\n",
            "1562/1562 [==============================] - 31s 20ms/step - loss: 0.0020 - val_loss: 0.0022 - lr: 1.0000e-05\n",
            "Epoch 37/50\n",
            "1562/1562 [==============================] - 31s 20ms/step - loss: 0.0020 - val_loss: 0.0022 - lr: 1.0000e-05\n",
            "Epoch 38/50\n",
            "1562/1562 [==============================] - 31s 20ms/step - loss: 0.0020 - val_loss: 0.0022 - lr: 1.0000e-05\n",
            "Epoch 39/50\n",
            "1562/1562 [==============================] - 31s 20ms/step - loss: 0.0020 - val_loss: 0.0022 - lr: 1.0000e-05\n",
            "Epoch 40/50\n",
            "1562/1562 [==============================] - 31s 20ms/step - loss: 0.0020 - val_loss: 0.0022 - lr: 1.0000e-05\n",
            "Epoch 41/50\n",
            "1562/1562 [==============================] - 31s 20ms/step - loss: 0.0020 - val_loss: 0.0022 - lr: 1.0000e-05\n",
            "Epoch 42/50\n",
            "1562/1562 [==============================] - 30s 19ms/step - loss: 0.0020 - val_loss: 0.0022 - lr: 1.0000e-05\n",
            "Epoch 43/50\n",
            "1562/1562 [==============================] - 31s 20ms/step - loss: 0.0020 - val_loss: 0.0022 - lr: 1.0000e-05\n",
            "Epoch 44/50\n",
            "1562/1562 [==============================] - 31s 20ms/step - loss: 0.0020 - val_loss: 0.0022 - lr: 1.0000e-06\n",
            "Epoch 45/50\n",
            "1562/1562 [==============================] - 31s 20ms/step - loss: 0.0020 - val_loss: 0.0022 - lr: 1.0000e-06\n",
            "Epoch 46/50\n",
            "1562/1562 [==============================] - 31s 20ms/step - loss: 0.0020 - val_loss: 0.0022 - lr: 1.0000e-06\n",
            "Epoch 47/50\n",
            "1562/1562 [==============================] - 31s 20ms/step - loss: 0.0020 - val_loss: 0.0022 - lr: 1.0000e-06\n",
            "Epoch 48/50\n",
            "1562/1562 [==============================] - 30s 19ms/step - loss: 0.0020 - val_loss: 0.0022 - lr: 1.0000e-06\n",
            "Epoch 49/50\n",
            "1562/1562 [==============================] - 31s 20ms/step - loss: 0.0020 - val_loss: 0.0022 - lr: 1.0000e-06\n",
            "Epoch 50/50\n",
            "1562/1562 [==============================] - 31s 20ms/step - loss: 0.0020 - val_loss: 0.0022 - lr: 1.0000e-06\n"
          ]
        }
      ]
    },
    {
      "cell_type": "code",
      "source": [
        "def plot_history(training_history, n_epochs=None):\n",
        "    if not n_epochs:\n",
        "      n_epochs = len(training_history.history['loss'])\n",
        "\n",
        "    epochs = range(1,n_epochs+1)\n",
        "\n",
        "    plt.plot(epochs, training_history.history['loss'], label='train_loss')\n",
        "    plt.plot(epochs, training_history.history['val_loss'], label='val_loss')\n",
        "    plt.legend()\n",
        "    plt.grid()\n",
        "    plt.xlabel('Number of epochs')\n",
        "    plt.title('Loss')"
      ],
      "metadata": {
        "id": "5rMw2-M814oe"
      },
      "execution_count": null,
      "outputs": []
    },
    {
      "cell_type": "code",
      "source": [
        "plot_history(hist)"
      ],
      "metadata": {
        "colab": {
          "base_uri": "https://localhost:8080/",
          "height": 295
        },
        "outputId": "3fc37d4b-d4f0-4dd0-a087-aff8459d7a3e",
        "id": "8y0tDNpr14oe"
      },
      "execution_count": null,
      "outputs": [
        {
          "output_type": "display_data",
          "data": {
            "text/plain": [
              "<Figure size 432x288 with 1 Axes>"
            ],
            "image/png": "[encoded data removed]"
          },
          "metadata": {
            "needs_background": "light"
          }
        }
      ]
    },
    {
      "cell_type": "markdown",
      "source": [
        "Final score on the test set. Better than Convolutional autoencoder."
      ],
      "metadata": {
        "id": "ieU4zCSZN98W"
      }
    },
    {
      "cell_type": "code",
      "source": [
        "from tensorflow.keras.losses import MeanSquaredError\n",
        "mse = MeanSquaredError()\n",
        "mse(x_test, model.predict(x_test_blurred)).numpy()"
      ],
      "metadata": {
        "colab": {
          "base_uri": "https://localhost:8080/"
        },
        "outputId": "cf6b93f4-6a39-4a54-e497-b88d7e931417",
        "id": "_tA1Bspk14of"
      },
      "execution_count": null,
      "outputs": [
        {
          "output_type": "execute_result",
          "data": {
            "text/plain": [
              "0.0022404054"
            ]
          },
          "metadata": {},
          "execution_count": 19
        }
      ]
    }
  ]
}