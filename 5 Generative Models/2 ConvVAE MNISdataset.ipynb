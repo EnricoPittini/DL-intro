{
 "cells": [
  {
   "cell_type": "markdown",
   "id": "5e3597e5",
   "metadata": {},
   "source": [
    "# ConvVAE MNISTdataset"
   ]
  },
  {
   "cell_type": "markdown",
   "id": "09e8565b",
   "metadata": {},
   "source": [
    "In the previous notebook we have seen the implementation of a Dense VAE. Now we see a Conv VAE (i.e. CVAE)."
   ]
  },
  {
   "cell_type": "markdown",
   "id": "f43f96ff",
   "metadata": {},
   "source": [
    "https://www.tensorflow.org/tutorials/generative/cvae"
   ]
  },
  {
   "cell_type": "code",
   "execution_count": 1,
   "id": "696cb2cc",
   "metadata": {},
   "outputs": [],
   "source": [
    "# Utilities\n",
    "import numpy as np\n",
    "import matplotlib.pyplot as plt\n",
    "\n",
    "# Deep Learning\n",
    "import tensorflow as tf\n",
    "from tensorflow import keras\n",
    "from tensorflow.keras import backend as K\n",
    "\n",
    "# Import keras dataset Mnist\n",
    "from tensorflow.keras.datasets import mnist"
   ]
  },
  {
   "cell_type": "markdown",
   "id": "0db2afcd",
   "metadata": {},
   "source": [
    "### Dataset"
   ]
  },
  {
   "cell_type": "code",
   "execution_count": 2,
   "id": "6d4cdbee",
   "metadata": {},
   "outputs": [],
   "source": [
    "(x_train, y_train), (x_test, y_test) = mnist.load_data()"
   ]
  },
  {
   "cell_type": "markdown",
   "id": "74c89127",
   "metadata": {},
   "source": [
    "Normalization"
   ]
  },
  {
   "cell_type": "code",
   "execution_count": 3,
   "id": "59c5ac70",
   "metadata": {},
   "outputs": [],
   "source": [
    "x_train = x_train / 255.0\n",
    "x_test = x_test / 255.0"
   ]
  },
  {
   "cell_type": "markdown",
   "id": "e3fc15fc",
   "metadata": {},
   "source": [
    "Adding the channels dimension"
   ]
  },
  {
   "cell_type": "code",
   "execution_count": 4,
   "id": "50f64d4a",
   "metadata": {},
   "outputs": [],
   "source": [
    "x_train = np.reshape(x_train, (60000, 28, 28, 1)) \n",
    "\n",
    "x_test = np.reshape(x_test, (10000, 28, 28, 1))"
   ]
  },
  {
   "cell_type": "markdown",
   "id": "11e0f322",
   "metadata": {},
   "source": [
    "### Latent dimension\n",
    "\n",
    "We decide since now the dimensionality of $z$: $16$."
   ]
  },
  {
   "cell_type": "code",
   "execution_count": 5,
   "id": "0951213d",
   "metadata": {},
   "outputs": [],
   "source": [
    "latent_dim = 16"
   ]
  },
  {
   "cell_type": "markdown",
   "id": "918a579a",
   "metadata": {},
   "source": [
    "### Sampling function\n",
    "\n",
    "We define the sampling function. Given the mean $\\mu(z|X)$ and std $\\sigma(z|X)$ produced by the encoder, it samples a latent encoding $z$, which is the variable to give to the generator.\n",
    "\n",
    "$z$ is computed as $\\mu(z|X)+\\sigma(z|X)*\\epsilon$, where $\\epsilon$ is sampled from the normal distribution $N(0,1)$.\n",
    "\n",
    "It is important to remark that we are talking about multivariate distributions: $z$, $\\mu(z|X)$, $\\sigma(z|X)$ and $\\epsilon$ are vectors of values. They are all vectors of dimensions $16$."
   ]
  },
  {
   "cell_type": "code",
   "execution_count": 6,
   "id": "fb0405c4",
   "metadata": {},
   "outputs": [],
   "source": [
    "def sampling(inputs):\n",
    "    z_mean, z_log_var = inputs\n",
    "    epsilon = K.random_normal(shape=(K.shape(z_mean)[0], latent_dim), mean=0., stddev=1.)\n",
    "    return z_mean + K.exp(z_log_var / 2) * epsilon"
   ]
  },
  {
   "cell_type": "markdown",
   "id": "3cf03e71",
   "metadata": {},
   "source": [
    "### Encoder"
   ]
  },
  {
   "cell_type": "markdown",
   "id": "587a6770",
   "metadata": {},
   "source": [
    "The encoder takes in input an image: $28x28x1$ values. Structured input.\n",
    "\n",
    "We produce two outputs: the mean $\\mu(z|X)$ and the std $\\sigma(z|X)$. Both of them are flat vectors with $16$ values.\n",
    "\n",
    "Actually, the encoder produces the log-variance $log(\\sigma(z|X)^2)$ instead of the std $\\sigma(z|X)$."
   ]
  },
  {
   "cell_type": "markdown",
   "id": "eda9bfbb",
   "metadata": {},
   "source": [
    "The structure is the following.\n",
    "- Some Conv layers\n",
    "- Flattening\n",
    "- Dense layer for producing $\\mu(z|X)$ and Dense layer for producing $log(\\sigma(z|X)^2)$."
   ]
  },
  {
   "cell_type": "code",
   "execution_count": 13,
   "id": "c43702f3",
   "metadata": {},
   "outputs": [],
   "source": [
    "from tensorflow.keras.layers import Input, Conv2D, Flatten, Dense\n",
    "from tensorflow.keras import Model"
   ]
  },
  {
   "cell_type": "code",
   "execution_count": 74,
   "id": "c09474b2",
   "metadata": {},
   "outputs": [],
   "source": [
    "# Input image x\n",
    "xin = Input(shape=(28,28,1))\n",
    "\n",
    "# Conv layers\n",
    "x = Conv2D(filters=16, kernel_size=(3,3), strides=(2,2), padding='same', activation='relu')(xin)\n",
    "x = Conv2D(filters=32, kernel_size=(3,3), strides=(2,2), padding='same', activation='relu')(x)\n",
    "\n",
    "# Flattening from 7x7x32 to 1568\n",
    "x = Flatten()(x)\n",
    "\n",
    "# Producing the mean and the log-variance\n",
    "z_mean = Dense(units=latent_dim)(x)  # From 1568 values to 16\n",
    "z_log_var = Dense(units=latent_dim)(x)  # From 1568 values to 16\n",
    "\n",
    "# Encoder model\n",
    "encoder = Model(inputs=xin, outputs=[z_mean, z_log_var], name='Encoder')"
   ]
  },
  {
   "cell_type": "code",
   "execution_count": 75,
   "id": "5a1b9e21",
   "metadata": {},
   "outputs": [
    {
     "name": "stdout",
     "output_type": "stream",
     "text": [
      "Model: \"Encoder\"\n",
      "__________________________________________________________________________________________________\n",
      " Layer (type)                   Output Shape         Param #     Connected to                     \n",
      "==================================================================================================\n",
      " input_19 (InputLayer)          [(None, 28, 28, 1)]  0           []                               \n",
      "                                                                                                  \n",
      " conv2d_12 (Conv2D)             (None, 14, 14, 16)   160         ['input_19[0][0]']               \n",
      "                                                                                                  \n",
      " conv2d_13 (Conv2D)             (None, 7, 7, 32)     4640        ['conv2d_12[0][0]']              \n",
      "                                                                                                  \n",
      " flatten_4 (Flatten)            (None, 1568)         0           ['conv2d_13[0][0]']              \n",
      "                                                                                                  \n",
      " dense_11 (Dense)               (None, 16)           25104       ['flatten_4[0][0]']              \n",
      "                                                                                                  \n",
      " dense_12 (Dense)               (None, 16)           25104       ['flatten_4[0][0]']              \n",
      "                                                                                                  \n",
      "==================================================================================================\n",
      "Total params: 55,008\n",
      "Trainable params: 55,008\n",
      "Non-trainable params: 0\n",
      "__________________________________________________________________________________________________\n"
     ]
    }
   ],
   "source": [
    "encoder.summary()"
   ]
  },
  {
   "cell_type": "markdown",
   "id": "6eb28137",
   "metadata": {},
   "source": [
    "### Decoder\n",
    "\n",
    "It takes as input a latent encoding $z$: dimension $16$. It generates a reconstructed image $\\hat{X}$: dimensions $28x28x1$. \n",
    "\n",
    "The last layer of the decoder uses the **sigmoid** activation function, since we want values between $0$ and $1$."
   ]
  },
  {
   "cell_type": "markdown",
   "id": "e71415d1",
   "metadata": {},
   "source": [
    "So, it starts from a flat input of dimension $16$, and it generates a structured output of dimensions $28x28x1$.\n",
    "\n",
    "For doing so, we follow this pattern.\n",
    "1. Input $z$: dimension $16$.\n",
    "2. Dense layer, producing $7*7*32=1568$ values.\n",
    "\n",
    "Now, we want to increase the spatial dimensions. For doing so, we use Transposed Conv layers.\n",
    "\n",
    "3. Reshaping from flat dimension $1568$ to dimensions $14, 14, 32$. \n",
    "4. Transposed Conv layer, with output dimensions $28, 28, 16$.\n",
    "5. Transposed Conv layer, with output dimensions $28, 28, 1$. The output is the generated image $\\hat{X}$. THe activation function is **sigmoid**, beacuse we want to generate values in the range $[0,1]$."
   ]
  },
  {
   "cell_type": "markdown",
   "id": "a38bfac3",
   "metadata": {},
   "source": [
    "Very simmetric with respect to the encoder."
   ]
  },
  {
   "cell_type": "markdown",
   "id": "49300ccd",
   "metadata": {},
   "source": [
    "The decoder is our generator."
   ]
  },
  {
   "cell_type": "markdown",
   "id": "f8a4964c",
   "metadata": {},
   "source": [
    "The structure is the following.\n",
    "- "
   ]
  },
  {
   "cell_type": "code",
   "execution_count": 52,
   "id": "cd7946c5",
   "metadata": {},
   "outputs": [],
   "source": [
    "from tensorflow.keras.layers import Reshape, Conv2DTranspose"
   ]
  },
  {
   "cell_type": "code",
   "execution_count": 76,
   "id": "4f3b551a",
   "metadata": {},
   "outputs": [],
   "source": [
    "# Input: latent encoding z\n",
    "zin = Input(shape=(latent_dim,))\n",
    "\n",
    "# Dense layer: from 16 values to 1568\n",
    "z = Dense(units=1568)(zin)\n",
    "\n",
    "# Reshaping from 1568 to 7x7x32\n",
    "z = Reshape((7, 7, 32))(z)\n",
    "\n",
    "# Transpose Conv layers\n",
    "z = Conv2DTranspose(filters=32, kernel_size=(3,3), strides=(2,2), padding='same', activation='relu')(z)\n",
    "z = Conv2DTranspose(filters=16, kernel_size=(3,3), strides=(2,2), padding='same', activation='relu')(z)\n",
    "\n",
    "# Generated image\n",
    "x_hat = Conv2DTranspose(filters=1, kernel_size=(3,3), strides=(1,1), padding='same', activation='sigmoid')(z)\n",
    "\n",
    "decoder = Model(inputs=zin, outputs=x_hat, name='Decoder')"
   ]
  },
  {
   "cell_type": "code",
   "execution_count": 77,
   "id": "9c43c304",
   "metadata": {},
   "outputs": [
    {
     "name": "stdout",
     "output_type": "stream",
     "text": [
      "Model: \"Decoder\"\n",
      "_________________________________________________________________\n",
      " Layer (type)                Output Shape              Param #   \n",
      "=================================================================\n",
      " input_20 (InputLayer)       [(None, 16)]              0         \n",
      "                                                                 \n",
      " dense_13 (Dense)            (None, 1568)              26656     \n",
      "                                                                 \n",
      " reshape_5 (Reshape)         (None, 7, 7, 32)          0         \n",
      "                                                                 \n",
      " conv2d_transpose_8 (Conv2DT  (None, 14, 14, 32)       9248      \n",
      " ranspose)                                                       \n",
      "                                                                 \n",
      " conv2d_transpose_9 (Conv2DT  (None, 28, 28, 16)       4624      \n",
      " ranspose)                                                       \n",
      "                                                                 \n",
      " conv2d_transpose_10 (Conv2D  (None, 28, 28, 1)        145       \n",
      " Transpose)                                                      \n",
      "                                                                 \n",
      "=================================================================\n",
      "Total params: 40,673\n",
      "Trainable params: 40,673\n",
      "Non-trainable params: 0\n",
      "_________________________________________________________________\n"
     ]
    }
   ],
   "source": [
    "decoder.summary()"
   ]
  },
  {
   "cell_type": "markdown",
   "id": "be3b1500",
   "metadata": {},
   "source": [
    "### Sampling layer\n",
    "\n",
    "Between the encoder and the decoder, we have to put the sampling operation: fiven the mean $\\mu(z|X)$ and the log-variance $log(\\sigma(z|X)^2)$, it generates a sample $z$.\n",
    "\n",
    "This is implemented using a layer. In particular, in keras we can use the `lambda` layer for building a layer starting from a function. (In our case, the `sampling` function)."
   ]
  },
  {
   "cell_type": "code",
   "execution_count": 23,
   "id": "431704e7",
   "metadata": {},
   "outputs": [],
   "source": [
    "from tensorflow.keras.layers import Lambda"
   ]
  },
  {
   "cell_type": "markdown",
   "id": "733013fb",
   "metadata": {},
   "source": [
    "### VAE model\n",
    "\n",
    "Finally, let's define the VAE model.\n",
    "1. We use the encoder as a single layer.\n",
    "2. We define the sampling layer.\n",
    "3. We use the decoder as a single layer."
   ]
  },
  {
   "cell_type": "code",
   "execution_count": 78,
   "id": "89e5d147",
   "metadata": {},
   "outputs": [],
   "source": [
    "x = Input(shape=(28,28,1))\n",
    "\n",
    "z_mean, z_log_var = encoder(x)\n",
    "\n",
    "z = Lambda(function=sampling, output_shape=(latent_dim,), name='Sampling')([z_mean, z_log_var])\n",
    "\n",
    "x_hat = decoder(z)\n",
    "\n",
    "vae = Model(inputs=x, outputs=x_hat, name='VAE')"
   ]
  },
  {
   "cell_type": "code",
   "execution_count": 79,
   "id": "e12442e3",
   "metadata": {},
   "outputs": [
    {
     "name": "stdout",
     "output_type": "stream",
     "text": [
      "Model: \"VAE\"\n",
      "__________________________________________________________________________________________________\n",
      " Layer (type)                   Output Shape         Param #     Connected to                     \n",
      "==================================================================================================\n",
      " input_21 (InputLayer)          [(None, 28, 28, 1)]  0           []                               \n",
      "                                                                                                  \n",
      " Encoder (Functional)           [(None, 16),         55008       ['input_21[0][0]']               \n",
      "                                 (None, 16)]                                                      \n",
      "                                                                                                  \n",
      " Sampling (Lambda)              (None, 16)           0           ['Encoder[0][0]',                \n",
      "                                                                  'Encoder[0][1]']                \n",
      "                                                                                                  \n",
      " Decoder (Functional)           (None, 28, 28, 1)    40673       ['Sampling[0][0]']               \n",
      "                                                                                                  \n",
      "==================================================================================================\n",
      "Total params: 95,681\n",
      "Trainable params: 95,681\n",
      "Non-trainable params: 0\n",
      "__________________________________________________________________________________________________\n"
     ]
    }
   ],
   "source": [
    "vae.summary()"
   ]
  },
  {
   "cell_type": "markdown",
   "id": "014a266e",
   "metadata": {},
   "source": [
    "### Loss function"
   ]
  },
  {
   "cell_type": "markdown",
   "id": "d0affd2a",
   "metadata": {},
   "source": [
    "Sum between two components: reconstruction error and KL divergence."
   ]
  },
  {
   "cell_type": "code",
   "execution_count": 68,
   "id": "4464f05d",
   "metadata": {},
   "outputs": [],
   "source": [
    "from tensorflow.keras import metrics"
   ]
  },
  {
   "cell_type": "code",
   "execution_count": 80,
   "id": "6787ff41",
   "metadata": {},
   "outputs": [],
   "source": [
    "# We define our loss function\n",
    "rec_loss = 784 * metrics.binary_crossentropy(tf.reshape(x,shape=[-1]), tf.reshape(x_hat,shape=[-1]))\n",
    "kl_loss = - 0.5 * K.sum(1 + z_log_var - K.square(z_mean) - K.exp(z_log_var), axis=-1)\n",
    "vae_loss = K.mean(rec_loss + kl_loss)"
   ]
  },
  {
   "cell_type": "code",
   "execution_count": 81,
   "id": "5c25447f",
   "metadata": {},
   "outputs": [],
   "source": [
    "# We add the loss into our model\n",
    "vae.add_loss(vae_loss)"
   ]
  },
  {
   "cell_type": "markdown",
   "id": "f8e75299",
   "metadata": {},
   "source": [
    "### Compile"
   ]
  },
  {
   "cell_type": "code",
   "execution_count": 82,
   "id": "f06685e4",
   "metadata": {},
   "outputs": [],
   "source": [
    "vae.compile(optimizer='adam')"
   ]
  },
  {
   "cell_type": "markdown",
   "id": "21356c9b",
   "metadata": {},
   "source": [
    "### Training"
   ]
  },
  {
   "cell_type": "code",
   "execution_count": 83,
   "id": "f49f874e",
   "metadata": {},
   "outputs": [],
   "source": [
    "batch_size = 100\n",
    "epochs = 50"
   ]
  },
  {
   "cell_type": "code",
   "execution_count": 84,
   "id": "108a8968",
   "metadata": {},
   "outputs": [
    {
     "name": "stdout",
     "output_type": "stream",
     "text": [
      "Epoch 1/50\n",
      "600/600 [==============================] - 23s 36ms/step - loss: 164.6727 - val_loss: 117.9775\n",
      "Epoch 2/50\n",
      "600/600 [==============================] - 23s 38ms/step - loss: 114.7415 - val_loss: 110.3856\n",
      "Epoch 3/50\n",
      "600/600 [==============================] - 21s 35ms/step - loss: 109.9513 - val_loss: 107.5480\n",
      "Epoch 4/50\n",
      "600/600 [==============================] - 21s 35ms/step - loss: 107.7055 - val_loss: 105.8013\n",
      "Epoch 5/50\n",
      "600/600 [==============================] - 22s 36ms/step - loss: 106.2333 - val_loss: 105.1759\n",
      "Epoch 6/50\n",
      "600/600 [==============================] - 21s 35ms/step - loss: 105.2029 - val_loss: 104.2280\n",
      "Epoch 7/50\n",
      "600/600 [==============================] - 25s 41ms/step - loss: 104.4876 - val_loss: 103.3176\n",
      "Epoch 8/50\n",
      "600/600 [==============================] - 23s 38ms/step - loss: 103.8351 - val_loss: 102.9411\n",
      "Epoch 9/50\n",
      "600/600 [==============================] - 22s 37ms/step - loss: 103.3393 - val_loss: 102.5149\n",
      "Epoch 10/50\n",
      "600/600 [==============================] - 23s 39ms/step - loss: 102.8562 - val_loss: 102.3660\n",
      "Epoch 11/50\n",
      "600/600 [==============================] - 23s 38ms/step - loss: 102.5106 - val_loss: 101.7799\n",
      "Epoch 12/50\n",
      "600/600 [==============================] - 22s 37ms/step - loss: 102.1791 - val_loss: 101.4301\n",
      "Epoch 13/50\n",
      "600/600 [==============================] - 20s 33ms/step - loss: 101.8668 - val_loss: 101.2044\n",
      "Epoch 14/50\n",
      "600/600 [==============================] - 22s 37ms/step - loss: 101.6171 - val_loss: 101.3268\n",
      "Epoch 15/50\n",
      "600/600 [==============================] - 22s 37ms/step - loss: 101.3646 - val_loss: 100.8749\n",
      "Epoch 16/50\n",
      "600/600 [==============================] - 20s 34ms/step - loss: 101.1566 - val_loss: 100.4998\n",
      "Epoch 17/50\n",
      "600/600 [==============================] - 23s 38ms/step - loss: 100.9377 - val_loss: 100.2673\n",
      "Epoch 18/50\n",
      "600/600 [==============================] - 21s 35ms/step - loss: 100.7619 - val_loss: 100.3779\n",
      "Epoch 19/50\n",
      "600/600 [==============================] - 23s 39ms/step - loss: 100.5866 - val_loss: 100.0719\n",
      "Epoch 20/50\n",
      "600/600 [==============================] - 23s 38ms/step - loss: 100.5005 - val_loss: 100.0265\n",
      "Epoch 21/50\n",
      "600/600 [==============================] - 21s 35ms/step - loss: 100.3447 - val_loss: 99.8727\n",
      "Epoch 22/50\n",
      "600/600 [==============================] - 22s 36ms/step - loss: 100.1973 - val_loss: 99.6059\n",
      "Epoch 23/50\n",
      "600/600 [==============================] - 23s 39ms/step - loss: 100.0872 - val_loss: 99.5751\n",
      "Epoch 24/50\n",
      "600/600 [==============================] - 21s 35ms/step - loss: 99.9870 - val_loss: 99.4606\n",
      "Epoch 25/50\n",
      "600/600 [==============================] - 21s 34ms/step - loss: 99.8618 - val_loss: 99.4900\n",
      "Epoch 26/50\n",
      "600/600 [==============================] - 21s 34ms/step - loss: 99.7471 - val_loss: 99.3297\n",
      "Epoch 27/50\n",
      "600/600 [==============================] - 20s 33ms/step - loss: 99.6903 - val_loss: 99.2704\n",
      "Epoch 28/50\n",
      "600/600 [==============================] - 20s 34ms/step - loss: 99.5484 - val_loss: 99.1220\n",
      "Epoch 29/50\n",
      "600/600 [==============================] - 20s 33ms/step - loss: 99.5341 - val_loss: 99.1583\n",
      "Epoch 30/50\n",
      "600/600 [==============================] - 19s 32ms/step - loss: 99.4028 - val_loss: 99.0139\n",
      "Epoch 31/50\n",
      "600/600 [==============================] - 20s 33ms/step - loss: 99.3655 - val_loss: 99.2310\n",
      "Epoch 32/50\n",
      "600/600 [==============================] - 23s 38ms/step - loss: 99.2865 - val_loss: 99.0496\n",
      "Epoch 33/50\n",
      "600/600 [==============================] - 23s 39ms/step - loss: 99.2289 - val_loss: 98.9809\n",
      "Epoch 34/50\n",
      "600/600 [==============================] - 24s 39ms/step - loss: 99.1690 - val_loss: 98.7991\n",
      "Epoch 35/50\n",
      "600/600 [==============================] - 22s 36ms/step - loss: 99.1093 - val_loss: 99.0078\n",
      "Epoch 36/50\n",
      "600/600 [==============================] - 22s 36ms/step - loss: 99.0605 - val_loss: 98.7925\n",
      "Epoch 37/50\n",
      "600/600 [==============================] - 22s 36ms/step - loss: 99.0026 - val_loss: 98.9604\n",
      "Epoch 38/50\n",
      "600/600 [==============================] - 23s 39ms/step - loss: 98.9414 - val_loss: 98.5283\n",
      "Epoch 39/50\n",
      "600/600 [==============================] - 22s 36ms/step - loss: 98.8797 - val_loss: 98.7208\n",
      "Epoch 40/50\n",
      "600/600 [==============================] - 22s 36ms/step - loss: 98.8461 - val_loss: 98.6104\n",
      "Epoch 41/50\n",
      "600/600 [==============================] - 22s 37ms/step - loss: 98.7920 - val_loss: 98.5866\n",
      "Epoch 42/50\n",
      "600/600 [==============================] - 20s 34ms/step - loss: 98.7958 - val_loss: 98.5618\n",
      "Epoch 43/50\n",
      "600/600 [==============================] - 22s 37ms/step - loss: 98.6805 - val_loss: 98.4751\n",
      "Epoch 44/50\n",
      "600/600 [==============================] - 21s 35ms/step - loss: 98.6517 - val_loss: 98.7548\n",
      "Epoch 45/50\n",
      "600/600 [==============================] - 20s 34ms/step - loss: 98.6653 - val_loss: 98.4183\n",
      "Epoch 46/50\n",
      "600/600 [==============================] - 22s 36ms/step - loss: 98.5944 - val_loss: 98.3775\n",
      "Epoch 47/50\n",
      "600/600 [==============================] - 21s 35ms/step - loss: 98.5902 - val_loss: 98.3714\n",
      "Epoch 48/50\n",
      "600/600 [==============================] - 22s 37ms/step - loss: 98.5130 - val_loss: 98.2768\n",
      "Epoch 49/50\n",
      "600/600 [==============================] - 21s 34ms/step - loss: 98.4963 - val_loss: 98.1465\n",
      "Epoch 50/50\n",
      "600/600 [==============================] - 21s 34ms/step - loss: 98.4583 - val_loss: 98.2614\n"
     ]
    },
    {
     "data": {
      "text/plain": [
       "<keras.callbacks.History at 0x1553e5b2e80>"
      ]
     },
     "execution_count": 84,
     "metadata": {},
     "output_type": "execute_result"
    }
   ],
   "source": [
    "vae.fit(x_train, None, epochs=epochs, batch_size=batch_size, validation_data=(x_test, None))"
   ]
  },
  {
   "cell_type": "markdown",
   "id": "d30f1bed",
   "metadata": {},
   "source": [
    "Better loss value with respect to the Dense VAE."
   ]
  },
  {
   "cell_type": "markdown",
   "id": "bd274069",
   "metadata": {},
   "source": [
    "### Generating MNIST images"
   ]
  },
  {
   "cell_type": "markdown",
   "id": "b0305e1a",
   "metadata": {},
   "source": [
    "Now we want to generate some MNIST images. How to do that?\n",
    "\n",
    "The decoder is our generator. Given a latent encoding $z$, it generates an image $\\hat{X}$ compliant with our dataset: so, a MNIST image.\n",
    "\n",
    "The latent encoding $z$ is sampled from the latent space $N(0,1)$."
   ]
  },
  {
   "cell_type": "markdown",
   "id": "85530279",
   "metadata": {},
   "source": [
    "We want to generate $n$ MNIST images."
   ]
  },
  {
   "cell_type": "code",
   "execution_count": 85,
   "id": "326f3827",
   "metadata": {},
   "outputs": [],
   "source": [
    "n = 10"
   ]
  },
  {
   "cell_type": "code",
   "execution_count": 86,
   "id": "a01176ea",
   "metadata": {},
   "outputs": [
    {
     "name": "stdout",
     "output_type": "stream",
     "text": [
      "z_sample shape: (10, 16)\n",
      "generated_images shape: (10, 28, 28, 1)\n"
     ]
    }
   ],
   "source": [
    "# Sample of n latent vectors 'z'. Each of them is a vector with 'latent_dim' values.\n",
    "z_sample = np.random.normal(size=(n, latent_dim))\n",
    "print('z_sample shape:', z_sample.shape)\n",
    "\n",
    "# n generated MNISt images\n",
    "generated_images = decoder.predict(z_sample)\n",
    "print('generated_images shape:', generated_images.shape)"
   ]
  },
  {
   "cell_type": "code",
   "execution_count": 87,
   "id": "f34d51e7",
   "metadata": {
    "scrolled": true
   },
   "outputs": [
    {
     "data": {
      "image/png": "[encoded data removed]",
      "text/plain": [
       "<Figure size 1440x144 with 10 Axes>"
      ]
     },
     "metadata": {
      "needs_background": "light"
     },
     "output_type": "display_data"
    }
   ],
   "source": [
    "plt.figure(figsize=(2*n, 2))\n",
    "for i in range(n):\n",
    "  ax = plt.subplot(1, n, i + 1)\n",
    "  plt.imshow(generated_images[i].reshape(28, 28))\n",
    "  plt.gray()\n",
    "  ax.get_xaxis().set_visible(False)\n",
    "  ax.get_yaxis().set_visible(False)\n",
    "plt.show()"
   ]
  },
  {
   "cell_type": "markdown",
   "id": "948a9a81",
   "metadata": {},
   "source": [
    "Another generation of $10$ images."
   ]
  },
  {
   "cell_type": "code",
   "execution_count": 118,
   "id": "5487d126",
   "metadata": {},
   "outputs": [
    {
     "name": "stdout",
     "output_type": "stream",
     "text": [
      "z_sample shape: (10, 16)\n",
      "generated_images shape: (10, 28, 28, 1)\n"
     ]
    }
   ],
   "source": [
    "# Sample of n latent vectors 'z'. Each of them is a vector with 'latent_dim' values.\n",
    "z_sample = np.random.normal(size=(n, latent_dim))\n",
    "print('z_sample shape:', z_sample.shape)\n",
    "\n",
    "# n generated MNISt images\n",
    "generated_images = decoder.predict(z_sample)\n",
    "print('generated_images shape:', generated_images.shape)"
   ]
  },
  {
   "cell_type": "code",
   "execution_count": 119,
   "id": "6936bf91",
   "metadata": {},
   "outputs": [
    {
     "data": {
      "image/png": "[encoded data removed]",
      "text/plain": [
       "<Figure size 1440x144 with 10 Axes>"
      ]
     },
     "metadata": {
      "needs_background": "light"
     },
     "output_type": "display_data"
    }
   ],
   "source": [
    "plt.figure(figsize=(2*n, 2))\n",
    "for i in range(n):\n",
    "  ax = plt.subplot(1, n, i + 1)\n",
    "  plt.imshow(generated_images[i].reshape(28, 28))\n",
    "  plt.gray()\n",
    "  ax.get_xaxis().set_visible(False)\n",
    "  ax.get_yaxis().set_visible(False)\n",
    "plt.show()"
   ]
  },
  {
   "cell_type": "markdown",
   "id": "3e19f1c3",
   "metadata": {},
   "source": [
    "Qualitative better than Dense VAE."
   ]
  }
 ],
 "metadata": {
  "kernelspec": {
   "display_name": "Python 3",
   "language": "python",
   "name": "python3"
  },
  "language_info": {
   "codemirror_mode": {
    "name": "ipython",
    "version": 3
   },
   "file_extension": ".py",
   "mimetype": "text/x-python",
   "name": "python",
   "nbconvert_exporter": "python",
   "pygments_lexer": "ipython3",
   "version": "3.8.8"
  }
 },
 "nbformat": 4,
 "nbformat_minor": 5
}
